{
 "cells": [
  {
   "cell_type": "code",
   "execution_count": null,
   "id": "8cd89b6d-1f0a-4a26-818b-29c53dde0b4c",
   "metadata": {},
   "outputs": [
    {
     "name": "stderr",
     "output_type": "stream",
     "text": [
      "WebSocket transport not available. Install simple-websocket for improved performance.\n",
      "Werkzeug appears to be used in a production deployment. Consider switching to a production web server instead.\n"
     ]
    },
    {
     "name": "stdout",
     "output_type": "stream",
     "text": [
      " * Serving Flask app 'permutation_set_server'\n",
      " * Debug mode: off\n"
     ]
    },
    {
     "name": "stderr",
     "output_type": "stream",
     "text": [
      "\u001b[31m\u001b[1mWARNING: This is a development server. Do not use it in a production deployment. Use a production WSGI server instead.\u001b[0m\n",
      " * Running on all addresses (0.0.0.0)\n",
      " * Running on http://127.0.0.1:5001\n",
      " * Running on http://10.60.1.41:5001\n",
      "\u001b[33mPress CTRL+C to quit\u001b[0m\n",
      "The WebSocket transport is not available, you must install a WebSocket server that is compatible with your async mode to enable it. See the documentation for details. (further occurrences of this error will be logged with level INFO)\n",
      "127.0.0.1 - - [31/Jul/2023 12:45:11] \"GET /socket.io/?EIO=4&transport=polling&t=OcjUwwr HTTP/1.1\" 200 -\n",
      "127.0.0.1 - - [31/Jul/2023 12:45:11] \"POST /socket.io/?EIO=4&transport=polling&t=OcjUwyb&sid=m_4Qox3RfxF4Qo27AAAA HTTP/1.1\" 200 -\n",
      "127.0.0.1 - - [31/Jul/2023 12:45:11] \"GET /socket.io/?EIO=4&transport=polling&t=OcjUwyc&sid=m_4Qox3RfxF4Qo27AAAA HTTP/1.1\" 200 -\n"
     ]
    },
    {
     "name": "stdout",
     "output_type": "stream",
     "text": [
      "None\n"
     ]
    },
    {
     "name": "stderr",
     "output_type": "stream",
     "text": [
      "127.0.0.1 - - [31/Jul/2023 12:45:15] \"POST /socket.io/?EIO=4&transport=polling&t=OcjUx-v&sid=m_4Qox3RfxF4Qo27AAAA HTTP/1.1\" 200 -\n",
      "127.0.0.1 - - [31/Jul/2023 12:45:15] \"GET /socket.io/?EIO=4&transport=polling&t=OcjUwyo&sid=m_4Qox3RfxF4Qo27AAAA HTTP/1.1\" 200 -\n",
      "127.0.0.1 - - [31/Jul/2023 12:45:15] \"GET /socket.io/?EIO=4&transport=polling&t=OcjUx_l HTTP/1.1\" 200 -\n",
      "127.0.0.1 - - [31/Jul/2023 12:45:15] \"POST /socket.io/?EIO=4&transport=polling&t=OcjUx_w&sid=BuLZp36k1cQsXnUyAAAC HTTP/1.1\" 200 -\n",
      "127.0.0.1 - - [31/Jul/2023 12:45:15] \"GET /socket.io/?EIO=4&transport=polling&t=OcjUx_w.0&sid=BuLZp36k1cQsXnUyAAAC HTTP/1.1\" 200 -\n"
     ]
    },
    {
     "name": "stdout",
     "output_type": "stream",
     "text": [
      "None\n"
     ]
    },
    {
     "name": "stderr",
     "output_type": "stream",
     "text": [
      "127.0.0.1 - - [31/Jul/2023 12:45:40] \"GET /socket.io/?EIO=4&transport=polling&t=OcjUy0B&sid=BuLZp36k1cQsXnUyAAAC HTTP/1.1\" 200 -\n",
      "127.0.0.1 - - [31/Jul/2023 12:45:40] \"POST /socket.io/?EIO=4&transport=polling&t=OcjV26d&sid=BuLZp36k1cQsXnUyAAAC HTTP/1.1\" 200 -\n",
      "127.0.0.1 - - [31/Jul/2023 12:46:05] \"GET /socket.io/?EIO=4&transport=polling&t=OcjV26e&sid=BuLZp36k1cQsXnUyAAAC HTTP/1.1\" 200 -\n",
      "127.0.0.1 - - [31/Jul/2023 12:46:05] \"POST /socket.io/?EIO=4&transport=polling&t=OcjV8DM&sid=BuLZp36k1cQsXnUyAAAC HTTP/1.1\" 200 -\n",
      "127.0.0.1 - - [31/Jul/2023 12:46:30] \"GET /socket.io/?EIO=4&transport=polling&t=OcjV8DN&sid=BuLZp36k1cQsXnUyAAAC HTTP/1.1\" 200 -\n",
      "127.0.0.1 - - [31/Jul/2023 12:46:30] \"POST /socket.io/?EIO=4&transport=polling&t=OcjVEKC&sid=BuLZp36k1cQsXnUyAAAC HTTP/1.1\" 200 -\n",
      "127.0.0.1 - - [31/Jul/2023 12:46:55] \"GET /socket.io/?EIO=4&transport=polling&t=OcjVEKD&sid=BuLZp36k1cQsXnUyAAAC HTTP/1.1\" 200 -\n",
      "127.0.0.1 - - [31/Jul/2023 12:46:55] \"POST /socket.io/?EIO=4&transport=polling&t=OcjVKR1&sid=BuLZp36k1cQsXnUyAAAC HTTP/1.1\" 200 -\n",
      "127.0.0.1 - - [31/Jul/2023 12:47:20] \"GET /socket.io/?EIO=4&transport=polling&t=OcjVKR2&sid=BuLZp36k1cQsXnUyAAAC HTTP/1.1\" 200 -\n",
      "127.0.0.1 - - [31/Jul/2023 12:47:20] \"POST /socket.io/?EIO=4&transport=polling&t=OcjVQXr&sid=BuLZp36k1cQsXnUyAAAC HTTP/1.1\" 200 -\n",
      "127.0.0.1 - - [31/Jul/2023 12:47:45] \"GET /socket.io/?EIO=4&transport=polling&t=OcjVQXs&sid=BuLZp36k1cQsXnUyAAAC HTTP/1.1\" 200 -\n",
      "127.0.0.1 - - [31/Jul/2023 12:47:45] \"POST /socket.io/?EIO=4&transport=polling&t=OcjVWee&sid=BuLZp36k1cQsXnUyAAAC HTTP/1.1\" 200 -\n",
      "127.0.0.1 - - [31/Jul/2023 12:48:10] \"GET /socket.io/?EIO=4&transport=polling&t=OcjVWef&sid=BuLZp36k1cQsXnUyAAAC HTTP/1.1\" 200 -\n",
      "127.0.0.1 - - [31/Jul/2023 12:48:10] \"POST /socket.io/?EIO=4&transport=polling&t=OcjVclU&sid=BuLZp36k1cQsXnUyAAAC HTTP/1.1\" 200 -\n",
      "127.0.0.1 - - [31/Jul/2023 12:48:35] \"GET /socket.io/?EIO=4&transport=polling&t=OcjVclU.0&sid=BuLZp36k1cQsXnUyAAAC HTTP/1.1\" 200 -\n",
      "127.0.0.1 - - [31/Jul/2023 12:48:35] \"POST /socket.io/?EIO=4&transport=polling&t=OcjVisI&sid=BuLZp36k1cQsXnUyAAAC HTTP/1.1\" 200 -\n",
      "127.0.0.1 - - [31/Jul/2023 12:49:00] \"GET /socket.io/?EIO=4&transport=polling&t=OcjVisJ&sid=BuLZp36k1cQsXnUyAAAC HTTP/1.1\" 200 -\n",
      "127.0.0.1 - - [31/Jul/2023 12:49:00] \"POST /socket.io/?EIO=4&transport=polling&t=OcjVoz8&sid=BuLZp36k1cQsXnUyAAAC HTTP/1.1\" 200 -\n",
      "127.0.0.1 - - [31/Jul/2023 12:49:25] \"GET /socket.io/?EIO=4&transport=polling&t=OcjVoz9&sid=BuLZp36k1cQsXnUyAAAC HTTP/1.1\" 200 -\n",
      "127.0.0.1 - - [31/Jul/2023 12:49:25] \"POST /socket.io/?EIO=4&transport=polling&t=OcjVv3v&sid=BuLZp36k1cQsXnUyAAAC HTTP/1.1\" 200 -\n",
      "127.0.0.1 - - [31/Jul/2023 12:49:50] \"GET /socket.io/?EIO=4&transport=polling&t=OcjVv3w&sid=BuLZp36k1cQsXnUyAAAC HTTP/1.1\" 200 -\n",
      "127.0.0.1 - - [31/Jul/2023 12:49:50] \"POST /socket.io/?EIO=4&transport=polling&t=OcjV_Af&sid=BuLZp36k1cQsXnUyAAAC HTTP/1.1\" 200 -\n",
      "127.0.0.1 - - [31/Jul/2023 12:50:15] \"GET /socket.io/?EIO=4&transport=polling&t=OcjV_Af.0&sid=BuLZp36k1cQsXnUyAAAC HTTP/1.1\" 200 -\n",
      "127.0.0.1 - - [31/Jul/2023 12:50:15] \"POST /socket.io/?EIO=4&transport=polling&t=OcjW5HP&sid=BuLZp36k1cQsXnUyAAAC HTTP/1.1\" 200 -\n",
      "127.0.0.1 - - [31/Jul/2023 12:50:40] \"GET /socket.io/?EIO=4&transport=polling&t=OcjW5HQ&sid=BuLZp36k1cQsXnUyAAAC HTTP/1.1\" 200 -\n",
      "127.0.0.1 - - [31/Jul/2023 12:50:40] \"POST /socket.io/?EIO=4&transport=polling&t=OcjWBOF&sid=BuLZp36k1cQsXnUyAAAC HTTP/1.1\" 200 -\n",
      "127.0.0.1 - - [31/Jul/2023 12:51:05] \"GET /socket.io/?EIO=4&transport=polling&t=OcjWBOG&sid=BuLZp36k1cQsXnUyAAAC HTTP/1.1\" 200 -\n",
      "127.0.0.1 - - [31/Jul/2023 12:51:05] \"POST /socket.io/?EIO=4&transport=polling&t=OcjWHV1&sid=BuLZp36k1cQsXnUyAAAC HTTP/1.1\" 200 -\n"
     ]
    }
   ],
   "source": [
    "import permutation_set_server"
   ]
  },
  {
   "cell_type": "code",
   "execution_count": null,
   "id": "def8906f-b0cf-46f2-9425-e684aa17d2f2",
   "metadata": {},
   "outputs": [],
   "source": []
  },
  {
   "cell_type": "code",
   "execution_count": null,
   "id": "bb76c389-4bd7-4c57-ba54-acdf9ff92539",
   "metadata": {},
   "outputs": [],
   "source": []
  },
  {
   "cell_type": "code",
   "execution_count": null,
   "id": "1f93ed90-ba82-4749-a169-666e227a2358",
   "metadata": {},
   "outputs": [],
   "source": []
  },
  {
   "cell_type": "code",
   "execution_count": 1,
   "id": "8007b8b6-76fa-49ed-b3ef-7abf5afcf710",
   "metadata": {},
   "outputs": [],
   "source": [
    "from flask import Flask, render_template\n",
    "from flask_socketio import SocketIO, emit\n",
    "\n",
    "from server_functions import *"
   ]
  },
  {
   "cell_type": "code",
   "execution_count": 2,
   "id": "1fb3a881-b9e0-4558-85d3-310234dda812",
   "metadata": {},
   "outputs": [],
   "source": [
    "N = 4\n",
    "K = 3"
   ]
  },
  {
   "cell_type": "code",
   "execution_count": null,
   "id": "91779385-3ccb-46b9-8777-d15482d5f777",
   "metadata": {},
   "outputs": [],
   "source": []
  },
  {
   "cell_type": "code",
   "execution_count": 3,
   "id": "1699aed7-3206-48c1-a51f-ec8d7abc59d5",
   "metadata": {},
   "outputs": [],
   "source": [
    "game_state = initialize_game_state(K, N)"
   ]
  },
  {
   "cell_type": "code",
   "execution_count": 4,
   "id": "d87735db-76cb-41da-ad2c-b56a94d6ed90",
   "metadata": {},
   "outputs": [],
   "source": [
    "app = Flask(__name__)\n",
    "app.config['SECRET_KEY'] = 'your_secret_key_here'\n",
    "socketio = SocketIO(app, cors_allowed_origins='*')\n",
    "@socketio.on('connect')\n",
    "\n",
    "def on_connect():\n",
    "    game_state_update = {\n",
    "        'type': 'INIT',\n",
    "        'game_state': game_state,\n",
    "        'K': K,\n",
    "    }\n",
    "    emit('update', game_state_update)\n",
    "\n",
    "@socketio.on('check_subset')\n",
    "def check_subset(data):\n",
    "    print(data)\n",
    "    selected_card_indices = data['selectedCardIndices']\n",
    "    selected_card_indices.sort()\n",
    "    selected_card_indices.reverse()\n",
    "    \n",
    "    is_correct_subset = is_identity_permutation([game_state['cards'][i] for i in selected_card_indices], K)\n",
    "\n",
    "    if is_correct_subset:\n",
    "        for i in selected_card_indices:\n",
    "            game_state['cards'].pop(i)  # ok because they are in reverse order\n",
    "        replenish_cards(game_state, K, N)\n",
    "\n",
    "        game_state_update = {\n",
    "            'type': 'CORRECT_SUBSET',\n",
    "            'game_state': game_state\n",
    "        }\n",
    "\n",
    "        print(\"WIN\")\n",
    "\n",
    "        emit('update', game_state_update)"
   ]
  },
  {
   "cell_type": "code",
   "execution_count": null,
   "id": "2cb887b0-c90a-4e51-962c-a293d756a22e",
   "metadata": {},
   "outputs": [
    {
     "name": "stderr",
     "output_type": "stream",
     "text": [
      "WebSocket transport not available. Install simple-websocket for improved performance.\n",
      "Werkzeug appears to be used in a production deployment. Consider switching to a production web server instead.\n"
     ]
    },
    {
     "name": "stdout",
     "output_type": "stream",
     "text": [
      " * Serving Flask app '__main__'\n",
      " * Debug mode: off\n"
     ]
    },
    {
     "name": "stderr",
     "output_type": "stream",
     "text": [
      "\u001b[31m\u001b[1mWARNING: This is a development server. Do not use it in a production deployment. Use a production WSGI server instead.\u001b[0m\n",
      " * Running on all addresses (0.0.0.0)\n",
      " * Running on http://127.0.0.1:5001\n",
      " * Running on http://10.0.0.131:5001\n",
      "\u001b[33mPress CTRL+C to quit\u001b[0m\n",
      "The WebSocket transport is not available, you must install a WebSocket server that is compatible with your async mode to enable it. See the documentation for details. (further occurrences of this error will be logged with level INFO)\n",
      "127.0.0.1 - - [26/Jul/2023 17:04:36] \"GET /socket.io/?EIO=4&transport=polling&t=OcKgMF5 HTTP/1.1\" 200 -\n",
      "127.0.0.1 - - [26/Jul/2023 17:04:36] \"POST /socket.io/?EIO=4&transport=polling&t=OcKgMFD&sid=B7OY6t_iuPUdkzkdAAAA HTTP/1.1\" 200 -\n",
      "127.0.0.1 - - [26/Jul/2023 17:04:36] \"GET /socket.io/?EIO=4&transport=polling&t=OcKgMFE&sid=B7OY6t_iuPUdkzkdAAAA HTTP/1.1\" 200 -\n",
      "127.0.0.1 - - [26/Jul/2023 17:04:40] \"GET /socket.io/?EIO=4&transport=polling&t=OcKgNAZ HTTP/1.1\" 200 -\n",
      "127.0.0.1 - - [26/Jul/2023 17:04:40] \"POST /socket.io/?EIO=4&transport=polling&t=OcKgNAi&sid=atnjM3ciGOVewwAaAAAC HTTP/1.1\" 200 -\n",
      "127.0.0.1 - - [26/Jul/2023 17:04:40] \"GET /socket.io/?EIO=4&transport=polling&t=OcKgNAj&sid=atnjM3ciGOVewwAaAAAC HTTP/1.1\" 200 -\n",
      "127.0.0.1 - - [26/Jul/2023 17:04:41] \"POST /socket.io/?EIO=4&transport=polling&t=OcKgNQP&sid=atnjM3ciGOVewwAaAAAC HTTP/1.1\" 200 -\n"
     ]
    },
    {
     "name": "stdout",
     "output_type": "stream",
     "text": [
      "{'selectedCardIndices': [0]}\n"
     ]
    },
    {
     "name": "stderr",
     "output_type": "stream",
     "text": [
      "127.0.0.1 - - [26/Jul/2023 17:04:41] \"POST /socket.io/?EIO=4&transport=polling&t=OcKgNXf&sid=atnjM3ciGOVewwAaAAAC HTTP/1.1\" 200 -\n"
     ]
    },
    {
     "name": "stdout",
     "output_type": "stream",
     "text": [
      "{'selectedCardIndices': [0, 1]}\n"
     ]
    },
    {
     "name": "stderr",
     "output_type": "stream",
     "text": [
      "127.0.0.1 - - [26/Jul/2023 17:04:42] \"POST /socket.io/?EIO=4&transport=polling&t=OcKgNfS&sid=atnjM3ciGOVewwAaAAAC HTTP/1.1\" 200 -\n",
      "127.0.0.1 - - [26/Jul/2023 17:04:42] \"GET /socket.io/?EIO=4&transport=polling&t=OcKgNAz&sid=atnjM3ciGOVewwAaAAAC HTTP/1.1\" 200 -\n"
     ]
    },
    {
     "name": "stdout",
     "output_type": "stream",
     "text": [
      "{'selectedCardIndices': [0, 1, 2]}\n",
      "WIN\n"
     ]
    },
    {
     "name": "stderr",
     "output_type": "stream",
     "text": [
      "127.0.0.1 - - [26/Jul/2023 17:05:01] \"GET /socket.io/?EIO=4&transport=polling&t=OcKgMFS&sid=B7OY6t_iuPUdkzkdAAAA HTTP/1.1\" 200 -\n",
      "127.0.0.1 - - [26/Jul/2023 17:05:01] \"POST /socket.io/?EIO=4&transport=polling&t=OcKgSLs&sid=B7OY6t_iuPUdkzkdAAAA HTTP/1.1\" 200 -\n",
      "127.0.0.1 - - [26/Jul/2023 17:05:05] \"GET /socket.io/?EIO=4&transport=polling&t=OcKgNfb&sid=atnjM3ciGOVewwAaAAAC HTTP/1.1\" 200 -\n",
      "127.0.0.1 - - [26/Jul/2023 17:05:05] \"POST /socket.io/?EIO=4&transport=polling&t=OcKgTHI&sid=atnjM3ciGOVewwAaAAAC HTTP/1.1\" 200 -\n",
      "127.0.0.1 - - [26/Jul/2023 17:05:26] \"GET /socket.io/?EIO=4&transport=polling&t=OcKgSLt&sid=B7OY6t_iuPUdkzkdAAAA HTTP/1.1\" 200 -\n",
      "127.0.0.1 - - [26/Jul/2023 17:05:26] \"POST /socket.io/?EIO=4&transport=polling&t=OcKgYSh&sid=B7OY6t_iuPUdkzkdAAAA HTTP/1.1\" 200 -\n",
      "127.0.0.1 - - [26/Jul/2023 17:05:30] \"GET /socket.io/?EIO=4&transport=polling&t=OcKgTHJ&sid=atnjM3ciGOVewwAaAAAC HTTP/1.1\" 200 -\n",
      "127.0.0.1 - - [26/Jul/2023 17:05:30] \"POST /socket.io/?EIO=4&transport=polling&t=OcKgZO3&sid=atnjM3ciGOVewwAaAAAC HTTP/1.1\" 200 -\n",
      "127.0.0.1 - - [26/Jul/2023 17:05:51] \"GET /socket.io/?EIO=4&transport=polling&t=OcKgYSi&sid=B7OY6t_iuPUdkzkdAAAA HTTP/1.1\" 200 -\n",
      "127.0.0.1 - - [26/Jul/2023 17:05:51] \"POST /socket.io/?EIO=4&transport=polling&t=OcKgeZV&sid=B7OY6t_iuPUdkzkdAAAA HTTP/1.1\" 200 -\n",
      "127.0.0.1 - - [26/Jul/2023 17:05:55] \"GET /socket.io/?EIO=4&transport=polling&t=OcKgZO4&sid=atnjM3ciGOVewwAaAAAC HTTP/1.1\" 200 -\n",
      "127.0.0.1 - - [26/Jul/2023 17:05:55] \"POST /socket.io/?EIO=4&transport=polling&t=OcKgfUo&sid=atnjM3ciGOVewwAaAAAC HTTP/1.1\" 200 -\n",
      "127.0.0.1 - - [26/Jul/2023 17:06:16] \"GET /socket.io/?EIO=4&transport=polling&t=OcKgeZW&sid=B7OY6t_iuPUdkzkdAAAA HTTP/1.1\" 200 -\n",
      "127.0.0.1 - - [26/Jul/2023 17:06:16] \"POST /socket.io/?EIO=4&transport=polling&t=OcKgkgK&sid=B7OY6t_iuPUdkzkdAAAA HTTP/1.1\" 200 -\n",
      "127.0.0.1 - - [26/Jul/2023 17:06:20] \"GET /socket.io/?EIO=4&transport=polling&t=OcKgfUp&sid=atnjM3ciGOVewwAaAAAC HTTP/1.1\" 200 -\n",
      "127.0.0.1 - - [26/Jul/2023 17:06:20] \"POST /socket.io/?EIO=4&transport=polling&t=OcKglbf&sid=atnjM3ciGOVewwAaAAAC HTTP/1.1\" 200 -\n",
      "127.0.0.1 - - [26/Jul/2023 17:06:41] \"GET /socket.io/?EIO=4&transport=polling&t=OcKgkgL&sid=B7OY6t_iuPUdkzkdAAAA HTTP/1.1\" 200 -\n",
      "127.0.0.1 - - [26/Jul/2023 17:06:41] \"POST /socket.io/?EIO=4&transport=polling&t=OcKgqnB&sid=B7OY6t_iuPUdkzkdAAAA HTTP/1.1\" 200 -\n",
      "127.0.0.1 - - [26/Jul/2023 17:06:45] \"GET /socket.io/?EIO=4&transport=polling&t=OcKglbh&sid=atnjM3ciGOVewwAaAAAC HTTP/1.1\" 200 -\n",
      "127.0.0.1 - - [26/Jul/2023 17:06:45] \"POST /socket.io/?EIO=4&transport=polling&t=OcKgriW&sid=atnjM3ciGOVewwAaAAAC HTTP/1.1\" 200 -\n",
      "127.0.0.1 - - [26/Jul/2023 17:07:06] \"GET /socket.io/?EIO=4&transport=polling&t=OcKgqnC&sid=B7OY6t_iuPUdkzkdAAAA HTTP/1.1\" 200 -\n",
      "127.0.0.1 - - [26/Jul/2023 17:07:06] \"POST /socket.io/?EIO=4&transport=polling&t=OcKgwtz&sid=B7OY6t_iuPUdkzkdAAAA HTTP/1.1\" 200 -\n",
      "127.0.0.1 - - [26/Jul/2023 17:07:10] \"GET /socket.io/?EIO=4&transport=polling&t=OcKgriW.0&sid=atnjM3ciGOVewwAaAAAC HTTP/1.1\" 200 -\n",
      "127.0.0.1 - - [26/Jul/2023 17:07:10] \"POST /socket.io/?EIO=4&transport=polling&t=OcKgxpE&sid=atnjM3ciGOVewwAaAAAC HTTP/1.1\" 200 -\n",
      "127.0.0.1 - - [26/Jul/2023 17:07:31] \"GET /socket.io/?EIO=4&transport=polling&t=OcKgwt_&sid=B7OY6t_iuPUdkzkdAAAA HTTP/1.1\" 200 -\n",
      "127.0.0.1 - - [26/Jul/2023 17:07:31] \"POST /socket.io/?EIO=4&transport=polling&t=OcKh0-p&sid=B7OY6t_iuPUdkzkdAAAA HTTP/1.1\" 200 -\n",
      "127.0.0.1 - - [26/Jul/2023 17:07:35] \"GET /socket.io/?EIO=4&transport=polling&t=OcKgxpF&sid=atnjM3ciGOVewwAaAAAC HTTP/1.1\" 200 -\n",
      "127.0.0.1 - - [26/Jul/2023 17:07:35] \"POST /socket.io/?EIO=4&transport=polling&t=OcKh1w6&sid=atnjM3ciGOVewwAaAAAC HTTP/1.1\" 200 -\n",
      "127.0.0.1 - - [26/Jul/2023 17:07:56] \"GET /socket.io/?EIO=4&transport=polling&t=OcKh0-q&sid=B7OY6t_iuPUdkzkdAAAA HTTP/1.1\" 200 -\n",
      "127.0.0.1 - - [26/Jul/2023 17:07:56] \"POST /socket.io/?EIO=4&transport=polling&t=OcKh75Z&sid=B7OY6t_iuPUdkzkdAAAA HTTP/1.1\" 200 -\n",
      "127.0.0.1 - - [26/Jul/2023 17:08:00] \"GET /socket.io/?EIO=4&transport=polling&t=OcKh1w7&sid=atnjM3ciGOVewwAaAAAC HTTP/1.1\" 200 -\n",
      "127.0.0.1 - - [26/Jul/2023 17:08:00] \"POST /socket.io/?EIO=4&transport=polling&t=OcKh80v&sid=atnjM3ciGOVewwAaAAAC HTTP/1.1\" 200 -\n",
      "127.0.0.1 - - [26/Jul/2023 17:08:21] \"GET /socket.io/?EIO=4&transport=polling&t=OcKh75a&sid=B7OY6t_iuPUdkzkdAAAA HTTP/1.1\" 200 -\n",
      "127.0.0.1 - - [26/Jul/2023 17:08:21] \"POST /socket.io/?EIO=4&transport=polling&t=OcKhDCN&sid=B7OY6t_iuPUdkzkdAAAA HTTP/1.1\" 200 -\n",
      "127.0.0.1 - - [26/Jul/2023 17:08:25] \"GET /socket.io/?EIO=4&transport=polling&t=OcKh80w&sid=atnjM3ciGOVewwAaAAAC HTTP/1.1\" 200 -\n",
      "127.0.0.1 - - [26/Jul/2023 17:08:25] \"POST /socket.io/?EIO=4&transport=polling&t=OcKhE7j&sid=atnjM3ciGOVewwAaAAAC HTTP/1.1\" 200 -\n",
      "127.0.0.1 - - [26/Jul/2023 17:08:46] \"GET /socket.io/?EIO=4&transport=polling&t=OcKhDCO&sid=B7OY6t_iuPUdkzkdAAAA HTTP/1.1\" 200 -\n",
      "127.0.0.1 - - [26/Jul/2023 17:08:46] \"POST /socket.io/?EIO=4&transport=polling&t=OcKhJJ8&sid=B7OY6t_iuPUdkzkdAAAA HTTP/1.1\" 200 -\n",
      "127.0.0.1 - - [26/Jul/2023 17:08:50] \"GET /socket.io/?EIO=4&transport=polling&t=OcKhE7j.0&sid=atnjM3ciGOVewwAaAAAC HTTP/1.1\" 200 -\n",
      "127.0.0.1 - - [26/Jul/2023 17:08:50] \"POST /socket.io/?EIO=4&transport=polling&t=OcKhKEV&sid=atnjM3ciGOVewwAaAAAC HTTP/1.1\" 200 -\n",
      "127.0.0.1 - - [26/Jul/2023 17:09:05] \"POST /socket.io/?EIO=4&transport=polling&t=OcKhNr-&sid=atnjM3ciGOVewwAaAAAC HTTP/1.1\" 200 -\n",
      "127.0.0.1 - - [26/Jul/2023 17:09:05] \"GET /socket.io/?EIO=4&transport=polling&t=OcKhKEW&sid=atnjM3ciGOVewwAaAAAC HTTP/1.1\" 200 -\n",
      "127.0.0.1 - - [26/Jul/2023 17:09:05] \"GET /socket.io/?EIO=4&transport=polling&t=OcKhNsz HTTP/1.1\" 200 -\n",
      "127.0.0.1 - - [26/Jul/2023 17:09:05] \"POST /socket.io/?EIO=4&transport=polling&t=OcKhNt8&sid=QLs-c2ZwqzDYbZOMAAAE HTTP/1.1\" 200 -\n",
      "127.0.0.1 - - [26/Jul/2023 17:09:05] \"GET /socket.io/?EIO=4&transport=polling&t=OcKhNt8.0&sid=QLs-c2ZwqzDYbZOMAAAE HTTP/1.1\" 200 -\n",
      "127.0.0.1 - - [26/Jul/2023 17:09:05] \"POST /socket.io/?EIO=4&transport=polling&t=OcKhO1e&sid=QLs-c2ZwqzDYbZOMAAAE HTTP/1.1\" 200 -\n"
     ]
    },
    {
     "name": "stdout",
     "output_type": "stream",
     "text": [
      "{'selectedCardIndices': [0]}\n"
     ]
    },
    {
     "name": "stderr",
     "output_type": "stream",
     "text": [
      "127.0.0.1 - - [26/Jul/2023 17:09:06] \"POST /socket.io/?EIO=4&transport=polling&t=OcKhO9g&sid=QLs-c2ZwqzDYbZOMAAAE HTTP/1.1\" 200 -\n",
      "127.0.0.1 - - [26/Jul/2023 17:09:06] \"GET /socket.io/?EIO=4&transport=polling&t=OcKhNtL&sid=QLs-c2ZwqzDYbZOMAAAE HTTP/1.1\" 200 -\n"
     ]
    },
    {
     "name": "stdout",
     "output_type": "stream",
     "text": [
      "{'selectedCardIndices': [0, 1]}\n",
      "WIN\n"
     ]
    },
    {
     "name": "stderr",
     "output_type": "stream",
     "text": [
      "127.0.0.1 - - [26/Jul/2023 17:09:11] \"GET /socket.io/?EIO=4&transport=polling&t=OcKhJJ9&sid=B7OY6t_iuPUdkzkdAAAA HTTP/1.1\" 200 -\n",
      "127.0.0.1 - - [26/Jul/2023 17:09:11] \"POST /socket.io/?EIO=4&transport=polling&t=OcKhPPx&sid=B7OY6t_iuPUdkzkdAAAA HTTP/1.1\" 200 -\n",
      "127.0.0.1 - - [26/Jul/2023 17:09:23] \"POST /socket.io/?EIO=4&transport=polling&t=OcKhSDi&sid=QLs-c2ZwqzDYbZOMAAAE HTTP/1.1\" 200 -\n",
      "127.0.0.1 - - [26/Jul/2023 17:09:23] \"GET /socket.io/?EIO=4&transport=polling&t=OcKhO9q&sid=QLs-c2ZwqzDYbZOMAAAE HTTP/1.1\" 200 -\n",
      "127.0.0.1 - - [26/Jul/2023 17:09:23] \"GET /socket.io/?EIO=4&transport=polling&t=OcKhSEc HTTP/1.1\" 200 -\n",
      "127.0.0.1 - - [26/Jul/2023 17:09:23] \"POST /socket.io/?EIO=4&transport=polling&t=OcKhSEm&sid=Oj14DfTCYWt6nqUiAAAG HTTP/1.1\" 200 -\n",
      "127.0.0.1 - - [26/Jul/2023 17:09:23] \"GET /socket.io/?EIO=4&transport=polling&t=OcKhSEm.0&sid=Oj14DfTCYWt6nqUiAAAG HTTP/1.1\" 200 -\n",
      "127.0.0.1 - - [26/Jul/2023 17:09:23] \"POST /socket.io/?EIO=4&transport=polling&t=OcKhSPu&sid=Oj14DfTCYWt6nqUiAAAG HTTP/1.1\" 200 -\n"
     ]
    },
    {
     "name": "stdout",
     "output_type": "stream",
     "text": [
      "{'selectedCardIndices': [0]}\n"
     ]
    },
    {
     "name": "stderr",
     "output_type": "stream",
     "text": [
      "127.0.0.1 - - [26/Jul/2023 17:09:24] \"POST /socket.io/?EIO=4&transport=polling&t=OcKhSUY&sid=Oj14DfTCYWt6nqUiAAAG HTTP/1.1\" 200 -\n"
     ]
    },
    {
     "name": "stdout",
     "output_type": "stream",
     "text": [
      "{'selectedCardIndices': [0, 1]}\n"
     ]
    },
    {
     "name": "stderr",
     "output_type": "stream",
     "text": [
      "127.0.0.1 - - [26/Jul/2023 17:09:24] \"POST /socket.io/?EIO=4&transport=polling&t=OcKhSb3&sid=Oj14DfTCYWt6nqUiAAAG HTTP/1.1\" 200 -\n"
     ]
    },
    {
     "name": "stdout",
     "output_type": "stream",
     "text": [
      "{'selectedCardIndices': [0, 1, 2]}\n"
     ]
    },
    {
     "name": "stderr",
     "output_type": "stream",
     "text": [
      "127.0.0.1 - - [26/Jul/2023 17:09:25] \"POST /socket.io/?EIO=4&transport=polling&t=OcKhSic&sid=Oj14DfTCYWt6nqUiAAAG HTTP/1.1\" 200 -\n"
     ]
    },
    {
     "name": "stdout",
     "output_type": "stream",
     "text": [
      "{'selectedCardIndices': [0, 1, 2, 3]}\n"
     ]
    },
    {
     "name": "stderr",
     "output_type": "stream",
     "text": [
      "127.0.0.1 - - [26/Jul/2023 17:09:25] \"POST /socket.io/?EIO=4&transport=polling&t=OcKhSpN&sid=Oj14DfTCYWt6nqUiAAAG HTTP/1.1\" 200 -\n"
     ]
    },
    {
     "name": "stdout",
     "output_type": "stream",
     "text": [
      "{'selectedCardIndices': [0, 2, 3]}\n"
     ]
    },
    {
     "name": "stderr",
     "output_type": "stream",
     "text": [
      "127.0.0.1 - - [26/Jul/2023 17:09:25] \"POST /socket.io/?EIO=4&transport=polling&t=OcKhSv5&sid=Oj14DfTCYWt6nqUiAAAG HTTP/1.1\" 200 -\n"
     ]
    },
    {
     "name": "stdout",
     "output_type": "stream",
     "text": [
      "{'selectedCardIndices': [0, 3]}\n"
     ]
    },
    {
     "name": "stderr",
     "output_type": "stream",
     "text": [
      "127.0.0.1 - - [26/Jul/2023 17:09:26] \"POST /socket.io/?EIO=4&transport=polling&t=OcKhS_M&sid=Oj14DfTCYWt6nqUiAAAG HTTP/1.1\" 200 -\n"
     ]
    },
    {
     "name": "stdout",
     "output_type": "stream",
     "text": [
      "{'selectedCardIndices': [3]}\n"
     ]
    },
    {
     "name": "stderr",
     "output_type": "stream",
     "text": [
      "127.0.0.1 - - [26/Jul/2023 17:09:26] \"POST /socket.io/?EIO=4&transport=polling&t=OcKhT8k&sid=Oj14DfTCYWt6nqUiAAAG HTTP/1.1\" 200 -\n",
      "127.0.0.1 - - [26/Jul/2023 17:09:26] \"GET /socket.io/?EIO=4&transport=polling&t=OcKhSEz&sid=Oj14DfTCYWt6nqUiAAAG HTTP/1.1\" 200 -\n"
     ]
    },
    {
     "name": "stdout",
     "output_type": "stream",
     "text": [
      "{'selectedCardIndices': []}\n",
      "WIN\n"
     ]
    },
    {
     "name": "stderr",
     "output_type": "stream",
     "text": [
      "127.0.0.1 - - [26/Jul/2023 17:09:27] \"POST /socket.io/?EIO=4&transport=polling&t=OcKhTId&sid=Oj14DfTCYWt6nqUiAAAG HTTP/1.1\" 200 -\n"
     ]
    },
    {
     "name": "stdout",
     "output_type": "stream",
     "text": [
      "{'selectedCardIndices': [0]}\n"
     ]
    },
    {
     "name": "stderr",
     "output_type": "stream",
     "text": [
      "127.0.0.1 - - [26/Jul/2023 17:09:27] \"POST /socket.io/?EIO=4&transport=polling&t=OcKhTO6&sid=Oj14DfTCYWt6nqUiAAAG HTTP/1.1\" 200 -\n"
     ]
    },
    {
     "name": "stdout",
     "output_type": "stream",
     "text": [
      "{'selectedCardIndices': [0, 1]}\n"
     ]
    },
    {
     "name": "stderr",
     "output_type": "stream",
     "text": [
      "127.0.0.1 - - [26/Jul/2023 17:09:29] \"POST /socket.io/?EIO=4&transport=polling&t=OcKhTih&sid=Oj14DfTCYWt6nqUiAAAG HTTP/1.1\" 200 -\n"
     ]
    },
    {
     "name": "stdout",
     "output_type": "stream",
     "text": [
      "{'selectedCardIndices': [1]}\n"
     ]
    },
    {
     "name": "stderr",
     "output_type": "stream",
     "text": [
      "127.0.0.1 - - [26/Jul/2023 17:09:29] \"POST /socket.io/?EIO=4&transport=polling&t=OcKhToP&sid=Oj14DfTCYWt6nqUiAAAG HTTP/1.1\" 200 -\n"
     ]
    },
    {
     "name": "stdout",
     "output_type": "stream",
     "text": [
      "{'selectedCardIndices': [1, 0]}\n"
     ]
    },
    {
     "name": "stderr",
     "output_type": "stream",
     "text": [
      "127.0.0.1 - - [26/Jul/2023 17:09:30] \"POST /socket.io/?EIO=4&transport=polling&t=OcKhTwD&sid=Oj14DfTCYWt6nqUiAAAG HTTP/1.1\" 200 -\n"
     ]
    },
    {
     "name": "stdout",
     "output_type": "stream",
     "text": [
      "{'selectedCardIndices': [1, 0, 2]}\n"
     ]
    },
    {
     "name": "stderr",
     "output_type": "stream",
     "text": [
      "127.0.0.1 - - [26/Jul/2023 17:09:30] \"POST /socket.io/?EIO=4&transport=polling&t=OcKhU1m&sid=Oj14DfTCYWt6nqUiAAAG HTTP/1.1\" 200 -\n"
     ]
    },
    {
     "name": "stdout",
     "output_type": "stream",
     "text": [
      "{'selectedCardIndices': [1, 2]}\n"
     ]
    },
    {
     "name": "stderr",
     "output_type": "stream",
     "text": [
      "127.0.0.1 - - [26/Jul/2023 17:09:30] \"POST /socket.io/?EIO=4&transport=polling&t=OcKhU6j&sid=Oj14DfTCYWt6nqUiAAAG HTTP/1.1\" 200 -\n"
     ]
    },
    {
     "name": "stdout",
     "output_type": "stream",
     "text": [
      "{'selectedCardIndices': [2]}\n"
     ]
    },
    {
     "name": "stderr",
     "output_type": "stream",
     "text": [
      "127.0.0.1 - - [26/Jul/2023 17:09:31] \"POST /socket.io/?EIO=4&transport=polling&t=OcKhUDV&sid=Oj14DfTCYWt6nqUiAAAG HTTP/1.1\" 200 -\n"
     ]
    },
    {
     "name": "stdout",
     "output_type": "stream",
     "text": [
      "{'selectedCardIndices': [2, 0]}\n"
     ]
    },
    {
     "name": "stderr",
     "output_type": "stream",
     "text": [
      "127.0.0.1 - - [26/Jul/2023 17:09:32] \"POST /socket.io/?EIO=4&transport=polling&t=OcKhUU9&sid=Oj14DfTCYWt6nqUiAAAG HTTP/1.1\" 200 -\n"
     ]
    },
    {
     "name": "stdout",
     "output_type": "stream",
     "text": [
      "{'selectedCardIndices': [2, 0, 1]}\n"
     ]
    },
    {
     "name": "stderr",
     "output_type": "stream",
     "text": [
      "127.0.0.1 - - [26/Jul/2023 17:09:32] \"POST /socket.io/?EIO=4&transport=polling&t=OcKhUZN&sid=Oj14DfTCYWt6nqUiAAAG HTTP/1.1\" 200 -\n"
     ]
    },
    {
     "name": "stdout",
     "output_type": "stream",
     "text": [
      "{'selectedCardIndices': [2, 1]}\n"
     ]
    },
    {
     "name": "stderr",
     "output_type": "stream",
     "text": [
      "127.0.0.1 - - [26/Jul/2023 17:09:32] \"POST /socket.io/?EIO=4&transport=polling&t=OcKhUdo&sid=Oj14DfTCYWt6nqUiAAAG HTTP/1.1\" 200 -\n"
     ]
    },
    {
     "name": "stdout",
     "output_type": "stream",
     "text": [
      "{'selectedCardIndices': [2]}\n"
     ]
    },
    {
     "name": "stderr",
     "output_type": "stream",
     "text": [
      "127.0.0.1 - - [26/Jul/2023 17:09:33] \"POST /socket.io/?EIO=4&transport=polling&t=OcKhUil&sid=Oj14DfTCYWt6nqUiAAAG HTTP/1.1\" 200 -\n",
      "127.0.0.1 - - [26/Jul/2023 17:09:33] \"GET /socket.io/?EIO=4&transport=polling&t=OcKhT8t&sid=Oj14DfTCYWt6nqUiAAAG HTTP/1.1\" 200 -\n"
     ]
    },
    {
     "name": "stdout",
     "output_type": "stream",
     "text": [
      "{'selectedCardIndices': []}\n",
      "WIN\n"
     ]
    },
    {
     "name": "stderr",
     "output_type": "stream",
     "text": [
      "127.0.0.1 - - [26/Jul/2023 17:09:33] \"POST /socket.io/?EIO=4&transport=polling&t=OcKhUni&sid=Oj14DfTCYWt6nqUiAAAG HTTP/1.1\" 200 -\n"
     ]
    },
    {
     "name": "stdout",
     "output_type": "stream",
     "text": [
      "{'selectedCardIndices': [3]}\n"
     ]
    },
    {
     "name": "stderr",
     "output_type": "stream",
     "text": [
      "127.0.0.1 - - [26/Jul/2023 17:09:34] \"POST /socket.io/?EIO=4&transport=polling&t=OcKhUvF&sid=Oj14DfTCYWt6nqUiAAAG HTTP/1.1\" 200 -\n"
     ]
    },
    {
     "name": "stdout",
     "output_type": "stream",
     "text": [
      "{'selectedCardIndices': [3, 0]}\n"
     ]
    },
    {
     "name": "stderr",
     "output_type": "stream",
     "text": [
      "127.0.0.1 - - [26/Jul/2023 17:09:34] \"POST /socket.io/?EIO=4&transport=polling&t=OcKhV0H&sid=Oj14DfTCYWt6nqUiAAAG HTTP/1.1\" 200 -\n"
     ]
    },
    {
     "name": "stdout",
     "output_type": "stream",
     "text": [
      "{'selectedCardIndices': [3]}\n"
     ]
    },
    {
     "name": "stderr",
     "output_type": "stream",
     "text": [
      "127.0.0.1 - - [26/Jul/2023 17:09:34] \"POST /socket.io/?EIO=4&transport=polling&t=OcKhV4z&sid=Oj14DfTCYWt6nqUiAAAG HTTP/1.1\" 200 -\n"
     ]
    },
    {
     "name": "stdout",
     "output_type": "stream",
     "text": [
      "{'selectedCardIndices': [3, 1]}\n"
     ]
    },
    {
     "name": "stderr",
     "output_type": "stream",
     "text": [
      "127.0.0.1 - - [26/Jul/2023 17:09:35] \"POST /socket.io/?EIO=4&transport=polling&t=OcKhVAz&sid=Oj14DfTCYWt6nqUiAAAG HTTP/1.1\" 200 -\n"
     ]
    },
    {
     "name": "stdout",
     "output_type": "stream",
     "text": [
      "{'selectedCardIndices': [3, 1, 0]}\n"
     ]
    },
    {
     "name": "stderr",
     "output_type": "stream",
     "text": [
      "127.0.0.1 - - [26/Jul/2023 17:09:35] \"POST /socket.io/?EIO=4&transport=polling&t=OcKhVHD&sid=Oj14DfTCYWt6nqUiAAAG HTTP/1.1\" 200 -\n"
     ]
    },
    {
     "name": "stdout",
     "output_type": "stream",
     "text": [
      "{'selectedCardIndices': [3, 1]}\n"
     ]
    },
    {
     "name": "stderr",
     "output_type": "stream",
     "text": [
      "127.0.0.1 - - [26/Jul/2023 17:09:35] \"POST /socket.io/?EIO=4&transport=polling&t=OcKhVLe&sid=Oj14DfTCYWt6nqUiAAAG HTTP/1.1\" 200 -\n"
     ]
    },
    {
     "name": "stdout",
     "output_type": "stream",
     "text": [
      "{'selectedCardIndices': [3]}\n"
     ]
    },
    {
     "name": "stderr",
     "output_type": "stream",
     "text": [
      "127.0.0.1 - - [26/Jul/2023 17:09:36] \"POST /socket.io/?EIO=4&transport=polling&t=OcKhVQK&sid=Oj14DfTCYWt6nqUiAAAG HTTP/1.1\" 200 -\n",
      "127.0.0.1 - - [26/Jul/2023 17:09:36] \"GET /socket.io/?EIO=4&transport=polling&t=OcKhUiu&sid=Oj14DfTCYWt6nqUiAAAG HTTP/1.1\" 200 -\n"
     ]
    },
    {
     "name": "stdout",
     "output_type": "stream",
     "text": [
      "{'selectedCardIndices': [3, 2]}\n",
      "WIN\n"
     ]
    },
    {
     "name": "stderr",
     "output_type": "stream",
     "text": [
      "127.0.0.1 - - [26/Jul/2023 17:09:36] \"GET /socket.io/?EIO=4&transport=polling&t=OcKhPPy&sid=B7OY6t_iuPUdkzkdAAAA HTTP/1.1\" 200 -\n",
      "127.0.0.1 - - [26/Jul/2023 17:09:36] \"POST /socket.io/?EIO=4&transport=polling&t=OcKhVWi&sid=B7OY6t_iuPUdkzkdAAAA HTTP/1.1\" 200 -\n",
      "127.0.0.1 - - [26/Jul/2023 17:09:48] \"GET /socket.io/?EIO=4&transport=polling&t=OcKhVQU&sid=Oj14DfTCYWt6nqUiAAAG HTTP/1.1\" 200 -\n",
      "127.0.0.1 - - [26/Jul/2023 17:09:48] \"POST /socket.io/?EIO=4&transport=polling&t=OcKhYLS&sid=Oj14DfTCYWt6nqUiAAAG HTTP/1.1\" 200 -\n",
      "127.0.0.1 - - [26/Jul/2023 17:10:01] \"GET /socket.io/?EIO=4&transport=polling&t=OcKhVWj&sid=B7OY6t_iuPUdkzkdAAAA HTTP/1.1\" 200 -\n",
      "127.0.0.1 - - [26/Jul/2023 17:10:01] \"POST /socket.io/?EIO=4&transport=polling&t=OcKhbdT&sid=B7OY6t_iuPUdkzkdAAAA HTTP/1.1\" 200 -\n",
      "127.0.0.1 - - [26/Jul/2023 17:10:13] \"GET /socket.io/?EIO=4&transport=polling&t=OcKhYLS.0&sid=Oj14DfTCYWt6nqUiAAAG HTTP/1.1\" 200 -\n",
      "127.0.0.1 - - [26/Jul/2023 17:10:13] \"POST /socket.io/?EIO=4&transport=polling&t=OcKheSF&sid=Oj14DfTCYWt6nqUiAAAG HTTP/1.1\" 200 -\n",
      "127.0.0.1 - - [26/Jul/2023 17:10:14] \"POST /socket.io/?EIO=4&transport=polling&t=OcKhei8&sid=Oj14DfTCYWt6nqUiAAAG HTTP/1.1\" 200 -\n",
      "127.0.0.1 - - [26/Jul/2023 17:10:14] \"GET /socket.io/?EIO=4&transport=polling&t=OcKheSG&sid=Oj14DfTCYWt6nqUiAAAG HTTP/1.1\" 200 -\n",
      "127.0.0.1 - - [26/Jul/2023 17:10:14] \"GET /socket.io/?EIO=4&transport=polling&t=OcKhej3 HTTP/1.1\" 200 -\n",
      "127.0.0.1 - - [26/Jul/2023 17:10:14] \"POST /socket.io/?EIO=4&transport=polling&t=OcKhejC&sid=wREyKmFskSJ1IsqvAAAI HTTP/1.1\" 200 -\n",
      "127.0.0.1 - - [26/Jul/2023 17:10:14] \"GET /socket.io/?EIO=4&transport=polling&t=OcKhejD&sid=wREyKmFskSJ1IsqvAAAI HTTP/1.1\" 200 -\n",
      "127.0.0.1 - - [26/Jul/2023 17:10:14] \"POST /socket.io/?EIO=4&transport=polling&t=OcKhepf&sid=wREyKmFskSJ1IsqvAAAI HTTP/1.1\" 200 -\n"
     ]
    },
    {
     "name": "stdout",
     "output_type": "stream",
     "text": [
      "{'selectedCardIndices': [0]}\n"
     ]
    },
    {
     "name": "stderr",
     "output_type": "stream",
     "text": [
      "127.0.0.1 - - [26/Jul/2023 17:10:15] \"POST /socket.io/?EIO=4&transport=polling&t=OcKhevM&sid=wREyKmFskSJ1IsqvAAAI HTTP/1.1\" 200 -\n"
     ]
    },
    {
     "name": "stdout",
     "output_type": "stream",
     "text": [
      "{'selectedCardIndices': [0, 1]}\n"
     ]
    },
    {
     "name": "stderr",
     "output_type": "stream",
     "text": [
      "127.0.0.1 - - [26/Jul/2023 17:10:15] \"POST /socket.io/?EIO=4&transport=polling&t=OcKhf19&sid=wREyKmFskSJ1IsqvAAAI HTTP/1.1\" 200 -\n"
     ]
    },
    {
     "name": "stdout",
     "output_type": "stream",
     "text": [
      "{'selectedCardIndices': [0, 1, 2]}\n"
     ]
    },
    {
     "name": "stderr",
     "output_type": "stream",
     "text": [
      "127.0.0.1 - - [26/Jul/2023 17:10:16] \"POST /socket.io/?EIO=4&transport=polling&t=OcKhfBs&sid=wREyKmFskSJ1IsqvAAAI HTTP/1.1\" 200 -\n"
     ]
    },
    {
     "name": "stdout",
     "output_type": "stream",
     "text": [
      "{'selectedCardIndices': [0, 1]}\n"
     ]
    },
    {
     "name": "stderr",
     "output_type": "stream",
     "text": [
      "127.0.0.1 - - [26/Jul/2023 17:10:16] \"POST /socket.io/?EIO=4&transport=polling&t=OcKhfGX&sid=wREyKmFskSJ1IsqvAAAI HTTP/1.1\" 200 -\n"
     ]
    },
    {
     "name": "stdout",
     "output_type": "stream",
     "text": [
      "{'selectedCardIndices': [0]}\n"
     ]
    },
    {
     "name": "stderr",
     "output_type": "stream",
     "text": [
      "127.0.0.1 - - [26/Jul/2023 17:10:16] \"POST /socket.io/?EIO=4&transport=polling&t=OcKhfLl&sid=wREyKmFskSJ1IsqvAAAI HTTP/1.1\" 200 -\n",
      "127.0.0.1 - - [26/Jul/2023 17:10:16] \"GET /socket.io/?EIO=4&transport=polling&t=OcKhejO&sid=wREyKmFskSJ1IsqvAAAI HTTP/1.1\" 200 -\n"
     ]
    },
    {
     "name": "stdout",
     "output_type": "stream",
     "text": [
      "{'selectedCardIndices': []}\n",
      "WIN\n"
     ]
    },
    {
     "name": "stderr",
     "output_type": "stream",
     "text": [
      "127.0.0.1 - - [26/Jul/2023 17:10:17] \"POST /socket.io/?EIO=4&transport=polling&t=OcKhfQh&sid=wREyKmFskSJ1IsqvAAAI HTTP/1.1\" 200 -\n"
     ]
    },
    {
     "name": "stdout",
     "output_type": "stream",
     "text": [
      "{'selectedCardIndices': [0]}\n"
     ]
    },
    {
     "name": "stderr",
     "output_type": "stream",
     "text": [
      "127.0.0.1 - - [26/Jul/2023 17:10:17] \"POST /socket.io/?EIO=4&transport=polling&t=OcKhfbN&sid=wREyKmFskSJ1IsqvAAAI HTTP/1.1\" 200 -\n"
     ]
    },
    {
     "name": "stdout",
     "output_type": "stream",
     "text": [
      "{'selectedCardIndices': [0, 1]}\n"
     ]
    },
    {
     "name": "stderr",
     "output_type": "stream",
     "text": [
      "127.0.0.1 - - [26/Jul/2023 17:10:18] \"POST /socket.io/?EIO=4&transport=polling&t=OcKhffo&sid=wREyKmFskSJ1IsqvAAAI HTTP/1.1\" 200 -\n"
     ]
    },
    {
     "name": "stdout",
     "output_type": "stream",
     "text": [
      "{'selectedCardIndices': [1]}\n"
     ]
    },
    {
     "name": "stderr",
     "output_type": "stream",
     "text": [
      "127.0.0.1 - - [26/Jul/2023 17:10:18] \"POST /socket.io/?EIO=4&transport=polling&t=OcKhfqT&sid=wREyKmFskSJ1IsqvAAAI HTTP/1.1\" 200 -\n"
     ]
    },
    {
     "name": "stdout",
     "output_type": "stream",
     "text": [
      "{'selectedCardIndices': [1, 0]}\n"
     ]
    },
    {
     "name": "stderr",
     "output_type": "stream",
     "text": [
      "127.0.0.1 - - [26/Jul/2023 17:10:19] \"POST /socket.io/?EIO=4&transport=polling&t=OcKhfy1&sid=wREyKmFskSJ1IsqvAAAI HTTP/1.1\" 200 -\n"
     ]
    },
    {
     "name": "stdout",
     "output_type": "stream",
     "text": [
      "{'selectedCardIndices': [0]}\n"
     ]
    },
    {
     "name": "stderr",
     "output_type": "stream",
     "text": [
      "127.0.0.1 - - [26/Jul/2023 17:10:19] \"POST /socket.io/?EIO=4&transport=polling&t=OcKhg1D&sid=wREyKmFskSJ1IsqvAAAI HTTP/1.1\" 200 -\n",
      "127.0.0.1 - - [26/Jul/2023 17:10:19] \"GET /socket.io/?EIO=4&transport=polling&t=OcKhfLu&sid=wREyKmFskSJ1IsqvAAAI HTTP/1.1\" 200 -\n"
     ]
    },
    {
     "name": "stdout",
     "output_type": "stream",
     "text": [
      "{'selectedCardIndices': []}\n",
      "WIN\n"
     ]
    },
    {
     "name": "stderr",
     "output_type": "stream",
     "text": [
      "127.0.0.1 - - [26/Jul/2023 17:10:20] \"POST /socket.io/?EIO=4&transport=polling&t=OcKhgMb&sid=wREyKmFskSJ1IsqvAAAI HTTP/1.1\" 200 -\n"
     ]
    },
    {
     "name": "stdout",
     "output_type": "stream",
     "text": [
      "{'selectedCardIndices': [2]}\n"
     ]
    },
    {
     "name": "stderr",
     "output_type": "stream",
     "text": [
      "127.0.0.1 - - [26/Jul/2023 17:10:21] \"POST /socket.io/?EIO=4&transport=polling&t=OcKhgUg&sid=wREyKmFskSJ1IsqvAAAI HTTP/1.1\" 200 -\n",
      "127.0.0.1 - - [26/Jul/2023 17:10:21] \"GET /socket.io/?EIO=4&transport=polling&t=OcKhg1L&sid=wREyKmFskSJ1IsqvAAAI HTTP/1.1\" 200 -\n"
     ]
    },
    {
     "name": "stdout",
     "output_type": "stream",
     "text": [
      "{'selectedCardIndices': [2, 0]}\n",
      "WIN\n"
     ]
    },
    {
     "name": "stderr",
     "output_type": "stream",
     "text": [
      "127.0.0.1 - - [26/Jul/2023 17:10:26] \"GET /socket.io/?EIO=4&transport=polling&t=OcKhbdU&sid=B7OY6t_iuPUdkzkdAAAA HTTP/1.1\" 200 -\n",
      "127.0.0.1 - - [26/Jul/2023 17:10:26] \"POST /socket.io/?EIO=4&transport=polling&t=OcKhhkC&sid=B7OY6t_iuPUdkzkdAAAA HTTP/1.1\" 200 -\n",
      "127.0.0.1 - - [26/Jul/2023 17:10:39] \"GET /socket.io/?EIO=4&transport=polling&t=OcKhgUq&sid=wREyKmFskSJ1IsqvAAAI HTTP/1.1\" 200 -\n",
      "127.0.0.1 - - [26/Jul/2023 17:10:39] \"POST /socket.io/?EIO=4&transport=polling&t=OcKhkpq&sid=wREyKmFskSJ1IsqvAAAI HTTP/1.1\" 200 -\n",
      "127.0.0.1 - - [26/Jul/2023 17:10:46] \"POST /socket.io/?EIO=4&transport=polling&t=OcKhmdv&sid=wREyKmFskSJ1IsqvAAAI HTTP/1.1\" 200 -\n"
     ]
    },
    {
     "name": "stdout",
     "output_type": "stream",
     "text": [
      "{'selectedCardIndices': [2, 0, 1]}\n"
     ]
    },
    {
     "name": "stderr",
     "output_type": "stream",
     "text": [
      "127.0.0.1 - - [26/Jul/2023 17:10:47] \"POST /socket.io/?EIO=4&transport=polling&t=OcKhmn1&sid=wREyKmFskSJ1IsqvAAAI HTTP/1.1\" 200 -\n"
     ]
    },
    {
     "name": "stdout",
     "output_type": "stream",
     "text": [
      "{'selectedCardIndices': [2, 1]}\n"
     ]
    },
    {
     "name": "stderr",
     "output_type": "stream",
     "text": [
      "127.0.0.1 - - [26/Jul/2023 17:10:48] \"POST /socket.io/?EIO=4&transport=polling&t=OcKhn0U&sid=wREyKmFskSJ1IsqvAAAI HTTP/1.1\" 200 -\n",
      "127.0.0.1 - - [26/Jul/2023 17:10:48] \"GET /socket.io/?EIO=4&transport=polling&t=OcKhkpr&sid=wREyKmFskSJ1IsqvAAAI HTTP/1.1\" 200 -\n",
      "127.0.0.1 - - [26/Jul/2023 17:10:48] \"GET /socket.io/?EIO=4&transport=polling&t=OcKhn1L HTTP/1.1\" 200 -\n",
      "127.0.0.1 - - [26/Jul/2023 17:10:48] \"POST /socket.io/?EIO=4&transport=polling&t=OcKhn1V&sid=8K-aq_S2xHEzPRJCAAAK HTTP/1.1\" 200 -\n",
      "127.0.0.1 - - [26/Jul/2023 17:10:48] \"GET /socket.io/?EIO=4&transport=polling&t=OcKhn1V.0&sid=8K-aq_S2xHEzPRJCAAAK HTTP/1.1\" 200 -\n",
      "127.0.0.1 - - [26/Jul/2023 17:10:51] \"GET /socket.io/?EIO=4&transport=polling&t=OcKhhkD&sid=B7OY6t_iuPUdkzkdAAAA HTTP/1.1\" 200 -\n",
      "127.0.0.1 - - [26/Jul/2023 17:10:51] \"POST /socket.io/?EIO=4&transport=polling&t=OcKhnr0&sid=B7OY6t_iuPUdkzkdAAAA HTTP/1.1\" 200 -\n",
      "127.0.0.1 - - [26/Jul/2023 17:11:13] \"GET /socket.io/?EIO=4&transport=polling&t=OcKhn1f&sid=8K-aq_S2xHEzPRJCAAAK HTTP/1.1\" 200 -\n",
      "127.0.0.1 - - [26/Jul/2023 17:11:13] \"POST /socket.io/?EIO=4&transport=polling&t=OcKht86&sid=8K-aq_S2xHEzPRJCAAAK HTTP/1.1\" 200 -\n",
      "127.0.0.1 - - [26/Jul/2023 17:11:16] \"GET /socket.io/?EIO=4&transport=polling&t=OcKhnr1&sid=B7OY6t_iuPUdkzkdAAAA HTTP/1.1\" 200 -\n",
      "127.0.0.1 - - [26/Jul/2023 17:11:16] \"POST /socket.io/?EIO=4&transport=polling&t=OcKhtxn&sid=B7OY6t_iuPUdkzkdAAAA HTTP/1.1\" 200 -\n",
      "127.0.0.1 - - [26/Jul/2023 17:11:21] \"POST /socket.io/?EIO=4&transport=polling&t=OcKhv9Q&sid=8K-aq_S2xHEzPRJCAAAK HTTP/1.1\" 200 -\n",
      "127.0.0.1 - - [26/Jul/2023 17:11:21] \"GET /socket.io/?EIO=4&transport=polling&t=OcKht87&sid=8K-aq_S2xHEzPRJCAAAK HTTP/1.1\" 200 -\n",
      "127.0.0.1 - - [26/Jul/2023 17:11:21] \"GET /socket.io/?EIO=4&transport=polling&t=OcKhvAE HTTP/1.1\" 200 -\n",
      "127.0.0.1 - - [26/Jul/2023 17:11:21] \"POST /socket.io/?EIO=4&transport=polling&t=OcKhvAM&sid=YcPmhsJF0wj5Xzu9AAAM HTTP/1.1\" 200 -\n",
      "127.0.0.1 - - [26/Jul/2023 17:11:21] \"GET /socket.io/?EIO=4&transport=polling&t=OcKhvAN&sid=YcPmhsJF0wj5Xzu9AAAM HTTP/1.1\" 200 -\n",
      "127.0.0.1 - - [26/Jul/2023 17:11:22] \"POST /socket.io/?EIO=4&transport=polling&t=OcKhvGg&sid=YcPmhsJF0wj5Xzu9AAAM HTTP/1.1\" 200 -\n"
     ]
    },
    {
     "name": "stdout",
     "output_type": "stream",
     "text": [
      "{'selectedCardIndices': [0]}\n"
     ]
    },
    {
     "name": "stderr",
     "output_type": "stream",
     "text": [
      "127.0.0.1 - - [26/Jul/2023 17:11:22] \"POST /socket.io/?EIO=4&transport=polling&t=OcKhvLr&sid=YcPmhsJF0wj5Xzu9AAAM HTTP/1.1\" 200 -\n"
     ]
    },
    {
     "name": "stdout",
     "output_type": "stream",
     "text": [
      "{'selectedCardIndices': [0, 1]}\n"
     ]
    },
    {
     "name": "stderr",
     "output_type": "stream",
     "text": [
      "127.0.0.1 - - [26/Jul/2023 17:11:22] \"POST /socket.io/?EIO=4&transport=polling&t=OcKhvRJ&sid=YcPmhsJF0wj5Xzu9AAAM HTTP/1.1\" 200 -\n"
     ]
    },
    {
     "name": "stdout",
     "output_type": "stream",
     "text": [
      "{'selectedCardIndices': [0, 1, 2]}\n"
     ]
    },
    {
     "name": "stderr",
     "output_type": "stream",
     "text": [
      "127.0.0.1 - - [26/Jul/2023 17:11:23] \"POST /socket.io/?EIO=4&transport=polling&t=OcKhvYb&sid=YcPmhsJF0wj5Xzu9AAAM HTTP/1.1\" 200 -\n"
     ]
    },
    {
     "name": "stdout",
     "output_type": "stream",
     "text": [
      "{'selectedCardIndices': [0, 1, 2, 3]}\n"
     ]
    },
    {
     "name": "stderr",
     "output_type": "stream",
     "text": [
      "127.0.0.1 - - [26/Jul/2023 17:11:24] \"POST /socket.io/?EIO=4&transport=polling&t=OcKhvpo&sid=YcPmhsJF0wj5Xzu9AAAM HTTP/1.1\" 200 -\n"
     ]
    },
    {
     "name": "stdout",
     "output_type": "stream",
     "text": [
      "{'selectedCardIndices': [0, 1, 2]}\n"
     ]
    },
    {
     "name": "stderr",
     "output_type": "stream",
     "text": [
      "127.0.0.1 - - [26/Jul/2023 17:11:24] \"POST /socket.io/?EIO=4&transport=polling&t=OcKhvuU&sid=YcPmhsJF0wj5Xzu9AAAM HTTP/1.1\" 200 -\n"
     ]
    },
    {
     "name": "stdout",
     "output_type": "stream",
     "text": [
      "{'selectedCardIndices': [0, 1]}\n"
     ]
    },
    {
     "name": "stderr",
     "output_type": "stream",
     "text": [
      "127.0.0.1 - - [26/Jul/2023 17:11:24] \"POST /socket.io/?EIO=4&transport=polling&t=OcKhvzA&sid=YcPmhsJF0wj5Xzu9AAAM HTTP/1.1\" 200 -\n"
     ]
    },
    {
     "name": "stdout",
     "output_type": "stream",
     "text": [
      "{'selectedCardIndices': [0]}\n"
     ]
    },
    {
     "name": "stderr",
     "output_type": "stream",
     "text": [
      "127.0.0.1 - - [26/Jul/2023 17:11:25] \"POST /socket.io/?EIO=4&transport=polling&t=OcKhw2N&sid=YcPmhsJF0wj5Xzu9AAAM HTTP/1.1\" 200 -\n",
      "127.0.0.1 - - [26/Jul/2023 17:11:25] \"GET /socket.io/?EIO=4&transport=polling&t=OcKhvAj&sid=YcPmhsJF0wj5Xzu9AAAM HTTP/1.1\" 200 -\n"
     ]
    },
    {
     "name": "stdout",
     "output_type": "stream",
     "text": [
      "{'selectedCardIndices': []}\n",
      "WIN\n"
     ]
    },
    {
     "name": "stderr",
     "output_type": "stream",
     "text": [
      "127.0.0.1 - - [26/Jul/2023 17:11:27] \"POST /socket.io/?EIO=4&transport=polling&t=OcKhwir&sid=YcPmhsJF0wj5Xzu9AAAM HTTP/1.1\" 200 -\n"
     ]
    },
    {
     "name": "stdout",
     "output_type": "stream",
     "text": [
      "{'selectedCardIndices': [0]}\n"
     ]
    },
    {
     "name": "stderr",
     "output_type": "stream",
     "text": [
      "127.0.0.1 - - [26/Jul/2023 17:11:28] \"POST /socket.io/?EIO=4&transport=polling&t=OcKhwnH&sid=YcPmhsJF0wj5Xzu9AAAM HTTP/1.1\" 200 -\n"
     ]
    },
    {
     "name": "stdout",
     "output_type": "stream",
     "text": [
      "{'selectedCardIndices': [0, 1]}\n"
     ]
    },
    {
     "name": "stderr",
     "output_type": "stream",
     "text": [
      "127.0.0.1 - - [26/Jul/2023 17:11:28] \"POST /socket.io/?EIO=4&transport=polling&t=OcKhws_&sid=YcPmhsJF0wj5Xzu9AAAM HTTP/1.1\" 200 -\n"
     ]
    },
    {
     "name": "stdout",
     "output_type": "stream",
     "text": [
      "{'selectedCardIndices': [1]}\n"
     ]
    },
    {
     "name": "stderr",
     "output_type": "stream",
     "text": [
      "127.0.0.1 - - [26/Jul/2023 17:11:29] \"POST /socket.io/?EIO=4&transport=polling&t=OcKhx1Q&sid=YcPmhsJF0wj5Xzu9AAAM HTTP/1.1\" 200 -\n"
     ]
    },
    {
     "name": "stdout",
     "output_type": "stream",
     "text": [
      "{'selectedCardIndices': [1, 0]}\n"
     ]
    },
    {
     "name": "stderr",
     "output_type": "stream",
     "text": [
      "127.0.0.1 - - [26/Jul/2023 17:11:29] \"POST /socket.io/?EIO=4&transport=polling&t=OcKhx7w&sid=YcPmhsJF0wj5Xzu9AAAM HTTP/1.1\" 200 -\n"
     ]
    },
    {
     "name": "stdout",
     "output_type": "stream",
     "text": [
      "{'selectedCardIndices': [1, 0, 2]}\n"
     ]
    },
    {
     "name": "stderr",
     "output_type": "stream",
     "text": [
      "127.0.0.1 - - [26/Jul/2023 17:11:30] \"POST /socket.io/?EIO=4&transport=polling&t=OcKhxEA&sid=YcPmhsJF0wj5Xzu9AAAM HTTP/1.1\" 200 -\n"
     ]
    },
    {
     "name": "stdout",
     "output_type": "stream",
     "text": [
      "{'selectedCardIndices': [0, 2]}\n"
     ]
    },
    {
     "name": "stderr",
     "output_type": "stream",
     "text": [
      "127.0.0.1 - - [26/Jul/2023 17:11:30] \"POST /socket.io/?EIO=4&transport=polling&t=OcKhxJN&sid=YcPmhsJF0wj5Xzu9AAAM HTTP/1.1\" 200 -\n"
     ]
    },
    {
     "name": "stdout",
     "output_type": "stream",
     "text": [
      "{'selectedCardIndices': [2]}\n"
     ]
    },
    {
     "name": "stderr",
     "output_type": "stream",
     "text": [
      "127.0.0.1 - - [26/Jul/2023 17:11:30] \"POST /socket.io/?EIO=4&transport=polling&t=OcKhxOs&sid=YcPmhsJF0wj5Xzu9AAAM HTTP/1.1\" 200 -\n"
     ]
    },
    {
     "name": "stdout",
     "output_type": "stream",
     "text": [
      "{'selectedCardIndices': [2, 0]}\n"
     ]
    },
    {
     "name": "stderr",
     "output_type": "stream",
     "text": [
      "127.0.0.1 - - [26/Jul/2023 17:11:31] \"POST /socket.io/?EIO=4&transport=polling&t=OcKhxUb&sid=YcPmhsJF0wj5Xzu9AAAM HTTP/1.1\" 200 -\n"
     ]
    },
    {
     "name": "stdout",
     "output_type": "stream",
     "text": [
      "{'selectedCardIndices': [2, 0, 1]}\n"
     ]
    },
    {
     "name": "stderr",
     "output_type": "stream",
     "text": [
      "127.0.0.1 - - [26/Jul/2023 17:11:31] \"POST /socket.io/?EIO=4&transport=polling&t=OcKhxZX&sid=YcPmhsJF0wj5Xzu9AAAM HTTP/1.1\" 200 -\n"
     ]
    },
    {
     "name": "stdout",
     "output_type": "stream",
     "text": [
      "{'selectedCardIndices': [2, 1]}\n"
     ]
    },
    {
     "name": "stderr",
     "output_type": "stream",
     "text": [
      "127.0.0.1 - - [26/Jul/2023 17:11:31] \"POST /socket.io/?EIO=4&transport=polling&t=OcKhxhL&sid=YcPmhsJF0wj5Xzu9AAAM HTTP/1.1\" 200 -\n"
     ]
    },
    {
     "name": "stdout",
     "output_type": "stream",
     "text": [
      "{'selectedCardIndices': [2, 1, 0]}\n"
     ]
    },
    {
     "name": "stderr",
     "output_type": "stream",
     "text": [
      "127.0.0.1 - - [26/Jul/2023 17:11:32] \"POST /socket.io/?EIO=4&transport=polling&t=OcKhxxk&sid=YcPmhsJF0wj5Xzu9AAAM HTTP/1.1\" 200 -\n"
     ]
    },
    {
     "name": "stdout",
     "output_type": "stream",
     "text": [
      "{'selectedCardIndices': [2, 1]}\n"
     ]
    },
    {
     "name": "stderr",
     "output_type": "stream",
     "text": [
      "127.0.0.1 - - [26/Jul/2023 17:11:33] \"POST /socket.io/?EIO=4&transport=polling&t=OcKhx_f&sid=YcPmhsJF0wj5Xzu9AAAM HTTP/1.1\" 200 -\n"
     ]
    },
    {
     "name": "stdout",
     "output_type": "stream",
     "text": [
      "{'selectedCardIndices': [2]}\n"
     ]
    },
    {
     "name": "stderr",
     "output_type": "stream",
     "text": [
      "127.0.0.1 - - [26/Jul/2023 17:11:33] \"POST /socket.io/?EIO=4&transport=polling&t=OcKhy5v&sid=YcPmhsJF0wj5Xzu9AAAM HTTP/1.1\" 200 -\n",
      "127.0.0.1 - - [26/Jul/2023 17:11:33] \"GET /socket.io/?EIO=4&transport=polling&t=OcKhw2X&sid=YcPmhsJF0wj5Xzu9AAAM HTTP/1.1\" 200 -\n"
     ]
    },
    {
     "name": "stdout",
     "output_type": "stream",
     "text": [
      "{'selectedCardIndices': []}\n",
      "WIN\n"
     ]
    },
    {
     "name": "stderr",
     "output_type": "stream",
     "text": [
      "127.0.0.1 - - [26/Jul/2023 17:11:33] \"POST /socket.io/?EIO=4&transport=polling&t=OcKhyBe&sid=YcPmhsJF0wj5Xzu9AAAM HTTP/1.1\" 200 -\n"
     ]
    },
    {
     "name": "stdout",
     "output_type": "stream",
     "text": [
      "{'selectedCardIndices': [3]}\n"
     ]
    },
    {
     "name": "stderr",
     "output_type": "stream",
     "text": [
      "127.0.0.1 - - [26/Jul/2023 17:11:34] \"POST /socket.io/?EIO=4&transport=polling&t=OcKhyQU&sid=YcPmhsJF0wj5Xzu9AAAM HTTP/1.1\" 200 -\n",
      "127.0.0.1 - - [26/Jul/2023 17:11:34] \"GET /socket.io/?EIO=4&transport=polling&t=OcKhy62&sid=YcPmhsJF0wj5Xzu9AAAM HTTP/1.1\" 200 -\n"
     ]
    },
    {
     "name": "stdout",
     "output_type": "stream",
     "text": [
      "{'selectedCardIndices': [3, 0]}\n",
      "WIN\n"
     ]
    },
    {
     "name": "stderr",
     "output_type": "stream",
     "text": [
      "127.0.0.1 - - [26/Jul/2023 17:11:41] \"GET /socket.io/?EIO=4&transport=polling&t=OcKhtxo&sid=B7OY6t_iuPUdkzkdAAAA HTTP/1.1\" 200 -\n",
      "127.0.0.1 - - [26/Jul/2023 17:11:41] \"POST /socket.io/?EIO=4&transport=polling&t=OcKh-2b&sid=B7OY6t_iuPUdkzkdAAAA HTTP/1.1\" 200 -\n",
      "127.0.0.1 - - [26/Jul/2023 17:11:43] \"POST /socket.io/?EIO=4&transport=polling&t=OcKh-Qi&sid=YcPmhsJF0wj5Xzu9AAAM HTTP/1.1\" 200 -\n",
      "127.0.0.1 - - [26/Jul/2023 17:11:43] \"GET /socket.io/?EIO=4&transport=polling&t=OcKhyQg&sid=YcPmhsJF0wj5Xzu9AAAM HTTP/1.1\" 200 -\n",
      "127.0.0.1 - - [26/Jul/2023 17:11:43] \"GET /socket.io/?EIO=4&transport=polling&t=OcKh-RU HTTP/1.1\" 200 -\n",
      "127.0.0.1 - - [26/Jul/2023 17:11:43] \"POST /socket.io/?EIO=4&transport=polling&t=OcKh-Rd&sid=jJIM--KPCItpTljgAAAO HTTP/1.1\" 200 -\n",
      "127.0.0.1 - - [26/Jul/2023 17:11:43] \"GET /socket.io/?EIO=4&transport=polling&t=OcKh-Re&sid=jJIM--KPCItpTljgAAAO HTTP/1.1\" 200 -\n",
      "127.0.0.1 - - [26/Jul/2023 17:11:44] \"POST /socket.io/?EIO=4&transport=polling&t=OcKh-dz&sid=jJIM--KPCItpTljgAAAO HTTP/1.1\" 200 -\n"
     ]
    },
    {
     "name": "stdout",
     "output_type": "stream",
     "text": [
      "{'selectedCardIndices': [0]}\n"
     ]
    },
    {
     "name": "stderr",
     "output_type": "stream",
     "text": [
      "127.0.0.1 - - [26/Jul/2023 17:11:44] \"POST /socket.io/?EIO=4&transport=polling&t=OcKh-lk&sid=jJIM--KPCItpTljgAAAO HTTP/1.1\" 200 -\n"
     ]
    },
    {
     "name": "stdout",
     "output_type": "stream",
     "text": [
      "{'selectedCardIndices': [0, 1]}\n"
     ]
    },
    {
     "name": "stderr",
     "output_type": "stream",
     "text": [
      "127.0.0.1 - - [26/Jul/2023 17:11:45] \"POST /socket.io/?EIO=4&transport=polling&t=OcKh-v7&sid=jJIM--KPCItpTljgAAAO HTTP/1.1\" 200 -\n"
     ]
    },
    {
     "name": "stdout",
     "output_type": "stream",
     "text": [
      "{'selectedCardIndices': [1]}\n"
     ]
    },
    {
     "name": "stderr",
     "output_type": "stream",
     "text": [
      "127.0.0.1 - - [26/Jul/2023 17:11:45] \"POST /socket.io/?EIO=4&transport=polling&t=OcKh_08&sid=jJIM--KPCItpTljgAAAO HTTP/1.1\" 200 -\n"
     ]
    },
    {
     "name": "stdout",
     "output_type": "stream",
     "text": [
      "{'selectedCardIndices': [1, 0]}\n"
     ]
    },
    {
     "name": "stderr",
     "output_type": "stream",
     "text": [
      "127.0.0.1 - - [26/Jul/2023 17:11:46] \"POST /socket.io/?EIO=4&transport=polling&t=OcKh_9G&sid=jJIM--KPCItpTljgAAAO HTTP/1.1\" 200 -\n"
     ]
    },
    {
     "name": "stdout",
     "output_type": "stream",
     "text": [
      "{'selectedCardIndices': [1]}\n"
     ]
    },
    {
     "name": "stderr",
     "output_type": "stream",
     "text": [
      "127.0.0.1 - - [26/Jul/2023 17:11:46] \"POST /socket.io/?EIO=4&transport=polling&t=OcKh_Jh&sid=jJIM--KPCItpTljgAAAO HTTP/1.1\" 200 -\n"
     ]
    },
    {
     "name": "stdout",
     "output_type": "stream",
     "text": [
      "{'selectedCardIndices': [2]}\n"
     ]
    },
    {
     "name": "stderr",
     "output_type": "stream",
     "text": [
      "127.0.0.1 - - [26/Jul/2023 17:11:47] \"POST /socket.io/?EIO=4&transport=polling&t=OcKh_So&sid=jJIM--KPCItpTljgAAAO HTTP/1.1\" 200 -\n"
     ]
    },
    {
     "name": "stdout",
     "output_type": "stream",
     "text": [
      "{'selectedCardIndices': [2, 0]}\n"
     ]
    },
    {
     "name": "stderr",
     "output_type": "stream",
     "text": [
      "127.0.0.1 - - [26/Jul/2023 17:11:47] \"POST /socket.io/?EIO=4&transport=polling&t=OcKh_aM&sid=jJIM--KPCItpTljgAAAO HTTP/1.1\" 200 -\n"
     ]
    },
    {
     "name": "stdout",
     "output_type": "stream",
     "text": [
      "{'selectedCardIndices': [2, 0, 1]}\n"
     ]
    },
    {
     "name": "stderr",
     "output_type": "stream",
     "text": [
      "127.0.0.1 - - [26/Jul/2023 17:11:48] \"POST /socket.io/?EIO=4&transport=polling&t=OcKh_g4&sid=jJIM--KPCItpTljgAAAO HTTP/1.1\" 200 -\n",
      "127.0.0.1 - - [26/Jul/2023 17:11:48] \"GET /socket.io/?EIO=4&transport=polling&t=OcKh-Ro&sid=jJIM--KPCItpTljgAAAO HTTP/1.1\" 200 -\n"
     ]
    },
    {
     "name": "stdout",
     "output_type": "stream",
     "text": [
      "{'selectedCardIndices': [2, 1]}\n",
      "WIN\n"
     ]
    },
    {
     "name": "stderr",
     "output_type": "stream",
     "text": [
      "127.0.0.1 - - [26/Jul/2023 17:12:06] \"GET /socket.io/?EIO=4&transport=polling&t=OcKh-2c&sid=B7OY6t_iuPUdkzkdAAAA HTTP/1.1\" 200 -\n",
      "127.0.0.1 - - [26/Jul/2023 17:12:06] \"POST /socket.io/?EIO=4&transport=polling&t=OcKi49P&sid=B7OY6t_iuPUdkzkdAAAA HTTP/1.1\" 200 -\n",
      "127.0.0.1 - - [26/Jul/2023 17:12:08] \"GET /socket.io/?EIO=4&transport=polling&t=OcKh_gE&sid=jJIM--KPCItpTljgAAAO HTTP/1.1\" 200 -\n",
      "127.0.0.1 - - [26/Jul/2023 17:12:08] \"POST /socket.io/?EIO=4&transport=polling&t=OcKi4YI&sid=jJIM--KPCItpTljgAAAO HTTP/1.1\" 200 -\n",
      "127.0.0.1 - - [26/Jul/2023 17:12:31] \"GET /socket.io/?EIO=4&transport=polling&t=OcKi49Q&sid=B7OY6t_iuPUdkzkdAAAA HTTP/1.1\" 200 -\n",
      "127.0.0.1 - - [26/Jul/2023 17:12:31] \"POST /socket.io/?EIO=4&transport=polling&t=OcKiAGC&sid=B7OY6t_iuPUdkzkdAAAA HTTP/1.1\" 200 -\n",
      "127.0.0.1 - - [26/Jul/2023 17:12:33] \"GET /socket.io/?EIO=4&transport=polling&t=OcKi4YJ&sid=jJIM--KPCItpTljgAAAO HTTP/1.1\" 200 -\n",
      "127.0.0.1 - - [26/Jul/2023 17:12:33] \"POST /socket.io/?EIO=4&transport=polling&t=OcKiAf4&sid=jJIM--KPCItpTljgAAAO HTTP/1.1\" 200 -\n",
      "127.0.0.1 - - [26/Jul/2023 17:12:35] \"POST /socket.io/?EIO=4&transport=polling&t=OcKiBHV&sid=jJIM--KPCItpTljgAAAO HTTP/1.1\" 200 -\n",
      "127.0.0.1 - - [26/Jul/2023 17:12:35] \"GET /socket.io/?EIO=4&transport=polling&t=OcKiAf4.0&sid=jJIM--KPCItpTljgAAAO HTTP/1.1\" 200 -\n",
      "127.0.0.1 - - [26/Jul/2023 17:12:35] \"GET /socket.io/?EIO=4&transport=polling&t=OcKiBIK HTTP/1.1\" 200 -\n",
      "127.0.0.1 - - [26/Jul/2023 17:12:35] \"POST /socket.io/?EIO=4&transport=polling&t=OcKiBIU&sid=eVGbRjQfDi1QDLE8AAAQ HTTP/1.1\" 200 -\n",
      "127.0.0.1 - - [26/Jul/2023 17:12:35] \"GET /socket.io/?EIO=4&transport=polling&t=OcKiBIV&sid=eVGbRjQfDi1QDLE8AAAQ HTTP/1.1\" 200 -\n",
      "127.0.0.1 - - [26/Jul/2023 17:12:36] \"POST /socket.io/?EIO=4&transport=polling&t=OcKiBRs&sid=eVGbRjQfDi1QDLE8AAAQ HTTP/1.1\" 200 -\n"
     ]
    },
    {
     "name": "stdout",
     "output_type": "stream",
     "text": [
      "{'selectedCardIndices': [0]}\n"
     ]
    },
    {
     "name": "stderr",
     "output_type": "stream",
     "text": [
      "127.0.0.1 - - [26/Jul/2023 17:12:36] \"POST /socket.io/?EIO=4&transport=polling&t=OcKiBWm&sid=eVGbRjQfDi1QDLE8AAAQ HTTP/1.1\" 200 -\n"
     ]
    },
    {
     "name": "stdout",
     "output_type": "stream",
     "text": [
      "{'selectedCardIndices': [0, 1]}\n"
     ]
    },
    {
     "name": "stderr",
     "output_type": "stream",
     "text": [
      "127.0.0.1 - - [26/Jul/2023 17:12:37] \"POST /socket.io/?EIO=4&transport=polling&t=OcKiBea&sid=eVGbRjQfDi1QDLE8AAAQ HTTP/1.1\" 200 -\n"
     ]
    },
    {
     "name": "stdout",
     "output_type": "stream",
     "text": [
      "{'selectedCardIndices': [0, 1, 2]}\n"
     ]
    },
    {
     "name": "stderr",
     "output_type": "stream",
     "text": [
      "127.0.0.1 - - [26/Jul/2023 17:12:37] \"POST /socket.io/?EIO=4&transport=polling&t=OcKiBlM&sid=eVGbRjQfDi1QDLE8AAAQ HTTP/1.1\" 200 -\n"
     ]
    },
    {
     "name": "stdout",
     "output_type": "stream",
     "text": [
      "{'selectedCardIndices': [0, 2]}\n"
     ]
    },
    {
     "name": "stderr",
     "output_type": "stream",
     "text": [
      "127.0.0.1 - - [26/Jul/2023 17:12:38] \"POST /socket.io/?EIO=4&transport=polling&t=OcKiBtA&sid=eVGbRjQfDi1QDLE8AAAQ HTTP/1.1\" 200 -\n"
     ]
    },
    {
     "name": "stdout",
     "output_type": "stream",
     "text": [
      "{'selectedCardIndices': [2]}\n"
     ]
    },
    {
     "name": "stderr",
     "output_type": "stream",
     "text": [
      "127.0.0.1 - - [26/Jul/2023 17:12:39] \"POST /socket.io/?EIO=4&transport=polling&t=OcKiC7a&sid=eVGbRjQfDi1QDLE8AAAQ HTTP/1.1\" 200 -\n"
     ]
    },
    {
     "name": "stdout",
     "output_type": "stream",
     "text": [
      "{'selectedCardIndices': [0]}\n"
     ]
    },
    {
     "name": "stderr",
     "output_type": "stream",
     "text": [
      "127.0.0.1 - - [26/Jul/2023 17:12:39] \"POST /socket.io/?EIO=4&transport=polling&t=OcKiCCF&sid=eVGbRjQfDi1QDLE8AAAQ HTTP/1.1\" 200 -\n"
     ]
    },
    {
     "name": "stdout",
     "output_type": "stream",
     "text": [
      "{'selectedCardIndices': [0, 1]}\n"
     ]
    },
    {
     "name": "stderr",
     "output_type": "stream",
     "text": [
      "127.0.0.1 - - [26/Jul/2023 17:12:39] \"POST /socket.io/?EIO=4&transport=polling&t=OcKiCGy&sid=eVGbRjQfDi1QDLE8AAAQ HTTP/1.1\" 200 -\n"
     ]
    },
    {
     "name": "stdout",
     "output_type": "stream",
     "text": [
      "{'selectedCardIndices': [1]}\n"
     ]
    },
    {
     "name": "stderr",
     "output_type": "stream",
     "text": [
      "127.0.0.1 - - [26/Jul/2023 17:12:40] \"POST /socket.io/?EIO=4&transport=polling&t=OcKiCMh&sid=eVGbRjQfDi1QDLE8AAAQ HTTP/1.1\" 200 -\n"
     ]
    },
    {
     "name": "stdout",
     "output_type": "stream",
     "text": [
      "{'selectedCardIndices': [1, 0]}\n"
     ]
    },
    {
     "name": "stderr",
     "output_type": "stream",
     "text": [
      "127.0.0.1 - - [26/Jul/2023 17:12:41] \"POST /socket.io/?EIO=4&transport=polling&t=OcKiCbG&sid=eVGbRjQfDi1QDLE8AAAQ HTTP/1.1\" 200 -\n"
     ]
    },
    {
     "name": "stdout",
     "output_type": "stream",
     "text": [
      "{'selectedCardIndices': [1]}\n"
     ]
    },
    {
     "name": "stderr",
     "output_type": "stream",
     "text": [
      "127.0.0.1 - - [26/Jul/2023 17:12:41] \"POST /socket.io/?EIO=4&transport=polling&t=OcKiCk7&sid=eVGbRjQfDi1QDLE8AAAQ HTTP/1.1\" 200 -\n"
     ]
    },
    {
     "name": "stdout",
     "output_type": "stream",
     "text": [
      "{'selectedCardIndices': [2]}\n"
     ]
    },
    {
     "name": "stderr",
     "output_type": "stream",
     "text": [
      "127.0.0.1 - - [26/Jul/2023 17:12:42] \"POST /socket.io/?EIO=4&transport=polling&t=OcKiCpb&sid=eVGbRjQfDi1QDLE8AAAQ HTTP/1.1\" 200 -\n"
     ]
    },
    {
     "name": "stdout",
     "output_type": "stream",
     "text": [
      "{'selectedCardIndices': [2, 0]}\n"
     ]
    },
    {
     "name": "stderr",
     "output_type": "stream",
     "text": [
      "127.0.0.1 - - [26/Jul/2023 17:12:42] \"POST /socket.io/?EIO=4&transport=polling&t=OcKiCvK&sid=eVGbRjQfDi1QDLE8AAAQ HTTP/1.1\" 200 -\n"
     ]
    },
    {
     "name": "stdout",
     "output_type": "stream",
     "text": [
      "{'selectedCardIndices': [2, 0, 1]}\n"
     ]
    },
    {
     "name": "stderr",
     "output_type": "stream",
     "text": [
      "127.0.0.1 - - [26/Jul/2023 17:12:42] \"POST /socket.io/?EIO=4&transport=polling&t=OcKiCzU&sid=eVGbRjQfDi1QDLE8AAAQ HTTP/1.1\" 200 -\n"
     ]
    },
    {
     "name": "stdout",
     "output_type": "stream",
     "text": [
      "{'selectedCardIndices': [2, 1]}\n"
     ]
    },
    {
     "name": "stderr",
     "output_type": "stream",
     "text": [
      "127.0.0.1 - - [26/Jul/2023 17:12:43] \"POST /socket.io/?EIO=4&transport=polling&t=OcKiD3_&sid=eVGbRjQfDi1QDLE8AAAQ HTTP/1.1\" 200 -\n"
     ]
    },
    {
     "name": "stdout",
     "output_type": "stream",
     "text": [
      "{'selectedCardIndices': [2, 1, 0]}\n"
     ]
    },
    {
     "name": "stderr",
     "output_type": "stream",
     "text": [
      "127.0.0.1 - - [26/Jul/2023 17:12:43] \"POST /socket.io/?EIO=4&transport=polling&t=OcKiDAm&sid=eVGbRjQfDi1QDLE8AAAQ HTTP/1.1\" 200 -\n"
     ]
    },
    {
     "name": "stdout",
     "output_type": "stream",
     "text": [
      "{'selectedCardIndices': [2, 1]}\n"
     ]
    },
    {
     "name": "stderr",
     "output_type": "stream",
     "text": [
      "127.0.0.1 - - [26/Jul/2023 17:12:43] \"POST /socket.io/?EIO=4&transport=polling&t=OcKiDEx&sid=eVGbRjQfDi1QDLE8AAAQ HTTP/1.1\" 200 -\n"
     ]
    },
    {
     "name": "stdout",
     "output_type": "stream",
     "text": [
      "{'selectedCardIndices': [2]}\n"
     ]
    },
    {
     "name": "stderr",
     "output_type": "stream",
     "text": [
      "127.0.0.1 - - [26/Jul/2023 17:12:44] \"POST /socket.io/?EIO=4&transport=polling&t=OcKiDRz&sid=eVGbRjQfDi1QDLE8AAAQ HTTP/1.1\" 200 -\n"
     ]
    },
    {
     "name": "stdout",
     "output_type": "stream",
     "text": [
      "{'selectedCardIndices': [3]}\n"
     ]
    },
    {
     "name": "stderr",
     "output_type": "stream",
     "text": [
      "127.0.0.1 - - [26/Jul/2023 17:12:45] \"POST /socket.io/?EIO=4&transport=polling&t=OcKiDce&sid=eVGbRjQfDi1QDLE8AAAQ HTTP/1.1\" 200 -\n"
     ]
    },
    {
     "name": "stdout",
     "output_type": "stream",
     "text": [
      "{'selectedCardIndices': [3, 0]}\n"
     ]
    },
    {
     "name": "stderr",
     "output_type": "stream",
     "text": [
      "127.0.0.1 - - [26/Jul/2023 17:12:46] \"POST /socket.io/?EIO=4&transport=polling&t=OcKiDta&sid=eVGbRjQfDi1QDLE8AAAQ HTTP/1.1\" 200 -\n",
      "127.0.0.1 - - [26/Jul/2023 17:12:46] \"GET /socket.io/?EIO=4&transport=polling&t=OcKiBIg&sid=eVGbRjQfDi1QDLE8AAAQ HTTP/1.1\" 200 -\n"
     ]
    },
    {
     "name": "stdout",
     "output_type": "stream",
     "text": [
      "{'selectedCardIndices': [3, 0, 1]}\n",
      "WIN\n"
     ]
    },
    {
     "name": "stderr",
     "output_type": "stream",
     "text": [
      "127.0.0.1 - - [26/Jul/2023 17:12:56] \"GET /socket.io/?EIO=4&transport=polling&t=OcKiAGD&sid=B7OY6t_iuPUdkzkdAAAA HTTP/1.1\" 200 -\n",
      "127.0.0.1 - - [26/Jul/2023 17:12:56] \"POST /socket.io/?EIO=4&transport=polling&t=OcKiGMz&sid=B7OY6t_iuPUdkzkdAAAA HTTP/1.1\" 200 -\n",
      "127.0.0.1 - - [26/Jul/2023 17:13:00] \"GET /socket.io/?EIO=4&transport=polling&t=OcKiDtk&sid=eVGbRjQfDi1QDLE8AAAQ HTTP/1.1\" 200 -\n",
      "127.0.0.1 - - [26/Jul/2023 17:13:00] \"POST /socket.io/?EIO=4&transport=polling&t=OcKiHP5&sid=eVGbRjQfDi1QDLE8AAAQ HTTP/1.1\" 200 -\n",
      "127.0.0.1 - - [26/Jul/2023 17:13:02] \"POST /socket.io/?EIO=4&transport=polling&t=OcKiHrP&sid=eVGbRjQfDi1QDLE8AAAQ HTTP/1.1\" 200 -\n",
      "127.0.0.1 - - [26/Jul/2023 17:13:02] \"GET /socket.io/?EIO=4&transport=polling&t=OcKiHP6&sid=eVGbRjQfDi1QDLE8AAAQ HTTP/1.1\" 200 -\n",
      "127.0.0.1 - - [26/Jul/2023 17:13:02] \"GET /socket.io/?EIO=4&transport=polling&t=OcKiHsB HTTP/1.1\" 200 -\n",
      "127.0.0.1 - - [26/Jul/2023 17:13:02] \"POST /socket.io/?EIO=4&transport=polling&t=OcKiHsM&sid=gDyTUn_UV4v1YrX5AAAS HTTP/1.1\" 200 -\n",
      "127.0.0.1 - - [26/Jul/2023 17:13:02] \"GET /socket.io/?EIO=4&transport=polling&t=OcKiHsN&sid=gDyTUn_UV4v1YrX5AAAS HTTP/1.1\" 200 -\n",
      "127.0.0.1 - - [26/Jul/2023 17:13:03] \"POST /socket.io/?EIO=4&transport=polling&t=OcKiI2M&sid=gDyTUn_UV4v1YrX5AAAS HTTP/1.1\" 200 -\n"
     ]
    },
    {
     "name": "stdout",
     "output_type": "stream",
     "text": [
      "{'selectedCardIndices': [0]}\n"
     ]
    },
    {
     "name": "stderr",
     "output_type": "stream",
     "text": [
      "127.0.0.1 - - [26/Jul/2023 17:13:11] \"POST /socket.io/?EIO=4&transport=polling&t=OcKiJxD&sid=gDyTUn_UV4v1YrX5AAAS HTTP/1.1\" 200 -\n"
     ]
    },
    {
     "name": "stdout",
     "output_type": "stream",
     "text": [
      "{'selectedCardIndices': [0]}\n"
     ]
    },
    {
     "name": "stderr",
     "output_type": "stream",
     "text": [
      "127.0.0.1 - - [26/Jul/2023 17:13:11] \"POST /socket.io/?EIO=4&transport=polling&t=OcKiK56&sid=gDyTUn_UV4v1YrX5AAAS HTTP/1.1\" 200 -\n"
     ]
    },
    {
     "name": "stdout",
     "output_type": "stream",
     "text": [
      "{'selectedCardIndices': [0, 2]}\n"
     ]
    },
    {
     "name": "stderr",
     "output_type": "stream",
     "text": [
      "127.0.0.1 - - [26/Jul/2023 17:13:12] \"POST /socket.io/?EIO=4&transport=polling&t=OcKiKDi&sid=gDyTUn_UV4v1YrX5AAAS HTTP/1.1\" 200 -\n",
      "127.0.0.1 - - [26/Jul/2023 17:13:12] \"GET /socket.io/?EIO=4&transport=polling&t=OcKiHsY&sid=gDyTUn_UV4v1YrX5AAAS HTTP/1.1\" 200 -\n"
     ]
    },
    {
     "name": "stdout",
     "output_type": "stream",
     "text": [
      "{'selectedCardIndices': [0, 2, 3]}\n",
      "WIN\n"
     ]
    },
    {
     "name": "stderr",
     "output_type": "stream",
     "text": [
      "127.0.0.1 - - [26/Jul/2023 17:13:21] \"GET /socket.io/?EIO=4&transport=polling&t=OcKiGM-&sid=B7OY6t_iuPUdkzkdAAAA HTTP/1.1\" 200 -\n",
      "127.0.0.1 - - [26/Jul/2023 17:13:21] \"POST /socket.io/?EIO=4&transport=polling&t=OcKiMTo&sid=B7OY6t_iuPUdkzkdAAAA HTTP/1.1\" 200 -\n",
      "127.0.0.1 - - [26/Jul/2023 17:13:27] \"GET /socket.io/?EIO=4&transport=polling&t=OcKiKDs&sid=gDyTUn_UV4v1YrX5AAAS HTTP/1.1\" 200 -\n",
      "127.0.0.1 - - [26/Jul/2023 17:13:27] \"POST /socket.io/?EIO=4&transport=polling&t=OcKiNyx&sid=gDyTUn_UV4v1YrX5AAAS HTTP/1.1\" 200 -\n",
      "127.0.0.1 - - [26/Jul/2023 17:13:46] \"GET /socket.io/?EIO=4&transport=polling&t=OcKiMTp&sid=B7OY6t_iuPUdkzkdAAAA HTTP/1.1\" 200 -\n",
      "127.0.0.1 - - [26/Jul/2023 17:13:46] \"POST /socket.io/?EIO=4&transport=polling&t=OcKiSaZ&sid=B7OY6t_iuPUdkzkdAAAA HTTP/1.1\" 200 -\n",
      "127.0.0.1 - - [26/Jul/2023 17:13:52] \"GET /socket.io/?EIO=4&transport=polling&t=OcKiNyy&sid=gDyTUn_UV4v1YrX5AAAS HTTP/1.1\" 200 -\n",
      "127.0.0.1 - - [26/Jul/2023 17:13:52] \"POST /socket.io/?EIO=4&transport=polling&t=OcKiU3n&sid=gDyTUn_UV4v1YrX5AAAS HTTP/1.1\" 200 -\n",
      "127.0.0.1 - - [26/Jul/2023 17:14:11] \"GET /socket.io/?EIO=4&transport=polling&t=OcKiSaa&sid=B7OY6t_iuPUdkzkdAAAA HTTP/1.1\" 200 -\n",
      "127.0.0.1 - - [26/Jul/2023 17:14:11] \"POST /socket.io/?EIO=4&transport=polling&t=OcKiYhO&sid=B7OY6t_iuPUdkzkdAAAA HTTP/1.1\" 200 -\n",
      "127.0.0.1 - - [26/Jul/2023 17:14:17] \"GET /socket.io/?EIO=4&transport=polling&t=OcKiU3o&sid=gDyTUn_UV4v1YrX5AAAS HTTP/1.1\" 200 -\n",
      "127.0.0.1 - - [26/Jul/2023 17:14:17] \"POST /socket.io/?EIO=4&transport=polling&t=OcKiaAZ&sid=gDyTUn_UV4v1YrX5AAAS HTTP/1.1\" 200 -\n",
      "127.0.0.1 - - [26/Jul/2023 17:14:36] \"GET /socket.io/?EIO=4&transport=polling&t=OcKiYhP&sid=B7OY6t_iuPUdkzkdAAAA HTTP/1.1\" 200 -\n",
      "127.0.0.1 - - [26/Jul/2023 17:14:36] \"POST /socket.io/?EIO=4&transport=polling&t=OcKieoB&sid=B7OY6t_iuPUdkzkdAAAA HTTP/1.1\" 200 -\n",
      "127.0.0.1 - - [26/Jul/2023 17:14:42] \"GET /socket.io/?EIO=4&transport=polling&t=OcKiaAa&sid=gDyTUn_UV4v1YrX5AAAS HTTP/1.1\" 200 -\n",
      "127.0.0.1 - - [26/Jul/2023 17:14:42] \"POST /socket.io/?EIO=4&transport=polling&t=OcKigHJ&sid=gDyTUn_UV4v1YrX5AAAS HTTP/1.1\" 200 -\n",
      "127.0.0.1 - - [26/Jul/2023 17:14:53] \"POST /socket.io/?EIO=4&transport=polling&t=OcKiiuH&sid=gDyTUn_UV4v1YrX5AAAS HTTP/1.1\" 200 -\n",
      "127.0.0.1 - - [26/Jul/2023 17:14:53] \"GET /socket.io/?EIO=4&transport=polling&t=OcKigHK&sid=gDyTUn_UV4v1YrX5AAAS HTTP/1.1\" 200 -\n",
      "127.0.0.1 - - [26/Jul/2023 17:14:53] \"GET /socket.io/?EIO=4&transport=polling&t=OcKiiv3 HTTP/1.1\" 200 -\n",
      "127.0.0.1 - - [26/Jul/2023 17:14:53] \"POST /socket.io/?EIO=4&transport=polling&t=OcKiivB&sid=59cX78hZ35jzgA6RAAAU HTTP/1.1\" 200 -\n",
      "127.0.0.1 - - [26/Jul/2023 17:14:53] \"GET /socket.io/?EIO=4&transport=polling&t=OcKiivC&sid=59cX78hZ35jzgA6RAAAU HTTP/1.1\" 200 -\n",
      "127.0.0.1 - - [26/Jul/2023 17:14:54] \"POST /socket.io/?EIO=4&transport=polling&t=OcKij2f&sid=59cX78hZ35jzgA6RAAAU HTTP/1.1\" 200 -\n"
     ]
    },
    {
     "name": "stdout",
     "output_type": "stream",
     "text": [
      "{'selectedCardIndices': [0]}\n"
     ]
    },
    {
     "name": "stderr",
     "output_type": "stream",
     "text": [
      "127.0.0.1 - - [26/Jul/2023 17:15:01] \"GET /socket.io/?EIO=4&transport=polling&t=OcKieoC&sid=B7OY6t_iuPUdkzkdAAAA HTTP/1.1\" 200 -\n",
      "127.0.0.1 - - [26/Jul/2023 17:15:01] \"POST /socket.io/?EIO=4&transport=polling&t=OcKiku-&sid=B7OY6t_iuPUdkzkdAAAA HTTP/1.1\" 200 -\n",
      "127.0.0.1 - - [26/Jul/2023 17:15:07] \"POST /socket.io/?EIO=4&transport=polling&t=OcKimDp&sid=59cX78hZ35jzgA6RAAAU HTTP/1.1\" 200 -\n"
     ]
    },
    {
     "name": "stdout",
     "output_type": "stream",
     "text": [
      "{'selectedCardIndices': [1]}\n"
     ]
    },
    {
     "name": "stderr",
     "output_type": "stream",
     "text": [
      "127.0.0.1 - - [26/Jul/2023 17:15:07] \"POST /socket.io/?EIO=4&transport=polling&t=OcKimJo&sid=59cX78hZ35jzgA6RAAAU HTTP/1.1\" 200 -\n"
     ]
    },
    {
     "name": "stdout",
     "output_type": "stream",
     "text": [
      "{'selectedCardIndices': [1, 0]}\n"
     ]
    },
    {
     "name": "stderr",
     "output_type": "stream",
     "text": [
      "127.0.0.1 - - [26/Jul/2023 17:15:08] \"POST /socket.io/?EIO=4&transport=polling&t=OcKimSf&sid=59cX78hZ35jzgA6RAAAU HTTP/1.1\" 200 -\n"
     ]
    },
    {
     "name": "stdout",
     "output_type": "stream",
     "text": [
      "{'selectedCardIndices': [1]}\n"
     ]
    },
    {
     "name": "stderr",
     "output_type": "stream",
     "text": [
      "127.0.0.1 - - [26/Jul/2023 17:15:10] \"POST /socket.io/?EIO=4&transport=polling&t=OcKin51&sid=59cX78hZ35jzgA6RAAAU HTTP/1.1\" 200 -\n"
     ]
    },
    {
     "name": "stdout",
     "output_type": "stream",
     "text": [
      "{'selectedCardIndices': [2]}\n"
     ]
    },
    {
     "name": "stderr",
     "output_type": "stream",
     "text": [
      "127.0.0.1 - - [26/Jul/2023 17:15:10] \"POST /socket.io/?EIO=4&transport=polling&t=OcKin9j&sid=59cX78hZ35jzgA6RAAAU HTTP/1.1\" 200 -\n"
     ]
    },
    {
     "name": "stdout",
     "output_type": "stream",
     "text": [
      "{'selectedCardIndices': [2, 1]}\n"
     ]
    },
    {
     "name": "stderr",
     "output_type": "stream",
     "text": [
      "127.0.0.1 - - [26/Jul/2023 17:15:11] \"POST /socket.io/?EIO=4&transport=polling&t=OcKinLB&sid=59cX78hZ35jzgA6RAAAU HTTP/1.1\" 200 -\n"
     ]
    },
    {
     "name": "stdout",
     "output_type": "stream",
     "text": [
      "{'selectedCardIndices': [2]}\n"
     ]
    },
    {
     "name": "stderr",
     "output_type": "stream",
     "text": [
      "127.0.0.1 - - [26/Jul/2023 17:15:15] \"POST /socket.io/?EIO=4&transport=polling&t=OcKioBd&sid=59cX78hZ35jzgA6RAAAU HTTP/1.1\" 200 -\n"
     ]
    },
    {
     "name": "stdout",
     "output_type": "stream",
     "text": [
      "{'selectedCardIndices': [0]}\n"
     ]
    },
    {
     "name": "stderr",
     "output_type": "stream",
     "text": [
      "127.0.0.1 - - [26/Jul/2023 17:15:15] \"POST /socket.io/?EIO=4&transport=polling&t=OcKioIf&sid=59cX78hZ35jzgA6RAAAU HTTP/1.1\" 200 -\n"
     ]
    },
    {
     "name": "stdout",
     "output_type": "stream",
     "text": [
      "{'selectedCardIndices': [0, 2]}\n"
     ]
    },
    {
     "name": "stderr",
     "output_type": "stream",
     "text": [
      "127.0.0.1 - - [26/Jul/2023 17:15:16] \"POST /socket.io/?EIO=4&transport=polling&t=OcKioPy&sid=59cX78hZ35jzgA6RAAAU HTTP/1.1\" 200 -\n",
      "127.0.0.1 - - [26/Jul/2023 17:15:16] \"GET /socket.io/?EIO=4&transport=polling&t=OcKiivO&sid=59cX78hZ35jzgA6RAAAU HTTP/1.1\" 200 -\n"
     ]
    },
    {
     "name": "stdout",
     "output_type": "stream",
     "text": [
      "{'selectedCardIndices': [0, 2, 1]}\n",
      "WIN\n"
     ]
    },
    {
     "name": "stderr",
     "output_type": "stream",
     "text": [
      "127.0.0.1 - - [26/Jul/2023 17:15:17] \"POST /socket.io/?EIO=4&transport=polling&t=OcKiopT&sid=59cX78hZ35jzgA6RAAAU HTTP/1.1\" 200 -\n"
     ]
    },
    {
     "name": "stdout",
     "output_type": "stream",
     "text": [
      "{'selectedCardIndices': [0, 1]}\n"
     ]
    },
    {
     "name": "stderr",
     "output_type": "stream",
     "text": [
      "127.0.0.1 - - [26/Jul/2023 17:15:18] \"POST /socket.io/?EIO=4&transport=polling&t=OcKioux&sid=59cX78hZ35jzgA6RAAAU HTTP/1.1\" 200 -\n"
     ]
    },
    {
     "name": "stdout",
     "output_type": "stream",
     "text": [
      "{'selectedCardIndices': [0]}\n"
     ]
    },
    {
     "name": "stderr",
     "output_type": "stream",
     "text": [
      "127.0.0.1 - - [26/Jul/2023 17:15:18] \"POST /socket.io/?EIO=4&transport=polling&t=OcKio-w&sid=59cX78hZ35jzgA6RAAAU HTTP/1.1\" 200 -\n",
      "127.0.0.1 - - [26/Jul/2023 17:15:18] \"GET /socket.io/?EIO=4&transport=polling&t=OcKioQH&sid=59cX78hZ35jzgA6RAAAU HTTP/1.1\" 200 -\n",
      "127.0.0.1 - - [26/Jul/2023 17:15:18] \"POST /socket.io/?EIO=4&transport=polling&t=OcKio_q&sid=59cX78hZ35jzgA6RAAAU HTTP/1.1\" 200 -\n"
     ]
    },
    {
     "name": "stdout",
     "output_type": "stream",
     "text": [
      "{'selectedCardIndices': [0, 3]}\n"
     ]
    },
    {
     "name": "stderr",
     "output_type": "stream",
     "text": [
      "127.0.0.1 - - [26/Jul/2023 17:15:19] \"POST /socket.io/?EIO=4&transport=polling&t=OcKip81&sid=59cX78hZ35jzgA6RAAAU HTTP/1.1\" 200 -\n"
     ]
    },
    {
     "name": "stdout",
     "output_type": "stream",
     "text": [
      "{'selectedCardIndices': [3]}\n"
     ]
    },
    {
     "name": "stderr",
     "output_type": "stream",
     "text": [
      "127.0.0.1 - - [26/Jul/2023 17:15:19] \"POST /socket.io/?EIO=4&transport=polling&t=OcKipEI&sid=59cX78hZ35jzgA6RAAAU HTTP/1.1\" 200 -\n",
      "127.0.0.1 - - [26/Jul/2023 17:15:19] \"GET /socket.io/?EIO=4&transport=polling&t=OcKio_r&sid=59cX78hZ35jzgA6RAAAU HTTP/1.1\" 200 -\n"
     ]
    },
    {
     "name": "stdout",
     "output_type": "stream",
     "text": [
      "{'selectedCardIndices': [3, 1]}\n",
      "WIN\n"
     ]
    },
    {
     "name": "stderr",
     "output_type": "stream",
     "text": [
      "127.0.0.1 - - [26/Jul/2023 17:15:19] \"POST /socket.io/?EIO=4&transport=polling&t=OcKipJF&sid=59cX78hZ35jzgA6RAAAU HTTP/1.1\" 200 -\n"
     ]
    },
    {
     "name": "stdout",
     "output_type": "stream",
     "text": [
      "{'selectedCardIndices': [3, 1, 2]}\n"
     ]
    },
    {
     "name": "stderr",
     "output_type": "stream",
     "text": [
      "127.0.0.1 - - [26/Jul/2023 17:15:20] \"POST /socket.io/?EIO=4&transport=polling&t=OcKipTf&sid=59cX78hZ35jzgA6RAAAU HTTP/1.1\" 200 -\n"
     ]
    },
    {
     "name": "stdout",
     "output_type": "stream",
     "text": [
      "{'selectedCardIndices': [3, 2]}\n"
     ]
    },
    {
     "name": "stderr",
     "output_type": "stream",
     "text": [
      "127.0.0.1 - - [26/Jul/2023 17:15:20] \"POST /socket.io/?EIO=4&transport=polling&t=OcKipah&sid=59cX78hZ35jzgA6RAAAU HTTP/1.1\" 200 -\n"
     ]
    },
    {
     "name": "stdout",
     "output_type": "stream",
     "text": [
      "{'selectedCardIndices': [2]}\n"
     ]
    },
    {
     "name": "stderr",
     "output_type": "stream",
     "text": [
      "127.0.0.1 - - [26/Jul/2023 17:15:21] \"POST /socket.io/?EIO=4&transport=polling&t=OcKipiV&sid=59cX78hZ35jzgA6RAAAU HTTP/1.1\" 200 -\n"
     ]
    },
    {
     "name": "stdout",
     "output_type": "stream",
     "text": [
      "{'selectedCardIndices': [2, 0]}\n"
     ]
    },
    {
     "name": "stderr",
     "output_type": "stream",
     "text": [
      "127.0.0.1 - - [26/Jul/2023 17:15:22] \"POST /socket.io/?EIO=4&transport=polling&t=OcKipvG&sid=59cX78hZ35jzgA6RAAAU HTTP/1.1\" 200 -\n"
     ]
    },
    {
     "name": "stdout",
     "output_type": "stream",
     "text": [
      "{'selectedCardIndices': [0]}\n"
     ]
    },
    {
     "name": "stderr",
     "output_type": "stream",
     "text": [
      "127.0.0.1 - - [26/Jul/2023 17:15:22] \"POST /socket.io/?EIO=4&transport=polling&t=OcKip_G&sid=59cX78hZ35jzgA6RAAAU HTTP/1.1\" 200 -\n"
     ]
    },
    {
     "name": "stdout",
     "output_type": "stream",
     "text": [
      "{'selectedCardIndices': [0, 1]}\n"
     ]
    },
    {
     "name": "stderr",
     "output_type": "stream",
     "text": [
      "127.0.0.1 - - [26/Jul/2023 17:15:23] \"POST /socket.io/?EIO=4&transport=polling&t=OcKiq8e&sid=59cX78hZ35jzgA6RAAAU HTTP/1.1\" 200 -\n",
      "127.0.0.1 - - [26/Jul/2023 17:15:23] \"GET /socket.io/?EIO=4&transport=polling&t=OcKipES&sid=59cX78hZ35jzgA6RAAAU HTTP/1.1\" 200 -\n"
     ]
    },
    {
     "name": "stdout",
     "output_type": "stream",
     "text": [
      "{'selectedCardIndices': [0, 1, 3]}\n",
      "WIN\n"
     ]
    },
    {
     "name": "stderr",
     "output_type": "stream",
     "text": [
      "127.0.0.1 - - [26/Jul/2023 17:15:26] \"GET /socket.io/?EIO=4&transport=polling&t=OcKiku_&sid=B7OY6t_iuPUdkzkdAAAA HTTP/1.1\" 200 -\n",
      "127.0.0.1 - - [26/Jul/2023 17:15:26] \"POST /socket.io/?EIO=4&transport=polling&t=OcKiq_q&sid=B7OY6t_iuPUdkzkdAAAA HTTP/1.1\" 200 -\n",
      "127.0.0.1 - - [26/Jul/2023 17:15:43] \"GET /socket.io/?EIO=4&transport=polling&t=OcKiq8n&sid=59cX78hZ35jzgA6RAAAU HTTP/1.1\" 200 -\n",
      "127.0.0.1 - - [26/Jul/2023 17:15:43] \"POST /socket.io/?EIO=4&transport=polling&t=OcKiv6O&sid=59cX78hZ35jzgA6RAAAU HTTP/1.1\" 200 -\n",
      "127.0.0.1 - - [26/Jul/2023 17:15:51] \"GET /socket.io/?EIO=4&transport=polling&t=OcKiq_r&sid=B7OY6t_iuPUdkzkdAAAA HTTP/1.1\" 200 -\n",
      "127.0.0.1 - - [26/Jul/2023 17:15:51] \"POST /socket.io/?EIO=4&transport=polling&t=OcKix6O&sid=B7OY6t_iuPUdkzkdAAAA HTTP/1.1\" 200 -\n",
      "127.0.0.1 - - [26/Jul/2023 17:16:08] \"GET /socket.io/?EIO=4&transport=polling&t=OcKiv6P&sid=59cX78hZ35jzgA6RAAAU HTTP/1.1\" 200 -\n",
      "127.0.0.1 - - [26/Jul/2023 17:16:08] \"POST /socket.io/?EIO=4&transport=polling&t=OcKi_D2&sid=59cX78hZ35jzgA6RAAAU HTTP/1.1\" 200 -\n",
      "127.0.0.1 - - [26/Jul/2023 17:16:16] \"GET /socket.io/?EIO=4&transport=polling&t=OcKix6P&sid=B7OY6t_iuPUdkzkdAAAA HTTP/1.1\" 200 -\n",
      "127.0.0.1 - - [26/Jul/2023 17:16:16] \"POST /socket.io/?EIO=4&transport=polling&t=OcKj1D8&sid=B7OY6t_iuPUdkzkdAAAA HTTP/1.1\" 200 -\n",
      "127.0.0.1 - - [26/Jul/2023 17:16:33] \"GET /socket.io/?EIO=4&transport=polling&t=OcKi_D3&sid=59cX78hZ35jzgA6RAAAU HTTP/1.1\" 200 -\n",
      "127.0.0.1 - - [26/Jul/2023 17:16:33] \"POST /socket.io/?EIO=4&transport=polling&t=OcKj5Jo&sid=59cX78hZ35jzgA6RAAAU HTTP/1.1\" 200 -\n",
      "127.0.0.1 - - [26/Jul/2023 17:16:41] \"GET /socket.io/?EIO=4&transport=polling&t=OcKj1D9&sid=B7OY6t_iuPUdkzkdAAAA HTTP/1.1\" 200 -\n",
      "127.0.0.1 - - [26/Jul/2023 17:16:41] \"POST /socket.io/?EIO=4&transport=polling&t=OcKj7K0&sid=B7OY6t_iuPUdkzkdAAAA HTTP/1.1\" 200 -\n",
      "127.0.0.1 - - [26/Jul/2023 17:16:58] \"GET /socket.io/?EIO=4&transport=polling&t=OcKj5Jp&sid=59cX78hZ35jzgA6RAAAU HTTP/1.1\" 200 -\n",
      "127.0.0.1 - - [26/Jul/2023 17:16:58] \"POST /socket.io/?EIO=4&transport=polling&t=OcKjBQX&sid=59cX78hZ35jzgA6RAAAU HTTP/1.1\" 200 -\n",
      "127.0.0.1 - - [26/Jul/2023 17:17:06] \"GET /socket.io/?EIO=4&transport=polling&t=OcKj7K1&sid=B7OY6t_iuPUdkzkdAAAA HTTP/1.1\" 200 -\n",
      "127.0.0.1 - - [26/Jul/2023 17:17:06] \"POST /socket.io/?EIO=4&transport=polling&t=OcKjDQq&sid=B7OY6t_iuPUdkzkdAAAA HTTP/1.1\" 200 -\n",
      "127.0.0.1 - - [26/Jul/2023 17:17:23] \"GET /socket.io/?EIO=4&transport=polling&t=OcKjBQY&sid=59cX78hZ35jzgA6RAAAU HTTP/1.1\" 200 -\n",
      "127.0.0.1 - - [26/Jul/2023 17:17:23] \"POST /socket.io/?EIO=4&transport=polling&t=OcKjHXG&sid=59cX78hZ35jzgA6RAAAU HTTP/1.1\" 200 -\n",
      "127.0.0.1 - - [26/Jul/2023 17:17:27] \"POST /socket.io/?EIO=4&transport=polling&t=OcKjIUF&sid=59cX78hZ35jzgA6RAAAU HTTP/1.1\" 200 -\n",
      "127.0.0.1 - - [26/Jul/2023 17:17:27] \"GET /socket.io/?EIO=4&transport=polling&t=OcKjHXH&sid=59cX78hZ35jzgA6RAAAU HTTP/1.1\" 200 -\n",
      "127.0.0.1 - - [26/Jul/2023 17:17:27] \"GET /socket.io/?EIO=4&transport=polling&t=OcKjIVD HTTP/1.1\" 200 -\n",
      "127.0.0.1 - - [26/Jul/2023 17:17:27] \"POST /socket.io/?EIO=4&transport=polling&t=OcKjIVN&sid=DHwvyfgsNolN2MXpAAAW HTTP/1.1\" 200 -\n",
      "127.0.0.1 - - [26/Jul/2023 17:17:27] \"GET /socket.io/?EIO=4&transport=polling&t=OcKjIVO&sid=DHwvyfgsNolN2MXpAAAW HTTP/1.1\" 200 -\n",
      "127.0.0.1 - - [26/Jul/2023 17:17:31] \"GET /socket.io/?EIO=4&transport=polling&t=OcKjDQr&sid=B7OY6t_iuPUdkzkdAAAA HTTP/1.1\" 200 -\n",
      "127.0.0.1 - - [26/Jul/2023 17:17:31] \"POST /socket.io/?EIO=4&transport=polling&t=OcKjJXf&sid=B7OY6t_iuPUdkzkdAAAA HTTP/1.1\" 200 -\n",
      "127.0.0.1 - - [26/Jul/2023 17:17:35] \"POST /socket.io/?EIO=4&transport=polling&t=OcKjKQl&sid=DHwvyfgsNolN2MXpAAAW HTTP/1.1\" 200 -\n",
      "127.0.0.1 - - [26/Jul/2023 17:17:35] \"GET /socket.io/?EIO=4&transport=polling&t=OcKjKRO HTTP/1.1\" 200 -\n",
      "127.0.0.1 - - [26/Jul/2023 17:17:35] \"POST /socket.io/?EIO=4&transport=polling&t=OcKjKRW&sid=pauKzwCXl1zPpCNmAAAY HTTP/1.1\" 200 -\n",
      "127.0.0.1 - - [26/Jul/2023 17:17:35] \"GET /socket.io/?EIO=4&transport=polling&t=OcKjKRX&sid=pauKzwCXl1zPpCNmAAAY HTTP/1.1\" 200 -\n",
      "127.0.0.1 - - [26/Jul/2023 17:17:56] \"GET /socket.io/?EIO=4&transport=polling&t=OcKjJXg&sid=B7OY6t_iuPUdkzkdAAAA HTTP/1.1\" 200 -\n",
      "127.0.0.1 - - [26/Jul/2023 17:17:56] \"POST /socket.io/?EIO=4&transport=polling&t=OcKjPeQ&sid=B7OY6t_iuPUdkzkdAAAA HTTP/1.1\" 200 -\n",
      "127.0.0.1 - - [26/Jul/2023 17:18:21] \"POST /socket.io/?EIO=4&transport=polling&t=OcKjVfJ&sid=pauKzwCXl1zPpCNmAAAY HTTP/1.1\" 200 -\n",
      "127.0.0.1 - - [26/Jul/2023 17:18:21] \"GET /socket.io/?EIO=4&transport=polling&t=OcKjPeR&sid=B7OY6t_iuPUdkzkdAAAA HTTP/1.1\" 200 -\n",
      "127.0.0.1 - - [26/Jul/2023 17:18:21] \"POST /socket.io/?EIO=4&transport=polling&t=OcKjVlB&sid=B7OY6t_iuPUdkzkdAAAA HTTP/1.1\" 200 -\n",
      "127.0.0.1 - - [26/Jul/2023 17:18:23] \"GET /socket.io/?EIO=4&transport=polling&t=OcKjW8Y HTTP/1.1\" 200 -\n",
      "127.0.0.1 - - [26/Jul/2023 17:18:23] \"POST /socket.io/?EIO=4&transport=polling&t=OcKjW8f&sid=kfQgmk16kOKYO0TCAAAa HTTP/1.1\" 200 -\n",
      "127.0.0.1 - - [26/Jul/2023 17:18:23] \"GET /socket.io/?EIO=4&transport=polling&t=OcKjW8g&sid=kfQgmk16kOKYO0TCAAAa HTTP/1.1\" 200 -\n",
      "127.0.0.1 - - [26/Jul/2023 17:18:29] \"POST /socket.io/?EIO=4&transport=polling&t=OcKjXlH&sid=kfQgmk16kOKYO0TCAAAa HTTP/1.1\" 200 -\n",
      "127.0.0.1 - - [26/Jul/2023 17:18:30] \"GET /socket.io/?EIO=4&transport=polling&t=OcKjXmQ HTTP/1.1\" 200 -\n",
      "127.0.0.1 - - [26/Jul/2023 17:18:30] \"POST /socket.io/?EIO=4&transport=polling&t=OcKjXmd&sid=r6v6LtfnxTzdtyDCAAAc HTTP/1.1\" 200 -\n",
      "127.0.0.1 - - [26/Jul/2023 17:18:30] \"GET /socket.io/?EIO=4&transport=polling&t=OcKjXme&sid=r6v6LtfnxTzdtyDCAAAc HTTP/1.1\" 200 -\n",
      "127.0.0.1 - - [26/Jul/2023 17:18:46] \"GET /socket.io/?EIO=4&transport=polling&t=OcKjVlC&sid=B7OY6t_iuPUdkzkdAAAA HTTP/1.1\" 200 -\n",
      "127.0.0.1 - - [26/Jul/2023 17:18:46] \"POST /socket.io/?EIO=4&transport=polling&t=OcKjbrw&sid=B7OY6t_iuPUdkzkdAAAA HTTP/1.1\" 200 -\n",
      "127.0.0.1 - - [26/Jul/2023 17:19:11] \"GET /socket.io/?EIO=4&transport=polling&t=OcKjbrx&sid=B7OY6t_iuPUdkzkdAAAA HTTP/1.1\" 200 -\n",
      "127.0.0.1 - - [26/Jul/2023 17:19:11] \"POST /socket.io/?EIO=4&transport=polling&t=OcKjhyg&sid=B7OY6t_iuPUdkzkdAAAA HTTP/1.1\" 200 -\n",
      "127.0.0.1 - - [26/Jul/2023 17:19:15] \"POST /socket.io/?EIO=4&transport=polling&t=OcKjir2&sid=r6v6LtfnxTzdtyDCAAAc HTTP/1.1\" 200 -\n",
      "127.0.0.1 - - [26/Jul/2023 17:19:16] \"GET /socket.io/?EIO=4&transport=polling&t=OcKjj7f HTTP/1.1\" 200 -\n",
      "127.0.0.1 - - [26/Jul/2023 17:19:16] \"POST /socket.io/?EIO=4&transport=polling&t=OcKjj7n&sid=trlef6iZdDrP2eXYAAAe HTTP/1.1\" 200 -\n",
      "127.0.0.1 - - [26/Jul/2023 17:19:16] \"GET /socket.io/?EIO=4&transport=polling&t=OcKjj7p&sid=trlef6iZdDrP2eXYAAAe HTTP/1.1\" 200 -\n",
      "127.0.0.1 - - [26/Jul/2023 17:19:36] \"GET /socket.io/?EIO=4&transport=polling&t=OcKjhyh&sid=B7OY6t_iuPUdkzkdAAAA HTTP/1.1\" 200 -\n",
      "127.0.0.1 - - [26/Jul/2023 17:19:36] \"POST /socket.io/?EIO=4&transport=polling&t=OcKjo3Q&sid=B7OY6t_iuPUdkzkdAAAA HTTP/1.1\" 200 -\n",
      "127.0.0.1 - - [26/Jul/2023 17:20:01] \"GET /socket.io/?EIO=4&transport=polling&t=OcKjo3S&sid=B7OY6t_iuPUdkzkdAAAA HTTP/1.1\" 200 -\n",
      "127.0.0.1 - - [26/Jul/2023 17:20:01] \"POST /socket.io/?EIO=4&transport=polling&t=OcKjuAE&sid=B7OY6t_iuPUdkzkdAAAA HTTP/1.1\" 200 -\n",
      "127.0.0.1 - - [26/Jul/2023 17:20:02] \"POST /socket.io/?EIO=4&transport=polling&t=OcKjuJP&sid=trlef6iZdDrP2eXYAAAe HTTP/1.1\" 200 -\n",
      "127.0.0.1 - - [26/Jul/2023 17:20:03] \"GET /socket.io/?EIO=4&transport=polling&t=OcKjuZ2 HTTP/1.1\" 200 -\n",
      "127.0.0.1 - - [26/Jul/2023 17:20:03] \"POST /socket.io/?EIO=4&transport=polling&t=OcKjuZC&sid=0P6qwCbVWOqOKrbHAAAg HTTP/1.1\" 200 -\n",
      "127.0.0.1 - - [26/Jul/2023 17:20:03] \"GET /socket.io/?EIO=4&transport=polling&t=OcKjuZD&sid=0P6qwCbVWOqOKrbHAAAg HTTP/1.1\" 200 -\n",
      "127.0.0.1 - - [26/Jul/2023 17:20:26] \"GET /socket.io/?EIO=4&transport=polling&t=OcKjuAF&sid=B7OY6t_iuPUdkzkdAAAA HTTP/1.1\" 200 -\n",
      "127.0.0.1 - - [26/Jul/2023 17:20:26] \"POST /socket.io/?EIO=4&transport=polling&t=OcKj-H4&sid=B7OY6t_iuPUdkzkdAAAA HTTP/1.1\" 200 -\n",
      "127.0.0.1 - - [26/Jul/2023 17:20:49] \"POST /socket.io/?EIO=4&transport=polling&t=OcKk3nq&sid=0P6qwCbVWOqOKrbHAAAg HTTP/1.1\" 200 -\n",
      "127.0.0.1 - - [26/Jul/2023 17:20:51] \"GET /socket.io/?EIO=4&transport=polling&t=OcKk4H2 HTTP/1.1\" 200 -\n",
      "127.0.0.1 - - [26/Jul/2023 17:20:51] \"POST /socket.io/?EIO=4&transport=polling&t=OcKk4H8&sid=dgdsbJ8YsSE1dbiaAAAi HTTP/1.1\" 200 -\n",
      "127.0.0.1 - - [26/Jul/2023 17:20:51] \"GET /socket.io/?EIO=4&transport=polling&t=OcKk4H9&sid=dgdsbJ8YsSE1dbiaAAAi HTTP/1.1\" 200 -\n",
      "127.0.0.1 - - [26/Jul/2023 17:20:51] \"GET /socket.io/?EIO=4&transport=polling&t=OcKj-H5&sid=B7OY6t_iuPUdkzkdAAAA HTTP/1.1\" 200 -\n",
      "127.0.0.1 - - [26/Jul/2023 17:20:51] \"POST /socket.io/?EIO=4&transport=polling&t=OcKk4Nq&sid=B7OY6t_iuPUdkzkdAAAA HTTP/1.1\" 200 -\n",
      "127.0.0.1 - - [26/Jul/2023 17:21:16] \"GET /socket.io/?EIO=4&transport=polling&t=OcKk4Nr&sid=B7OY6t_iuPUdkzkdAAAA HTTP/1.1\" 200 -\n",
      "127.0.0.1 - - [26/Jul/2023 17:21:16] \"POST /socket.io/?EIO=4&transport=polling&t=OcKkAUa&sid=B7OY6t_iuPUdkzkdAAAA HTTP/1.1\" 200 -\n",
      "127.0.0.1 - - [26/Jul/2023 17:21:37] \"POST /socket.io/?EIO=4&transport=polling&t=OcKkFVl&sid=dgdsbJ8YsSE1dbiaAAAi HTTP/1.1\" 200 -\n",
      "127.0.0.1 - - [26/Jul/2023 17:21:39] \"GET /socket.io/?EIO=4&transport=polling&t=OcKkF-_ HTTP/1.1\" 200 -\n",
      "127.0.0.1 - - [26/Jul/2023 17:21:39] \"POST /socket.io/?EIO=4&transport=polling&t=OcKkF_6&sid=jmONeFadU1JLDKViAAAk HTTP/1.1\" 200 -\n",
      "127.0.0.1 - - [26/Jul/2023 17:21:39] \"GET /socket.io/?EIO=4&transport=polling&t=OcKkF_7&sid=jmONeFadU1JLDKViAAAk HTTP/1.1\" 200 -\n",
      "127.0.0.1 - - [26/Jul/2023 17:21:41] \"GET /socket.io/?EIO=4&transport=polling&t=OcKkAUb&sid=B7OY6t_iuPUdkzkdAAAA HTTP/1.1\" 200 -\n",
      "127.0.0.1 - - [26/Jul/2023 17:21:41] \"POST /socket.io/?EIO=4&transport=polling&t=OcKkGbP&sid=B7OY6t_iuPUdkzkdAAAA HTTP/1.1\" 200 -\n",
      "127.0.0.1 - - [26/Jul/2023 17:22:06] \"GET /socket.io/?EIO=4&transport=polling&t=OcKkGbQ&sid=B7OY6t_iuPUdkzkdAAAA HTTP/1.1\" 200 -\n",
      "127.0.0.1 - - [26/Jul/2023 17:22:06] \"POST /socket.io/?EIO=4&transport=polling&t=OcKkMiF&sid=B7OY6t_iuPUdkzkdAAAA HTTP/1.1\" 200 -\n",
      "127.0.0.1 - - [26/Jul/2023 17:22:25] \"POST /socket.io/?EIO=4&transport=polling&t=OcKkRDm&sid=jmONeFadU1JLDKViAAAk HTTP/1.1\" 200 -\n",
      "127.0.0.1 - - [26/Jul/2023 17:22:26] \"GET /socket.io/?EIO=4&transport=polling&t=OcKkRTM HTTP/1.1\" 200 -\n",
      "127.0.0.1 - - [26/Jul/2023 17:22:26] \"POST /socket.io/?EIO=4&transport=polling&t=OcKkRTT&sid=GZRMfYIJ03kwCEPwAAAm HTTP/1.1\" 200 -\n",
      "127.0.0.1 - - [26/Jul/2023 17:22:26] \"GET /socket.io/?EIO=4&transport=polling&t=OcKkRTT.0&sid=GZRMfYIJ03kwCEPwAAAm HTTP/1.1\" 200 -\n",
      "127.0.0.1 - - [26/Jul/2023 17:22:31] \"GET /socket.io/?EIO=4&transport=polling&t=OcKkMiG&sid=B7OY6t_iuPUdkzkdAAAA HTTP/1.1\" 200 -\n",
      "127.0.0.1 - - [26/Jul/2023 17:22:31] \"POST /socket.io/?EIO=4&transport=polling&t=OcKkSp2&sid=B7OY6t_iuPUdkzkdAAAA HTTP/1.1\" 200 -\n",
      "127.0.0.1 - - [26/Jul/2023 17:22:56] \"GET /socket.io/?EIO=4&transport=polling&t=OcKkSp3&sid=B7OY6t_iuPUdkzkdAAAA HTTP/1.1\" 200 -\n",
      "127.0.0.1 - - [26/Jul/2023 17:22:56] \"POST /socket.io/?EIO=4&transport=polling&t=OcKkYvo&sid=B7OY6t_iuPUdkzkdAAAA HTTP/1.1\" 200 -\n",
      "127.0.0.1 - - [26/Jul/2023 17:23:12] \"POST /socket.io/?EIO=4&transport=polling&t=OcKkci5&sid=GZRMfYIJ03kwCEPwAAAm HTTP/1.1\" 200 -\n",
      "127.0.0.1 - - [26/Jul/2023 17:23:14] \"GET /socket.io/?EIO=4&transport=polling&t=OcKkdBQ HTTP/1.1\" 200 -\n",
      "127.0.0.1 - - [26/Jul/2023 17:23:14] \"POST /socket.io/?EIO=4&transport=polling&t=OcKkdBW&sid=1KCCRD51XmQ9RffmAAAo HTTP/1.1\" 200 -\n",
      "127.0.0.1 - - [26/Jul/2023 17:23:14] \"GET /socket.io/?EIO=4&transport=polling&t=OcKkdBX&sid=1KCCRD51XmQ9RffmAAAo HTTP/1.1\" 200 -\n",
      "127.0.0.1 - - [26/Jul/2023 17:23:21] \"GET /socket.io/?EIO=4&transport=polling&t=OcKkYvp&sid=B7OY6t_iuPUdkzkdAAAA HTTP/1.1\" 200 -\n",
      "127.0.0.1 - - [26/Jul/2023 17:23:21] \"POST /socket.io/?EIO=4&transport=polling&t=OcKkf0c&sid=B7OY6t_iuPUdkzkdAAAA HTTP/1.1\" 200 -\n",
      "127.0.0.1 - - [26/Jul/2023 17:23:46] \"GET /socket.io/?EIO=4&transport=polling&t=OcKkf0d&sid=B7OY6t_iuPUdkzkdAAAA HTTP/1.1\" 200 -\n",
      "127.0.0.1 - - [26/Jul/2023 17:23:46] \"POST /socket.io/?EIO=4&transport=polling&t=OcKkl7S&sid=B7OY6t_iuPUdkzkdAAAA HTTP/1.1\" 200 -\n",
      "127.0.0.1 - - [26/Jul/2023 17:24:00] \"POST /socket.io/?EIO=4&transport=polling&t=OcKkoQ5&sid=1KCCRD51XmQ9RffmAAAo HTTP/1.1\" 200 -\n",
      "127.0.0.1 - - [26/Jul/2023 17:24:02] \"GET /socket.io/?EIO=4&transport=polling&t=OcKkovP HTTP/1.1\" 200 -\n",
      "127.0.0.1 - - [26/Jul/2023 17:24:02] \"POST /socket.io/?EIO=4&transport=polling&t=OcKkovW&sid=xYQx4QfRW3AqcihaAAAq HTTP/1.1\" 200 -\n",
      "127.0.0.1 - - [26/Jul/2023 17:24:02] \"GET /socket.io/?EIO=4&transport=polling&t=OcKkovX&sid=xYQx4QfRW3AqcihaAAAq HTTP/1.1\" 200 -\n",
      "127.0.0.1 - - [26/Jul/2023 17:24:11] \"GET /socket.io/?EIO=4&transport=polling&t=OcKkl7S.0&sid=B7OY6t_iuPUdkzkdAAAA HTTP/1.1\" 200 -\n",
      "127.0.0.1 - - [26/Jul/2023 17:24:11] \"POST /socket.io/?EIO=4&transport=polling&t=OcKkrEG&sid=B7OY6t_iuPUdkzkdAAAA HTTP/1.1\" 200 -\n",
      "127.0.0.1 - - [26/Jul/2023 17:24:34] \"POST /socket.io/?EIO=4&transport=polling&t=OcKkwiE&sid=xYQx4QfRW3AqcihaAAAq HTTP/1.1\" 200 -\n",
      "127.0.0.1 - - [26/Jul/2023 17:24:34] \"GET /socket.io/?EIO=4&transport=polling&t=OcKkwiz HTTP/1.1\" 200 -\n",
      "127.0.0.1 - - [26/Jul/2023 17:24:34] \"POST /socket.io/?EIO=4&transport=polling&t=OcKkwj9&sid=239CEdhwvgvNS2roAAAs HTTP/1.1\" 200 -\n",
      "127.0.0.1 - - [26/Jul/2023 17:24:34] \"GET /socket.io/?EIO=4&transport=polling&t=OcKkwjA&sid=239CEdhwvgvNS2roAAAs HTTP/1.1\" 200 -\n",
      "127.0.0.1 - - [26/Jul/2023 17:24:36] \"POST /socket.io/?EIO=4&transport=polling&t=OcKkxAz&sid=239CEdhwvgvNS2roAAAs HTTP/1.1\" 200 -\n",
      "127.0.0.1 - - [26/Jul/2023 17:24:36] \"GET /socket.io/?EIO=4&transport=polling&t=OcKkwjM&sid=239CEdhwvgvNS2roAAAs HTTP/1.1\" 200 -\n",
      "127.0.0.1 - - [26/Jul/2023 17:24:36] \"GET /socket.io/?EIO=4&transport=polling&t=OcKkxBj HTTP/1.1\" 200 -\n",
      "127.0.0.1 - - [26/Jul/2023 17:24:36] \"POST /socket.io/?EIO=4&transport=polling&t=OcKkxBq&sid=Sg2x765L9ISPZFn4AAAu HTTP/1.1\" 200 -\n",
      "127.0.0.1 - - [26/Jul/2023 17:24:36] \"GET /socket.io/?EIO=4&transport=polling&t=OcKkxBr&sid=Sg2x765L9ISPZFn4AAAu HTTP/1.1\" 200 -\n",
      "127.0.0.1 - - [26/Jul/2023 17:24:36] \"POST /socket.io/?EIO=4&transport=polling&t=OcKkxKb&sid=Sg2x765L9ISPZFn4AAAu HTTP/1.1\" 200 -\n",
      "127.0.0.1 - - [26/Jul/2023 17:24:36] \"GET /socket.io/?EIO=4&transport=polling&t=OcKkxC0&sid=Sg2x765L9ISPZFn4AAAu HTTP/1.1\" 200 -\n",
      "127.0.0.1 - - [26/Jul/2023 17:24:36] \"GET /socket.io/?EIO=4&transport=polling&t=OcKkrEH&sid=B7OY6t_iuPUdkzkdAAAA HTTP/1.1\" 200 -\n",
      "127.0.0.1 - - [26/Jul/2023 17:24:36] \"POST /socket.io/?EIO=4&transport=polling&t=OcKkxL9&sid=B7OY6t_iuPUdkzkdAAAA HTTP/1.1\" 200 -\n",
      "127.0.0.1 - - [26/Jul/2023 17:24:36] \"GET /socket.io/?EIO=4&transport=polling&t=OcKkxLV HTTP/1.1\" 200 -\n",
      "127.0.0.1 - - [26/Jul/2023 17:24:36] \"POST /socket.io/?EIO=4&transport=polling&t=OcKkxLr&sid=uNe-Bs0Cr0A7PhucAAAw HTTP/1.1\" 200 -\n",
      "127.0.0.1 - - [26/Jul/2023 17:24:36] \"GET /socket.io/?EIO=4&transport=polling&t=OcKkxLs&sid=uNe-Bs0Cr0A7PhucAAAw HTTP/1.1\" 200 -\n",
      "127.0.0.1 - - [26/Jul/2023 17:24:37] \"POST /socket.io/?EIO=4&transport=polling&t=OcKkxVn&sid=uNe-Bs0Cr0A7PhucAAAw HTTP/1.1\" 200 -\n",
      "127.0.0.1 - - [26/Jul/2023 17:24:37] \"GET /socket.io/?EIO=4&transport=polling&t=OcKkxM5&sid=uNe-Bs0Cr0A7PhucAAAw HTTP/1.1\" 200 -\n",
      "127.0.0.1 - - [26/Jul/2023 17:24:37] \"GET /socket.io/?EIO=4&transport=polling&t=OcKkxWX HTTP/1.1\" 200 -\n",
      "127.0.0.1 - - [26/Jul/2023 17:24:37] \"POST /socket.io/?EIO=4&transport=polling&t=OcKkxWh&sid=sxQuV-l67k42lVVaAAAy HTTP/1.1\" 200 -\n",
      "127.0.0.1 - - [26/Jul/2023 17:24:37] \"GET /socket.io/?EIO=4&transport=polling&t=OcKkxWi&sid=sxQuV-l67k42lVVaAAAy HTTP/1.1\" 200 -\n",
      "127.0.0.1 - - [26/Jul/2023 17:24:38] \"POST /socket.io/?EIO=4&transport=polling&t=OcKkxg-&sid=sxQuV-l67k42lVVaAAAy HTTP/1.1\" 200 -\n",
      "127.0.0.1 - - [26/Jul/2023 17:24:38] \"GET /socket.io/?EIO=4&transport=polling&t=OcKkxWs&sid=sxQuV-l67k42lVVaAAAy HTTP/1.1\" 200 -\n",
      "127.0.0.1 - - [26/Jul/2023 17:24:38] \"GET /socket.io/?EIO=4&transport=polling&t=OcKkxhm HTTP/1.1\" 200 -\n",
      "127.0.0.1 - - [26/Jul/2023 17:24:38] \"POST /socket.io/?EIO=4&transport=polling&t=OcKkxhw&sid=SFfDTM_WjMZKsLGXAAA0 HTTP/1.1\" 200 -\n",
      "127.0.0.1 - - [26/Jul/2023 17:24:38] \"GET /socket.io/?EIO=4&transport=polling&t=OcKkxhx&sid=SFfDTM_WjMZKsLGXAAA0 HTTP/1.1\" 200 -\n",
      "127.0.0.1 - - [26/Jul/2023 17:24:39] \"POST /socket.io/?EIO=4&transport=polling&t=OcKkxxw&sid=SFfDTM_WjMZKsLGXAAA0 HTTP/1.1\" 200 -\n",
      "127.0.0.1 - - [26/Jul/2023 17:24:39] \"GET /socket.io/?EIO=4&transport=polling&t=OcKkxi6&sid=SFfDTM_WjMZKsLGXAAA0 HTTP/1.1\" 200 -\n",
      "127.0.0.1 - - [26/Jul/2023 17:24:39] \"GET /socket.io/?EIO=4&transport=polling&t=OcKkxyi HTTP/1.1\" 200 -\n",
      "127.0.0.1 - - [26/Jul/2023 17:24:39] \"POST /socket.io/?EIO=4&transport=polling&t=OcKkxyq&sid=FN1qh5d7FtTcqnIKAAA2 HTTP/1.1\" 200 -\n",
      "127.0.0.1 - - [26/Jul/2023 17:24:39] \"GET /socket.io/?EIO=4&transport=polling&t=OcKkxyq.0&sid=FN1qh5d7FtTcqnIKAAA2 HTTP/1.1\" 200 -\n",
      "127.0.0.1 - - [26/Jul/2023 17:24:53] \"POST /socket.io/?EIO=4&transport=polling&t=OcKk_Ri&sid=FN1qh5d7FtTcqnIKAAA2 HTTP/1.1\" 200 -\n",
      "127.0.0.1 - - [26/Jul/2023 17:24:53] \"GET /socket.io/?EIO=4&transport=polling&t=OcKkxz1&sid=FN1qh5d7FtTcqnIKAAA2 HTTP/1.1\" 200 -\n",
      "127.0.0.1 - - [26/Jul/2023 17:24:53] \"GET /socket.io/?EIO=4&transport=polling&t=OcKk_Sc HTTP/1.1\" 200 -\n",
      "127.0.0.1 - - [26/Jul/2023 17:24:53] \"POST /socket.io/?EIO=4&transport=polling&t=OcKk_Sk&sid=JXKwig_pRZwejjHuAAA4 HTTP/1.1\" 200 -\n",
      "127.0.0.1 - - [26/Jul/2023 17:24:53] \"GET /socket.io/?EIO=4&transport=polling&t=OcKk_Sl&sid=JXKwig_pRZwejjHuAAA4 HTTP/1.1\" 200 -\n",
      "127.0.0.1 - - [26/Jul/2023 17:25:01] \"GET /socket.io/?EIO=4&transport=polling&t=OcKkxLA&sid=B7OY6t_iuPUdkzkdAAAA HTTP/1.1\" 200 -\n",
      "127.0.0.1 - - [26/Jul/2023 17:25:01] \"POST /socket.io/?EIO=4&transport=polling&t=OcKl1S2&sid=B7OY6t_iuPUdkzkdAAAA HTTP/1.1\" 200 -\n",
      "127.0.0.1 - - [26/Jul/2023 17:25:07] \"POST /socket.io/?EIO=4&transport=polling&t=OcKl2qR&sid=JXKwig_pRZwejjHuAAA4 HTTP/1.1\" 200 -\n",
      "127.0.0.1 - - [26/Jul/2023 17:25:07] \"GET /socket.io/?EIO=4&transport=polling&t=OcKk_Sx&sid=JXKwig_pRZwejjHuAAA4 HTTP/1.1\" 200 -\n",
      "127.0.0.1 - - [26/Jul/2023 17:25:07] \"GET /socket.io/?EIO=4&transport=polling&t=OcKl2rP HTTP/1.1\" 200 -\n",
      "127.0.0.1 - - [26/Jul/2023 17:25:07] \"POST /socket.io/?EIO=4&transport=polling&t=OcKl2rZ&sid=1NLlDJ5SnexQ0pKxAAA6 HTTP/1.1\" 200 -\n",
      "127.0.0.1 - - [26/Jul/2023 17:25:07] \"GET /socket.io/?EIO=4&transport=polling&t=OcKl2ra&sid=1NLlDJ5SnexQ0pKxAAA6 HTTP/1.1\" 200 -\n",
      "127.0.0.1 - - [26/Jul/2023 17:25:13] \"POST /socket.io/?EIO=4&transport=polling&t=OcKl4MX&sid=1NLlDJ5SnexQ0pKxAAA6 HTTP/1.1\" 200 -\n",
      "127.0.0.1 - - [26/Jul/2023 17:25:13] \"GET /socket.io/?EIO=4&transport=polling&t=OcKl2rl&sid=1NLlDJ5SnexQ0pKxAAA6 HTTP/1.1\" 200 -\n",
      "127.0.0.1 - - [26/Jul/2023 17:25:13] \"GET /socket.io/?EIO=4&transport=polling&t=OcKl4NQ HTTP/1.1\" 200 -\n",
      "127.0.0.1 - - [26/Jul/2023 17:25:13] \"POST /socket.io/?EIO=4&transport=polling&t=OcKl4Na&sid=oVY9zHIzuSUhO-R4AAA8 HTTP/1.1\" 200 -\n",
      "127.0.0.1 - - [26/Jul/2023 17:25:13] \"GET /socket.io/?EIO=4&transport=polling&t=OcKl4Nb&sid=oVY9zHIzuSUhO-R4AAA8 HTTP/1.1\" 200 -\n",
      "127.0.0.1 - - [26/Jul/2023 17:25:26] \"GET /socket.io/?EIO=4&transport=polling&t=OcKl1S3&sid=B7OY6t_iuPUdkzkdAAAA HTTP/1.1\" 200 -\n",
      "127.0.0.1 - - [26/Jul/2023 17:25:26] \"POST /socket.io/?EIO=4&transport=polling&t=OcKl7Yo&sid=B7OY6t_iuPUdkzkdAAAA HTTP/1.1\" 200 -\n",
      "127.0.0.1 - - [26/Jul/2023 17:25:37] \"POST /socket.io/?EIO=4&transport=polling&t=OcKlA8F&sid=oVY9zHIzuSUhO-R4AAA8 HTTP/1.1\" 200 -\n"
     ]
    },
    {
     "name": "stdout",
     "output_type": "stream",
     "text": [
      "{'selectedCardIndices': [1]}\n"
     ]
    },
    {
     "name": "stderr",
     "output_type": "stream",
     "text": [
      "127.0.0.1 - - [26/Jul/2023 17:25:37] \"POST /socket.io/?EIO=4&transport=polling&t=OcKlADg&sid=oVY9zHIzuSUhO-R4AAA8 HTTP/1.1\" 200 -\n"
     ]
    },
    {
     "name": "stdout",
     "output_type": "stream",
     "text": [
      "{'selectedCardIndices': [1, 0]}\n"
     ]
    },
    {
     "name": "stderr",
     "output_type": "stream",
     "text": [
      "127.0.0.1 - - [26/Jul/2023 17:25:38] \"POST /socket.io/?EIO=4&transport=polling&t=OcKlAJN&sid=oVY9zHIzuSUhO-R4AAA8 HTTP/1.1\" 200 -\n",
      "127.0.0.1 - - [26/Jul/2023 17:25:38] \"GET /socket.io/?EIO=4&transport=polling&t=OcKl4No&sid=oVY9zHIzuSUhO-R4AAA8 HTTP/1.1\" 200 -\n"
     ]
    },
    {
     "name": "stdout",
     "output_type": "stream",
     "text": [
      "{'selectedCardIndices': [1, 0, 3]}\n",
      "WIN\n"
     ]
    },
    {
     "name": "stderr",
     "output_type": "stream",
     "text": [
      "127.0.0.1 - - [26/Jul/2023 17:25:38] \"POST /socket.io/?EIO=4&transport=polling&t=OcKlAPM&sid=oVY9zHIzuSUhO-R4AAA8 HTTP/1.1\" 200 -\n"
     ]
    },
    {
     "name": "stdout",
     "output_type": "stream",
     "text": [
      "{'selectedCardIndices': [1, 0, 3, 2]}\n"
     ]
    },
    {
     "name": "stderr",
     "output_type": "stream",
     "text": [
      "127.0.0.1 - - [26/Jul/2023 17:25:39] \"POST /socket.io/?EIO=4&transport=polling&t=OcKlAVM&sid=oVY9zHIzuSUhO-R4AAA8 HTTP/1.1\" 200 -\n"
     ]
    },
    {
     "name": "stdout",
     "output_type": "stream",
     "text": [
      "{'selectedCardIndices': [0, 3, 2]}\n"
     ]
    },
    {
     "name": "stderr",
     "output_type": "stream",
     "text": [
      "127.0.0.1 - - [26/Jul/2023 17:25:39] \"POST /socket.io/?EIO=4&transport=polling&t=OcKlAcO&sid=oVY9zHIzuSUhO-R4AAA8 HTTP/1.1\" 200 -\n"
     ]
    },
    {
     "name": "stdout",
     "output_type": "stream",
     "text": [
      "{'selectedCardIndices': [3, 2]}\n",
      "WIN\n"
     ]
    },
    {
     "name": "stderr",
     "output_type": "stream",
     "text": [
      "127.0.0.1 - - [26/Jul/2023 17:25:39] \"POST /socket.io/?EIO=4&transport=polling&t=OcKlAiN&sid=oVY9zHIzuSUhO-R4AAA8 HTTP/1.1\" 200 -\n"
     ]
    },
    {
     "name": "stdout",
     "output_type": "stream",
     "text": [
      "{'selectedCardIndices': [3]}\n"
     ]
    },
    {
     "name": "stderr",
     "output_type": "stream",
     "text": [
      "127.0.0.1 - - [26/Jul/2023 17:25:40] \"POST /socket.io/?EIO=4&transport=polling&t=OcKlAvg&sid=oVY9zHIzuSUhO-R4AAA8 HTTP/1.1\" 200 -\n"
     ]
    },
    {
     "name": "stdout",
     "output_type": "stream",
     "text": [
      "{'selectedCardIndices': [1]}\n"
     ]
    },
    {
     "name": "stderr",
     "output_type": "stream",
     "text": [
      "127.0.0.1 - - [26/Jul/2023 17:25:41] \"POST /socket.io/?EIO=4&transport=polling&t=OcKlA_P&sid=oVY9zHIzuSUhO-R4AAA8 HTTP/1.1\" 200 -\n"
     ]
    },
    {
     "name": "stdout",
     "output_type": "stream",
     "text": [
      "{'selectedCardIndices': [1, 0]}\n"
     ]
    },
    {
     "name": "stderr",
     "output_type": "stream",
     "text": [
      "127.0.0.1 - - [26/Jul/2023 17:25:41] \"POST /socket.io/?EIO=4&transport=polling&t=OcKlBB7&sid=oVY9zHIzuSUhO-R4AAA8 HTTP/1.1\" 200 -\n"
     ]
    },
    {
     "name": "stdout",
     "output_type": "stream",
     "text": [
      "{'selectedCardIndices': [1, 0, 2]}\n"
     ]
    },
    {
     "name": "stderr",
     "output_type": "stream",
     "text": [
      "127.0.0.1 - - [26/Jul/2023 17:25:42] \"POST /socket.io/?EIO=4&transport=polling&t=OcKlBIx&sid=oVY9zHIzuSUhO-R4AAA8 HTTP/1.1\" 200 -\n"
     ]
    },
    {
     "name": "stdout",
     "output_type": "stream",
     "text": [
      "{'selectedCardIndices': [1, 2]}\n"
     ]
    },
    {
     "name": "stderr",
     "output_type": "stream",
     "text": [
      "127.0.0.1 - - [26/Jul/2023 17:25:42] \"POST /socket.io/?EIO=4&transport=polling&t=OcKlBO8&sid=oVY9zHIzuSUhO-R4AAA8 HTTP/1.1\" 200 -\n"
     ]
    },
    {
     "name": "stdout",
     "output_type": "stream",
     "text": [
      "{'selectedCardIndices': [2]}\n"
     ]
    },
    {
     "name": "stderr",
     "output_type": "stream",
     "text": [
      "127.0.0.1 - - [26/Jul/2023 17:25:43] \"POST /socket.io/?EIO=4&transport=polling&t=OcKlBWT&sid=oVY9zHIzuSUhO-R4AAA8 HTTP/1.1\" 200 -\n"
     ]
    },
    {
     "name": "stdout",
     "output_type": "stream",
     "text": [
      "{'selectedCardIndices': [2, 0]}\n",
      "WIN\n"
     ]
    },
    {
     "name": "stderr",
     "output_type": "stream",
     "text": [
      "127.0.0.1 - - [26/Jul/2023 17:25:43] \"POST /socket.io/?EIO=4&transport=polling&t=OcKlBdm&sid=oVY9zHIzuSUhO-R4AAA8 HTTP/1.1\" 200 -\n"
     ]
    },
    {
     "name": "stdout",
     "output_type": "stream",
     "text": [
      "{'selectedCardIndices': [2, 0, 1]}\n"
     ]
    },
    {
     "name": "stderr",
     "output_type": "stream",
     "text": [
      "127.0.0.1 - - [26/Jul/2023 17:25:44] \"POST /socket.io/?EIO=4&transport=polling&t=OcKlBlJ&sid=oVY9zHIzuSUhO-R4AAA8 HTTP/1.1\" 200 -\n"
     ]
    },
    {
     "name": "stdout",
     "output_type": "stream",
     "text": [
      "{'selectedCardIndices': [2, 1]}\n"
     ]
    },
    {
     "name": "stderr",
     "output_type": "stream",
     "text": [
      "127.0.0.1 - - [26/Jul/2023 17:25:44] \"POST /socket.io/?EIO=4&transport=polling&t=OcKlBvl&sid=oVY9zHIzuSUhO-R4AAA8 HTTP/1.1\" 200 -\n"
     ]
    },
    {
     "name": "stdout",
     "output_type": "stream",
     "text": [
      "{'selectedCardIndices': [2]}\n"
     ]
    },
    {
     "name": "stderr",
     "output_type": "stream",
     "text": [
      "127.0.0.1 - - [26/Jul/2023 17:25:45] \"POST /socket.io/?EIO=4&transport=polling&t=OcKlC3N&sid=oVY9zHIzuSUhO-R4AAA8 HTTP/1.1\" 200 -\n"
     ]
    },
    {
     "name": "stdout",
     "output_type": "stream",
     "text": [
      "{'selectedCardIndices': [3]}\n"
     ]
    },
    {
     "name": "stderr",
     "output_type": "stream",
     "text": [
      "127.0.0.1 - - [26/Jul/2023 17:25:45] \"POST /socket.io/?EIO=4&transport=polling&t=OcKlCAx&sid=oVY9zHIzuSUhO-R4AAA8 HTTP/1.1\" 200 -\n"
     ]
    },
    {
     "name": "stdout",
     "output_type": "stream",
     "text": [
      "{'selectedCardIndices': [3, 0]}\n"
     ]
    },
    {
     "name": "stderr",
     "output_type": "stream",
     "text": [
      "127.0.0.1 - - [26/Jul/2023 17:25:46] \"POST /socket.io/?EIO=4&transport=polling&t=OcKlCHR&sid=oVY9zHIzuSUhO-R4AAA8 HTTP/1.1\" 200 -\n"
     ]
    },
    {
     "name": "stdout",
     "output_type": "stream",
     "text": [
      "{'selectedCardIndices': [3, 0, 1]}\n"
     ]
    },
    {
     "name": "stderr",
     "output_type": "stream",
     "text": [
      "127.0.0.1 - - [26/Jul/2023 17:25:46] \"POST /socket.io/?EIO=4&transport=polling&t=OcKlCMf&sid=oVY9zHIzuSUhO-R4AAA8 HTTP/1.1\" 200 -\n"
     ]
    },
    {
     "name": "stdout",
     "output_type": "stream",
     "text": [
      "{'selectedCardIndices': [3, 1]}\n"
     ]
    },
    {
     "name": "stderr",
     "output_type": "stream",
     "text": [
      "127.0.0.1 - - [26/Jul/2023 17:25:47] \"POST /socket.io/?EIO=4&transport=polling&t=OcKlCU-&sid=oVY9zHIzuSUhO-R4AAA8 HTTP/1.1\" 200 -\n"
     ]
    },
    {
     "name": "stdout",
     "output_type": "stream",
     "text": [
      "{'selectedCardIndices': [3, 1, 0]}\n"
     ]
    },
    {
     "name": "stderr",
     "output_type": "stream",
     "text": [
      "127.0.0.1 - - [26/Jul/2023 17:25:47] \"POST /socket.io/?EIO=4&transport=polling&t=OcKlCaj&sid=oVY9zHIzuSUhO-R4AAA8 HTTP/1.1\" 200 -\n"
     ]
    },
    {
     "name": "stdout",
     "output_type": "stream",
     "text": [
      "{'selectedCardIndices': [3, 1, 0, 2]}\n",
      "WIN\n"
     ]
    },
    {
     "name": "stderr",
     "output_type": "stream",
     "text": [
      "127.0.0.1 - - [26/Jul/2023 17:25:48] \"POST /socket.io/?EIO=4&transport=polling&t=OcKlCh_&sid=oVY9zHIzuSUhO-R4AAA8 HTTP/1.1\" 200 -\n"
     ]
    },
    {
     "name": "stdout",
     "output_type": "stream",
     "text": [
      "{'selectedCardIndices': [3, 1, 2]}\n"
     ]
    },
    {
     "name": "stderr",
     "output_type": "stream",
     "text": [
      "127.0.0.1 - - [26/Jul/2023 17:25:48] \"POST /socket.io/?EIO=4&transport=polling&t=OcKlCpI&sid=oVY9zHIzuSUhO-R4AAA8 HTTP/1.1\" 200 -\n"
     ]
    },
    {
     "name": "stdout",
     "output_type": "stream",
     "text": [
      "{'selectedCardIndices': [3, 2]}\n"
     ]
    },
    {
     "name": "stderr",
     "output_type": "stream",
     "text": [
      "127.0.0.1 - - [26/Jul/2023 17:25:48] \"POST /socket.io/?EIO=4&transport=polling&t=OcKlCvp&sid=oVY9zHIzuSUhO-R4AAA8 HTTP/1.1\" 200 -\n"
     ]
    },
    {
     "name": "stdout",
     "output_type": "stream",
     "text": [
      "{'selectedCardIndices': [3, 2, 0]}\n"
     ]
    },
    {
     "name": "stderr",
     "output_type": "stream",
     "text": [
      "127.0.0.1 - - [26/Jul/2023 17:25:49] \"POST /socket.io/?EIO=4&transport=polling&t=OcKlD1u&sid=oVY9zHIzuSUhO-R4AAA8 HTTP/1.1\" 200 -\n"
     ]
    },
    {
     "name": "stdout",
     "output_type": "stream",
     "text": [
      "{'selectedCardIndices': [3, 2, 0, 1]}\n"
     ]
    },
    {
     "name": "stderr",
     "output_type": "stream",
     "text": [
      "127.0.0.1 - - [26/Jul/2023 17:25:50] \"POST /socket.io/?EIO=4&transport=polling&t=OcKlDNV&sid=oVY9zHIzuSUhO-R4AAA8 HTTP/1.1\" 200 -\n"
     ]
    },
    {
     "name": "stdout",
     "output_type": "stream",
     "text": [
      "{'selectedCardIndices': [2, 0, 1]}\n"
     ]
    },
    {
     "name": "stderr",
     "output_type": "stream",
     "text": [
      "127.0.0.1 - - [26/Jul/2023 17:25:51] \"POST /socket.io/?EIO=4&transport=polling&t=OcKlDeA&sid=oVY9zHIzuSUhO-R4AAA8 HTTP/1.1\" 200 -\n",
      "127.0.0.1 - - [26/Jul/2023 17:25:51] \"GET /socket.io/?EIO=4&transport=polling&t=OcKl7Yp&sid=B7OY6t_iuPUdkzkdAAAA HTTP/1.1\" 200 -\n",
      "127.0.0.1 - - [26/Jul/2023 17:25:51] \"POST /socket.io/?EIO=4&transport=polling&t=OcKlDfd&sid=B7OY6t_iuPUdkzkdAAAA HTTP/1.1\" 200 -\n"
     ]
    },
    {
     "name": "stdout",
     "output_type": "stream",
     "text": [
      "{'selectedCardIndices': [0, 1]}\n",
      "WIN\n"
     ]
    },
    {
     "name": "stderr",
     "output_type": "stream",
     "text": [
      "127.0.0.1 - - [26/Jul/2023 17:25:52] \"POST /socket.io/?EIO=4&transport=polling&t=OcKlDlC&sid=oVY9zHIzuSUhO-R4AAA8 HTTP/1.1\" 200 -\n"
     ]
    },
    {
     "name": "stdout",
     "output_type": "stream",
     "text": [
      "{'selectedCardIndices': [0]}\n"
     ]
    },
    {
     "name": "stderr",
     "output_type": "stream",
     "text": [
      "127.0.0.1 - - [26/Jul/2023 17:25:53] \"POST /socket.io/?EIO=4&transport=polling&t=OcKlDwP&sid=oVY9zHIzuSUhO-R4AAA8 HTTP/1.1\" 200 -\n"
     ]
    },
    {
     "name": "stdout",
     "output_type": "stream",
     "text": [
      "{'selectedCardIndices': [0]}\n"
     ]
    },
    {
     "name": "stderr",
     "output_type": "stream",
     "text": [
      "127.0.0.1 - - [26/Jul/2023 17:25:54] \"POST /socket.io/?EIO=4&transport=polling&t=OcKlENJ&sid=oVY9zHIzuSUhO-R4AAA8 HTTP/1.1\" 200 -\n"
     ]
    },
    {
     "name": "stdout",
     "output_type": "stream",
     "text": [
      "{'selectedCardIndices': [0]}\n"
     ]
    },
    {
     "name": "stderr",
     "output_type": "stream",
     "text": [
      "127.0.0.1 - - [26/Jul/2023 17:25:58] \"POST /socket.io/?EIO=4&transport=polling&t=OcKlFMt&sid=oVY9zHIzuSUhO-R4AAA8 HTTP/1.1\" 200 -\n",
      "127.0.0.1 - - [26/Jul/2023 17:25:59] \"GET /socket.io/?EIO=4&transport=polling&t=OcKlFcB HTTP/1.1\" 200 -\n",
      "127.0.0.1 - - [26/Jul/2023 17:25:59] \"POST /socket.io/?EIO=4&transport=polling&t=OcKlFcM&sid=NNzAxB2mtGKJjV-6AAA- HTTP/1.1\" 200 -\n",
      "127.0.0.1 - - [26/Jul/2023 17:25:59] \"GET /socket.io/?EIO=4&transport=polling&t=OcKlFcN&sid=NNzAxB2mtGKJjV-6AAA- HTTP/1.1\" 200 -\n",
      "127.0.0.1 - - [26/Jul/2023 17:26:16] \"GET /socket.io/?EIO=4&transport=polling&t=OcKlDfe&sid=B7OY6t_iuPUdkzkdAAAA HTTP/1.1\" 200 -\n",
      "127.0.0.1 - - [26/Jul/2023 17:26:16] \"POST /socket.io/?EIO=4&transport=polling&t=OcKlJmO&sid=B7OY6t_iuPUdkzkdAAAA HTTP/1.1\" 200 -\n",
      "127.0.0.1 - - [26/Jul/2023 17:26:24] \"GET /socket.io/?EIO=4&transport=polling&t=OcKlFcU&sid=NNzAxB2mtGKJjV-6AAA- HTTP/1.1\" 200 -\n",
      "127.0.0.1 - - [26/Jul/2023 17:26:24] \"POST /socket.io/?EIO=4&transport=polling&t=OcKlLiw&sid=NNzAxB2mtGKJjV-6AAA- HTTP/1.1\" 200 -\n",
      "127.0.0.1 - - [26/Jul/2023 17:26:31] \"POST /socket.io/?EIO=4&transport=polling&t=OcKlND9&sid=NNzAxB2mtGKJjV-6AAA- HTTP/1.1\" 200 -\n",
      "127.0.0.1 - - [26/Jul/2023 17:26:31] \"GET /socket.io/?EIO=4&transport=polling&t=OcKlLix&sid=NNzAxB2mtGKJjV-6AAA- HTTP/1.1\" 200 -\n",
      "127.0.0.1 - - [26/Jul/2023 17:26:31] \"GET /socket.io/?EIO=4&transport=polling&t=OcKlNDt HTTP/1.1\" 200 -\n",
      "127.0.0.1 - - [26/Jul/2023 17:26:31] \"POST /socket.io/?EIO=4&transport=polling&t=OcKlND-&sid=90ISlQJ3DqgcYq5_AABA HTTP/1.1\" 200 -\n",
      "127.0.0.1 - - [26/Jul/2023 17:26:31] \"GET /socket.io/?EIO=4&transport=polling&t=OcKlND_&sid=90ISlQJ3DqgcYq5_AABA HTTP/1.1\" 200 -\n",
      "127.0.0.1 - - [26/Jul/2023 17:26:31] \"POST /socket.io/?EIO=4&transport=polling&t=OcKlNOa&sid=90ISlQJ3DqgcYq5_AABA HTTP/1.1\" 200 -\n"
     ]
    },
    {
     "name": "stdout",
     "output_type": "stream",
     "text": [
      "{'selectedCardIndices': [0]}\n"
     ]
    },
    {
     "name": "stderr",
     "output_type": "stream",
     "text": [
      "127.0.0.1 - - [26/Jul/2023 17:26:32] \"POST /socket.io/?EIO=4&transport=polling&t=OcKlNT-&sid=90ISlQJ3DqgcYq5_AABA HTTP/1.1\" 200 -\n"
     ]
    },
    {
     "name": "stdout",
     "output_type": "stream",
     "text": [
      "{'selectedCardIndices': [0, 1]}\n"
     ]
    },
    {
     "name": "stderr",
     "output_type": "stream",
     "text": [
      "127.0.0.1 - - [26/Jul/2023 17:26:32] \"POST /socket.io/?EIO=4&transport=polling&t=OcKlNZj&sid=90ISlQJ3DqgcYq5_AABA HTTP/1.1\" 200 -\n",
      "127.0.0.1 - - [26/Jul/2023 17:26:32] \"GET /socket.io/?EIO=4&transport=polling&t=OcKlNEN&sid=90ISlQJ3DqgcYq5_AABA HTTP/1.1\" 200 -\n"
     ]
    },
    {
     "name": "stdout",
     "output_type": "stream",
     "text": [
      "{'selectedCardIndices': [0, 1, 2]}\n",
      "WIN\n"
     ]
    },
    {
     "name": "stderr",
     "output_type": "stream",
     "text": [
      "127.0.0.1 - - [26/Jul/2023 17:26:34] \"POST /socket.io/?EIO=4&transport=polling&t=OcKlNwu&sid=90ISlQJ3DqgcYq5_AABA HTTP/1.1\" 200 -\n",
      "127.0.0.1 - - [26/Jul/2023 17:26:34] \"GET /socket.io/?EIO=4&transport=polling&t=OcKlNZu&sid=90ISlQJ3DqgcYq5_AABA HTTP/1.1\" 200 -\n"
     ]
    },
    {
     "name": "stdout",
     "output_type": "stream",
     "text": [
      "{'selectedCardIndices': [0, 1]}\n",
      "WIN\n"
     ]
    },
    {
     "name": "stderr",
     "output_type": "stream",
     "text": [
      "127.0.0.1 - - [26/Jul/2023 17:26:34] \"POST /socket.io/?EIO=4&transport=polling&t=OcKlN_b&sid=90ISlQJ3DqgcYq5_AABA HTTP/1.1\" 200 -\n"
     ]
    },
    {
     "name": "stdout",
     "output_type": "stream",
     "text": [
      "{'selectedCardIndices': [0]}\n"
     ]
    },
    {
     "name": "stderr",
     "output_type": "stream",
     "text": [
      "127.0.0.1 - - [26/Jul/2023 17:26:35] \"POST /socket.io/?EIO=4&transport=polling&t=OcKlOC4&sid=90ISlQJ3DqgcYq5_AABA HTTP/1.1\" 200 -\n"
     ]
    },
    {
     "name": "stdout",
     "output_type": "stream",
     "text": [
      "{'selectedCardIndices': [0, 2]}\n"
     ]
    },
    {
     "name": "stderr",
     "output_type": "stream",
     "text": [
      "127.0.0.1 - - [26/Jul/2023 17:26:35] \"POST /socket.io/?EIO=4&transport=polling&t=OcKlOJe&sid=90ISlQJ3DqgcYq5_AABA HTTP/1.1\" 200 -\n"
     ]
    },
    {
     "name": "stdout",
     "output_type": "stream",
     "text": [
      "{'selectedCardIndices': [0, 2, 3]}\n"
     ]
    },
    {
     "name": "stderr",
     "output_type": "stream",
     "text": [
      "127.0.0.1 - - [26/Jul/2023 17:26:36] \"POST /socket.io/?EIO=4&transport=polling&t=OcKlOSV&sid=90ISlQJ3DqgcYq5_AABA HTTP/1.1\" 200 -\n"
     ]
    },
    {
     "name": "stdout",
     "output_type": "stream",
     "text": [
      "{'selectedCardIndices': [2, 3]}\n"
     ]
    },
    {
     "name": "stderr",
     "output_type": "stream",
     "text": [
      "127.0.0.1 - - [26/Jul/2023 17:26:36] \"POST /socket.io/?EIO=4&transport=polling&t=OcKlOY_&sid=90ISlQJ3DqgcYq5_AABA HTTP/1.1\" 200 -\n"
     ]
    },
    {
     "name": "stdout",
     "output_type": "stream",
     "text": [
      "{'selectedCardIndices': [2, 3, 1]}\n"
     ]
    },
    {
     "name": "stderr",
     "output_type": "stream",
     "text": [
      "127.0.0.1 - - [26/Jul/2023 17:26:37] \"POST /socket.io/?EIO=4&transport=polling&t=OcKlOg1&sid=90ISlQJ3DqgcYq5_AABA HTTP/1.1\" 200 -\n"
     ]
    },
    {
     "name": "stdout",
     "output_type": "stream",
     "text": [
      "{'selectedCardIndices': [3, 1]}\n"
     ]
    },
    {
     "name": "stderr",
     "output_type": "stream",
     "text": [
      "127.0.0.1 - - [26/Jul/2023 17:26:37] \"POST /socket.io/?EIO=4&transport=polling&t=OcKlOlW&sid=90ISlQJ3DqgcYq5_AABA HTTP/1.1\" 200 -\n"
     ]
    },
    {
     "name": "stdout",
     "output_type": "stream",
     "text": [
      "{'selectedCardIndices': [1]}\n"
     ]
    },
    {
     "name": "stderr",
     "output_type": "stream",
     "text": [
      "127.0.0.1 - - [26/Jul/2023 17:26:37] \"POST /socket.io/?EIO=4&transport=polling&t=OcKlOta&sid=90ISlQJ3DqgcYq5_AABA HTTP/1.1\" 200 -\n"
     ]
    },
    {
     "name": "stdout",
     "output_type": "stream",
     "text": [
      "{'selectedCardIndices': [1, 0]}\n"
     ]
    },
    {
     "name": "stderr",
     "output_type": "stream",
     "text": [
      "127.0.0.1 - - [26/Jul/2023 17:26:38] \"POST /socket.io/?EIO=4&transport=polling&t=OcKlO-t&sid=90ISlQJ3DqgcYq5_AABA HTTP/1.1\" 200 -\n"
     ]
    },
    {
     "name": "stdout",
     "output_type": "stream",
     "text": [
      "{'selectedCardIndices': [0]}\n"
     ]
    },
    {
     "name": "stderr",
     "output_type": "stream",
     "text": [
      "127.0.0.1 - - [26/Jul/2023 17:26:38] \"POST /socket.io/?EIO=4&transport=polling&t=OcKlP6h&sid=90ISlQJ3DqgcYq5_AABA HTTP/1.1\" 200 -\n"
     ]
    },
    {
     "name": "stdout",
     "output_type": "stream",
     "text": [
      "{'selectedCardIndices': [0, 2]}\n"
     ]
    },
    {
     "name": "stderr",
     "output_type": "stream",
     "text": [
      "127.0.0.1 - - [26/Jul/2023 17:26:39] \"POST /socket.io/?EIO=4&transport=polling&t=OcKlPDj&sid=90ISlQJ3DqgcYq5_AABA HTTP/1.1\" 200 -\n"
     ]
    },
    {
     "name": "stdout",
     "output_type": "stream",
     "text": [
      "{'selectedCardIndices': [0, 2, 1]}\n"
     ]
    },
    {
     "name": "stderr",
     "output_type": "stream",
     "text": [
      "127.0.0.1 - - [26/Jul/2023 17:26:39] \"POST /socket.io/?EIO=4&transport=polling&t=OcKlPKl&sid=90ISlQJ3DqgcYq5_AABA HTTP/1.1\" 200 -\n"
     ]
    },
    {
     "name": "stdout",
     "output_type": "stream",
     "text": [
      "{'selectedCardIndices': [0, 2, 1, 3]}\n"
     ]
    },
    {
     "name": "stderr",
     "output_type": "stream",
     "text": [
      "127.0.0.1 - - [26/Jul/2023 17:26:40] \"POST /socket.io/?EIO=4&transport=polling&t=OcKlPRG&sid=90ISlQJ3DqgcYq5_AABA HTTP/1.1\" 200 -\n"
     ]
    },
    {
     "name": "stdout",
     "output_type": "stream",
     "text": [
      "{'selectedCardIndices': [0, 2, 3]}\n"
     ]
    },
    {
     "name": "stderr",
     "output_type": "stream",
     "text": [
      "127.0.0.1 - - [26/Jul/2023 17:26:40] \"POST /socket.io/?EIO=4&transport=polling&t=OcKlPcS&sid=90ISlQJ3DqgcYq5_AABA HTTP/1.1\" 200 -\n"
     ]
    },
    {
     "name": "stdout",
     "output_type": "stream",
     "text": [
      "{'selectedCardIndices': [0, 2, 3, 1]}\n"
     ]
    },
    {
     "name": "stderr",
     "output_type": "stream",
     "text": [
      "127.0.0.1 - - [26/Jul/2023 17:26:41] \"POST /socket.io/?EIO=4&transport=polling&t=OcKlPhg&sid=90ISlQJ3DqgcYq5_AABA HTTP/1.1\" 200 -\n"
     ]
    },
    {
     "name": "stdout",
     "output_type": "stream",
     "text": [
      "{'selectedCardIndices': [2, 3, 1]}\n"
     ]
    },
    {
     "name": "stderr",
     "output_type": "stream",
     "text": [
      "127.0.0.1 - - [26/Jul/2023 17:26:41] \"POST /socket.io/?EIO=4&transport=polling&t=OcKlPn8&sid=90ISlQJ3DqgcYq5_AABA HTTP/1.1\" 200 -\n"
     ]
    },
    {
     "name": "stdout",
     "output_type": "stream",
     "text": [
      "{'selectedCardIndices': [3, 1]}\n"
     ]
    },
    {
     "name": "stderr",
     "output_type": "stream",
     "text": [
      "127.0.0.1 - - [26/Jul/2023 17:26:41] \"POST /socket.io/?EIO=4&transport=polling&t=OcKlPsL&sid=90ISlQJ3DqgcYq5_AABA HTTP/1.1\" 200 -\n",
      "127.0.0.1 - - [26/Jul/2023 17:26:41] \"GET /socket.io/?EIO=4&transport=polling&t=OcKlJmP&sid=B7OY6t_iuPUdkzkdAAAA HTTP/1.1\" 200 -\n",
      "127.0.0.1 - - [26/Jul/2023 17:26:41] \"POST /socket.io/?EIO=4&transport=polling&t=OcKlPt9&sid=B7OY6t_iuPUdkzkdAAAA HTTP/1.1\" 200 -\n"
     ]
    },
    {
     "name": "stdout",
     "output_type": "stream",
     "text": [
      "{'selectedCardIndices': [1]}\n"
     ]
    },
    {
     "name": "stderr",
     "output_type": "stream",
     "text": [
      "127.0.0.1 - - [26/Jul/2023 17:26:42] \"POST /socket.io/?EIO=4&transport=polling&t=OcKlP-h&sid=90ISlQJ3DqgcYq5_AABA HTTP/1.1\" 200 -\n"
     ]
    },
    {
     "name": "stdout",
     "output_type": "stream",
     "text": [
      "{'selectedCardIndices': [1, 0]}\n"
     ]
    },
    {
     "name": "stderr",
     "output_type": "stream",
     "text": [
      "127.0.0.1 - - [26/Jul/2023 17:26:43] \"POST /socket.io/?EIO=4&transport=polling&t=OcKlQ83&sid=90ISlQJ3DqgcYq5_AABA HTTP/1.1\" 200 -\n"
     ]
    },
    {
     "name": "stdout",
     "output_type": "stream",
     "text": [
      "{'selectedCardIndices': [1, 0, 2]}\n"
     ]
    },
    {
     "name": "stderr",
     "output_type": "stream",
     "text": [
      "127.0.0.1 - - [26/Jul/2023 17:26:44] \"POST /socket.io/?EIO=4&transport=polling&t=OcKlQU-&sid=90ISlQJ3DqgcYq5_AABA HTTP/1.1\" 200 -\n"
     ]
    },
    {
     "name": "stdout",
     "output_type": "stream",
     "text": [
      "{'selectedCardIndices': [1, 0]}\n"
     ]
    },
    {
     "name": "stderr",
     "output_type": "stream",
     "text": [
      "127.0.0.1 - - [26/Jul/2023 17:26:45] \"POST /socket.io/?EIO=4&transport=polling&t=OcKlQco&sid=90ISlQJ3DqgcYq5_AABA HTTP/1.1\" 200 -\n"
     ]
    },
    {
     "name": "stdout",
     "output_type": "stream",
     "text": [
      "{'selectedCardIndices': [1]}\n"
     ]
    },
    {
     "name": "stderr",
     "output_type": "stream",
     "text": [
      "127.0.0.1 - - [26/Jul/2023 17:26:45] \"POST /socket.io/?EIO=4&transport=polling&t=OcKlQnT&sid=90ISlQJ3DqgcYq5_AABA HTTP/1.1\" 200 -\n"
     ]
    },
    {
     "name": "stdout",
     "output_type": "stream",
     "text": [
      "{'selectedCardIndices': [1, 0]}\n"
     ]
    },
    {
     "name": "stderr",
     "output_type": "stream",
     "text": [
      "127.0.0.1 - - [26/Jul/2023 17:26:46] \"POST /socket.io/?EIO=4&transport=polling&t=OcKlQ-V&sid=90ISlQJ3DqgcYq5_AABA HTTP/1.1\" 200 -\n"
     ]
    },
    {
     "name": "stdout",
     "output_type": "stream",
     "text": [
      "{'selectedCardIndices': [0]}\n"
     ]
    },
    {
     "name": "stderr",
     "output_type": "stream",
     "text": [
      "127.0.0.1 - - [26/Jul/2023 17:26:48] \"POST /socket.io/?EIO=4&transport=polling&t=OcKlRMj&sid=90ISlQJ3DqgcYq5_AABA HTTP/1.1\" 200 -\n"
     ]
    },
    {
     "name": "stdout",
     "output_type": "stream",
     "text": [
      "{'selectedCardIndices': [0]}\n"
     ]
    },
    {
     "name": "stderr",
     "output_type": "stream",
     "text": [
      "127.0.0.1 - - [26/Jul/2023 17:26:48] \"POST /socket.io/?EIO=4&transport=polling&t=OcKlRUX&sid=90ISlQJ3DqgcYq5_AABA HTTP/1.1\" 200 -\n"
     ]
    },
    {
     "name": "stdout",
     "output_type": "stream",
     "text": [
      "{'selectedCardIndices': [0, 2]}\n"
     ]
    },
    {
     "name": "stderr",
     "output_type": "stream",
     "text": [
      "127.0.0.1 - - [26/Jul/2023 17:26:49] \"POST /socket.io/?EIO=4&transport=polling&t=OcKlRcs&sid=90ISlQJ3DqgcYq5_AABA HTTP/1.1\" 200 -\n"
     ]
    },
    {
     "name": "stdout",
     "output_type": "stream",
     "text": [
      "{'selectedCardIndices': [2]}\n"
     ]
    },
    {
     "name": "stderr",
     "output_type": "stream",
     "text": [
      "127.0.0.1 - - [26/Jul/2023 17:26:49] \"POST /socket.io/?EIO=4&transport=polling&t=OcKlRhI&sid=90ISlQJ3DqgcYq5_AABA HTTP/1.1\" 200 -\n",
      "127.0.0.1 - - [26/Jul/2023 17:26:49] \"GET /socket.io/?EIO=4&transport=polling&t=OcKlNx2&sid=90ISlQJ3DqgcYq5_AABA HTTP/1.1\" 200 -\n"
     ]
    },
    {
     "name": "stdout",
     "output_type": "stream",
     "text": [
      "{'selectedCardIndices': [2, 1]}\n",
      "WIN\n"
     ]
    },
    {
     "name": "stderr",
     "output_type": "stream",
     "text": [
      "127.0.0.1 - - [26/Jul/2023 17:26:49] \"POST /socket.io/?EIO=4&transport=polling&t=OcKlRmV&sid=90ISlQJ3DqgcYq5_AABA HTTP/1.1\" 200 -\n"
     ]
    },
    {
     "name": "stdout",
     "output_type": "stream",
     "text": [
      "{'selectedCardIndices': [2, 1, 0]}\n"
     ]
    },
    {
     "name": "stderr",
     "output_type": "stream",
     "text": [
      "127.0.0.1 - - [26/Jul/2023 17:26:51] \"POST /socket.io/?EIO=4&transport=polling&t=OcKlS8-&sid=90ISlQJ3DqgcYq5_AABA HTTP/1.1\" 200 -\n"
     ]
    },
    {
     "name": "stdout",
     "output_type": "stream",
     "text": [
      "{'selectedCardIndices': [2, 0]}\n"
     ]
    },
    {
     "name": "stderr",
     "output_type": "stream",
     "text": [
      "127.0.0.1 - - [26/Jul/2023 17:26:52] \"POST /socket.io/?EIO=4&transport=polling&t=OcKlSU5&sid=90ISlQJ3DqgcYq5_AABA HTTP/1.1\" 200 -\n"
     ]
    },
    {
     "name": "stdout",
     "output_type": "stream",
     "text": [
      "{'selectedCardIndices': [2, 0, 3]}\n"
     ]
    },
    {
     "name": "stderr",
     "output_type": "stream",
     "text": [
      "127.0.0.1 - - [26/Jul/2023 17:26:53] \"POST /socket.io/?EIO=4&transport=polling&t=OcKlSch&sid=90ISlQJ3DqgcYq5_AABA HTTP/1.1\" 200 -\n",
      "127.0.0.1 - - [26/Jul/2023 17:26:53] \"GET /socket.io/?EIO=4&transport=polling&t=OcKlRhS&sid=90ISlQJ3DqgcYq5_AABA HTTP/1.1\" 200 -\n"
     ]
    },
    {
     "name": "stdout",
     "output_type": "stream",
     "text": [
      "{'selectedCardIndices': [2, 0, 3, 1]}\n",
      "WIN\n"
     ]
    },
    {
     "name": "stderr",
     "output_type": "stream",
     "text": [
      "127.0.0.1 - - [26/Jul/2023 17:26:54] \"POST /socket.io/?EIO=4&transport=polling&t=OcKlSvi&sid=90ISlQJ3DqgcYq5_AABA HTTP/1.1\" 200 -\n",
      "127.0.0.1 - - [26/Jul/2023 17:26:54] \"GET /socket.io/?EIO=4&transport=polling&t=OcKlScq&sid=90ISlQJ3DqgcYq5_AABA HTTP/1.1\" 200 -\n"
     ]
    },
    {
     "name": "stdout",
     "output_type": "stream",
     "text": [
      "{'selectedCardIndices': [2, 3, 1]}\n",
      "WIN\n"
     ]
    },
    {
     "name": "stderr",
     "output_type": "stream",
     "text": [
      "127.0.0.1 - - [26/Jul/2023 17:26:56] \"GET /socket.io/?EIO=4&transport=polling&t=OcKlSvs&sid=90ISlQJ3DqgcYq5_AABA HTTP/1.1\" 200 -\n",
      "127.0.0.1 - - [26/Jul/2023 17:26:56] \"POST /socket.io/?EIO=4&transport=polling&t=OcKlTKh&sid=90ISlQJ3DqgcYq5_AABA HTTP/1.1\" 200 -\n",
      "127.0.0.1 - - [26/Jul/2023 17:26:56] \"POST /socket.io/?EIO=4&transport=polling&t=OcKlTUh&sid=90ISlQJ3DqgcYq5_AABA HTTP/1.1\" 200 -\n"
     ]
    },
    {
     "name": "stdout",
     "output_type": "stream",
     "text": [
      "{'selectedCardIndices': [2, 3]}\n"
     ]
    },
    {
     "name": "stderr",
     "output_type": "stream",
     "text": [
      "127.0.0.1 - - [26/Jul/2023 17:26:57] \"POST /socket.io/?EIO=4&transport=polling&t=OcKlTcl&sid=90ISlQJ3DqgcYq5_AABA HTTP/1.1\" 200 -\n"
     ]
    },
    {
     "name": "stdout",
     "output_type": "stream",
     "text": [
      "{'selectedCardIndices': [3]}\n"
     ]
    },
    {
     "name": "stderr",
     "output_type": "stream",
     "text": [
      "127.0.0.1 - - [26/Jul/2023 17:26:58] \"POST /socket.io/?EIO=4&transport=polling&t=OcKlTpn&sid=90ISlQJ3DqgcYq5_AABA HTTP/1.1\" 200 -\n"
     ]
    },
    {
     "name": "stdout",
     "output_type": "stream",
     "text": [
      "{'selectedCardIndices': [1]}\n"
     ]
    },
    {
     "name": "stderr",
     "output_type": "stream",
     "text": [
      "127.0.0.1 - - [26/Jul/2023 17:26:58] \"POST /socket.io/?EIO=4&transport=polling&t=OcKlTvF&sid=90ISlQJ3DqgcYq5_AABA HTTP/1.1\" 200 -\n"
     ]
    },
    {
     "name": "stdout",
     "output_type": "stream",
     "text": [
      "{'selectedCardIndices': [1, 0]}\n"
     ]
    },
    {
     "name": "stderr",
     "output_type": "stream",
     "text": [
      "127.0.0.1 - - [26/Jul/2023 17:26:58] \"POST /socket.io/?EIO=4&transport=polling&t=OcKlT_V&sid=90ISlQJ3DqgcYq5_AABA HTTP/1.1\" 200 -\n",
      "127.0.0.1 - - [26/Jul/2023 17:26:58] \"GET /socket.io/?EIO=4&transport=polling&t=OcKlTKh.0&sid=90ISlQJ3DqgcYq5_AABA HTTP/1.1\" 200 -\n"
     ]
    },
    {
     "name": "stdout",
     "output_type": "stream",
     "text": [
      "{'selectedCardIndices': [1, 0, 2]}\n",
      "WIN\n"
     ]
    },
    {
     "name": "stderr",
     "output_type": "stream",
     "text": [
      "127.0.0.1 - - [26/Jul/2023 17:27:01] \"POST /socket.io/?EIO=4&transport=polling&t=OcKlUXc&sid=90ISlQJ3DqgcYq5_AABA HTTP/1.1\" 200 -\n"
     ]
    },
    {
     "name": "stdout",
     "output_type": "stream",
     "text": [
      "{'selectedCardIndices': [0, 2]}\n"
     ]
    },
    {
     "name": "stderr",
     "output_type": "stream",
     "text": [
      "127.0.0.1 - - [26/Jul/2023 17:27:01] \"POST /socket.io/?EIO=4&transport=polling&t=OcKlUi1&sid=90ISlQJ3DqgcYq5_AABA HTTP/1.1\" 200 -\n"
     ]
    },
    {
     "name": "stdout",
     "output_type": "stream",
     "text": [
      "{'selectedCardIndices': [0, 2, 1]}\n"
     ]
    },
    {
     "name": "stderr",
     "output_type": "stream",
     "text": [
      "127.0.0.1 - - [26/Jul/2023 17:27:02] \"POST /socket.io/?EIO=4&transport=polling&t=OcKlUnF&sid=90ISlQJ3DqgcYq5_AABA HTTP/1.1\" 200 -\n"
     ]
    },
    {
     "name": "stdout",
     "output_type": "stream",
     "text": [
      "{'selectedCardIndices': [2, 1]}\n"
     ]
    },
    {
     "name": "stderr",
     "output_type": "stream",
     "text": [
      "127.0.0.1 - - [26/Jul/2023 17:27:02] \"POST /socket.io/?EIO=4&transport=polling&t=OcKlUx8&sid=90ISlQJ3DqgcYq5_AABA HTTP/1.1\" 200 -\n"
     ]
    },
    {
     "name": "stdout",
     "output_type": "stream",
     "text": [
      "{'selectedCardIndices': [2, 1, 0]}\n"
     ]
    },
    {
     "name": "stderr",
     "output_type": "stream",
     "text": [
      "127.0.0.1 - - [26/Jul/2023 17:27:03] \"POST /socket.io/?EIO=4&transport=polling&t=OcKlV17&sid=90ISlQJ3DqgcYq5_AABA HTTP/1.1\" 200 -\n"
     ]
    },
    {
     "name": "stdout",
     "output_type": "stream",
     "text": [
      "{'selectedCardIndices': [2, 0]}\n"
     ]
    },
    {
     "name": "stderr",
     "output_type": "stream",
     "text": [
      "127.0.0.1 - - [26/Jul/2023 17:27:03] \"POST /socket.io/?EIO=4&transport=polling&t=OcKlV6c&sid=90ISlQJ3DqgcYq5_AABA HTTP/1.1\" 200 -\n"
     ]
    },
    {
     "name": "stdout",
     "output_type": "stream",
     "text": [
      "{'selectedCardIndices': [0]}\n"
     ]
    },
    {
     "name": "stderr",
     "output_type": "stream",
     "text": [
      "127.0.0.1 - - [26/Jul/2023 17:27:03] \"POST /socket.io/?EIO=4&transport=polling&t=OcKlVE9&sid=90ISlQJ3DqgcYq5_AABA HTTP/1.1\" 200 -\n"
     ]
    },
    {
     "name": "stdout",
     "output_type": "stream",
     "text": [
      "{'selectedCardIndices': [0, 1]}\n"
     ]
    },
    {
     "name": "stderr",
     "output_type": "stream",
     "text": [
      "127.0.0.1 - - [26/Jul/2023 17:27:04] \"POST /socket.io/?EIO=4&transport=polling&t=OcKlVNX&sid=90ISlQJ3DqgcYq5_AABA HTTP/1.1\" 200 -\n"
     ]
    },
    {
     "name": "stdout",
     "output_type": "stream",
     "text": [
      "{'selectedCardIndices': [0, 1, 3]}\n"
     ]
    },
    {
     "name": "stderr",
     "output_type": "stream",
     "text": [
      "127.0.0.1 - - [26/Jul/2023 17:27:05] \"POST /socket.io/?EIO=4&transport=polling&t=OcKlVUZ&sid=90ISlQJ3DqgcYq5_AABA HTTP/1.1\" 200 -\n"
     ]
    },
    {
     "name": "stdout",
     "output_type": "stream",
     "text": [
      "{'selectedCardIndices': [0, 1, 3, 2]}\n"
     ]
    },
    {
     "name": "stderr",
     "output_type": "stream",
     "text": [
      "127.0.0.1 - - [26/Jul/2023 17:27:05] \"POST /socket.io/?EIO=4&transport=polling&t=OcKlVb4&sid=90ISlQJ3DqgcYq5_AABA HTTP/1.1\" 200 -\n"
     ]
    },
    {
     "name": "stdout",
     "output_type": "stream",
     "text": [
      "{'selectedCardIndices': [0, 1, 2]}\n"
     ]
    },
    {
     "name": "stderr",
     "output_type": "stream",
     "text": [
      "127.0.0.1 - - [26/Jul/2023 17:27:05] \"POST /socket.io/?EIO=4&transport=polling&t=OcKlVj9&sid=90ISlQJ3DqgcYq5_AABA HTTP/1.1\" 200 -\n"
     ]
    },
    {
     "name": "stdout",
     "output_type": "stream",
     "text": [
      "{'selectedCardIndices': [1, 2]}\n"
     ]
    },
    {
     "name": "stderr",
     "output_type": "stream",
     "text": [
      "127.0.0.1 - - [26/Jul/2023 17:27:06] \"GET /socket.io/?EIO=4&transport=polling&t=OcKlPtA&sid=B7OY6t_iuPUdkzkdAAAA HTTP/1.1\" 200 -\n",
      "127.0.0.1 - - [26/Jul/2023 17:27:07] \"POST /socket.io/?EIO=4&transport=polling&t=OcKlVzy&sid=B7OY6t_iuPUdkzkdAAAA HTTP/1.1\" 200 -\n",
      "127.0.0.1 - - [26/Jul/2023 17:27:21] \"GET /socket.io/?EIO=4&transport=polling&t=OcKlT_f&sid=90ISlQJ3DqgcYq5_AABA HTTP/1.1\" 200 -\n",
      "127.0.0.1 - - [26/Jul/2023 17:27:21] \"POST /socket.io/?EIO=4&transport=polling&t=OcKlZRS&sid=90ISlQJ3DqgcYq5_AABA HTTP/1.1\" 200 -\n",
      "127.0.0.1 - - [26/Jul/2023 17:27:32] \"GET /socket.io/?EIO=4&transport=polling&t=OcKlVzz&sid=B7OY6t_iuPUdkzkdAAAA HTTP/1.1\" 200 -\n",
      "127.0.0.1 - - [26/Jul/2023 17:27:32] \"POST /socket.io/?EIO=4&transport=polling&t=OcKlc4n&sid=B7OY6t_iuPUdkzkdAAAA HTTP/1.1\" 200 -\n",
      "127.0.0.1 - - [26/Jul/2023 17:27:41] \"POST /socket.io/?EIO=4&transport=polling&t=OcKleLT&sid=90ISlQJ3DqgcYq5_AABA HTTP/1.1\" 200 -\n",
      "127.0.0.1 - - [26/Jul/2023 17:27:41] \"GET /socket.io/?EIO=4&transport=polling&t=OcKlZRT&sid=90ISlQJ3DqgcYq5_AABA HTTP/1.1\" 200 -\n",
      "127.0.0.1 - - [26/Jul/2023 17:27:41] \"GET /socket.io/?EIO=4&transport=polling&t=OcKleME HTTP/1.1\" 200 -\n",
      "127.0.0.1 - - [26/Jul/2023 17:27:41] \"POST /socket.io/?EIO=4&transport=polling&t=OcKleMN&sid=MbUzfQMj9PtQDobiAABC HTTP/1.1\" 200 -\n",
      "127.0.0.1 - - [26/Jul/2023 17:27:41] \"GET /socket.io/?EIO=4&transport=polling&t=OcKleMO&sid=MbUzfQMj9PtQDobiAABC HTTP/1.1\" 200 -\n",
      "127.0.0.1 - - [26/Jul/2023 17:27:41] \"POST /socket.io/?EIO=4&transport=polling&t=OcKleVJ&sid=MbUzfQMj9PtQDobiAABC HTTP/1.1\" 200 -\n"
     ]
    },
    {
     "name": "stdout",
     "output_type": "stream",
     "text": [
      "{'selectedCardIndices': [0]}\n"
     ]
    },
    {
     "name": "stderr",
     "output_type": "stream",
     "text": [
      "127.0.0.1 - - [26/Jul/2023 17:27:42] \"POST /socket.io/?EIO=4&transport=polling&t=OcKleaC&sid=MbUzfQMj9PtQDobiAABC HTTP/1.1\" 200 -\n"
     ]
    },
    {
     "name": "stdout",
     "output_type": "stream",
     "text": [
      "{'selectedCardIndices': [0, 1]}\n"
     ]
    },
    {
     "name": "stderr",
     "output_type": "stream",
     "text": [
      "127.0.0.1 - - [26/Jul/2023 17:27:42] \"POST /socket.io/?EIO=4&transport=polling&t=OcKlefP&sid=MbUzfQMj9PtQDobiAABC HTTP/1.1\" 200 -\n"
     ]
    },
    {
     "name": "stdout",
     "output_type": "stream",
     "text": [
      "{'selectedCardIndices': [0, 1, 2]}\n"
     ]
    },
    {
     "name": "stderr",
     "output_type": "stream",
     "text": [
      "127.0.0.1 - - [26/Jul/2023 17:27:43] \"POST /socket.io/?EIO=4&transport=polling&t=OcKlemS&sid=MbUzfQMj9PtQDobiAABC HTTP/1.1\" 200 -\n"
     ]
    },
    {
     "name": "stdout",
     "output_type": "stream",
     "text": [
      "{'selectedCardIndices': [0, 1, 2, 3]}\n"
     ]
    },
    {
     "name": "stderr",
     "output_type": "stream",
     "text": [
      "127.0.0.1 - - [26/Jul/2023 17:27:43] \"POST /socket.io/?EIO=4&transport=polling&t=OcKleu0&sid=MbUzfQMj9PtQDobiAABC HTTP/1.1\" 200 -\n"
     ]
    },
    {
     "name": "stdout",
     "output_type": "stream",
     "text": [
      "{'selectedCardIndices': [0, 2, 3]}\n"
     ]
    },
    {
     "name": "stderr",
     "output_type": "stream",
     "text": [
      "127.0.0.1 - - [26/Jul/2023 17:27:43] \"POST /socket.io/?EIO=4&transport=polling&t=OcKlezk&sid=MbUzfQMj9PtQDobiAABC HTTP/1.1\" 200 -\n",
      "127.0.0.1 - - [26/Jul/2023 17:27:43] \"GET /socket.io/?EIO=4&transport=polling&t=OcKleMa&sid=MbUzfQMj9PtQDobiAABC HTTP/1.1\" 200 -\n"
     ]
    },
    {
     "name": "stdout",
     "output_type": "stream",
     "text": [
      "{'selectedCardIndices': [0, 3]}\n",
      "WIN\n"
     ]
    },
    {
     "name": "stderr",
     "output_type": "stream",
     "text": [
      "127.0.0.1 - - [26/Jul/2023 17:27:45] \"POST /socket.io/?EIO=4&transport=polling&t=OcKlfOI&sid=MbUzfQMj9PtQDobiAABC HTTP/1.1\" 200 -\n"
     ]
    },
    {
     "name": "stdout",
     "output_type": "stream",
     "text": [
      "{'selectedCardIndices': [0]}\n"
     ]
    },
    {
     "name": "stderr",
     "output_type": "stream",
     "text": [
      "127.0.0.1 - - [26/Jul/2023 17:27:46] \"POST /socket.io/?EIO=4&transport=polling&t=OcKlfVs&sid=MbUzfQMj9PtQDobiAABC HTTP/1.1\" 200 -\n"
     ]
    },
    {
     "name": "stdout",
     "output_type": "stream",
     "text": [
      "{'selectedCardIndices': [0, 1]}\n"
     ]
    },
    {
     "name": "stderr",
     "output_type": "stream",
     "text": [
      "127.0.0.1 - - [26/Jul/2023 17:27:46] \"POST /socket.io/?EIO=4&transport=polling&t=OcKlfbr&sid=MbUzfQMj9PtQDobiAABC HTTP/1.1\" 200 -\n"
     ]
    },
    {
     "name": "stdout",
     "output_type": "stream",
     "text": [
      "{'selectedCardIndices': [0, 1, 2]}\n"
     ]
    },
    {
     "name": "stderr",
     "output_type": "stream",
     "text": [
      "127.0.0.1 - - [26/Jul/2023 17:27:46] \"POST /socket.io/?EIO=4&transport=polling&t=OcKlfh2&sid=MbUzfQMj9PtQDobiAABC HTTP/1.1\" 200 -\n"
     ]
    },
    {
     "name": "stdout",
     "output_type": "stream",
     "text": [
      "{'selectedCardIndices': [0, 1, 2, 3]}\n"
     ]
    },
    {
     "name": "stderr",
     "output_type": "stream",
     "text": [
      "127.0.0.1 - - [26/Jul/2023 17:27:47] \"POST /socket.io/?EIO=4&transport=polling&t=OcKlfwh&sid=MbUzfQMj9PtQDobiAABC HTTP/1.1\" 200 -\n"
     ]
    },
    {
     "name": "stdout",
     "output_type": "stream",
     "text": [
      "{'selectedCardIndices': [0, 2, 3]}\n"
     ]
    },
    {
     "name": "stderr",
     "output_type": "stream",
     "text": [
      "127.0.0.1 - - [26/Jul/2023 17:27:48] \"POST /socket.io/?EIO=4&transport=polling&t=OcKlf_t&sid=MbUzfQMj9PtQDobiAABC HTTP/1.1\" 200 -\n"
     ]
    },
    {
     "name": "stdout",
     "output_type": "stream",
     "text": [
      "{'selectedCardIndices': [2, 3]}\n"
     ]
    },
    {
     "name": "stderr",
     "output_type": "stream",
     "text": [
      "127.0.0.1 - - [26/Jul/2023 17:27:48] \"POST /socket.io/?EIO=4&transport=polling&t=OcKlg79&sid=MbUzfQMj9PtQDobiAABC HTTP/1.1\" 200 -\n"
     ]
    },
    {
     "name": "stdout",
     "output_type": "stream",
     "text": [
      "{'selectedCardIndices': [3]}\n"
     ]
    },
    {
     "name": "stderr",
     "output_type": "stream",
     "text": [
      "127.0.0.1 - - [26/Jul/2023 17:27:48] \"POST /socket.io/?EIO=4&transport=polling&t=OcKlgCe&sid=MbUzfQMj9PtQDobiAABC HTTP/1.1\" 200 -\n"
     ]
    },
    {
     "name": "stdout",
     "output_type": "stream",
     "text": [
      "{'selectedCardIndices': [3, 1]}\n"
     ]
    },
    {
     "name": "stderr",
     "output_type": "stream",
     "text": [
      "127.0.0.1 - - [26/Jul/2023 17:27:49] \"POST /socket.io/?EIO=4&transport=polling&t=OcKlgJ8&sid=MbUzfQMj9PtQDobiAABC HTTP/1.1\" 200 -\n"
     ]
    },
    {
     "name": "stdout",
     "output_type": "stream",
     "text": [
      "{'selectedCardIndices': [1]}\n"
     ]
    },
    {
     "name": "stderr",
     "output_type": "stream",
     "text": [
      "127.0.0.1 - - [26/Jul/2023 17:27:49] \"POST /socket.io/?EIO=4&transport=polling&t=OcKlgON&sid=MbUzfQMj9PtQDobiAABC HTTP/1.1\" 200 -\n",
      "127.0.0.1 - - [26/Jul/2023 17:27:49] \"GET /socket.io/?EIO=4&transport=polling&t=OcKlezu&sid=MbUzfQMj9PtQDobiAABC HTTP/1.1\" 200 -\n"
     ]
    },
    {
     "name": "stdout",
     "output_type": "stream",
     "text": [
      "{'selectedCardIndices': [1, 2]}\n",
      "WIN\n"
     ]
    },
    {
     "name": "stderr",
     "output_type": "stream",
     "text": [
      "127.0.0.1 - - [26/Jul/2023 17:27:50] \"POST /socket.io/?EIO=4&transport=polling&t=OcKlgcQ&sid=MbUzfQMj9PtQDobiAABC HTTP/1.1\" 200 -\n"
     ]
    },
    {
     "name": "stdout",
     "output_type": "stream",
     "text": [
      "{'selectedCardIndices': [1]}\n"
     ]
    },
    {
     "name": "stderr",
     "output_type": "stream",
     "text": [
      "127.0.0.1 - - [26/Jul/2023 17:27:50] \"POST /socket.io/?EIO=4&transport=polling&t=OcKlgi8&sid=MbUzfQMj9PtQDobiAABC HTTP/1.1\" 200 -\n"
     ]
    },
    {
     "name": "stdout",
     "output_type": "stream",
     "text": [
      "{'selectedCardIndices': [1, 2]}\n"
     ]
    },
    {
     "name": "stderr",
     "output_type": "stream",
     "text": [
      "127.0.0.1 - - [26/Jul/2023 17:27:51] \"POST /socket.io/?EIO=4&transport=polling&t=OcKlgo8&sid=MbUzfQMj9PtQDobiAABC HTTP/1.1\" 200 -\n"
     ]
    },
    {
     "name": "stdout",
     "output_type": "stream",
     "text": [
      "{'selectedCardIndices': [1, 2, 3]}\n"
     ]
    },
    {
     "name": "stderr",
     "output_type": "stream",
     "text": [
      "127.0.0.1 - - [26/Jul/2023 17:27:51] \"POST /socket.io/?EIO=4&transport=polling&t=OcKlguv&sid=MbUzfQMj9PtQDobiAABC HTTP/1.1\" 200 -\n"
     ]
    },
    {
     "name": "stdout",
     "output_type": "stream",
     "text": [
      "{'selectedCardIndices': [1, 2, 3, 0]}\n"
     ]
    },
    {
     "name": "stderr",
     "output_type": "stream",
     "text": [
      "127.0.0.1 - - [26/Jul/2023 17:27:52] \"POST /socket.io/?EIO=4&transport=polling&t=OcKlg-6&sid=MbUzfQMj9PtQDobiAABC HTTP/1.1\" 200 -\n"
     ]
    },
    {
     "name": "stdout",
     "output_type": "stream",
     "text": [
      "{'selectedCardIndices': [2, 3, 0]}\n"
     ]
    },
    {
     "name": "stderr",
     "output_type": "stream",
     "text": [
      "127.0.0.1 - - [26/Jul/2023 17:27:52] \"POST /socket.io/?EIO=4&transport=polling&t=OcKlh3K&sid=MbUzfQMj9PtQDobiAABC HTTP/1.1\" 200 -\n"
     ]
    },
    {
     "name": "stdout",
     "output_type": "stream",
     "text": [
      "{'selectedCardIndices': [3, 0]}\n"
     ]
    },
    {
     "name": "stderr",
     "output_type": "stream",
     "text": [
      "127.0.0.1 - - [26/Jul/2023 17:27:52] \"POST /socket.io/?EIO=4&transport=polling&t=OcKlh92&sid=MbUzfQMj9PtQDobiAABC HTTP/1.1\" 200 -\n"
     ]
    },
    {
     "name": "stdout",
     "output_type": "stream",
     "text": [
      "{'selectedCardIndices': [0]}\n"
     ]
    },
    {
     "name": "stderr",
     "output_type": "stream",
     "text": [
      "127.0.0.1 - - [26/Jul/2023 17:27:53] \"POST /socket.io/?EIO=4&transport=polling&t=OcKlhLI&sid=MbUzfQMj9PtQDobiAABC HTTP/1.1\" 200 -\n"
     ]
    },
    {
     "name": "stdout",
     "output_type": "stream",
     "text": [
      "{'selectedCardIndices': [1]}\n"
     ]
    },
    {
     "name": "stderr",
     "output_type": "stream",
     "text": [
      "127.0.0.1 - - [26/Jul/2023 17:27:54] \"POST /socket.io/?EIO=4&transport=polling&t=OcKlhSs&sid=MbUzfQMj9PtQDobiAABC HTTP/1.1\" 200 -\n"
     ]
    },
    {
     "name": "stdout",
     "output_type": "stream",
     "text": [
      "{'selectedCardIndices': [1, 2]}\n"
     ]
    },
    {
     "name": "stderr",
     "output_type": "stream",
     "text": [
      "127.0.0.1 - - [26/Jul/2023 17:27:54] \"POST /socket.io/?EIO=4&transport=polling&t=OcKlhZ6&sid=MbUzfQMj9PtQDobiAABC HTTP/1.1\" 200 -\n"
     ]
    },
    {
     "name": "stdout",
     "output_type": "stream",
     "text": [
      "{'selectedCardIndices': [1, 2, 0]}\n"
     ]
    },
    {
     "name": "stderr",
     "output_type": "stream",
     "text": [
      "127.0.0.1 - - [26/Jul/2023 17:27:54] \"POST /socket.io/?EIO=4&transport=polling&t=OcKlhfM&sid=MbUzfQMj9PtQDobiAABC HTTP/1.1\" 200 -\n"
     ]
    },
    {
     "name": "stdout",
     "output_type": "stream",
     "text": [
      "{'selectedCardIndices': [2, 0]}\n"
     ]
    },
    {
     "name": "stderr",
     "output_type": "stream",
     "text": [
      "127.0.0.1 - - [26/Jul/2023 17:27:55] \"POST /socket.io/?EIO=4&transport=polling&t=OcKlhkq&sid=MbUzfQMj9PtQDobiAABC HTTP/1.1\" 200 -\n"
     ]
    },
    {
     "name": "stdout",
     "output_type": "stream",
     "text": [
      "{'selectedCardIndices': [0]}\n"
     ]
    },
    {
     "name": "stderr",
     "output_type": "stream",
     "text": [
      "127.0.0.1 - - [26/Jul/2023 17:27:55] \"POST /socket.io/?EIO=4&transport=polling&t=OcKlhqp&sid=MbUzfQMj9PtQDobiAABC HTTP/1.1\" 200 -\n"
     ]
    },
    {
     "name": "stdout",
     "output_type": "stream",
     "text": [
      "{'selectedCardIndices': [0, 3]}\n"
     ]
    },
    {
     "name": "stderr",
     "output_type": "stream",
     "text": [
      "127.0.0.1 - - [26/Jul/2023 17:27:56] \"POST /socket.io/?EIO=4&transport=polling&t=OcKlhyu&sid=MbUzfQMj9PtQDobiAABC HTTP/1.1\" 200 -\n"
     ]
    },
    {
     "name": "stdout",
     "output_type": "stream",
     "text": [
      "{'selectedCardIndices': [3]}\n"
     ]
    },
    {
     "name": "stderr",
     "output_type": "stream",
     "text": [
      "127.0.0.1 - - [26/Jul/2023 17:27:56] \"POST /socket.io/?EIO=4&transport=polling&t=OcKli2M&sid=MbUzfQMj9PtQDobiAABC HTTP/1.1\" 200 -\n"
     ]
    },
    {
     "name": "stdout",
     "output_type": "stream",
     "text": [
      "{'selectedCardIndices': [3, 1]}\n"
     ]
    },
    {
     "name": "stderr",
     "output_type": "stream",
     "text": [
      "127.0.0.1 - - [26/Jul/2023 17:27:56] \"POST /socket.io/?EIO=4&transport=polling&t=OcKli6n&sid=MbUzfQMj9PtQDobiAABC HTTP/1.1\" 200 -\n"
     ]
    },
    {
     "name": "stdout",
     "output_type": "stream",
     "text": [
      "{'selectedCardIndices': [3, 1, 0]}\n"
     ]
    },
    {
     "name": "stderr",
     "output_type": "stream",
     "text": [
      "127.0.0.1 - - [26/Jul/2023 17:27:57] \"GET /socket.io/?EIO=4&transport=polling&t=OcKlc4o&sid=B7OY6t_iuPUdkzkdAAAA HTTP/1.1\" 200 -\n",
      "127.0.0.1 - - [26/Jul/2023 17:27:57] \"POST /socket.io/?EIO=4&transport=polling&t=OcKliBV&sid=B7OY6t_iuPUdkzkdAAAA HTTP/1.1\" 200 -\n",
      "127.0.0.1 - - [26/Jul/2023 17:27:57] \"POST /socket.io/?EIO=4&transport=polling&t=OcKliEL&sid=MbUzfQMj9PtQDobiAABC HTTP/1.1\" 200 -\n"
     ]
    },
    {
     "name": "stdout",
     "output_type": "stream",
     "text": [
      "{'selectedCardIndices': [3, 1, 0, 2]}\n"
     ]
    },
    {
     "name": "stderr",
     "output_type": "stream",
     "text": [
      "127.0.0.1 - - [26/Jul/2023 17:27:57] \"POST /socket.io/?EIO=4&transport=polling&t=OcKliL7&sid=MbUzfQMj9PtQDobiAABC HTTP/1.1\" 200 -\n"
     ]
    },
    {
     "name": "stdout",
     "output_type": "stream",
     "text": [
      "{'selectedCardIndices': [1, 0, 2]}\n"
     ]
    },
    {
     "name": "stderr",
     "output_type": "stream",
     "text": [
      "127.0.0.1 - - [26/Jul/2023 17:27:58] \"POST /socket.io/?EIO=4&transport=polling&t=OcKliRN&sid=MbUzfQMj9PtQDobiAABC HTTP/1.1\" 200 -\n"
     ]
    },
    {
     "name": "stdout",
     "output_type": "stream",
     "text": [
      "{'selectedCardIndices': [0, 2]}\n"
     ]
    },
    {
     "name": "stderr",
     "output_type": "stream",
     "text": [
      "127.0.0.1 - - [26/Jul/2023 17:27:58] \"POST /socket.io/?EIO=4&transport=polling&t=OcKliYg&sid=MbUzfQMj9PtQDobiAABC HTTP/1.1\" 200 -\n"
     ]
    },
    {
     "name": "stdout",
     "output_type": "stream",
     "text": [
      "{'selectedCardIndices': [2]}\n"
     ]
    },
    {
     "name": "stderr",
     "output_type": "stream",
     "text": [
      "127.0.0.1 - - [26/Jul/2023 17:27:59] \"POST /socket.io/?EIO=4&transport=polling&t=OcKlikO&sid=MbUzfQMj9PtQDobiAABC HTTP/1.1\" 200 -\n"
     ]
    },
    {
     "name": "stdout",
     "output_type": "stream",
     "text": [
      "{'selectedCardIndices': [1]}\n"
     ]
    },
    {
     "name": "stderr",
     "output_type": "stream",
     "text": [
      "127.0.0.1 - - [26/Jul/2023 17:27:59] \"POST /socket.io/?EIO=4&transport=polling&t=OcKlirx&sid=MbUzfQMj9PtQDobiAABC HTTP/1.1\" 200 -\n"
     ]
    },
    {
     "name": "stdout",
     "output_type": "stream",
     "text": [
      "{'selectedCardIndices': [1, 3]}\n"
     ]
    },
    {
     "name": "stderr",
     "output_type": "stream",
     "text": [
      "127.0.0.1 - - [26/Jul/2023 17:28:00] \"POST /socket.io/?EIO=4&transport=polling&t=OcKlj0t&sid=MbUzfQMj9PtQDobiAABC HTTP/1.1\" 200 -\n"
     ]
    },
    {
     "name": "stdout",
     "output_type": "stream",
     "text": [
      "{'selectedCardIndices': [3]}\n"
     ]
    },
    {
     "name": "stderr",
     "output_type": "stream",
     "text": [
      "127.0.0.1 - - [26/Jul/2023 17:28:01] \"POST /socket.io/?EIO=4&transport=polling&t=OcKljHp&sid=MbUzfQMj9PtQDobiAABC HTTP/1.1\" 200 -\n"
     ]
    },
    {
     "name": "stdout",
     "output_type": "stream",
     "text": [
      "{'selectedCardIndices': [0]}\n"
     ]
    },
    {
     "name": "stderr",
     "output_type": "stream",
     "text": [
      "127.0.0.1 - - [26/Jul/2023 17:28:01] \"POST /socket.io/?EIO=4&transport=polling&t=OcKljP5&sid=MbUzfQMj9PtQDobiAABC HTTP/1.1\" 200 -\n"
     ]
    },
    {
     "name": "stdout",
     "output_type": "stream",
     "text": [
      "{'selectedCardIndices': [0, 1]}\n"
     ]
    },
    {
     "name": "stderr",
     "output_type": "stream",
     "text": [
      "127.0.0.1 - - [26/Jul/2023 17:28:02] \"POST /socket.io/?EIO=4&transport=polling&t=OcKljUJ&sid=MbUzfQMj9PtQDobiAABC HTTP/1.1\" 200 -\n"
     ]
    },
    {
     "name": "stdout",
     "output_type": "stream",
     "text": [
      "{'selectedCardIndices': [1]}\n"
     ]
    },
    {
     "name": "stderr",
     "output_type": "stream",
     "text": [
      "127.0.0.1 - - [26/Jul/2023 17:28:02] \"POST /socket.io/?EIO=4&transport=polling&t=OcKljc7&sid=MbUzfQMj9PtQDobiAABC HTTP/1.1\" 200 -\n"
     ]
    },
    {
     "name": "stdout",
     "output_type": "stream",
     "text": [
      "{'selectedCardIndices': [1, 0]}\n"
     ]
    },
    {
     "name": "stderr",
     "output_type": "stream",
     "text": [
      "127.0.0.1 - - [26/Jul/2023 17:28:03] \"POST /socket.io/?EIO=4&transport=polling&t=OcKljmX&sid=MbUzfQMj9PtQDobiAABC HTTP/1.1\" 200 -\n"
     ]
    },
    {
     "name": "stdout",
     "output_type": "stream",
     "text": [
      "{'selectedCardIndices': [1, 0, 2]}\n"
     ]
    },
    {
     "name": "stderr",
     "output_type": "stream",
     "text": [
      "127.0.0.1 - - [26/Jul/2023 17:28:04] \"POST /socket.io/?EIO=4&transport=polling&t=OcKljv7&sid=MbUzfQMj9PtQDobiAABC HTTP/1.1\" 200 -\n"
     ]
    },
    {
     "name": "stdout",
     "output_type": "stream",
     "text": [
      "{'selectedCardIndices': [1, 2]}\n"
     ]
    },
    {
     "name": "stderr",
     "output_type": "stream",
     "text": [
      "127.0.0.1 - - [26/Jul/2023 17:28:04] \"POST /socket.io/?EIO=4&transport=polling&t=OcKljzp&sid=MbUzfQMj9PtQDobiAABC HTTP/1.1\" 200 -\n"
     ]
    },
    {
     "name": "stdout",
     "output_type": "stream",
     "text": [
      "{'selectedCardIndices': [2]}\n"
     ]
    },
    {
     "name": "stderr",
     "output_type": "stream",
     "text": [
      "127.0.0.1 - - [26/Jul/2023 17:28:04] \"POST /socket.io/?EIO=4&transport=polling&t=OcKlk68&sid=MbUzfQMj9PtQDobiAABC HTTP/1.1\" 200 -\n"
     ]
    },
    {
     "name": "stdout",
     "output_type": "stream",
     "text": [
      "{'selectedCardIndices': [2, 0]}\n"
     ]
    },
    {
     "name": "stderr",
     "output_type": "stream",
     "text": [
      "127.0.0.1 - - [26/Jul/2023 17:28:05] \"POST /socket.io/?EIO=4&transport=polling&t=OcKlkB5&sid=MbUzfQMj9PtQDobiAABC HTTP/1.1\" 200 -\n"
     ]
    },
    {
     "name": "stdout",
     "output_type": "stream",
     "text": [
      "{'selectedCardIndices': [2, 0, 1]}\n"
     ]
    },
    {
     "name": "stderr",
     "output_type": "stream",
     "text": [
      "127.0.0.1 - - [26/Jul/2023 17:28:05] \"POST /socket.io/?EIO=4&transport=polling&t=OcKlkGq&sid=MbUzfQMj9PtQDobiAABC HTTP/1.1\" 200 -\n"
     ]
    },
    {
     "name": "stdout",
     "output_type": "stream",
     "text": [
      "{'selectedCardIndices': [2, 1]}\n"
     ]
    },
    {
     "name": "stderr",
     "output_type": "stream",
     "text": [
      "127.0.0.1 - - [26/Jul/2023 17:28:06] \"GET /socket.io/?EIO=4&transport=polling&t=OcKlgOX&sid=MbUzfQMj9PtQDobiAABC HTTP/1.1\" 200 -\n",
      "127.0.0.1 - - [26/Jul/2023 17:28:06] \"POST /socket.io/?EIO=4&transport=polling&t=OcKlkS-&sid=MbUzfQMj9PtQDobiAABC HTTP/1.1\" 200 -\n",
      "127.0.0.1 - - [26/Jul/2023 17:28:06] \"POST /socket.io/?EIO=4&transport=polling&t=OcKlkU6&sid=MbUzfQMj9PtQDobiAABC HTTP/1.1\" 200 -\n"
     ]
    },
    {
     "name": "stdout",
     "output_type": "stream",
     "text": [
      "{'selectedCardIndices': [2, 1, 0]}\n"
     ]
    },
    {
     "name": "stderr",
     "output_type": "stream",
     "text": [
      "127.0.0.1 - - [26/Jul/2023 17:28:06] \"POST /socket.io/?EIO=4&transport=polling&t=OcKlkZ3&sid=MbUzfQMj9PtQDobiAABC HTTP/1.1\" 200 -\n"
     ]
    },
    {
     "name": "stdout",
     "output_type": "stream",
     "text": [
      "{'selectedCardIndices': [2, 0]}\n"
     ]
    },
    {
     "name": "stderr",
     "output_type": "stream",
     "text": [
      "127.0.0.1 - - [26/Jul/2023 17:28:07] \"POST /socket.io/?EIO=4&transport=polling&t=OcKlkjk&sid=MbUzfQMj9PtQDobiAABC HTTP/1.1\" 200 -\n"
     ]
    },
    {
     "name": "stdout",
     "output_type": "stream",
     "text": [
      "{'selectedCardIndices': [2]}\n"
     ]
    },
    {
     "name": "stderr",
     "output_type": "stream",
     "text": [
      "127.0.0.1 - - [26/Jul/2023 17:28:08] \"POST /socket.io/?EIO=4&transport=polling&t=OcKlktu&sid=MbUzfQMj9PtQDobiAABC HTTP/1.1\" 200 -\n"
     ]
    },
    {
     "name": "stdout",
     "output_type": "stream",
     "text": [
      "{'selectedCardIndices': [3]}\n"
     ]
    },
    {
     "name": "stderr",
     "output_type": "stream",
     "text": [
      "127.0.0.1 - - [26/Jul/2023 17:28:08] \"POST /socket.io/?EIO=4&transport=polling&t=OcKlk-x&sid=MbUzfQMj9PtQDobiAABC HTTP/1.1\" 200 -\n"
     ]
    },
    {
     "name": "stdout",
     "output_type": "stream",
     "text": [
      "{'selectedCardIndices': [3, 0]}\n"
     ]
    },
    {
     "name": "stderr",
     "output_type": "stream",
     "text": [
      "127.0.0.1 - - [26/Jul/2023 17:28:08] \"POST /socket.io/?EIO=4&transport=polling&t=OcKll4f&sid=MbUzfQMj9PtQDobiAABC HTTP/1.1\" 200 -\n"
     ]
    },
    {
     "name": "stdout",
     "output_type": "stream",
     "text": [
      "{'selectedCardIndices': [3, 0, 1]}\n"
     ]
    },
    {
     "name": "stderr",
     "output_type": "stream",
     "text": [
      "127.0.0.1 - - [26/Jul/2023 17:28:09] \"POST /socket.io/?EIO=4&transport=polling&t=OcKll9s&sid=MbUzfQMj9PtQDobiAABC HTTP/1.1\" 200 -\n"
     ]
    },
    {
     "name": "stdout",
     "output_type": "stream",
     "text": [
      "{'selectedCardIndices': [3, 1]}\n"
     ]
    },
    {
     "name": "stderr",
     "output_type": "stream",
     "text": [
      "127.0.0.1 - - [26/Jul/2023 17:28:09] \"POST /socket.io/?EIO=4&transport=polling&t=OcKllKY&sid=MbUzfQMj9PtQDobiAABC HTTP/1.1\" 200 -\n"
     ]
    },
    {
     "name": "stdout",
     "output_type": "stream",
     "text": [
      "{'selectedCardIndices': [3, 1, 0]}\n"
     ]
    },
    {
     "name": "stderr",
     "output_type": "stream",
     "text": [
      "127.0.0.1 - - [26/Jul/2023 17:28:10] \"POST /socket.io/?EIO=4&transport=polling&t=OcKllOz&sid=MbUzfQMj9PtQDobiAABC HTTP/1.1\" 200 -\n"
     ]
    },
    {
     "name": "stdout",
     "output_type": "stream",
     "text": [
      "{'selectedCardIndices': [3, 1]}\n"
     ]
    },
    {
     "name": "stderr",
     "output_type": "stream",
     "text": [
      "127.0.0.1 - - [26/Jul/2023 17:28:10] \"POST /socket.io/?EIO=4&transport=polling&t=OcKllVE&sid=MbUzfQMj9PtQDobiAABC HTTP/1.1\" 200 -\n"
     ]
    },
    {
     "name": "stdout",
     "output_type": "stream",
     "text": [
      "{'selectedCardIndices': [3]}\n"
     ]
    },
    {
     "name": "stderr",
     "output_type": "stream",
     "text": [
      "127.0.0.1 - - [26/Jul/2023 17:28:10] \"POST /socket.io/?EIO=4&transport=polling&t=OcKllZw&sid=MbUzfQMj9PtQDobiAABC HTTP/1.1\" 200 -\n",
      "127.0.0.1 - - [26/Jul/2023 17:28:10] \"GET /socket.io/?EIO=4&transport=polling&t=OcKlkS_&sid=MbUzfQMj9PtQDobiAABC HTTP/1.1\" 200 -\n"
     ]
    },
    {
     "name": "stdout",
     "output_type": "stream",
     "text": [
      "{'selectedCardIndices': [3, 2]}\n",
      "WIN\n"
     ]
    },
    {
     "name": "stderr",
     "output_type": "stream",
     "text": [
      "127.0.0.1 - - [26/Jul/2023 17:28:22] \"GET /socket.io/?EIO=4&transport=polling&t=OcKliBW&sid=B7OY6t_iuPUdkzkdAAAA HTTP/1.1\" 200 -\n",
      "127.0.0.1 - - [26/Jul/2023 17:28:22] \"POST /socket.io/?EIO=4&transport=polling&t=OcKloIF&sid=B7OY6t_iuPUdkzkdAAAA HTTP/1.1\" 200 -\n",
      "127.0.0.1 - - [26/Jul/2023 17:28:31] \"GET /socket.io/?EIO=4&transport=polling&t=OcKlla2&sid=MbUzfQMj9PtQDobiAABC HTTP/1.1\" 200 -\n",
      "127.0.0.1 - - [26/Jul/2023 17:28:31] \"POST /socket.io/?EIO=4&transport=polling&t=OcKlqZj&sid=MbUzfQMj9PtQDobiAABC HTTP/1.1\" 200 -\n",
      "127.0.0.1 - - [26/Jul/2023 17:28:42] \"POST /socket.io/?EIO=4&transport=polling&t=OcKltFp&sid=MbUzfQMj9PtQDobiAABC HTTP/1.1\" 200 -\n",
      "127.0.0.1 - - [26/Jul/2023 17:28:42] \"GET /socket.io/?EIO=4&transport=polling&t=OcKlqZk&sid=MbUzfQMj9PtQDobiAABC HTTP/1.1\" 200 -\n",
      "127.0.0.1 - - [26/Jul/2023 17:28:42] \"GET /socket.io/?EIO=4&transport=polling&t=OcKltGa HTTP/1.1\" 200 -\n",
      "127.0.0.1 - - [26/Jul/2023 17:28:42] \"POST /socket.io/?EIO=4&transport=polling&t=OcKltGl&sid=oqgeTTkNVa3GxtlvAABE HTTP/1.1\" 200 -\n",
      "127.0.0.1 - - [26/Jul/2023 17:28:42] \"GET /socket.io/?EIO=4&transport=polling&t=OcKltGm&sid=oqgeTTkNVa3GxtlvAABE HTTP/1.1\" 200 -\n",
      "127.0.0.1 - - [26/Jul/2023 17:28:42] \"POST /socket.io/?EIO=4&transport=polling&t=OcKltOr&sid=oqgeTTkNVa3GxtlvAABE HTTP/1.1\" 200 -\n"
     ]
    },
    {
     "name": "stdout",
     "output_type": "stream",
     "text": [
      "{'selectedCardIndices': [0]}\n"
     ]
    },
    {
     "name": "stderr",
     "output_type": "stream",
     "text": [
      "127.0.0.1 - - [26/Jul/2023 17:28:43] \"POST /socket.io/?EIO=4&transport=polling&t=OcKltUI&sid=oqgeTTkNVa3GxtlvAABE HTTP/1.1\" 200 -\n"
     ]
    },
    {
     "name": "stdout",
     "output_type": "stream",
     "text": [
      "{'selectedCardIndices': [0, 1]}\n"
     ]
    },
    {
     "name": "stderr",
     "output_type": "stream",
     "text": [
      "127.0.0.1 - - [26/Jul/2023 17:28:43] \"POST /socket.io/?EIO=4&transport=polling&t=OcKltaY&sid=oqgeTTkNVa3GxtlvAABE HTTP/1.1\" 200 -\n"
     ]
    },
    {
     "name": "stdout",
     "output_type": "stream",
     "text": [
      "{'selectedCardIndices': [0, 1, 2]}\n"
     ]
    },
    {
     "name": "stderr",
     "output_type": "stream",
     "text": [
      "127.0.0.1 - - [26/Jul/2023 17:28:44] \"POST /socket.io/?EIO=4&transport=polling&t=OcKlthq&sid=oqgeTTkNVa3GxtlvAABE HTTP/1.1\" 200 -\n"
     ]
    },
    {
     "name": "stdout",
     "output_type": "stream",
     "text": [
      "{'selectedCardIndices': [0, 1, 2, 3]}\n"
     ]
    },
    {
     "name": "stderr",
     "output_type": "stream",
     "text": [
      "127.0.0.1 - - [26/Jul/2023 17:28:44] \"POST /socket.io/?EIO=4&transport=polling&t=OcKltqA&sid=oqgeTTkNVa3GxtlvAABE HTTP/1.1\" 200 -\n"
     ]
    },
    {
     "name": "stdout",
     "output_type": "stream",
     "text": [
      "{'selectedCardIndices': [0, 2, 3]}\n"
     ]
    },
    {
     "name": "stderr",
     "output_type": "stream",
     "text": [
      "127.0.0.1 - - [26/Jul/2023 17:28:45] \"POST /socket.io/?EIO=4&transport=polling&t=OcKltwh&sid=oqgeTTkNVa3GxtlvAABE HTTP/1.1\" 200 -\n"
     ]
    },
    {
     "name": "stdout",
     "output_type": "stream",
     "text": [
      "{'selectedCardIndices': [0, 3]}\n"
     ]
    },
    {
     "name": "stderr",
     "output_type": "stream",
     "text": [
      "127.0.0.1 - - [26/Jul/2023 17:28:45] \"POST /socket.io/?EIO=4&transport=polling&t=OcKlu0g&sid=oqgeTTkNVa3GxtlvAABE HTTP/1.1\" 200 -\n"
     ]
    },
    {
     "name": "stdout",
     "output_type": "stream",
     "text": [
      "{'selectedCardIndices': [0]}\n"
     ]
    },
    {
     "name": "stderr",
     "output_type": "stream",
     "text": [
      "127.0.0.1 - - [26/Jul/2023 17:28:46] \"POST /socket.io/?EIO=4&transport=polling&t=OcKluGY&sid=oqgeTTkNVa3GxtlvAABE HTTP/1.1\" 200 -\n"
     ]
    },
    {
     "name": "stdout",
     "output_type": "stream",
     "text": [
      "{'selectedCardIndices': [0]}\n"
     ]
    },
    {
     "name": "stderr",
     "output_type": "stream",
     "text": [
      "127.0.0.1 - - [26/Jul/2023 17:28:47] \"GET /socket.io/?EIO=4&transport=polling&t=OcKloIG&sid=B7OY6t_iuPUdkzkdAAAA HTTP/1.1\" 200 -\n",
      "127.0.0.1 - - [26/Jul/2023 17:28:47] \"POST /socket.io/?EIO=4&transport=polling&t=OcKluP2&sid=B7OY6t_iuPUdkzkdAAAA HTTP/1.1\" 200 -\n",
      "127.0.0.1 - - [26/Jul/2023 17:28:47] \"POST /socket.io/?EIO=4&transport=polling&t=OcKluau&sid=oqgeTTkNVa3GxtlvAABE HTTP/1.1\" 200 -\n",
      "127.0.0.1 - - [26/Jul/2023 17:28:47] \"GET /socket.io/?EIO=4&transport=polling&t=OcKltHA&sid=oqgeTTkNVa3GxtlvAABE HTTP/1.1\" 200 -\n",
      "127.0.0.1 - - [26/Jul/2023 17:28:47] \"GET /socket.io/?EIO=4&transport=polling&t=OcKlubd HTTP/1.1\" 200 -\n",
      "127.0.0.1 - - [26/Jul/2023 17:28:47] \"POST /socket.io/?EIO=4&transport=polling&t=OcKlubm&sid=Rcmm8GvNwyucPkqhAABG HTTP/1.1\" 200 -\n",
      "127.0.0.1 - - [26/Jul/2023 17:28:47] \"GET /socket.io/?EIO=4&transport=polling&t=OcKlubn&sid=Rcmm8GvNwyucPkqhAABG HTTP/1.1\" 200 -\n",
      "127.0.0.1 - - [26/Jul/2023 17:28:48] \"POST /socket.io/?EIO=4&transport=polling&t=OcKlui-&sid=Rcmm8GvNwyucPkqhAABG HTTP/1.1\" 200 -\n",
      "127.0.0.1 - - [26/Jul/2023 17:28:48] \"GET /socket.io/?EIO=4&transport=polling&t=OcKlubz&sid=Rcmm8GvNwyucPkqhAABG HTTP/1.1\" 200 -\n",
      "127.0.0.1 - - [26/Jul/2023 17:28:48] \"GET /socket.io/?EIO=4&transport=polling&t=OcKluji HTTP/1.1\" 200 -\n",
      "127.0.0.1 - - [26/Jul/2023 17:28:48] \"POST /socket.io/?EIO=4&transport=polling&t=OcKlujr&sid=qqsVXigledld0crsAABI HTTP/1.1\" 200 -\n",
      "127.0.0.1 - - [26/Jul/2023 17:28:48] \"GET /socket.io/?EIO=4&transport=polling&t=OcKlujs&sid=qqsVXigledld0crsAABI HTTP/1.1\" 200 -\n",
      "127.0.0.1 - - [26/Jul/2023 17:28:48] \"POST /socket.io/?EIO=4&transport=polling&t=OcKluqG&sid=qqsVXigledld0crsAABI HTTP/1.1\" 200 -\n",
      "127.0.0.1 - - [26/Jul/2023 17:28:48] \"GET /socket.io/?EIO=4&transport=polling&t=OcKluk1&sid=qqsVXigledld0crsAABI HTTP/1.1\" 200 -\n",
      "127.0.0.1 - - [26/Jul/2023 17:28:48] \"GET /socket.io/?EIO=4&transport=polling&t=OcKlur2 HTTP/1.1\" 200 -\n",
      "127.0.0.1 - - [26/Jul/2023 17:28:48] \"POST /socket.io/?EIO=4&transport=polling&t=OcKlurA&sid=3jB3ytp0kn6SlK3jAABK HTTP/1.1\" 200 -\n",
      "127.0.0.1 - - [26/Jul/2023 17:28:48] \"GET /socket.io/?EIO=4&transport=polling&t=OcKlurB&sid=3jB3ytp0kn6SlK3jAABK HTTP/1.1\" 200 -\n",
      "127.0.0.1 - - [26/Jul/2023 17:28:49] \"POST /socket.io/?EIO=4&transport=polling&t=OcKluxK&sid=3jB3ytp0kn6SlK3jAABK HTTP/1.1\" 200 -\n",
      "127.0.0.1 - - [26/Jul/2023 17:28:49] \"GET /socket.io/?EIO=4&transport=polling&t=OcKlurO&sid=3jB3ytp0kn6SlK3jAABK HTTP/1.1\" 200 -\n",
      "127.0.0.1 - - [26/Jul/2023 17:28:49] \"GET /socket.io/?EIO=4&transport=polling&t=OcKluy1 HTTP/1.1\" 200 -\n",
      "127.0.0.1 - - [26/Jul/2023 17:28:49] \"POST /socket.io/?EIO=4&transport=polling&t=OcKluyA&sid=LkN8-qdCjZB6C33BAABM HTTP/1.1\" 200 -\n",
      "127.0.0.1 - - [26/Jul/2023 17:28:49] \"GET /socket.io/?EIO=4&transport=polling&t=OcKluyB&sid=LkN8-qdCjZB6C33BAABM HTTP/1.1\" 200 -\n",
      "127.0.0.1 - - [26/Jul/2023 17:29:02] \"POST /socket.io/?EIO=4&transport=polling&t=OcKly5_&sid=LkN8-qdCjZB6C33BAABM HTTP/1.1\" 200 -\n",
      "127.0.0.1 - - [26/Jul/2023 17:29:02] \"GET /socket.io/?EIO=4&transport=polling&t=OcKluyM&sid=LkN8-qdCjZB6C33BAABM HTTP/1.1\" 200 -\n",
      "127.0.0.1 - - [26/Jul/2023 17:29:02] \"GET /socket.io/?EIO=4&transport=polling&t=OcKly6o HTTP/1.1\" 200 -\n",
      "127.0.0.1 - - [26/Jul/2023 17:29:02] \"POST /socket.io/?EIO=4&transport=polling&t=OcKly6-&sid=tx7VYkwkNtUbd1YwAABO HTTP/1.1\" 200 -\n",
      "127.0.0.1 - - [26/Jul/2023 17:29:02] \"GET /socket.io/?EIO=4&transport=polling&t=OcKly6-.0&sid=tx7VYkwkNtUbd1YwAABO HTTP/1.1\" 200 -\n",
      "127.0.0.1 - - [26/Jul/2023 17:29:12] \"GET /socket.io/?EIO=4&transport=polling&t=OcKluP3&sid=B7OY6t_iuPUdkzkdAAAA HTTP/1.1\" 200 -\n",
      "127.0.0.1 - - [26/Jul/2023 17:29:12] \"POST /socket.io/?EIO=4&transport=polling&t=OcKl-Vq&sid=B7OY6t_iuPUdkzkdAAAA HTTP/1.1\" 200 -\n",
      "127.0.0.1 - - [26/Jul/2023 17:29:20] \"POST /socket.io/?EIO=4&transport=polling&t=OcKm0Sx&sid=tx7VYkwkNtUbd1YwAABO HTTP/1.1\" 200 -\n",
      "127.0.0.1 - - [26/Jul/2023 17:29:20] \"GET /socket.io/?EIO=4&transport=polling&t=OcKly79&sid=tx7VYkwkNtUbd1YwAABO HTTP/1.1\" 200 -\n",
      "127.0.0.1 - - [26/Jul/2023 17:29:20] \"GET /socket.io/?EIO=4&transport=polling&t=OcKm0Th HTTP/1.1\" 200 -\n",
      "127.0.0.1 - - [26/Jul/2023 17:29:20] \"POST /socket.io/?EIO=4&transport=polling&t=OcKm0Tq&sid=4vOEhOh6KdwgaulvAABQ HTTP/1.1\" 200 -\n",
      "127.0.0.1 - - [26/Jul/2023 17:29:20] \"GET /socket.io/?EIO=4&transport=polling&t=OcKm0Tr&sid=4vOEhOh6KdwgaulvAABQ HTTP/1.1\" 200 -\n",
      "127.0.0.1 - - [26/Jul/2023 17:29:37] \"GET /socket.io/?EIO=4&transport=polling&t=OcKl-Vr&sid=B7OY6t_iuPUdkzkdAAAA HTTP/1.1\" 200 -\n",
      "127.0.0.1 - - [26/Jul/2023 17:29:37] \"POST /socket.io/?EIO=4&transport=polling&t=OcKm4cd&sid=B7OY6t_iuPUdkzkdAAAA HTTP/1.1\" 200 -\n",
      "127.0.0.1 - - [26/Jul/2023 17:29:45] \"GET /socket.io/?EIO=4&transport=polling&t=OcKm0U1&sid=4vOEhOh6KdwgaulvAABQ HTTP/1.1\" 200 -\n",
      "127.0.0.1 - - [26/Jul/2023 17:29:45] \"POST /socket.io/?EIO=4&transport=polling&t=OcKm6aV&sid=4vOEhOh6KdwgaulvAABQ HTTP/1.1\" 200 -\n",
      "127.0.0.1 - - [26/Jul/2023 17:30:02] \"GET /socket.io/?EIO=4&transport=polling&t=OcKm4ce&sid=B7OY6t_iuPUdkzkdAAAA HTTP/1.1\" 200 -\n",
      "127.0.0.1 - - [26/Jul/2023 17:30:02] \"POST /socket.io/?EIO=4&transport=polling&t=OcKmAjS&sid=B7OY6t_iuPUdkzkdAAAA HTTP/1.1\" 200 -\n",
      "127.0.0.1 - - [26/Jul/2023 17:30:10] \"GET /socket.io/?EIO=4&transport=polling&t=OcKm6aW&sid=4vOEhOh6KdwgaulvAABQ HTTP/1.1\" 200 -\n",
      "127.0.0.1 - - [26/Jul/2023 17:30:10] \"POST /socket.io/?EIO=4&transport=polling&t=OcKmChF&sid=4vOEhOh6KdwgaulvAABQ HTTP/1.1\" 200 -\n",
      "127.0.0.1 - - [26/Jul/2023 17:30:27] \"GET /socket.io/?EIO=4&transport=polling&t=OcKmAjT&sid=B7OY6t_iuPUdkzkdAAAA HTTP/1.1\" 200 -\n",
      "127.0.0.1 - - [26/Jul/2023 17:30:27] \"POST /socket.io/?EIO=4&transport=polling&t=OcKmGqD&sid=B7OY6t_iuPUdkzkdAAAA HTTP/1.1\" 200 -\n",
      "127.0.0.1 - - [26/Jul/2023 17:30:35] \"GET /socket.io/?EIO=4&transport=polling&t=OcKmChG&sid=4vOEhOh6KdwgaulvAABQ HTTP/1.1\" 200 -\n",
      "127.0.0.1 - - [26/Jul/2023 17:30:35] \"POST /socket.io/?EIO=4&transport=polling&t=OcKmIo4&sid=4vOEhOh6KdwgaulvAABQ HTTP/1.1\" 200 -\n",
      "127.0.0.1 - - [26/Jul/2023 17:30:52] \"GET /socket.io/?EIO=4&transport=polling&t=OcKmGqE&sid=B7OY6t_iuPUdkzkdAAAA HTTP/1.1\" 200 -\n",
      "127.0.0.1 - - [26/Jul/2023 17:30:52] \"POST /socket.io/?EIO=4&transport=polling&t=OcKmMwp&sid=B7OY6t_iuPUdkzkdAAAA HTTP/1.1\" 200 -\n",
      "127.0.0.1 - - [26/Jul/2023 17:31:00] \"GET /socket.io/?EIO=4&transport=polling&t=OcKmIo4.0&sid=4vOEhOh6KdwgaulvAABQ HTTP/1.1\" 200 -\n",
      "127.0.0.1 - - [26/Jul/2023 17:31:00] \"POST /socket.io/?EIO=4&transport=polling&t=OcKmOuY&sid=4vOEhOh6KdwgaulvAABQ HTTP/1.1\" 200 -\n",
      "127.0.0.1 - - [26/Jul/2023 17:31:17] \"GET /socket.io/?EIO=4&transport=polling&t=OcKmMwq&sid=B7OY6t_iuPUdkzkdAAAA HTTP/1.1\" 200 -\n",
      "127.0.0.1 - - [26/Jul/2023 17:31:17] \"POST /socket.io/?EIO=4&transport=polling&t=OcKmT1S&sid=B7OY6t_iuPUdkzkdAAAA HTTP/1.1\" 200 -\n",
      "127.0.0.1 - - [26/Jul/2023 17:31:25] \"GET /socket.io/?EIO=4&transport=polling&t=OcKmOuY.0&sid=4vOEhOh6KdwgaulvAABQ HTTP/1.1\" 200 -\n",
      "127.0.0.1 - - [26/Jul/2023 17:31:25] \"POST /socket.io/?EIO=4&transport=polling&t=OcKmU_E&sid=4vOEhOh6KdwgaulvAABQ HTTP/1.1\" 200 -\n",
      "127.0.0.1 - - [26/Jul/2023 17:31:42] \"GET /socket.io/?EIO=4&transport=polling&t=OcKmT1T&sid=B7OY6t_iuPUdkzkdAAAA HTTP/1.1\" 200 -\n",
      "127.0.0.1 - - [26/Jul/2023 17:31:42] \"POST /socket.io/?EIO=4&transport=polling&t=OcKmZ88&sid=B7OY6t_iuPUdkzkdAAAA HTTP/1.1\" 200 -\n",
      "127.0.0.1 - - [26/Jul/2023 17:31:50] \"GET /socket.io/?EIO=4&transport=polling&t=OcKmU_E.0&sid=4vOEhOh6KdwgaulvAABQ HTTP/1.1\" 200 -\n",
      "127.0.0.1 - - [26/Jul/2023 17:31:50] \"POST /socket.io/?EIO=4&transport=polling&t=OcKmb61&sid=4vOEhOh6KdwgaulvAABQ HTTP/1.1\" 200 -\n",
      "127.0.0.1 - - [26/Jul/2023 17:32:07] \"GET /socket.io/?EIO=4&transport=polling&t=OcKmZ89&sid=B7OY6t_iuPUdkzkdAAAA HTTP/1.1\" 200 -\n",
      "127.0.0.1 - - [26/Jul/2023 17:32:07] \"POST /socket.io/?EIO=4&transport=polling&t=OcKmfEx&sid=B7OY6t_iuPUdkzkdAAAA HTTP/1.1\" 200 -\n",
      "127.0.0.1 - - [26/Jul/2023 17:32:15] \"GET /socket.io/?EIO=4&transport=polling&t=OcKmb61.0&sid=4vOEhOh6KdwgaulvAABQ HTTP/1.1\" 200 -\n",
      "127.0.0.1 - - [26/Jul/2023 17:32:15] \"POST /socket.io/?EIO=4&transport=polling&t=OcKmhCr&sid=4vOEhOh6KdwgaulvAABQ HTTP/1.1\" 200 -\n",
      "127.0.0.1 - - [26/Jul/2023 17:32:32] \"GET /socket.io/?EIO=4&transport=polling&t=OcKmfEy&sid=B7OY6t_iuPUdkzkdAAAA HTTP/1.1\" 200 -\n",
      "127.0.0.1 - - [26/Jul/2023 17:32:32] \"POST /socket.io/?EIO=4&transport=polling&t=OcKmlLm&sid=B7OY6t_iuPUdkzkdAAAA HTTP/1.1\" 200 -\n",
      "127.0.0.1 - - [26/Jul/2023 17:32:40] \"GET /socket.io/?EIO=4&transport=polling&t=OcKmhCs&sid=4vOEhOh6KdwgaulvAABQ HTTP/1.1\" 200 -\n",
      "127.0.0.1 - - [26/Jul/2023 17:32:40] \"POST /socket.io/?EIO=4&transport=polling&t=OcKmnJg&sid=4vOEhOh6KdwgaulvAABQ HTTP/1.1\" 200 -\n",
      "127.0.0.1 - - [26/Jul/2023 17:32:57] \"GET /socket.io/?EIO=4&transport=polling&t=OcKmlLn&sid=B7OY6t_iuPUdkzkdAAAA HTTP/1.1\" 200 -\n",
      "127.0.0.1 - - [26/Jul/2023 17:32:57] \"POST /socket.io/?EIO=4&transport=polling&t=OcKmrSa&sid=B7OY6t_iuPUdkzkdAAAA HTTP/1.1\" 200 -\n",
      "127.0.0.1 - - [26/Jul/2023 17:33:05] \"GET /socket.io/?EIO=4&transport=polling&t=OcKmnJh&sid=4vOEhOh6KdwgaulvAABQ HTTP/1.1\" 200 -\n",
      "127.0.0.1 - - [26/Jul/2023 17:33:05] \"POST /socket.io/?EIO=4&transport=polling&t=OcKmtQT&sid=4vOEhOh6KdwgaulvAABQ HTTP/1.1\" 200 -\n",
      "127.0.0.1 - - [26/Jul/2023 17:33:22] \"GET /socket.io/?EIO=4&transport=polling&t=OcKmrSb&sid=B7OY6t_iuPUdkzkdAAAA HTTP/1.1\" 200 -\n",
      "127.0.0.1 - - [26/Jul/2023 17:33:22] \"POST /socket.io/?EIO=4&transport=polling&t=OcKmxZK&sid=B7OY6t_iuPUdkzkdAAAA HTTP/1.1\" 200 -\n",
      "127.0.0.1 - - [26/Jul/2023 17:33:30] \"GET /socket.io/?EIO=4&transport=polling&t=OcKmtQU&sid=4vOEhOh6KdwgaulvAABQ HTTP/1.1\" 200 -\n",
      "127.0.0.1 - - [26/Jul/2023 17:33:30] \"POST /socket.io/?EIO=4&transport=polling&t=OcKmzXD&sid=4vOEhOh6KdwgaulvAABQ HTTP/1.1\" 200 -\n",
      "127.0.0.1 - - [26/Jul/2023 17:33:47] \"GET /socket.io/?EIO=4&transport=polling&t=OcKmxZL&sid=B7OY6t_iuPUdkzkdAAAA HTTP/1.1\" 200 -\n",
      "127.0.0.1 - - [26/Jul/2023 17:33:47] \"POST /socket.io/?EIO=4&transport=polling&t=OcKn1g9&sid=B7OY6t_iuPUdkzkdAAAA HTTP/1.1\" 200 -\n",
      "127.0.0.1 - - [26/Jul/2023 17:33:55] \"GET /socket.io/?EIO=4&transport=polling&t=OcKmzXE&sid=4vOEhOh6KdwgaulvAABQ HTTP/1.1\" 200 -\n",
      "127.0.0.1 - - [26/Jul/2023 17:33:55] \"POST /socket.io/?EIO=4&transport=polling&t=OcKn3e1&sid=4vOEhOh6KdwgaulvAABQ HTTP/1.1\" 200 -\n",
      "127.0.0.1 - - [26/Jul/2023 17:34:12] \"GET /socket.io/?EIO=4&transport=polling&t=OcKn1gA&sid=B7OY6t_iuPUdkzkdAAAA HTTP/1.1\" 200 -\n",
      "127.0.0.1 - - [26/Jul/2023 17:34:12] \"POST /socket.io/?EIO=4&transport=polling&t=OcKn7my&sid=B7OY6t_iuPUdkzkdAAAA HTTP/1.1\" 200 -\n",
      "127.0.0.1 - - [26/Jul/2023 17:34:20] \"GET /socket.io/?EIO=4&transport=polling&t=OcKn3e1.0&sid=4vOEhOh6KdwgaulvAABQ HTTP/1.1\" 200 -\n",
      "127.0.0.1 - - [26/Jul/2023 17:34:20] \"POST /socket.io/?EIO=4&transport=polling&t=OcKn9ko&sid=4vOEhOh6KdwgaulvAABQ HTTP/1.1\" 200 -\n",
      "127.0.0.1 - - [26/Jul/2023 17:34:37] \"GET /socket.io/?EIO=4&transport=polling&t=OcKn7mz&sid=B7OY6t_iuPUdkzkdAAAA HTTP/1.1\" 200 -\n",
      "127.0.0.1 - - [26/Jul/2023 17:34:37] \"POST /socket.io/?EIO=4&transport=polling&t=OcKnDti&sid=B7OY6t_iuPUdkzkdAAAA HTTP/1.1\" 200 -\n",
      "127.0.0.1 - - [26/Jul/2023 17:34:45] \"GET /socket.io/?EIO=4&transport=polling&t=OcKn9kp&sid=4vOEhOh6KdwgaulvAABQ HTTP/1.1\" 200 -\n",
      "127.0.0.1 - - [26/Jul/2023 17:34:45] \"POST /socket.io/?EIO=4&transport=polling&t=OcKnFrX&sid=4vOEhOh6KdwgaulvAABQ HTTP/1.1\" 200 -\n",
      "127.0.0.1 - - [26/Jul/2023 17:35:02] \"GET /socket.io/?EIO=4&transport=polling&t=OcKnDtj&sid=B7OY6t_iuPUdkzkdAAAA HTTP/1.1\" 200 -\n",
      "127.0.0.1 - - [26/Jul/2023 17:35:02] \"POST /socket.io/?EIO=4&transport=polling&t=OcKnJ-W&sid=B7OY6t_iuPUdkzkdAAAA HTTP/1.1\" 200 -\n",
      "127.0.0.1 - - [26/Jul/2023 17:35:10] \"GET /socket.io/?EIO=4&transport=polling&t=OcKnFrY&sid=4vOEhOh6KdwgaulvAABQ HTTP/1.1\" 200 -\n",
      "127.0.0.1 - - [26/Jul/2023 17:35:10] \"POST /socket.io/?EIO=4&transport=polling&t=OcKnLyJ&sid=4vOEhOh6KdwgaulvAABQ HTTP/1.1\" 200 -\n",
      "127.0.0.1 - - [26/Jul/2023 17:35:27] \"GET /socket.io/?EIO=4&transport=polling&t=OcKnJ-X&sid=B7OY6t_iuPUdkzkdAAAA HTTP/1.1\" 200 -\n",
      "127.0.0.1 - - [26/Jul/2023 17:35:27] \"POST /socket.io/?EIO=4&transport=polling&t=OcKnQ5K&sid=B7OY6t_iuPUdkzkdAAAA HTTP/1.1\" 200 -\n",
      "127.0.0.1 - - [26/Jul/2023 17:35:35] \"GET /socket.io/?EIO=4&transport=polling&t=OcKnLyL&sid=4vOEhOh6KdwgaulvAABQ HTTP/1.1\" 200 -\n",
      "127.0.0.1 - - [26/Jul/2023 17:35:35] \"POST /socket.io/?EIO=4&transport=polling&t=OcKnS39&sid=4vOEhOh6KdwgaulvAABQ HTTP/1.1\" 200 -\n",
      "127.0.0.1 - - [26/Jul/2023 17:35:52] \"GET /socket.io/?EIO=4&transport=polling&t=OcKnQ5L&sid=B7OY6t_iuPUdkzkdAAAA HTTP/1.1\" 200 -\n",
      "127.0.0.1 - - [26/Jul/2023 17:35:52] \"POST /socket.io/?EIO=4&transport=polling&t=OcKnWCA&sid=B7OY6t_iuPUdkzkdAAAA HTTP/1.1\" 200 -\n",
      "127.0.0.1 - - [26/Jul/2023 17:36:00] \"GET /socket.io/?EIO=4&transport=polling&t=OcKnS39.0&sid=4vOEhOh6KdwgaulvAABQ HTTP/1.1\" 200 -\n",
      "127.0.0.1 - - [26/Jul/2023 17:36:00] \"POST /socket.io/?EIO=4&transport=polling&t=OcKnY9z&sid=4vOEhOh6KdwgaulvAABQ HTTP/1.1\" 200 -\n",
      "127.0.0.1 - - [26/Jul/2023 17:36:17] \"GET /socket.io/?EIO=4&transport=polling&t=OcKnWCB&sid=B7OY6t_iuPUdkzkdAAAA HTTP/1.1\" 200 -\n",
      "127.0.0.1 - - [26/Jul/2023 17:36:17] \"POST /socket.io/?EIO=4&transport=polling&t=OcKncIy&sid=B7OY6t_iuPUdkzkdAAAA HTTP/1.1\" 200 -\n",
      "127.0.0.1 - - [26/Jul/2023 17:36:25] \"GET /socket.io/?EIO=4&transport=polling&t=OcKnY9-&sid=4vOEhOh6KdwgaulvAABQ HTTP/1.1\" 200 -\n",
      "127.0.0.1 - - [26/Jul/2023 17:36:25] \"POST /socket.io/?EIO=4&transport=polling&t=OcKneGm&sid=4vOEhOh6KdwgaulvAABQ HTTP/1.1\" 200 -\n",
      "127.0.0.1 - - [26/Jul/2023 17:36:32] \"POST /socket.io/?EIO=4&transport=polling&t=OcKng1K&sid=4vOEhOh6KdwgaulvAABQ HTTP/1.1\" 200 -\n",
      "127.0.0.1 - - [26/Jul/2023 17:36:32] \"GET /socket.io/?EIO=4&transport=polling&t=OcKneGn&sid=4vOEhOh6KdwgaulvAABQ HTTP/1.1\" 200 -\n",
      "127.0.0.1 - - [26/Jul/2023 17:36:32] \"GET /socket.io/?EIO=4&transport=polling&t=OcKng24 HTTP/1.1\" 200 -\n",
      "127.0.0.1 - - [26/Jul/2023 17:36:32] \"POST /socket.io/?EIO=4&transport=polling&t=OcKng2B&sid=cVYZkw0AX1SPrgsSAABS HTTP/1.1\" 200 -\n",
      "127.0.0.1 - - [26/Jul/2023 17:36:32] \"GET /socket.io/?EIO=4&transport=polling&t=OcKng2B.0&sid=cVYZkw0AX1SPrgsSAABS HTTP/1.1\" 200 -\n",
      "127.0.0.1 - - [26/Jul/2023 17:36:33] \"POST /socket.io/?EIO=4&transport=polling&t=OcKngAQ&sid=cVYZkw0AX1SPrgsSAABS HTTP/1.1\" 200 -\n"
     ]
    },
    {
     "name": "stdout",
     "output_type": "stream",
     "text": [
      "{'selectedCardIndices': [0]}\n"
     ]
    },
    {
     "name": "stderr",
     "output_type": "stream",
     "text": [
      "127.0.0.1 - - [26/Jul/2023 17:36:33] \"POST /socket.io/?EIO=4&transport=polling&t=OcKngGd&sid=cVYZkw0AX1SPrgsSAABS HTTP/1.1\" 200 -\n"
     ]
    },
    {
     "name": "stdout",
     "output_type": "stream",
     "text": [
      "{'selectedCardIndices': [0, 1]}\n"
     ]
    },
    {
     "name": "stderr",
     "output_type": "stream",
     "text": [
      "127.0.0.1 - - [26/Jul/2023 17:36:33] \"POST /socket.io/?EIO=4&transport=polling&t=OcKngNu&sid=cVYZkw0AX1SPrgsSAABS HTTP/1.1\" 200 -\n"
     ]
    },
    {
     "name": "stdout",
     "output_type": "stream",
     "text": [
      "{'selectedCardIndices': [0, 1, 2]}\n"
     ]
    },
    {
     "name": "stderr",
     "output_type": "stream",
     "text": [
      "127.0.0.1 - - [26/Jul/2023 17:36:34] \"POST /socket.io/?EIO=4&transport=polling&t=OcKngcZ&sid=cVYZkw0AX1SPrgsSAABS HTTP/1.1\" 200 -\n",
      "127.0.0.1 - - [26/Jul/2023 17:36:34] \"GET /socket.io/?EIO=4&transport=polling&t=OcKng2P&sid=cVYZkw0AX1SPrgsSAABS HTTP/1.1\" 200 -\n",
      "127.0.0.1 - - [26/Jul/2023 17:36:34] \"GET /socket.io/?EIO=4&transport=polling&t=OcKngdO HTTP/1.1\" 200 -\n",
      "127.0.0.1 - - [26/Jul/2023 17:36:34] \"POST /socket.io/?EIO=4&transport=polling&t=OcKngda&sid=-pGSQq6f2KQXlqONAABU HTTP/1.1\" 200 -\n",
      "127.0.0.1 - - [26/Jul/2023 17:36:34] \"GET /socket.io/?EIO=4&transport=polling&t=OcKngda.0&sid=-pGSQq6f2KQXlqONAABU HTTP/1.1\" 200 -\n",
      "127.0.0.1 - - [26/Jul/2023 17:36:35] \"POST /socket.io/?EIO=4&transport=polling&t=OcKngjJ&sid=-pGSQq6f2KQXlqONAABU HTTP/1.1\" 200 -\n",
      "127.0.0.1 - - [26/Jul/2023 17:36:35] \"GET /socket.io/?EIO=4&transport=polling&t=OcKngdl&sid=-pGSQq6f2KQXlqONAABU HTTP/1.1\" 200 -\n",
      "127.0.0.1 - - [26/Jul/2023 17:36:35] \"GET /socket.io/?EIO=4&transport=polling&t=OcKngk3 HTTP/1.1\" 200 -\n",
      "127.0.0.1 - - [26/Jul/2023 17:36:35] \"POST /socket.io/?EIO=4&transport=polling&t=OcKngkA&sid=IOtocx4y1uZxu9uWAABW HTTP/1.1\" 200 -\n",
      "127.0.0.1 - - [26/Jul/2023 17:36:35] \"GET /socket.io/?EIO=4&transport=polling&t=OcKngkB&sid=IOtocx4y1uZxu9uWAABW HTTP/1.1\" 200 -\n",
      "127.0.0.1 - - [26/Jul/2023 17:36:35] \"POST /socket.io/?EIO=4&transport=polling&t=OcKngrP&sid=IOtocx4y1uZxu9uWAABW HTTP/1.1\" 200 -\n",
      "127.0.0.1 - - [26/Jul/2023 17:36:35] \"GET /socket.io/?EIO=4&transport=polling&t=OcKngkO&sid=IOtocx4y1uZxu9uWAABW HTTP/1.1\" 200 -\n",
      "127.0.0.1 - - [26/Jul/2023 17:36:35] \"GET /socket.io/?EIO=4&transport=polling&t=OcKngs7 HTTP/1.1\" 200 -\n",
      "127.0.0.1 - - [26/Jul/2023 17:36:35] \"POST /socket.io/?EIO=4&transport=polling&t=OcKngsF&sid=IlbA90vULmIN3DfuAABY HTTP/1.1\" 200 -\n",
      "127.0.0.1 - - [26/Jul/2023 17:36:35] \"GET /socket.io/?EIO=4&transport=polling&t=OcKngsG&sid=IlbA90vULmIN3DfuAABY HTTP/1.1\" 200 -\n",
      "127.0.0.1 - - [26/Jul/2023 17:36:36] \"POST /socket.io/?EIO=4&transport=polling&t=OcKngzS&sid=IlbA90vULmIN3DfuAABY HTTP/1.1\" 200 -\n",
      "127.0.0.1 - - [26/Jul/2023 17:36:36] \"GET /socket.io/?EIO=4&transport=polling&t=OcKngsT&sid=IlbA90vULmIN3DfuAABY HTTP/1.1\" 200 -\n",
      "127.0.0.1 - - [26/Jul/2023 17:36:36] \"GET /socket.io/?EIO=4&transport=polling&t=OcKng-5 HTTP/1.1\" 200 -\n",
      "127.0.0.1 - - [26/Jul/2023 17:36:36] \"POST /socket.io/?EIO=4&transport=polling&t=OcKng-F&sid=UwRm-zbBR-BQWVPbAABa HTTP/1.1\" 200 -\n",
      "127.0.0.1 - - [26/Jul/2023 17:36:36] \"GET /socket.io/?EIO=4&transport=polling&t=OcKng-G&sid=UwRm-zbBR-BQWVPbAABa HTTP/1.1\" 200 -\n",
      "127.0.0.1 - - [26/Jul/2023 17:36:36] \"POST /socket.io/?EIO=4&transport=polling&t=OcKnh5o&sid=UwRm-zbBR-BQWVPbAABa HTTP/1.1\" 200 -\n",
      "127.0.0.1 - - [26/Jul/2023 17:36:36] \"GET /socket.io/?EIO=4&transport=polling&t=OcKng-Q&sid=UwRm-zbBR-BQWVPbAABa HTTP/1.1\" 200 -\n",
      "127.0.0.1 - - [26/Jul/2023 17:36:36] \"GET /socket.io/?EIO=4&transport=polling&t=OcKnh6Z HTTP/1.1\" 200 -\n",
      "127.0.0.1 - - [26/Jul/2023 17:36:36] \"POST /socket.io/?EIO=4&transport=polling&t=OcKnh6g&sid=mDjoQ_PXis7ja8RFAABc HTTP/1.1\" 200 -\n",
      "127.0.0.1 - - [26/Jul/2023 17:36:36] \"GET /socket.io/?EIO=4&transport=polling&t=OcKnh6h&sid=mDjoQ_PXis7ja8RFAABc HTTP/1.1\" 200 -\n",
      "127.0.0.1 - - [26/Jul/2023 17:36:42] \"GET /socket.io/?EIO=4&transport=polling&t=OcKncIz&sid=B7OY6t_iuPUdkzkdAAAA HTTP/1.1\" 200 -\n",
      "127.0.0.1 - - [26/Jul/2023 17:36:42] \"POST /socket.io/?EIO=4&transport=polling&t=OcKniPi&sid=B7OY6t_iuPUdkzkdAAAA HTTP/1.1\" 200 -\n",
      "127.0.0.1 - - [26/Jul/2023 17:37:01] \"GET /socket.io/?EIO=4&transport=polling&t=OcKnh6u&sid=mDjoQ_PXis7ja8RFAABc HTTP/1.1\" 200 -\n",
      "127.0.0.1 - - [26/Jul/2023 17:37:01] \"POST /socket.io/?EIO=4&transport=polling&t=OcKnnDL&sid=mDjoQ_PXis7ja8RFAABc HTTP/1.1\" 200 -\n",
      "127.0.0.1 - - [26/Jul/2023 17:37:07] \"GET /socket.io/?EIO=4&transport=polling&t=OcKniPj&sid=B7OY6t_iuPUdkzkdAAAA HTTP/1.1\" 200 -\n",
      "127.0.0.1 - - [26/Jul/2023 17:37:07] \"POST /socket.io/?EIO=4&transport=polling&t=OcKnoWR&sid=B7OY6t_iuPUdkzkdAAAA HTTP/1.1\" 200 -\n",
      "127.0.0.1 - - [26/Jul/2023 17:37:26] \"GET /socket.io/?EIO=4&transport=polling&t=OcKnnDM&sid=mDjoQ_PXis7ja8RFAABc HTTP/1.1\" 200 -\n",
      "127.0.0.1 - - [26/Jul/2023 17:37:26] \"POST /socket.io/?EIO=4&transport=polling&t=OcKntK5&sid=mDjoQ_PXis7ja8RFAABc HTTP/1.1\" 200 -\n",
      "127.0.0.1 - - [26/Jul/2023 17:37:32] \"GET /socket.io/?EIO=4&transport=polling&t=OcKnoWS&sid=B7OY6t_iuPUdkzkdAAAA HTTP/1.1\" 200 -\n",
      "127.0.0.1 - - [26/Jul/2023 17:37:32] \"POST /socket.io/?EIO=4&transport=polling&t=OcKnudE&sid=B7OY6t_iuPUdkzkdAAAA HTTP/1.1\" 200 -\n",
      "127.0.0.1 - - [26/Jul/2023 17:37:51] \"GET /socket.io/?EIO=4&transport=polling&t=OcKntK6&sid=mDjoQ_PXis7ja8RFAABc HTTP/1.1\" 200 -\n",
      "127.0.0.1 - - [26/Jul/2023 17:37:51] \"POST /socket.io/?EIO=4&transport=polling&t=OcKnzQp&sid=mDjoQ_PXis7ja8RFAABc HTTP/1.1\" 200 -\n",
      "127.0.0.1 - - [26/Jul/2023 17:37:57] \"GET /socket.io/?EIO=4&transport=polling&t=OcKnudF&sid=B7OY6t_iuPUdkzkdAAAA HTTP/1.1\" 200 -\n",
      "127.0.0.1 - - [26/Jul/2023 17:37:57] \"POST /socket.io/?EIO=4&transport=polling&t=OcKn-k3&sid=B7OY6t_iuPUdkzkdAAAA HTTP/1.1\" 200 -\n",
      "127.0.0.1 - - [26/Jul/2023 17:38:03] \"POST /socket.io/?EIO=4&transport=polling&t=OcKo0L0&sid=mDjoQ_PXis7ja8RFAABc HTTP/1.1\" 200 -\n",
      "127.0.0.1 - - [26/Jul/2023 17:38:03] \"GET /socket.io/?EIO=4&transport=polling&t=OcKnzQq&sid=mDjoQ_PXis7ja8RFAABc HTTP/1.1\" 200 -\n",
      "127.0.0.1 - - [26/Jul/2023 17:38:03] \"GET /socket.io/?EIO=4&transport=polling&t=OcKo0Lz HTTP/1.1\" 200 -\n",
      "127.0.0.1 - - [26/Jul/2023 17:38:03] \"POST /socket.io/?EIO=4&transport=polling&t=OcKo0M5&sid=vdo9MDuf_9DJyRGWAABe HTTP/1.1\" 200 -\n",
      "127.0.0.1 - - [26/Jul/2023 17:38:03] \"GET /socket.io/?EIO=4&transport=polling&t=OcKo0M6&sid=vdo9MDuf_9DJyRGWAABe HTTP/1.1\" 200 -\n",
      "127.0.0.1 - - [26/Jul/2023 17:38:04] \"POST /socket.io/?EIO=4&transport=polling&t=OcKo0T4&sid=vdo9MDuf_9DJyRGWAABe HTTP/1.1\" 200 -\n"
     ]
    },
    {
     "name": "stdout",
     "output_type": "stream",
     "text": [
      "{'selectedCardIndices': [0]}\n"
     ]
    },
    {
     "name": "stderr",
     "output_type": "stream",
     "text": [
      "127.0.0.1 - - [26/Jul/2023 17:38:05] \"POST /socket.io/?EIO=4&transport=polling&t=OcKo0qS&sid=vdo9MDuf_9DJyRGWAABe HTTP/1.1\" 200 -\n"
     ]
    },
    {
     "name": "stdout",
     "output_type": "stream",
     "text": [
      "{'selectedCardIndices': [0, 1]}\n"
     ]
    },
    {
     "name": "stderr",
     "output_type": "stream",
     "text": [
      "127.0.0.1 - - [26/Jul/2023 17:38:06] \"POST /socket.io/?EIO=4&transport=polling&t=OcKo0_P&sid=vdo9MDuf_9DJyRGWAABe HTTP/1.1\" 200 -\n"
     ]
    },
    {
     "name": "stdout",
     "output_type": "stream",
     "text": [
      "{'selectedCardIndices': [1]}\n"
     ]
    },
    {
     "name": "stderr",
     "output_type": "stream",
     "text": [
      "127.0.0.1 - - [26/Jul/2023 17:38:07] \"POST /socket.io/?EIO=4&transport=polling&t=OcKo1B7&sid=vdo9MDuf_9DJyRGWAABe HTTP/1.1\" 200 -\n"
     ]
    },
    {
     "name": "stdout",
     "output_type": "stream",
     "text": [
      "{'selectedCardIndices': [2]}\n"
     ]
    },
    {
     "name": "stderr",
     "output_type": "stream",
     "text": [
      "127.0.0.1 - - [26/Jul/2023 17:38:07] \"POST /socket.io/?EIO=4&transport=polling&t=OcKo1FY&sid=vdo9MDuf_9DJyRGWAABe HTTP/1.1\" 200 -\n"
     ]
    },
    {
     "name": "stdout",
     "output_type": "stream",
     "text": [
      "{'selectedCardIndices': [2, 1]}\n"
     ]
    },
    {
     "name": "stderr",
     "output_type": "stream",
     "text": [
      "127.0.0.1 - - [26/Jul/2023 17:38:18] \"POST /socket.io/?EIO=4&transport=polling&t=OcKo3vT&sid=vdo9MDuf_9DJyRGWAABe HTTP/1.1\" 200 -\n",
      "127.0.0.1 - - [26/Jul/2023 17:38:18] \"GET /socket.io/?EIO=4&transport=polling&t=OcKo0Mc&sid=vdo9MDuf_9DJyRGWAABe HTTP/1.1\" 200 -\n",
      "127.0.0.1 - - [26/Jul/2023 17:38:18] \"GET /socket.io/?EIO=4&transport=polling&t=OcKo3wN HTTP/1.1\" 200 -\n",
      "127.0.0.1 - - [26/Jul/2023 17:38:18] \"POST /socket.io/?EIO=4&transport=polling&t=OcKo3wX&sid=qBMw1sv90upNhCvVAABg HTTP/1.1\" 200 -\n",
      "127.0.0.1 - - [26/Jul/2023 17:38:18] \"GET /socket.io/?EIO=4&transport=polling&t=OcKo3wX.0&sid=qBMw1sv90upNhCvVAABg HTTP/1.1\" 200 -\n",
      "127.0.0.1 - - [26/Jul/2023 17:38:19] \"POST /socket.io/?EIO=4&transport=polling&t=OcKo43J&sid=qBMw1sv90upNhCvVAABg HTTP/1.1\" 200 -\n"
     ]
    },
    {
     "name": "stdout",
     "output_type": "stream",
     "text": [
      "{'selectedCardIndices': [0]}\n"
     ]
    },
    {
     "name": "stderr",
     "output_type": "stream",
     "text": [
      "127.0.0.1 - - [26/Jul/2023 17:38:19] \"POST /socket.io/?EIO=4&transport=polling&t=OcKo49W&sid=qBMw1sv90upNhCvVAABg HTTP/1.1\" 200 -\n"
     ]
    },
    {
     "name": "stdout",
     "output_type": "stream",
     "text": [
      "{'selectedCardIndices': [0, 1]}\n"
     ]
    },
    {
     "name": "stderr",
     "output_type": "stream",
     "text": [
      "127.0.0.1 - - [26/Jul/2023 17:38:19] \"POST /socket.io/?EIO=4&transport=polling&t=OcKo4GH&sid=qBMw1sv90upNhCvVAABg HTTP/1.1\" 200 -\n"
     ]
    },
    {
     "name": "stdout",
     "output_type": "stream",
     "text": [
      "{'selectedCardIndices': [0, 1, 2]}\n"
     ]
    },
    {
     "name": "stderr",
     "output_type": "stream",
     "text": [
      "127.0.0.1 - - [26/Jul/2023 17:38:20] \"POST /socket.io/?EIO=4&transport=polling&t=OcKo4LV&sid=qBMw1sv90upNhCvVAABg HTTP/1.1\" 200 -\n"
     ]
    },
    {
     "name": "stdout",
     "output_type": "stream",
     "text": [
      "{'selectedCardIndices': [0, 2]}\n"
     ]
    },
    {
     "name": "stderr",
     "output_type": "stream",
     "text": [
      "127.0.0.1 - - [26/Jul/2023 17:38:20] \"POST /socket.io/?EIO=4&transport=polling&t=OcKo4RD&sid=qBMw1sv90upNhCvVAABg HTTP/1.1\" 200 -\n"
     ]
    },
    {
     "name": "stdout",
     "output_type": "stream",
     "text": [
      "{'selectedCardIndices': [0]}\n"
     ]
    },
    {
     "name": "stderr",
     "output_type": "stream",
     "text": [
      "127.0.0.1 - - [26/Jul/2023 17:38:20] \"POST /socket.io/?EIO=4&transport=polling&t=OcKo4WA&sid=qBMw1sv90upNhCvVAABg HTTP/1.1\" 200 -\n"
     ]
    },
    {
     "name": "stdout",
     "output_type": "stream",
     "text": [
      "{'selectedCardIndices': [0, 3]}\n"
     ]
    },
    {
     "name": "stderr",
     "output_type": "stream",
     "text": [
      "127.0.0.1 - - [26/Jul/2023 17:38:21] \"POST /socket.io/?EIO=4&transport=polling&t=OcKo4jS&sid=qBMw1sv90upNhCvVAABg HTTP/1.1\" 200 -\n",
      "127.0.0.1 - - [26/Jul/2023 17:38:21] \"GET /socket.io/?EIO=4&transport=polling&t=OcKo3wu&sid=qBMw1sv90upNhCvVAABg HTTP/1.1\" 200 -\n"
     ]
    },
    {
     "name": "stdout",
     "output_type": "stream",
     "text": [
      "{'selectedCardIndices': [0, 3, 1]}\n",
      "WIN\n"
     ]
    },
    {
     "name": "stderr",
     "output_type": "stream",
     "text": [
      "127.0.0.1 - - [26/Jul/2023 17:38:22] \"GET /socket.io/?EIO=4&transport=polling&t=OcKn-k4&sid=B7OY6t_iuPUdkzkdAAAA HTTP/1.1\" 200 -\n",
      "127.0.0.1 - - [26/Jul/2023 17:38:22] \"POST /socket.io/?EIO=4&transport=polling&t=OcKo4qu&sid=B7OY6t_iuPUdkzkdAAAA HTTP/1.1\" 200 -\n",
      "127.0.0.1 - - [26/Jul/2023 17:38:23] \"POST /socket.io/?EIO=4&transport=polling&t=OcKo5Ad&sid=qBMw1sv90upNhCvVAABg HTTP/1.1\" 200 -\n"
     ]
    },
    {
     "name": "stdout",
     "output_type": "stream",
     "text": [
      "{'selectedCardIndices': [0]}\n"
     ]
    },
    {
     "name": "stderr",
     "output_type": "stream",
     "text": [
      "127.0.0.1 - - [26/Jul/2023 17:38:24] \"POST /socket.io/?EIO=4&transport=polling&t=OcKo5G5&sid=qBMw1sv90upNhCvVAABg HTTP/1.1\" 200 -\n"
     ]
    },
    {
     "name": "stdout",
     "output_type": "stream",
     "text": [
      "{'selectedCardIndices': [0, 1]}\n"
     ]
    },
    {
     "name": "stderr",
     "output_type": "stream",
     "text": [
      "127.0.0.1 - - [26/Jul/2023 17:38:24] \"POST /socket.io/?EIO=4&transport=polling&t=OcKo5KG&sid=qBMw1sv90upNhCvVAABg HTTP/1.1\" 200 -\n"
     ]
    },
    {
     "name": "stdout",
     "output_type": "stream",
     "text": [
      "{'selectedCardIndices': [0, 1, 2]}\n"
     ]
    },
    {
     "name": "stderr",
     "output_type": "stream",
     "text": [
      "127.0.0.1 - - [26/Jul/2023 17:38:24] \"POST /socket.io/?EIO=4&transport=polling&t=OcKo5SK&sid=qBMw1sv90upNhCvVAABg HTTP/1.1\" 200 -\n"
     ]
    },
    {
     "name": "stdout",
     "output_type": "stream",
     "text": [
      "{'selectedCardIndices': [1, 2]}\n"
     ]
    },
    {
     "name": "stderr",
     "output_type": "stream",
     "text": [
      "127.0.0.1 - - [26/Jul/2023 17:38:25] \"POST /socket.io/?EIO=4&transport=polling&t=OcKo5XY&sid=qBMw1sv90upNhCvVAABg HTTP/1.1\" 200 -\n"
     ]
    },
    {
     "name": "stdout",
     "output_type": "stream",
     "text": [
      "{'selectedCardIndices': [2]}\n"
     ]
    },
    {
     "name": "stderr",
     "output_type": "stream",
     "text": [
      "127.0.0.1 - - [26/Jul/2023 17:38:25] \"POST /socket.io/?EIO=4&transport=polling&t=OcKo5iU&sid=qBMw1sv90upNhCvVAABg HTTP/1.1\" 200 -\n"
     ]
    },
    {
     "name": "stdout",
     "output_type": "stream",
     "text": [
      "{'selectedCardIndices': [1]}\n"
     ]
    },
    {
     "name": "stderr",
     "output_type": "stream",
     "text": [
      "127.0.0.1 - - [26/Jul/2023 17:38:26] \"POST /socket.io/?EIO=4&transport=polling&t=OcKo5nR&sid=qBMw1sv90upNhCvVAABg HTTP/1.1\" 200 -\n"
     ]
    },
    {
     "name": "stdout",
     "output_type": "stream",
     "text": [
      "{'selectedCardIndices': [1, 3]}\n"
     ]
    },
    {
     "name": "stderr",
     "output_type": "stream",
     "text": [
      "127.0.0.1 - - [26/Jul/2023 17:38:26] \"POST /socket.io/?EIO=4&transport=polling&t=OcKo5sv&sid=qBMw1sv90upNhCvVAABg HTTP/1.1\" 200 -\n"
     ]
    },
    {
     "name": "stdout",
     "output_type": "stream",
     "text": [
      "{'selectedCardIndices': [1, 3, 2]}\n"
     ]
    },
    {
     "name": "stderr",
     "output_type": "stream",
     "text": [
      "127.0.0.1 - - [26/Jul/2023 17:38:27] \"POST /socket.io/?EIO=4&transport=polling&t=OcKo62t&sid=qBMw1sv90upNhCvVAABg HTTP/1.1\" 200 -\n"
     ]
    },
    {
     "name": "stdout",
     "output_type": "stream",
     "text": [
      "{'selectedCardIndices': [1, 3, 2, 0]}\n"
     ]
    },
    {
     "name": "stderr",
     "output_type": "stream",
     "text": [
      "127.0.0.1 - - [26/Jul/2023 17:38:27] \"POST /socket.io/?EIO=4&transport=polling&t=OcKo69f&sid=qBMw1sv90upNhCvVAABg HTTP/1.1\" 200 -\n"
     ]
    },
    {
     "name": "stdout",
     "output_type": "stream",
     "text": [
      "{'selectedCardIndices': [1, 3, 2]}\n"
     ]
    },
    {
     "name": "stderr",
     "output_type": "stream",
     "text": [
      "127.0.0.1 - - [26/Jul/2023 17:38:28] \"POST /socket.io/?EIO=4&transport=polling&t=OcKo6GA&sid=qBMw1sv90upNhCvVAABg HTTP/1.1\" 200 -\n",
      "127.0.0.1 - - [26/Jul/2023 17:38:28] \"GET /socket.io/?EIO=4&transport=polling&t=OcKo4je&sid=qBMw1sv90upNhCvVAABg HTTP/1.1\" 200 -\n"
     ]
    },
    {
     "name": "stdout",
     "output_type": "stream",
     "text": [
      "{'selectedCardIndices': [3, 2]}\n",
      "WIN\n"
     ]
    },
    {
     "name": "stderr",
     "output_type": "stream",
     "text": [
      "127.0.0.1 - - [26/Jul/2023 17:38:43] \"GET /socket.io/?EIO=4&transport=polling&t=OcKo6GJ&sid=qBMw1sv90upNhCvVAABg HTTP/1.1\" 200 -\n",
      "127.0.0.1 - - [26/Jul/2023 17:38:43] \"POST /socket.io/?EIO=4&transport=polling&t=OcKoA1C&sid=qBMw1sv90upNhCvVAABg HTTP/1.1\" 200 -\n",
      "127.0.0.1 - - [26/Jul/2023 17:38:47] \"GET /socket.io/?EIO=4&transport=polling&t=OcKo4qv&sid=B7OY6t_iuPUdkzkdAAAA HTTP/1.1\" 200 -\n",
      "127.0.0.1 - - [26/Jul/2023 17:38:47] \"POST /socket.io/?EIO=4&transport=polling&t=OcKoAxl&sid=B7OY6t_iuPUdkzkdAAAA HTTP/1.1\" 200 -\n",
      "127.0.0.1 - - [26/Jul/2023 17:39:08] \"GET /socket.io/?EIO=4&transport=polling&t=OcKoA1C.0&sid=qBMw1sv90upNhCvVAABg HTTP/1.1\" 200 -\n",
      "127.0.0.1 - - [26/Jul/2023 17:39:08] \"POST /socket.io/?EIO=4&transport=polling&t=OcKoG7y&sid=qBMw1sv90upNhCvVAABg HTTP/1.1\" 200 -\n",
      "127.0.0.1 - - [26/Jul/2023 17:39:12] \"GET /socket.io/?EIO=4&transport=polling&t=OcKoAxm&sid=B7OY6t_iuPUdkzkdAAAA HTTP/1.1\" 200 -\n",
      "127.0.0.1 - - [26/Jul/2023 17:39:12] \"POST /socket.io/?EIO=4&transport=polling&t=OcKoH2Z&sid=B7OY6t_iuPUdkzkdAAAA HTTP/1.1\" 200 -\n",
      "127.0.0.1 - - [26/Jul/2023 17:39:33] \"GET /socket.io/?EIO=4&transport=polling&t=OcKoG7z&sid=qBMw1sv90upNhCvVAABg HTTP/1.1\" 200 -\n",
      "127.0.0.1 - - [26/Jul/2023 17:39:33] \"POST /socket.io/?EIO=4&transport=polling&t=OcKoMEl&sid=qBMw1sv90upNhCvVAABg HTTP/1.1\" 200 -\n",
      "127.0.0.1 - - [26/Jul/2023 17:39:37] \"GET /socket.io/?EIO=4&transport=polling&t=OcKoH2a&sid=B7OY6t_iuPUdkzkdAAAA HTTP/1.1\" 200 -\n",
      "127.0.0.1 - - [26/Jul/2023 17:39:37] \"POST /socket.io/?EIO=4&transport=polling&t=OcKoN9P&sid=B7OY6t_iuPUdkzkdAAAA HTTP/1.1\" 200 -\n",
      "127.0.0.1 - - [26/Jul/2023 17:39:39] \"POST /socket.io/?EIO=4&transport=polling&t=OcKoNeL&sid=qBMw1sv90upNhCvVAABg HTTP/1.1\" 200 -\n",
      "127.0.0.1 - - [26/Jul/2023 17:39:39] \"GET /socket.io/?EIO=4&transport=polling&t=OcKoMEm&sid=qBMw1sv90upNhCvVAABg HTTP/1.1\" 200 -\n",
      "127.0.0.1 - - [26/Jul/2023 17:39:39] \"GET /socket.io/?EIO=4&transport=polling&t=OcKoNf7 HTTP/1.1\" 200 -\n",
      "127.0.0.1 - - [26/Jul/2023 17:39:39] \"POST /socket.io/?EIO=4&transport=polling&t=OcKoNfH&sid=07B3zZbPzjKnFOcRAABi HTTP/1.1\" 200 -\n",
      "127.0.0.1 - - [26/Jul/2023 17:39:39] \"GET /socket.io/?EIO=4&transport=polling&t=OcKoNfI&sid=07B3zZbPzjKnFOcRAABi HTTP/1.1\" 200 -\n",
      "127.0.0.1 - - [26/Jul/2023 17:39:39] \"POST /socket.io/?EIO=4&transport=polling&t=OcKoNnA&sid=07B3zZbPzjKnFOcRAABi HTTP/1.1\" 200 -\n"
     ]
    },
    {
     "name": "stdout",
     "output_type": "stream",
     "text": [
      "{'selectedCardIndices': [0]}\n"
     ]
    },
    {
     "name": "stderr",
     "output_type": "stream",
     "text": [
      "127.0.0.1 - - [26/Jul/2023 17:39:40] \"POST /socket.io/?EIO=4&transport=polling&t=OcKoNsq&sid=07B3zZbPzjKnFOcRAABi HTTP/1.1\" 200 -\n"
     ]
    },
    {
     "name": "stdout",
     "output_type": "stream",
     "text": [
      "{'selectedCardIndices': [0, 1]}\n"
     ]
    },
    {
     "name": "stderr",
     "output_type": "stream",
     "text": [
      "127.0.0.1 - - [26/Jul/2023 17:39:40] \"POST /socket.io/?EIO=4&transport=polling&t=OcKoNy1&sid=07B3zZbPzjKnFOcRAABi HTTP/1.1\" 200 -\n"
     ]
    },
    {
     "name": "stdout",
     "output_type": "stream",
     "text": [
      "{'selectedCardIndices': [0, 1, 2]}\n"
     ]
    },
    {
     "name": "stderr",
     "output_type": "stream",
     "text": [
      "127.0.0.1 - - [26/Jul/2023 17:39:40] \"POST /socket.io/?EIO=4&transport=polling&t=OcKoO1V&sid=07B3zZbPzjKnFOcRAABi HTTP/1.1\" 200 -\n"
     ]
    },
    {
     "name": "stdout",
     "output_type": "stream",
     "text": [
      "{'selectedCardIndices': [0, 1, 2, 3]}\n"
     ]
    },
    {
     "name": "stderr",
     "output_type": "stream",
     "text": [
      "127.0.0.1 - - [26/Jul/2023 17:39:41] \"POST /socket.io/?EIO=4&transport=polling&t=OcKoO6j&sid=07B3zZbPzjKnFOcRAABi HTTP/1.1\" 200 -\n"
     ]
    },
    {
     "name": "stdout",
     "output_type": "stream",
     "text": [
      "{'selectedCardIndices': [0, 2, 3]}\n"
     ]
    },
    {
     "name": "stderr",
     "output_type": "stream",
     "text": [
      "127.0.0.1 - - [26/Jul/2023 17:39:41] \"POST /socket.io/?EIO=4&transport=polling&t=OcKoOBw&sid=07B3zZbPzjKnFOcRAABi HTTP/1.1\" 200 -\n"
     ]
    },
    {
     "name": "stdout",
     "output_type": "stream",
     "text": [
      "{'selectedCardIndices': [0, 3]}\n"
     ]
    },
    {
     "name": "stderr",
     "output_type": "stream",
     "text": [
      "127.0.0.1 - - [26/Jul/2023 17:39:42] \"POST /socket.io/?EIO=4&transport=polling&t=OcKoOL1&sid=07B3zZbPzjKnFOcRAABi HTTP/1.1\" 200 -\n"
     ]
    },
    {
     "name": "stdout",
     "output_type": "stream",
     "text": [
      "{'selectedCardIndices': [3]}\n"
     ]
    },
    {
     "name": "stderr",
     "output_type": "stream",
     "text": [
      "127.0.0.1 - - [26/Jul/2023 17:39:43] \"POST /socket.io/?EIO=4&transport=polling&t=OcKoOf5&sid=07B3zZbPzjKnFOcRAABi HTTP/1.1\" 200 -\n"
     ]
    },
    {
     "name": "stdout",
     "output_type": "stream",
     "text": [
      "{'selectedCardIndices': [0]}\n"
     ]
    },
    {
     "name": "stderr",
     "output_type": "stream",
     "text": [
      "127.0.0.1 - - [26/Jul/2023 17:39:43] \"POST /socket.io/?EIO=4&transport=polling&t=OcKoOls&sid=07B3zZbPzjKnFOcRAABi HTTP/1.1\" 200 -\n"
     ]
    },
    {
     "name": "stdout",
     "output_type": "stream",
     "text": [
      "{'selectedCardIndices': [0, 1]}\n"
     ]
    },
    {
     "name": "stderr",
     "output_type": "stream",
     "text": [
      "127.0.0.1 - - [26/Jul/2023 17:39:44] \"POST /socket.io/?EIO=4&transport=polling&t=OcKoOqH&sid=07B3zZbPzjKnFOcRAABi HTTP/1.1\" 200 -\n"
     ]
    },
    {
     "name": "stdout",
     "output_type": "stream",
     "text": [
      "{'selectedCardIndices': [1]}\n"
     ]
    },
    {
     "name": "stderr",
     "output_type": "stream",
     "text": [
      "127.0.0.1 - - [26/Jul/2023 17:39:44] \"POST /socket.io/?EIO=4&transport=polling&t=OcKoOyM&sid=07B3zZbPzjKnFOcRAABi HTTP/1.1\" 200 -\n"
     ]
    },
    {
     "name": "stdout",
     "output_type": "stream",
     "text": [
      "{'selectedCardIndices': [1, 0]}\n"
     ]
    },
    {
     "name": "stderr",
     "output_type": "stream",
     "text": [
      "127.0.0.1 - - [26/Jul/2023 17:39:45] \"POST /socket.io/?EIO=4&transport=polling&t=OcKoP3w&sid=07B3zZbPzjKnFOcRAABi HTTP/1.1\" 200 -\n"
     ]
    },
    {
     "name": "stdout",
     "output_type": "stream",
     "text": [
      "{'selectedCardIndices': [1, 0, 2]}\n"
     ]
    },
    {
     "name": "stderr",
     "output_type": "stream",
     "text": [
      "127.0.0.1 - - [26/Jul/2023 17:39:45] \"POST /socket.io/?EIO=4&transport=polling&t=OcKoPBT&sid=07B3zZbPzjKnFOcRAABi HTTP/1.1\" 200 -\n",
      "127.0.0.1 - - [26/Jul/2023 17:39:45] \"GET /socket.io/?EIO=4&transport=polling&t=OcKoNfT&sid=07B3zZbPzjKnFOcRAABi HTTP/1.1\" 200 -\n"
     ]
    },
    {
     "name": "stdout",
     "output_type": "stream",
     "text": [
      "{'selectedCardIndices': [1, 2]}\n",
      "WIN\n"
     ]
    },
    {
     "name": "stderr",
     "output_type": "stream",
     "text": [
      "127.0.0.1 - - [26/Jul/2023 17:39:45] \"POST /socket.io/?EIO=4&transport=polling&t=OcKoPFd&sid=07B3zZbPzjKnFOcRAABi HTTP/1.1\" 200 -\n"
     ]
    },
    {
     "name": "stdout",
     "output_type": "stream",
     "text": [
      "{'selectedCardIndices': [1]}\n"
     ]
    },
    {
     "name": "stderr",
     "output_type": "stream",
     "text": [
      "127.0.0.1 - - [26/Jul/2023 17:40:02] \"GET /socket.io/?EIO=4&transport=polling&t=OcKoN9Q&sid=B7OY6t_iuPUdkzkdAAAA HTTP/1.1\" 200 -\n",
      "127.0.0.1 - - [26/Jul/2023 17:40:02] \"POST /socket.io/?EIO=4&transport=polling&t=OcKoTGD&sid=B7OY6t_iuPUdkzkdAAAA HTTP/1.1\" 200 -\n",
      "127.0.0.1 - - [26/Jul/2023 17:40:04] \"GET /socket.io/?EIO=4&transport=polling&t=OcKoPBd&sid=07B3zZbPzjKnFOcRAABi HTTP/1.1\" 200 -\n",
      "127.0.0.1 - - [26/Jul/2023 17:40:04] \"POST /socket.io/?EIO=4&transport=polling&t=OcKoTlx&sid=07B3zZbPzjKnFOcRAABi HTTP/1.1\" 200 -\n",
      "127.0.0.1 - - [26/Jul/2023 17:40:23] \"POST /socket.io/?EIO=4&transport=polling&t=OcKoYU1&sid=07B3zZbPzjKnFOcRAABi HTTP/1.1\" 200 -\n",
      "127.0.0.1 - - [26/Jul/2023 17:40:23] \"GET /socket.io/?EIO=4&transport=polling&t=OcKoTly&sid=07B3zZbPzjKnFOcRAABi HTTP/1.1\" 200 -\n",
      "127.0.0.1 - - [26/Jul/2023 17:40:23] \"GET /socket.io/?EIO=4&transport=polling&t=OcKoYUy HTTP/1.1\" 200 -\n",
      "127.0.0.1 - - [26/Jul/2023 17:40:23] \"POST /socket.io/?EIO=4&transport=polling&t=OcKoYVK&sid=FUH0yk6QHrVRlqm7AABk HTTP/1.1\" 200 -\n",
      "127.0.0.1 - - [26/Jul/2023 17:40:23] \"GET /socket.io/?EIO=4&transport=polling&t=OcKoYVK.0&sid=FUH0yk6QHrVRlqm7AABk HTTP/1.1\" 200 -\n",
      "127.0.0.1 - - [26/Jul/2023 17:40:24] \"POST /socket.io/?EIO=4&transport=polling&t=OcKoYeO&sid=FUH0yk6QHrVRlqm7AABk HTTP/1.1\" 200 -\n"
     ]
    },
    {
     "name": "stdout",
     "output_type": "stream",
     "text": [
      "{'selectedCardIndices': [0]}\n"
     ]
    },
    {
     "name": "stderr",
     "output_type": "stream",
     "text": [
      "127.0.0.1 - - [26/Jul/2023 17:40:24] \"POST /socket.io/?EIO=4&transport=polling&t=OcKoYlu&sid=FUH0yk6QHrVRlqm7AABk HTTP/1.1\" 200 -\n"
     ]
    },
    {
     "name": "stdout",
     "output_type": "stream",
     "text": [
      "{'selectedCardIndices': [0, 1]}\n"
     ]
    },
    {
     "name": "stderr",
     "output_type": "stream",
     "text": [
      "127.0.0.1 - - [26/Jul/2023 17:40:25] \"POST /socket.io/?EIO=4&transport=polling&t=OcKoYr6&sid=FUH0yk6QHrVRlqm7AABk HTTP/1.1\" 200 -\n"
     ]
    },
    {
     "name": "stdout",
     "output_type": "stream",
     "text": [
      "{'selectedCardIndices': [1]}\n"
     ]
    },
    {
     "name": "stderr",
     "output_type": "stream",
     "text": [
      "127.0.0.1 - - [26/Jul/2023 17:40:25] \"POST /socket.io/?EIO=4&transport=polling&t=OcKoY-C&sid=FUH0yk6QHrVRlqm7AABk HTTP/1.1\" 200 -\n"
     ]
    },
    {
     "name": "stdout",
     "output_type": "stream",
     "text": [
      "{'selectedCardIndices': [2]}\n"
     ]
    },
    {
     "name": "stderr",
     "output_type": "stream",
     "text": [
      "127.0.0.1 - - [26/Jul/2023 17:40:26] \"POST /socket.io/?EIO=4&transport=polling&t=OcKoZ3y&sid=FUH0yk6QHrVRlqm7AABk HTTP/1.1\" 200 -\n",
      "127.0.0.1 - - [26/Jul/2023 17:40:26] \"GET /socket.io/?EIO=4&transport=polling&t=OcKoYVX&sid=FUH0yk6QHrVRlqm7AABk HTTP/1.1\" 200 -\n"
     ]
    },
    {
     "name": "stdout",
     "output_type": "stream",
     "text": [
      "{'selectedCardIndices': [2, 1]}\n",
      "WIN\n"
     ]
    },
    {
     "name": "stderr",
     "output_type": "stream",
     "text": [
      "127.0.0.1 - - [26/Jul/2023 17:40:27] \"GET /socket.io/?EIO=4&transport=polling&t=OcKoTGE&sid=B7OY6t_iuPUdkzkdAAAA HTTP/1.1\" 200 -\n",
      "127.0.0.1 - - [26/Jul/2023 17:40:27] \"POST /socket.io/?EIO=4&transport=polling&t=OcKoZN2&sid=B7OY6t_iuPUdkzkdAAAA HTTP/1.1\" 200 -\n",
      "127.0.0.1 - - [26/Jul/2023 17:40:27] \"POST /socket.io/?EIO=4&transport=polling&t=OcKoZPI&sid=FUH0yk6QHrVRlqm7AABk HTTP/1.1\" 200 -\n"
     ]
    },
    {
     "name": "stdout",
     "output_type": "stream",
     "text": [
      "{'selectedCardIndices': [2]}\n"
     ]
    },
    {
     "name": "stderr",
     "output_type": "stream",
     "text": [
      "127.0.0.1 - - [26/Jul/2023 17:40:27] \"POST /socket.io/?EIO=4&transport=polling&t=OcKoZTT&sid=FUH0yk6QHrVRlqm7AABk HTTP/1.1\" 200 -\n",
      "127.0.0.1 - - [26/Jul/2023 17:40:27] \"GET /socket.io/?EIO=4&transport=polling&t=OcKoZ47&sid=FUH0yk6QHrVRlqm7AABk HTTP/1.1\" 200 -\n"
     ]
    },
    {
     "name": "stdout",
     "output_type": "stream",
     "text": [
      "{'selectedCardIndices': [2, 1]}\n",
      "WIN\n"
     ]
    },
    {
     "name": "stderr",
     "output_type": "stream",
     "text": [
      "127.0.0.1 - - [26/Jul/2023 17:40:28] \"POST /socket.io/?EIO=4&transport=polling&t=OcKoZfj&sid=FUH0yk6QHrVRlqm7AABk HTTP/1.1\" 200 -\n"
     ]
    },
    {
     "name": "stdout",
     "output_type": "stream",
     "text": [
      "{'selectedCardIndices': [2]}\n"
     ]
    },
    {
     "name": "stderr",
     "output_type": "stream",
     "text": [
      "127.0.0.1 - - [26/Jul/2023 17:40:28] \"POST /socket.io/?EIO=4&transport=polling&t=OcKoZmU&sid=FUH0yk6QHrVRlqm7AABk HTTP/1.1\" 200 -\n"
     ]
    },
    {
     "name": "stdout",
     "output_type": "stream",
     "text": [
      "{'selectedCardIndices': [2, 1]}\n"
     ]
    },
    {
     "name": "stderr",
     "output_type": "stream",
     "text": [
      "127.0.0.1 - - [26/Jul/2023 17:40:29] \"POST /socket.io/?EIO=4&transport=polling&t=OcKoZvs&sid=FUH0yk6QHrVRlqm7AABk HTTP/1.1\" 200 -\n"
     ]
    },
    {
     "name": "stdout",
     "output_type": "stream",
     "text": [
      "{'selectedCardIndices': [1]}\n"
     ]
    },
    {
     "name": "stderr",
     "output_type": "stream",
     "text": [
      "127.0.0.1 - - [26/Jul/2023 17:40:30] \"POST /socket.io/?EIO=4&transport=polling&t=OcKoa7P&sid=FUH0yk6QHrVRlqm7AABk HTTP/1.1\" 200 -\n"
     ]
    },
    {
     "name": "stdout",
     "output_type": "stream",
     "text": [
      "{'selectedCardIndices': [0]}\n"
     ]
    },
    {
     "name": "stderr",
     "output_type": "stream",
     "text": [
      "127.0.0.1 - - [26/Jul/2023 17:40:30] \"POST /socket.io/?EIO=4&transport=polling&t=OcKoaDP&sid=FUH0yk6QHrVRlqm7AABk HTTP/1.1\" 200 -\n",
      "127.0.0.1 - - [26/Jul/2023 17:40:30] \"GET /socket.io/?EIO=4&transport=polling&t=OcKoZTe&sid=FUH0yk6QHrVRlqm7AABk HTTP/1.1\" 200 -\n"
     ]
    },
    {
     "name": "stdout",
     "output_type": "stream",
     "text": [
      "{'selectedCardIndices': [0, 1]}\n",
      "WIN\n"
     ]
    },
    {
     "name": "stderr",
     "output_type": "stream",
     "text": [
      "127.0.0.1 - - [26/Jul/2023 17:40:31] \"POST /socket.io/?EIO=4&transport=polling&t=OcKoaIL&sid=FUH0yk6QHrVRlqm7AABk HTTP/1.1\" 200 -\n"
     ]
    },
    {
     "name": "stdout",
     "output_type": "stream",
     "text": [
      "{'selectedCardIndices': [0]}\n"
     ]
    },
    {
     "name": "stderr",
     "output_type": "stream",
     "text": [
      "127.0.0.1 - - [26/Jul/2023 17:40:31] \"GET /socket.io/?EIO=4&transport=polling&t=OcKoaDZ&sid=FUH0yk6QHrVRlqm7AABk HTTP/1.1\" 200 -\n",
      "127.0.0.1 - - [26/Jul/2023 17:40:31] \"POST /socket.io/?EIO=4&transport=polling&t=OcKoaQx&sid=FUH0yk6QHrVRlqm7AABk HTTP/1.1\" 200 -\n"
     ]
    },
    {
     "name": "stdout",
     "output_type": "stream",
     "text": [
      "{'selectedCardIndices': [0, 1]}\n",
      "WIN\n"
     ]
    },
    {
     "name": "stderr",
     "output_type": "stream",
     "text": [
      "127.0.0.1 - - [26/Jul/2023 17:40:32] \"POST /socket.io/?EIO=4&transport=polling&t=OcKoaW8&sid=FUH0yk6QHrVRlqm7AABk HTTP/1.1\" 200 -\n"
     ]
    },
    {
     "name": "stdout",
     "output_type": "stream",
     "text": [
      "{'selectedCardIndices': [0]}\n"
     ]
    },
    {
     "name": "stderr",
     "output_type": "stream",
     "text": [
      "127.0.0.1 - - [26/Jul/2023 17:40:32] \"POST /socket.io/?EIO=4&transport=polling&t=OcKoadi&sid=FUH0yk6QHrVRlqm7AABk HTTP/1.1\" 200 -\n"
     ]
    },
    {
     "name": "stdout",
     "output_type": "stream",
     "text": [
      "{'selectedCardIndices': [0, 1]}\n"
     ]
    },
    {
     "name": "stderr",
     "output_type": "stream",
     "text": [
      "127.0.0.1 - - [26/Jul/2023 17:40:33] \"POST /socket.io/?EIO=4&transport=polling&t=OcKoapQ&sid=FUH0yk6QHrVRlqm7AABk HTTP/1.1\" 200 -\n"
     ]
    },
    {
     "name": "stdout",
     "output_type": "stream",
     "text": [
      "{'selectedCardIndices': [1]}\n"
     ]
    },
    {
     "name": "stderr",
     "output_type": "stream",
     "text": [
      "127.0.0.1 - - [26/Jul/2023 17:40:34] \"POST /socket.io/?EIO=4&transport=polling&t=OcKob4Q&sid=FUH0yk6QHrVRlqm7AABk HTTP/1.1\" 200 -\n",
      "127.0.0.1 - - [26/Jul/2023 17:40:34] \"GET /socket.io/?EIO=4&transport=polling&t=OcKoaR5&sid=FUH0yk6QHrVRlqm7AABk HTTP/1.1\" 200 -\n",
      "127.0.0.1 - - [26/Jul/2023 17:40:34] \"GET /socket.io/?EIO=4&transport=polling&t=OcKob5K HTTP/1.1\" 200 -\n",
      "127.0.0.1 - - [26/Jul/2023 17:40:34] \"POST /socket.io/?EIO=4&transport=polling&t=OcKob5W&sid=j4RpntU20RUgNMp-AABm HTTP/1.1\" 200 -\n",
      "127.0.0.1 - - [26/Jul/2023 17:40:34] \"GET /socket.io/?EIO=4&transport=polling&t=OcKob5X&sid=j4RpntU20RUgNMp-AABm HTTP/1.1\" 200 -\n",
      "127.0.0.1 - - [26/Jul/2023 17:40:34] \"POST /socket.io/?EIO=4&transport=polling&t=OcKobBQ&sid=j4RpntU20RUgNMp-AABm HTTP/1.1\" 200 -\n",
      "127.0.0.1 - - [26/Jul/2023 17:40:34] \"GET /socket.io/?EIO=4&transport=polling&t=OcKob5k&sid=j4RpntU20RUgNMp-AABm HTTP/1.1\" 200 -\n",
      "127.0.0.1 - - [26/Jul/2023 17:40:34] \"GET /socket.io/?EIO=4&transport=polling&t=OcKobC6 HTTP/1.1\" 200 -\n",
      "127.0.0.1 - - [26/Jul/2023 17:40:34] \"POST /socket.io/?EIO=4&transport=polling&t=OcKobCH&sid=yGUXfuvEjYF-MwyIAABo HTTP/1.1\" 200 -\n",
      "127.0.0.1 - - [26/Jul/2023 17:40:34] \"GET /socket.io/?EIO=4&transport=polling&t=OcKobCH.0&sid=yGUXfuvEjYF-MwyIAABo HTTP/1.1\" 200 -\n",
      "127.0.0.1 - - [26/Jul/2023 17:40:35] \"POST /socket.io/?EIO=4&transport=polling&t=OcKobIC&sid=yGUXfuvEjYF-MwyIAABo HTTP/1.1\" 200 -\n",
      "127.0.0.1 - - [26/Jul/2023 17:40:35] \"GET /socket.io/?EIO=4&transport=polling&t=OcKobCS&sid=yGUXfuvEjYF-MwyIAABo HTTP/1.1\" 200 -\n",
      "127.0.0.1 - - [26/Jul/2023 17:40:35] \"GET /socket.io/?EIO=4&transport=polling&t=OcKobIv HTTP/1.1\" 200 -\n",
      "127.0.0.1 - - [26/Jul/2023 17:40:35] \"POST /socket.io/?EIO=4&transport=polling&t=OcKobJ2&sid=lME0XrP4TgRGsGjOAABq HTTP/1.1\" 200 -\n",
      "127.0.0.1 - - [26/Jul/2023 17:40:35] \"GET /socket.io/?EIO=4&transport=polling&t=OcKobJ3&sid=lME0XrP4TgRGsGjOAABq HTTP/1.1\" 200 -\n",
      "127.0.0.1 - - [26/Jul/2023 17:40:52] \"GET /socket.io/?EIO=4&transport=polling&t=OcKoZN3&sid=B7OY6t_iuPUdkzkdAAAA HTTP/1.1\" 200 -\n",
      "127.0.0.1 - - [26/Jul/2023 17:40:52] \"POST /socket.io/?EIO=4&transport=polling&t=OcKofTo&sid=B7OY6t_iuPUdkzkdAAAA HTTP/1.1\" 200 -\n",
      "127.0.0.1 - - [26/Jul/2023 17:41:00] \"GET /socket.io/?EIO=4&transport=polling&t=OcKobJJ&sid=lME0XrP4TgRGsGjOAABq HTTP/1.1\" 200 -\n",
      "127.0.0.1 - - [26/Jul/2023 17:41:00] \"POST /socket.io/?EIO=4&transport=polling&t=OcKohPj&sid=lME0XrP4TgRGsGjOAABq HTTP/1.1\" 200 -\n",
      "127.0.0.1 - - [26/Jul/2023 17:41:17] \"GET /socket.io/?EIO=4&transport=polling&t=OcKofTp&sid=B7OY6t_iuPUdkzkdAAAA HTTP/1.1\" 200 -\n",
      "127.0.0.1 - - [26/Jul/2023 17:41:17] \"POST /socket.io/?EIO=4&transport=polling&t=OcKolaX&sid=B7OY6t_iuPUdkzkdAAAA HTTP/1.1\" 200 -\n",
      "127.0.0.1 - - [26/Jul/2023 17:41:25] \"GET /socket.io/?EIO=4&transport=polling&t=OcKohPk&sid=lME0XrP4TgRGsGjOAABq HTTP/1.1\" 200 -\n",
      "127.0.0.1 - - [26/Jul/2023 17:41:25] \"POST /socket.io/?EIO=4&transport=polling&t=OcKonWU&sid=lME0XrP4TgRGsGjOAABq HTTP/1.1\" 200 -\n",
      "127.0.0.1 - - [26/Jul/2023 17:41:42] \"GET /socket.io/?EIO=4&transport=polling&t=OcKolaY&sid=B7OY6t_iuPUdkzkdAAAA HTTP/1.1\" 200 -\n",
      "127.0.0.1 - - [26/Jul/2023 17:41:42] \"POST /socket.io/?EIO=4&transport=polling&t=OcKorhK&sid=B7OY6t_iuPUdkzkdAAAA HTTP/1.1\" 200 -\n",
      "127.0.0.1 - - [26/Jul/2023 17:41:50] \"GET /socket.io/?EIO=4&transport=polling&t=OcKonWV&sid=lME0XrP4TgRGsGjOAABq HTTP/1.1\" 200 -\n",
      "127.0.0.1 - - [26/Jul/2023 17:41:50] \"POST /socket.io/?EIO=4&transport=polling&t=OcKotdJ&sid=lME0XrP4TgRGsGjOAABq HTTP/1.1\" 200 -\n",
      "127.0.0.1 - - [26/Jul/2023 17:42:07] \"GET /socket.io/?EIO=4&transport=polling&t=OcKorhL&sid=B7OY6t_iuPUdkzkdAAAA HTTP/1.1\" 200 -\n",
      "127.0.0.1 - - [26/Jul/2023 17:42:07] \"POST /socket.io/?EIO=4&transport=polling&t=OcKoxo6&sid=B7OY6t_iuPUdkzkdAAAA HTTP/1.1\" 200 -\n",
      "127.0.0.1 - - [26/Jul/2023 17:42:15] \"GET /socket.io/?EIO=4&transport=polling&t=OcKotdK&sid=lME0XrP4TgRGsGjOAABq HTTP/1.1\" 200 -\n",
      "127.0.0.1 - - [26/Jul/2023 17:42:15] \"POST /socket.io/?EIO=4&transport=polling&t=OcKozk2&sid=lME0XrP4TgRGsGjOAABq HTTP/1.1\" 200 -\n",
      "127.0.0.1 - - [26/Jul/2023 17:42:32] \"GET /socket.io/?EIO=4&transport=polling&t=OcKoxo7&sid=B7OY6t_iuPUdkzkdAAAA HTTP/1.1\" 200 -\n",
      "127.0.0.1 - - [26/Jul/2023 17:42:32] \"POST /socket.io/?EIO=4&transport=polling&t=OcKp1uv&sid=B7OY6t_iuPUdkzkdAAAA HTTP/1.1\" 200 -\n",
      "127.0.0.1 - - [26/Jul/2023 17:42:40] \"GET /socket.io/?EIO=4&transport=polling&t=OcKozk3&sid=lME0XrP4TgRGsGjOAABq HTTP/1.1\" 200 -\n",
      "127.0.0.1 - - [26/Jul/2023 17:42:40] \"POST /socket.io/?EIO=4&transport=polling&t=OcKp3qq&sid=lME0XrP4TgRGsGjOAABq HTTP/1.1\" 200 -\n",
      "127.0.0.1 - - [26/Jul/2023 17:42:57] \"GET /socket.io/?EIO=4&transport=polling&t=OcKp1uw&sid=B7OY6t_iuPUdkzkdAAAA HTTP/1.1\" 200 -\n",
      "127.0.0.1 - - [26/Jul/2023 17:42:57] \"POST /socket.io/?EIO=4&transport=polling&t=OcKp7_k&sid=B7OY6t_iuPUdkzkdAAAA HTTP/1.1\" 200 -\n",
      "127.0.0.1 - - [26/Jul/2023 17:43:05] \"GET /socket.io/?EIO=4&transport=polling&t=OcKp3qr&sid=lME0XrP4TgRGsGjOAABq HTTP/1.1\" 200 -\n",
      "127.0.0.1 - - [26/Jul/2023 17:43:05] \"POST /socket.io/?EIO=4&transport=polling&t=OcKp9xc&sid=lME0XrP4TgRGsGjOAABq HTTP/1.1\" 200 -\n",
      "127.0.0.1 - - [26/Jul/2023 17:43:22] \"GET /socket.io/?EIO=4&transport=polling&t=OcKp7_l&sid=B7OY6t_iuPUdkzkdAAAA HTTP/1.1\" 200 -\n",
      "127.0.0.1 - - [26/Jul/2023 17:43:22] \"POST /socket.io/?EIO=4&transport=polling&t=OcKpE6Z&sid=B7OY6t_iuPUdkzkdAAAA HTTP/1.1\" 200 -\n",
      "127.0.0.1 - - [26/Jul/2023 17:43:30] \"GET /socket.io/?EIO=4&transport=polling&t=OcKp9xd&sid=lME0XrP4TgRGsGjOAABq HTTP/1.1\" 200 -\n",
      "127.0.0.1 - - [26/Jul/2023 17:43:30] \"POST /socket.io/?EIO=4&transport=polling&t=OcKpG2N&sid=lME0XrP4TgRGsGjOAABq HTTP/1.1\" 200 -\n",
      "127.0.0.1 - - [26/Jul/2023 17:43:47] \"GET /socket.io/?EIO=4&transport=polling&t=OcKpE6a&sid=B7OY6t_iuPUdkzkdAAAA HTTP/1.1\" 200 -\n",
      "127.0.0.1 - - [26/Jul/2023 17:43:47] \"POST /socket.io/?EIO=4&transport=polling&t=OcKpKDN&sid=B7OY6t_iuPUdkzkdAAAA HTTP/1.1\" 200 -\n",
      "127.0.0.1 - - [26/Jul/2023 17:43:55] \"GET /socket.io/?EIO=4&transport=polling&t=OcKpG2O&sid=lME0XrP4TgRGsGjOAABq HTTP/1.1\" 200 -\n",
      "127.0.0.1 - - [26/Jul/2023 17:43:55] \"POST /socket.io/?EIO=4&transport=polling&t=OcKpM97&sid=lME0XrP4TgRGsGjOAABq HTTP/1.1\" 200 -\n",
      "127.0.0.1 - - [26/Jul/2023 17:43:55] \"POST /socket.io/?EIO=4&transport=polling&t=OcKpMH_&sid=B7OY6t_iuPUdkzkdAAAA HTTP/1.1\" 200 -\n",
      "127.0.0.1 - - [26/Jul/2023 17:43:55] \"GET /socket.io/?EIO=4&transport=polling&t=OcKpKDO&sid=B7OY6t_iuPUdkzkdAAAA HTTP/1.1\" 200 -\n",
      "127.0.0.1 - - [26/Jul/2023 17:43:55] \"GET /socket.io/?EIO=4&transport=polling&t=OcKpMJE HTTP/1.1\" 200 -\n",
      "127.0.0.1 - - [26/Jul/2023 17:43:56] \"POST /socket.io/?EIO=4&transport=polling&t=OcKpMJV&sid=QlNrYsEJzlolu6l3AABs HTTP/1.1\" 200 -\n",
      "127.0.0.1 - - [26/Jul/2023 17:43:56] \"GET /socket.io/?EIO=4&transport=polling&t=OcKpMJW&sid=QlNrYsEJzlolu6l3AABs HTTP/1.1\" 200 -\n",
      "127.0.0.1 - - [26/Jul/2023 17:43:56] \"POST /socket.io/?EIO=4&transport=polling&t=OcKpMVm&sid=QlNrYsEJzlolu6l3AABs HTTP/1.1\" 200 -\n",
      "127.0.0.1 - - [26/Jul/2023 17:43:56] \"GET /socket.io/?EIO=4&transport=polling&t=OcKpMJp&sid=QlNrYsEJzlolu6l3AABs HTTP/1.1\" 200 -\n",
      "127.0.0.1 - - [26/Jul/2023 17:43:56] \"GET /socket.io/?EIO=4&transport=polling&t=OcKpMWc HTTP/1.1\" 200 -\n",
      "127.0.0.1 - - [26/Jul/2023 17:43:56] \"POST /socket.io/?EIO=4&transport=polling&t=OcKpMWn&sid=eKceUgH7lp4HiQ__AABu HTTP/1.1\" 200 -\n",
      "127.0.0.1 - - [26/Jul/2023 17:43:56] \"GET /socket.io/?EIO=4&transport=polling&t=OcKpMWo&sid=eKceUgH7lp4HiQ__AABu HTTP/1.1\" 200 -\n",
      "127.0.0.1 - - [26/Jul/2023 17:44:08] \"POST /socket.io/?EIO=4&transport=polling&t=OcKpPPV&sid=eKceUgH7lp4HiQ__AABu HTTP/1.1\" 200 -\n"
     ]
    },
    {
     "name": "stdout",
     "output_type": "stream",
     "text": [
      "{'selectedCardIndices': [1]}\n"
     ]
    },
    {
     "name": "stderr",
     "output_type": "stream",
     "text": [
      "127.0.0.1 - - [26/Jul/2023 17:44:09] \"POST /socket.io/?EIO=4&transport=polling&t=OcKpPVi&sid=eKceUgH7lp4HiQ__AABu HTTP/1.1\" 200 -\n"
     ]
    },
    {
     "name": "stdout",
     "output_type": "stream",
     "text": [
      "{'selectedCardIndices': [1, 0]}\n"
     ]
    },
    {
     "name": "stderr",
     "output_type": "stream",
     "text": [
      "127.0.0.1 - - [26/Jul/2023 17:44:09] \"POST /socket.io/?EIO=4&transport=polling&t=OcKpPbg&sid=eKceUgH7lp4HiQ__AABu HTTP/1.1\" 200 -\n"
     ]
    },
    {
     "name": "stdout",
     "output_type": "stream",
     "text": [
      "{'selectedCardIndices': [1, 0, 2]}\n"
     ]
    },
    {
     "name": "stderr",
     "output_type": "stream",
     "text": [
      "127.0.0.1 - - [26/Jul/2023 17:44:09] \"POST /socket.io/?EIO=4&transport=polling&t=OcKpPii&sid=eKceUgH7lp4HiQ__AABu HTTP/1.1\" 200 -\n"
     ]
    },
    {
     "name": "stdout",
     "output_type": "stream",
     "text": [
      "{'selectedCardIndices': [0, 2]}\n"
     ]
    },
    {
     "name": "stderr",
     "output_type": "stream",
     "text": [
      "127.0.0.1 - - [26/Jul/2023 17:44:10] \"POST /socket.io/?EIO=4&transport=polling&t=OcKpPsM&sid=eKceUgH7lp4HiQ__AABu HTTP/1.1\" 200 -\n",
      "127.0.0.1 - - [26/Jul/2023 17:44:10] \"GET /socket.io/?EIO=4&transport=polling&t=OcKpMW-&sid=eKceUgH7lp4HiQ__AABu HTTP/1.1\" 200 -\n"
     ]
    },
    {
     "name": "stdout",
     "output_type": "stream",
     "text": [
      "{'selectedCardIndices': [0, 2, 3]}\n",
      "WIN\n"
     ]
    },
    {
     "name": "stderr",
     "output_type": "stream",
     "text": [
      "127.0.0.1 - - [26/Jul/2023 17:44:20] \"GET /socket.io/?EIO=4&transport=polling&t=OcKpM98&sid=lME0XrP4TgRGsGjOAABq HTTP/1.1\" 200 -\n",
      "127.0.0.1 - - [26/Jul/2023 17:44:20] \"POST /socket.io/?EIO=4&transport=polling&t=OcKpSFw&sid=lME0XrP4TgRGsGjOAABq HTTP/1.1\" 200 -\n",
      "127.0.0.1 - - [26/Jul/2023 17:44:21] \"GET /socket.io/?EIO=4&transport=polling&t=OcKpPsW&sid=eKceUgH7lp4HiQ__AABu HTTP/1.1\" 200 -\n",
      "127.0.0.1 - - [26/Jul/2023 17:44:21] \"POST /socket.io/?EIO=4&transport=polling&t=OcKpSdQ&sid=eKceUgH7lp4HiQ__AABu HTTP/1.1\" 200 -\n",
      "127.0.0.1 - - [26/Jul/2023 17:44:26] \"POST /socket.io/?EIO=4&transport=polling&t=OcKpTfy&sid=eKceUgH7lp4HiQ__AABu HTTP/1.1\" 200 -\n"
     ]
    },
    {
     "name": "stdout",
     "output_type": "stream",
     "text": [
      "{'selectedCardIndices': [0]}\n"
     ]
    },
    {
     "name": "stderr",
     "output_type": "stream",
     "text": [
      "127.0.0.1 - - [26/Jul/2023 17:44:26] \"POST /socket.io/?EIO=4&transport=polling&t=OcKpTlg&sid=eKceUgH7lp4HiQ__AABu HTTP/1.1\" 200 -\n"
     ]
    },
    {
     "name": "stdout",
     "output_type": "stream",
     "text": [
      "{'selectedCardIndices': [0, 1]}\n"
     ]
    },
    {
     "name": "stderr",
     "output_type": "stream",
     "text": [
      "127.0.0.1 - - [26/Jul/2023 17:44:26] \"POST /socket.io/?EIO=4&transport=polling&t=OcKpTsB&sid=eKceUgH7lp4HiQ__AABu HTTP/1.1\" 200 -\n"
     ]
    },
    {
     "name": "stdout",
     "output_type": "stream",
     "text": [
      "{'selectedCardIndices': [0, 1, 2]}\n"
     ]
    },
    {
     "name": "stderr",
     "output_type": "stream",
     "text": [
      "127.0.0.1 - - [26/Jul/2023 17:44:27] \"POST /socket.io/?EIO=4&transport=polling&t=OcKpT-1&sid=eKceUgH7lp4HiQ__AABu HTTP/1.1\" 200 -\n"
     ]
    },
    {
     "name": "stdout",
     "output_type": "stream",
     "text": [
      "{'selectedCardIndices': [0, 1, 2, 3]}\n"
     ]
    },
    {
     "name": "stderr",
     "output_type": "stream",
     "text": [
      "127.0.0.1 - - [26/Jul/2023 17:44:27] \"POST /socket.io/?EIO=4&transport=polling&t=OcKpU7N&sid=eKceUgH7lp4HiQ__AABu HTTP/1.1\" 200 -\n"
     ]
    },
    {
     "name": "stdout",
     "output_type": "stream",
     "text": [
      "{'selectedCardIndices': [1, 2, 3]}\n"
     ]
    },
    {
     "name": "stderr",
     "output_type": "stream",
     "text": [
      "127.0.0.1 - - [26/Jul/2023 17:44:28] \"POST /socket.io/?EIO=4&transport=polling&t=OcKpUDd&sid=eKceUgH7lp4HiQ__AABu HTTP/1.1\" 200 -\n",
      "127.0.0.1 - - [26/Jul/2023 17:44:28] \"GET /socket.io/?EIO=4&transport=polling&t=OcKpSdR&sid=eKceUgH7lp4HiQ__AABu HTTP/1.1\" 200 -\n"
     ]
    },
    {
     "name": "stdout",
     "output_type": "stream",
     "text": [
      "{'selectedCardIndices': [2, 3]}\n",
      "WIN\n"
     ]
    },
    {
     "name": "stderr",
     "output_type": "stream",
     "text": [
      "127.0.0.1 - - [26/Jul/2023 17:44:45] \"GET /socket.io/?EIO=4&transport=polling&t=OcKpSFw.0&sid=lME0XrP4TgRGsGjOAABq HTTP/1.1\" 200 -\n",
      "127.0.0.1 - - [26/Jul/2023 17:44:45] \"POST /socket.io/?EIO=4&transport=polling&t=OcKpYMj&sid=lME0XrP4TgRGsGjOAABq HTTP/1.1\" 200 -\n",
      "127.0.0.1 - - [26/Jul/2023 17:44:46] \"GET /socket.io/?EIO=4&transport=polling&t=OcKpUDn&sid=eKceUgH7lp4HiQ__AABu HTTP/1.1\" 200 -\n",
      "127.0.0.1 - - [26/Jul/2023 17:44:46] \"POST /socket.io/?EIO=4&transport=polling&t=OcKpYkB&sid=eKceUgH7lp4HiQ__AABu HTTP/1.1\" 200 -\n",
      "127.0.0.1 - - [26/Jul/2023 17:45:10] \"GET /socket.io/?EIO=4&transport=polling&t=OcKpYMj.0&sid=lME0XrP4TgRGsGjOAABq HTTP/1.1\" 200 -\n",
      "127.0.0.1 - - [26/Jul/2023 17:45:10] \"POST /socket.io/?EIO=4&transport=polling&t=OcKpeTX&sid=lME0XrP4TgRGsGjOAABq HTTP/1.1\" 200 -\n",
      "127.0.0.1 - - [26/Jul/2023 17:45:11] \"GET /socket.io/?EIO=4&transport=polling&t=OcKpYkC&sid=eKceUgH7lp4HiQ__AABu HTTP/1.1\" 200 -\n",
      "127.0.0.1 - - [26/Jul/2023 17:45:11] \"POST /socket.io/?EIO=4&transport=polling&t=OcKpeqx&sid=eKceUgH7lp4HiQ__AABu HTTP/1.1\" 200 -\n",
      "127.0.0.1 - - [26/Jul/2023 17:45:35] \"GET /socket.io/?EIO=4&transport=polling&t=OcKpeTY&sid=lME0XrP4TgRGsGjOAABq HTTP/1.1\" 200 -\n",
      "127.0.0.1 - - [26/Jul/2023 17:45:35] \"POST /socket.io/?EIO=4&transport=polling&t=OcKpkaO&sid=lME0XrP4TgRGsGjOAABq HTTP/1.1\" 200 -\n",
      "127.0.0.1 - - [26/Jul/2023 17:45:36] \"GET /socket.io/?EIO=4&transport=polling&t=OcKpeqx.0&sid=eKceUgH7lp4HiQ__AABu HTTP/1.1\" 200 -\n",
      "127.0.0.1 - - [26/Jul/2023 17:45:36] \"POST /socket.io/?EIO=4&transport=polling&t=OcKpkxk&sid=eKceUgH7lp4HiQ__AABu HTTP/1.1\" 200 -\n",
      "127.0.0.1 - - [26/Jul/2023 17:46:00] \"GET /socket.io/?EIO=4&transport=polling&t=OcKpkaO.0&sid=lME0XrP4TgRGsGjOAABq HTTP/1.1\" 200 -\n",
      "127.0.0.1 - - [26/Jul/2023 17:46:00] \"POST /socket.io/?EIO=4&transport=polling&t=OcKpqhA&sid=lME0XrP4TgRGsGjOAABq HTTP/1.1\" 200 -\n",
      "127.0.0.1 - - [26/Jul/2023 17:46:01] \"GET /socket.io/?EIO=4&transport=polling&t=OcKpkxl&sid=eKceUgH7lp4HiQ__AABu HTTP/1.1\" 200 -\n",
      "127.0.0.1 - - [26/Jul/2023 17:46:01] \"POST /socket.io/?EIO=4&transport=polling&t=OcKpr2S&sid=eKceUgH7lp4HiQ__AABu HTTP/1.1\" 200 -\n",
      "127.0.0.1 - - [26/Jul/2023 17:46:22] \"POST /socket.io/?EIO=4&transport=polling&t=OcKpw0V&sid=lME0XrP4TgRGsGjOAABq HTTP/1.1\" 200 -\n",
      "127.0.0.1 - - [26/Jul/2023 17:46:22] \"GET /socket.io/?EIO=4&transport=polling&t=OcKpqhB&sid=lME0XrP4TgRGsGjOAABq HTTP/1.1\" 200 -\n",
      "127.0.0.1 - - [26/Jul/2023 17:46:22] \"GET /socket.io/?EIO=4&transport=polling&t=OcKpw1N HTTP/1.1\" 200 -\n",
      "127.0.0.1 - - [26/Jul/2023 17:46:22] \"POST /socket.io/?EIO=4&transport=polling&t=OcKpw1U&sid=6NfHdaTmjRzH0Gl9AABw HTTP/1.1\" 200 -\n",
      "127.0.0.1 - - [26/Jul/2023 17:46:22] \"GET /socket.io/?EIO=4&transport=polling&t=OcKpw1V&sid=6NfHdaTmjRzH0Gl9AABw HTTP/1.1\" 200 -\n",
      "127.0.0.1 - - [26/Jul/2023 17:46:26] \"GET /socket.io/?EIO=4&transport=polling&t=OcKpr2T&sid=eKceUgH7lp4HiQ__AABu HTTP/1.1\" 200 -\n",
      "127.0.0.1 - - [26/Jul/2023 17:46:26] \"POST /socket.io/?EIO=4&transport=polling&t=OcKpx9G&sid=eKceUgH7lp4HiQ__AABu HTTP/1.1\" 200 -\n",
      "127.0.0.1 - - [26/Jul/2023 17:46:32] \"POST /socket.io/?EIO=4&transport=polling&t=OcKpyRR&sid=6NfHdaTmjRzH0Gl9AABw HTTP/1.1\" 200 -\n",
      "127.0.0.1 - - [26/Jul/2023 17:46:32] \"GET /socket.io/?EIO=4&transport=polling&t=OcKpw25&sid=6NfHdaTmjRzH0Gl9AABw HTTP/1.1\" 200 -\n",
      "127.0.0.1 - - [26/Jul/2023 17:46:32] \"GET /socket.io/?EIO=4&transport=polling&t=OcKpySE HTTP/1.1\" 200 -\n",
      "127.0.0.1 - - [26/Jul/2023 17:46:32] \"POST /socket.io/?EIO=4&transport=polling&t=OcKpySZ&sid=QYRE5sCJ5-wSAzqqAABy HTTP/1.1\" 200 -\n",
      "127.0.0.1 - - [26/Jul/2023 17:46:32] \"GET /socket.io/?EIO=4&transport=polling&t=OcKpySa&sid=QYRE5sCJ5-wSAzqqAABy HTTP/1.1\" 200 -\n",
      "127.0.0.1 - - [26/Jul/2023 17:46:51] \"GET /socket.io/?EIO=4&transport=polling&t=OcKpx9I&sid=eKceUgH7lp4HiQ__AABu HTTP/1.1\" 200 -\n",
      "127.0.0.1 - - [26/Jul/2023 17:46:51] \"POST /socket.io/?EIO=4&transport=polling&t=OcKq1G4&sid=eKceUgH7lp4HiQ__AABu HTTP/1.1\" 200 -\n",
      "127.0.0.1 - - [26/Jul/2023 17:46:57] \"GET /socket.io/?EIO=4&transport=polling&t=OcKpyS_&sid=QYRE5sCJ5-wSAzqqAABy HTTP/1.1\" 200 -\n",
      "127.0.0.1 - - [26/Jul/2023 17:46:57] \"POST /socket.io/?EIO=4&transport=polling&t=OcKq2Y-&sid=QYRE5sCJ5-wSAzqqAABy HTTP/1.1\" 200 -\n",
      "127.0.0.1 - - [26/Jul/2023 17:47:04] \"POST /socket.io/?EIO=4&transport=polling&t=OcKq4O5&sid=QYRE5sCJ5-wSAzqqAABy HTTP/1.1\" 200 -\n",
      "127.0.0.1 - - [26/Jul/2023 17:47:04] \"GET /socket.io/?EIO=4&transport=polling&t=OcKq2Y_&sid=QYRE5sCJ5-wSAzqqAABy HTTP/1.1\" 200 -\n",
      "127.0.0.1 - - [26/Jul/2023 17:47:04] \"GET /socket.io/?EIO=4&transport=polling&t=OcKq4Or HTTP/1.1\" 200 -\n",
      "127.0.0.1 - - [26/Jul/2023 17:47:04] \"POST /socket.io/?EIO=4&transport=polling&t=OcKq4PH&sid=qoP8Snn4t6S9PVBgAAB0 HTTP/1.1\" 200 -\n",
      "127.0.0.1 - - [26/Jul/2023 17:47:04] \"GET /socket.io/?EIO=4&transport=polling&t=OcKq4PI&sid=qoP8Snn4t6S9PVBgAAB0 HTTP/1.1\" 200 -\n",
      "127.0.0.1 - - [26/Jul/2023 17:47:11] \"POST /socket.io/?EIO=4&transport=polling&t=OcKq62t&sid=qoP8Snn4t6S9PVBgAAB0 HTTP/1.1\" 200 -\n",
      "127.0.0.1 - - [26/Jul/2023 17:47:11] \"GET /socket.io/?EIO=4&transport=polling&t=OcKq4PU&sid=qoP8Snn4t6S9PVBgAAB0 HTTP/1.1\" 200 -\n",
      "127.0.0.1 - - [26/Jul/2023 17:47:11] \"GET /socket.io/?EIO=4&transport=polling&t=OcKq63f HTTP/1.1\" 200 -\n",
      "127.0.0.1 - - [26/Jul/2023 17:47:11] \"POST /socket.io/?EIO=4&transport=polling&t=OcKq643&sid=MZTEfBD9IeGOy-1nAAB2 HTTP/1.1\" 200 -\n",
      "127.0.0.1 - - [26/Jul/2023 17:47:11] \"GET /socket.io/?EIO=4&transport=polling&t=OcKq645&sid=MZTEfBD9IeGOy-1nAAB2 HTTP/1.1\" 200 -\n",
      "127.0.0.1 - - [26/Jul/2023 17:47:16] \"GET /socket.io/?EIO=4&transport=polling&t=OcKq1G4.0&sid=eKceUgH7lp4HiQ__AABu HTTP/1.1\" 200 -\n",
      "127.0.0.1 - - [26/Jul/2023 17:47:16] \"POST /socket.io/?EIO=4&transport=polling&t=OcKq7Mu&sid=eKceUgH7lp4HiQ__AABu HTTP/1.1\" 200 -\n",
      "127.0.0.1 - - [26/Jul/2023 17:47:23] \"POST /socket.io/?EIO=4&transport=polling&t=OcKq8-x&sid=MZTEfBD9IeGOy-1nAAB2 HTTP/1.1\" 200 -\n",
      "127.0.0.1 - - [26/Jul/2023 17:47:23] \"GET /socket.io/?EIO=4&transport=polling&t=OcKq64J&sid=MZTEfBD9IeGOy-1nAAB2 HTTP/1.1\" 200 -\n",
      "127.0.0.1 - - [26/Jul/2023 17:47:23] \"GET /socket.io/?EIO=4&transport=polling&t=OcKq8_i HTTP/1.1\" 200 -\n",
      "127.0.0.1 - - [26/Jul/2023 17:47:23] \"POST /socket.io/?EIO=4&transport=polling&t=OcKq903&sid=zlQPc5ze_MERPseMAAB4 HTTP/1.1\" 200 -\n",
      "127.0.0.1 - - [26/Jul/2023 17:47:23] \"GET /socket.io/?EIO=4&transport=polling&t=OcKq904&sid=zlQPc5ze_MERPseMAAB4 HTTP/1.1\" 200 -\n",
      "127.0.0.1 - - [26/Jul/2023 17:47:27] \"POST /socket.io/?EIO=4&transport=polling&t=OcKq9vo&sid=zlQPc5ze_MERPseMAAB4 HTTP/1.1\" 200 -\n"
     ]
    },
    {
     "name": "stdout",
     "output_type": "stream",
     "text": [
      "{'selectedCardIndices': [0]}\n"
     ]
    },
    {
     "name": "stderr",
     "output_type": "stream",
     "text": [
      "127.0.0.1 - - [26/Jul/2023 17:47:36] \"POST /socket.io/?EIO=4&transport=polling&t=OcKqC1X&sid=zlQPc5ze_MERPseMAAB4 HTTP/1.1\" 200 -\n",
      "127.0.0.1 - - [26/Jul/2023 17:47:36] \"GET /socket.io/?EIO=4&transport=polling&t=OcKq90I&sid=zlQPc5ze_MERPseMAAB4 HTTP/1.1\" 200 -\n",
      "127.0.0.1 - - [26/Jul/2023 17:47:36] \"GET /socket.io/?EIO=4&transport=polling&t=OcKqC2T HTTP/1.1\" 200 -\n",
      "127.0.0.1 - - [26/Jul/2023 17:47:36] \"POST /socket.io/?EIO=4&transport=polling&t=OcKqC2b&sid=IEduYN1tha20WoaKAAB6 HTTP/1.1\" 200 -\n",
      "127.0.0.1 - - [26/Jul/2023 17:47:36] \"GET /socket.io/?EIO=4&transport=polling&t=OcKqC2c&sid=IEduYN1tha20WoaKAAB6 HTTP/1.1\" 200 -\n",
      "127.0.0.1 - - [26/Jul/2023 17:47:41] \"GET /socket.io/?EIO=4&transport=polling&t=OcKq7Mu.0&sid=eKceUgH7lp4HiQ__AABu HTTP/1.1\" 200 -\n",
      "127.0.0.1 - - [26/Jul/2023 17:47:41] \"POST /socket.io/?EIO=4&transport=polling&t=OcKqDTe&sid=eKceUgH7lp4HiQ__AABu HTTP/1.1\" 200 -\n",
      "127.0.0.1 - - [26/Jul/2023 17:47:49] \"POST /socket.io/?EIO=4&transport=polling&t=OcKqFG2&sid=IEduYN1tha20WoaKAAB6 HTTP/1.1\" 200 -\n",
      "127.0.0.1 - - [26/Jul/2023 17:47:49] \"GET /socket.io/?EIO=4&transport=polling&t=OcKqC2_&sid=IEduYN1tha20WoaKAAB6 HTTP/1.1\" 200 -\n",
      "127.0.0.1 - - [26/Jul/2023 17:47:49] \"GET /socket.io/?EIO=4&transport=polling&t=OcKqFGs HTTP/1.1\" 200 -\n",
      "127.0.0.1 - - [26/Jul/2023 17:47:49] \"POST /socket.io/?EIO=4&transport=polling&t=OcKqFHG&sid=WKXTodbrdY-XVx2kAAB8 HTTP/1.1\" 200 -\n",
      "127.0.0.1 - - [26/Jul/2023 17:47:49] \"GET /socket.io/?EIO=4&transport=polling&t=OcKqFHH&sid=WKXTodbrdY-XVx2kAAB8 HTTP/1.1\" 200 -\n",
      "127.0.0.1 - - [26/Jul/2023 17:48:01] \"POST /socket.io/?EIO=4&transport=polling&t=OcKqIC6&sid=WKXTodbrdY-XVx2kAAB8 HTTP/1.1\" 200 -\n",
      "127.0.0.1 - - [26/Jul/2023 17:48:01] \"GET /socket.io/?EIO=4&transport=polling&t=OcKqFHV&sid=WKXTodbrdY-XVx2kAAB8 HTTP/1.1\" 200 -\n",
      "127.0.0.1 - - [26/Jul/2023 17:48:01] \"GET /socket.io/?EIO=4&transport=polling&t=OcKqICt HTTP/1.1\" 200 -\n",
      "127.0.0.1 - - [26/Jul/2023 17:48:01] \"POST /socket.io/?EIO=4&transport=polling&t=OcKqIDC&sid=h9egCWXn3fmHBoNWAAB- HTTP/1.1\" 200 -\n",
      "127.0.0.1 - - [26/Jul/2023 17:48:01] \"GET /socket.io/?EIO=4&transport=polling&t=OcKqIDD&sid=h9egCWXn3fmHBoNWAAB- HTTP/1.1\" 200 -\n",
      "127.0.0.1 - - [26/Jul/2023 17:48:03] \"POST /socket.io/?EIO=4&transport=polling&t=OcKqIey&sid=h9egCWXn3fmHBoNWAAB- HTTP/1.1\" 200 -\n",
      "127.0.0.1 - - [26/Jul/2023 17:48:03] \"GET /socket.io/?EIO=4&transport=polling&t=OcKqIDm&sid=h9egCWXn3fmHBoNWAAB- HTTP/1.1\" 200 -\n",
      "127.0.0.1 - - [26/Jul/2023 17:48:03] \"GET /socket.io/?EIO=4&transport=polling&t=OcKqIfm HTTP/1.1\" 200 -\n",
      "127.0.0.1 - - [26/Jul/2023 17:48:03] \"POST /socket.io/?EIO=4&transport=polling&t=OcKqIfv&sid=ETHfZPnfuJ3T8hdbAACA HTTP/1.1\" 200 -\n",
      "127.0.0.1 - - [26/Jul/2023 17:48:03] \"GET /socket.io/?EIO=4&transport=polling&t=OcKqIfw&sid=ETHfZPnfuJ3T8hdbAACA HTTP/1.1\" 200 -\n",
      "127.0.0.1 - - [26/Jul/2023 17:48:06] \"GET /socket.io/?EIO=4&transport=polling&t=OcKqDTf&sid=eKceUgH7lp4HiQ__AABu HTTP/1.1\" 200 -\n",
      "127.0.0.1 - - [26/Jul/2023 17:48:06] \"POST /socket.io/?EIO=4&transport=polling&t=OcKqJaP&sid=eKceUgH7lp4HiQ__AABu HTTP/1.1\" 200 -\n",
      "127.0.0.1 - - [26/Jul/2023 17:48:08] \"POST /socket.io/?EIO=4&transport=polling&t=OcKqJ_y&sid=ETHfZPnfuJ3T8hdbAACA HTTP/1.1\" 200 -\n",
      "127.0.0.1 - - [26/Jul/2023 17:48:08] \"GET /socket.io/?EIO=4&transport=polling&t=OcKqIgU&sid=ETHfZPnfuJ3T8hdbAACA HTTP/1.1\" 200 -\n",
      "127.0.0.1 - - [26/Jul/2023 17:48:08] \"GET /socket.io/?EIO=4&transport=polling&t=OcKqK0i HTTP/1.1\" 200 -\n",
      "127.0.0.1 - - [26/Jul/2023 17:48:08] \"POST /socket.io/?EIO=4&transport=polling&t=OcKqK0o&sid=c5FYg968qEF1zwfnAACC HTTP/1.1\" 200 -\n",
      "127.0.0.1 - - [26/Jul/2023 17:48:08] \"GET /socket.io/?EIO=4&transport=polling&t=OcKqK0o.0&sid=c5FYg968qEF1zwfnAACC HTTP/1.1\" 200 -\n",
      "127.0.0.1 - - [26/Jul/2023 17:48:12] \"POST /socket.io/?EIO=4&transport=polling&t=OcKqK_n&sid=c5FYg968qEF1zwfnAACC HTTP/1.1\" 200 -\n"
     ]
    },
    {
     "name": "stdout",
     "output_type": "stream",
     "text": [
      "{'selectedCardIndices': [1]}\n"
     ]
    },
    {
     "name": "stderr",
     "output_type": "stream",
     "text": [
      "127.0.0.1 - - [26/Jul/2023 17:48:13] \"POST /socket.io/?EIO=4&transport=polling&t=OcKqL4A&sid=c5FYg968qEF1zwfnAACC HTTP/1.1\" 200 -\n",
      "127.0.0.1 - - [26/Jul/2023 17:48:13] \"GET /socket.io/?EIO=4&transport=polling&t=OcKqK1R&sid=c5FYg968qEF1zwfnAACC HTTP/1.1\" 200 -\n"
     ]
    },
    {
     "name": "stdout",
     "output_type": "stream",
     "text": [
      "{'selectedCardIndices': [1, 2]}\n",
      "WIN\n"
     ]
    },
    {
     "name": "stderr",
     "output_type": "stream",
     "text": [
      "127.0.0.1 - - [26/Jul/2023 17:48:13] \"POST /socket.io/?EIO=4&transport=polling&t=OcKqLF5&sid=c5FYg968qEF1zwfnAACC HTTP/1.1\" 200 -\n"
     ]
    },
    {
     "name": "stdout",
     "output_type": "stream",
     "text": [
      "{'selectedCardIndices': [0]}\n"
     ]
    },
    {
     "name": "stderr",
     "output_type": "stream",
     "text": [
      "127.0.0.1 - - [26/Jul/2023 17:48:14] \"POST /socket.io/?EIO=4&transport=polling&t=OcKqLJX&sid=c5FYg968qEF1zwfnAACC HTTP/1.1\" 200 -\n"
     ]
    },
    {
     "name": "stdout",
     "output_type": "stream",
     "text": [
      "{'selectedCardIndices': [0, 1]}\n"
     ]
    },
    {
     "name": "stderr",
     "output_type": "stream",
     "text": [
      "127.0.0.1 - - [26/Jul/2023 17:48:14] \"POST /socket.io/?EIO=4&transport=polling&t=OcKqLPF&sid=c5FYg968qEF1zwfnAACC HTTP/1.1\" 200 -\n"
     ]
    },
    {
     "name": "stdout",
     "output_type": "stream",
     "text": [
      "{'selectedCardIndices': [0, 1, 2]}\n"
     ]
    },
    {
     "name": "stderr",
     "output_type": "stream",
     "text": [
      "127.0.0.1 - - [26/Jul/2023 17:48:14] \"POST /socket.io/?EIO=4&transport=polling&t=OcKqLUk&sid=c5FYg968qEF1zwfnAACC HTTP/1.1\" 200 -\n"
     ]
    },
    {
     "name": "stdout",
     "output_type": "stream",
     "text": [
      "{'selectedCardIndices': [0, 1, 2, 3]}\n"
     ]
    },
    {
     "name": "stderr",
     "output_type": "stream",
     "text": [
      "127.0.0.1 - - [26/Jul/2023 17:48:15] \"POST /socket.io/?EIO=4&transport=polling&t=OcKqLYu&sid=c5FYg968qEF1zwfnAACC HTTP/1.1\" 200 -\n"
     ]
    },
    {
     "name": "stdout",
     "output_type": "stream",
     "text": [
      "{'selectedCardIndices': [0, 1, 3]}\n"
     ]
    },
    {
     "name": "stderr",
     "output_type": "stream",
     "text": [
      "127.0.0.1 - - [26/Jul/2023 17:48:15] \"POST /socket.io/?EIO=4&transport=polling&t=OcKqLe6&sid=c5FYg968qEF1zwfnAACC HTTP/1.1\" 200 -\n"
     ]
    },
    {
     "name": "stdout",
     "output_type": "stream",
     "text": [
      "{'selectedCardIndices': [0, 3]}\n"
     ]
    },
    {
     "name": "stderr",
     "output_type": "stream",
     "text": [
      "127.0.0.1 - - [26/Jul/2023 17:48:15] \"POST /socket.io/?EIO=4&transport=polling&t=OcKqLkc&sid=c5FYg968qEF1zwfnAACC HTTP/1.1\" 200 -\n"
     ]
    },
    {
     "name": "stdout",
     "output_type": "stream",
     "text": [
      "{'selectedCardIndices': [3]}\n"
     ]
    },
    {
     "name": "stderr",
     "output_type": "stream",
     "text": [
      "127.0.0.1 - - [26/Jul/2023 17:48:16] \"POST /socket.io/?EIO=4&transport=polling&t=OcKqLrO&sid=c5FYg968qEF1zwfnAACC HTTP/1.1\" 200 -\n",
      "127.0.0.1 - - [26/Jul/2023 17:48:16] \"GET /socket.io/?EIO=4&transport=polling&t=OcKqL4K&sid=c5FYg968qEF1zwfnAACC HTTP/1.1\" 200 -\n"
     ]
    },
    {
     "name": "stdout",
     "output_type": "stream",
     "text": [
      "{'selectedCardIndices': [3, 1]}\n",
      "WIN\n"
     ]
    },
    {
     "name": "stderr",
     "output_type": "stream",
     "text": [
      "127.0.0.1 - - [26/Jul/2023 17:48:18] \"POST /socket.io/?EIO=4&transport=polling&t=OcKqMV5&sid=c5FYg968qEF1zwfnAACC HTTP/1.1\" 200 -\n",
      "127.0.0.1 - - [26/Jul/2023 17:48:19] \"GET /socket.io/?EIO=4&transport=polling&t=OcKqLrY&sid=c5FYg968qEF1zwfnAACC HTTP/1.1\" 200 -\n",
      "127.0.0.1 - - [26/Jul/2023 17:48:19] \"POST /socket.io/?EIO=4&transport=polling&t=OcKqMVC&sid=eKceUgH7lp4HiQ__AABu HTTP/1.1\" 200 -\n",
      "127.0.0.1 - - [26/Jul/2023 17:48:19] \"GET /socket.io/?EIO=4&transport=polling&t=OcKqJaQ&sid=eKceUgH7lp4HiQ__AABu HTTP/1.1\" 200 -\n",
      "127.0.0.1 - - [26/Jul/2023 17:48:20] \"GET /socket.io/?EIO=4&transport=polling&t=OcKqMp2 HTTP/1.1\" 200 -\n",
      "127.0.0.1 - - [26/Jul/2023 17:48:20] \"POST /socket.io/?EIO=4&transport=polling&t=OcKqMpB&sid=9JVXcKRVwAayCqvPAACE HTTP/1.1\" 200 -\n",
      "127.0.0.1 - - [26/Jul/2023 17:48:20] \"GET /socket.io/?EIO=4&transport=polling&t=OcKqMpC&sid=9JVXcKRVwAayCqvPAACE HTTP/1.1\" 200 -\n",
      "127.0.0.1 - - [26/Jul/2023 17:48:21] \"GET /socket.io/?EIO=4&transport=polling&t=OcKqN2b HTTP/1.1\" 200 -\n",
      "127.0.0.1 - - [26/Jul/2023 17:48:21] \"POST /socket.io/?EIO=4&transport=polling&t=OcKqN2i&sid=ErCGIKNZnl8GvCHQAACG HTTP/1.1\" 200 -\n",
      "127.0.0.1 - - [26/Jul/2023 17:48:21] \"GET /socket.io/?EIO=4&transport=polling&t=OcKqN2j&sid=ErCGIKNZnl8GvCHQAACG HTTP/1.1\" 200 -\n",
      "127.0.0.1 - - [26/Jul/2023 19:48:38] \"GET /socket.io/?EIO=4&transport=polling&t=OcKqMpQ&sid=9JVXcKRVwAayCqvPAACE HTTP/1.1\" 200 -\n",
      "127.0.0.1 - - [26/Jul/2023 19:48:38] \"POST /socket.io/?EIO=4&transport=polling&t=OcLFv6q&sid=9JVXcKRVwAayCqvPAACE HTTP/1.1\" 200 -\n",
      "127.0.0.1 - - [26/Jul/2023 19:48:39] \"GET /socket.io/?EIO=4&transport=polling&t=OcKqN2s&sid=ErCGIKNZnl8GvCHQAACG HTTP/1.1\" 200 -\n",
      "127.0.0.1 - - [26/Jul/2023 19:48:39] \"POST /socket.io/?EIO=4&transport=polling&t=OcLFvMP&sid=ErCGIKNZnl8GvCHQAACG HTTP/1.1\" 200 -\n",
      "127.0.0.1 - - [26/Jul/2023 21:28:12] \"POST /socket.io/?EIO=4&transport=polling&t=OcLchde&sid=9JVXcKRVwAayCqvPAACE HTTP/1.1\" 200 -\n"
     ]
    },
    {
     "name": "stdout",
     "output_type": "stream",
     "text": [
      "{'selectedCardIndices': [0]}\n"
     ]
    },
    {
     "name": "stderr",
     "output_type": "stream",
     "text": [
      "127.0.0.1 - - [26/Jul/2023 21:28:13] \"POST /socket.io/?EIO=4&transport=polling&t=OcLchjX&sid=9JVXcKRVwAayCqvPAACE HTTP/1.1\" 200 -\n",
      "127.0.0.1 - - [26/Jul/2023 21:28:13] \"GET /socket.io/?EIO=4&transport=polling&t=OcLFv6r&sid=9JVXcKRVwAayCqvPAACE HTTP/1.1\" 200 -\n"
     ]
    },
    {
     "name": "stdout",
     "output_type": "stream",
     "text": [
      "{'selectedCardIndices': [0, 1]}\n",
      "WIN\n"
     ]
    },
    {
     "name": "stderr",
     "output_type": "stream",
     "text": [
      "127.0.0.1 - - [26/Jul/2023 21:28:14] \"POST /socket.io/?EIO=4&transport=polling&t=OcLchz9&sid=9JVXcKRVwAayCqvPAACE HTTP/1.1\" 200 -\n"
     ]
    },
    {
     "name": "stdout",
     "output_type": "stream",
     "text": [
      "{'selectedCardIndices': [2]}\n"
     ]
    },
    {
     "name": "stderr",
     "output_type": "stream",
     "text": [
      "127.0.0.1 - - [26/Jul/2023 21:28:14] \"GET /socket.io/?EIO=4&transport=polling&t=OcLchjm&sid=9JVXcKRVwAayCqvPAACE HTTP/1.1\" 200 -\n",
      "127.0.0.1 - - [26/Jul/2023 21:28:14] \"POST /socket.io/?EIO=4&transport=polling&t=OcLci3R&sid=9JVXcKRVwAayCqvPAACE HTTP/1.1\" 200 -\n",
      "127.0.0.1 - - [26/Jul/2023 21:28:14] \"POST /socket.io/?EIO=4&transport=polling&t=OcLci3w&sid=9JVXcKRVwAayCqvPAACE HTTP/1.1\" 200 -\n"
     ]
    },
    {
     "name": "stdout",
     "output_type": "stream",
     "text": [
      "{'selectedCardIndices': [2, 3]}\n"
     ]
    },
    {
     "name": "stderr",
     "output_type": "stream",
     "text": [
      "127.0.0.1 - - [26/Jul/2023 21:28:15] \"GET /socket.io/?EIO=4&transport=polling&t=OcLFvMQ&sid=ErCGIKNZnl8GvCHQAACG HTTP/1.1\" 200 -\n",
      "127.0.0.1 - - [26/Jul/2023 21:28:15] \"POST /socket.io/?EIO=4&transport=polling&t=OcLciJ9&sid=ErCGIKNZnl8GvCHQAACG HTTP/1.1\" 200 -\n",
      "127.0.0.1 - - [26/Jul/2023 21:28:15] \"POST /socket.io/?EIO=4&transport=polling&t=OcLciMP&sid=9JVXcKRVwAayCqvPAACE HTTP/1.1\" 200 -\n",
      "127.0.0.1 - - [26/Jul/2023 21:28:15] \"GET /socket.io/?EIO=4&transport=polling&t=OcLci3S&sid=9JVXcKRVwAayCqvPAACE HTTP/1.1\" 200 -\n",
      "127.0.0.1 - - [26/Jul/2023 21:28:15] \"GET /socket.io/?EIO=4&transport=polling&t=OcLciO7 HTTP/1.1\" 200 -\n",
      "127.0.0.1 - - [26/Jul/2023 21:28:15] \"POST /socket.io/?EIO=4&transport=polling&t=OcLciON&sid=HlmgwziaKA3jkm_eAACI HTTP/1.1\" 200 -\n",
      "127.0.0.1 - - [26/Jul/2023 21:28:15] \"GET /socket.io/?EIO=4&transport=polling&t=OcLciOO&sid=HlmgwziaKA3jkm_eAACI HTTP/1.1\" 200 -\n",
      "127.0.0.1 - - [26/Jul/2023 21:28:16] \"POST /socket.io/?EIO=4&transport=polling&t=OcLcia0&sid=HlmgwziaKA3jkm_eAACI HTTP/1.1\" 200 -\n"
     ]
    },
    {
     "name": "stdout",
     "output_type": "stream",
     "text": [
      "{'selectedCardIndices': [0]}\n"
     ]
    },
    {
     "name": "stderr",
     "output_type": "stream",
     "text": [
      "127.0.0.1 - - [26/Jul/2023 21:28:16] \"POST /socket.io/?EIO=4&transport=polling&t=OcLcieO&sid=HlmgwziaKA3jkm_eAACI HTTP/1.1\" 200 -\n"
     ]
    },
    {
     "name": "stdout",
     "output_type": "stream",
     "text": [
      "{'selectedCardIndices': [0, 1]}\n"
     ]
    },
    {
     "name": "stderr",
     "output_type": "stream",
     "text": [
      "127.0.0.1 - - [26/Jul/2023 21:28:17] \"POST /socket.io/?EIO=4&transport=polling&t=OcLcil8&sid=HlmgwziaKA3jkm_eAACI HTTP/1.1\" 200 -\n"
     ]
    },
    {
     "name": "stdout",
     "output_type": "stream",
     "text": [
      "{'selectedCardIndices': [0, 1, 2]}\n"
     ]
    },
    {
     "name": "stderr",
     "output_type": "stream",
     "text": [
      "127.0.0.1 - - [26/Jul/2023 21:28:17] \"POST /socket.io/?EIO=4&transport=polling&t=OcLcisj&sid=HlmgwziaKA3jkm_eAACI HTTP/1.1\" 200 -\n"
     ]
    },
    {
     "name": "stdout",
     "output_type": "stream",
     "text": [
      "{'selectedCardIndices': [0, 2]}\n"
     ]
    },
    {
     "name": "stderr",
     "output_type": "stream",
     "text": [
      "127.0.0.1 - - [26/Jul/2023 21:28:18] \"POST /socket.io/?EIO=4&transport=polling&t=OcLcj9V&sid=HlmgwziaKA3jkm_eAACI HTTP/1.1\" 200 -\n",
      "127.0.0.1 - - [26/Jul/2023 21:28:18] \"GET /socket.io/?EIO=4&transport=polling&t=OcLciP4&sid=HlmgwziaKA3jkm_eAACI HTTP/1.1\" 200 -\n",
      "127.0.0.1 - - [26/Jul/2023 21:28:18] \"GET /socket.io/?EIO=4&transport=polling&t=OcLcjAX HTTP/1.1\" 200 -\n",
      "127.0.0.1 - - [26/Jul/2023 21:28:19] \"POST /socket.io/?EIO=4&transport=polling&t=OcLcjBj&sid=n_ZHj3aDZMLE9Jr0AACK HTTP/1.1\" 200 -\n",
      "127.0.0.1 - - [26/Jul/2023 21:28:19] \"GET /socket.io/?EIO=4&transport=polling&t=OcLcjBk&sid=n_ZHj3aDZMLE9Jr0AACK HTTP/1.1\" 200 -\n",
      "127.0.0.1 - - [26/Jul/2023 21:28:20] \"POST /socket.io/?EIO=4&transport=polling&t=OcLcjT0&sid=n_ZHj3aDZMLE9Jr0AACK HTTP/1.1\" 200 -\n"
     ]
    },
    {
     "name": "stdout",
     "output_type": "stream",
     "text": [
      "{'selectedCardIndices': [1]}\n"
     ]
    },
    {
     "name": "stderr",
     "output_type": "stream",
     "text": [
      "127.0.0.1 - - [26/Jul/2023 21:28:20] \"POST /socket.io/?EIO=4&transport=polling&t=OcLcjXx&sid=n_ZHj3aDZMLE9Jr0AACK HTTP/1.1\" 200 -\n"
     ]
    },
    {
     "name": "stdout",
     "output_type": "stream",
     "text": [
      "{'selectedCardIndices': [1, 2]}\n"
     ]
    },
    {
     "name": "stderr",
     "output_type": "stream",
     "text": [
      "127.0.0.1 - - [26/Jul/2023 21:28:20] \"POST /socket.io/?EIO=4&transport=polling&t=OcLcjdg&sid=n_ZHj3aDZMLE9Jr0AACK HTTP/1.1\" 200 -\n"
     ]
    },
    {
     "name": "stdout",
     "output_type": "stream",
     "text": [
      "{'selectedCardIndices': [1, 2, 3]}\n"
     ]
    },
    {
     "name": "stderr",
     "output_type": "stream",
     "text": [
      "127.0.0.1 - - [26/Jul/2023 21:28:21] \"POST /socket.io/?EIO=4&transport=polling&t=OcLcjlD&sid=n_ZHj3aDZMLE9Jr0AACK HTTP/1.1\" 200 -\n"
     ]
    },
    {
     "name": "stdout",
     "output_type": "stream",
     "text": [
      "{'selectedCardIndices': [1, 2, 3, 0]}\n"
     ]
    },
    {
     "name": "stderr",
     "output_type": "stream",
     "text": [
      "127.0.0.1 - - [26/Jul/2023 21:28:21] \"POST /socket.io/?EIO=4&transport=polling&t=OcLcjqh&sid=n_ZHj3aDZMLE9Jr0AACK HTTP/1.1\" 200 -\n",
      "127.0.0.1 - - [26/Jul/2023 21:28:21] \"GET /socket.io/?EIO=4&transport=polling&t=OcLcjBw&sid=n_ZHj3aDZMLE9Jr0AACK HTTP/1.1\" 200 -\n"
     ]
    },
    {
     "name": "stdout",
     "output_type": "stream",
     "text": [
      "{'selectedCardIndices': [2, 3, 0]}\n",
      "WIN\n"
     ]
    },
    {
     "name": "stderr",
     "output_type": "stream",
     "text": [
      "127.0.0.1 - - [26/Jul/2023 21:28:22] \"POST /socket.io/?EIO=4&transport=polling&t=OcLck2l&sid=n_ZHj3aDZMLE9Jr0AACK HTTP/1.1\" 200 -\n"
     ]
    },
    {
     "name": "stdout",
     "output_type": "stream",
     "text": [
      "{'selectedCardIndices': [2]}\n"
     ]
    },
    {
     "name": "stderr",
     "output_type": "stream",
     "text": [
      "127.0.0.1 - - [26/Jul/2023 21:28:22] \"POST /socket.io/?EIO=4&transport=polling&t=OcLck8E&sid=n_ZHj3aDZMLE9Jr0AACK HTTP/1.1\" 200 -\n"
     ]
    },
    {
     "name": "stdout",
     "output_type": "stream",
     "text": [
      "{'selectedCardIndices': [2, 1]}\n"
     ]
    },
    {
     "name": "stderr",
     "output_type": "stream",
     "text": [
      "127.0.0.1 - - [26/Jul/2023 21:28:23] \"POST /socket.io/?EIO=4&transport=polling&t=OcLckEl&sid=n_ZHj3aDZMLE9Jr0AACK HTTP/1.1\" 200 -\n"
     ]
    },
    {
     "name": "stdout",
     "output_type": "stream",
     "text": [
      "{'selectedCardIndices': [2, 1, 3]}\n"
     ]
    },
    {
     "name": "stderr",
     "output_type": "stream",
     "text": [
      "127.0.0.1 - - [26/Jul/2023 21:28:23] \"POST /socket.io/?EIO=4&transport=polling&t=OcLckKD&sid=n_ZHj3aDZMLE9Jr0AACK HTTP/1.1\" 200 -\n",
      "127.0.0.1 - - [26/Jul/2023 21:28:23] \"GET /socket.io/?EIO=4&transport=polling&t=OcLcjqq&sid=n_ZHj3aDZMLE9Jr0AACK HTTP/1.1\" 200 -\n"
     ]
    },
    {
     "name": "stdout",
     "output_type": "stream",
     "text": [
      "{'selectedCardIndices': [2, 3]}\n",
      "WIN\n"
     ]
    },
    {
     "name": "stderr",
     "output_type": "stream",
     "text": [
      "127.0.0.1 - - [26/Jul/2023 21:28:24] \"POST /socket.io/?EIO=4&transport=polling&t=OcLckUu&sid=n_ZHj3aDZMLE9Jr0AACK HTTP/1.1\" 200 -\n"
     ]
    },
    {
     "name": "stdout",
     "output_type": "stream",
     "text": [
      "{'selectedCardIndices': [2]}\n"
     ]
    },
    {
     "name": "stderr",
     "output_type": "stream",
     "text": [
      "127.0.0.1 - - [26/Jul/2023 21:28:24] \"POST /socket.io/?EIO=4&transport=polling&t=OcLckaM&sid=n_ZHj3aDZMLE9Jr0AACK HTTP/1.1\" 200 -\n"
     ]
    },
    {
     "name": "stdout",
     "output_type": "stream",
     "text": [
      "{'selectedCardIndices': [2, 1]}\n"
     ]
    },
    {
     "name": "stderr",
     "output_type": "stream",
     "text": [
      "127.0.0.1 - - [26/Jul/2023 21:28:25] \"POST /socket.io/?EIO=4&transport=polling&t=OcLckg5&sid=n_ZHj3aDZMLE9Jr0AACK HTTP/1.1\" 200 -\n"
     ]
    },
    {
     "name": "stdout",
     "output_type": "stream",
     "text": [
      "{'selectedCardIndices': [2, 1, 3]}\n"
     ]
    },
    {
     "name": "stderr",
     "output_type": "stream",
     "text": [
      "127.0.0.1 - - [26/Jul/2023 21:28:25] \"POST /socket.io/?EIO=4&transport=polling&t=OcLcklZ&sid=n_ZHj3aDZMLE9Jr0AACK HTTP/1.1\" 200 -\n"
     ]
    },
    {
     "name": "stdout",
     "output_type": "stream",
     "text": [
      "{'selectedCardIndices': [1, 3]}\n"
     ]
    },
    {
     "name": "stderr",
     "output_type": "stream",
     "text": [
      "127.0.0.1 - - [26/Jul/2023 21:28:25] \"POST /socket.io/?EIO=4&transport=polling&t=OcLcktv&sid=n_ZHj3aDZMLE9Jr0AACK HTTP/1.1\" 200 -\n"
     ]
    },
    {
     "name": "stdout",
     "output_type": "stream",
     "text": [
      "{'selectedCardIndices': [1, 3, 0]}\n"
     ]
    },
    {
     "name": "stderr",
     "output_type": "stream",
     "text": [
      "127.0.0.1 - - [26/Jul/2023 21:28:26] \"POST /socket.io/?EIO=4&transport=polling&t=OcLckzO&sid=n_ZHj3aDZMLE9Jr0AACK HTTP/1.1\" 200 -\n",
      "127.0.0.1 - - [26/Jul/2023 21:28:26] \"GET /socket.io/?EIO=4&transport=polling&t=OcLckKN&sid=n_ZHj3aDZMLE9Jr0AACK HTTP/1.1\" 200 -\n"
     ]
    },
    {
     "name": "stdout",
     "output_type": "stream",
     "text": [
      "{'selectedCardIndices': [3, 0]}\n",
      "WIN\n"
     ]
    },
    {
     "name": "stderr",
     "output_type": "stream",
     "text": [
      "127.0.0.1 - - [26/Jul/2023 21:28:27] \"POST /socket.io/?EIO=4&transport=polling&t=OcLcl8I&sid=n_ZHj3aDZMLE9Jr0AACK HTTP/1.1\" 200 -\n"
     ]
    },
    {
     "name": "stdout",
     "output_type": "stream",
     "text": [
      "{'selectedCardIndices': [2]}\n"
     ]
    },
    {
     "name": "stderr",
     "output_type": "stream",
     "text": [
      "127.0.0.1 - - [26/Jul/2023 21:28:27] \"POST /socket.io/?EIO=4&transport=polling&t=OcLclF3&sid=n_ZHj3aDZMLE9Jr0AACK HTTP/1.1\" 200 -\n",
      "127.0.0.1 - - [26/Jul/2023 21:28:27] \"GET /socket.io/?EIO=4&transport=polling&t=OcLckzX&sid=n_ZHj3aDZMLE9Jr0AACK HTTP/1.1\" 200 -\n"
     ]
    },
    {
     "name": "stdout",
     "output_type": "stream",
     "text": [
      "{'selectedCardIndices': [2, 1]}\n",
      "WIN\n"
     ]
    },
    {
     "name": "stderr",
     "output_type": "stream",
     "text": [
      "127.0.0.1 - - [26/Jul/2023 21:28:27] \"POST /socket.io/?EIO=4&transport=polling&t=OcLclKX&sid=n_ZHj3aDZMLE9Jr0AACK HTTP/1.1\" 200 -\n"
     ]
    },
    {
     "name": "stdout",
     "output_type": "stream",
     "text": [
      "{'selectedCardIndices': [3]}\n"
     ]
    },
    {
     "name": "stderr",
     "output_type": "stream",
     "text": [
      "127.0.0.1 - - [26/Jul/2023 21:28:28] \"POST /socket.io/?EIO=4&transport=polling&t=OcLclSc&sid=n_ZHj3aDZMLE9Jr0AACK HTTP/1.1\" 200 -\n"
     ]
    },
    {
     "name": "stdout",
     "output_type": "stream",
     "text": [
      "{'selectedCardIndices': [3, 2]}\n"
     ]
    },
    {
     "name": "stderr",
     "output_type": "stream",
     "text": [
      "127.0.0.1 - - [26/Jul/2023 21:28:28] \"POST /socket.io/?EIO=4&transport=polling&t=OcLclXg&sid=n_ZHj3aDZMLE9Jr0AACK HTTP/1.1\" 200 -\n"
     ]
    },
    {
     "name": "stdout",
     "output_type": "stream",
     "text": [
      "{'selectedCardIndices': [3, 2, 1]}\n"
     ]
    },
    {
     "name": "stderr",
     "output_type": "stream",
     "text": [
      "127.0.0.1 - - [26/Jul/2023 21:28:28] \"POST /socket.io/?EIO=4&transport=polling&t=OcLclco&sid=n_ZHj3aDZMLE9Jr0AACK HTTP/1.1\" 200 -\n"
     ]
    },
    {
     "name": "stdout",
     "output_type": "stream",
     "text": [
      "{'selectedCardIndices': [3, 1]}\n"
     ]
    },
    {
     "name": "stderr",
     "output_type": "stream",
     "text": [
      "127.0.0.1 - - [26/Jul/2023 21:28:29] \"POST /socket.io/?EIO=4&transport=polling&t=OcLclle&sid=n_ZHj3aDZMLE9Jr0AACK HTTP/1.1\" 200 -\n"
     ]
    },
    {
     "name": "stdout",
     "output_type": "stream",
     "text": [
      "{'selectedCardIndices': [1]}\n"
     ]
    },
    {
     "name": "stderr",
     "output_type": "stream",
     "text": [
      "127.0.0.1 - - [26/Jul/2023 21:28:29] \"POST /socket.io/?EIO=4&transport=polling&t=OcLclsf&sid=n_ZHj3aDZMLE9Jr0AACK HTTP/1.1\" 200 -\n"
     ]
    },
    {
     "name": "stdout",
     "output_type": "stream",
     "text": [
      "{'selectedCardIndices': [1, 0]}\n"
     ]
    },
    {
     "name": "stderr",
     "output_type": "stream",
     "text": [
      "127.0.0.1 - - [26/Jul/2023 21:28:30] \"POST /socket.io/?EIO=4&transport=polling&t=OcLclxL&sid=n_ZHj3aDZMLE9Jr0AACK HTTP/1.1\" 200 -\n"
     ]
    },
    {
     "name": "stdout",
     "output_type": "stream",
     "text": [
      "{'selectedCardIndices': [0]}\n"
     ]
    },
    {
     "name": "stderr",
     "output_type": "stream",
     "text": [
      "127.0.0.1 - - [26/Jul/2023 21:28:30] \"POST /socket.io/?EIO=4&transport=polling&t=OcLcm14&sid=n_ZHj3aDZMLE9Jr0AACK HTTP/1.1\" 200 -\n"
     ]
    },
    {
     "name": "stdout",
     "output_type": "stream",
     "text": [
      "{'selectedCardIndices': [0, 2]}\n"
     ]
    },
    {
     "name": "stderr",
     "output_type": "stream",
     "text": [
      "127.0.0.1 - - [26/Jul/2023 21:28:31] \"POST /socket.io/?EIO=4&transport=polling&t=OcLcm7r&sid=n_ZHj3aDZMLE9Jr0AACK HTTP/1.1\" 200 -\n"
     ]
    },
    {
     "name": "stdout",
     "output_type": "stream",
     "text": [
      "{'selectedCardIndices': [0, 2, 3]}\n"
     ]
    },
    {
     "name": "stderr",
     "output_type": "stream",
     "text": [
      "127.0.0.1 - - [26/Jul/2023 21:28:31] \"POST /socket.io/?EIO=4&transport=polling&t=OcLcmDr&sid=n_ZHj3aDZMLE9Jr0AACK HTTP/1.1\" 200 -\n"
     ]
    },
    {
     "name": "stdout",
     "output_type": "stream",
     "text": [
      "{'selectedCardIndices': [0, 2, 3, 1]}\n"
     ]
    },
    {
     "name": "stderr",
     "output_type": "stream",
     "text": [
      "127.0.0.1 - - [26/Jul/2023 21:28:32] \"POST /socket.io/?EIO=4&transport=polling&t=OcLcmOm&sid=n_ZHj3aDZMLE9Jr0AACK HTTP/1.1\" 200 -\n"
     ]
    },
    {
     "name": "stdout",
     "output_type": "stream",
     "text": [
      "{'selectedCardIndices': [0, 3, 1]}\n"
     ]
    },
    {
     "name": "stderr",
     "output_type": "stream",
     "text": [
      "127.0.0.1 - - [26/Jul/2023 21:28:32] \"POST /socket.io/?EIO=4&transport=polling&t=OcLcmTj&sid=n_ZHj3aDZMLE9Jr0AACK HTTP/1.1\" 200 -\n"
     ]
    },
    {
     "name": "stdout",
     "output_type": "stream",
     "text": [
      "{'selectedCardIndices': [3, 1]}\n"
     ]
    },
    {
     "name": "stderr",
     "output_type": "stream",
     "text": [
      "127.0.0.1 - - [26/Jul/2023 21:28:32] \"POST /socket.io/?EIO=4&transport=polling&t=OcLcmbZ&sid=n_ZHj3aDZMLE9Jr0AACK HTTP/1.1\" 200 -\n"
     ]
    },
    {
     "name": "stdout",
     "output_type": "stream",
     "text": [
      "{'selectedCardIndices': [3]}\n"
     ]
    },
    {
     "name": "stderr",
     "output_type": "stream",
     "text": [
      "127.0.0.1 - - [26/Jul/2023 21:28:34] \"POST /socket.io/?EIO=4&transport=polling&t=OcLcmsU&sid=n_ZHj3aDZMLE9Jr0AACK HTTP/1.1\" 200 -\n"
     ]
    },
    {
     "name": "stdout",
     "output_type": "stream",
     "text": [
      "{'selectedCardIndices': [0]}\n"
     ]
    },
    {
     "name": "stderr",
     "output_type": "stream",
     "text": [
      "127.0.0.1 - - [26/Jul/2023 21:28:34] \"POST /socket.io/?EIO=4&transport=polling&t=OcLcmwO&sid=n_ZHj3aDZMLE9Jr0AACK HTTP/1.1\" 200 -\n"
     ]
    },
    {
     "name": "stdout",
     "output_type": "stream",
     "text": [
      "{'selectedCardIndices': [0, 1]}\n"
     ]
    },
    {
     "name": "stderr",
     "output_type": "stream",
     "text": [
      "127.0.0.1 - - [26/Jul/2023 21:28:34] \"POST /socket.io/?EIO=4&transport=polling&t=OcLcmzm&sid=n_ZHj3aDZMLE9Jr0AACK HTTP/1.1\" 200 -\n"
     ]
    },
    {
     "name": "stdout",
     "output_type": "stream",
     "text": [
      "{'selectedCardIndices': [1]}\n"
     ]
    },
    {
     "name": "stderr",
     "output_type": "stream",
     "text": [
      "127.0.0.1 - - [26/Jul/2023 21:28:35] \"POST /socket.io/?EIO=4&transport=polling&t=OcLcn5r&sid=n_ZHj3aDZMLE9Jr0AACK HTTP/1.1\" 200 -\n"
     ]
    },
    {
     "name": "stdout",
     "output_type": "stream",
     "text": [
      "{'selectedCardIndices': [1, 2]}\n"
     ]
    },
    {
     "name": "stderr",
     "output_type": "stream",
     "text": [
      "127.0.0.1 - - [26/Jul/2023 21:28:35] \"POST /socket.io/?EIO=4&transport=polling&t=OcLcnBr&sid=n_ZHj3aDZMLE9Jr0AACK HTTP/1.1\" 200 -\n",
      "127.0.0.1 - - [26/Jul/2023 21:28:35] \"GET /socket.io/?EIO=4&transport=polling&t=OcLclFC&sid=n_ZHj3aDZMLE9Jr0AACK HTTP/1.1\" 200 -\n"
     ]
    },
    {
     "name": "stdout",
     "output_type": "stream",
     "text": [
      "{'selectedCardIndices': [1, 2, 0]}\n",
      "WIN\n"
     ]
    },
    {
     "name": "stderr",
     "output_type": "stream",
     "text": [
      "127.0.0.1 - - [26/Jul/2023 21:28:36] \"POST /socket.io/?EIO=4&transport=polling&t=OcLcnUb&sid=n_ZHj3aDZMLE9Jr0AACK HTTP/1.1\" 200 -\n"
     ]
    },
    {
     "name": "stdout",
     "output_type": "stream",
     "text": [
      "{'selectedCardIndices': [1]}\n"
     ]
    },
    {
     "name": "stderr",
     "output_type": "stream",
     "text": [
      "127.0.0.1 - - [26/Jul/2023 21:28:36] \"POST /socket.io/?EIO=4&transport=polling&t=OcLcnZ1&sid=n_ZHj3aDZMLE9Jr0AACK HTTP/1.1\" 200 -\n"
     ]
    },
    {
     "name": "stdout",
     "output_type": "stream",
     "text": [
      "{'selectedCardIndices': [1, 2]}\n"
     ]
    },
    {
     "name": "stderr",
     "output_type": "stream",
     "text": [
      "127.0.0.1 - - [26/Jul/2023 21:28:37] \"POST /socket.io/?EIO=4&transport=polling&t=OcLcndS&sid=n_ZHj3aDZMLE9Jr0AACK HTTP/1.1\" 200 -\n",
      "127.0.0.1 - - [26/Jul/2023 21:28:37] \"GET /socket.io/?EIO=4&transport=polling&t=OcLcnB-&sid=n_ZHj3aDZMLE9Jr0AACK HTTP/1.1\" 200 -\n"
     ]
    },
    {
     "name": "stdout",
     "output_type": "stream",
     "text": [
      "{'selectedCardIndices': [1, 2, 0]}\n",
      "WIN\n"
     ]
    },
    {
     "name": "stderr",
     "output_type": "stream",
     "text": [
      "127.0.0.1 - - [26/Jul/2023 21:28:37] \"POST /socket.io/?EIO=4&transport=polling&t=OcLcni8&sid=n_ZHj3aDZMLE9Jr0AACK HTTP/1.1\" 200 -\n"
     ]
    },
    {
     "name": "stdout",
     "output_type": "stream",
     "text": [
      "{'selectedCardIndices': [1]}\n"
     ]
    },
    {
     "name": "stderr",
     "output_type": "stream",
     "text": [
      "127.0.0.1 - - [26/Jul/2023 21:28:37] \"POST /socket.io/?EIO=4&transport=polling&t=OcLcnnL&sid=n_ZHj3aDZMLE9Jr0AACK HTTP/1.1\" 200 -\n"
     ]
    },
    {
     "name": "stdout",
     "output_type": "stream",
     "text": [
      "{'selectedCardIndices': [1, 2]}\n"
     ]
    },
    {
     "name": "stderr",
     "output_type": "stream",
     "text": [
      "127.0.0.1 - - [26/Jul/2023 21:28:38] \"POST /socket.io/?EIO=4&transport=polling&t=OcLcnrH&sid=n_ZHj3aDZMLE9Jr0AACK HTTP/1.1\" 200 -\n"
     ]
    },
    {
     "name": "stdout",
     "output_type": "stream",
     "text": [
      "{'selectedCardIndices': [1]}\n"
     ]
    },
    {
     "name": "stderr",
     "output_type": "stream",
     "text": [
      "127.0.0.1 - - [26/Jul/2023 21:28:38] \"POST /socket.io/?EIO=4&transport=polling&t=OcLcnvQ&sid=n_ZHj3aDZMLE9Jr0AACK HTTP/1.1\" 200 -\n",
      "127.0.0.1 - - [26/Jul/2023 21:28:38] \"GET /socket.io/?EIO=4&transport=polling&t=OcLcndd&sid=n_ZHj3aDZMLE9Jr0AACK HTTP/1.1\" 200 -\n"
     ]
    },
    {
     "name": "stdout",
     "output_type": "stream",
     "text": [
      "{'selectedCardIndices': [1, 0]}\n",
      "WIN\n"
     ]
    },
    {
     "name": "stderr",
     "output_type": "stream",
     "text": [
      "127.0.0.1 - - [26/Jul/2023 21:28:38] \"POST /socket.io/?EIO=4&transport=polling&t=OcLcn-d&sid=n_ZHj3aDZMLE9Jr0AACK HTTP/1.1\" 200 -\n"
     ]
    },
    {
     "name": "stdout",
     "output_type": "stream",
     "text": [
      "{'selectedCardIndices': [2]}\n"
     ]
    },
    {
     "name": "stderr",
     "output_type": "stream",
     "text": [
      "127.0.0.1 - - [26/Jul/2023 21:28:39] \"POST /socket.io/?EIO=4&transport=polling&t=OcLco6z&sid=n_ZHj3aDZMLE9Jr0AACK HTTP/1.1\" 200 -\n"
     ]
    },
    {
     "name": "stdout",
     "output_type": "stream",
     "text": [
      "{'selectedCardIndices': [1]}\n"
     ]
    },
    {
     "name": "stderr",
     "output_type": "stream",
     "text": [
      "127.0.0.1 - - [26/Jul/2023 21:28:39] \"POST /socket.io/?EIO=4&transport=polling&t=OcLcoCR&sid=n_ZHj3aDZMLE9Jr0AACK HTTP/1.1\" 200 -\n"
     ]
    },
    {
     "name": "stdout",
     "output_type": "stream",
     "text": [
      "{'selectedCardIndices': [1, 0]}\n"
     ]
    },
    {
     "name": "stderr",
     "output_type": "stream",
     "text": [
      "127.0.0.1 - - [26/Jul/2023 21:28:40] \"POST /socket.io/?EIO=4&transport=polling&t=OcLcoO9&sid=n_ZHj3aDZMLE9Jr0AACK HTTP/1.1\" 200 -\n",
      "127.0.0.1 - - [26/Jul/2023 21:28:40] \"GET /socket.io/?EIO=4&transport=polling&t=OcLcnva&sid=n_ZHj3aDZMLE9Jr0AACK HTTP/1.1\" 200 -\n",
      "127.0.0.1 - - [26/Jul/2023 21:28:40] \"GET /socket.io/?EIO=4&transport=polling&t=OcLciJC&sid=ErCGIKNZnl8GvCHQAACG HTTP/1.1\" 200 -\n",
      "127.0.0.1 - - [26/Jul/2023 21:28:40] \"POST /socket.io/?EIO=4&transport=polling&t=OcLcoPy&sid=ErCGIKNZnl8GvCHQAACG HTTP/1.1\" 200 -\n"
     ]
    },
    {
     "name": "stdout",
     "output_type": "stream",
     "text": [
      "{'selectedCardIndices': [1, 0, 2]}\n",
      "WIN\n"
     ]
    },
    {
     "name": "stderr",
     "output_type": "stream",
     "text": [
      "127.0.0.1 - - [26/Jul/2023 21:28:40] \"POST /socket.io/?EIO=4&transport=polling&t=OcLcoWU&sid=n_ZHj3aDZMLE9Jr0AACK HTTP/1.1\" 200 -\n"
     ]
    },
    {
     "name": "stdout",
     "output_type": "stream",
     "text": [
      "{'selectedCardIndices': [1]}\n"
     ]
    },
    {
     "name": "stderr",
     "output_type": "stream",
     "text": [
      "127.0.0.1 - - [26/Jul/2023 21:28:41] \"POST /socket.io/?EIO=4&transport=polling&t=OcLcobQ&sid=n_ZHj3aDZMLE9Jr0AACK HTTP/1.1\" 200 -\n"
     ]
    },
    {
     "name": "stdout",
     "output_type": "stream",
     "text": [
      "{'selectedCardIndices': [1, 2]}\n"
     ]
    },
    {
     "name": "stderr",
     "output_type": "stream",
     "text": [
      "127.0.0.1 - - [26/Jul/2023 21:28:41] \"POST /socket.io/?EIO=4&transport=polling&t=OcLcohg&sid=n_ZHj3aDZMLE9Jr0AACK HTTP/1.1\" 200 -\n",
      "127.0.0.1 - - [26/Jul/2023 21:28:41] \"GET /socket.io/?EIO=4&transport=polling&t=OcLcoOJ&sid=n_ZHj3aDZMLE9Jr0AACK HTTP/1.1\" 200 -\n"
     ]
    },
    {
     "name": "stdout",
     "output_type": "stream",
     "text": [
      "{'selectedCardIndices': [1, 2, 3]}\n",
      "WIN\n"
     ]
    },
    {
     "name": "stderr",
     "output_type": "stream",
     "text": [
      "127.0.0.1 - - [26/Jul/2023 21:28:42] \"POST /socket.io/?EIO=4&transport=polling&t=OcLcosc&sid=n_ZHj3aDZMLE9Jr0AACK HTTP/1.1\" 200 -\n"
     ]
    },
    {
     "name": "stdout",
     "output_type": "stream",
     "text": [
      "{'selectedCardIndices': [2]}\n"
     ]
    },
    {
     "name": "stderr",
     "output_type": "stream",
     "text": [
      "127.0.0.1 - - [26/Jul/2023 21:28:42] \"POST /socket.io/?EIO=4&transport=polling&t=OcLcoxq&sid=n_ZHj3aDZMLE9Jr0AACK HTTP/1.1\" 200 -\n",
      "127.0.0.1 - - [26/Jul/2023 21:28:42] \"GET /socket.io/?EIO=4&transport=polling&t=OcLcoi1&sid=n_ZHj3aDZMLE9Jr0AACK HTTP/1.1\" 200 -\n"
     ]
    },
    {
     "name": "stdout",
     "output_type": "stream",
     "text": [
      "{'selectedCardIndices': [2, 0]}\n",
      "WIN\n"
     ]
    },
    {
     "name": "stderr",
     "output_type": "stream",
     "text": [
      "127.0.0.1 - - [26/Jul/2023 21:28:43] \"POST /socket.io/?EIO=4&transport=polling&t=OcLcp2K&sid=n_ZHj3aDZMLE9Jr0AACK HTTP/1.1\" 200 -\n"
     ]
    },
    {
     "name": "stdout",
     "output_type": "stream",
     "text": [
      "{'selectedCardIndices': [2]}\n"
     ]
    },
    {
     "name": "stderr",
     "output_type": "stream",
     "text": [
      "127.0.0.1 - - [26/Jul/2023 21:28:43] \"POST /socket.io/?EIO=4&transport=polling&t=OcLcp84&sid=n_ZHj3aDZMLE9Jr0AACK HTTP/1.1\" 200 -\n"
     ]
    },
    {
     "name": "stdout",
     "output_type": "stream",
     "text": [
      "{'selectedCardIndices': [2, 1]}\n"
     ]
    },
    {
     "name": "stderr",
     "output_type": "stream",
     "text": [
      "127.0.0.1 - - [26/Jul/2023 21:28:43] \"POST /socket.io/?EIO=4&transport=polling&t=OcLcpFM&sid=n_ZHj3aDZMLE9Jr0AACK HTTP/1.1\" 200 -\n",
      "127.0.0.1 - - [26/Jul/2023 21:28:43] \"GET /socket.io/?EIO=4&transport=polling&t=OcLcoxz&sid=n_ZHj3aDZMLE9Jr0AACK HTTP/1.1\" 200 -\n",
      "127.0.0.1 - - [26/Jul/2023 21:28:43] \"POST /socket.io/?EIO=4&transport=polling&t=OcLcpHH&sid=n_ZHj3aDZMLE9Jr0AACK HTTP/1.1\" 200 -\n"
     ]
    },
    {
     "name": "stdout",
     "output_type": "stream",
     "text": [
      "{'selectedCardIndices': [2, 1, 3]}\n"
     ]
    },
    {
     "name": "stderr",
     "output_type": "stream",
     "text": [
      "127.0.0.1 - - [26/Jul/2023 21:28:44] \"POST /socket.io/?EIO=4&transport=polling&t=OcLcpNB&sid=n_ZHj3aDZMLE9Jr0AACK HTTP/1.1\" 200 -\n"
     ]
    },
    {
     "name": "stdout",
     "output_type": "stream",
     "text": [
      "{'selectedCardIndices': [2, 1, 3, 0]}\n"
     ]
    },
    {
     "name": "stderr",
     "output_type": "stream",
     "text": [
      "127.0.0.1 - - [26/Jul/2023 21:28:44] \"POST /socket.io/?EIO=4&transport=polling&t=OcLcpS8&sid=n_ZHj3aDZMLE9Jr0AACK HTTP/1.1\" 200 -\n"
     ]
    },
    {
     "name": "stdout",
     "output_type": "stream",
     "text": [
      "{'selectedCardIndices': [2, 3, 0]}\n"
     ]
    },
    {
     "name": "stderr",
     "output_type": "stream",
     "text": [
      "127.0.0.1 - - [26/Jul/2023 21:28:45] \"POST /socket.io/?EIO=4&transport=polling&t=OcLcpXr&sid=n_ZHj3aDZMLE9Jr0AACK HTTP/1.1\" 200 -\n"
     ]
    },
    {
     "name": "stdout",
     "output_type": "stream",
     "text": [
      "{'selectedCardIndices': [3, 0]}\n"
     ]
    },
    {
     "name": "stderr",
     "output_type": "stream",
     "text": [
      "127.0.0.1 - - [26/Jul/2023 21:28:45] \"POST /socket.io/?EIO=4&transport=polling&t=OcLcpd4&sid=n_ZHj3aDZMLE9Jr0AACK HTTP/1.1\" 200 -\n"
     ]
    },
    {
     "name": "stdout",
     "output_type": "stream",
     "text": [
      "{'selectedCardIndices': [3]}\n"
     ]
    },
    {
     "name": "stderr",
     "output_type": "stream",
     "text": [
      "127.0.0.1 - - [26/Jul/2023 21:28:45] \"POST /socket.io/?EIO=4&transport=polling&t=OcLcpjc&sid=n_ZHj3aDZMLE9Jr0AACK HTTP/1.1\" 200 -\n"
     ]
    },
    {
     "name": "stdout",
     "output_type": "stream",
     "text": [
      "{'selectedCardIndices': [3, 1]}\n"
     ]
    },
    {
     "name": "stderr",
     "output_type": "stream",
     "text": [
      "127.0.0.1 - - [26/Jul/2023 21:28:46] \"POST /socket.io/?EIO=4&transport=polling&t=OcLcpqs&sid=n_ZHj3aDZMLE9Jr0AACK HTTP/1.1\" 200 -\n"
     ]
    },
    {
     "name": "stdout",
     "output_type": "stream",
     "text": [
      "{'selectedCardIndices': [1]}\n"
     ]
    },
    {
     "name": "stderr",
     "output_type": "stream",
     "text": [
      "127.0.0.1 - - [26/Jul/2023 21:28:46] \"POST /socket.io/?EIO=4&transport=polling&t=OcLcpwb&sid=n_ZHj3aDZMLE9Jr0AACK HTTP/1.1\" 200 -\n"
     ]
    },
    {
     "name": "stdout",
     "output_type": "stream",
     "text": [
      "{'selectedCardIndices': [1, 2]}\n"
     ]
    },
    {
     "name": "stderr",
     "output_type": "stream",
     "text": [
      "127.0.0.1 - - [26/Jul/2023 21:28:47] \"POST /socket.io/?EIO=4&transport=polling&t=OcLcq2h&sid=n_ZHj3aDZMLE9Jr0AACK HTTP/1.1\" 200 -\n"
     ]
    },
    {
     "name": "stdout",
     "output_type": "stream",
     "text": [
      "{'selectedCardIndices': [2]}\n"
     ]
    },
    {
     "name": "stderr",
     "output_type": "stream",
     "text": [
      "127.0.0.1 - - [26/Jul/2023 21:28:47] \"POST /socket.io/?EIO=4&transport=polling&t=OcLcq88&sid=n_ZHj3aDZMLE9Jr0AACK HTTP/1.1\" 200 -\n"
     ]
    },
    {
     "name": "stdout",
     "output_type": "stream",
     "text": [
      "{'selectedCardIndices': [2, 0]}\n"
     ]
    },
    {
     "name": "stderr",
     "output_type": "stream",
     "text": [
      "127.0.0.1 - - [26/Jul/2023 21:28:47] \"POST /socket.io/?EIO=4&transport=polling&t=OcLcqDc&sid=n_ZHj3aDZMLE9Jr0AACK HTTP/1.1\" 200 -\n"
     ]
    },
    {
     "name": "stdout",
     "output_type": "stream",
     "text": [
      "{'selectedCardIndices': [0]}\n"
     ]
    },
    {
     "name": "stderr",
     "output_type": "stream",
     "text": [
      "127.0.0.1 - - [26/Jul/2023 21:28:48] \"POST /socket.io/?EIO=4&transport=polling&t=OcLcqLR&sid=n_ZHj3aDZMLE9Jr0AACK HTTP/1.1\" 200 -\n"
     ]
    },
    {
     "name": "stdout",
     "output_type": "stream",
     "text": [
      "{'selectedCardIndices': [0, 3]}\n"
     ]
    },
    {
     "name": "stderr",
     "output_type": "stream",
     "text": [
      "127.0.0.1 - - [26/Jul/2023 21:28:48] \"POST /socket.io/?EIO=4&transport=polling&t=OcLcqUY&sid=n_ZHj3aDZMLE9Jr0AACK HTTP/1.1\" 200 -\n"
     ]
    },
    {
     "name": "stdout",
     "output_type": "stream",
     "text": [
      "{'selectedCardIndices': [0]}\n"
     ]
    },
    {
     "name": "stderr",
     "output_type": "stream",
     "text": [
      "127.0.0.1 - - [26/Jul/2023 21:28:49] \"POST /socket.io/?EIO=4&transport=polling&t=OcLcqiL&sid=n_ZHj3aDZMLE9Jr0AACK HTTP/1.1\" 200 -\n"
     ]
    },
    {
     "name": "stdout",
     "output_type": "stream",
     "text": [
      "{'selectedCardIndices': [0]}\n"
     ]
    },
    {
     "name": "stderr",
     "output_type": "stream",
     "text": [
      "127.0.0.1 - - [26/Jul/2023 21:28:50] \"POST /socket.io/?EIO=4&transport=polling&t=OcLcqmn&sid=n_ZHj3aDZMLE9Jr0AACK HTTP/1.1\" 200 -\n"
     ]
    },
    {
     "name": "stdout",
     "output_type": "stream",
     "text": [
      "{'selectedCardIndices': [0, 1]}\n"
     ]
    },
    {
     "name": "stderr",
     "output_type": "stream",
     "text": [
      "127.0.0.1 - - [26/Jul/2023 21:28:50] \"POST /socket.io/?EIO=4&transport=polling&t=OcLcqt1&sid=n_ZHj3aDZMLE9Jr0AACK HTTP/1.1\" 200 -\n"
     ]
    },
    {
     "name": "stdout",
     "output_type": "stream",
     "text": [
      "{'selectedCardIndices': [1]}\n"
     ]
    },
    {
     "name": "stderr",
     "output_type": "stream",
     "text": [
      "127.0.0.1 - - [26/Jul/2023 21:28:51] \"POST /socket.io/?EIO=4&transport=polling&t=OcLcrB4&sid=n_ZHj3aDZMLE9Jr0AACK HTTP/1.1\" 200 -\n"
     ]
    },
    {
     "name": "stdout",
     "output_type": "stream",
     "text": [
      "{'selectedCardIndices': [2]}\n"
     ]
    },
    {
     "name": "stderr",
     "output_type": "stream",
     "text": [
      "127.0.0.1 - - [26/Jul/2023 21:28:52] \"POST /socket.io/?EIO=4&transport=polling&t=OcLcrJP&sid=n_ZHj3aDZMLE9Jr0AACK HTTP/1.1\" 200 -\n"
     ]
    },
    {
     "name": "stdout",
     "output_type": "stream",
     "text": [
      "{'selectedCardIndices': [2, 0]}\n"
     ]
    },
    {
     "name": "stderr",
     "output_type": "stream",
     "text": [
      "127.0.0.1 - - [26/Jul/2023 21:28:52] \"POST /socket.io/?EIO=4&transport=polling&t=OcLcrNr&sid=n_ZHj3aDZMLE9Jr0AACK HTTP/1.1\" 200 -\n"
     ]
    },
    {
     "name": "stdout",
     "output_type": "stream",
     "text": [
      "{'selectedCardIndices': [2, 0, 1]}\n"
     ]
    },
    {
     "name": "stderr",
     "output_type": "stream",
     "text": [
      "127.0.0.1 - - [26/Jul/2023 21:28:52] \"POST /socket.io/?EIO=4&transport=polling&t=OcLcrSY&sid=n_ZHj3aDZMLE9Jr0AACK HTTP/1.1\" 200 -\n"
     ]
    },
    {
     "name": "stdout",
     "output_type": "stream",
     "text": [
      "{'selectedCardIndices': [2, 1]}\n"
     ]
    },
    {
     "name": "stderr",
     "output_type": "stream",
     "text": [
      "127.0.0.1 - - [26/Jul/2023 21:28:53] \"POST /socket.io/?EIO=4&transport=polling&t=OcLcrbO&sid=n_ZHj3aDZMLE9Jr0AACK HTTP/1.1\" 200 -\n"
     ]
    },
    {
     "name": "stdout",
     "output_type": "stream",
     "text": [
      "{'selectedCardIndices': [2]}\n"
     ]
    },
    {
     "name": "stderr",
     "output_type": "stream",
     "text": [
      "127.0.0.1 - - [26/Jul/2023 21:28:54] \"POST /socket.io/?EIO=4&transport=polling&t=OcLcrqU&sid=n_ZHj3aDZMLE9Jr0AACK HTTP/1.1\" 200 -\n"
     ]
    },
    {
     "name": "stdout",
     "output_type": "stream",
     "text": [
      "{'selectedCardIndices': [3]}\n"
     ]
    },
    {
     "name": "stderr",
     "output_type": "stream",
     "text": [
      "127.0.0.1 - - [26/Jul/2023 21:28:57] \"POST /socket.io/?EIO=4&transport=polling&t=OcLcsaQ&sid=n_ZHj3aDZMLE9Jr0AACK HTTP/1.1\" 200 -\n"
     ]
    },
    {
     "name": "stdout",
     "output_type": "stream",
     "text": [
      "{'selectedCardIndices': [3, 0]}\n"
     ]
    },
    {
     "name": "stderr",
     "output_type": "stream",
     "text": [
      "127.0.0.1 - - [26/Jul/2023 21:28:57] \"POST /socket.io/?EIO=4&transport=polling&t=OcLcses&sid=n_ZHj3aDZMLE9Jr0AACK HTTP/1.1\" 200 -\n",
      "127.0.0.1 - - [26/Jul/2023 21:28:57] \"GET /socket.io/?EIO=4&transport=polling&t=OcLcpHI&sid=n_ZHj3aDZMLE9Jr0AACK HTTP/1.1\" 200 -\n"
     ]
    },
    {
     "name": "stdout",
     "output_type": "stream",
     "text": [
      "{'selectedCardIndices': [3, 0, 1]}\n",
      "WIN\n"
     ]
    },
    {
     "name": "stderr",
     "output_type": "stream",
     "text": [
      "127.0.0.1 - - [26/Jul/2023 21:28:58] \"POST /socket.io/?EIO=4&transport=polling&t=OcLcsjX&sid=n_ZHj3aDZMLE9Jr0AACK HTTP/1.1\" 200 -\n"
     ]
    },
    {
     "name": "stdout",
     "output_type": "stream",
     "text": [
      "{'selectedCardIndices': [0]}\n"
     ]
    },
    {
     "name": "stderr",
     "output_type": "stream",
     "text": [
      "127.0.0.1 - - [26/Jul/2023 21:28:58] \"POST /socket.io/?EIO=4&transport=polling&t=OcLcsuD&sid=n_ZHj3aDZMLE9Jr0AACK HTTP/1.1\" 200 -\n"
     ]
    },
    {
     "name": "stdout",
     "output_type": "stream",
     "text": [
      "{'selectedCardIndices': [0, 1]}\n"
     ]
    },
    {
     "name": "stderr",
     "output_type": "stream",
     "text": [
      "127.0.0.1 - - [26/Jul/2023 21:28:59] \"POST /socket.io/?EIO=4&transport=polling&t=OcLcs-T&sid=n_ZHj3aDZMLE9Jr0AACK HTTP/1.1\" 200 -\n",
      "127.0.0.1 - - [26/Jul/2023 21:28:59] \"GET /socket.io/?EIO=4&transport=polling&t=OcLcsf0&sid=n_ZHj3aDZMLE9Jr0AACK HTTP/1.1\" 200 -\n"
     ]
    },
    {
     "name": "stdout",
     "output_type": "stream",
     "text": [
      "{'selectedCardIndices': [0, 1, 3]}\n",
      "WIN\n"
     ]
    },
    {
     "name": "stderr",
     "output_type": "stream",
     "text": [
      "127.0.0.1 - - [26/Jul/2023 21:28:59] \"POST /socket.io/?EIO=4&transport=polling&t=OcLct9x&sid=n_ZHj3aDZMLE9Jr0AACK HTTP/1.1\" 200 -\n"
     ]
    },
    {
     "name": "stdout",
     "output_type": "stream",
     "text": [
      "{'selectedCardIndices': [1]}\n"
     ]
    },
    {
     "name": "stderr",
     "output_type": "stream",
     "text": [
      "127.0.0.1 - - [26/Jul/2023 21:29:00] \"POST /socket.io/?EIO=4&transport=polling&t=OcLctLv&sid=n_ZHj3aDZMLE9Jr0AACK HTTP/1.1\" 200 -\n"
     ]
    },
    {
     "name": "stdout",
     "output_type": "stream",
     "text": [
      "{'selectedCardIndices': [1, 3]}\n"
     ]
    },
    {
     "name": "stderr",
     "output_type": "stream",
     "text": [
      "127.0.0.1 - - [26/Jul/2023 21:29:00] \"POST /socket.io/?EIO=4&transport=polling&t=OcLctQb&sid=n_ZHj3aDZMLE9Jr0AACK HTTP/1.1\" 200 -\n"
     ]
    },
    {
     "name": "stdout",
     "output_type": "stream",
     "text": [
      "{'selectedCardIndices': [1, 3, 2]}\n"
     ]
    },
    {
     "name": "stderr",
     "output_type": "stream",
     "text": [
      "127.0.0.1 - - [26/Jul/2023 21:29:01] \"POST /socket.io/?EIO=4&transport=polling&t=OcLctWK&sid=n_ZHj3aDZMLE9Jr0AACK HTTP/1.1\" 200 -\n"
     ]
    },
    {
     "name": "stdout",
     "output_type": "stream",
     "text": [
      "{'selectedCardIndices': [1, 3, 2, 0]}\n"
     ]
    },
    {
     "name": "stderr",
     "output_type": "stream",
     "text": [
      "127.0.0.1 - - [26/Jul/2023 21:29:05] \"GET /socket.io/?EIO=4&transport=polling&t=OcLcoP-&sid=ErCGIKNZnl8GvCHQAACG HTTP/1.1\" 200 -\n",
      "127.0.0.1 - - [26/Jul/2023 21:29:05] \"POST /socket.io/?EIO=4&transport=polling&t=OcLcuWk&sid=ErCGIKNZnl8GvCHQAACG HTTP/1.1\" 200 -\n",
      "127.0.0.1 - - [26/Jul/2023 21:29:08] \"POST /socket.io/?EIO=4&transport=polling&t=OcLcv9v&sid=n_ZHj3aDZMLE9Jr0AACK HTTP/1.1\" 200 -\n",
      "127.0.0.1 - - [26/Jul/2023 21:29:08] \"GET /socket.io/?EIO=4&transport=polling&t=OcLcs-c&sid=n_ZHj3aDZMLE9Jr0AACK HTTP/1.1\" 200 -\n",
      "127.0.0.1 - - [26/Jul/2023 21:29:08] \"GET /socket.io/?EIO=4&transport=polling&t=OcLcvAX HTTP/1.1\" 200 -\n",
      "127.0.0.1 - - [26/Jul/2023 21:29:08] \"POST /socket.io/?EIO=4&transport=polling&t=OcLcvAr&sid=FSQIU2Cq9IEupa9XAACM HTTP/1.1\" 200 -\n",
      "127.0.0.1 - - [26/Jul/2023 21:29:08] \"GET /socket.io/?EIO=4&transport=polling&t=OcLcvAs&sid=FSQIU2Cq9IEupa9XAACM HTTP/1.1\" 200 -\n",
      "127.0.0.1 - - [26/Jul/2023 21:29:30] \"GET /socket.io/?EIO=4&transport=polling&t=OcLcuWl&sid=ErCGIKNZnl8GvCHQAACG HTTP/1.1\" 200 -\n",
      "127.0.0.1 - - [26/Jul/2023 21:29:30] \"POST /socket.io/?EIO=4&transport=polling&t=OcLc-dW&sid=ErCGIKNZnl8GvCHQAACG HTTP/1.1\" 200 -\n",
      "127.0.0.1 - - [26/Jul/2023 21:29:33] \"GET /socket.io/?EIO=4&transport=polling&t=OcLcvA-&sid=FSQIU2Cq9IEupa9XAACM HTTP/1.1\" 200 -\n",
      "127.0.0.1 - - [26/Jul/2023 21:29:33] \"POST /socket.io/?EIO=4&transport=polling&t=OcLc_HX&sid=FSQIU2Cq9IEupa9XAACM HTTP/1.1\" 200 -\n",
      "127.0.0.1 - - [26/Jul/2023 21:29:43] \"POST /socket.io/?EIO=4&transport=polling&t=OcLd1oz&sid=FSQIU2Cq9IEupa9XAACM HTTP/1.1\" 200 -\n",
      "127.0.0.1 - - [26/Jul/2023 21:29:43] \"GET /socket.io/?EIO=4&transport=polling&t=OcLc_HX.0&sid=FSQIU2Cq9IEupa9XAACM HTTP/1.1\" 200 -\n",
      "127.0.0.1 - - [26/Jul/2023 21:29:43] \"GET /socket.io/?EIO=4&transport=polling&t=OcLd1pZ HTTP/1.1\" 200 -\n",
      "127.0.0.1 - - [26/Jul/2023 21:29:43] \"POST /socket.io/?EIO=4&transport=polling&t=OcLd1pv&sid=WXR8QF7-sxZH7M2xAACO HTTP/1.1\" 200 -\n",
      "127.0.0.1 - - [26/Jul/2023 21:29:43] \"GET /socket.io/?EIO=4&transport=polling&t=OcLd1pw&sid=WXR8QF7-sxZH7M2xAACO HTTP/1.1\" 200 -\n",
      "127.0.0.1 - - [26/Jul/2023 21:29:49] \"POST /socket.io/?EIO=4&transport=polling&t=OcLd39O&sid=WXR8QF7-sxZH7M2xAACO HTTP/1.1\" 200 -\n",
      "127.0.0.1 - - [26/Jul/2023 21:29:49] \"GET /socket.io/?EIO=4&transport=polling&t=OcLd1q2&sid=WXR8QF7-sxZH7M2xAACO HTTP/1.1\" 200 -\n",
      "127.0.0.1 - - [26/Jul/2023 21:29:49] \"GET /socket.io/?EIO=4&transport=polling&t=OcLd39q HTTP/1.1\" 200 -\n",
      "127.0.0.1 - - [26/Jul/2023 21:29:49] \"POST /socket.io/?EIO=4&transport=polling&t=OcLd39v&sid=9FSRetJ3i9zeVA61AACQ HTTP/1.1\" 200 -\n",
      "127.0.0.1 - - [26/Jul/2023 21:29:49] \"GET /socket.io/?EIO=4&transport=polling&t=OcLd39v.0&sid=9FSRetJ3i9zeVA61AACQ HTTP/1.1\" 200 -\n",
      "127.0.0.1 - - [26/Jul/2023 21:29:55] \"GET /socket.io/?EIO=4&transport=polling&t=OcLc-dX&sid=ErCGIKNZnl8GvCHQAACG HTTP/1.1\" 200 -\n",
      "127.0.0.1 - - [26/Jul/2023 21:29:55] \"POST /socket.io/?EIO=4&transport=polling&t=OcLd4kF&sid=ErCGIKNZnl8GvCHQAACG HTTP/1.1\" 200 -\n",
      "127.0.0.1 - - [26/Jul/2023 21:30:14] \"GET /socket.io/?EIO=4&transport=polling&t=OcLd3AC&sid=9FSRetJ3i9zeVA61AACQ HTTP/1.1\" 200 -\n",
      "127.0.0.1 - - [26/Jul/2023 21:30:14] \"POST /socket.io/?EIO=4&transport=polling&t=OcLd9Ga&sid=9FSRetJ3i9zeVA61AACQ HTTP/1.1\" 200 -\n",
      "127.0.0.1 - - [26/Jul/2023 21:30:20] \"GET /socket.io/?EIO=4&transport=polling&t=OcLd4kG&sid=ErCGIKNZnl8GvCHQAACG HTTP/1.1\" 200 -\n",
      "127.0.0.1 - - [26/Jul/2023 21:30:20] \"POST /socket.io/?EIO=4&transport=polling&t=OcLdAr2&sid=ErCGIKNZnl8GvCHQAACG HTTP/1.1\" 200 -\n",
      "127.0.0.1 - - [26/Jul/2023 21:30:39] \"GET /socket.io/?EIO=4&transport=polling&t=OcLd9Ga.0&sid=9FSRetJ3i9zeVA61AACQ HTTP/1.1\" 200 -\n",
      "127.0.0.1 - - [26/Jul/2023 21:30:39] \"POST /socket.io/?EIO=4&transport=polling&t=OcLdFNJ&sid=9FSRetJ3i9zeVA61AACQ HTTP/1.1\" 200 -\n",
      "127.0.0.1 - - [26/Jul/2023 21:30:45] \"GET /socket.io/?EIO=4&transport=polling&t=OcLdAr3&sid=ErCGIKNZnl8GvCHQAACG HTTP/1.1\" 200 -\n",
      "127.0.0.1 - - [26/Jul/2023 21:30:45] \"POST /socket.io/?EIO=4&transport=polling&t=OcLdGxp&sid=ErCGIKNZnl8GvCHQAACG HTTP/1.1\" 200 -\n",
      "127.0.0.1 - - [26/Jul/2023 21:31:04] \"GET /socket.io/?EIO=4&transport=polling&t=OcLdFNK&sid=9FSRetJ3i9zeVA61AACQ HTTP/1.1\" 200 -\n",
      "127.0.0.1 - - [26/Jul/2023 21:31:04] \"POST /socket.io/?EIO=4&transport=polling&t=OcLdLU6&sid=9FSRetJ3i9zeVA61AACQ HTTP/1.1\" 200 -\n",
      "127.0.0.1 - - [26/Jul/2023 21:31:10] \"GET /socket.io/?EIO=4&transport=polling&t=OcLdGxq&sid=ErCGIKNZnl8GvCHQAACG HTTP/1.1\" 200 -\n",
      "127.0.0.1 - - [26/Jul/2023 21:31:10] \"POST /socket.io/?EIO=4&transport=polling&t=OcLdN2e&sid=ErCGIKNZnl8GvCHQAACG HTTP/1.1\" 200 -\n",
      "127.0.0.1 - - [26/Jul/2023 21:31:24] \"POST /socket.io/?EIO=4&transport=polling&t=OcLdQPl&sid=9FSRetJ3i9zeVA61AACQ HTTP/1.1\" 200 -\n",
      "127.0.0.1 - - [26/Jul/2023 21:31:24] \"GET /socket.io/?EIO=4&transport=polling&t=OcLdLU7&sid=9FSRetJ3i9zeVA61AACQ HTTP/1.1\" 200 -\n",
      "127.0.0.1 - - [26/Jul/2023 21:31:24] \"GET /socket.io/?EIO=4&transport=polling&t=OcLdQQG HTTP/1.1\" 200 -\n",
      "127.0.0.1 - - [26/Jul/2023 21:31:24] \"POST /socket.io/?EIO=4&transport=polling&t=OcLdQQK&sid=oT-IQJ2psV9gmqwqAACS HTTP/1.1\" 200 -\n",
      "127.0.0.1 - - [26/Jul/2023 21:31:24] \"GET /socket.io/?EIO=4&transport=polling&t=OcLdQQL&sid=oT-IQJ2psV9gmqwqAACS HTTP/1.1\" 200 -\n",
      "127.0.0.1 - - [26/Jul/2023 21:31:35] \"GET /socket.io/?EIO=4&transport=polling&t=OcLdN2f&sid=ErCGIKNZnl8GvCHQAACG HTTP/1.1\" 200 -\n",
      "127.0.0.1 - - [26/Jul/2023 21:31:35] \"POST /socket.io/?EIO=4&transport=polling&t=OcLdT9U&sid=ErCGIKNZnl8GvCHQAACG HTTP/1.1\" 200 -\n",
      "127.0.0.1 - - [26/Jul/2023 21:31:49] \"GET /socket.io/?EIO=4&transport=polling&t=OcLdQQd&sid=oT-IQJ2psV9gmqwqAACS HTTP/1.1\" 200 -\n",
      "127.0.0.1 - - [26/Jul/2023 21:31:49] \"POST /socket.io/?EIO=4&transport=polling&t=OcLdWW_&sid=oT-IQJ2psV9gmqwqAACS HTTP/1.1\" 200 -\n",
      "127.0.0.1 - - [26/Jul/2023 21:32:00] \"GET /socket.io/?EIO=4&transport=polling&t=OcLdT9V&sid=ErCGIKNZnl8GvCHQAACG HTTP/1.1\" 200 -\n",
      "127.0.0.1 - - [26/Jul/2023 21:32:00] \"POST /socket.io/?EIO=4&transport=polling&t=OcLdZGH&sid=ErCGIKNZnl8GvCHQAACG HTTP/1.1\" 200 -\n",
      "127.0.0.1 - - [26/Jul/2023 21:32:14] \"GET /socket.io/?EIO=4&transport=polling&t=OcLdWX0&sid=oT-IQJ2psV9gmqwqAACS HTTP/1.1\" 200 -\n",
      "127.0.0.1 - - [26/Jul/2023 21:32:14] \"POST /socket.io/?EIO=4&transport=polling&t=OcLdcdn&sid=oT-IQJ2psV9gmqwqAACS HTTP/1.1\" 200 -\n",
      "127.0.0.1 - - [26/Jul/2023 21:32:25] \"GET /socket.io/?EIO=4&transport=polling&t=OcLdZGI&sid=ErCGIKNZnl8GvCHQAACG HTTP/1.1\" 200 -\n",
      "127.0.0.1 - - [26/Jul/2023 21:32:25] \"POST /socket.io/?EIO=4&transport=polling&t=OcLdfN3&sid=ErCGIKNZnl8GvCHQAACG HTTP/1.1\" 200 -\n",
      "127.0.0.1 - - [26/Jul/2023 21:32:26] \"POST /socket.io/?EIO=4&transport=polling&t=OcLdfel&sid=oT-IQJ2psV9gmqwqAACS HTTP/1.1\" 200 -\n",
      "127.0.0.1 - - [26/Jul/2023 21:32:26] \"GET /socket.io/?EIO=4&transport=polling&t=OcLdcdn.0&sid=oT-IQJ2psV9gmqwqAACS HTTP/1.1\" 200 -\n",
      "127.0.0.1 - - [26/Jul/2023 21:32:26] \"GET /socket.io/?EIO=4&transport=polling&t=OcLdffF HTTP/1.1\" 200 -\n",
      "127.0.0.1 - - [26/Jul/2023 21:32:26] \"POST /socket.io/?EIO=4&transport=polling&t=OcLdffJ&sid=0MOEfrRlGQHIrVVTAACU HTTP/1.1\" 200 -\n",
      "127.0.0.1 - - [26/Jul/2023 21:32:26] \"GET /socket.io/?EIO=4&transport=polling&t=OcLdffJ.0&sid=0MOEfrRlGQHIrVVTAACU HTTP/1.1\" 200 -\n",
      "127.0.0.1 - - [26/Jul/2023 21:32:33] \"POST /socket.io/?EIO=4&transport=polling&t=OcLdhDm&sid=0MOEfrRlGQHIrVVTAACU HTTP/1.1\" 200 -\n",
      "127.0.0.1 - - [26/Jul/2023 21:32:33] \"GET /socket.io/?EIO=4&transport=polling&t=OcLdffd&sid=0MOEfrRlGQHIrVVTAACU HTTP/1.1\" 200 -\n",
      "127.0.0.1 - - [26/Jul/2023 21:32:33] \"GET /socket.io/?EIO=4&transport=polling&t=OcLdhEC HTTP/1.1\" 200 -\n",
      "127.0.0.1 - - [26/Jul/2023 21:32:33] \"POST /socket.io/?EIO=4&transport=polling&t=OcLdhEG&sid=OrjuFeNYZ_ZunqJYAACW HTTP/1.1\" 200 -\n",
      "127.0.0.1 - - [26/Jul/2023 21:32:33] \"GET /socket.io/?EIO=4&transport=polling&t=OcLdhEH&sid=OrjuFeNYZ_ZunqJYAACW HTTP/1.1\" 200 -\n",
      "127.0.0.1 - - [26/Jul/2023 21:32:34] \"POST /socket.io/?EIO=4&transport=polling&t=OcLdhVk&sid=OrjuFeNYZ_ZunqJYAACW HTTP/1.1\" 200 -\n",
      "127.0.0.1 - - [26/Jul/2023 21:32:34] \"GET /socket.io/?EIO=4&transport=polling&t=OcLdhEa&sid=OrjuFeNYZ_ZunqJYAACW HTTP/1.1\" 200 -\n",
      "127.0.0.1 - - [26/Jul/2023 21:32:34] \"GET /socket.io/?EIO=4&transport=polling&t=OcLdhW9 HTTP/1.1\" 200 -\n",
      "127.0.0.1 - - [26/Jul/2023 21:32:34] \"POST /socket.io/?EIO=4&transport=polling&t=OcLdhWD&sid=McDPlQbkKMcvGZWVAACY HTTP/1.1\" 200 -\n",
      "127.0.0.1 - - [26/Jul/2023 21:32:34] \"GET /socket.io/?EIO=4&transport=polling&t=OcLdhWE&sid=McDPlQbkKMcvGZWVAACY HTTP/1.1\" 200 -\n",
      "127.0.0.1 - - [26/Jul/2023 21:32:34] \"POST /socket.io/?EIO=4&transport=polling&t=OcLdhfd&sid=McDPlQbkKMcvGZWVAACY HTTP/1.1\" 200 -\n",
      "127.0.0.1 - - [26/Jul/2023 21:32:34] \"GET /socket.io/?EIO=4&transport=polling&t=OcLdhWW&sid=McDPlQbkKMcvGZWVAACY HTTP/1.1\" 200 -\n",
      "127.0.0.1 - - [26/Jul/2023 21:32:34] \"GET /socket.io/?EIO=4&transport=polling&t=OcLdhg1 HTTP/1.1\" 200 -\n",
      "127.0.0.1 - - [26/Jul/2023 21:32:34] \"POST /socket.io/?EIO=4&transport=polling&t=OcLdhg6&sid=SMOV94XD_8cwFzrYAACa HTTP/1.1\" 200 -\n",
      "127.0.0.1 - - [26/Jul/2023 21:32:34] \"GET /socket.io/?EIO=4&transport=polling&t=OcLdhg6.0&sid=SMOV94XD_8cwFzrYAACa HTTP/1.1\" 200 -\n",
      "127.0.0.1 - - [26/Jul/2023 21:32:50] \"GET /socket.io/?EIO=4&transport=polling&t=OcLdfN4&sid=ErCGIKNZnl8GvCHQAACG HTTP/1.1\" 200 -\n",
      "127.0.0.1 - - [26/Jul/2023 21:32:50] \"POST /socket.io/?EIO=4&transport=polling&t=OcLdlTo&sid=ErCGIKNZnl8GvCHQAACG HTTP/1.1\" 200 -\n",
      "127.0.0.1 - - [26/Jul/2023 21:32:59] \"GET /socket.io/?EIO=4&transport=polling&t=OcLdhgR&sid=SMOV94XD_8cwFzrYAACa HTTP/1.1\" 200 -\n",
      "127.0.0.1 - - [26/Jul/2023 21:32:59] \"POST /socket.io/?EIO=4&transport=polling&t=OcLdnmm&sid=SMOV94XD_8cwFzrYAACa HTTP/1.1\" 200 -\n",
      "127.0.0.1 - - [26/Jul/2023 21:33:15] \"GET /socket.io/?EIO=4&transport=polling&t=OcLdlTp&sid=ErCGIKNZnl8GvCHQAACG HTTP/1.1\" 200 -\n",
      "127.0.0.1 - - [26/Jul/2023 21:33:15] \"POST /socket.io/?EIO=4&transport=polling&t=OcLdrad&sid=ErCGIKNZnl8GvCHQAACG HTTP/1.1\" 200 -\n",
      "127.0.0.1 - - [26/Jul/2023 21:33:24] \"GET /socket.io/?EIO=4&transport=polling&t=OcLdnmm.0&sid=SMOV94XD_8cwFzrYAACa HTTP/1.1\" 200 -\n",
      "127.0.0.1 - - [26/Jul/2023 21:33:24] \"POST /socket.io/?EIO=4&transport=polling&t=OcLdttX&sid=SMOV94XD_8cwFzrYAACa HTTP/1.1\" 200 -\n",
      "127.0.0.1 - - [26/Jul/2023 21:33:40] \"GET /socket.io/?EIO=4&transport=polling&t=OcLdrae&sid=ErCGIKNZnl8GvCHQAACG HTTP/1.1\" 200 -\n",
      "127.0.0.1 - - [26/Jul/2023 21:33:40] \"POST /socket.io/?EIO=4&transport=polling&t=OcLdxhR&sid=ErCGIKNZnl8GvCHQAACG HTTP/1.1\" 200 -\n",
      "127.0.0.1 - - [26/Jul/2023 21:33:46] \"POST /socket.io/?EIO=4&transport=polling&t=OcLdz9V&sid=SMOV94XD_8cwFzrYAACa HTTP/1.1\" 200 -\n",
      "127.0.0.1 - - [26/Jul/2023 21:33:46] \"GET /socket.io/?EIO=4&transport=polling&t=OcLdttY&sid=SMOV94XD_8cwFzrYAACa HTTP/1.1\" 200 -\n",
      "127.0.0.1 - - [26/Jul/2023 21:33:46] \"GET /socket.io/?EIO=4&transport=polling&t=OcLdzA6 HTTP/1.1\" 200 -\n",
      "127.0.0.1 - - [26/Jul/2023 21:33:46] \"POST /socket.io/?EIO=4&transport=polling&t=OcLdzAP&sid=nthVg3gAjzLNm7sKAACc HTTP/1.1\" 200 -\n",
      "127.0.0.1 - - [26/Jul/2023 21:33:46] \"GET /socket.io/?EIO=4&transport=polling&t=OcLdzAP.0&sid=nthVg3gAjzLNm7sKAACc HTTP/1.1\" 200 -\n",
      "127.0.0.1 - - [26/Jul/2023 21:34:02] \"POST /socket.io/?EIO=4&transport=polling&t=OcLe10h&sid=nthVg3gAjzLNm7sKAACc HTTP/1.1\" 200 -\n",
      "127.0.0.1 - - [26/Jul/2023 21:34:02] \"GET /socket.io/?EIO=4&transport=polling&t=OcLdzAX&sid=nthVg3gAjzLNm7sKAACc HTTP/1.1\" 200 -\n",
      "127.0.0.1 - - [26/Jul/2023 21:34:02] \"GET /socket.io/?EIO=4&transport=polling&t=OcLe11C HTTP/1.1\" 200 -\n",
      "127.0.0.1 - - [26/Jul/2023 21:34:02] \"POST /socket.io/?EIO=4&transport=polling&t=OcLe11G&sid=c4QO1j6hpaLuYRuyAACe HTTP/1.1\" 200 -\n",
      "127.0.0.1 - - [26/Jul/2023 21:34:02] \"GET /socket.io/?EIO=4&transport=polling&t=OcLe11G.0&sid=c4QO1j6hpaLuYRuyAACe HTTP/1.1\" 200 -\n",
      "127.0.0.1 - - [26/Jul/2023 21:34:05] \"GET /socket.io/?EIO=4&transport=polling&t=OcLdxhS&sid=ErCGIKNZnl8GvCHQAACG HTTP/1.1\" 200 -\n",
      "127.0.0.1 - - [26/Jul/2023 21:34:05] \"POST /socket.io/?EIO=4&transport=polling&t=OcLe1oA&sid=ErCGIKNZnl8GvCHQAACG HTTP/1.1\" 200 -\n",
      "127.0.0.1 - - [26/Jul/2023 21:34:09] \"POST /socket.io/?EIO=4&transport=polling&t=OcLe2jn&sid=c4QO1j6hpaLuYRuyAACe HTTP/1.1\" 200 -\n",
      "127.0.0.1 - - [26/Jul/2023 21:34:09] \"GET /socket.io/?EIO=4&transport=polling&t=OcLe11b&sid=c4QO1j6hpaLuYRuyAACe HTTP/1.1\" 200 -\n",
      "127.0.0.1 - - [26/Jul/2023 21:34:09] \"GET /socket.io/?EIO=4&transport=polling&t=OcLe2kJ HTTP/1.1\" 200 -\n",
      "127.0.0.1 - - [26/Jul/2023 21:34:09] \"POST /socket.io/?EIO=4&transport=polling&t=OcLe2ke&sid=KisIjKl78u0sn_KbAACg HTTP/1.1\" 200 -\n",
      "127.0.0.1 - - [26/Jul/2023 21:34:09] \"GET /socket.io/?EIO=4&transport=polling&t=OcLe2ke.0&sid=KisIjKl78u0sn_KbAACg HTTP/1.1\" 200 -\n",
      "127.0.0.1 - - [26/Jul/2023 21:34:28] \"POST /socket.io/?EIO=4&transport=polling&t=OcLe7J5&sid=KisIjKl78u0sn_KbAACg HTTP/1.1\" 200 -\n",
      "127.0.0.1 - - [26/Jul/2023 21:34:28] \"GET /socket.io/?EIO=4&transport=polling&t=OcLe2kl&sid=KisIjKl78u0sn_KbAACg HTTP/1.1\" 200 -\n",
      "127.0.0.1 - - [26/Jul/2023 21:34:28] \"GET /socket.io/?EIO=4&transport=polling&t=OcLe7Je HTTP/1.1\" 200 -\n",
      "127.0.0.1 - - [26/Jul/2023 21:34:28] \"POST /socket.io/?EIO=4&transport=polling&t=OcLe7Jh&sid=gORM3qUa02UghnyWAACi HTTP/1.1\" 200 -\n",
      "127.0.0.1 - - [26/Jul/2023 21:34:28] \"GET /socket.io/?EIO=4&transport=polling&t=OcLe7Ji&sid=gORM3qUa02UghnyWAACi HTTP/1.1\" 200 -\n",
      "127.0.0.1 - - [26/Jul/2023 21:34:30] \"GET /socket.io/?EIO=4&transport=polling&t=OcLe1oB&sid=ErCGIKNZnl8GvCHQAACG HTTP/1.1\" 200 -\n",
      "127.0.0.1 - - [26/Jul/2023 21:34:30] \"POST /socket.io/?EIO=4&transport=polling&t=OcLe7uy&sid=ErCGIKNZnl8GvCHQAACG HTTP/1.1\" 200 -\n",
      "127.0.0.1 - - [26/Jul/2023 21:34:53] \"GET /socket.io/?EIO=4&transport=polling&t=OcLe7Jz&sid=gORM3qUa02UghnyWAACi HTTP/1.1\" 200 -\n",
      "127.0.0.1 - - [26/Jul/2023 21:34:53] \"POST /socket.io/?EIO=4&transport=polling&t=OcLeDQQ&sid=gORM3qUa02UghnyWAACi HTTP/1.1\" 200 -\n",
      "127.0.0.1 - - [26/Jul/2023 21:34:55] \"GET /socket.io/?EIO=4&transport=polling&t=OcLe7uz&sid=ErCGIKNZnl8GvCHQAACG HTTP/1.1\" 200 -\n",
      "127.0.0.1 - - [26/Jul/2023 21:34:55] \"POST /socket.io/?EIO=4&transport=polling&t=OcLeD_l&sid=ErCGIKNZnl8GvCHQAACG HTTP/1.1\" 200 -\n",
      "127.0.0.1 - - [26/Jul/2023 21:35:18] \"GET /socket.io/?EIO=4&transport=polling&t=OcLeDQR&sid=gORM3qUa02UghnyWAACi HTTP/1.1\" 200 -\n",
      "127.0.0.1 - - [26/Jul/2023 21:35:18] \"POST /socket.io/?EIO=4&transport=polling&t=OcLeJXE&sid=gORM3qUa02UghnyWAACi HTTP/1.1\" 200 -\n",
      "127.0.0.1 - - [26/Jul/2023 21:35:20] \"GET /socket.io/?EIO=4&transport=polling&t=OcLeD_l.0&sid=ErCGIKNZnl8GvCHQAACG HTTP/1.1\" 200 -\n",
      "127.0.0.1 - - [26/Jul/2023 21:35:20] \"POST /socket.io/?EIO=4&transport=polling&t=OcLeK6V&sid=ErCGIKNZnl8GvCHQAACG HTTP/1.1\" 200 -\n",
      "127.0.0.1 - - [26/Jul/2023 21:35:43] \"GET /socket.io/?EIO=4&transport=polling&t=OcLeJXF&sid=gORM3qUa02UghnyWAACi HTTP/1.1\" 200 -\n",
      "127.0.0.1 - - [26/Jul/2023 21:35:43] \"POST /socket.io/?EIO=4&transport=polling&t=OcLePdy&sid=gORM3qUa02UghnyWAACi HTTP/1.1\" 200 -\n",
      "127.0.0.1 - - [26/Jul/2023 21:35:45] \"GET /socket.io/?EIO=4&transport=polling&t=OcLeK6W&sid=ErCGIKNZnl8GvCHQAACG HTTP/1.1\" 200 -\n",
      "127.0.0.1 - - [26/Jul/2023 21:35:45] \"POST /socket.io/?EIO=4&transport=polling&t=OcLeQDL&sid=ErCGIKNZnl8GvCHQAACG HTTP/1.1\" 200 -\n",
      "127.0.0.1 - - [26/Jul/2023 21:36:08] \"GET /socket.io/?EIO=4&transport=polling&t=OcLePdy.0&sid=gORM3qUa02UghnyWAACi HTTP/1.1\" 200 -\n",
      "127.0.0.1 - - [26/Jul/2023 21:36:08] \"POST /socket.io/?EIO=4&transport=polling&t=OcLeVkg&sid=gORM3qUa02UghnyWAACi HTTP/1.1\" 200 -\n",
      "127.0.0.1 - - [26/Jul/2023 21:36:10] \"POST /socket.io/?EIO=4&transport=polling&t=OcLeWEi&sid=gORM3qUa02UghnyWAACi HTTP/1.1\" 200 -\n",
      "127.0.0.1 - - [26/Jul/2023 21:36:10] \"GET /socket.io/?EIO=4&transport=polling&t=OcLeVkh&sid=gORM3qUa02UghnyWAACi HTTP/1.1\" 200 -\n",
      "127.0.0.1 - - [26/Jul/2023 21:36:10] \"GET /socket.io/?EIO=4&transport=polling&t=OcLeWFE HTTP/1.1\" 200 -\n",
      "127.0.0.1 - - [26/Jul/2023 21:36:10] \"POST /socket.io/?EIO=4&transport=polling&t=OcLeWFY&sid=QY67BhMsNB4yzrbeAACk HTTP/1.1\" 200 -\n",
      "127.0.0.1 - - [26/Jul/2023 21:36:10] \"GET /socket.io/?EIO=4&transport=polling&t=OcLeWFY.0&sid=QY67BhMsNB4yzrbeAACk HTTP/1.1\" 200 -\n",
      "127.0.0.1 - - [26/Jul/2023 21:36:10] \"GET /socket.io/?EIO=4&transport=polling&t=OcLeQDM&sid=ErCGIKNZnl8GvCHQAACG HTTP/1.1\" 200 -\n",
      "127.0.0.1 - - [26/Jul/2023 21:36:10] \"POST /socket.io/?EIO=4&transport=polling&t=OcLeWK8&sid=ErCGIKNZnl8GvCHQAACG HTTP/1.1\" 200 -\n",
      "127.0.0.1 - - [26/Jul/2023 21:36:26] \"POST /socket.io/?EIO=4&transport=polling&t=OcLeaAc&sid=QY67BhMsNB4yzrbeAACk HTTP/1.1\" 200 -\n",
      "127.0.0.1 - - [26/Jul/2023 21:36:26] \"GET /socket.io/?EIO=4&transport=polling&t=OcLeWFh&sid=QY67BhMsNB4yzrbeAACk HTTP/1.1\" 200 -\n",
      "127.0.0.1 - - [26/Jul/2023 21:36:26] \"GET /socket.io/?EIO=4&transport=polling&t=OcLeaB8 HTTP/1.1\" 200 -\n",
      "127.0.0.1 - - [26/Jul/2023 21:36:26] \"POST /socket.io/?EIO=4&transport=polling&t=OcLeaBC&sid=waWTWcCdzbqXyasyAACm HTTP/1.1\" 200 -\n",
      "127.0.0.1 - - [26/Jul/2023 21:36:26] \"GET /socket.io/?EIO=4&transport=polling&t=OcLeaBC.0&sid=waWTWcCdzbqXyasyAACm HTTP/1.1\" 200 -\n",
      "127.0.0.1 - - [26/Jul/2023 21:36:35] \"GET /socket.io/?EIO=4&transport=polling&t=OcLeWK9&sid=ErCGIKNZnl8GvCHQAACG HTTP/1.1\" 200 -\n",
      "127.0.0.1 - - [26/Jul/2023 21:36:35] \"POST /socket.io/?EIO=4&transport=polling&t=OcLecQx&sid=ErCGIKNZnl8GvCHQAACG HTTP/1.1\" 200 -\n",
      "127.0.0.1 - - [26/Jul/2023 21:36:51] \"GET /socket.io/?EIO=4&transport=polling&t=OcLeaBW&sid=waWTWcCdzbqXyasyAACm HTTP/1.1\" 200 -\n",
      "127.0.0.1 - - [26/Jul/2023 21:36:51] \"POST /socket.io/?EIO=4&transport=polling&t=OcLegHs&sid=waWTWcCdzbqXyasyAACm HTTP/1.1\" 200 -\n",
      "127.0.0.1 - - [26/Jul/2023 21:36:58] \"POST /socket.io/?EIO=4&transport=polling&t=OcLei7Y&sid=waWTWcCdzbqXyasyAACm HTTP/1.1\" 200 -\n",
      "127.0.0.1 - - [26/Jul/2023 21:36:58] \"GET /socket.io/?EIO=4&transport=polling&t=OcLegHt&sid=waWTWcCdzbqXyasyAACm HTTP/1.1\" 200 -\n",
      "127.0.0.1 - - [26/Jul/2023 21:36:59] \"GET /socket.io/?EIO=4&transport=polling&t=OcLei82 HTTP/1.1\" 200 -\n",
      "127.0.0.1 - - [26/Jul/2023 21:36:59] \"POST /socket.io/?EIO=4&transport=polling&t=OcLei86&sid=SNVbGCP0AEBvHWCjAACo HTTP/1.1\" 200 -\n",
      "127.0.0.1 - - [26/Jul/2023 21:36:59] \"GET /socket.io/?EIO=4&transport=polling&t=OcLei86.0&sid=SNVbGCP0AEBvHWCjAACo HTTP/1.1\" 200 -\n",
      "127.0.0.1 - - [26/Jul/2023 21:37:00] \"GET /socket.io/?EIO=4&transport=polling&t=OcLecQy&sid=ErCGIKNZnl8GvCHQAACG HTTP/1.1\" 200 -\n",
      "127.0.0.1 - - [26/Jul/2023 21:37:00] \"POST /socket.io/?EIO=4&transport=polling&t=OcLeiXn&sid=ErCGIKNZnl8GvCHQAACG HTTP/1.1\" 200 -\n",
      "127.0.0.1 - - [26/Jul/2023 21:37:24] \"GET /socket.io/?EIO=4&transport=polling&t=OcLei8T&sid=SNVbGCP0AEBvHWCjAACo HTTP/1.1\" 200 -\n",
      "127.0.0.1 - - [26/Jul/2023 21:37:24] \"POST /socket.io/?EIO=4&transport=polling&t=OcLeoEm&sid=SNVbGCP0AEBvHWCjAACo HTTP/1.1\" 200 -\n",
      "127.0.0.1 - - [26/Jul/2023 21:37:25] \"GET /socket.io/?EIO=4&transport=polling&t=OcLeiXo&sid=ErCGIKNZnl8GvCHQAACG HTTP/1.1\" 200 -\n",
      "127.0.0.1 - - [26/Jul/2023 21:37:25] \"POST /socket.io/?EIO=4&transport=polling&t=OcLeoed&sid=ErCGIKNZnl8GvCHQAACG HTTP/1.1\" 200 -\n",
      "127.0.0.1 - - [26/Jul/2023 21:37:49] \"GET /socket.io/?EIO=4&transport=polling&t=OcLeoEm.0&sid=SNVbGCP0AEBvHWCjAACo HTTP/1.1\" 200 -\n",
      "127.0.0.1 - - [26/Jul/2023 21:37:49] \"POST /socket.io/?EIO=4&transport=polling&t=OcLeuLX&sid=SNVbGCP0AEBvHWCjAACo HTTP/1.1\" 200 -\n",
      "127.0.0.1 - - [26/Jul/2023 21:37:50] \"GET /socket.io/?EIO=4&transport=polling&t=OcLeoee&sid=ErCGIKNZnl8GvCHQAACG HTTP/1.1\" 200 -\n",
      "127.0.0.1 - - [26/Jul/2023 21:37:50] \"POST /socket.io/?EIO=4&transport=polling&t=OcLeulR&sid=ErCGIKNZnl8GvCHQAACG HTTP/1.1\" 200 -\n",
      "127.0.0.1 - - [26/Jul/2023 21:38:14] \"GET /socket.io/?EIO=4&transport=polling&t=OcLeuLY&sid=SNVbGCP0AEBvHWCjAACo HTTP/1.1\" 200 -\n",
      "127.0.0.1 - - [26/Jul/2023 21:38:14] \"POST /socket.io/?EIO=4&transport=polling&t=OcLe-SO&sid=SNVbGCP0AEBvHWCjAACo HTTP/1.1\" 200 -\n",
      "127.0.0.1 - - [26/Jul/2023 21:38:15] \"GET /socket.io/?EIO=4&transport=polling&t=OcLeulS&sid=ErCGIKNZnl8GvCHQAACG HTTP/1.1\" 200 -\n",
      "127.0.0.1 - - [26/Jul/2023 21:38:15] \"POST /socket.io/?EIO=4&transport=polling&t=OcLe-sG&sid=ErCGIKNZnl8GvCHQAACG HTTP/1.1\" 200 -\n",
      "127.0.0.1 - - [26/Jul/2023 21:38:39] \"GET /socket.io/?EIO=4&transport=polling&t=OcLe-SO.0&sid=SNVbGCP0AEBvHWCjAACo HTTP/1.1\" 200 -\n",
      "127.0.0.1 - - [26/Jul/2023 21:38:39] \"POST /socket.io/?EIO=4&transport=polling&t=OcLf4Z7&sid=SNVbGCP0AEBvHWCjAACo HTTP/1.1\" 200 -\n",
      "127.0.0.1 - - [26/Jul/2023 21:38:40] \"GET /socket.io/?EIO=4&transport=polling&t=OcLe-sH&sid=ErCGIKNZnl8GvCHQAACG HTTP/1.1\" 200 -\n",
      "127.0.0.1 - - [26/Jul/2023 21:38:40] \"POST /socket.io/?EIO=4&transport=polling&t=OcLf4z0&sid=ErCGIKNZnl8GvCHQAACG HTTP/1.1\" 200 -\n",
      "127.0.0.1 - - [26/Jul/2023 21:39:04] \"GET /socket.io/?EIO=4&transport=polling&t=OcLf4Z7.0&sid=SNVbGCP0AEBvHWCjAACo HTTP/1.1\" 200 -\n",
      "127.0.0.1 - - [26/Jul/2023 21:39:04] \"POST /socket.io/?EIO=4&transport=polling&t=OcLfAfw&sid=SNVbGCP0AEBvHWCjAACo HTTP/1.1\" 200 -\n",
      "127.0.0.1 - - [26/Jul/2023 21:39:05] \"GET /socket.io/?EIO=4&transport=polling&t=OcLf4z1&sid=ErCGIKNZnl8GvCHQAACG HTTP/1.1\" 200 -\n",
      "127.0.0.1 - - [26/Jul/2023 21:39:05] \"POST /socket.io/?EIO=4&transport=polling&t=OcLfB3t&sid=ErCGIKNZnl8GvCHQAACG HTTP/1.1\" 200 -\n",
      "127.0.0.1 - - [26/Jul/2023 21:39:29] \"GET /socket.io/?EIO=4&transport=polling&t=OcLfAfw.0&sid=SNVbGCP0AEBvHWCjAACo HTTP/1.1\" 200 -\n",
      "127.0.0.1 - - [26/Jul/2023 21:39:29] \"POST /socket.io/?EIO=4&transport=polling&t=OcLfGmi&sid=SNVbGCP0AEBvHWCjAACo HTTP/1.1\" 200 -\n",
      "127.0.0.1 - - [26/Jul/2023 21:39:30] \"GET /socket.io/?EIO=4&transport=polling&t=OcLfB3u&sid=ErCGIKNZnl8GvCHQAACG HTTP/1.1\" 200 -\n",
      "127.0.0.1 - - [26/Jul/2023 21:39:30] \"POST /socket.io/?EIO=4&transport=polling&t=OcLfHAg&sid=ErCGIKNZnl8GvCHQAACG HTTP/1.1\" 200 -\n",
      "127.0.0.1 - - [26/Jul/2023 21:39:54] \"GET /socket.io/?EIO=4&transport=polling&t=OcLfGmi.0&sid=SNVbGCP0AEBvHWCjAACo HTTP/1.1\" 200 -\n",
      "127.0.0.1 - - [26/Jul/2023 21:39:54] \"POST /socket.io/?EIO=4&transport=polling&t=OcLfMtW&sid=SNVbGCP0AEBvHWCjAACo HTTP/1.1\" 200 -\n",
      "127.0.0.1 - - [26/Jul/2023 21:39:55] \"GET /socket.io/?EIO=4&transport=polling&t=OcLfHAh&sid=ErCGIKNZnl8GvCHQAACG HTTP/1.1\" 200 -\n",
      "127.0.0.1 - - [26/Jul/2023 21:39:55] \"POST /socket.io/?EIO=4&transport=polling&t=OcLfNHU&sid=ErCGIKNZnl8GvCHQAACG HTTP/1.1\" 200 -\n",
      "127.0.0.1 - - [26/Jul/2023 21:40:19] \"GET /socket.io/?EIO=4&transport=polling&t=OcLfMtW.0&sid=SNVbGCP0AEBvHWCjAACo HTTP/1.1\" 200 -\n",
      "127.0.0.1 - - [26/Jul/2023 21:40:19] \"POST /socket.io/?EIO=4&transport=polling&t=OcLfS-K&sid=SNVbGCP0AEBvHWCjAACo HTTP/1.1\" 200 -\n",
      "127.0.0.1 - - [26/Jul/2023 21:40:20] \"GET /socket.io/?EIO=4&transport=polling&t=OcLfNHV&sid=ErCGIKNZnl8GvCHQAACG HTTP/1.1\" 200 -\n",
      "127.0.0.1 - - [26/Jul/2023 21:40:20] \"POST /socket.io/?EIO=4&transport=polling&t=OcLfTOH&sid=ErCGIKNZnl8GvCHQAACG HTTP/1.1\" 200 -\n",
      "127.0.0.1 - - [26/Jul/2023 21:40:44] \"GET /socket.io/?EIO=4&transport=polling&t=OcLfS-K.0&sid=SNVbGCP0AEBvHWCjAACo HTTP/1.1\" 200 -\n",
      "127.0.0.1 - - [26/Jul/2023 21:40:44] \"POST /socket.io/?EIO=4&transport=polling&t=OcLfZ58&sid=SNVbGCP0AEBvHWCjAACo HTTP/1.1\" 200 -\n",
      "127.0.0.1 - - [26/Jul/2023 21:40:45] \"GET /socket.io/?EIO=4&transport=polling&t=OcLfTOI&sid=ErCGIKNZnl8GvCHQAACG HTTP/1.1\" 200 -\n",
      "127.0.0.1 - - [26/Jul/2023 21:40:45] \"POST /socket.io/?EIO=4&transport=polling&t=OcLfZV5&sid=ErCGIKNZnl8GvCHQAACG HTTP/1.1\" 200 -\n",
      "127.0.0.1 - - [26/Jul/2023 21:41:09] \"GET /socket.io/?EIO=4&transport=polling&t=OcLfZ58.0&sid=SNVbGCP0AEBvHWCjAACo HTTP/1.1\" 200 -\n",
      "127.0.0.1 - - [26/Jul/2023 21:41:09] \"POST /socket.io/?EIO=4&transport=polling&t=OcLffBx&sid=SNVbGCP0AEBvHWCjAACo HTTP/1.1\" 200 -\n",
      "127.0.0.1 - - [26/Jul/2023 21:41:10] \"GET /socket.io/?EIO=4&transport=polling&t=OcLfZV6&sid=ErCGIKNZnl8GvCHQAACG HTTP/1.1\" 200 -\n",
      "127.0.0.1 - - [26/Jul/2023 21:41:10] \"POST /socket.io/?EIO=4&transport=polling&t=OcLffbv&sid=ErCGIKNZnl8GvCHQAACG HTTP/1.1\" 200 -\n",
      "127.0.0.1 - - [26/Jul/2023 21:41:34] \"GET /socket.io/?EIO=4&transport=polling&t=OcLffBy&sid=SNVbGCP0AEBvHWCjAACo HTTP/1.1\" 200 -\n",
      "127.0.0.1 - - [26/Jul/2023 21:41:34] \"POST /socket.io/?EIO=4&transport=polling&t=OcLflIk&sid=SNVbGCP0AEBvHWCjAACo HTTP/1.1\" 200 -\n",
      "127.0.0.1 - - [26/Jul/2023 21:41:35] \"GET /socket.io/?EIO=4&transport=polling&t=OcLffbw&sid=ErCGIKNZnl8GvCHQAACG HTTP/1.1\" 200 -\n",
      "127.0.0.1 - - [26/Jul/2023 21:41:35] \"POST /socket.io/?EIO=4&transport=polling&t=OcLflik&sid=ErCGIKNZnl8GvCHQAACG HTTP/1.1\" 200 -\n",
      "127.0.0.1 - - [26/Jul/2023 21:41:59] \"GET /socket.io/?EIO=4&transport=polling&t=OcLflIk.0&sid=SNVbGCP0AEBvHWCjAACo HTTP/1.1\" 200 -\n",
      "127.0.0.1 - - [26/Jul/2023 21:41:59] \"POST /socket.io/?EIO=4&transport=polling&t=OcLfrPU&sid=SNVbGCP0AEBvHWCjAACo HTTP/1.1\" 200 -\n",
      "127.0.0.1 - - [26/Jul/2023 21:42:00] \"GET /socket.io/?EIO=4&transport=polling&t=OcLflil&sid=ErCGIKNZnl8GvCHQAACG HTTP/1.1\" 200 -\n",
      "127.0.0.1 - - [26/Jul/2023 21:42:00] \"POST /socket.io/?EIO=4&transport=polling&t=OcLfrpX&sid=ErCGIKNZnl8GvCHQAACG HTTP/1.1\" 200 -\n",
      "127.0.0.1 - - [26/Jul/2023 21:42:24] \"GET /socket.io/?EIO=4&transport=polling&t=OcLfrPU.0&sid=SNVbGCP0AEBvHWCjAACo HTTP/1.1\" 200 -\n",
      "127.0.0.1 - - [26/Jul/2023 21:42:24] \"POST /socket.io/?EIO=4&transport=polling&t=OcLfxWF&sid=SNVbGCP0AEBvHWCjAACo HTTP/1.1\" 200 -\n",
      "127.0.0.1 - - [26/Jul/2023 21:42:25] \"GET /socket.io/?EIO=4&transport=polling&t=OcLfrpY&sid=ErCGIKNZnl8GvCHQAACG HTTP/1.1\" 200 -\n",
      "127.0.0.1 - - [26/Jul/2023 21:42:25] \"POST /socket.io/?EIO=4&transport=polling&t=OcLfxwM&sid=ErCGIKNZnl8GvCHQAACG HTTP/1.1\" 200 -\n",
      "127.0.0.1 - - [26/Jul/2023 21:42:49] \"GET /socket.io/?EIO=4&transport=polling&t=OcLfxWG&sid=SNVbGCP0AEBvHWCjAACo HTTP/1.1\" 200 -\n",
      "127.0.0.1 - - [26/Jul/2023 21:42:49] \"POST /socket.io/?EIO=4&transport=polling&t=OcLg1db&sid=SNVbGCP0AEBvHWCjAACo HTTP/1.1\" 200 -\n",
      "127.0.0.1 - - [26/Jul/2023 21:42:50] \"GET /socket.io/?EIO=4&transport=polling&t=OcLfxwN&sid=ErCGIKNZnl8GvCHQAACG HTTP/1.1\" 200 -\n",
      "127.0.0.1 - - [26/Jul/2023 21:42:50] \"POST /socket.io/?EIO=4&transport=polling&t=OcLg219&sid=ErCGIKNZnl8GvCHQAACG HTTP/1.1\" 200 -\n",
      "127.0.0.1 - - [26/Jul/2023 21:43:14] \"GET /socket.io/?EIO=4&transport=polling&t=OcLg1dc&sid=SNVbGCP0AEBvHWCjAACo HTTP/1.1\" 200 -\n",
      "127.0.0.1 - - [26/Jul/2023 21:43:14] \"POST /socket.io/?EIO=4&transport=polling&t=OcLg7kM&sid=SNVbGCP0AEBvHWCjAACo HTTP/1.1\" 200 -\n",
      "127.0.0.1 - - [26/Jul/2023 21:43:15] \"GET /socket.io/?EIO=4&transport=polling&t=OcLg21A&sid=ErCGIKNZnl8GvCHQAACG HTTP/1.1\" 200 -\n",
      "127.0.0.1 - - [26/Jul/2023 21:43:15] \"POST /socket.io/?EIO=4&transport=polling&t=OcLg87y&sid=ErCGIKNZnl8GvCHQAACG HTTP/1.1\" 200 -\n",
      "127.0.0.1 - - [26/Jul/2023 21:43:39] \"GET /socket.io/?EIO=4&transport=polling&t=OcLg7kN&sid=SNVbGCP0AEBvHWCjAACo HTTP/1.1\" 200 -\n",
      "127.0.0.1 - - [26/Jul/2023 21:43:39] \"POST /socket.io/?EIO=4&transport=polling&t=OcLgDr7&sid=SNVbGCP0AEBvHWCjAACo HTTP/1.1\" 200 -\n",
      "127.0.0.1 - - [26/Jul/2023 21:43:40] \"GET /socket.io/?EIO=4&transport=polling&t=OcLg87z&sid=ErCGIKNZnl8GvCHQAACG HTTP/1.1\" 200 -\n",
      "127.0.0.1 - - [26/Jul/2023 21:43:40] \"POST /socket.io/?EIO=4&transport=polling&t=OcLgEEh&sid=ErCGIKNZnl8GvCHQAACG HTTP/1.1\" 200 -\n",
      "127.0.0.1 - - [26/Jul/2023 21:44:04] \"GET /socket.io/?EIO=4&transport=polling&t=OcLgDr7.0&sid=SNVbGCP0AEBvHWCjAACo HTTP/1.1\" 200 -\n",
      "127.0.0.1 - - [26/Jul/2023 21:44:04] \"POST /socket.io/?EIO=4&transport=polling&t=OcLgJxw&sid=SNVbGCP0AEBvHWCjAACo HTTP/1.1\" 200 -\n",
      "127.0.0.1 - - [26/Jul/2023 21:44:05] \"GET /socket.io/?EIO=4&transport=polling&t=OcLgEEi&sid=ErCGIKNZnl8GvCHQAACG HTTP/1.1\" 200 -\n",
      "127.0.0.1 - - [26/Jul/2023 21:44:05] \"POST /socket.io/?EIO=4&transport=polling&t=OcLgKLT&sid=ErCGIKNZnl8GvCHQAACG HTTP/1.1\" 200 -\n",
      "127.0.0.1 - - [26/Jul/2023 21:44:29] \"GET /socket.io/?EIO=4&transport=polling&t=OcLgJxx&sid=SNVbGCP0AEBvHWCjAACo HTTP/1.1\" 200 -\n",
      "127.0.0.1 - - [26/Jul/2023 21:44:29] \"POST /socket.io/?EIO=4&transport=polling&t=OcLgQ2h&sid=SNVbGCP0AEBvHWCjAACo HTTP/1.1\" 200 -\n",
      "127.0.0.1 - - [26/Jul/2023 21:44:30] \"GET /socket.io/?EIO=4&transport=polling&t=OcLgKLU&sid=ErCGIKNZnl8GvCHQAACG HTTP/1.1\" 200 -\n",
      "127.0.0.1 - - [26/Jul/2023 21:44:30] \"POST /socket.io/?EIO=4&transport=polling&t=OcLgQSE&sid=ErCGIKNZnl8GvCHQAACG HTTP/1.1\" 200 -\n",
      "127.0.0.1 - - [26/Jul/2023 21:44:54] \"GET /socket.io/?EIO=4&transport=polling&t=OcLgQ2h.0&sid=SNVbGCP0AEBvHWCjAACo HTTP/1.1\" 200 -\n",
      "127.0.0.1 - - [26/Jul/2023 21:44:54] \"POST /socket.io/?EIO=4&transport=polling&t=OcLgW9T&sid=SNVbGCP0AEBvHWCjAACo HTTP/1.1\" 200 -\n",
      "127.0.0.1 - - [26/Jul/2023 21:44:55] \"GET /socket.io/?EIO=4&transport=polling&t=OcLgQSF&sid=ErCGIKNZnl8GvCHQAACG HTTP/1.1\" 200 -\n",
      "127.0.0.1 - - [26/Jul/2023 21:44:55] \"POST /socket.io/?EIO=4&transport=polling&t=OcLgWZ0&sid=ErCGIKNZnl8GvCHQAACG HTTP/1.1\" 200 -\n",
      "127.0.0.1 - - [26/Jul/2023 21:45:19] \"GET /socket.io/?EIO=4&transport=polling&t=OcLgW9T.0&sid=SNVbGCP0AEBvHWCjAACo HTTP/1.1\" 200 -\n",
      "127.0.0.1 - - [26/Jul/2023 21:45:19] \"POST /socket.io/?EIO=4&transport=polling&t=OcLgcGE&sid=SNVbGCP0AEBvHWCjAACo HTTP/1.1\" 200 -\n",
      "127.0.0.1 - - [26/Jul/2023 21:45:20] \"GET /socket.io/?EIO=4&transport=polling&t=OcLgWZ1&sid=ErCGIKNZnl8GvCHQAACG HTTP/1.1\" 200 -\n",
      "127.0.0.1 - - [26/Jul/2023 21:45:20] \"POST /socket.io/?EIO=4&transport=polling&t=OcLgcfm&sid=ErCGIKNZnl8GvCHQAACG HTTP/1.1\" 200 -\n",
      "127.0.0.1 - - [26/Jul/2023 21:45:44] \"GET /socket.io/?EIO=4&transport=polling&t=OcLgcGF&sid=SNVbGCP0AEBvHWCjAACo HTTP/1.1\" 200 -\n",
      "127.0.0.1 - - [26/Jul/2023 21:45:44] \"POST /socket.io/?EIO=4&transport=polling&t=OcLgiN2&sid=SNVbGCP0AEBvHWCjAACo HTTP/1.1\" 200 -\n",
      "127.0.0.1 - - [26/Jul/2023 21:45:45] \"GET /socket.io/?EIO=4&transport=polling&t=OcLgcfn&sid=ErCGIKNZnl8GvCHQAACG HTTP/1.1\" 200 -\n",
      "127.0.0.1 - - [26/Jul/2023 21:45:45] \"POST /socket.io/?EIO=4&transport=polling&t=OcLgima&sid=ErCGIKNZnl8GvCHQAACG HTTP/1.1\" 200 -\n",
      "127.0.0.1 - - [26/Jul/2023 21:45:54] \"POST /socket.io/?EIO=4&transport=polling&t=OcLgkwV&sid=SNVbGCP0AEBvHWCjAACo HTTP/1.1\" 200 -\n"
     ]
    },
    {
     "name": "stdout",
     "output_type": "stream",
     "text": [
      "{'selectedCardIndices': [0]}\n"
     ]
    },
    {
     "name": "stderr",
     "output_type": "stream",
     "text": [
      "127.0.0.1 - - [26/Jul/2023 21:45:55] \"POST /socket.io/?EIO=4&transport=polling&t=OcLgk_e&sid=SNVbGCP0AEBvHWCjAACo HTTP/1.1\" 200 -\n",
      "127.0.0.1 - - [26/Jul/2023 21:45:55] \"GET /socket.io/?EIO=4&transport=polling&t=OcLgiN2.0&sid=SNVbGCP0AEBvHWCjAACo HTTP/1.1\" 200 -\n"
     ]
    },
    {
     "name": "stdout",
     "output_type": "stream",
     "text": [
      "{'selectedCardIndices': [0, 1]}\n",
      "WIN\n"
     ]
    },
    {
     "name": "stderr",
     "output_type": "stream",
     "text": [
      "127.0.0.1 - - [26/Jul/2023 21:45:56] \"POST /socket.io/?EIO=4&transport=polling&t=OcLglPA&sid=SNVbGCP0AEBvHWCjAACo HTTP/1.1\" 200 -\n"
     ]
    },
    {
     "name": "stdout",
     "output_type": "stream",
     "text": [
      "{'selectedCardIndices': [1]}\n"
     ]
    },
    {
     "name": "stderr",
     "output_type": "stream",
     "text": [
      "127.0.0.1 - - [26/Jul/2023 21:45:57] \"POST /socket.io/?EIO=4&transport=polling&t=OcLglac&sid=SNVbGCP0AEBvHWCjAACo HTTP/1.1\" 200 -\n"
     ]
    },
    {
     "name": "stdout",
     "output_type": "stream",
     "text": [
      "{'selectedCardIndices': [1, 3]}\n"
     ]
    },
    {
     "name": "stderr",
     "output_type": "stream",
     "text": [
      "127.0.0.1 - - [26/Jul/2023 21:45:58] \"POST /socket.io/?EIO=4&transport=polling&t=OcLgln7&sid=SNVbGCP0AEBvHWCjAACo HTTP/1.1\" 200 -\n",
      "127.0.0.1 - - [26/Jul/2023 21:45:58] \"GET /socket.io/?EIO=4&transport=polling&t=OcLgk_n&sid=SNVbGCP0AEBvHWCjAACo HTTP/1.1\" 200 -\n"
     ]
    },
    {
     "name": "stdout",
     "output_type": "stream",
     "text": [
      "{'selectedCardIndices': [1, 3, 0]}\n",
      "WIN\n"
     ]
    },
    {
     "name": "stderr",
     "output_type": "stream",
     "text": [
      "127.0.0.1 - - [26/Jul/2023 21:45:59] \"POST /socket.io/?EIO=4&transport=polling&t=OcLgm5z&sid=SNVbGCP0AEBvHWCjAACo HTTP/1.1\" 200 -\n"
     ]
    },
    {
     "name": "stdout",
     "output_type": "stream",
     "text": [
      "{'selectedCardIndices': [0]}\n"
     ]
    },
    {
     "name": "stderr",
     "output_type": "stream",
     "text": [
      "127.0.0.1 - - [26/Jul/2023 21:46:00] \"GET /socket.io/?EIO=4&transport=polling&t=OcLglnF&sid=SNVbGCP0AEBvHWCjAACo HTTP/1.1\" 200 -\n",
      "127.0.0.1 - - [26/Jul/2023 21:46:00] \"POST /socket.io/?EIO=4&transport=polling&t=OcLgmDW&sid=SNVbGCP0AEBvHWCjAACo HTTP/1.1\" 200 -\n"
     ]
    },
    {
     "name": "stdout",
     "output_type": "stream",
     "text": [
      "{'selectedCardIndices': [0, 2]}\n",
      "WIN\n"
     ]
    },
    {
     "name": "stderr",
     "output_type": "stream",
     "text": [
      "127.0.0.1 - - [26/Jul/2023 21:46:01] \"POST /socket.io/?EIO=4&transport=polling&t=OcLgmTw&sid=SNVbGCP0AEBvHWCjAACo HTTP/1.1\" 200 -\n"
     ]
    },
    {
     "name": "stdout",
     "output_type": "stream",
     "text": [
      "{'selectedCardIndices': [0]}\n"
     ]
    },
    {
     "name": "stderr",
     "output_type": "stream",
     "text": [
      "127.0.0.1 - - [26/Jul/2023 21:46:01] \"POST /socket.io/?EIO=4&transport=polling&t=OcLgmfQ&sid=SNVbGCP0AEBvHWCjAACo HTTP/1.1\" 200 -\n"
     ]
    },
    {
     "name": "stdout",
     "output_type": "stream",
     "text": [
      "{'selectedCardIndices': [0, 1]}\n"
     ]
    },
    {
     "name": "stderr",
     "output_type": "stream",
     "text": [
      "127.0.0.1 - - [26/Jul/2023 21:46:02] \"POST /socket.io/?EIO=4&transport=polling&t=OcLgmsg&sid=SNVbGCP0AEBvHWCjAACo HTTP/1.1\" 200 -\n"
     ]
    },
    {
     "name": "stdout",
     "output_type": "stream",
     "text": [
      "{'selectedCardIndices': [0, 1, 3]}\n"
     ]
    },
    {
     "name": "stderr",
     "output_type": "stream",
     "text": [
      "127.0.0.1 - - [26/Jul/2023 21:46:03] \"POST /socket.io/?EIO=4&transport=polling&t=OcLgm-D&sid=SNVbGCP0AEBvHWCjAACo HTTP/1.1\" 200 -\n"
     ]
    },
    {
     "name": "stdout",
     "output_type": "stream",
     "text": [
      "{'selectedCardIndices': [0, 1, 3, 2]}\n"
     ]
    },
    {
     "name": "stderr",
     "output_type": "stream",
     "text": [
      "127.0.0.1 - - [26/Jul/2023 21:46:03] \"POST /socket.io/?EIO=4&transport=polling&t=OcLgn9Q&sid=SNVbGCP0AEBvHWCjAACo HTTP/1.1\" 200 -\n"
     ]
    },
    {
     "name": "stdout",
     "output_type": "stream",
     "text": [
      "{'selectedCardIndices': [1, 3, 2]}\n"
     ]
    },
    {
     "name": "stderr",
     "output_type": "stream",
     "text": [
      "127.0.0.1 - - [26/Jul/2023 21:46:04] \"POST /socket.io/?EIO=4&transport=polling&t=OcLgnEM&sid=SNVbGCP0AEBvHWCjAACo HTTP/1.1\" 200 -\n",
      "127.0.0.1 - - [26/Jul/2023 21:46:04] \"GET /socket.io/?EIO=4&transport=polling&t=OcLgmDd&sid=SNVbGCP0AEBvHWCjAACo HTTP/1.1\" 200 -\n"
     ]
    },
    {
     "name": "stdout",
     "output_type": "stream",
     "text": [
      "{'selectedCardIndices': [3, 2]}\n",
      "WIN\n"
     ]
    },
    {
     "name": "stderr",
     "output_type": "stream",
     "text": [
      "127.0.0.1 - - [26/Jul/2023 21:46:05] \"POST /socket.io/?EIO=4&transport=polling&t=OcLgnW4&sid=SNVbGCP0AEBvHWCjAACo HTTP/1.1\" 200 -\n"
     ]
    },
    {
     "name": "stdout",
     "output_type": "stream",
     "text": [
      "{'selectedCardIndices': [2]}\n"
     ]
    },
    {
     "name": "stderr",
     "output_type": "stream",
     "text": [
      "127.0.0.1 - - [26/Jul/2023 21:46:05] \"POST /socket.io/?EIO=4&transport=polling&t=OcLgncs&sid=SNVbGCP0AEBvHWCjAACo HTTP/1.1\" 200 -\n"
     ]
    },
    {
     "name": "stdout",
     "output_type": "stream",
     "text": [
      "{'selectedCardIndices': [2, 1]}\n"
     ]
    },
    {
     "name": "stderr",
     "output_type": "stream",
     "text": [
      "127.0.0.1 - - [26/Jul/2023 21:46:06] \"POST /socket.io/?EIO=4&transport=polling&t=OcLgnlz&sid=SNVbGCP0AEBvHWCjAACo HTTP/1.1\" 200 -\n"
     ]
    },
    {
     "name": "stdout",
     "output_type": "stream",
     "text": [
      "{'selectedCardIndices': [2, 1, 3]}\n"
     ]
    },
    {
     "name": "stderr",
     "output_type": "stream",
     "text": [
      "127.0.0.1 - - [26/Jul/2023 21:46:06] \"POST /socket.io/?EIO=4&transport=polling&t=OcLgnv4&sid=SNVbGCP0AEBvHWCjAACo HTTP/1.1\" 200 -\n"
     ]
    },
    {
     "name": "stdout",
     "output_type": "stream",
     "text": [
      "{'selectedCardIndices': [1, 3]}\n"
     ]
    },
    {
     "name": "stderr",
     "output_type": "stream",
     "text": [
      "127.0.0.1 - - [26/Jul/2023 21:46:07] \"POST /socket.io/?EIO=4&transport=polling&t=OcLgo0u&sid=SNVbGCP0AEBvHWCjAACo HTTP/1.1\" 200 -\n"
     ]
    },
    {
     "name": "stdout",
     "output_type": "stream",
     "text": [
      "{'selectedCardIndices': [1, 3, 0]}\n"
     ]
    },
    {
     "name": "stderr",
     "output_type": "stream",
     "text": [
      "127.0.0.1 - - [26/Jul/2023 21:46:07] \"POST /socket.io/?EIO=4&transport=polling&t=OcLgo8S&sid=SNVbGCP0AEBvHWCjAACo HTTP/1.1\" 200 -\n"
     ]
    },
    {
     "name": "stdout",
     "output_type": "stream",
     "text": [
      "{'selectedCardIndices': [3, 0]}\n"
     ]
    },
    {
     "name": "stderr",
     "output_type": "stream",
     "text": [
      "127.0.0.1 - - [26/Jul/2023 21:46:08] \"POST /socket.io/?EIO=4&transport=polling&t=OcLgoFU&sid=SNVbGCP0AEBvHWCjAACo HTTP/1.1\" 200 -\n",
      "127.0.0.1 - - [26/Jul/2023 21:46:08] \"GET /socket.io/?EIO=4&transport=polling&t=OcLgnEV&sid=SNVbGCP0AEBvHWCjAACo HTTP/1.1\" 200 -\n"
     ]
    },
    {
     "name": "stdout",
     "output_type": "stream",
     "text": [
      "{'selectedCardIndices': [3, 0, 2]}\n",
      "WIN\n"
     ]
    },
    {
     "name": "stderr",
     "output_type": "stream",
     "text": [
      "127.0.0.1 - - [26/Jul/2023 21:46:09] \"GET /socket.io/?EIO=4&transport=polling&t=OcLgoFd&sid=SNVbGCP0AEBvHWCjAACo HTTP/1.1\" 200 -\n",
      "127.0.0.1 - - [26/Jul/2023 21:46:09] \"POST /socket.io/?EIO=4&transport=polling&t=OcLgoTm&sid=SNVbGCP0AEBvHWCjAACo HTTP/1.1\" 200 -\n",
      "127.0.0.1 - - [26/Jul/2023 21:46:10] \"GET /socket.io/?EIO=4&transport=polling&t=OcLgimb&sid=ErCGIKNZnl8GvCHQAACG HTTP/1.1\" 200 -\n",
      "127.0.0.1 - - [26/Jul/2023 21:46:10] \"POST /socket.io/?EIO=4&transport=polling&t=OcLgotP&sid=ErCGIKNZnl8GvCHQAACG HTTP/1.1\" 200 -\n",
      "127.0.0.1 - - [26/Jul/2023 21:46:34] \"GET /socket.io/?EIO=4&transport=polling&t=OcLgoTn&sid=SNVbGCP0AEBvHWCjAACo HTTP/1.1\" 200 -\n",
      "127.0.0.1 - - [26/Jul/2023 21:46:34] \"POST /socket.io/?EIO=4&transport=polling&t=OcLguaY&sid=SNVbGCP0AEBvHWCjAACo HTTP/1.1\" 200 -\n",
      "127.0.0.1 - - [26/Jul/2023 21:46:35] \"GET /socket.io/?EIO=4&transport=polling&t=OcLgotQ&sid=ErCGIKNZnl8GvCHQAACG HTTP/1.1\" 200 -\n",
      "127.0.0.1 - - [26/Jul/2023 21:46:35] \"POST /socket.io/?EIO=4&transport=polling&t=OcLgu-E&sid=ErCGIKNZnl8GvCHQAACG HTTP/1.1\" 200 -\n",
      "127.0.0.1 - - [26/Jul/2023 21:46:59] \"GET /socket.io/?EIO=4&transport=polling&t=OcLguaZ&sid=SNVbGCP0AEBvHWCjAACo HTTP/1.1\" 200 -\n",
      "127.0.0.1 - - [26/Jul/2023 21:46:59] \"POST /socket.io/?EIO=4&transport=polling&t=OcLg-hH&sid=SNVbGCP0AEBvHWCjAACo HTTP/1.1\" 200 -\n",
      "127.0.0.1 - - [26/Jul/2023 21:47:00] \"GET /socket.io/?EIO=4&transport=polling&t=OcLgu-F&sid=ErCGIKNZnl8GvCHQAACG HTTP/1.1\" 200 -\n",
      "127.0.0.1 - - [26/Jul/2023 21:47:00] \"POST /socket.io/?EIO=4&transport=polling&t=OcLg_51&sid=ErCGIKNZnl8GvCHQAACG HTTP/1.1\" 200 -\n",
      "127.0.0.1 - - [26/Jul/2023 21:47:24] \"GET /socket.io/?EIO=4&transport=polling&t=OcLg-hH.0&sid=SNVbGCP0AEBvHWCjAACo HTTP/1.1\" 200 -\n",
      "127.0.0.1 - - [26/Jul/2023 21:47:24] \"POST /socket.io/?EIO=4&transport=polling&t=OcLh4o4&sid=SNVbGCP0AEBvHWCjAACo HTTP/1.1\" 200 -\n",
      "127.0.0.1 - - [26/Jul/2023 21:47:25] \"GET /socket.io/?EIO=4&transport=polling&t=OcLg_52&sid=ErCGIKNZnl8GvCHQAACG HTTP/1.1\" 200 -\n",
      "127.0.0.1 - - [26/Jul/2023 21:47:25] \"POST /socket.io/?EIO=4&transport=polling&t=OcLh5Bo&sid=ErCGIKNZnl8GvCHQAACG HTTP/1.1\" 200 -\n",
      "127.0.0.1 - - [26/Jul/2023 21:47:49] \"GET /socket.io/?EIO=4&transport=polling&t=OcLh4o5&sid=SNVbGCP0AEBvHWCjAACo HTTP/1.1\" 200 -\n",
      "127.0.0.1 - - [26/Jul/2023 21:47:49] \"POST /socket.io/?EIO=4&transport=polling&t=OcLhAus&sid=SNVbGCP0AEBvHWCjAACo HTTP/1.1\" 200 -\n",
      "127.0.0.1 - - [26/Jul/2023 21:47:50] \"GET /socket.io/?EIO=4&transport=polling&t=OcLh5Bp&sid=ErCGIKNZnl8GvCHQAACG HTTP/1.1\" 200 -\n",
      "127.0.0.1 - - [26/Jul/2023 21:47:50] \"POST /socket.io/?EIO=4&transport=polling&t=OcLhBId&sid=ErCGIKNZnl8GvCHQAACG HTTP/1.1\" 200 -\n",
      "127.0.0.1 - - [26/Jul/2023 21:48:14] \"GET /socket.io/?EIO=4&transport=polling&t=OcLhAus.0&sid=SNVbGCP0AEBvHWCjAACo HTTP/1.1\" 200 -\n",
      "127.0.0.1 - - [26/Jul/2023 21:48:14] \"POST /socket.io/?EIO=4&transport=polling&t=OcLhG_f&sid=SNVbGCP0AEBvHWCjAACo HTTP/1.1\" 200 -\n",
      "127.0.0.1 - - [26/Jul/2023 21:48:15] \"GET /socket.io/?EIO=4&transport=polling&t=OcLhBIe&sid=ErCGIKNZnl8GvCHQAACG HTTP/1.1\" 200 -\n",
      "127.0.0.1 - - [26/Jul/2023 21:48:15] \"POST /socket.io/?EIO=4&transport=polling&t=OcLhHPS&sid=ErCGIKNZnl8GvCHQAACG HTTP/1.1\" 200 -\n",
      "127.0.0.1 - - [26/Jul/2023 21:48:23] \"POST /socket.io/?EIO=4&transport=polling&t=OcLhJDc&sid=ErCGIKNZnl8GvCHQAACG HTTP/1.1\" 200 -\n",
      "127.0.0.1 - - [26/Jul/2023 21:48:23] \"POST /socket.io/?EIO=4&transport=polling&t=OcLhJDh&sid=SNVbGCP0AEBvHWCjAACo HTTP/1.1\" 200 -\n",
      "127.0.0.1 - - [26/Jul/2023 21:48:23] \"GET /socket.io/?EIO=4&transport=polling&t=OcLhG_g&sid=SNVbGCP0AEBvHWCjAACo HTTP/1.1\" 200 -\n",
      "127.0.0.1 - - [26/Jul/2023 21:48:23] \"GET /socket.io/?EIO=4&transport=polling&t=OcLhHPT&sid=ErCGIKNZnl8GvCHQAACG HTTP/1.1\" 200 -\n",
      "127.0.0.1 - - [26/Jul/2023 21:48:25] \"GET /socket.io/?EIO=4&transport=polling&t=OcLhJnR HTTP/1.1\" 200 -\n",
      "127.0.0.1 - - [26/Jul/2023 21:48:25] \"GET /socket.io/?EIO=4&transport=polling&t=OcLhJnT HTTP/1.1\" 200 -\n",
      "127.0.0.1 - - [26/Jul/2023 21:48:25] \"POST /socket.io/?EIO=4&transport=polling&t=OcLhJnb&sid=8PffxHQKjgbuIDtDAACq HTTP/1.1\" 200 -\n",
      "127.0.0.1 - - [26/Jul/2023 21:48:25] \"GET /socket.io/?EIO=4&transport=polling&t=OcLhJnb.0&sid=8PffxHQKjgbuIDtDAACq HTTP/1.1\" 200 -\n",
      "127.0.0.1 - - [26/Jul/2023 21:48:25] \"POST /socket.io/?EIO=4&transport=polling&t=OcLhJne&sid=bQiyAe4ZCSnsySf7AACr HTTP/1.1\" 200 -\n",
      "127.0.0.1 - - [26/Jul/2023 21:48:25] \"GET /socket.io/?EIO=4&transport=polling&t=OcLhJnf&sid=bQiyAe4ZCSnsySf7AACr HTTP/1.1\" 200 -\n",
      "127.0.0.1 - - [26/Jul/2023 21:49:20] \"GET /socket.io/?EIO=4&transport=polling&t=OcLhJnp&sid=8PffxHQKjgbuIDtDAACq HTTP/1.1\" 200 -\n",
      "127.0.0.1 - - [26/Jul/2023 21:49:20] \"GET /socket.io/?EIO=4&transport=polling&t=OcLhJnw&sid=bQiyAe4ZCSnsySf7AACr HTTP/1.1\" 200 -\n",
      "127.0.0.1 - - [26/Jul/2023 21:49:20] \"POST /socket.io/?EIO=4&transport=polling&t=OcLhX2l&sid=8PffxHQKjgbuIDtDAACq HTTP/1.1\" 200 -\n",
      "127.0.0.1 - - [26/Jul/2023 21:49:20] \"POST /socket.io/?EIO=4&transport=polling&t=OcLhX2o&sid=bQiyAe4ZCSnsySf7AACr HTTP/1.1\" 200 -\n",
      "127.0.0.1 - - [26/Jul/2023 21:49:45] \"GET /socket.io/?EIO=4&transport=polling&t=OcLhX2m&sid=8PffxHQKjgbuIDtDAACq HTTP/1.1\" 200 -\n",
      "127.0.0.1 - - [26/Jul/2023 21:49:45] \"GET /socket.io/?EIO=4&transport=polling&t=OcLhX2p&sid=bQiyAe4ZCSnsySf7AACr HTTP/1.1\" 200 -\n",
      "127.0.0.1 - - [26/Jul/2023 21:49:45] \"POST /socket.io/?EIO=4&transport=polling&t=OcLhd9e&sid=8PffxHQKjgbuIDtDAACq HTTP/1.1\" 200 -\n",
      "127.0.0.1 - - [26/Jul/2023 21:49:45] \"POST /socket.io/?EIO=4&transport=polling&t=OcLhd9g&sid=bQiyAe4ZCSnsySf7AACr HTTP/1.1\" 200 -\n",
      "127.0.0.1 - - [26/Jul/2023 21:49:49] \"POST /socket.io/?EIO=4&transport=polling&t=OcLheJI&sid=bQiyAe4ZCSnsySf7AACr HTTP/1.1\" 200 -\n",
      "127.0.0.1 - - [26/Jul/2023 21:49:49] \"POST /socket.io/?EIO=4&transport=polling&t=OcLheJO&sid=8PffxHQKjgbuIDtDAACq HTTP/1.1\" 200 -\n",
      "127.0.0.1 - - [26/Jul/2023 21:49:49] \"GET /socket.io/?EIO=4&transport=polling&t=OcLhd9e.0&sid=8PffxHQKjgbuIDtDAACq HTTP/1.1\" 200 -\n",
      "127.0.0.1 - - [26/Jul/2023 21:49:49] \"GET /socket.io/?EIO=4&transport=polling&t=OcLhd9h&sid=bQiyAe4ZCSnsySf7AACr HTTP/1.1\" 200 -\n",
      "127.0.0.1 - - [26/Jul/2023 21:49:51] \"GET /socket.io/?EIO=4&transport=polling&t=OcLhecq HTTP/1.1\" 200 -\n",
      "127.0.0.1 - - [26/Jul/2023 21:49:51] \"GET /socket.io/?EIO=4&transport=polling&t=OcLhecq HTTP/1.1\" 200 -\n",
      "127.0.0.1 - - [26/Jul/2023 21:49:51] \"POST /socket.io/?EIO=4&transport=polling&t=OcLhed8&sid=cBSw51TRUGWfYt4eAACu HTTP/1.1\" 200 -\n",
      "127.0.0.1 - - [26/Jul/2023 21:49:51] \"GET /socket.io/?EIO=4&transport=polling&t=OcLhed8.0&sid=cBSw51TRUGWfYt4eAACu HTTP/1.1\" 200 -\n",
      "127.0.0.1 - - [26/Jul/2023 21:49:51] \"POST /socket.io/?EIO=4&transport=polling&t=OcLhedI&sid=bsv2p3VOcBompGaRAACv HTTP/1.1\" 200 -\n",
      "127.0.0.1 - - [26/Jul/2023 21:49:51] \"GET /socket.io/?EIO=4&transport=polling&t=OcLhedJ&sid=bsv2p3VOcBompGaRAACv HTTP/1.1\" 200 -\n",
      "127.0.0.1 - - [26/Jul/2023 21:50:16] \"GET /socket.io/?EIO=4&transport=polling&t=OcLhedO&sid=cBSw51TRUGWfYt4eAACu HTTP/1.1\" 200 -\n",
      "127.0.0.1 - - [26/Jul/2023 21:50:16] \"GET /socket.io/?EIO=4&transport=polling&t=OcLhedV&sid=bsv2p3VOcBompGaRAACv HTTP/1.1\" 200 -\n",
      "127.0.0.1 - - [26/Jul/2023 21:50:16] \"POST /socket.io/?EIO=4&transport=polling&t=OcLhkjo&sid=cBSw51TRUGWfYt4eAACu HTTP/1.1\" 200 -\n",
      "127.0.0.1 - - [26/Jul/2023 21:50:16] \"POST /socket.io/?EIO=4&transport=polling&t=OcLhkjs&sid=bsv2p3VOcBompGaRAACv HTTP/1.1\" 200 -\n",
      "127.0.0.1 - - [26/Jul/2023 21:50:19] \"POST /socket.io/?EIO=4&transport=polling&t=OcLhlf8&sid=cBSw51TRUGWfYt4eAACu HTTP/1.1\" 200 -\n",
      "Exception in thread Thread-2342 (_handle_event_internal):\n",
      "Traceback (most recent call last):\n",
      "  File \"/Library/Frameworks/Python.framework/Versions/3.11/lib/python3.11/threading.py\", line 1038, in _bootstrap_inner\n",
      "    self.run()\n",
      "  File \"/Library/Frameworks/Python.framework/Versions/3.11/lib/python3.11/threading.py\", line 975, in run\n",
      "    self._target(*self._args, **self._kwargs)\n",
      "  File \"/Users/benjaminhartley/Development/Summer2023/PermSet/PermutationGameVenv/lib/python3.11/site-packages/socketio/server.py\", line 733, in _handle_event_internal\n",
      "    r = server._trigger_event(data[0], namespace, sid, *data[1:])\n",
      "        ^^^^^^^^^^^^^^^^^^^^^^^^^^^^^^^^^^^^^^^^^^^^^^^^^^^^^^^^^\n",
      "  File \"/Users/benjaminhartley/Development/Summer2023/PermSet/PermutationGameVenv/lib/python3.11/site-packages/socketio/server.py\", line 758, in _trigger_event\n",
      "    return self.handlers[namespace][event](*args)\n",
      "           ^^^^^^^^^^^^^^^^^^^^^^^^^^^^^^^^^^^^^^\n",
      "  File \"/Users/benjaminhartley/Development/Summer2023/PermSet/PermutationGameVenv/lib/python3.11/site-packages/flask_socketio/__init__.py\", line 282, in _handler\n",
      "    return self._handle_event(handler, message, namespace, sid,\n",
      "           ^^^^^^^^^^^^^^^^^^^^^^^^^^^^^^^^^^^^^^^^^^^^^^^^^^^^\n",
      "  File \"/Users/benjaminhartley/Development/Summer2023/PermSet/PermutationGameVenv/lib/python3.11/site-packages/flask_socketio/__init__.py\", line 828, in _handle_event\n",
      "    ret = handler(*args)\n",
      "          ^^^^^^^^^^^^^^\n",
      "  File \"/var/folders/j9/8c7n1wcx0xn65dd4bd4g5ynm0000gn/T/ipykernel_35094/1116104608.py\", line 22, in check_subset\n",
      "  File \"/var/folders/j9/8c7n1wcx0xn65dd4bd4g5ynm0000gn/T/ipykernel_35094/1116104608.py\", line 22, in <listcomp>\n",
      "IndexError: list index out of range\n"
     ]
    },
    {
     "name": "stdout",
     "output_type": "stream",
     "text": [
      "{'selectedCardIndices': [4]}\n"
     ]
    },
    {
     "name": "stderr",
     "output_type": "stream",
     "text": [
      "127.0.0.1 - - [26/Jul/2023 21:50:41] \"GET /socket.io/?EIO=4&transport=polling&t=OcLhkjo.0&sid=cBSw51TRUGWfYt4eAACu HTTP/1.1\" 200 -\n",
      "127.0.0.1 - - [26/Jul/2023 21:50:41] \"GET /socket.io/?EIO=4&transport=polling&t=OcLhkjt&sid=bsv2p3VOcBompGaRAACv HTTP/1.1\" 200 -\n",
      "127.0.0.1 - - [26/Jul/2023 21:50:41] \"POST /socket.io/?EIO=4&transport=polling&t=OcLhqqd&sid=cBSw51TRUGWfYt4eAACu HTTP/1.1\" 200 -\n",
      "127.0.0.1 - - [26/Jul/2023 21:50:41] \"POST /socket.io/?EIO=4&transport=polling&t=OcLhqqh&sid=bsv2p3VOcBompGaRAACv HTTP/1.1\" 200 -\n",
      "127.0.0.1 - - [26/Jul/2023 21:50:44] \"POST /socket.io/?EIO=4&transport=polling&t=OcLhrlg&sid=cBSw51TRUGWfYt4eAACu HTTP/1.1\" 200 -\n",
      "127.0.0.1 - - [26/Jul/2023 21:50:44] \"GET /socket.io/?EIO=4&transport=polling&t=OcLhqqe&sid=cBSw51TRUGWfYt4eAACu HTTP/1.1\" 200 -\n",
      "127.0.0.1 - - [26/Jul/2023 21:50:44] \"GET /socket.io/?EIO=4&transport=polling&t=OcLhrmI HTTP/1.1\" 200 -\n",
      "127.0.0.1 - - [26/Jul/2023 21:50:44] \"POST /socket.io/?EIO=4&transport=polling&t=OcLhrmY&sid=zxm21XjHI016oufWAACy HTTP/1.1\" 200 -\n",
      "127.0.0.1 - - [26/Jul/2023 21:50:44] \"GET /socket.io/?EIO=4&transport=polling&t=OcLhrmY.0&sid=zxm21XjHI016oufWAACy HTTP/1.1\" 200 -\n",
      "127.0.0.1 - - [26/Jul/2023 21:51:06] \"GET /socket.io/?EIO=4&transport=polling&t=OcLhqqi&sid=bsv2p3VOcBompGaRAACv HTTP/1.1\" 200 -\n",
      "127.0.0.1 - - [26/Jul/2023 21:51:06] \"POST /socket.io/?EIO=4&transport=polling&t=OcLhwxT&sid=bsv2p3VOcBompGaRAACv HTTP/1.1\" 200 -\n",
      "127.0.0.1 - - [26/Jul/2023 21:51:09] \"GET /socket.io/?EIO=4&transport=polling&t=OcLhrmy&sid=zxm21XjHI016oufWAACy HTTP/1.1\" 200 -\n",
      "127.0.0.1 - - [26/Jul/2023 21:51:09] \"POST /socket.io/?EIO=4&transport=polling&t=OcLhxt6&sid=zxm21XjHI016oufWAACy HTTP/1.1\" 200 -\n",
      "127.0.0.1 - - [26/Jul/2023 21:51:31] \"GET /socket.io/?EIO=4&transport=polling&t=OcLhwxU&sid=bsv2p3VOcBompGaRAACv HTTP/1.1\" 200 -\n",
      "127.0.0.1 - - [26/Jul/2023 21:51:31] \"POST /socket.io/?EIO=4&transport=polling&t=OcLi12H&sid=bsv2p3VOcBompGaRAACv HTTP/1.1\" 200 -\n",
      "127.0.0.1 - - [26/Jul/2023 21:51:34] \"GET /socket.io/?EIO=4&transport=polling&t=OcLhxt6.0&sid=zxm21XjHI016oufWAACy HTTP/1.1\" 200 -\n",
      "127.0.0.1 - - [26/Jul/2023 21:51:34] \"POST /socket.io/?EIO=4&transport=polling&t=OcLi1zq&sid=zxm21XjHI016oufWAACy HTTP/1.1\" 200 -\n",
      "127.0.0.1 - - [26/Jul/2023 21:51:39] \"POST /socket.io/?EIO=4&transport=polling&t=OcLi3Bl&sid=zxm21XjHI016oufWAACy HTTP/1.1\" 200 -\n",
      "127.0.0.1 - - [26/Jul/2023 21:51:39] \"GET /socket.io/?EIO=4&transport=polling&t=OcLi1zr&sid=zxm21XjHI016oufWAACy HTTP/1.1\" 200 -\n",
      "127.0.0.1 - - [26/Jul/2023 21:51:39] \"GET /socket.io/?EIO=4&transport=polling&t=OcLi3CD HTTP/1.1\" 200 -\n",
      "127.0.0.1 - - [26/Jul/2023 21:51:39] \"POST /socket.io/?EIO=4&transport=polling&t=OcLi3CG&sid=rxgEJaglJEYuaM_EAAC0 HTTP/1.1\" 200 -\n",
      "127.0.0.1 - - [26/Jul/2023 21:51:39] \"GET /socket.io/?EIO=4&transport=polling&t=OcLi3CH&sid=rxgEJaglJEYuaM_EAAC0 HTTP/1.1\" 200 -\n",
      "127.0.0.1 - - [26/Jul/2023 21:51:40] \"POST /socket.io/?EIO=4&transport=polling&t=OcLi3Qp&sid=rxgEJaglJEYuaM_EAAC0 HTTP/1.1\" 200 -\n",
      "127.0.0.1 - - [26/Jul/2023 21:51:40] \"GET /socket.io/?EIO=4&transport=polling&t=OcLi3Cc&sid=rxgEJaglJEYuaM_EAAC0 HTTP/1.1\" 200 -\n",
      "127.0.0.1 - - [26/Jul/2023 21:51:40] \"GET /socket.io/?EIO=4&transport=polling&t=OcLi3RF HTTP/1.1\" 200 -\n",
      "127.0.0.1 - - [26/Jul/2023 21:51:40] \"POST /socket.io/?EIO=4&transport=polling&t=OcLi3RJ&sid=7KGg1Ymoz0ZMZrxwAAC2 HTTP/1.1\" 200 -\n",
      "127.0.0.1 - - [26/Jul/2023 21:51:40] \"GET /socket.io/?EIO=4&transport=polling&t=OcLi3RK&sid=7KGg1Ymoz0ZMZrxwAAC2 HTTP/1.1\" 200 -\n",
      "127.0.0.1 - - [26/Jul/2023 21:51:41] \"POST /socket.io/?EIO=4&transport=polling&t=OcLi3Yt&sid=7KGg1Ymoz0ZMZrxwAAC2 HTTP/1.1\" 200 -\n",
      "127.0.0.1 - - [26/Jul/2023 21:51:41] \"GET /socket.io/?EIO=4&transport=polling&t=OcLi3Rd&sid=7KGg1Ymoz0ZMZrxwAAC2 HTTP/1.1\" 200 -\n",
      "127.0.0.1 - - [26/Jul/2023 21:51:41] \"GET /socket.io/?EIO=4&transport=polling&t=OcLi3ZK HTTP/1.1\" 200 -\n",
      "127.0.0.1 - - [26/Jul/2023 21:51:41] \"POST /socket.io/?EIO=4&transport=polling&t=OcLi3ZO&sid=47qVYcAy9ZJ1dhmJAAC4 HTTP/1.1\" 200 -\n",
      "127.0.0.1 - - [26/Jul/2023 21:51:41] \"GET /socket.io/?EIO=4&transport=polling&t=OcLi3ZO.0&sid=47qVYcAy9ZJ1dhmJAAC4 HTTP/1.1\" 200 -\n",
      "127.0.0.1 - - [26/Jul/2023 21:51:44] \"POST /socket.io/?EIO=4&transport=polling&t=OcLi4EP&sid=47qVYcAy9ZJ1dhmJAAC4 HTTP/1.1\" 200 -\n",
      "127.0.0.1 - - [26/Jul/2023 21:51:44] \"GET /socket.io/?EIO=4&transport=polling&t=OcLi3Zj&sid=47qVYcAy9ZJ1dhmJAAC4 HTTP/1.1\" 200 -\n",
      "127.0.0.1 - - [26/Jul/2023 21:51:44] \"GET /socket.io/?EIO=4&transport=polling&t=OcLi4Ew HTTP/1.1\" 200 -\n",
      "127.0.0.1 - - [26/Jul/2023 21:51:44] \"POST /socket.io/?EIO=4&transport=polling&t=OcLi4E-&sid=0IWh7Vp7F2Ci_vNVAAC6 HTTP/1.1\" 200 -\n",
      "127.0.0.1 - - [26/Jul/2023 21:51:44] \"GET /socket.io/?EIO=4&transport=polling&t=OcLi4E-.0&sid=0IWh7Vp7F2Ci_vNVAAC6 HTTP/1.1\" 200 -\n",
      "127.0.0.1 - - [26/Jul/2023 21:51:44] \"POST /socket.io/?EIO=4&transport=polling&t=OcLi4Mi&sid=0IWh7Vp7F2Ci_vNVAAC6 HTTP/1.1\" 200 -\n",
      "127.0.0.1 - - [26/Jul/2023 21:51:44] \"GET /socket.io/?EIO=4&transport=polling&t=OcLi4FG&sid=0IWh7Vp7F2Ci_vNVAAC6 HTTP/1.1\" 200 -\n",
      "127.0.0.1 - - [26/Jul/2023 21:51:44] \"GET /socket.io/?EIO=4&transport=polling&t=OcLi4N6 HTTP/1.1\" 200 -\n",
      "127.0.0.1 - - [26/Jul/2023 21:51:44] \"POST /socket.io/?EIO=4&transport=polling&t=OcLi4NB&sid=bsRsJht65xvbIra_AAC8 HTTP/1.1\" 200 -\n",
      "127.0.0.1 - - [26/Jul/2023 21:51:44] \"GET /socket.io/?EIO=4&transport=polling&t=OcLi4NB.0&sid=bsRsJht65xvbIra_AAC8 HTTP/1.1\" 200 -\n",
      "127.0.0.1 - - [26/Jul/2023 21:51:56] \"GET /socket.io/?EIO=4&transport=polling&t=OcLi12I&sid=bsv2p3VOcBompGaRAACv HTTP/1.1\" 200 -\n",
      "127.0.0.1 - - [26/Jul/2023 21:51:56] \"POST /socket.io/?EIO=4&transport=polling&t=OcLi796&sid=bsv2p3VOcBompGaRAACv HTTP/1.1\" 200 -\n",
      "127.0.0.1 - - [26/Jul/2023 21:52:09] \"GET /socket.io/?EIO=4&transport=polling&t=OcLi4NX&sid=bsRsJht65xvbIra_AAC8 HTTP/1.1\" 200 -\n",
      "127.0.0.1 - - [26/Jul/2023 21:52:09] \"POST /socket.io/?EIO=4&transport=polling&t=OcLiATw&sid=bsRsJht65xvbIra_AAC8 HTTP/1.1\" 200 -\n",
      "127.0.0.1 - - [26/Jul/2023 21:52:21] \"GET /socket.io/?EIO=4&transport=polling&t=OcLi797&sid=bsv2p3VOcBompGaRAACv HTTP/1.1\" 200 -\n",
      "127.0.0.1 - - [26/Jul/2023 21:52:21] \"POST /socket.io/?EIO=4&transport=polling&t=OcLiDFy&sid=bsv2p3VOcBompGaRAACv HTTP/1.1\" 200 -\n",
      "127.0.0.1 - - [26/Jul/2023 21:52:34] \"GET /socket.io/?EIO=4&transport=polling&t=OcLiATw.0&sid=bsRsJht65xvbIra_AAC8 HTTP/1.1\" 200 -\n",
      "127.0.0.1 - - [26/Jul/2023 21:52:34] \"POST /socket.io/?EIO=4&transport=polling&t=OcLiGag&sid=bsRsJht65xvbIra_AAC8 HTTP/1.1\" 200 -\n",
      "127.0.0.1 - - [26/Jul/2023 21:52:46] \"GET /socket.io/?EIO=4&transport=polling&t=OcLiDFz&sid=bsv2p3VOcBompGaRAACv HTTP/1.1\" 200 -\n",
      "127.0.0.1 - - [26/Jul/2023 21:52:46] \"POST /socket.io/?EIO=4&transport=polling&t=OcLiJMn&sid=bsv2p3VOcBompGaRAACv HTTP/1.1\" 200 -\n",
      "127.0.0.1 - - [26/Jul/2023 21:52:59] \"GET /socket.io/?EIO=4&transport=polling&t=OcLiGah&sid=bsRsJht65xvbIra_AAC8 HTTP/1.1\" 200 -\n",
      "127.0.0.1 - - [26/Jul/2023 21:52:59] \"POST /socket.io/?EIO=4&transport=polling&t=OcLiMhT&sid=bsRsJht65xvbIra_AAC8 HTTP/1.1\" 200 -\n",
      "127.0.0.1 - - [26/Jul/2023 21:53:11] \"GET /socket.io/?EIO=4&transport=polling&t=OcLiJMo&sid=bsv2p3VOcBompGaRAACv HTTP/1.1\" 200 -\n",
      "127.0.0.1 - - [26/Jul/2023 21:53:11] \"POST /socket.io/?EIO=4&transport=polling&t=OcLiPTY&sid=bsv2p3VOcBompGaRAACv HTTP/1.1\" 200 -\n",
      "127.0.0.1 - - [26/Jul/2023 21:53:24] \"GET /socket.io/?EIO=4&transport=polling&t=OcLiMhU&sid=bsRsJht65xvbIra_AAC8 HTTP/1.1\" 200 -\n",
      "127.0.0.1 - - [26/Jul/2023 21:53:24] \"POST /socket.io/?EIO=4&transport=polling&t=OcLiSoF&sid=bsRsJht65xvbIra_AAC8 HTTP/1.1\" 200 -\n",
      "127.0.0.1 - - [26/Jul/2023 21:53:36] \"GET /socket.io/?EIO=4&transport=polling&t=OcLiPTZ&sid=bsv2p3VOcBompGaRAACv HTTP/1.1\" 200 -\n",
      "127.0.0.1 - - [26/Jul/2023 21:53:36] \"POST /socket.io/?EIO=4&transport=polling&t=OcLiVaO&sid=bsv2p3VOcBompGaRAACv HTTP/1.1\" 200 -\n",
      "127.0.0.1 - - [26/Jul/2023 21:53:49] \"GET /socket.io/?EIO=4&transport=polling&t=OcLiSoG&sid=bsRsJht65xvbIra_AAC8 HTTP/1.1\" 200 -\n",
      "127.0.0.1 - - [26/Jul/2023 21:53:49] \"POST /socket.io/?EIO=4&transport=polling&t=OcLiYv3&sid=bsRsJht65xvbIra_AAC8 HTTP/1.1\" 200 -\n",
      "127.0.0.1 - - [26/Jul/2023 21:54:01] \"GET /socket.io/?EIO=4&transport=polling&t=OcLiVaP&sid=bsv2p3VOcBompGaRAACv HTTP/1.1\" 200 -\n",
      "127.0.0.1 - - [26/Jul/2023 21:54:01] \"POST /socket.io/?EIO=4&transport=polling&t=OcLibhD&sid=bsv2p3VOcBompGaRAACv HTTP/1.1\" 200 -\n",
      "127.0.0.1 - - [26/Jul/2023 21:54:14] \"GET /socket.io/?EIO=4&transport=polling&t=OcLiYv3.0&sid=bsRsJht65xvbIra_AAC8 HTTP/1.1\" 200 -\n",
      "127.0.0.1 - - [26/Jul/2023 21:54:14] \"POST /socket.io/?EIO=4&transport=polling&t=OcLie_s&sid=bsRsJht65xvbIra_AAC8 HTTP/1.1\" 200 -\n",
      "127.0.0.1 - - [26/Jul/2023 21:54:26] \"GET /socket.io/?EIO=4&transport=polling&t=OcLibhE&sid=bsv2p3VOcBompGaRAACv HTTP/1.1\" 200 -\n",
      "127.0.0.1 - - [26/Jul/2023 21:54:26] \"POST /socket.io/?EIO=4&transport=polling&t=OcLihn_&sid=bsv2p3VOcBompGaRAACv HTTP/1.1\" 200 -\n",
      "127.0.0.1 - - [26/Jul/2023 21:54:39] \"GET /socket.io/?EIO=4&transport=polling&t=OcLie_s.0&sid=bsRsJht65xvbIra_AAC8 HTTP/1.1\" 200 -\n",
      "127.0.0.1 - - [26/Jul/2023 21:54:39] \"POST /socket.io/?EIO=4&transport=polling&t=OcLil6a&sid=bsRsJht65xvbIra_AAC8 HTTP/1.1\" 200 -\n",
      "127.0.0.1 - - [26/Jul/2023 21:54:51] \"GET /socket.io/?EIO=4&transport=polling&t=OcLiho0&sid=bsv2p3VOcBompGaRAACv HTTP/1.1\" 200 -\n",
      "127.0.0.1 - - [26/Jul/2023 21:54:51] \"POST /socket.io/?EIO=4&transport=polling&t=OcLinuq&sid=bsv2p3VOcBompGaRAACv HTTP/1.1\" 200 -\n",
      "127.0.0.1 - - [26/Jul/2023 21:55:04] \"GET /socket.io/?EIO=4&transport=polling&t=OcLil6b&sid=bsRsJht65xvbIra_AAC8 HTTP/1.1\" 200 -\n",
      "127.0.0.1 - - [26/Jul/2023 21:55:04] \"POST /socket.io/?EIO=4&transport=polling&t=OcLirDK&sid=bsRsJht65xvbIra_AAC8 HTTP/1.1\" 200 -\n",
      "127.0.0.1 - - [26/Jul/2023 21:55:15] \"POST /socket.io/?EIO=4&transport=polling&t=OcLitmP&sid=bsRsJht65xvbIra_AAC8 HTTP/1.1\" 200 -\n",
      "127.0.0.1 - - [26/Jul/2023 21:55:15] \"GET /socket.io/?EIO=4&transport=polling&t=OcLirDK.0&sid=bsRsJht65xvbIra_AAC8 HTTP/1.1\" 200 -\n",
      "127.0.0.1 - - [26/Jul/2023 21:55:15] \"GET /socket.io/?EIO=4&transport=polling&t=OcLitmv HTTP/1.1\" 200 -\n",
      "127.0.0.1 - - [26/Jul/2023 21:55:15] \"POST /socket.io/?EIO=4&transport=polling&t=OcLitn9&sid=OTjnLHOf1GTZgl9mAAC- HTTP/1.1\" 200 -\n",
      "127.0.0.1 - - [26/Jul/2023 21:55:15] \"GET /socket.io/?EIO=4&transport=polling&t=OcLitnA&sid=OTjnLHOf1GTZgl9mAAC- HTTP/1.1\" 200 -\n",
      "127.0.0.1 - - [26/Jul/2023 21:55:16] \"GET /socket.io/?EIO=4&transport=polling&t=OcLinur&sid=bsv2p3VOcBompGaRAACv HTTP/1.1\" 200 -\n",
      "127.0.0.1 - - [26/Jul/2023 21:55:16] \"POST /socket.io/?EIO=4&transport=polling&t=OcLit_b&sid=bsv2p3VOcBompGaRAACv HTTP/1.1\" 200 -\n",
      "127.0.0.1 - - [26/Jul/2023 21:55:40] \"GET /socket.io/?EIO=4&transport=polling&t=OcLitnJ&sid=OTjnLHOf1GTZgl9mAAC- HTTP/1.1\" 200 -\n",
      "127.0.0.1 - - [26/Jul/2023 21:55:40] \"POST /socket.io/?EIO=4&transport=polling&t=OcLiztf&sid=OTjnLHOf1GTZgl9mAAC- HTTP/1.1\" 200 -\n",
      "127.0.0.1 - - [26/Jul/2023 21:55:41] \"GET /socket.io/?EIO=4&transport=polling&t=OcLit_c&sid=bsv2p3VOcBompGaRAACv HTTP/1.1\" 200 -\n",
      "127.0.0.1 - - [26/Jul/2023 21:55:41] \"POST /socket.io/?EIO=4&transport=polling&t=OcLi-6O&sid=bsv2p3VOcBompGaRAACv HTTP/1.1\" 200 -\n",
      "127.0.0.1 - - [26/Jul/2023 21:56:05] \"GET /socket.io/?EIO=4&transport=polling&t=OcLiztf.0&sid=OTjnLHOf1GTZgl9mAAC- HTTP/1.1\" 200 -\n",
      "127.0.0.1 - - [26/Jul/2023 21:56:05] \"POST /socket.io/?EIO=4&transport=polling&t=OcLj3-O&sid=OTjnLHOf1GTZgl9mAAC- HTTP/1.1\" 200 -\n",
      "127.0.0.1 - - [26/Jul/2023 21:56:06] \"GET /socket.io/?EIO=4&transport=polling&t=OcLi-6P&sid=bsv2p3VOcBompGaRAACv HTTP/1.1\" 200 -\n",
      "127.0.0.1 - - [26/Jul/2023 21:56:06] \"POST /socket.io/?EIO=4&transport=polling&t=OcLj4DB&sid=bsv2p3VOcBompGaRAACv HTTP/1.1\" 200 -\n",
      "127.0.0.1 - - [26/Jul/2023 21:56:30] \"GET /socket.io/?EIO=4&transport=polling&t=OcLj3-P&sid=OTjnLHOf1GTZgl9mAAC- HTTP/1.1\" 200 -\n",
      "127.0.0.1 - - [26/Jul/2023 21:56:30] \"POST /socket.io/?EIO=4&transport=polling&t=OcLjA5C&sid=OTjnLHOf1GTZgl9mAAC- HTTP/1.1\" 200 -\n",
      "127.0.0.1 - - [26/Jul/2023 21:56:31] \"GET /socket.io/?EIO=4&transport=polling&t=OcLj4DC&sid=bsv2p3VOcBompGaRAACv HTTP/1.1\" 200 -\n",
      "127.0.0.1 - - [26/Jul/2023 21:56:31] \"POST /socket.io/?EIO=4&transport=polling&t=OcLjAJx&sid=bsv2p3VOcBompGaRAACv HTTP/1.1\" 200 -\n",
      "127.0.0.1 - - [26/Jul/2023 21:56:53] \"POST /socket.io/?EIO=4&transport=polling&t=OcLjFj0&sid=OTjnLHOf1GTZgl9mAAC- HTTP/1.1\" 200 -\n"
     ]
    },
    {
     "name": "stdout",
     "output_type": "stream",
     "text": [
      "{'selectedCardIndices': [0]}\n"
     ]
    },
    {
     "name": "stderr",
     "output_type": "stream",
     "text": [
      "127.0.0.1 - - [26/Jul/2023 21:56:54] \"POST /socket.io/?EIO=4&transport=polling&t=OcLjFuP&sid=OTjnLHOf1GTZgl9mAAC- HTTP/1.1\" 200 -\n",
      "127.0.0.1 - - [26/Jul/2023 21:56:54] \"GET /socket.io/?EIO=4&transport=polling&t=OcLjA5C.0&sid=OTjnLHOf1GTZgl9mAAC- HTTP/1.1\" 200 -\n"
     ]
    },
    {
     "name": "stdout",
     "output_type": "stream",
     "text": [
      "{'selectedCardIndices': [0, 2]}\n",
      "WIN\n"
     ]
    },
    {
     "name": "stderr",
     "output_type": "stream",
     "text": [
      "127.0.0.1 - - [26/Jul/2023 21:56:55] \"GET /socket.io/?EIO=4&transport=polling&t=OcLjFum&sid=OTjnLHOf1GTZgl9mAAC- HTTP/1.1\" 200 -\n",
      "127.0.0.1 - - [26/Jul/2023 21:56:55] \"POST /socket.io/?EIO=4&transport=polling&t=OcLjGBw&sid=OTjnLHOf1GTZgl9mAAC- HTTP/1.1\" 200 -\n",
      "127.0.0.1 - - [26/Jul/2023 21:56:56] \"GET /socket.io/?EIO=4&transport=polling&t=OcLjAJy&sid=bsv2p3VOcBompGaRAACv HTTP/1.1\" 200 -\n",
      "127.0.0.1 - - [26/Jul/2023 21:56:56] \"POST /socket.io/?EIO=4&transport=polling&t=OcLjGQg&sid=bsv2p3VOcBompGaRAACv HTTP/1.1\" 200 -\n",
      "127.0.0.1 - - [26/Jul/2023 21:57:04] \"POST /socket.io/?EIO=4&transport=polling&t=OcLjIUr&sid=OTjnLHOf1GTZgl9mAAC- HTTP/1.1\" 200 -\n"
     ]
    },
    {
     "name": "stdout",
     "output_type": "stream",
     "text": [
      "{'selectedCardIndices': [0]}\n"
     ]
    },
    {
     "name": "stderr",
     "output_type": "stream",
     "text": [
      "127.0.0.1 - - [26/Jul/2023 21:57:05] \"POST /socket.io/?EIO=4&transport=polling&t=OcLjIm2&sid=OTjnLHOf1GTZgl9mAAC- HTTP/1.1\" 200 -\n",
      "127.0.0.1 - - [26/Jul/2023 21:57:05] \"GET /socket.io/?EIO=4&transport=polling&t=OcLjGBx&sid=OTjnLHOf1GTZgl9mAAC- HTTP/1.1\" 200 -\n"
     ]
    },
    {
     "name": "stdout",
     "output_type": "stream",
     "text": [
      "{'selectedCardIndices': [0, 2]}\n",
      "WIN\n"
     ]
    },
    {
     "name": "stderr",
     "output_type": "stream",
     "text": [
      "127.0.0.1 - - [26/Jul/2023 21:57:07] \"POST /socket.io/?EIO=4&transport=polling&t=OcLjJ4M&sid=OTjnLHOf1GTZgl9mAAC- HTTP/1.1\" 200 -\n"
     ]
    },
    {
     "name": "stdout",
     "output_type": "stream",
     "text": [
      "{'selectedCardIndices': [2]}\n"
     ]
    },
    {
     "name": "stderr",
     "output_type": "stream",
     "text": [
      "127.0.0.1 - - [26/Jul/2023 21:57:07] \"POST /socket.io/?EIO=4&transport=polling&t=OcLjJHu&sid=OTjnLHOf1GTZgl9mAAC- HTTP/1.1\" 200 -\n",
      "127.0.0.1 - - [26/Jul/2023 21:57:07] \"GET /socket.io/?EIO=4&transport=polling&t=OcLjImA&sid=OTjnLHOf1GTZgl9mAAC- HTTP/1.1\" 200 -\n"
     ]
    },
    {
     "name": "stdout",
     "output_type": "stream",
     "text": [
      "{'selectedCardIndices': [2, 1]}\n",
      "WIN\n"
     ]
    },
    {
     "name": "stderr",
     "output_type": "stream",
     "text": [
      "127.0.0.1 - - [26/Jul/2023 21:57:20] \"GET /socket.io/?EIO=4&transport=polling&t=OcLjJI1&sid=OTjnLHOf1GTZgl9mAAC- HTTP/1.1\" 200 -\n",
      "127.0.0.1 - - [26/Jul/2023 21:57:20] \"POST /socket.io/?EIO=4&transport=polling&t=OcLjMIk&sid=OTjnLHOf1GTZgl9mAAC- HTTP/1.1\" 200 -\n",
      "127.0.0.1 - - [26/Jul/2023 21:57:21] \"GET /socket.io/?EIO=4&transport=polling&t=OcLjGQh&sid=bsv2p3VOcBompGaRAACv HTTP/1.1\" 200 -\n",
      "127.0.0.1 - - [26/Jul/2023 21:57:21] \"POST /socket.io/?EIO=4&transport=polling&t=OcLjMXT&sid=bsv2p3VOcBompGaRAACv HTTP/1.1\" 200 -\n",
      "127.0.0.1 - - [26/Jul/2023 21:57:41] \"POST /socket.io/?EIO=4&transport=polling&t=OcLjRWJ&sid=OTjnLHOf1GTZgl9mAAC- HTTP/1.1\" 200 -\n"
     ]
    },
    {
     "name": "stdout",
     "output_type": "stream",
     "text": [
      "{'selectedCardIndices': [0]}\n"
     ]
    },
    {
     "name": "stderr",
     "output_type": "stream",
     "text": [
      "127.0.0.1 - - [26/Jul/2023 21:57:45] \"GET /socket.io/?EIO=4&transport=polling&t=OcLjMIl&sid=OTjnLHOf1GTZgl9mAAC- HTTP/1.1\" 200 -\n",
      "127.0.0.1 - - [26/Jul/2023 21:57:45] \"POST /socket.io/?EIO=4&transport=polling&t=OcLjSPV&sid=OTjnLHOf1GTZgl9mAAC- HTTP/1.1\" 200 -\n",
      "127.0.0.1 - - [26/Jul/2023 21:57:46] \"GET /socket.io/?EIO=4&transport=polling&t=OcLjMXU&sid=bsv2p3VOcBompGaRAACv HTTP/1.1\" 200 -\n",
      "127.0.0.1 - - [26/Jul/2023 21:57:46] \"POST /socket.io/?EIO=4&transport=polling&t=OcLjSeI&sid=bsv2p3VOcBompGaRAACv HTTP/1.1\" 200 -\n",
      "127.0.0.1 - - [26/Jul/2023 21:57:58] \"POST /socket.io/?EIO=4&transport=polling&t=OcLjVc4&sid=OTjnLHOf1GTZgl9mAAC- HTTP/1.1\" 200 -\n"
     ]
    },
    {
     "name": "stdout",
     "output_type": "stream",
     "text": [
      "{'selectedCardIndices': [1]}\n"
     ]
    },
    {
     "name": "stderr",
     "output_type": "stream",
     "text": [
      "127.0.0.1 - - [26/Jul/2023 21:57:59] \"POST /socket.io/?EIO=4&transport=polling&t=OcLjVnp&sid=OTjnLHOf1GTZgl9mAAC- HTTP/1.1\" 200 -\n"
     ]
    },
    {
     "name": "stdout",
     "output_type": "stream",
     "text": [
      "{'selectedCardIndices': [1, 3]}\n"
     ]
    },
    {
     "name": "stderr",
     "output_type": "stream",
     "text": [
      "127.0.0.1 - - [26/Jul/2023 21:58:10] \"GET /socket.io/?EIO=4&transport=polling&t=OcLjSPV.0&sid=OTjnLHOf1GTZgl9mAAC- HTTP/1.1\" 200 -\n",
      "127.0.0.1 - - [26/Jul/2023 21:58:10] \"POST /socket.io/?EIO=4&transport=polling&t=OcLjYWI&sid=OTjnLHOf1GTZgl9mAAC- HTTP/1.1\" 200 -\n",
      "127.0.0.1 - - [26/Jul/2023 21:58:10] \"POST /socket.io/?EIO=4&transport=polling&t=OcLjYWO&sid=OTjnLHOf1GTZgl9mAAC- HTTP/1.1\" 200 -\n"
     ]
    },
    {
     "name": "stdout",
     "output_type": "stream",
     "text": [
      "{'selectedCardIndices': [3]}\n"
     ]
    },
    {
     "name": "stderr",
     "output_type": "stream",
     "text": [
      "127.0.0.1 - - [26/Jul/2023 21:58:11] \"GET /socket.io/?EIO=4&transport=polling&t=OcLjSeJ&sid=bsv2p3VOcBompGaRAACv HTTP/1.1\" 200 -\n",
      "127.0.0.1 - - [26/Jul/2023 21:58:11] \"POST /socket.io/?EIO=4&transport=polling&t=OcLjYl7&sid=bsv2p3VOcBompGaRAACv HTTP/1.1\" 200 -\n",
      "127.0.0.1 - - [26/Jul/2023 21:58:35] \"GET /socket.io/?EIO=4&transport=polling&t=OcLjYWI.0&sid=OTjnLHOf1GTZgl9mAAC- HTTP/1.1\" 200 -\n",
      "127.0.0.1 - - [26/Jul/2023 21:58:35] \"POST /socket.io/?EIO=4&transport=polling&t=OcLjed5&sid=OTjnLHOf1GTZgl9mAAC- HTTP/1.1\" 200 -\n",
      "127.0.0.1 - - [26/Jul/2023 21:58:36] \"GET /socket.io/?EIO=4&transport=polling&t=OcLjYl9&sid=bsv2p3VOcBompGaRAACv HTTP/1.1\" 200 -\n",
      "127.0.0.1 - - [26/Jul/2023 21:58:36] \"POST /socket.io/?EIO=4&transport=polling&t=OcLjeru&sid=bsv2p3VOcBompGaRAACv HTTP/1.1\" 200 -\n",
      "127.0.0.1 - - [26/Jul/2023 21:59:00] \"GET /socket.io/?EIO=4&transport=polling&t=OcLjed6&sid=OTjnLHOf1GTZgl9mAAC- HTTP/1.1\" 200 -\n",
      "127.0.0.1 - - [26/Jul/2023 21:59:00] \"POST /socket.io/?EIO=4&transport=polling&t=OcLjkju&sid=OTjnLHOf1GTZgl9mAAC- HTTP/1.1\" 200 -\n",
      "127.0.0.1 - - [26/Jul/2023 21:59:01] \"GET /socket.io/?EIO=4&transport=polling&t=OcLjerv&sid=bsv2p3VOcBompGaRAACv HTTP/1.1\" 200 -\n",
      "127.0.0.1 - - [26/Jul/2023 21:59:01] \"POST /socket.io/?EIO=4&transport=polling&t=OcLjkyh&sid=bsv2p3VOcBompGaRAACv HTTP/1.1\" 200 -\n",
      "127.0.0.1 - - [26/Jul/2023 21:59:22] \"POST /socket.io/?EIO=4&transport=polling&t=OcLjq8_&sid=OTjnLHOf1GTZgl9mAAC- HTTP/1.1\" 200 -\n",
      "127.0.0.1 - - [26/Jul/2023 21:59:22] \"GET /socket.io/?EIO=4&transport=polling&t=OcLjkjv&sid=OTjnLHOf1GTZgl9mAAC- HTTP/1.1\" 200 -\n",
      "127.0.0.1 - - [26/Jul/2023 21:59:22] \"GET /socket.io/?EIO=4&transport=polling&t=OcLjq9W HTTP/1.1\" 200 -\n",
      "127.0.0.1 - - [26/Jul/2023 21:59:22] \"POST /socket.io/?EIO=4&transport=polling&t=OcLjq9n&sid=JVEqtCcQxaP4DGNKAADA HTTP/1.1\" 200 -\n",
      "127.0.0.1 - - [26/Jul/2023 21:59:22] \"GET /socket.io/?EIO=4&transport=polling&t=OcLjq9n.0&sid=JVEqtCcQxaP4DGNKAADA HTTP/1.1\" 200 -\n",
      "127.0.0.1 - - [26/Jul/2023 21:59:26] \"GET /socket.io/?EIO=4&transport=polling&t=OcLjkyi&sid=bsv2p3VOcBompGaRAACv HTTP/1.1\" 200 -\n",
      "127.0.0.1 - - [26/Jul/2023 21:59:26] \"POST /socket.io/?EIO=4&transport=polling&t=OcLjr3W&sid=bsv2p3VOcBompGaRAACv HTTP/1.1\" 200 -\n",
      "127.0.0.1 - - [26/Jul/2023 21:59:47] \"GET /socket.io/?EIO=4&transport=polling&t=OcLjq9v&sid=JVEqtCcQxaP4DGNKAADA HTTP/1.1\" 200 -\n",
      "127.0.0.1 - - [26/Jul/2023 21:59:47] \"POST /socket.io/?EIO=4&transport=polling&t=OcLjwGE&sid=JVEqtCcQxaP4DGNKAADA HTTP/1.1\" 200 -\n",
      "127.0.0.1 - - [26/Jul/2023 21:59:51] \"GET /socket.io/?EIO=4&transport=polling&t=OcLjr3X&sid=bsv2p3VOcBompGaRAACv HTTP/1.1\" 200 -\n",
      "127.0.0.1 - - [26/Jul/2023 21:59:51] \"POST /socket.io/?EIO=4&transport=polling&t=OcLjxAL&sid=bsv2p3VOcBompGaRAACv HTTP/1.1\" 200 -\n",
      "127.0.0.1 - - [26/Jul/2023 22:00:12] \"GET /socket.io/?EIO=4&transport=polling&t=OcLjwGF&sid=JVEqtCcQxaP4DGNKAADA HTTP/1.1\" 200 -\n",
      "127.0.0.1 - - [26/Jul/2023 22:00:12] \"POST /socket.io/?EIO=4&transport=polling&t=OcLk0Mz&sid=JVEqtCcQxaP4DGNKAADA HTTP/1.1\" 200 -\n",
      "127.0.0.1 - - [26/Jul/2023 22:00:16] \"GET /socket.io/?EIO=4&transport=polling&t=OcLjxAM&sid=bsv2p3VOcBompGaRAACv HTTP/1.1\" 200 -\n",
      "127.0.0.1 - - [26/Jul/2023 22:00:16] \"POST /socket.io/?EIO=4&transport=polling&t=OcLk1HB&sid=bsv2p3VOcBompGaRAACv HTTP/1.1\" 200 -\n",
      "127.0.0.1 - - [26/Jul/2023 22:00:37] \"GET /socket.io/?EIO=4&transport=polling&t=OcLk0M-&sid=JVEqtCcQxaP4DGNKAADA HTTP/1.1\" 200 -\n",
      "127.0.0.1 - - [26/Jul/2023 22:00:37] \"POST /socket.io/?EIO=4&transport=polling&t=OcLk6Tl&sid=JVEqtCcQxaP4DGNKAADA HTTP/1.1\" 200 -\n",
      "127.0.0.1 - - [26/Jul/2023 22:00:41] \"GET /socket.io/?EIO=4&transport=polling&t=OcLk1HC&sid=bsv2p3VOcBompGaRAACv HTTP/1.1\" 200 -\n",
      "127.0.0.1 - - [26/Jul/2023 22:00:41] \"POST /socket.io/?EIO=4&transport=polling&t=OcLk7O0&sid=bsv2p3VOcBompGaRAACv HTTP/1.1\" 200 -\n",
      "127.0.0.1 - - [26/Jul/2023 22:01:02] \"GET /socket.io/?EIO=4&transport=polling&t=OcLk6Tl.0&sid=JVEqtCcQxaP4DGNKAADA HTTP/1.1\" 200 -\n",
      "127.0.0.1 - - [26/Jul/2023 22:01:02] \"POST /socket.io/?EIO=4&transport=polling&t=OcLkCab&sid=JVEqtCcQxaP4DGNKAADA HTTP/1.1\" 200 -\n",
      "127.0.0.1 - - [26/Jul/2023 22:01:06] \"GET /socket.io/?EIO=4&transport=polling&t=OcLk7O1&sid=bsv2p3VOcBompGaRAACv HTTP/1.1\" 200 -\n",
      "127.0.0.1 - - [26/Jul/2023 22:01:06] \"POST /socket.io/?EIO=4&transport=polling&t=OcLkDUm&sid=bsv2p3VOcBompGaRAACv HTTP/1.1\" 200 -\n",
      "127.0.0.1 - - [26/Jul/2023 22:01:27] \"GET /socket.io/?EIO=4&transport=polling&t=OcLkCab.0&sid=JVEqtCcQxaP4DGNKAADA HTTP/1.1\" 200 -\n",
      "127.0.0.1 - - [26/Jul/2023 22:01:27] \"POST /socket.io/?EIO=4&transport=polling&t=OcLkIhO&sid=JVEqtCcQxaP4DGNKAADA HTTP/1.1\" 200 -\n",
      "127.0.0.1 - - [26/Jul/2023 22:01:31] \"GET /socket.io/?EIO=4&transport=polling&t=OcLkDUn&sid=bsv2p3VOcBompGaRAACv HTTP/1.1\" 200 -\n",
      "127.0.0.1 - - [26/Jul/2023 22:01:31] \"POST /socket.io/?EIO=4&transport=polling&t=OcLkJbc&sid=bsv2p3VOcBompGaRAACv HTTP/1.1\" 200 -\n",
      "127.0.0.1 - - [26/Jul/2023 22:01:52] \"GET /socket.io/?EIO=4&transport=polling&t=OcLkIhP&sid=JVEqtCcQxaP4DGNKAADA HTTP/1.1\" 200 -\n",
      "127.0.0.1 - - [26/Jul/2023 22:01:52] \"POST /socket.io/?EIO=4&transport=polling&t=OcLkOo8&sid=JVEqtCcQxaP4DGNKAADA HTTP/1.1\" 200 -\n",
      "127.0.0.1 - - [26/Jul/2023 22:01:56] \"GET /socket.io/?EIO=4&transport=polling&t=OcLkJbe&sid=bsv2p3VOcBompGaRAACv HTTP/1.1\" 200 -\n",
      "127.0.0.1 - - [26/Jul/2023 22:01:56] \"POST /socket.io/?EIO=4&transport=polling&t=OcLkPiP&sid=bsv2p3VOcBompGaRAACv HTTP/1.1\" 200 -\n",
      "127.0.0.1 - - [26/Jul/2023 22:02:17] \"GET /socket.io/?EIO=4&transport=polling&t=OcLkOo9&sid=JVEqtCcQxaP4DGNKAADA HTTP/1.1\" 200 -\n",
      "127.0.0.1 - - [26/Jul/2023 22:02:17] \"POST /socket.io/?EIO=4&transport=polling&t=OcLkUuv&sid=JVEqtCcQxaP4DGNKAADA HTTP/1.1\" 200 -\n",
      "127.0.0.1 - - [26/Jul/2023 22:02:21] \"GET /socket.io/?EIO=4&transport=polling&t=OcLkPiR&sid=bsv2p3VOcBompGaRAACv HTTP/1.1\" 200 -\n",
      "127.0.0.1 - - [26/Jul/2023 22:02:21] \"POST /socket.io/?EIO=4&transport=polling&t=OcLkVpD&sid=bsv2p3VOcBompGaRAACv HTTP/1.1\" 200 -\n",
      "127.0.0.1 - - [26/Jul/2023 22:02:42] \"GET /socket.io/?EIO=4&transport=polling&t=OcLkUuv.0&sid=JVEqtCcQxaP4DGNKAADA HTTP/1.1\" 200 -\n",
      "127.0.0.1 - - [26/Jul/2023 22:02:42] \"POST /socket.io/?EIO=4&transport=polling&t=OcLka_j&sid=JVEqtCcQxaP4DGNKAADA HTTP/1.1\" 200 -\n",
      "127.0.0.1 - - [26/Jul/2023 22:02:46] \"GET /socket.io/?EIO=4&transport=polling&t=OcLkVpE&sid=bsv2p3VOcBompGaRAACv HTTP/1.1\" 200 -\n",
      "127.0.0.1 - - [26/Jul/2023 22:02:46] \"POST /socket.io/?EIO=4&transport=polling&t=OcLkbw2&sid=bsv2p3VOcBompGaRAACv HTTP/1.1\" 200 -\n",
      "127.0.0.1 - - [26/Jul/2023 22:03:03] \"POST /socket.io/?EIO=4&transport=polling&t=OcLkgAc&sid=JVEqtCcQxaP4DGNKAADA HTTP/1.1\" 200 -\n",
      "127.0.0.1 - - [26/Jul/2023 22:03:03] \"GET /socket.io/?EIO=4&transport=polling&t=OcLka_j.0&sid=JVEqtCcQxaP4DGNKAADA HTTP/1.1\" 200 -\n",
      "127.0.0.1 - - [26/Jul/2023 22:03:03] \"GET /socket.io/?EIO=4&transport=polling&t=OcLkgB7 HTTP/1.1\" 200 -\n",
      "127.0.0.1 - - [26/Jul/2023 22:03:03] \"POST /socket.io/?EIO=4&transport=polling&t=OcLkgBA&sid=2Mh3aEXic0NpcjJ2AADC HTTP/1.1\" 200 -\n",
      "127.0.0.1 - - [26/Jul/2023 22:03:03] \"GET /socket.io/?EIO=4&transport=polling&t=OcLkgBB&sid=2Mh3aEXic0NpcjJ2AADC HTTP/1.1\" 200 -\n",
      "127.0.0.1 - - [26/Jul/2023 22:03:11] \"GET /socket.io/?EIO=4&transport=polling&t=OcLkbw3&sid=bsv2p3VOcBompGaRAACv HTTP/1.1\" 200 -\n",
      "127.0.0.1 - - [26/Jul/2023 22:03:11] \"POST /socket.io/?EIO=4&transport=polling&t=OcLki0o&sid=bsv2p3VOcBompGaRAACv HTTP/1.1\" 200 -\n",
      "127.0.0.1 - - [26/Jul/2023 22:03:25] \"POST /socket.io/?EIO=4&transport=polling&t=OcLklLM&sid=2Mh3aEXic0NpcjJ2AADC HTTP/1.1\" 200 -\n",
      "127.0.0.1 - - [26/Jul/2023 22:03:25] \"GET /socket.io/?EIO=4&transport=polling&t=OcLkgBX&sid=2Mh3aEXic0NpcjJ2AADC HTTP/1.1\" 200 -\n",
      "127.0.0.1 - - [26/Jul/2023 22:03:25] \"GET /socket.io/?EIO=4&transport=polling&t=OcLklLt HTTP/1.1\" 200 -\n",
      "127.0.0.1 - - [26/Jul/2023 22:03:25] \"POST /socket.io/?EIO=4&transport=polling&t=OcLklLx&sid=w8Bt6jFpR_gk50wtAADE HTTP/1.1\" 200 -\n",
      "127.0.0.1 - - [26/Jul/2023 22:03:25] \"GET /socket.io/?EIO=4&transport=polling&t=OcLklLx.0&sid=w8Bt6jFpR_gk50wtAADE HTTP/1.1\" 200 -\n",
      "127.0.0.1 - - [26/Jul/2023 22:03:36] \"GET /socket.io/?EIO=4&transport=polling&t=OcLki0p&sid=bsv2p3VOcBompGaRAACv HTTP/1.1\" 200 -\n",
      "127.0.0.1 - - [26/Jul/2023 22:03:36] \"POST /socket.io/?EIO=4&transport=polling&t=OcLko7c&sid=bsv2p3VOcBompGaRAACv HTTP/1.1\" 200 -\n",
      "127.0.0.1 - - [26/Jul/2023 22:03:50] \"GET /socket.io/?EIO=4&transport=polling&t=OcLklME&sid=w8Bt6jFpR_gk50wtAADE HTTP/1.1\" 200 -\n",
      "127.0.0.1 - - [26/Jul/2023 22:03:50] \"POST /socket.io/?EIO=4&transport=polling&t=OcLkrSg&sid=w8Bt6jFpR_gk50wtAADE HTTP/1.1\" 200 -\n",
      "127.0.0.1 - - [26/Jul/2023 22:04:01] \"GET /socket.io/?EIO=4&transport=polling&t=OcLko7d&sid=bsv2p3VOcBompGaRAACv HTTP/1.1\" 200 -\n",
      "127.0.0.1 - - [26/Jul/2023 22:04:01] \"POST /socket.io/?EIO=4&transport=polling&t=OcLkuEO&sid=bsv2p3VOcBompGaRAACv HTTP/1.1\" 200 -\n",
      "127.0.0.1 - - [26/Jul/2023 22:04:15] \"GET /socket.io/?EIO=4&transport=polling&t=OcLkrSh&sid=w8Bt6jFpR_gk50wtAADE HTTP/1.1\" 200 -\n",
      "127.0.0.1 - - [26/Jul/2023 22:04:15] \"POST /socket.io/?EIO=4&transport=polling&t=OcLkxZQ&sid=w8Bt6jFpR_gk50wtAADE HTTP/1.1\" 200 -\n",
      "127.0.0.1 - - [26/Jul/2023 22:04:26] \"GET /socket.io/?EIO=4&transport=polling&t=OcLkuEP&sid=bsv2p3VOcBompGaRAACv HTTP/1.1\" 200 -\n",
      "127.0.0.1 - - [26/Jul/2023 22:04:26] \"POST /socket.io/?EIO=4&transport=polling&t=OcLk-LE&sid=bsv2p3VOcBompGaRAACv HTTP/1.1\" 200 -\n",
      "127.0.0.1 - - [26/Jul/2023 22:04:35] \"POST /socket.io/?EIO=4&transport=polling&t=OcLl0Sf&sid=w8Bt6jFpR_gk50wtAADE HTTP/1.1\" 200 -\n",
      "127.0.0.1 - - [26/Jul/2023 22:04:35] \"GET /socket.io/?EIO=4&transport=polling&t=OcLkxZR&sid=w8Bt6jFpR_gk50wtAADE HTTP/1.1\" 200 -\n",
      "127.0.0.1 - - [26/Jul/2023 22:04:35] \"GET /socket.io/?EIO=4&transport=polling&t=OcLl0TC HTTP/1.1\" 200 -\n",
      "127.0.0.1 - - [26/Jul/2023 22:04:35] \"POST /socket.io/?EIO=4&transport=polling&t=OcLl0TU&sid=wFzEmzXQ5-60G-FpAADG HTTP/1.1\" 200 -\n",
      "127.0.0.1 - - [26/Jul/2023 22:04:35] \"GET /socket.io/?EIO=4&transport=polling&t=OcLl0TV&sid=wFzEmzXQ5-60G-FpAADG HTTP/1.1\" 200 -\n",
      "127.0.0.1 - - [26/Jul/2023 22:04:51] \"GET /socket.io/?EIO=4&transport=polling&t=OcLk-LF&sid=bsv2p3VOcBompGaRAACv HTTP/1.1\" 200 -\n",
      "127.0.0.1 - - [26/Jul/2023 22:04:51] \"POST /socket.io/?EIO=4&transport=polling&t=OcLl4S0&sid=bsv2p3VOcBompGaRAACv HTTP/1.1\" 200 -\n",
      "127.0.0.1 - - [26/Jul/2023 22:05:00] \"GET /socket.io/?EIO=4&transport=polling&t=OcLl0Td&sid=wFzEmzXQ5-60G-FpAADG HTTP/1.1\" 200 -\n",
      "127.0.0.1 - - [26/Jul/2023 22:05:00] \"POST /socket.io/?EIO=4&transport=polling&t=OcLl6Zy&sid=wFzEmzXQ5-60G-FpAADG HTTP/1.1\" 200 -\n",
      "127.0.0.1 - - [26/Jul/2023 22:05:16] \"GET /socket.io/?EIO=4&transport=polling&t=OcLl4S1&sid=bsv2p3VOcBompGaRAACv HTTP/1.1\" 200 -\n",
      "127.0.0.1 - - [26/Jul/2023 22:05:16] \"POST /socket.io/?EIO=4&transport=polling&t=OcLlAYq&sid=bsv2p3VOcBompGaRAACv HTTP/1.1\" 200 -\n",
      "127.0.0.1 - - [26/Jul/2023 22:05:25] \"GET /socket.io/?EIO=4&transport=polling&t=OcLl6Zz&sid=wFzEmzXQ5-60G-FpAADG HTTP/1.1\" 200 -\n",
      "127.0.0.1 - - [26/Jul/2023 22:05:25] \"POST /socket.io/?EIO=4&transport=polling&t=OcLlCgl&sid=wFzEmzXQ5-60G-FpAADG HTTP/1.1\" 200 -\n",
      "127.0.0.1 - - [26/Jul/2023 22:05:41] \"GET /socket.io/?EIO=4&transport=polling&t=OcLlAYr&sid=bsv2p3VOcBompGaRAACv HTTP/1.1\" 200 -\n",
      "127.0.0.1 - - [26/Jul/2023 22:05:41] \"POST /socket.io/?EIO=4&transport=polling&t=OcLlGfc&sid=bsv2p3VOcBompGaRAACv HTTP/1.1\" 200 -\n",
      "127.0.0.1 - - [26/Jul/2023 22:05:50] \"GET /socket.io/?EIO=4&transport=polling&t=OcLlCgl.0&sid=wFzEmzXQ5-60G-FpAADG HTTP/1.1\" 200 -\n",
      "127.0.0.1 - - [26/Jul/2023 22:05:50] \"POST /socket.io/?EIO=4&transport=polling&t=OcLlInT&sid=wFzEmzXQ5-60G-FpAADG HTTP/1.1\" 200 -\n",
      "127.0.0.1 - - [26/Jul/2023 22:06:06] \"GET /socket.io/?EIO=4&transport=polling&t=OcLlGfd&sid=bsv2p3VOcBompGaRAACv HTTP/1.1\" 200 -\n",
      "127.0.0.1 - - [26/Jul/2023 22:06:06] \"POST /socket.io/?EIO=4&transport=polling&t=OcLlMmR&sid=bsv2p3VOcBompGaRAACv HTTP/1.1\" 200 -\n",
      "127.0.0.1 - - [26/Jul/2023 22:06:15] \"GET /socket.io/?EIO=4&transport=polling&t=OcLlInU&sid=wFzEmzXQ5-60G-FpAADG HTTP/1.1\" 200 -\n",
      "127.0.0.1 - - [26/Jul/2023 22:06:15] \"POST /socket.io/?EIO=4&transport=polling&t=OcLlOuC&sid=wFzEmzXQ5-60G-FpAADG HTTP/1.1\" 200 -\n",
      "127.0.0.1 - - [26/Jul/2023 22:06:31] \"GET /socket.io/?EIO=4&transport=polling&t=OcLlMmS&sid=bsv2p3VOcBompGaRAACv HTTP/1.1\" 200 -\n",
      "127.0.0.1 - - [26/Jul/2023 22:06:31] \"POST /socket.io/?EIO=4&transport=polling&t=OcLlStC&sid=bsv2p3VOcBompGaRAACv HTTP/1.1\" 200 -\n",
      "127.0.0.1 - - [26/Jul/2023 22:06:40] \"GET /socket.io/?EIO=4&transport=polling&t=OcLlOuD&sid=wFzEmzXQ5-60G-FpAADG HTTP/1.1\" 200 -\n",
      "127.0.0.1 - - [26/Jul/2023 22:06:40] \"POST /socket.io/?EIO=4&transport=polling&t=OcLlU-_&sid=wFzEmzXQ5-60G-FpAADG HTTP/1.1\" 200 -\n",
      "127.0.0.1 - - [26/Jul/2023 22:06:56] \"GET /socket.io/?EIO=4&transport=polling&t=OcLlStD&sid=bsv2p3VOcBompGaRAACv HTTP/1.1\" 200 -\n",
      "127.0.0.1 - - [26/Jul/2023 22:06:56] \"POST /socket.io/?EIO=4&transport=polling&t=OcLlYz_&sid=bsv2p3VOcBompGaRAACv HTTP/1.1\" 200 -\n",
      "127.0.0.1 - - [26/Jul/2023 22:07:05] \"GET /socket.io/?EIO=4&transport=polling&t=OcLlU_0&sid=wFzEmzXQ5-60G-FpAADG HTTP/1.1\" 200 -\n",
      "127.0.0.1 - - [26/Jul/2023 22:07:05] \"POST /socket.io/?EIO=4&transport=polling&t=OcLlb5k&sid=wFzEmzXQ5-60G-FpAADG HTTP/1.1\" 200 -\n",
      "127.0.0.1 - - [26/Jul/2023 22:07:21] \"GET /socket.io/?EIO=4&transport=polling&t=OcLlY-0&sid=bsv2p3VOcBompGaRAACv HTTP/1.1\" 200 -\n",
      "127.0.0.1 - - [26/Jul/2023 22:07:21] \"POST /socket.io/?EIO=4&transport=polling&t=OcLlf4m&sid=bsv2p3VOcBompGaRAACv HTTP/1.1\" 200 -\n",
      "127.0.0.1 - - [26/Jul/2023 22:07:30] \"GET /socket.io/?EIO=4&transport=polling&t=OcLlb5k.0&sid=wFzEmzXQ5-60G-FpAADG HTTP/1.1\" 200 -\n",
      "127.0.0.1 - - [26/Jul/2023 22:07:30] \"POST /socket.io/?EIO=4&transport=polling&t=OcLlhCW&sid=wFzEmzXQ5-60G-FpAADG HTTP/1.1\" 200 -\n",
      "127.0.0.1 - - [26/Jul/2023 22:07:46] \"GET /socket.io/?EIO=4&transport=polling&t=OcLlf4n&sid=bsv2p3VOcBompGaRAACv HTTP/1.1\" 200 -\n",
      "127.0.0.1 - - [26/Jul/2023 22:07:46] \"POST /socket.io/?EIO=4&transport=polling&t=OcLllBY&sid=bsv2p3VOcBompGaRAACv HTTP/1.1\" 200 -\n",
      "127.0.0.1 - - [26/Jul/2023 22:07:55] \"GET /socket.io/?EIO=4&transport=polling&t=OcLlhCW.0&sid=wFzEmzXQ5-60G-FpAADG HTTP/1.1\" 200 -\n",
      "127.0.0.1 - - [26/Jul/2023 22:07:55] \"POST /socket.io/?EIO=4&transport=polling&t=OcLlnJD&sid=wFzEmzXQ5-60G-FpAADG HTTP/1.1\" 200 -\n",
      "127.0.0.1 - - [26/Jul/2023 22:08:11] \"GET /socket.io/?EIO=4&transport=polling&t=OcLllBZ&sid=bsv2p3VOcBompGaRAACv HTTP/1.1\" 200 -\n",
      "127.0.0.1 - - [26/Jul/2023 22:08:11] \"POST /socket.io/?EIO=4&transport=polling&t=OcLlrIL&sid=bsv2p3VOcBompGaRAACv HTTP/1.1\" 200 -\n",
      "127.0.0.1 - - [26/Jul/2023 22:08:20] \"GET /socket.io/?EIO=4&transport=polling&t=OcLlnJE&sid=wFzEmzXQ5-60G-FpAADG HTTP/1.1\" 200 -\n",
      "127.0.0.1 - - [26/Jul/2023 22:08:20] \"POST /socket.io/?EIO=4&transport=polling&t=OcLltPx&sid=wFzEmzXQ5-60G-FpAADG HTTP/1.1\" 200 -\n",
      "127.0.0.1 - - [26/Jul/2023 22:08:36] \"GET /socket.io/?EIO=4&transport=polling&t=OcLlrIM&sid=bsv2p3VOcBompGaRAACv HTTP/1.1\" 200 -\n",
      "127.0.0.1 - - [26/Jul/2023 22:08:36] \"POST /socket.io/?EIO=4&transport=polling&t=OcLlxP8&sid=bsv2p3VOcBompGaRAACv HTTP/1.1\" 200 -\n",
      "127.0.0.1 - - [26/Jul/2023 22:08:45] \"GET /socket.io/?EIO=4&transport=polling&t=OcLltPy&sid=wFzEmzXQ5-60G-FpAADG HTTP/1.1\" 200 -\n",
      "127.0.0.1 - - [26/Jul/2023 22:08:45] \"POST /socket.io/?EIO=4&transport=polling&t=OcLlzWg&sid=wFzEmzXQ5-60G-FpAADG HTTP/1.1\" 200 -\n",
      "127.0.0.1 - - [26/Jul/2023 22:09:01] \"GET /socket.io/?EIO=4&transport=polling&t=OcLlxPA&sid=bsv2p3VOcBompGaRAACv HTTP/1.1\" 200 -\n",
      "127.0.0.1 - - [26/Jul/2023 22:09:01] \"POST /socket.io/?EIO=4&transport=polling&t=OcLm1Vv&sid=bsv2p3VOcBompGaRAACv HTTP/1.1\" 200 -\n",
      "127.0.0.1 - - [26/Jul/2023 22:09:10] \"GET /socket.io/?EIO=4&transport=polling&t=OcLlzWg.0&sid=wFzEmzXQ5-60G-FpAADG HTTP/1.1\" 200 -\n",
      "127.0.0.1 - - [26/Jul/2023 22:09:10] \"POST /socket.io/?EIO=4&transport=polling&t=OcLm3dS&sid=wFzEmzXQ5-60G-FpAADG HTTP/1.1\" 200 -\n",
      "127.0.0.1 - - [26/Jul/2023 22:09:26] \"GET /socket.io/?EIO=4&transport=polling&t=OcLm1Vw&sid=bsv2p3VOcBompGaRAACv HTTP/1.1\" 200 -\n",
      "127.0.0.1 - - [26/Jul/2023 22:09:26] \"POST /socket.io/?EIO=4&transport=polling&t=OcLm7ck&sid=bsv2p3VOcBompGaRAACv HTTP/1.1\" 200 -\n",
      "127.0.0.1 - - [26/Jul/2023 22:09:35] \"GET /socket.io/?EIO=4&transport=polling&t=OcLm3dS.0&sid=wFzEmzXQ5-60G-FpAADG HTTP/1.1\" 200 -\n",
      "127.0.0.1 - - [26/Jul/2023 22:09:35] \"POST /socket.io/?EIO=4&transport=polling&t=OcLm9kB&sid=wFzEmzXQ5-60G-FpAADG HTTP/1.1\" 200 -\n",
      "127.0.0.1 - - [26/Jul/2023 22:09:51] \"GET /socket.io/?EIO=4&transport=polling&t=OcLm7cl&sid=bsv2p3VOcBompGaRAACv HTTP/1.1\" 200 -\n",
      "127.0.0.1 - - [26/Jul/2023 22:09:51] \"POST /socket.io/?EIO=4&transport=polling&t=OcLmDjZ&sid=bsv2p3VOcBompGaRAACv HTTP/1.1\" 200 -\n",
      "127.0.0.1 - - [26/Jul/2023 22:10:00] \"GET /socket.io/?EIO=4&transport=polling&t=OcLm9kC&sid=wFzEmzXQ5-60G-FpAADG HTTP/1.1\" 200 -\n",
      "127.0.0.1 - - [26/Jul/2023 22:10:00] \"POST /socket.io/?EIO=4&transport=polling&t=OcLmFq-&sid=wFzEmzXQ5-60G-FpAADG HTTP/1.1\" 200 -\n",
      "127.0.0.1 - - [26/Jul/2023 22:10:16] \"GET /socket.io/?EIO=4&transport=polling&t=OcLmDja&sid=bsv2p3VOcBompGaRAACv HTTP/1.1\" 200 -\n",
      "127.0.0.1 - - [26/Jul/2023 22:10:16] \"POST /socket.io/?EIO=4&transport=polling&t=OcLmJqJ&sid=bsv2p3VOcBompGaRAACv HTTP/1.1\" 200 -\n",
      "127.0.0.1 - - [26/Jul/2023 22:10:25] \"GET /socket.io/?EIO=4&transport=polling&t=OcLmFq-.0&sid=wFzEmzXQ5-60G-FpAADG HTTP/1.1\" 200 -\n",
      "127.0.0.1 - - [26/Jul/2023 22:10:25] \"POST /socket.io/?EIO=4&transport=polling&t=OcLmLxh&sid=wFzEmzXQ5-60G-FpAADG HTTP/1.1\" 200 -\n",
      "127.0.0.1 - - [26/Jul/2023 22:10:41] \"GET /socket.io/?EIO=4&transport=polling&t=OcLmJqK&sid=bsv2p3VOcBompGaRAACv HTTP/1.1\" 200 -\n",
      "127.0.0.1 - - [26/Jul/2023 22:10:41] \"POST /socket.io/?EIO=4&transport=polling&t=OcLmPx9&sid=bsv2p3VOcBompGaRAACv HTTP/1.1\" 200 -\n",
      "127.0.0.1 - - [26/Jul/2023 22:10:50] \"GET /socket.io/?EIO=4&transport=polling&t=OcLmLxi&sid=wFzEmzXQ5-60G-FpAADG HTTP/1.1\" 200 -\n",
      "127.0.0.1 - - [26/Jul/2023 22:10:50] \"POST /socket.io/?EIO=4&transport=polling&t=OcLmS2V&sid=wFzEmzXQ5-60G-FpAADG HTTP/1.1\" 200 -\n",
      "127.0.0.1 - - [26/Jul/2023 22:11:03] \"POST /socket.io/?EIO=4&transport=polling&t=OcLmVMt&sid=wFzEmzXQ5-60G-FpAADG HTTP/1.1\" 200 -\n",
      "127.0.0.1 - - [26/Jul/2023 22:11:03] \"GET /socket.io/?EIO=4&transport=polling&t=OcLmS2V.0&sid=wFzEmzXQ5-60G-FpAADG HTTP/1.1\" 200 -\n",
      "127.0.0.1 - - [26/Jul/2023 22:11:03] \"GET /socket.io/?EIO=4&transport=polling&t=OcLmVNR HTTP/1.1\" 200 -\n",
      "127.0.0.1 - - [26/Jul/2023 22:11:03] \"POST /socket.io/?EIO=4&transport=polling&t=OcLmVNi&sid=SlJA0BbixHG_Nqz2AADI HTTP/1.1\" 200 -\n",
      "127.0.0.1 - - [26/Jul/2023 22:11:03] \"GET /socket.io/?EIO=4&transport=polling&t=OcLmVNi.0&sid=SlJA0BbixHG_Nqz2AADI HTTP/1.1\" 200 -\n",
      "127.0.0.1 - - [26/Jul/2023 22:11:06] \"GET /socket.io/?EIO=4&transport=polling&t=OcLmPxA&sid=bsv2p3VOcBompGaRAACv HTTP/1.1\" 200 -\n",
      "127.0.0.1 - - [26/Jul/2023 22:11:06] \"POST /socket.io/?EIO=4&transport=polling&t=OcLmW1x&sid=bsv2p3VOcBompGaRAACv HTTP/1.1\" 200 -\n",
      "127.0.0.1 - - [26/Jul/2023 22:11:13] \"POST /socket.io/?EIO=4&transport=polling&t=OcLmXiu&sid=SlJA0BbixHG_Nqz2AADI HTTP/1.1\" 200 -\n",
      "127.0.0.1 - - [26/Jul/2023 22:11:13] \"GET /socket.io/?EIO=4&transport=polling&t=OcLmVNq&sid=SlJA0BbixHG_Nqz2AADI HTTP/1.1\" 200 -\n",
      "127.0.0.1 - - [26/Jul/2023 22:11:13] \"GET /socket.io/?EIO=4&transport=polling&t=OcLmXjO HTTP/1.1\" 200 -\n",
      "127.0.0.1 - - [26/Jul/2023 22:11:13] \"POST /socket.io/?EIO=4&transport=polling&t=OcLmXjf&sid=hDk3AWTkRR2QTGOCAADK HTTP/1.1\" 200 -\n",
      "127.0.0.1 - - [26/Jul/2023 22:11:13] \"GET /socket.io/?EIO=4&transport=polling&t=OcLmXjg&sid=hDk3AWTkRR2QTGOCAADK HTTP/1.1\" 200 -\n",
      "127.0.0.1 - - [26/Jul/2023 22:11:15] \"POST /socket.io/?EIO=4&transport=polling&t=OcLmY7i&sid=hDk3AWTkRR2QTGOCAADK HTTP/1.1\" 200 -\n",
      "127.0.0.1 - - [26/Jul/2023 22:11:15] \"GET /socket.io/?EIO=4&transport=polling&t=OcLmXjo&sid=hDk3AWTkRR2QTGOCAADK HTTP/1.1\" 200 -\n",
      "127.0.0.1 - - [26/Jul/2023 22:11:15] \"GET /socket.io/?EIO=4&transport=polling&t=OcLmY8B HTTP/1.1\" 200 -\n",
      "127.0.0.1 - - [26/Jul/2023 22:11:15] \"POST /socket.io/?EIO=4&transport=polling&t=OcLmY8F&sid=tL-zXWN5utsjNyXMAADM HTTP/1.1\" 200 -\n",
      "127.0.0.1 - - [26/Jul/2023 22:11:15] \"GET /socket.io/?EIO=4&transport=polling&t=OcLmY8G&sid=tL-zXWN5utsjNyXMAADM HTTP/1.1\" 200 -\n",
      "127.0.0.1 - - [26/Jul/2023 22:11:31] \"GET /socket.io/?EIO=4&transport=polling&t=OcLmW1y&sid=bsv2p3VOcBompGaRAACv HTTP/1.1\" 200 -\n",
      "127.0.0.1 - - [26/Jul/2023 22:11:31] \"POST /socket.io/?EIO=4&transport=polling&t=OcLmc8j&sid=bsv2p3VOcBompGaRAACv HTTP/1.1\" 200 -\n",
      "127.0.0.1 - - [26/Jul/2023 22:11:36] \"POST /socket.io/?EIO=4&transport=polling&t=OcLmdE5&sid=tL-zXWN5utsjNyXMAADM HTTP/1.1\" 200 -\n",
      "127.0.0.1 - - [26/Jul/2023 22:11:36] \"GET /socket.io/?EIO=4&transport=polling&t=OcLmY8Y&sid=tL-zXWN5utsjNyXMAADM HTTP/1.1\" 200 -\n",
      "127.0.0.1 - - [26/Jul/2023 22:11:36] \"GET /socket.io/?EIO=4&transport=polling&t=OcLmdEc HTTP/1.1\" 200 -\n",
      "127.0.0.1 - - [26/Jul/2023 22:11:36] \"POST /socket.io/?EIO=4&transport=polling&t=OcLmdEt&sid=Utk0f_dyVsp3mCHBAADO HTTP/1.1\" 200 -\n",
      "127.0.0.1 - - [26/Jul/2023 22:11:36] \"GET /socket.io/?EIO=4&transport=polling&t=OcLmdEu&sid=Utk0f_dyVsp3mCHBAADO HTTP/1.1\" 200 -\n",
      "127.0.0.1 - - [26/Jul/2023 22:11:56] \"GET /socket.io/?EIO=4&transport=polling&t=OcLmc8k&sid=bsv2p3VOcBompGaRAACv HTTP/1.1\" 200 -\n",
      "127.0.0.1 - - [26/Jul/2023 22:11:56] \"POST /socket.io/?EIO=4&transport=polling&t=OcLmiFS&sid=bsv2p3VOcBompGaRAACv HTTP/1.1\" 200 -\n",
      "127.0.0.1 - - [26/Jul/2023 22:12:01] \"GET /socket.io/?EIO=4&transport=polling&t=OcLmdF1&sid=Utk0f_dyVsp3mCHBAADO HTTP/1.1\" 200 -\n",
      "127.0.0.1 - - [26/Jul/2023 22:12:01] \"POST /socket.io/?EIO=4&transport=polling&t=OcLmjLM&sid=Utk0f_dyVsp3mCHBAADO HTTP/1.1\" 200 -\n",
      "127.0.0.1 - - [26/Jul/2023 22:12:21] \"GET /socket.io/?EIO=4&transport=polling&t=OcLmiFT&sid=bsv2p3VOcBompGaRAACv HTTP/1.1\" 200 -\n",
      "127.0.0.1 - - [26/Jul/2023 22:12:21] \"POST /socket.io/?EIO=4&transport=polling&t=OcLmoMC&sid=bsv2p3VOcBompGaRAACv HTTP/1.1\" 200 -\n",
      "127.0.0.1 - - [26/Jul/2023 22:12:26] \"GET /socket.io/?EIO=4&transport=polling&t=OcLmjLM.0&sid=Utk0f_dyVsp3mCHBAADO HTTP/1.1\" 200 -\n",
      "127.0.0.1 - - [26/Jul/2023 22:12:26] \"POST /socket.io/?EIO=4&transport=polling&t=OcLmpS5&sid=Utk0f_dyVsp3mCHBAADO HTTP/1.1\" 200 -\n",
      "127.0.0.1 - - [26/Jul/2023 22:12:46] \"GET /socket.io/?EIO=4&transport=polling&t=OcLmoMD&sid=bsv2p3VOcBompGaRAACv HTTP/1.1\" 200 -\n",
      "127.0.0.1 - - [26/Jul/2023 22:12:46] \"POST /socket.io/?EIO=4&transport=polling&t=OcLmuT1&sid=bsv2p3VOcBompGaRAACv HTTP/1.1\" 200 -\n",
      "127.0.0.1 - - [26/Jul/2023 22:12:51] \"GET /socket.io/?EIO=4&transport=polling&t=OcLmpS5.0&sid=Utk0f_dyVsp3mCHBAADO HTTP/1.1\" 200 -\n",
      "127.0.0.1 - - [26/Jul/2023 22:12:51] \"POST /socket.io/?EIO=4&transport=polling&t=OcLmvYu&sid=Utk0f_dyVsp3mCHBAADO HTTP/1.1\" 200 -\n",
      "127.0.0.1 - - [26/Jul/2023 22:12:56] \"POST /socket.io/?EIO=4&transport=polling&t=OcLmwrX&sid=Utk0f_dyVsp3mCHBAADO HTTP/1.1\" 200 -\n",
      "127.0.0.1 - - [26/Jul/2023 22:12:56] \"GET /socket.io/?EIO=4&transport=polling&t=OcLmvYv&sid=Utk0f_dyVsp3mCHBAADO HTTP/1.1\" 200 -\n",
      "127.0.0.1 - - [26/Jul/2023 22:12:56] \"GET /socket.io/?EIO=4&transport=polling&t=OcLmws3 HTTP/1.1\" 200 -\n",
      "127.0.0.1 - - [26/Jul/2023 22:12:56] \"POST /socket.io/?EIO=4&transport=polling&t=OcLmws7&sid=fLpSsamB4aDCuDJAAADQ HTTP/1.1\" 200 -\n",
      "127.0.0.1 - - [26/Jul/2023 22:12:56] \"GET /socket.io/?EIO=4&transport=polling&t=OcLmws7.0&sid=fLpSsamB4aDCuDJAAADQ HTTP/1.1\" 200 -\n",
      "127.0.0.1 - - [26/Jul/2023 22:13:11] \"GET /socket.io/?EIO=4&transport=polling&t=OcLmuT2&sid=bsv2p3VOcBompGaRAACv HTTP/1.1\" 200 -\n",
      "127.0.0.1 - - [26/Jul/2023 22:13:11] \"POST /socket.io/?EIO=4&transport=polling&t=OcLm-Zs&sid=bsv2p3VOcBompGaRAACv HTTP/1.1\" 200 -\n",
      "127.0.0.1 - - [26/Jul/2023 22:13:20] \"POST /socket.io/?EIO=4&transport=polling&t=OcLn0lH&sid=fLpSsamB4aDCuDJAAADQ HTTP/1.1\" 200 -\n",
      "127.0.0.1 - - [26/Jul/2023 22:13:20] \"GET /socket.io/?EIO=4&transport=polling&t=OcLmwsQ&sid=fLpSsamB4aDCuDJAAADQ HTTP/1.1\" 200 -\n",
      "127.0.0.1 - - [26/Jul/2023 22:13:20] \"GET /socket.io/?EIO=4&transport=polling&t=OcLn0m1 HTTP/1.1\" 200 -\n",
      "127.0.0.1 - - [26/Jul/2023 22:13:20] \"POST /socket.io/?EIO=4&transport=polling&t=OcLn0mB&sid=bSgbDpwmOuky8dlYAADS HTTP/1.1\" 200 -\n",
      "127.0.0.1 - - [26/Jul/2023 22:13:20] \"GET /socket.io/?EIO=4&transport=polling&t=OcLn0mC&sid=bSgbDpwmOuky8dlYAADS HTTP/1.1\" 200 -\n",
      "127.0.0.1 - - [26/Jul/2023 22:13:36] \"GET /socket.io/?EIO=4&transport=polling&t=OcLm-Zt&sid=bsv2p3VOcBompGaRAACv HTTP/1.1\" 200 -\n",
      "127.0.0.1 - - [26/Jul/2023 22:13:36] \"POST /socket.io/?EIO=4&transport=polling&t=OcLn4gk&sid=bsv2p3VOcBompGaRAACv HTTP/1.1\" 200 -\n",
      "127.0.0.1 - - [26/Jul/2023 22:13:45] \"GET /socket.io/?EIO=4&transport=polling&t=OcLn0md&sid=bSgbDpwmOuky8dlYAADS HTTP/1.1\" 200 -\n",
      "127.0.0.1 - - [26/Jul/2023 22:13:45] \"POST /socket.io/?EIO=4&transport=polling&t=OcLn6so&sid=bSgbDpwmOuky8dlYAADS HTTP/1.1\" 200 -\n",
      "127.0.0.1 - - [26/Jul/2023 22:13:56] \"POST /socket.io/?EIO=4&transport=polling&t=OcLn9a0&sid=bSgbDpwmOuky8dlYAADS HTTP/1.1\" 200 -\n",
      "127.0.0.1 - - [26/Jul/2023 22:13:56] \"GET /socket.io/?EIO=4&transport=polling&t=OcLn6sp&sid=bSgbDpwmOuky8dlYAADS HTTP/1.1\" 200 -\n",
      "127.0.0.1 - - [26/Jul/2023 22:13:56] \"GET /socket.io/?EIO=4&transport=polling&t=OcLn9a- HTTP/1.1\" 200 -\n",
      "127.0.0.1 - - [26/Jul/2023 22:13:56] \"POST /socket.io/?EIO=4&transport=polling&t=OcLn9b6&sid=3u9VdFlZFg9yRXGpAADU HTTP/1.1\" 200 -\n",
      "127.0.0.1 - - [26/Jul/2023 22:13:56] \"GET /socket.io/?EIO=4&transport=polling&t=OcLn9b7&sid=3u9VdFlZFg9yRXGpAADU HTTP/1.1\" 200 -\n",
      "127.0.0.1 - - [26/Jul/2023 22:14:01] \"GET /socket.io/?EIO=4&transport=polling&t=OcLn4gl&sid=bsv2p3VOcBompGaRAACv HTTP/1.1\" 200 -\n",
      "127.0.0.1 - - [26/Jul/2023 22:14:01] \"POST /socket.io/?EIO=4&transport=polling&t=OcLnAnZ&sid=bsv2p3VOcBompGaRAACv HTTP/1.1\" 200 -\n",
      "127.0.0.1 - - [26/Jul/2023 22:14:20] \"POST /socket.io/?EIO=4&transport=polling&t=OcLnFNQ&sid=3u9VdFlZFg9yRXGpAADU HTTP/1.1\" 200 -\n",
      "127.0.0.1 - - [26/Jul/2023 22:14:20] \"GET /socket.io/?EIO=4&transport=polling&t=OcLn9bW&sid=3u9VdFlZFg9yRXGpAADU HTTP/1.1\" 200 -\n",
      "127.0.0.1 - - [26/Jul/2023 22:14:20] \"GET /socket.io/?EIO=4&transport=polling&t=OcLnFOQ HTTP/1.1\" 200 -\n",
      "127.0.0.1 - - [26/Jul/2023 22:14:20] \"POST /socket.io/?EIO=4&transport=polling&t=OcLnFOV&sid=-I7yO8lDY1GrsXQmAADW HTTP/1.1\" 200 -\n",
      "127.0.0.1 - - [26/Jul/2023 22:14:20] \"GET /socket.io/?EIO=4&transport=polling&t=OcLnFOW&sid=-I7yO8lDY1GrsXQmAADW HTTP/1.1\" 200 -\n",
      "127.0.0.1 - - [26/Jul/2023 22:14:26] \"GET /socket.io/?EIO=4&transport=polling&t=OcLnAna&sid=bsv2p3VOcBompGaRAACv HTTP/1.1\" 200 -\n",
      "127.0.0.1 - - [26/Jul/2023 22:14:26] \"POST /socket.io/?EIO=4&transport=polling&t=OcLnGuJ&sid=bsv2p3VOcBompGaRAACv HTTP/1.1\" 200 -\n",
      "127.0.0.1 - - [26/Jul/2023 22:14:38] \"POST /socket.io/?EIO=4&transport=polling&t=OcLnJjK&sid=-I7yO8lDY1GrsXQmAADW HTTP/1.1\" 200 -\n",
      "127.0.0.1 - - [26/Jul/2023 22:14:38] \"GET /socket.io/?EIO=4&transport=polling&t=OcLnFOs&sid=-I7yO8lDY1GrsXQmAADW HTTP/1.1\" 200 -\n",
      "127.0.0.1 - - [26/Jul/2023 22:14:38] \"GET /socket.io/?EIO=4&transport=polling&t=OcLnJkI HTTP/1.1\" 200 -\n",
      "127.0.0.1 - - [26/Jul/2023 22:14:38] \"POST /socket.io/?EIO=4&transport=polling&t=OcLnJkP&sid=Bqvo6oQ9-2ZcG3rmAADY HTTP/1.1\" 200 -\n",
      "127.0.0.1 - - [26/Jul/2023 22:14:38] \"GET /socket.io/?EIO=4&transport=polling&t=OcLnJkP.0&sid=Bqvo6oQ9-2ZcG3rmAADY HTTP/1.1\" 200 -\n",
      "127.0.0.1 - - [26/Jul/2023 22:14:51] \"GET /socket.io/?EIO=4&transport=polling&t=OcLnGuK&sid=bsv2p3VOcBompGaRAACv HTTP/1.1\" 200 -\n",
      "127.0.0.1 - - [26/Jul/2023 22:14:51] \"POST /socket.io/?EIO=4&transport=polling&t=OcLnM_2&sid=bsv2p3VOcBompGaRAACv HTTP/1.1\" 200 -\n",
      "127.0.0.1 - - [26/Jul/2023 22:15:03] \"GET /socket.io/?EIO=4&transport=polling&t=OcLnJks&sid=Bqvo6oQ9-2ZcG3rmAADY HTTP/1.1\" 200 -\n",
      "127.0.0.1 - - [26/Jul/2023 22:15:03] \"POST /socket.io/?EIO=4&transport=polling&t=OcLnPr5&sid=Bqvo6oQ9-2ZcG3rmAADY HTTP/1.1\" 200 -\n",
      "127.0.0.1 - - [26/Jul/2023 22:15:04] \"POST /socket.io/?EIO=4&transport=polling&t=OcLnQDI&sid=Bqvo6oQ9-2ZcG3rmAADY HTTP/1.1\" 200 -\n",
      "127.0.0.1 - - [26/Jul/2023 22:15:04] \"GET /socket.io/?EIO=4&transport=polling&t=OcLnPr6&sid=Bqvo6oQ9-2ZcG3rmAADY HTTP/1.1\" 200 -\n",
      "127.0.0.1 - - [26/Jul/2023 22:15:04] \"GET /socket.io/?EIO=4&transport=polling&t=OcLnQE4 HTTP/1.1\" 200 -\n",
      "127.0.0.1 - - [26/Jul/2023 22:15:04] \"POST /socket.io/?EIO=4&transport=polling&t=OcLnQEN&sid=8bQtKnmx16oQ35G0AADa HTTP/1.1\" 200 -\n",
      "127.0.0.1 - - [26/Jul/2023 22:15:04] \"GET /socket.io/?EIO=4&transport=polling&t=OcLnQEO&sid=8bQtKnmx16oQ35G0AADa HTTP/1.1\" 200 -\n",
      "127.0.0.1 - - [26/Jul/2023 22:15:16] \"GET /socket.io/?EIO=4&transport=polling&t=OcLnM_3&sid=bsv2p3VOcBompGaRAACv HTTP/1.1\" 200 -\n",
      "127.0.0.1 - - [26/Jul/2023 22:15:16] \"POST /socket.io/?EIO=4&transport=polling&t=OcLnT5t&sid=bsv2p3VOcBompGaRAACv HTTP/1.1\" 200 -\n",
      "127.0.0.1 - - [26/Jul/2023 22:15:29] \"GET /socket.io/?EIO=4&transport=polling&t=OcLnQEe&sid=8bQtKnmx16oQ35G0AADa HTTP/1.1\" 200 -\n",
      "127.0.0.1 - - [26/Jul/2023 22:15:29] \"POST /socket.io/?EIO=4&transport=polling&t=OcLnWKt&sid=8bQtKnmx16oQ35G0AADa HTTP/1.1\" 200 -\n",
      "127.0.0.1 - - [26/Jul/2023 22:15:41] \"GET /socket.io/?EIO=4&transport=polling&t=OcLnT5u&sid=bsv2p3VOcBompGaRAACv HTTP/1.1\" 200 -\n",
      "127.0.0.1 - - [26/Jul/2023 22:15:41] \"POST /socket.io/?EIO=4&transport=polling&t=OcLnZCi&sid=bsv2p3VOcBompGaRAACv HTTP/1.1\" 200 -\n",
      "127.0.0.1 - - [26/Jul/2023 22:15:54] \"GET /socket.io/?EIO=4&transport=polling&t=OcLnWKu&sid=8bQtKnmx16oQ35G0AADa HTTP/1.1\" 200 -\n",
      "127.0.0.1 - - [26/Jul/2023 22:15:54] \"POST /socket.io/?EIO=4&transport=polling&t=OcLncRh&sid=8bQtKnmx16oQ35G0AADa HTTP/1.1\" 200 -\n",
      "127.0.0.1 - - [26/Jul/2023 22:16:06] \"GET /socket.io/?EIO=4&transport=polling&t=OcLnZCj&sid=bsv2p3VOcBompGaRAACv HTTP/1.1\" 200 -\n",
      "127.0.0.1 - - [26/Jul/2023 22:16:06] \"POST /socket.io/?EIO=4&transport=polling&t=OcLnfJY&sid=bsv2p3VOcBompGaRAACv HTTP/1.1\" 200 -\n",
      "127.0.0.1 - - [26/Jul/2023 22:16:19] \"GET /socket.io/?EIO=4&transport=polling&t=OcLncRi&sid=8bQtKnmx16oQ35G0AADa HTTP/1.1\" 200 -\n",
      "127.0.0.1 - - [26/Jul/2023 22:16:20] \"POST /socket.io/?EIO=4&transport=polling&t=OcLniYV&sid=8bQtKnmx16oQ35G0AADa HTTP/1.1\" 200 -\n",
      "127.0.0.1 - - [26/Jul/2023 22:16:31] \"GET /socket.io/?EIO=4&transport=polling&t=OcLnfJZ&sid=bsv2p3VOcBompGaRAACv HTTP/1.1\" 200 -\n",
      "127.0.0.1 - - [26/Jul/2023 22:16:31] \"POST /socket.io/?EIO=4&transport=polling&t=OcLnlQI&sid=bsv2p3VOcBompGaRAACv HTTP/1.1\" 200 -\n",
      "127.0.0.1 - - [26/Jul/2023 22:16:45] \"GET /socket.io/?EIO=4&transport=polling&t=OcLniYW&sid=8bQtKnmx16oQ35G0AADa HTTP/1.1\" 200 -\n",
      "127.0.0.1 - - [26/Jul/2023 22:16:45] \"POST /socket.io/?EIO=4&transport=polling&t=OcLnofL&sid=8bQtKnmx16oQ35G0AADa HTTP/1.1\" 200 -\n",
      "127.0.0.1 - - [26/Jul/2023 22:16:56] \"GET /socket.io/?EIO=4&transport=polling&t=OcLnlQJ&sid=bsv2p3VOcBompGaRAACv HTTP/1.1\" 200 -\n",
      "127.0.0.1 - - [26/Jul/2023 22:16:56] \"POST /socket.io/?EIO=4&transport=polling&t=OcLnrX4&sid=bsv2p3VOcBompGaRAACv HTTP/1.1\" 200 -\n",
      "127.0.0.1 - - [26/Jul/2023 22:17:10] \"GET /socket.io/?EIO=4&transport=polling&t=OcLnofL.0&sid=8bQtKnmx16oQ35G0AADa HTTP/1.1\" 200 -\n",
      "127.0.0.1 - - [26/Jul/2023 22:17:10] \"POST /socket.io/?EIO=4&transport=polling&t=OcLnum8&sid=8bQtKnmx16oQ35G0AADa HTTP/1.1\" 200 -\n",
      "127.0.0.1 - - [26/Jul/2023 22:17:21] \"GET /socket.io/?EIO=4&transport=polling&t=OcLnrX5&sid=bsv2p3VOcBompGaRAACv HTTP/1.1\" 200 -\n",
      "127.0.0.1 - - [26/Jul/2023 22:17:21] \"POST /socket.io/?EIO=4&transport=polling&t=OcLnxdv&sid=bsv2p3VOcBompGaRAACv HTTP/1.1\" 200 -\n",
      "127.0.0.1 - - [26/Jul/2023 22:17:35] \"GET /socket.io/?EIO=4&transport=polling&t=OcLnum8.0&sid=8bQtKnmx16oQ35G0AADa HTTP/1.1\" 200 -\n",
      "127.0.0.1 - - [26/Jul/2023 22:17:35] \"POST /socket.io/?EIO=4&transport=polling&t=OcLn-sx&sid=8bQtKnmx16oQ35G0AADa HTTP/1.1\" 200 -\n",
      "127.0.0.1 - - [26/Jul/2023 22:17:46] \"GET /socket.io/?EIO=4&transport=polling&t=OcLnxdw&sid=bsv2p3VOcBompGaRAACv HTTP/1.1\" 200 -\n",
      "127.0.0.1 - - [26/Jul/2023 22:17:46] \"POST /socket.io/?EIO=4&transport=polling&t=OcLo1kj&sid=bsv2p3VOcBompGaRAACv HTTP/1.1\" 200 -\n",
      "127.0.0.1 - - [26/Jul/2023 22:18:00] \"GET /socket.io/?EIO=4&transport=polling&t=OcLn-sx.0&sid=8bQtKnmx16oQ35G0AADa HTTP/1.1\" 200 -\n",
      "127.0.0.1 - - [26/Jul/2023 22:18:00] \"POST /socket.io/?EIO=4&transport=polling&t=OcLo4zi&sid=8bQtKnmx16oQ35G0AADa HTTP/1.1\" 200 -\n",
      "127.0.0.1 - - [26/Jul/2023 22:18:11] \"GET /socket.io/?EIO=4&transport=polling&t=OcLo1kk&sid=bsv2p3VOcBompGaRAACv HTTP/1.1\" 200 -\n",
      "127.0.0.1 - - [26/Jul/2023 22:18:11] \"POST /socket.io/?EIO=4&transport=polling&t=OcLo7rW&sid=bsv2p3VOcBompGaRAACv HTTP/1.1\" 200 -\n",
      "127.0.0.1 - - [26/Jul/2023 22:18:25] \"GET /socket.io/?EIO=4&transport=polling&t=OcLo4zj&sid=8bQtKnmx16oQ35G0AADa HTTP/1.1\" 200 -\n",
      "127.0.0.1 - - [26/Jul/2023 22:18:25] \"POST /socket.io/?EIO=4&transport=polling&t=OcLoB4U&sid=8bQtKnmx16oQ35G0AADa HTTP/1.1\" 200 -\n",
      "127.0.0.1 - - [26/Jul/2023 22:18:36] \"GET /socket.io/?EIO=4&transport=polling&t=OcLo7rX&sid=bsv2p3VOcBompGaRAACv HTTP/1.1\" 200 -\n",
      "127.0.0.1 - - [26/Jul/2023 22:18:36] \"POST /socket.io/?EIO=4&transport=polling&t=OcLoDyJ&sid=bsv2p3VOcBompGaRAACv HTTP/1.1\" 200 -\n",
      "127.0.0.1 - - [26/Jul/2023 22:18:50] \"GET /socket.io/?EIO=4&transport=polling&t=OcLoB4U.0&sid=8bQtKnmx16oQ35G0AADa HTTP/1.1\" 200 -\n",
      "127.0.0.1 - - [26/Jul/2023 22:18:50] \"POST /socket.io/?EIO=4&transport=polling&t=OcLoHBI&sid=8bQtKnmx16oQ35G0AADa HTTP/1.1\" 200 -\n",
      "127.0.0.1 - - [26/Jul/2023 22:19:01] \"GET /socket.io/?EIO=4&transport=polling&t=OcLoDyK&sid=bsv2p3VOcBompGaRAACv HTTP/1.1\" 200 -\n",
      "127.0.0.1 - - [26/Jul/2023 22:19:01] \"POST /socket.io/?EIO=4&transport=polling&t=OcLoK38&sid=bsv2p3VOcBompGaRAACv HTTP/1.1\" 200 -\n",
      "127.0.0.1 - - [26/Jul/2023 22:19:15] \"GET /socket.io/?EIO=4&transport=polling&t=OcLoHBJ&sid=8bQtKnmx16oQ35G0AADa HTTP/1.1\" 200 -\n",
      "127.0.0.1 - - [26/Jul/2023 22:19:15] \"POST /socket.io/?EIO=4&transport=polling&t=OcLoNI3&sid=8bQtKnmx16oQ35G0AADa HTTP/1.1\" 200 -\n",
      "127.0.0.1 - - [26/Jul/2023 22:19:26] \"GET /socket.io/?EIO=4&transport=polling&t=OcLoK39&sid=bsv2p3VOcBompGaRAACv HTTP/1.1\" 200 -\n",
      "127.0.0.1 - - [26/Jul/2023 22:19:26] \"POST /socket.io/?EIO=4&transport=polling&t=OcLoQ9y&sid=bsv2p3VOcBompGaRAACv HTTP/1.1\" 200 -\n",
      "127.0.0.1 - - [26/Jul/2023 22:19:40] \"GET /socket.io/?EIO=4&transport=polling&t=OcLoNI4&sid=8bQtKnmx16oQ35G0AADa HTTP/1.1\" 200 -\n",
      "127.0.0.1 - - [26/Jul/2023 22:19:40] \"POST /socket.io/?EIO=4&transport=polling&t=OcLoTOv&sid=8bQtKnmx16oQ35G0AADa HTTP/1.1\" 200 -\n",
      "127.0.0.1 - - [26/Jul/2023 22:19:51] \"GET /socket.io/?EIO=4&transport=polling&t=OcLoQ9z&sid=bsv2p3VOcBompGaRAACv HTTP/1.1\" 200 -\n",
      "127.0.0.1 - - [26/Jul/2023 22:19:51] \"POST /socket.io/?EIO=4&transport=polling&t=OcLoWGm&sid=bsv2p3VOcBompGaRAACv HTTP/1.1\" 200 -\n",
      "127.0.0.1 - - [26/Jul/2023 22:20:05] \"GET /socket.io/?EIO=4&transport=polling&t=OcLoTOw&sid=8bQtKnmx16oQ35G0AADa HTTP/1.1\" 200 -\n",
      "127.0.0.1 - - [26/Jul/2023 22:20:05] \"POST /socket.io/?EIO=4&transport=polling&t=OcLoZVf&sid=8bQtKnmx16oQ35G0AADa HTTP/1.1\" 200 -\n",
      "127.0.0.1 - - [26/Jul/2023 22:20:16] \"GET /socket.io/?EIO=4&transport=polling&t=OcLoWGn&sid=bsv2p3VOcBompGaRAACv HTTP/1.1\" 200 -\n",
      "127.0.0.1 - - [26/Jul/2023 22:20:16] \"POST /socket.io/?EIO=4&transport=polling&t=OcLocNX&sid=bsv2p3VOcBompGaRAACv HTTP/1.1\" 200 -\n",
      "127.0.0.1 - - [26/Jul/2023 22:20:19] \"POST /socket.io/?EIO=4&transport=polling&t=OcLoczO&sid=8bQtKnmx16oQ35G0AADa HTTP/1.1\" 200 -\n",
      "127.0.0.1 - - [26/Jul/2023 22:20:19] \"GET /socket.io/?EIO=4&transport=polling&t=OcLoZVg&sid=8bQtKnmx16oQ35G0AADa HTTP/1.1\" 200 -\n",
      "127.0.0.1 - - [26/Jul/2023 22:20:19] \"GET /socket.io/?EIO=4&transport=polling&t=OcLoc-B HTTP/1.1\" 200 -\n",
      "127.0.0.1 - - [26/Jul/2023 22:20:19] \"POST /socket.io/?EIO=4&transport=polling&t=OcLoc-N&sid=5rn64kXnCwQtlUhIAADc HTTP/1.1\" 200 -\n",
      "127.0.0.1 - - [26/Jul/2023 22:20:19] \"GET /socket.io/?EIO=4&transport=polling&t=OcLoc-N.0&sid=5rn64kXnCwQtlUhIAADc HTTP/1.1\" 200 -\n",
      "127.0.0.1 - - [26/Jul/2023 22:20:41] \"GET /socket.io/?EIO=4&transport=polling&t=OcLocNY&sid=bsv2p3VOcBompGaRAACv HTTP/1.1\" 200 -\n",
      "127.0.0.1 - - [26/Jul/2023 22:20:41] \"POST /socket.io/?EIO=4&transport=polling&t=OcLoiUM&sid=bsv2p3VOcBompGaRAACv HTTP/1.1\" 200 -\n",
      "127.0.0.1 - - [26/Jul/2023 22:20:44] \"GET /socket.io/?EIO=4&transport=polling&t=OcLoc-m&sid=5rn64kXnCwQtlUhIAADc HTTP/1.1\" 200 -\n",
      "127.0.0.1 - - [26/Jul/2023 22:20:44] \"POST /socket.io/?EIO=4&transport=polling&t=OcLoj4x&sid=5rn64kXnCwQtlUhIAADc HTTP/1.1\" 200 -\n",
      "127.0.0.1 - - [26/Jul/2023 22:21:06] \"GET /socket.io/?EIO=4&transport=polling&t=OcLoiUN&sid=bsv2p3VOcBompGaRAACv HTTP/1.1\" 200 -\n",
      "127.0.0.1 - - [26/Jul/2023 22:21:06] \"POST /socket.io/?EIO=4&transport=polling&t=OcLoobC&sid=bsv2p3VOcBompGaRAACv HTTP/1.1\" 200 -\n",
      "127.0.0.1 - - [26/Jul/2023 22:21:09] \"GET /socket.io/?EIO=4&transport=polling&t=OcLoj4x.0&sid=5rn64kXnCwQtlUhIAADc HTTP/1.1\" 200 -\n",
      "127.0.0.1 - - [26/Jul/2023 22:21:09] \"POST /socket.io/?EIO=4&transport=polling&t=OcLopBi&sid=5rn64kXnCwQtlUhIAADc HTTP/1.1\" 200 -\n",
      "127.0.0.1 - - [26/Jul/2023 22:21:31] \"GET /socket.io/?EIO=4&transport=polling&t=OcLoobD&sid=bsv2p3VOcBompGaRAACv HTTP/1.1\" 200 -\n",
      "127.0.0.1 - - [26/Jul/2023 22:21:31] \"POST /socket.io/?EIO=4&transport=polling&t=OcLoui2&sid=bsv2p3VOcBompGaRAACv HTTP/1.1\" 200 -\n",
      "127.0.0.1 - - [26/Jul/2023 22:21:34] \"GET /socket.io/?EIO=4&transport=polling&t=OcLopBj&sid=5rn64kXnCwQtlUhIAADc HTTP/1.1\" 200 -\n",
      "127.0.0.1 - - [26/Jul/2023 22:21:34] \"POST /socket.io/?EIO=4&transport=polling&t=OcLovIS&sid=5rn64kXnCwQtlUhIAADc HTTP/1.1\" 200 -\n",
      "127.0.0.1 - - [26/Jul/2023 22:21:56] \"GET /socket.io/?EIO=4&transport=polling&t=OcLoui3&sid=bsv2p3VOcBompGaRAACv HTTP/1.1\" 200 -\n",
      "127.0.0.1 - - [26/Jul/2023 22:21:56] \"POST /socket.io/?EIO=4&transport=polling&t=OcLo-oq&sid=bsv2p3VOcBompGaRAACv HTTP/1.1\" 200 -\n",
      "127.0.0.1 - - [26/Jul/2023 22:21:59] \"GET /socket.io/?EIO=4&transport=polling&t=OcLovIT&sid=5rn64kXnCwQtlUhIAADc HTTP/1.1\" 200 -\n",
      "127.0.0.1 - - [26/Jul/2023 22:21:59] \"POST /socket.io/?EIO=4&transport=polling&t=OcLo_PH&sid=5rn64kXnCwQtlUhIAADc HTTP/1.1\" 200 -\n",
      "127.0.0.1 - - [26/Jul/2023 22:22:21] \"GET /socket.io/?EIO=4&transport=polling&t=OcLo-or&sid=bsv2p3VOcBompGaRAACv HTTP/1.1\" 200 -\n",
      "127.0.0.1 - - [26/Jul/2023 22:22:21] \"POST /socket.io/?EIO=4&transport=polling&t=OcLp4vg&sid=bsv2p3VOcBompGaRAACv HTTP/1.1\" 200 -\n",
      "127.0.0.1 - - [26/Jul/2023 22:22:24] \"GET /socket.io/?EIO=4&transport=polling&t=OcLo_PI&sid=5rn64kXnCwQtlUhIAADc HTTP/1.1\" 200 -\n",
      "127.0.0.1 - - [26/Jul/2023 22:22:24] \"POST /socket.io/?EIO=4&transport=polling&t=OcLp5W5&sid=5rn64kXnCwQtlUhIAADc HTTP/1.1\" 200 -\n",
      "127.0.0.1 - - [26/Jul/2023 22:22:46] \"GET /socket.io/?EIO=4&transport=polling&t=OcLp4vi&sid=bsv2p3VOcBompGaRAACv HTTP/1.1\" 200 -\n",
      "127.0.0.1 - - [26/Jul/2023 22:22:46] \"POST /socket.io/?EIO=4&transport=polling&t=OcLpB0S&sid=bsv2p3VOcBompGaRAACv HTTP/1.1\" 200 -\n",
      "127.0.0.1 - - [26/Jul/2023 22:22:49] \"GET /socket.io/?EIO=4&transport=polling&t=OcLp5W6&sid=5rn64kXnCwQtlUhIAADc HTTP/1.1\" 200 -\n",
      "127.0.0.1 - - [26/Jul/2023 22:22:49] \"POST /socket.io/?EIO=4&transport=polling&t=OcLpBcr&sid=5rn64kXnCwQtlUhIAADc HTTP/1.1\" 200 -\n",
      "127.0.0.1 - - [26/Jul/2023 22:23:11] \"GET /socket.io/?EIO=4&transport=polling&t=OcLpB0T&sid=bsv2p3VOcBompGaRAACv HTTP/1.1\" 200 -\n",
      "127.0.0.1 - - [26/Jul/2023 22:23:11] \"POST /socket.io/?EIO=4&transport=polling&t=OcLpH7D&sid=bsv2p3VOcBompGaRAACv HTTP/1.1\" 200 -\n",
      "127.0.0.1 - - [26/Jul/2023 22:23:14] \"GET /socket.io/?EIO=4&transport=polling&t=OcLpBcr.0&sid=5rn64kXnCwQtlUhIAADc HTTP/1.1\" 200 -\n",
      "127.0.0.1 - - [26/Jul/2023 22:23:14] \"POST /socket.io/?EIO=4&transport=polling&t=OcLpHjZ&sid=5rn64kXnCwQtlUhIAADc HTTP/1.1\" 200 -\n",
      "127.0.0.1 - - [26/Jul/2023 22:23:36] \"GET /socket.io/?EIO=4&transport=polling&t=OcLpH7E&sid=bsv2p3VOcBompGaRAACv HTTP/1.1\" 200 -\n",
      "127.0.0.1 - - [26/Jul/2023 22:23:36] \"POST /socket.io/?EIO=4&transport=polling&t=OcLpNE1&sid=bsv2p3VOcBompGaRAACv HTTP/1.1\" 200 -\n",
      "127.0.0.1 - - [26/Jul/2023 22:23:39] \"GET /socket.io/?EIO=4&transport=polling&t=OcLpHja&sid=5rn64kXnCwQtlUhIAADc HTTP/1.1\" 200 -\n",
      "127.0.0.1 - - [26/Jul/2023 22:23:39] \"POST /socket.io/?EIO=4&transport=polling&t=OcLpNqM&sid=5rn64kXnCwQtlUhIAADc HTTP/1.1\" 200 -\n",
      "127.0.0.1 - - [26/Jul/2023 22:24:01] \"GET /socket.io/?EIO=4&transport=polling&t=OcLpNE2&sid=bsv2p3VOcBompGaRAACv HTTP/1.1\" 200 -\n",
      "127.0.0.1 - - [26/Jul/2023 22:24:01] \"POST /socket.io/?EIO=4&transport=polling&t=OcLpTKn&sid=bsv2p3VOcBompGaRAACv HTTP/1.1\" 200 -\n",
      "127.0.0.1 - - [26/Jul/2023 22:24:04] \"GET /socket.io/?EIO=4&transport=polling&t=OcLpNqM.0&sid=5rn64kXnCwQtlUhIAADc HTTP/1.1\" 200 -\n",
      "127.0.0.1 - - [26/Jul/2023 22:24:04] \"POST /socket.io/?EIO=4&transport=polling&t=OcLpTx6&sid=5rn64kXnCwQtlUhIAADc HTTP/1.1\" 200 -\n",
      "127.0.0.1 - - [26/Jul/2023 22:24:26] \"GET /socket.io/?EIO=4&transport=polling&t=OcLpTKo&sid=bsv2p3VOcBompGaRAACv HTTP/1.1\" 200 -\n",
      "127.0.0.1 - - [26/Jul/2023 22:24:26] \"POST /socket.io/?EIO=4&transport=polling&t=OcLpZRZ&sid=bsv2p3VOcBompGaRAACv HTTP/1.1\" 200 -\n",
      "127.0.0.1 - - [26/Jul/2023 22:24:29] \"GET /socket.io/?EIO=4&transport=polling&t=OcLpTx7&sid=5rn64kXnCwQtlUhIAADc HTTP/1.1\" 200 -\n",
      "127.0.0.1 - - [26/Jul/2023 22:24:29] \"POST /socket.io/?EIO=4&transport=polling&t=OcLpa1r&sid=5rn64kXnCwQtlUhIAADc HTTP/1.1\" 200 -\n",
      "127.0.0.1 - - [26/Jul/2023 22:24:51] \"GET /socket.io/?EIO=4&transport=polling&t=OcLpZRa&sid=bsv2p3VOcBompGaRAACv HTTP/1.1\" 200 -\n",
      "127.0.0.1 - - [26/Jul/2023 22:24:51] \"POST /socket.io/?EIO=4&transport=polling&t=OcLpfYL&sid=bsv2p3VOcBompGaRAACv HTTP/1.1\" 200 -\n",
      "127.0.0.1 - - [26/Jul/2023 22:24:54] \"GET /socket.io/?EIO=4&transport=polling&t=OcLpa1s&sid=5rn64kXnCwQtlUhIAADc HTTP/1.1\" 200 -\n",
      "127.0.0.1 - - [26/Jul/2023 22:24:54] \"POST /socket.io/?EIO=4&transport=polling&t=OcLpg8a&sid=5rn64kXnCwQtlUhIAADc HTTP/1.1\" 200 -\n",
      "127.0.0.1 - - [26/Jul/2023 22:25:16] \"GET /socket.io/?EIO=4&transport=polling&t=OcLpfYM&sid=bsv2p3VOcBompGaRAACv HTTP/1.1\" 200 -\n",
      "127.0.0.1 - - [26/Jul/2023 22:25:17] \"POST /socket.io/?EIO=4&transport=polling&t=OcLplfA&sid=bsv2p3VOcBompGaRAACv HTTP/1.1\" 200 -\n",
      "127.0.0.1 - - [26/Jul/2023 22:25:19] \"GET /socket.io/?EIO=4&transport=polling&t=OcLpg8b&sid=5rn64kXnCwQtlUhIAADc HTTP/1.1\" 200 -\n",
      "127.0.0.1 - - [26/Jul/2023 22:25:19] \"POST /socket.io/?EIO=4&transport=polling&t=OcLpmFM&sid=5rn64kXnCwQtlUhIAADc HTTP/1.1\" 200 -\n",
      "127.0.0.1 - - [26/Jul/2023 22:25:42] \"GET /socket.io/?EIO=4&transport=polling&t=OcLplfB&sid=bsv2p3VOcBompGaRAACv HTTP/1.1\" 200 -\n",
      "127.0.0.1 - - [26/Jul/2023 22:25:42] \"POST /socket.io/?EIO=4&transport=polling&t=OcLprl-&sid=bsv2p3VOcBompGaRAACv HTTP/1.1\" 200 -\n",
      "127.0.0.1 - - [26/Jul/2023 22:25:44] \"GET /socket.io/?EIO=4&transport=polling&t=OcLpmFN&sid=5rn64kXnCwQtlUhIAADc HTTP/1.1\" 200 -\n",
      "127.0.0.1 - - [26/Jul/2023 22:25:44] \"POST /socket.io/?EIO=4&transport=polling&t=OcLpsMC&sid=5rn64kXnCwQtlUhIAADc HTTP/1.1\" 200 -\n",
      "127.0.0.1 - - [26/Jul/2023 22:26:07] \"GET /socket.io/?EIO=4&transport=polling&t=OcLprl_&sid=bsv2p3VOcBompGaRAACv HTTP/1.1\" 200 -\n",
      "127.0.0.1 - - [26/Jul/2023 22:26:07] \"POST /socket.io/?EIO=4&transport=polling&t=OcLpxsp&sid=bsv2p3VOcBompGaRAACv HTTP/1.1\" 200 -\n",
      "127.0.0.1 - - [26/Jul/2023 22:26:09] \"GET /socket.io/?EIO=4&transport=polling&t=OcLpsMD&sid=5rn64kXnCwQtlUhIAADc HTTP/1.1\" 200 -\n",
      "127.0.0.1 - - [26/Jul/2023 22:26:09] \"POST /socket.io/?EIO=4&transport=polling&t=OcLpySz&sid=5rn64kXnCwQtlUhIAADc HTTP/1.1\" 200 -\n",
      "127.0.0.1 - - [26/Jul/2023 22:26:32] \"GET /socket.io/?EIO=4&transport=polling&t=OcLpxsq&sid=bsv2p3VOcBompGaRAACv HTTP/1.1\" 200 -\n",
      "127.0.0.1 - - [26/Jul/2023 22:26:32] \"POST /socket.io/?EIO=4&transport=polling&t=OcLq1zc&sid=bsv2p3VOcBompGaRAACv HTTP/1.1\" 200 -\n",
      "127.0.0.1 - - [26/Jul/2023 22:26:34] \"GET /socket.io/?EIO=4&transport=polling&t=OcLpyS-&sid=5rn64kXnCwQtlUhIAADc HTTP/1.1\" 200 -\n",
      "127.0.0.1 - - [26/Jul/2023 22:26:34] \"POST /socket.io/?EIO=4&transport=polling&t=OcLq2Zj&sid=5rn64kXnCwQtlUhIAADc HTTP/1.1\" 200 -\n",
      "127.0.0.1 - - [26/Jul/2023 22:26:57] \"GET /socket.io/?EIO=4&transport=polling&t=OcLq1zd&sid=bsv2p3VOcBompGaRAACv HTTP/1.1\" 200 -\n",
      "127.0.0.1 - - [26/Jul/2023 22:26:57] \"POST /socket.io/?EIO=4&transport=polling&t=OcLq84O&sid=bsv2p3VOcBompGaRAACv HTTP/1.1\" 200 -\n",
      "127.0.0.1 - - [26/Jul/2023 22:26:59] \"GET /socket.io/?EIO=4&transport=polling&t=OcLq2Zk&sid=5rn64kXnCwQtlUhIAADc HTTP/1.1\" 200 -\n",
      "127.0.0.1 - - [26/Jul/2023 22:26:59] \"POST /socket.io/?EIO=4&transport=polling&t=OcLq8gW&sid=5rn64kXnCwQtlUhIAADc HTTP/1.1\" 200 -\n",
      "127.0.0.1 - - [26/Jul/2023 22:27:22] \"GET /socket.io/?EIO=4&transport=polling&t=OcLq84P&sid=bsv2p3VOcBompGaRAACv HTTP/1.1\" 200 -\n",
      "127.0.0.1 - - [26/Jul/2023 22:27:22] \"POST /socket.io/?EIO=4&transport=polling&t=OcLqEB9&sid=bsv2p3VOcBompGaRAACv HTTP/1.1\" 200 -\n",
      "127.0.0.1 - - [26/Jul/2023 22:27:24] \"GET /socket.io/?EIO=4&transport=polling&t=OcLq8gX&sid=5rn64kXnCwQtlUhIAADc HTTP/1.1\" 200 -\n",
      "127.0.0.1 - - [26/Jul/2023 22:27:24] \"POST /socket.io/?EIO=4&transport=polling&t=OcLqEnI&sid=5rn64kXnCwQtlUhIAADc HTTP/1.1\" 200 -\n",
      "127.0.0.1 - - [26/Jul/2023 22:27:47] \"GET /socket.io/?EIO=4&transport=polling&t=OcLqEBA&sid=bsv2p3VOcBompGaRAACv HTTP/1.1\" 200 -\n",
      "127.0.0.1 - - [26/Jul/2023 22:27:47] \"POST /socket.io/?EIO=4&transport=polling&t=OcLqKHz&sid=bsv2p3VOcBompGaRAACv HTTP/1.1\" 200 -\n",
      "127.0.0.1 - - [26/Jul/2023 22:27:49] \"GET /socket.io/?EIO=4&transport=polling&t=OcLqEnJ&sid=5rn64kXnCwQtlUhIAADc HTTP/1.1\" 200 -\n",
      "127.0.0.1 - - [26/Jul/2023 22:27:49] \"POST /socket.io/?EIO=4&transport=polling&t=OcLqKu4&sid=5rn64kXnCwQtlUhIAADc HTTP/1.1\" 200 -\n",
      "127.0.0.1 - - [26/Jul/2023 22:28:12] \"GET /socket.io/?EIO=4&transport=polling&t=OcLqKH-&sid=bsv2p3VOcBompGaRAACv HTTP/1.1\" 200 -\n",
      "127.0.0.1 - - [26/Jul/2023 22:28:12] \"POST /socket.io/?EIO=4&transport=polling&t=OcLqQOm&sid=bsv2p3VOcBompGaRAACv HTTP/1.1\" 200 -\n",
      "127.0.0.1 - - [26/Jul/2023 22:28:14] \"GET /socket.io/?EIO=4&transport=polling&t=OcLqKu5&sid=5rn64kXnCwQtlUhIAADc HTTP/1.1\" 200 -\n",
      "127.0.0.1 - - [26/Jul/2023 22:28:14] \"POST /socket.io/?EIO=4&transport=polling&t=OcLqQ-t&sid=5rn64kXnCwQtlUhIAADc HTTP/1.1\" 200 -\n",
      "127.0.0.1 - - [26/Jul/2023 22:28:37] \"GET /socket.io/?EIO=4&transport=polling&t=OcLqQOn&sid=bsv2p3VOcBompGaRAACv HTTP/1.1\" 200 -\n",
      "127.0.0.1 - - [26/Jul/2023 22:28:37] \"POST /socket.io/?EIO=4&transport=polling&t=OcLqWVa&sid=bsv2p3VOcBompGaRAACv HTTP/1.1\" 200 -\n",
      "127.0.0.1 - - [26/Jul/2023 22:28:39] \"GET /socket.io/?EIO=4&transport=polling&t=OcLqQ-u&sid=5rn64kXnCwQtlUhIAADc HTTP/1.1\" 200 -\n",
      "127.0.0.1 - - [26/Jul/2023 22:28:39] \"POST /socket.io/?EIO=4&transport=polling&t=OcLqX5h&sid=5rn64kXnCwQtlUhIAADc HTTP/1.1\" 200 -\n",
      "127.0.0.1 - - [26/Jul/2023 22:29:02] \"GET /socket.io/?EIO=4&transport=polling&t=OcLqWVb&sid=bsv2p3VOcBompGaRAACv HTTP/1.1\" 200 -\n",
      "127.0.0.1 - - [26/Jul/2023 22:29:02] \"POST /socket.io/?EIO=4&transport=polling&t=OcLqccO&sid=bsv2p3VOcBompGaRAACv HTTP/1.1\" 200 -\n",
      "127.0.0.1 - - [26/Jul/2023 22:29:04] \"GET /socket.io/?EIO=4&transport=polling&t=OcLqX5j&sid=5rn64kXnCwQtlUhIAADc HTTP/1.1\" 200 -\n",
      "127.0.0.1 - - [26/Jul/2023 22:29:04] \"POST /socket.io/?EIO=4&transport=polling&t=OcLqdCU&sid=5rn64kXnCwQtlUhIAADc HTTP/1.1\" 200 -\n",
      "127.0.0.1 - - [26/Jul/2023 22:29:19] \"POST /socket.io/?EIO=4&transport=polling&t=OcLqgzv&sid=5rn64kXnCwQtlUhIAADc HTTP/1.1\" 200 -\n"
     ]
    },
    {
     "name": "stdout",
     "output_type": "stream",
     "text": [
      "{'selectedCardIndices': [3]}\n"
     ]
    },
    {
     "name": "stderr",
     "output_type": "stream",
     "text": [
      "127.0.0.1 - - [26/Jul/2023 22:29:20] \"POST /socket.io/?EIO=4&transport=polling&t=OcLqh4u&sid=5rn64kXnCwQtlUhIAADc HTTP/1.1\" 200 -\n"
     ]
    },
    {
     "name": "stdout",
     "output_type": "stream",
     "text": [
      "{'selectedCardIndices': [3, 2]}\n"
     ]
    },
    {
     "name": "stderr",
     "output_type": "stream",
     "text": [
      "127.0.0.1 - - [26/Jul/2023 22:29:20] \"POST /socket.io/?EIO=4&transport=polling&t=OcLqh8n&sid=5rn64kXnCwQtlUhIAADc HTTP/1.1\" 200 -\n"
     ]
    },
    {
     "name": "stdout",
     "output_type": "stream",
     "text": [
      "{'selectedCardIndices': [2]}\n"
     ]
    },
    {
     "name": "stderr",
     "output_type": "stream",
     "text": [
      "127.0.0.1 - - [26/Jul/2023 22:29:27] \"GET /socket.io/?EIO=4&transport=polling&t=OcLqccP&sid=bsv2p3VOcBompGaRAACv HTTP/1.1\" 200 -\n",
      "127.0.0.1 - - [26/Jul/2023 22:29:27] \"POST /socket.io/?EIO=4&transport=polling&t=OcLqijC&sid=bsv2p3VOcBompGaRAACv HTTP/1.1\" 200 -\n",
      "127.0.0.1 - - [26/Jul/2023 22:29:29] \"GET /socket.io/?EIO=4&transport=polling&t=OcLqdCV&sid=5rn64kXnCwQtlUhIAADc HTTP/1.1\" 200 -\n",
      "127.0.0.1 - - [26/Jul/2023 22:29:29] \"POST /socket.io/?EIO=4&transport=polling&t=OcLqjJJ&sid=5rn64kXnCwQtlUhIAADc HTTP/1.1\" 200 -\n",
      "127.0.0.1 - - [26/Jul/2023 22:29:45] \"POST /socket.io/?EIO=4&transport=polling&t=OcLqn8o&sid=5rn64kXnCwQtlUhIAADc HTTP/1.1\" 200 -\n",
      "127.0.0.1 - - [26/Jul/2023 22:29:45] \"GET /socket.io/?EIO=4&transport=polling&t=OcLqjJK&sid=5rn64kXnCwQtlUhIAADc HTTP/1.1\" 200 -\n",
      "127.0.0.1 - - [26/Jul/2023 22:29:45] \"GET /socket.io/?EIO=4&transport=polling&t=OcLqn9r HTTP/1.1\" 200 -\n",
      "127.0.0.1 - - [26/Jul/2023 22:29:45] \"POST /socket.io/?EIO=4&transport=polling&t=OcLqnAD&sid=kszQzStwxE9oIsAxAADe HTTP/1.1\" 200 -\n",
      "127.0.0.1 - - [26/Jul/2023 22:29:45] \"GET /socket.io/?EIO=4&transport=polling&t=OcLqnAE&sid=kszQzStwxE9oIsAxAADe HTTP/1.1\" 200 -\n",
      "127.0.0.1 - - [26/Jul/2023 22:29:52] \"GET /socket.io/?EIO=4&transport=polling&t=OcLqijD&sid=bsv2p3VOcBompGaRAACv HTTP/1.1\" 200 -\n",
      "127.0.0.1 - - [26/Jul/2023 22:29:52] \"POST /socket.io/?EIO=4&transport=polling&t=OcLqoq0&sid=bsv2p3VOcBompGaRAACv HTTP/1.1\" 200 -\n",
      "127.0.0.1 - - [26/Jul/2023 22:29:56] \"POST /socket.io/?EIO=4&transport=polling&t=OcLqpvM&sid=kszQzStwxE9oIsAxAADe HTTP/1.1\" 200 -\n",
      "127.0.0.1 - - [26/Jul/2023 22:29:56] \"GET /socket.io/?EIO=4&transport=polling&t=OcLqnAW&sid=kszQzStwxE9oIsAxAADe HTTP/1.1\" 200 -\n",
      "127.0.0.1 - - [26/Jul/2023 22:29:56] \"GET /socket.io/?EIO=4&transport=polling&t=OcLqpw9 HTTP/1.1\" 200 -\n",
      "127.0.0.1 - - [26/Jul/2023 22:29:56] \"POST /socket.io/?EIO=4&transport=polling&t=OcLqpwQ&sid=4hm7mIHFoHdbBXUrAADg HTTP/1.1\" 200 -\n",
      "127.0.0.1 - - [26/Jul/2023 22:29:56] \"GET /socket.io/?EIO=4&transport=polling&t=OcLqpwQ.0&sid=4hm7mIHFoHdbBXUrAADg HTTP/1.1\" 200 -\n",
      "127.0.0.1 - - [26/Jul/2023 22:30:05] \"POST /socket.io/?EIO=4&transport=polling&t=OcLqs6W&sid=4hm7mIHFoHdbBXUrAADg HTTP/1.1\" 200 -\n"
     ]
    },
    {
     "name": "stdout",
     "output_type": "stream",
     "text": [
      "{'selectedCardIndices': [2]}\n"
     ]
    },
    {
     "name": "stderr",
     "output_type": "stream",
     "text": [
      "127.0.0.1 - - [26/Jul/2023 22:30:06] \"POST /socket.io/?EIO=4&transport=polling&t=OcLqsFr&sid=4hm7mIHFoHdbBXUrAADg HTTP/1.1\" 200 -\n"
     ]
    },
    {
     "name": "stdout",
     "output_type": "stream",
     "text": [
      "{'selectedCardIndices': [2, 3]}\n"
     ]
    },
    {
     "name": "stderr",
     "output_type": "stream",
     "text": [
      "127.0.0.1 - - [26/Jul/2023 22:30:09] \"POST /socket.io/?EIO=4&transport=polling&t=OcLqt9w&sid=4hm7mIHFoHdbBXUrAADg HTTP/1.1\" 200 -\n"
     ]
    },
    {
     "name": "stdout",
     "output_type": "stream",
     "text": [
      "{'selectedCardIndices': [2]}\n"
     ]
    },
    {
     "name": "stderr",
     "output_type": "stream",
     "text": [
      "127.0.0.1 - - [26/Jul/2023 22:30:16] \"POST /socket.io/?EIO=4&transport=polling&t=OcLqug3&sid=4hm7mIHFoHdbBXUrAADg HTTP/1.1\" 200 -\n"
     ]
    },
    {
     "name": "stdout",
     "output_type": "stream",
     "text": [
      "{'selectedCardIndices': [1]}\n"
     ]
    },
    {
     "name": "stderr",
     "output_type": "stream",
     "text": [
      "127.0.0.1 - - [26/Jul/2023 22:30:16] \"POST /socket.io/?EIO=4&transport=polling&t=OcLqup9&sid=4hm7mIHFoHdbBXUrAADg HTTP/1.1\" 200 -\n"
     ]
    },
    {
     "name": "stdout",
     "output_type": "stream",
     "text": [
      "{'selectedCardIndices': [1, 2]}\n"
     ]
    },
    {
     "name": "stderr",
     "output_type": "stream",
     "text": [
      "127.0.0.1 - - [26/Jul/2023 22:30:17] \"GET /socket.io/?EIO=4&transport=polling&t=OcLqoq1&sid=bsv2p3VOcBompGaRAACv HTTP/1.1\" 200 -\n",
      "127.0.0.1 - - [26/Jul/2023 22:30:17] \"POST /socket.io/?EIO=4&transport=polling&t=OcLquwq&sid=bsv2p3VOcBompGaRAACv HTTP/1.1\" 200 -\n",
      "127.0.0.1 - - [26/Jul/2023 22:30:17] \"POST /socket.io/?EIO=4&transport=polling&t=OcLqv2F&sid=4hm7mIHFoHdbBXUrAADg HTTP/1.1\" 200 -\n"
     ]
    },
    {
     "name": "stdout",
     "output_type": "stream",
     "text": [
      "{'selectedCardIndices': [1, 2, 3]}\n"
     ]
    },
    {
     "name": "stderr",
     "output_type": "stream",
     "text": [
      "127.0.0.1 - - [26/Jul/2023 22:30:18] \"POST /socket.io/?EIO=4&transport=polling&t=OcLqvIf&sid=4hm7mIHFoHdbBXUrAADg HTTP/1.1\" 200 -\n"
     ]
    },
    {
     "name": "stdout",
     "output_type": "stream",
     "text": [
      "{'selectedCardIndices': [1, 2]}\n"
     ]
    },
    {
     "name": "stderr",
     "output_type": "stream",
     "text": [
      "127.0.0.1 - - [26/Jul/2023 22:30:19] \"POST /socket.io/?EIO=4&transport=polling&t=OcLqvW_&sid=4hm7mIHFoHdbBXUrAADg HTTP/1.1\" 200 -\n"
     ]
    },
    {
     "name": "stdout",
     "output_type": "stream",
     "text": [
      "{'selectedCardIndices': [1]}\n"
     ]
    },
    {
     "name": "stderr",
     "output_type": "stream",
     "text": [
      "127.0.0.1 - - [26/Jul/2023 22:30:21] \"GET /socket.io/?EIO=4&transport=polling&t=OcLqpwe&sid=4hm7mIHFoHdbBXUrAADg HTTP/1.1\" 200 -\n",
      "127.0.0.1 - - [26/Jul/2023 22:30:21] \"POST /socket.io/?EIO=4&transport=polling&t=OcLqw0y&sid=4hm7mIHFoHdbBXUrAADg HTTP/1.1\" 200 -\n",
      "127.0.0.1 - - [26/Jul/2023 22:30:22] \"POST /socket.io/?EIO=4&transport=polling&t=OcLqwDX&sid=4hm7mIHFoHdbBXUrAADg HTTP/1.1\" 200 -\n"
     ]
    },
    {
     "name": "stdout",
     "output_type": "stream",
     "text": [
      "{'selectedCardIndices': [1]}\n"
     ]
    },
    {
     "name": "stderr",
     "output_type": "stream",
     "text": [
      "127.0.0.1 - - [26/Jul/2023 22:30:23] \"POST /socket.io/?EIO=4&transport=polling&t=OcLqwTx&sid=4hm7mIHFoHdbBXUrAADg HTTP/1.1\" 200 -\n"
     ]
    },
    {
     "name": "stdout",
     "output_type": "stream",
     "text": [
      "{'selectedCardIndices': [1, 2]}\n"
     ]
    },
    {
     "name": "stderr",
     "output_type": "stream",
     "text": [
      "127.0.0.1 - - [26/Jul/2023 22:30:25] \"POST /socket.io/?EIO=4&transport=polling&t=OcLqwyx&sid=4hm7mIHFoHdbBXUrAADg HTTP/1.1\" 200 -\n"
     ]
    },
    {
     "name": "stdout",
     "output_type": "stream",
     "text": [
      "{'selectedCardIndices': [1]}\n"
     ]
    },
    {
     "name": "stderr",
     "output_type": "stream",
     "text": [
      "127.0.0.1 - - [26/Jul/2023 22:30:26] \"POST /socket.io/?EIO=4&transport=polling&t=OcLqxD4&sid=4hm7mIHFoHdbBXUrAADg HTTP/1.1\" 200 -\n"
     ]
    },
    {
     "name": "stdout",
     "output_type": "stream",
     "text": [
      "{'selectedCardIndices': [1, 3]}\n"
     ]
    },
    {
     "name": "stderr",
     "output_type": "stream",
     "text": [
      "127.0.0.1 - - [26/Jul/2023 22:30:27] \"POST /socket.io/?EIO=4&transport=polling&t=OcLqxMS&sid=4hm7mIHFoHdbBXUrAADg HTTP/1.1\" 200 -\n"
     ]
    },
    {
     "name": "stdout",
     "output_type": "stream",
     "text": [
      "{'selectedCardIndices': [1]}\n"
     ]
    },
    {
     "name": "stderr",
     "output_type": "stream",
     "text": [
      "127.0.0.1 - - [26/Jul/2023 22:30:41] \"POST /socket.io/?EIO=4&transport=polling&t=OcLq-rA&sid=4hm7mIHFoHdbBXUrAADg HTTP/1.1\" 200 -\n"
     ]
    },
    {
     "name": "stdout",
     "output_type": "stream",
     "text": [
      "{'selectedCardIndices': [0]}\n"
     ]
    },
    {
     "name": "stderr",
     "output_type": "stream",
     "text": [
      "127.0.0.1 - - [26/Jul/2023 22:30:41] \"POST /socket.io/?EIO=4&transport=polling&t=OcLq-vK&sid=4hm7mIHFoHdbBXUrAADg HTTP/1.1\" 200 -\n"
     ]
    },
    {
     "name": "stdout",
     "output_type": "stream",
     "text": [
      "{'selectedCardIndices': [0, 1]}\n"
     ]
    },
    {
     "name": "stderr",
     "output_type": "stream",
     "text": [
      "127.0.0.1 - - [26/Jul/2023 22:30:42] \"GET /socket.io/?EIO=4&transport=polling&t=OcLquwr&sid=bsv2p3VOcBompGaRAACv HTTP/1.1\" 200 -\n",
      "127.0.0.1 - - [26/Jul/2023 22:30:42] \"POST /socket.io/?EIO=4&transport=polling&t=OcLq_1b&sid=bsv2p3VOcBompGaRAACv HTTP/1.1\" 200 -\n",
      "127.0.0.1 - - [26/Jul/2023 22:30:42] \"POST /socket.io/?EIO=4&transport=polling&t=OcLq_4o&sid=4hm7mIHFoHdbBXUrAADg HTTP/1.1\" 200 -\n",
      "127.0.0.1 - - [26/Jul/2023 22:30:42] \"GET /socket.io/?EIO=4&transport=polling&t=OcLqw0z&sid=4hm7mIHFoHdbBXUrAADg HTTP/1.1\" 200 -\n"
     ]
    },
    {
     "name": "stdout",
     "output_type": "stream",
     "text": [
      "{'selectedCardIndices': [0, 1, 3]}\n",
      "WIN\n"
     ]
    },
    {
     "name": "stderr",
     "output_type": "stream",
     "text": [
      "127.0.0.1 - - [26/Jul/2023 22:30:46] \"GET /socket.io/?EIO=4&transport=polling&t=OcLq_4z&sid=4hm7mIHFoHdbBXUrAADg HTTP/1.1\" 200 -\n",
      "127.0.0.1 - - [26/Jul/2023 22:30:46] \"POST /socket.io/?EIO=4&transport=polling&t=OcLr07j&sid=4hm7mIHFoHdbBXUrAADg HTTP/1.1\" 200 -\n",
      "127.0.0.1 - - [26/Jul/2023 22:30:54] \"POST /socket.io/?EIO=4&transport=polling&t=OcLr20K&sid=4hm7mIHFoHdbBXUrAADg HTTP/1.1\" 200 -\n"
     ]
    },
    {
     "name": "stdout",
     "output_type": "stream",
     "text": [
      "{'selectedCardIndices': [3]}\n"
     ]
    },
    {
     "name": "stderr",
     "output_type": "stream",
     "text": [
      "127.0.0.1 - - [26/Jul/2023 22:30:55] \"POST /socket.io/?EIO=4&transport=polling&t=OcLr2Ef&sid=4hm7mIHFoHdbBXUrAADg HTTP/1.1\" 200 -\n",
      "127.0.0.1 - - [26/Jul/2023 22:30:55] \"GET /socket.io/?EIO=4&transport=polling&t=OcLr07k&sid=4hm7mIHFoHdbBXUrAADg HTTP/1.1\" 200 -\n"
     ]
    },
    {
     "name": "stdout",
     "output_type": "stream",
     "text": [
      "{'selectedCardIndices': [3, 0]}\n",
      "WIN\n"
     ]
    },
    {
     "name": "stderr",
     "output_type": "stream",
     "text": [
      "127.0.0.1 - - [26/Jul/2023 22:30:58] \"POST /socket.io/?EIO=4&transport=polling&t=OcLr2zo&sid=4hm7mIHFoHdbBXUrAADg HTTP/1.1\" 200 -\n"
     ]
    },
    {
     "name": "stdout",
     "output_type": "stream",
     "text": [
      "{'selectedCardIndices': [0]}\n"
     ]
    },
    {
     "name": "stderr",
     "output_type": "stream",
     "text": [
      "127.0.0.1 - - [26/Jul/2023 22:30:59] \"POST /socket.io/?EIO=4&transport=polling&t=OcLr3ED&sid=4hm7mIHFoHdbBXUrAADg HTTP/1.1\" 200 -\n",
      "127.0.0.1 - - [26/Jul/2023 22:30:59] \"GET /socket.io/?EIO=4&transport=polling&t=OcLr2E-&sid=4hm7mIHFoHdbBXUrAADg HTTP/1.1\" 200 -\n"
     ]
    },
    {
     "name": "stdout",
     "output_type": "stream",
     "text": [
      "{'selectedCardIndices': [0, 3]}\n",
      "WIN\n"
     ]
    },
    {
     "name": "stderr",
     "output_type": "stream",
     "text": [
      "127.0.0.1 - - [26/Jul/2023 22:31:01] \"POST /socket.io/?EIO=4&transport=polling&t=OcLr3kn&sid=4hm7mIHFoHdbBXUrAADg HTTP/1.1\" 200 -\n"
     ]
    },
    {
     "name": "stdout",
     "output_type": "stream",
     "text": [
      "{'selectedCardIndices': [2]}\n"
     ]
    },
    {
     "name": "stderr",
     "output_type": "stream",
     "text": [
      "127.0.0.1 - - [26/Jul/2023 22:31:02] \"POST /socket.io/?EIO=4&transport=polling&t=OcLr3yK&sid=4hm7mIHFoHdbBXUrAADg HTTP/1.1\" 200 -\n",
      "127.0.0.1 - - [26/Jul/2023 22:31:02] \"GET /socket.io/?EIO=4&transport=polling&t=OcLr3EM&sid=4hm7mIHFoHdbBXUrAADg HTTP/1.1\" 200 -\n"
     ]
    },
    {
     "name": "stdout",
     "output_type": "stream",
     "text": [
      "{'selectedCardIndices': [2, 0]}\n",
      "WIN\n"
     ]
    },
    {
     "name": "stderr",
     "output_type": "stream",
     "text": [
      "127.0.0.1 - - [26/Jul/2023 22:31:04] \"POST /socket.io/?EIO=4&transport=polling&t=OcLr4cF&sid=4hm7mIHFoHdbBXUrAADg HTTP/1.1\" 200 -\n"
     ]
    },
    {
     "name": "stdout",
     "output_type": "stream",
     "text": [
      "{'selectedCardIndices': [2]}\n"
     ]
    },
    {
     "name": "stderr",
     "output_type": "stream",
     "text": [
      "127.0.0.1 - - [26/Jul/2023 22:31:05] \"POST /socket.io/?EIO=4&transport=polling&t=OcLr4mg&sid=4hm7mIHFoHdbBXUrAADg HTTP/1.1\" 200 -\n"
     ]
    },
    {
     "name": "stdout",
     "output_type": "stream",
     "text": [
      "{'selectedCardIndices': [2, 3]}\n"
     ]
    },
    {
     "name": "stderr",
     "output_type": "stream",
     "text": [
      "127.0.0.1 - - [26/Jul/2023 22:31:06] \"POST /socket.io/?EIO=4&transport=polling&t=OcLr527&sid=4hm7mIHFoHdbBXUrAADg HTTP/1.1\" 200 -\n"
     ]
    },
    {
     "name": "stdout",
     "output_type": "stream",
     "text": [
      "{'selectedCardIndices': [2]}\n"
     ]
    },
    {
     "name": "stderr",
     "output_type": "stream",
     "text": [
      "127.0.0.1 - - [26/Jul/2023 22:31:07] \"GET /socket.io/?EIO=4&transport=polling&t=OcLq_1c&sid=bsv2p3VOcBompGaRAACv HTTP/1.1\" 200 -\n",
      "127.0.0.1 - - [26/Jul/2023 22:31:07] \"POST /socket.io/?EIO=4&transport=polling&t=OcLr58Q&sid=bsv2p3VOcBompGaRAACv HTTP/1.1\" 200 -\n",
      "127.0.0.1 - - [26/Jul/2023 22:31:09] \"POST /socket.io/?EIO=4&transport=polling&t=OcLr5bI&sid=4hm7mIHFoHdbBXUrAADg HTTP/1.1\" 200 -\n"
     ]
    },
    {
     "name": "stdout",
     "output_type": "stream",
     "text": [
      "{'selectedCardIndices': [3]}\n"
     ]
    },
    {
     "name": "stderr",
     "output_type": "stream",
     "text": [
      "127.0.0.1 - - [26/Jul/2023 22:31:09] \"POST /socket.io/?EIO=4&transport=polling&t=OcLr5iK&sid=4hm7mIHFoHdbBXUrAADg HTTP/1.1\" 200 -\n"
     ]
    },
    {
     "name": "stdout",
     "output_type": "stream",
     "text": [
      "{'selectedCardIndices': [3, 2]}\n"
     ]
    },
    {
     "name": "stderr",
     "output_type": "stream",
     "text": [
      "127.0.0.1 - - [26/Jul/2023 22:31:10] \"POST /socket.io/?EIO=4&transport=polling&t=OcLr5tX&sid=4hm7mIHFoHdbBXUrAADg HTTP/1.1\" 200 -\n"
     ]
    },
    {
     "name": "stdout",
     "output_type": "stream",
     "text": [
      "{'selectedCardIndices': [3]}\n"
     ]
    },
    {
     "name": "stderr",
     "output_type": "stream",
     "text": [
      "127.0.0.1 - - [26/Jul/2023 22:31:11] \"GET /socket.io/?EIO=4&transport=polling&t=OcLr3yT&sid=4hm7mIHFoHdbBXUrAADg HTTP/1.1\" 200 -\n",
      "127.0.0.1 - - [26/Jul/2023 22:31:11] \"POST /socket.io/?EIO=4&transport=polling&t=OcLr6EX&sid=4hm7mIHFoHdbBXUrAADg HTTP/1.1\" 200 -\n",
      "127.0.0.1 - - [26/Jul/2023 22:31:23] \"POST /socket.io/?EIO=4&transport=polling&t=OcLr98x&sid=4hm7mIHFoHdbBXUrAADg HTTP/1.1\" 200 -\n"
     ]
    },
    {
     "name": "stdout",
     "output_type": "stream",
     "text": [
      "{'selectedCardIndices': [2]}\n"
     ]
    },
    {
     "name": "stderr",
     "output_type": "stream",
     "text": [
      "127.0.0.1 - - [26/Jul/2023 22:31:24] \"POST /socket.io/?EIO=4&transport=polling&t=OcLr9KO&sid=4hm7mIHFoHdbBXUrAADg HTTP/1.1\" 200 -\n",
      "127.0.0.1 - - [26/Jul/2023 22:31:24] \"GET /socket.io/?EIO=4&transport=polling&t=OcLr6EY&sid=4hm7mIHFoHdbBXUrAADg HTTP/1.1\" 200 -\n"
     ]
    },
    {
     "name": "stdout",
     "output_type": "stream",
     "text": [
      "{'selectedCardIndices': [2, 1]}\n",
      "WIN\n"
     ]
    },
    {
     "name": "stderr",
     "output_type": "stream",
     "text": [
      "127.0.0.1 - - [26/Jul/2023 22:31:32] \"GET /socket.io/?EIO=4&transport=polling&t=OcLr58R&sid=bsv2p3VOcBompGaRAACv HTTP/1.1\" 200 -\n",
      "127.0.0.1 - - [26/Jul/2023 22:31:32] \"POST /socket.io/?EIO=4&transport=polling&t=OcLrBFD&sid=bsv2p3VOcBompGaRAACv HTTP/1.1\" 200 -\n",
      "127.0.0.1 - - [26/Jul/2023 22:31:36] \"GET /socket.io/?EIO=4&transport=polling&t=OcLr9KY&sid=4hm7mIHFoHdbBXUrAADg HTTP/1.1\" 200 -\n",
      "127.0.0.1 - - [26/Jul/2023 22:31:36] \"POST /socket.io/?EIO=4&transport=polling&t=OcLrCLM&sid=4hm7mIHFoHdbBXUrAADg HTTP/1.1\" 200 -\n",
      "127.0.0.1 - - [26/Jul/2023 22:31:39] \"POST /socket.io/?EIO=4&transport=polling&t=OcLrD54&sid=4hm7mIHFoHdbBXUrAADg HTTP/1.1\" 200 -\n"
     ]
    },
    {
     "name": "stdout",
     "output_type": "stream",
     "text": [
      "{'selectedCardIndices': [1]}\n"
     ]
    },
    {
     "name": "stderr",
     "output_type": "stream",
     "text": [
      "127.0.0.1 - - [26/Jul/2023 22:31:40] \"POST /socket.io/?EIO=4&transport=polling&t=OcLrDFE&sid=4hm7mIHFoHdbBXUrAADg HTTP/1.1\" 200 -\n"
     ]
    },
    {
     "name": "stdout",
     "output_type": "stream",
     "text": [
      "{'selectedCardIndices': [1, 2]}\n"
     ]
    },
    {
     "name": "stderr",
     "output_type": "stream",
     "text": [
      "127.0.0.1 - - [26/Jul/2023 22:31:41] \"POST /socket.io/?EIO=4&transport=polling&t=OcLrDQA&sid=4hm7mIHFoHdbBXUrAADg HTTP/1.1\" 200 -\n",
      "127.0.0.1 - - [26/Jul/2023 22:31:41] \"GET /socket.io/?EIO=4&transport=polling&t=OcLrCLN&sid=4hm7mIHFoHdbBXUrAADg HTTP/1.1\" 200 -\n"
     ]
    },
    {
     "name": "stdout",
     "output_type": "stream",
     "text": [
      "{'selectedCardIndices': [1, 2, 3]}\n",
      "WIN\n"
     ]
    },
    {
     "name": "stderr",
     "output_type": "stream",
     "text": [
      "127.0.0.1 - - [26/Jul/2023 22:31:50] \"POST /socket.io/?EIO=4&transport=polling&t=OcLrFgT&sid=4hm7mIHFoHdbBXUrAADg HTTP/1.1\" 200 -\n"
     ]
    },
    {
     "name": "stdout",
     "output_type": "stream",
     "text": [
      "{'selectedCardIndices': [0]}\n"
     ]
    },
    {
     "name": "stderr",
     "output_type": "stream",
     "text": [
      "127.0.0.1 - - [26/Jul/2023 22:31:50] \"POST /socket.io/?EIO=4&transport=polling&t=OcLrFr9&sid=4hm7mIHFoHdbBXUrAADg HTTP/1.1\" 200 -\n",
      "127.0.0.1 - - [26/Jul/2023 22:31:50] \"GET /socket.io/?EIO=4&transport=polling&t=OcLrDQJ&sid=4hm7mIHFoHdbBXUrAADg HTTP/1.1\" 200 -\n"
     ]
    },
    {
     "name": "stdout",
     "output_type": "stream",
     "text": [
      "{'selectedCardIndices': [0, 2]}\n",
      "WIN\n"
     ]
    },
    {
     "name": "stderr",
     "output_type": "stream",
     "text": [
      "127.0.0.1 - - [26/Jul/2023 22:31:52] \"POST /socket.io/?EIO=4&transport=polling&t=OcLrGIr&sid=4hm7mIHFoHdbBXUrAADg HTTP/1.1\" 200 -\n"
     ]
    },
    {
     "name": "stdout",
     "output_type": "stream",
     "text": [
      "{'selectedCardIndices': [0]}\n"
     ]
    },
    {
     "name": "stderr",
     "output_type": "stream",
     "text": [
      "127.0.0.1 - - [26/Jul/2023 22:31:53] \"POST /socket.io/?EIO=4&transport=polling&t=OcLrGPu&sid=4hm7mIHFoHdbBXUrAADg HTTP/1.1\" 200 -\n",
      "127.0.0.1 - - [26/Jul/2023 22:31:53] \"GET /socket.io/?EIO=4&transport=polling&t=OcLrFrJ&sid=4hm7mIHFoHdbBXUrAADg HTTP/1.1\" 200 -\n"
     ]
    },
    {
     "name": "stdout",
     "output_type": "stream",
     "text": [
      "{'selectedCardIndices': [0, 1]}\n",
      "WIN\n"
     ]
    },
    {
     "name": "stderr",
     "output_type": "stream",
     "text": [
      "127.0.0.1 - - [26/Jul/2023 22:31:55] \"POST /socket.io/?EIO=4&transport=polling&t=OcLrG_e&sid=4hm7mIHFoHdbBXUrAADg HTTP/1.1\" 200 -\n"
     ]
    },
    {
     "name": "stdout",
     "output_type": "stream",
     "text": [
      "{'selectedCardIndices': [0]}\n"
     ]
    },
    {
     "name": "stderr",
     "output_type": "stream",
     "text": [
      "127.0.0.1 - - [26/Jul/2023 22:31:56] \"POST /socket.io/?EIO=4&transport=polling&t=OcLrH7j&sid=4hm7mIHFoHdbBXUrAADg HTTP/1.1\" 200 -\n",
      "127.0.0.1 - - [26/Jul/2023 22:31:56] \"GET /socket.io/?EIO=4&transport=polling&t=OcLrGQ1&sid=4hm7mIHFoHdbBXUrAADg HTTP/1.1\" 200 -\n"
     ]
    },
    {
     "name": "stdout",
     "output_type": "stream",
     "text": [
      "{'selectedCardIndices': [0, 2]}\n",
      "WIN\n"
     ]
    },
    {
     "name": "stderr",
     "output_type": "stream",
     "text": [
      "127.0.0.1 - - [26/Jul/2023 22:31:57] \"GET /socket.io/?EIO=4&transport=polling&t=OcLrBFE&sid=bsv2p3VOcBompGaRAACv HTTP/1.1\" 200 -\n",
      "127.0.0.1 - - [26/Jul/2023 22:31:57] \"POST /socket.io/?EIO=4&transport=polling&t=OcLrHM0&sid=bsv2p3VOcBompGaRAACv HTTP/1.1\" 200 -\n",
      "127.0.0.1 - - [26/Jul/2023 22:31:57] \"POST /socket.io/?EIO=4&transport=polling&t=OcLrHQT&sid=4hm7mIHFoHdbBXUrAADg HTTP/1.1\" 200 -\n"
     ]
    },
    {
     "name": "stdout",
     "output_type": "stream",
     "text": [
      "{'selectedCardIndices': [1]}\n"
     ]
    },
    {
     "name": "stderr",
     "output_type": "stream",
     "text": [
      "127.0.0.1 - - [26/Jul/2023 22:31:57] \"POST /socket.io/?EIO=4&transport=polling&t=OcLrHXm&sid=4hm7mIHFoHdbBXUrAADg HTTP/1.1\" 200 -\n",
      "127.0.0.1 - - [26/Jul/2023 22:31:57] \"GET /socket.io/?EIO=4&transport=polling&t=OcLrH7s&sid=4hm7mIHFoHdbBXUrAADg HTTP/1.1\" 200 -\n"
     ]
    },
    {
     "name": "stdout",
     "output_type": "stream",
     "text": [
      "{'selectedCardIndices': [1, 2]}\n",
      "WIN\n"
     ]
    },
    {
     "name": "stderr",
     "output_type": "stream",
     "text": [
      "127.0.0.1 - - [26/Jul/2023 22:32:01] \"GET /socket.io/?EIO=4&transport=polling&t=OcLrHXv&sid=4hm7mIHFoHdbBXUrAADg HTTP/1.1\" 200 -\n",
      "127.0.0.1 - - [26/Jul/2023 22:32:01] \"POST /socket.io/?EIO=4&transport=polling&t=OcLrIS9&sid=4hm7mIHFoHdbBXUrAADg HTTP/1.1\" 200 -\n",
      "127.0.0.1 - - [26/Jul/2023 22:32:04] \"POST /socket.io/?EIO=4&transport=polling&t=OcLrJ8e&sid=4hm7mIHFoHdbBXUrAADg HTTP/1.1\" 200 -\n"
     ]
    },
    {
     "name": "stdout",
     "output_type": "stream",
     "text": [
      "{'selectedCardIndices': [0]}\n"
     ]
    },
    {
     "name": "stderr",
     "output_type": "stream",
     "text": [
      "127.0.0.1 - - [26/Jul/2023 22:32:06] \"POST /socket.io/?EIO=4&transport=polling&t=OcLrJXN&sid=4hm7mIHFoHdbBXUrAADg HTTP/1.1\" 200 -\n",
      "127.0.0.1 - - [26/Jul/2023 22:32:06] \"GET /socket.io/?EIO=4&transport=polling&t=OcLrISA&sid=4hm7mIHFoHdbBXUrAADg HTTP/1.1\" 200 -\n"
     ]
    },
    {
     "name": "stdout",
     "output_type": "stream",
     "text": [
      "{'selectedCardIndices': [0, 3]}\n",
      "WIN\n"
     ]
    },
    {
     "name": "stderr",
     "output_type": "stream",
     "text": [
      "127.0.0.1 - - [26/Jul/2023 22:32:08] \"POST /socket.io/?EIO=4&transport=polling&t=OcLrK1P&sid=4hm7mIHFoHdbBXUrAADg HTTP/1.1\" 200 -\n"
     ]
    },
    {
     "name": "stdout",
     "output_type": "stream",
     "text": [
      "{'selectedCardIndices': [1]}\n"
     ]
    },
    {
     "name": "stderr",
     "output_type": "stream",
     "text": [
      "127.0.0.1 - - [26/Jul/2023 22:32:08] \"POST /socket.io/?EIO=4&transport=polling&t=OcLrK8j&sid=4hm7mIHFoHdbBXUrAADg HTTP/1.1\" 200 -\n",
      "127.0.0.1 - - [26/Jul/2023 22:32:08] \"GET /socket.io/?EIO=4&transport=polling&t=OcLrJXW&sid=4hm7mIHFoHdbBXUrAADg HTTP/1.1\" 200 -\n"
     ]
    },
    {
     "name": "stdout",
     "output_type": "stream",
     "text": [
      "{'selectedCardIndices': [1, 2]}\n",
      "WIN\n"
     ]
    },
    {
     "name": "stderr",
     "output_type": "stream",
     "text": [
      "127.0.0.1 - - [26/Jul/2023 22:32:09] \"POST /socket.io/?EIO=4&transport=polling&t=OcLrKPN&sid=4hm7mIHFoHdbBXUrAADg HTTP/1.1\" 200 -\n"
     ]
    },
    {
     "name": "stdout",
     "output_type": "stream",
     "text": [
      "{'selectedCardIndices': [0]}\n"
     ]
    },
    {
     "name": "stderr",
     "output_type": "stream",
     "text": [
      "127.0.0.1 - - [26/Jul/2023 22:32:10] \"POST /socket.io/?EIO=4&transport=polling&t=OcLrKVN&sid=4hm7mIHFoHdbBXUrAADg HTTP/1.1\" 200 -\n",
      "127.0.0.1 - - [26/Jul/2023 22:32:10] \"GET /socket.io/?EIO=4&transport=polling&t=OcLrK8t&sid=4hm7mIHFoHdbBXUrAADg HTTP/1.1\" 200 -\n"
     ]
    },
    {
     "name": "stdout",
     "output_type": "stream",
     "text": [
      "{'selectedCardIndices': [0, 1]}\n",
      "WIN\n"
     ]
    },
    {
     "name": "stderr",
     "output_type": "stream",
     "text": [
      "127.0.0.1 - - [26/Jul/2023 22:32:17] \"POST /socket.io/?EIO=4&transport=polling&t=OcLrMCm&sid=4hm7mIHFoHdbBXUrAADg HTTP/1.1\" 200 -\n"
     ]
    },
    {
     "name": "stdout",
     "output_type": "stream",
     "text": [
      "{'selectedCardIndices': [0]}\n"
     ]
    },
    {
     "name": "stderr",
     "output_type": "stream",
     "text": [
      "127.0.0.1 - - [26/Jul/2023 22:32:18] \"POST /socket.io/?EIO=4&transport=polling&t=OcLrMUD&sid=4hm7mIHFoHdbBXUrAADg HTTP/1.1\" 200 -\n"
     ]
    },
    {
     "name": "stdout",
     "output_type": "stream",
     "text": [
      "{'selectedCardIndices': [0, 1]}\n"
     ]
    },
    {
     "name": "stderr",
     "output_type": "stream",
     "text": [
      "127.0.0.1 - - [26/Jul/2023 22:32:19] \"POST /socket.io/?EIO=4&transport=polling&t=OcLrMmS&sid=4hm7mIHFoHdbBXUrAADg HTTP/1.1\" 200 -\n",
      "127.0.0.1 - - [26/Jul/2023 22:32:19] \"GET /socket.io/?EIO=4&transport=polling&t=OcLrKVX&sid=4hm7mIHFoHdbBXUrAADg HTTP/1.1\" 200 -\n"
     ]
    },
    {
     "name": "stdout",
     "output_type": "stream",
     "text": [
      "{'selectedCardIndices': [0, 1, 3]}\n",
      "WIN\n"
     ]
    },
    {
     "name": "stderr",
     "output_type": "stream",
     "text": [
      "127.0.0.1 - - [26/Jul/2023 22:32:22] \"GET /socket.io/?EIO=4&transport=polling&t=OcLrHM1&sid=bsv2p3VOcBompGaRAACv HTTP/1.1\" 200 -\n",
      "127.0.0.1 - - [26/Jul/2023 22:32:22] \"POST /socket.io/?EIO=4&transport=polling&t=OcLrNSr&sid=bsv2p3VOcBompGaRAACv HTTP/1.1\" 200 -\n",
      "127.0.0.1 - - [26/Jul/2023 22:32:24] \"POST /socket.io/?EIO=4&transport=polling&t=OcLrNvv&sid=4hm7mIHFoHdbBXUrAADg HTTP/1.1\" 200 -\n"
     ]
    },
    {
     "name": "stdout",
     "output_type": "stream",
     "text": [
      "{'selectedCardIndices': [0]}\n"
     ]
    },
    {
     "name": "stderr",
     "output_type": "stream",
     "text": [
      "127.0.0.1 - - [26/Jul/2023 22:32:25] \"POST /socket.io/?EIO=4&transport=polling&t=OcLrOA4&sid=4hm7mIHFoHdbBXUrAADg HTTP/1.1\" 200 -\n"
     ]
    },
    {
     "name": "stdout",
     "output_type": "stream",
     "text": [
      "{'selectedCardIndices': [0, 2]}\n"
     ]
    },
    {
     "name": "stderr",
     "output_type": "stream",
     "text": [
      "127.0.0.1 - - [26/Jul/2023 22:32:25] \"POST /socket.io/?EIO=4&transport=polling&t=OcLrOJR&sid=4hm7mIHFoHdbBXUrAADg HTTP/1.1\" 200 -\n"
     ]
    },
    {
     "name": "stdout",
     "output_type": "stream",
     "text": [
      "{'selectedCardIndices': [0, 2, 3]}\n"
     ]
    },
    {
     "name": "stderr",
     "output_type": "stream",
     "text": [
      "127.0.0.1 - - [26/Jul/2023 22:32:26] \"POST /socket.io/?EIO=4&transport=polling&t=OcLrOY0&sid=4hm7mIHFoHdbBXUrAADg HTTP/1.1\" 200 -\n",
      "127.0.0.1 - - [26/Jul/2023 22:32:26] \"GET /socket.io/?EIO=4&transport=polling&t=OcLrMmb&sid=4hm7mIHFoHdbBXUrAADg HTTP/1.1\" 200 -\n",
      "127.0.0.1 - - [26/Jul/2023 22:32:26] \"POST /socket.io/?EIO=4&transport=polling&t=OcLrOYx&sid=4hm7mIHFoHdbBXUrAADg HTTP/1.1\" 200 -\n"
     ]
    },
    {
     "name": "stdout",
     "output_type": "stream",
     "text": [
      "{'selectedCardIndices': [0, 2]}\n"
     ]
    },
    {
     "name": "stderr",
     "output_type": "stream",
     "text": [
      "127.0.0.1 - - [26/Jul/2023 22:32:27] \"POST /socket.io/?EIO=4&transport=polling&t=OcLrOd_&sid=4hm7mIHFoHdbBXUrAADg HTTP/1.1\" 200 -\n"
     ]
    },
    {
     "name": "stdout",
     "output_type": "stream",
     "text": [
      "{'selectedCardIndices': [0]}\n"
     ]
    },
    {
     "name": "stderr",
     "output_type": "stream",
     "text": [
      "127.0.0.1 - - [26/Jul/2023 22:32:31] \"POST /socket.io/?EIO=4&transport=polling&t=OcLrPgg&sid=4hm7mIHFoHdbBXUrAADg HTTP/1.1\" 200 -\n"
     ]
    },
    {
     "name": "stdout",
     "output_type": "stream",
     "text": [
      "{'selectedCardIndices': [0]}\n"
     ]
    },
    {
     "name": "stderr",
     "output_type": "stream",
     "text": [
      "127.0.0.1 - - [26/Jul/2023 22:32:32] \"POST /socket.io/?EIO=4&transport=polling&t=OcLrPx5&sid=4hm7mIHFoHdbBXUrAADg HTTP/1.1\" 200 -\n"
     ]
    },
    {
     "name": "stdout",
     "output_type": "stream",
     "text": [
      "{'selectedCardIndices': [0, 1]}\n"
     ]
    },
    {
     "name": "stderr",
     "output_type": "stream",
     "text": [
      "127.0.0.1 - - [26/Jul/2023 22:32:33] \"POST /socket.io/?EIO=4&transport=polling&t=OcLrQ6Y&sid=4hm7mIHFoHdbBXUrAADg HTTP/1.1\" 200 -\n"
     ]
    },
    {
     "name": "stdout",
     "output_type": "stream",
     "text": [
      "{'selectedCardIndices': [0, 1, 3]}\n"
     ]
    },
    {
     "name": "stderr",
     "output_type": "stream",
     "text": [
      "127.0.0.1 - - [26/Jul/2023 22:32:33] \"POST /socket.io/?EIO=4&transport=polling&t=OcLrQI0&sid=4hm7mIHFoHdbBXUrAADg HTTP/1.1\" 200 -\n"
     ]
    },
    {
     "name": "stdout",
     "output_type": "stream",
     "text": [
      "{'selectedCardIndices': [0, 1]}\n"
     ]
    },
    {
     "name": "stderr",
     "output_type": "stream",
     "text": [
      "127.0.0.1 - - [26/Jul/2023 22:32:35] \"POST /socket.io/?EIO=4&transport=polling&t=OcLrQbo&sid=4hm7mIHFoHdbBXUrAADg HTTP/1.1\" 200 -\n"
     ]
    },
    {
     "name": "stdout",
     "output_type": "stream",
     "text": [
      "{'selectedCardIndices': [0]}\n"
     ]
    },
    {
     "name": "stderr",
     "output_type": "stream",
     "text": [
      "127.0.0.1 - - [26/Jul/2023 22:32:43] \"POST /socket.io/?EIO=4&transport=polling&t=OcLrSbh&sid=4hm7mIHFoHdbBXUrAADg HTTP/1.1\" 200 -\n"
     ]
    },
    {
     "name": "stdout",
     "output_type": "stream",
     "text": [
      "{'selectedCardIndices': [0]}\n"
     ]
    },
    {
     "name": "stderr",
     "output_type": "stream",
     "text": [
      "127.0.0.1 - - [26/Jul/2023 22:32:43] \"POST /socket.io/?EIO=4&transport=polling&t=OcLrSi-&sid=4hm7mIHFoHdbBXUrAADg HTTP/1.1\" 200 -\n"
     ]
    },
    {
     "name": "stdout",
     "output_type": "stream",
     "text": [
      "{'selectedCardIndices': [0, 1]}\n"
     ]
    },
    {
     "name": "stderr",
     "output_type": "stream",
     "text": [
      "127.0.0.1 - - [26/Jul/2023 22:32:44] \"POST /socket.io/?EIO=4&transport=polling&t=OcLrSu-&sid=4hm7mIHFoHdbBXUrAADg HTTP/1.1\" 200 -\n"
     ]
    },
    {
     "name": "stdout",
     "output_type": "stream",
     "text": [
      "{'selectedCardIndices': [0]}\n"
     ]
    },
    {
     "name": "stderr",
     "output_type": "stream",
     "text": [
      "127.0.0.1 - - [26/Jul/2023 22:32:45] \"POST /socket.io/?EIO=4&transport=polling&t=OcLrTBT&sid=4hm7mIHFoHdbBXUrAADg HTTP/1.1\" 200 -\n"
     ]
    },
    {
     "name": "stdout",
     "output_type": "stream",
     "text": [
      "{'selectedCardIndices': [0]}\n"
     ]
    },
    {
     "name": "stderr",
     "output_type": "stream",
     "text": [
      "127.0.0.1 - - [26/Jul/2023 22:32:46] \"POST /socket.io/?EIO=4&transport=polling&t=OcLrTOU&sid=4hm7mIHFoHdbBXUrAADg HTTP/1.1\" 200 -\n",
      "127.0.0.1 - - [26/Jul/2023 22:32:46] \"GET /socket.io/?EIO=4&transport=polling&t=OcLrOYy&sid=4hm7mIHFoHdbBXUrAADg HTTP/1.1\" 200 -\n"
     ]
    },
    {
     "name": "stdout",
     "output_type": "stream",
     "text": [
      "{'selectedCardIndices': [0, 3]}\n",
      "WIN\n"
     ]
    },
    {
     "name": "stderr",
     "output_type": "stream",
     "text": [
      "127.0.0.1 - - [26/Jul/2023 22:32:47] \"GET /socket.io/?EIO=4&transport=polling&t=OcLrNSs&sid=bsv2p3VOcBompGaRAACv HTTP/1.1\" 200 -\n",
      "127.0.0.1 - - [26/Jul/2023 22:32:47] \"POST /socket.io/?EIO=4&transport=polling&t=OcLrTZf&sid=bsv2p3VOcBompGaRAACv HTTP/1.1\" 200 -\n",
      "127.0.0.1 - - [26/Jul/2023 22:32:51] \"GET /socket.io/?EIO=4&transport=polling&t=OcLrTOe&sid=4hm7mIHFoHdbBXUrAADg HTTP/1.1\" 200 -\n",
      "127.0.0.1 - - [26/Jul/2023 22:32:51] \"POST /socket.io/?EIO=4&transport=polling&t=OcLrUfk&sid=4hm7mIHFoHdbBXUrAADg HTTP/1.1\" 200 -\n",
      "127.0.0.1 - - [26/Jul/2023 22:33:06] \"POST /socket.io/?EIO=4&transport=polling&t=OcLrYMn&sid=4hm7mIHFoHdbBXUrAADg HTTP/1.1\" 200 -\n"
     ]
    },
    {
     "name": "stdout",
     "output_type": "stream",
     "text": [
      "{'selectedCardIndices': [2]}\n"
     ]
    },
    {
     "name": "stderr",
     "output_type": "stream",
     "text": [
      "127.0.0.1 - - [26/Jul/2023 22:33:07] \"POST /socket.io/?EIO=4&transport=polling&t=OcLrYXj&sid=4hm7mIHFoHdbBXUrAADg HTTP/1.1\" 200 -\n"
     ]
    },
    {
     "name": "stdout",
     "output_type": "stream",
     "text": [
      "{'selectedCardIndices': [2, 0]}\n"
     ]
    },
    {
     "name": "stderr",
     "output_type": "stream",
     "text": [
      "127.0.0.1 - - [26/Jul/2023 22:33:12] \"GET /socket.io/?EIO=4&transport=polling&t=OcLrTZg&sid=bsv2p3VOcBompGaRAACv HTTP/1.1\" 200 -\n",
      "127.0.0.1 - - [26/Jul/2023 22:33:12] \"POST /socket.io/?EIO=4&transport=polling&t=OcLrZgU&sid=bsv2p3VOcBompGaRAACv HTTP/1.1\" 200 -\n",
      "127.0.0.1 - - [26/Jul/2023 22:33:14] \"POST /socket.io/?EIO=4&transport=polling&t=OcLraBC&sid=4hm7mIHFoHdbBXUrAADg HTTP/1.1\" 200 -\n",
      "127.0.0.1 - - [26/Jul/2023 22:33:14] \"GET /socket.io/?EIO=4&transport=polling&t=OcLrUfl&sid=4hm7mIHFoHdbBXUrAADg HTTP/1.1\" 200 -\n"
     ]
    },
    {
     "name": "stdout",
     "output_type": "stream",
     "text": [
      "{'selectedCardIndices': [2, 0, 1]}\n",
      "WIN\n"
     ]
    },
    {
     "name": "stderr",
     "output_type": "stream",
     "text": [
      "127.0.0.1 - - [26/Jul/2023 22:33:16] \"GET /socket.io/?EIO=4&transport=polling&t=OcLraBN&sid=4hm7mIHFoHdbBXUrAADg HTTP/1.1\" 200 -\n",
      "127.0.0.1 - - [26/Jul/2023 22:33:16] \"POST /socket.io/?EIO=4&transport=polling&t=OcLramZ&sid=4hm7mIHFoHdbBXUrAADg HTTP/1.1\" 200 -\n",
      "127.0.0.1 - - [26/Jul/2023 22:33:16] \"POST /socket.io/?EIO=4&transport=polling&t=OcLraqM&sid=4hm7mIHFoHdbBXUrAADg HTTP/1.1\" 200 -\n"
     ]
    },
    {
     "name": "stdout",
     "output_type": "stream",
     "text": [
      "{'selectedCardIndices': [0]}\n"
     ]
    },
    {
     "name": "stderr",
     "output_type": "stream",
     "text": [
      "127.0.0.1 - - [26/Jul/2023 22:33:18] \"POST /socket.io/?EIO=4&transport=polling&t=OcLrb65&sid=4hm7mIHFoHdbBXUrAADg HTTP/1.1\" 200 -\n",
      "127.0.0.1 - - [26/Jul/2023 22:33:18] \"GET /socket.io/?EIO=4&transport=polling&t=OcLrama&sid=4hm7mIHFoHdbBXUrAADg HTTP/1.1\" 200 -\n"
     ]
    },
    {
     "name": "stdout",
     "output_type": "stream",
     "text": [
      "{'selectedCardIndices': [0, 3]}\n",
      "WIN\n"
     ]
    },
    {
     "name": "stderr",
     "output_type": "stream",
     "text": [
      "127.0.0.1 - - [26/Jul/2023 22:33:23] \"POST /socket.io/?EIO=4&transport=polling&t=OcLrcN4&sid=4hm7mIHFoHdbBXUrAADg HTTP/1.1\" 200 -\n"
     ]
    },
    {
     "name": "stdout",
     "output_type": "stream",
     "text": [
      "{'selectedCardIndices': [0]}\n"
     ]
    },
    {
     "name": "stderr",
     "output_type": "stream",
     "text": [
      "127.0.0.1 - - [26/Jul/2023 22:33:25] \"POST /socket.io/?EIO=4&transport=polling&t=OcLrc_S&sid=4hm7mIHFoHdbBXUrAADg HTTP/1.1\" 200 -\n"
     ]
    },
    {
     "name": "stdout",
     "output_type": "stream",
     "text": [
      "{'selectedCardIndices': [0, 2]}\n"
     ]
    },
    {
     "name": "stderr",
     "output_type": "stream",
     "text": [
      "127.0.0.1 - - [26/Jul/2023 22:33:26] \"POST /socket.io/?EIO=4&transport=polling&t=OcLrd6E&sid=4hm7mIHFoHdbBXUrAADg HTTP/1.1\" 200 -\n"
     ]
    },
    {
     "name": "stdout",
     "output_type": "stream",
     "text": [
      "{'selectedCardIndices': [0, 2, 3]}\n"
     ]
    },
    {
     "name": "stderr",
     "output_type": "stream",
     "text": [
      "127.0.0.1 - - [26/Jul/2023 22:33:27] \"POST /socket.io/?EIO=4&transport=polling&t=OcLrdHh&sid=4hm7mIHFoHdbBXUrAADg HTTP/1.1\" 200 -\n"
     ]
    },
    {
     "name": "stdout",
     "output_type": "stream",
     "text": [
      "{'selectedCardIndices': [0, 2]}\n"
     ]
    },
    {
     "name": "stderr",
     "output_type": "stream",
     "text": [
      "127.0.0.1 - - [26/Jul/2023 22:33:27] \"POST /socket.io/?EIO=4&transport=polling&t=OcLrdMe&sid=4hm7mIHFoHdbBXUrAADg HTTP/1.1\" 200 -\n"
     ]
    },
    {
     "name": "stdout",
     "output_type": "stream",
     "text": [
      "{'selectedCardIndices': [0]}\n"
     ]
    },
    {
     "name": "stderr",
     "output_type": "stream",
     "text": [
      "127.0.0.1 - - [26/Jul/2023 22:33:29] \"POST /socket.io/?EIO=4&transport=polling&t=OcLrdvH&sid=4hm7mIHFoHdbBXUrAADg HTTP/1.1\" 200 -\n"
     ]
    },
    {
     "name": "stdout",
     "output_type": "stream",
     "text": [
      "{'selectedCardIndices': [1]}\n"
     ]
    },
    {
     "name": "stderr",
     "output_type": "stream",
     "text": [
      "127.0.0.1 - - [26/Jul/2023 22:33:35] \"POST /socket.io/?EIO=4&transport=polling&t=OcLrfKy&sid=4hm7mIHFoHdbBXUrAADg HTTP/1.1\" 200 -\n"
     ]
    },
    {
     "name": "stdout",
     "output_type": "stream",
     "text": [
      "{'selectedCardIndices': [2]}\n"
     ]
    },
    {
     "name": "stderr",
     "output_type": "stream",
     "text": [
      "127.0.0.1 - - [26/Jul/2023 22:33:37] \"GET /socket.io/?EIO=4&transport=polling&t=OcLrZgV&sid=bsv2p3VOcBompGaRAACv HTTP/1.1\" 200 -\n",
      "127.0.0.1 - - [26/Jul/2023 22:33:37] \"POST /socket.io/?EIO=4&transport=polling&t=OcLrfnF&sid=bsv2p3VOcBompGaRAACv HTTP/1.1\" 200 -\n",
      "127.0.0.1 - - [26/Jul/2023 22:33:41] \"GET /socket.io/?EIO=4&transport=polling&t=OcLrb6F&sid=4hm7mIHFoHdbBXUrAADg HTTP/1.1\" 200 -\n",
      "127.0.0.1 - - [26/Jul/2023 22:33:41] \"POST /socket.io/?EIO=4&transport=polling&t=OcLrgtO&sid=4hm7mIHFoHdbBXUrAADg HTTP/1.1\" 200 -\n",
      "127.0.0.1 - - [26/Jul/2023 22:33:51] \"POST /socket.io/?EIO=4&transport=polling&t=OcLrjAJ&sid=4hm7mIHFoHdbBXUrAADg HTTP/1.1\" 200 -\n"
     ]
    },
    {
     "name": "stdout",
     "output_type": "stream",
     "text": [
      "{'selectedCardIndices': [0]}\n"
     ]
    },
    {
     "name": "stderr",
     "output_type": "stream",
     "text": [
      "127.0.0.1 - - [26/Jul/2023 22:33:52] \"POST /socket.io/?EIO=4&transport=polling&t=OcLrjRV&sid=4hm7mIHFoHdbBXUrAADg HTTP/1.1\" 200 -\n"
     ]
    },
    {
     "name": "stdout",
     "output_type": "stream",
     "text": [
      "{'selectedCardIndices': [0, 2]}\n"
     ]
    },
    {
     "name": "stderr",
     "output_type": "stream",
     "text": [
      "127.0.0.1 - - [26/Jul/2023 22:33:52] \"POST /socket.io/?EIO=4&transport=polling&t=OcLrjb8&sid=4hm7mIHFoHdbBXUrAADg HTTP/1.1\" 200 -\n"
     ]
    },
    {
     "name": "stdout",
     "output_type": "stream",
     "text": [
      "{'selectedCardIndices': [0]}\n"
     ]
    },
    {
     "name": "stderr",
     "output_type": "stream",
     "text": [
      "127.0.0.1 - - [26/Jul/2023 22:33:55] \"POST /socket.io/?EIO=4&transport=polling&t=OcLrkDX&sid=4hm7mIHFoHdbBXUrAADg HTTP/1.1\" 200 -\n"
     ]
    },
    {
     "name": "stdout",
     "output_type": "stream",
     "text": [
      "{'selectedCardIndices': [0, 2]}\n"
     ]
    },
    {
     "name": "stderr",
     "output_type": "stream",
     "text": [
      "127.0.0.1 - - [26/Jul/2023 22:33:56] \"POST /socket.io/?EIO=4&transport=polling&t=OcLrkWp&sid=4hm7mIHFoHdbBXUrAADg HTTP/1.1\" 200 -\n"
     ]
    },
    {
     "name": "stdout",
     "output_type": "stream",
     "text": [
      "{'selectedCardIndices': [0, 2, 1]}\n"
     ]
    },
    {
     "name": "stderr",
     "output_type": "stream",
     "text": [
      "127.0.0.1 - - [26/Jul/2023 22:33:57] \"POST /socket.io/?EIO=4&transport=polling&t=OcLrknU&sid=4hm7mIHFoHdbBXUrAADg HTTP/1.1\" 200 -\n"
     ]
    },
    {
     "name": "stdout",
     "output_type": "stream",
     "text": [
      "{'selectedCardIndices': [0, 2]}\n"
     ]
    },
    {
     "name": "stderr",
     "output_type": "stream",
     "text": [
      "127.0.0.1 - - [26/Jul/2023 22:34:02] \"POST /socket.io/?EIO=4&transport=polling&t=OcLrlt1&sid=4hm7mIHFoHdbBXUrAADg HTTP/1.1\" 200 -\n",
      "127.0.0.1 - - [26/Jul/2023 22:34:02] \"GET /socket.io/?EIO=4&transport=polling&t=OcLrfnG&sid=bsv2p3VOcBompGaRAACv HTTP/1.1\" 200 -\n",
      "127.0.0.1 - - [26/Jul/2023 22:34:02] \"POST /socket.io/?EIO=4&transport=polling&t=OcLrlu2&sid=bsv2p3VOcBompGaRAACv HTTP/1.1\" 200 -\n"
     ]
    },
    {
     "name": "stdout",
     "output_type": "stream",
     "text": [
      "{'selectedCardIndices': [0, 2, 1]}\n"
     ]
    },
    {
     "name": "stderr",
     "output_type": "stream",
     "text": [
      "127.0.0.1 - - [26/Jul/2023 22:34:02] \"POST /socket.io/?EIO=4&transport=polling&t=OcLrlz0&sid=4hm7mIHFoHdbBXUrAADg HTTP/1.1\" 200 -\n"
     ]
    },
    {
     "name": "stdout",
     "output_type": "stream",
     "text": [
      "{'selectedCardIndices': [0, 2]}\n"
     ]
    },
    {
     "name": "stderr",
     "output_type": "stream",
     "text": [
      "127.0.0.1 - - [26/Jul/2023 22:34:03] \"POST /socket.io/?EIO=4&transport=polling&t=OcLrmC8&sid=4hm7mIHFoHdbBXUrAADg HTTP/1.1\" 200 -\n"
     ]
    },
    {
     "name": "stdout",
     "output_type": "stream",
     "text": [
      "{'selectedCardIndices': [0]}\n"
     ]
    },
    {
     "name": "stderr",
     "output_type": "stream",
     "text": [
      "127.0.0.1 - - [26/Jul/2023 22:34:06] \"GET /socket.io/?EIO=4&transport=polling&t=OcLrgtP&sid=4hm7mIHFoHdbBXUrAADg HTTP/1.1\" 200 -\n",
      "127.0.0.1 - - [26/Jul/2023 22:34:06] \"POST /socket.io/?EIO=4&transport=polling&t=OcLrm-7&sid=4hm7mIHFoHdbBXUrAADg HTTP/1.1\" 200 -\n",
      "127.0.0.1 - - [26/Jul/2023 22:34:16] \"POST /socket.io/?EIO=4&transport=polling&t=OcLrpFU&sid=4hm7mIHFoHdbBXUrAADg HTTP/1.1\" 200 -\n"
     ]
    },
    {
     "name": "stdout",
     "output_type": "stream",
     "text": [
      "{'selectedCardIndices': [0]}\n"
     ]
    },
    {
     "name": "stderr",
     "output_type": "stream",
     "text": [
      "127.0.0.1 - - [26/Jul/2023 22:34:16] \"POST /socket.io/?EIO=4&transport=polling&t=OcLrpO4&sid=4hm7mIHFoHdbBXUrAADg HTTP/1.1\" 200 -\n"
     ]
    },
    {
     "name": "stdout",
     "output_type": "stream",
     "text": [
      "{'selectedCardIndices': [0, 3]}\n"
     ]
    },
    {
     "name": "stderr",
     "output_type": "stream",
     "text": [
      "127.0.0.1 - - [26/Jul/2023 22:34:17] \"POST /socket.io/?EIO=4&transport=polling&t=OcLrpb6&sid=4hm7mIHFoHdbBXUrAADg HTTP/1.1\" 200 -\n"
     ]
    },
    {
     "name": "stdout",
     "output_type": "stream",
     "text": [
      "{'selectedCardIndices': [0, 3, 1]}\n"
     ]
    },
    {
     "name": "stderr",
     "output_type": "stream",
     "text": [
      "127.0.0.1 - - [26/Jul/2023 22:34:17] \"POST /socket.io/?EIO=4&transport=polling&t=OcLrpji&sid=4hm7mIHFoHdbBXUrAADg HTTP/1.1\" 200 -\n"
     ]
    },
    {
     "name": "stdout",
     "output_type": "stream",
     "text": [
      "{'selectedCardIndices': [0, 1]}\n"
     ]
    },
    {
     "name": "stderr",
     "output_type": "stream",
     "text": [
      "127.0.0.1 - - [26/Jul/2023 22:34:18] \"POST /socket.io/?EIO=4&transport=polling&t=OcLrprn&sid=4hm7mIHFoHdbBXUrAADg HTTP/1.1\" 200 -\n"
     ]
    },
    {
     "name": "stdout",
     "output_type": "stream",
     "text": [
      "{'selectedCardIndices': [0]}\n"
     ]
    },
    {
     "name": "stderr",
     "output_type": "stream",
     "text": [
      "127.0.0.1 - - [26/Jul/2023 22:34:23] \"POST /socket.io/?EIO=4&transport=polling&t=OcLrr6n&sid=4hm7mIHFoHdbBXUrAADg HTTP/1.1\" 200 -\n"
     ]
    },
    {
     "name": "stdout",
     "output_type": "stream",
     "text": [
      "{'selectedCardIndices': [0]}\n"
     ]
    },
    {
     "name": "stderr",
     "output_type": "stream",
     "text": [
      "127.0.0.1 - - [26/Jul/2023 22:34:24] \"POST /socket.io/?EIO=4&transport=polling&t=OcLrrFN&sid=4hm7mIHFoHdbBXUrAADg HTTP/1.1\" 200 -\n"
     ]
    },
    {
     "name": "stdout",
     "output_type": "stream",
     "text": [
      "{'selectedCardIndices': [0, 2]}\n"
     ]
    },
    {
     "name": "stderr",
     "output_type": "stream",
     "text": [
      "127.0.0.1 - - [26/Jul/2023 22:34:27] \"GET /socket.io/?EIO=4&transport=polling&t=OcLrlu3&sid=bsv2p3VOcBompGaRAACv HTTP/1.1\" 200 -\n",
      "127.0.0.1 - - [26/Jul/2023 22:34:27] \"POST /socket.io/?EIO=4&transport=polling&t=OcLrr-t&sid=bsv2p3VOcBompGaRAACv HTTP/1.1\" 200 -\n",
      "127.0.0.1 - - [26/Jul/2023 22:34:31] \"GET /socket.io/?EIO=4&transport=polling&t=OcLrm-8&sid=4hm7mIHFoHdbBXUrAADg HTTP/1.1\" 200 -\n",
      "127.0.0.1 - - [26/Jul/2023 22:34:31] \"POST /socket.io/?EIO=4&transport=polling&t=OcLrt4y&sid=4hm7mIHFoHdbBXUrAADg HTTP/1.1\" 200 -\n",
      "127.0.0.1 - - [26/Jul/2023 22:34:33] \"POST /socket.io/?EIO=4&transport=polling&t=OcLrtTK&sid=4hm7mIHFoHdbBXUrAADg HTTP/1.1\" 200 -\n"
     ]
    },
    {
     "name": "stdout",
     "output_type": "stream",
     "text": [
      "{'selectedCardIndices': [2]}\n"
     ]
    },
    {
     "name": "stderr",
     "output_type": "stream",
     "text": [
      "127.0.0.1 - - [26/Jul/2023 22:34:33] \"POST /socket.io/?EIO=4&transport=polling&t=OcLrtaM&sid=4hm7mIHFoHdbBXUrAADg HTTP/1.1\" 200 -\n"
     ]
    },
    {
     "name": "stdout",
     "output_type": "stream",
     "text": [
      "{'selectedCardIndices': [2, 1]}\n"
     ]
    },
    {
     "name": "stderr",
     "output_type": "stream",
     "text": [
      "127.0.0.1 - - [26/Jul/2023 22:34:34] \"POST /socket.io/?EIO=4&transport=polling&t=OcLrtms&sid=4hm7mIHFoHdbBXUrAADg HTTP/1.1\" 200 -\n"
     ]
    },
    {
     "name": "stdout",
     "output_type": "stream",
     "text": [
      "{'selectedCardIndices': [2, 1, 3]}\n"
     ]
    },
    {
     "name": "stderr",
     "output_type": "stream",
     "text": [
      "127.0.0.1 - - [26/Jul/2023 22:34:35] \"POST /socket.io/?EIO=4&transport=polling&t=OcLrt-8&sid=4hm7mIHFoHdbBXUrAADg HTTP/1.1\" 200 -\n"
     ]
    },
    {
     "name": "stdout",
     "output_type": "stream",
     "text": [
      "{'selectedCardIndices': [1, 3]}\n"
     ]
    },
    {
     "name": "stderr",
     "output_type": "stream",
     "text": [
      "127.0.0.1 - - [26/Jul/2023 22:34:36] \"POST /socket.io/?EIO=4&transport=polling&t=OcLru7n&sid=4hm7mIHFoHdbBXUrAADg HTTP/1.1\" 200 -\n"
     ]
    },
    {
     "name": "stdout",
     "output_type": "stream",
     "text": [
      "{'selectedCardIndices': [1]}\n"
     ]
    },
    {
     "name": "stderr",
     "output_type": "stream",
     "text": [
      "127.0.0.1 - - [26/Jul/2023 22:34:46] \"POST /socket.io/?EIO=4&transport=polling&t=OcLrwh6&sid=4hm7mIHFoHdbBXUrAADg HTTP/1.1\" 200 -\n"
     ]
    },
    {
     "name": "stdout",
     "output_type": "stream",
     "text": [
      "{'selectedCardIndices': [0]}\n"
     ]
    },
    {
     "name": "stderr",
     "output_type": "stream",
     "text": [
      "127.0.0.1 - - [26/Jul/2023 22:34:46] \"POST /socket.io/?EIO=4&transport=polling&t=OcLrwlG&sid=4hm7mIHFoHdbBXUrAADg HTTP/1.1\" 200 -\n"
     ]
    },
    {
     "name": "stdout",
     "output_type": "stream",
     "text": [
      "{'selectedCardIndices': [0, 1]}\n"
     ]
    },
    {
     "name": "stderr",
     "output_type": "stream",
     "text": [
      "127.0.0.1 - - [26/Jul/2023 22:34:48] \"POST /socket.io/?EIO=4&transport=polling&t=OcLrx33&sid=4hm7mIHFoHdbBXUrAADg HTTP/1.1\" 200 -\n"
     ]
    },
    {
     "name": "stdout",
     "output_type": "stream",
     "text": [
      "{'selectedCardIndices': [1]}\n"
     ]
    },
    {
     "name": "stderr",
     "output_type": "stream",
     "text": [
      "127.0.0.1 - - [26/Jul/2023 22:34:48] \"POST /socket.io/?EIO=4&transport=polling&t=OcLrxAM&sid=4hm7mIHFoHdbBXUrAADg HTTP/1.1\" 200 -\n"
     ]
    },
    {
     "name": "stdout",
     "output_type": "stream",
     "text": [
      "{'selectedCardIndices': [1, 0]}\n"
     ]
    },
    {
     "name": "stderr",
     "output_type": "stream",
     "text": [
      "127.0.0.1 - - [26/Jul/2023 22:34:48] \"POST /socket.io/?EIO=4&transport=polling&t=OcLrxH7&sid=4hm7mIHFoHdbBXUrAADg HTTP/1.1\" 200 -\n"
     ]
    },
    {
     "name": "stdout",
     "output_type": "stream",
     "text": [
      "{'selectedCardIndices': [1, 0, 2]}\n"
     ]
    },
    {
     "name": "stderr",
     "output_type": "stream",
     "text": [
      "127.0.0.1 - - [26/Jul/2023 22:34:49] \"POST /socket.io/?EIO=4&transport=polling&t=OcLrxNe&sid=4hm7mIHFoHdbBXUrAADg HTTP/1.1\" 200 -\n"
     ]
    },
    {
     "name": "stdout",
     "output_type": "stream",
     "text": [
      "{'selectedCardIndices': [1, 2]}\n"
     ]
    },
    {
     "name": "stderr",
     "output_type": "stream",
     "text": [
      "127.0.0.1 - - [26/Jul/2023 22:34:49] \"POST /socket.io/?EIO=4&transport=polling&t=OcLrxSc&sid=4hm7mIHFoHdbBXUrAADg HTTP/1.1\" 200 -\n"
     ]
    },
    {
     "name": "stdout",
     "output_type": "stream",
     "text": [
      "{'selectedCardIndices': [2]}\n"
     ]
    },
    {
     "name": "stderr",
     "output_type": "stream",
     "text": [
      "127.0.0.1 - - [26/Jul/2023 22:34:50] \"POST /socket.io/?EIO=4&transport=polling&t=OcLrxZ5&sid=4hm7mIHFoHdbBXUrAADg HTTP/1.1\" 200 -\n"
     ]
    },
    {
     "name": "stdout",
     "output_type": "stream",
     "text": [
      "{'selectedCardIndices': [2, 0]}\n"
     ]
    },
    {
     "name": "stderr",
     "output_type": "stream",
     "text": [
      "127.0.0.1 - - [26/Jul/2023 22:34:50] \"POST /socket.io/?EIO=4&transport=polling&t=OcLrxeJ&sid=4hm7mIHFoHdbBXUrAADg HTTP/1.1\" 200 -\n"
     ]
    },
    {
     "name": "stdout",
     "output_type": "stream",
     "text": [
      "{'selectedCardIndices': [2, 0, 1]}\n"
     ]
    },
    {
     "name": "stderr",
     "output_type": "stream",
     "text": [
      "127.0.0.1 - - [26/Jul/2023 22:34:50] \"POST /socket.io/?EIO=4&transport=polling&t=OcLrxi_&sid=4hm7mIHFoHdbBXUrAADg HTTP/1.1\" 200 -\n"
     ]
    },
    {
     "name": "stdout",
     "output_type": "stream",
     "text": [
      "{'selectedCardIndices': [2, 1]}\n"
     ]
    },
    {
     "name": "stderr",
     "output_type": "stream",
     "text": [
      "127.0.0.1 - - [26/Jul/2023 22:34:51] \"POST /socket.io/?EIO=4&transport=polling&t=OcLrxqY&sid=4hm7mIHFoHdbBXUrAADg HTTP/1.1\" 200 -\n"
     ]
    },
    {
     "name": "stdout",
     "output_type": "stream",
     "text": [
      "{'selectedCardIndices': [2, 1, 0]}\n"
     ]
    },
    {
     "name": "stderr",
     "output_type": "stream",
     "text": [
      "127.0.0.1 - - [26/Jul/2023 22:34:51] \"POST /socket.io/?EIO=4&transport=polling&t=OcLrxxa&sid=4hm7mIHFoHdbBXUrAADg HTTP/1.1\" 200 -\n",
      "127.0.0.1 - - [26/Jul/2023 22:34:51] \"GET /socket.io/?EIO=4&transport=polling&t=OcLrt4z&sid=4hm7mIHFoHdbBXUrAADg HTTP/1.1\" 200 -\n"
     ]
    },
    {
     "name": "stdout",
     "output_type": "stream",
     "text": [
      "{'selectedCardIndices': [2, 1, 0, 3]}\n",
      "WIN\n"
     ]
    },
    {
     "name": "stderr",
     "output_type": "stream",
     "text": [
      "127.0.0.1 - - [26/Jul/2023 22:34:52] \"GET /socket.io/?EIO=4&transport=polling&t=OcLrr-u&sid=bsv2p3VOcBompGaRAACv HTTP/1.1\" 200 -\n",
      "127.0.0.1 - - [26/Jul/2023 22:34:52] \"POST /socket.io/?EIO=4&transport=polling&t=OcLry5h&sid=bsv2p3VOcBompGaRAACv HTTP/1.1\" 200 -\n",
      "127.0.0.1 - - [26/Jul/2023 22:34:56] \"GET /socket.io/?EIO=4&transport=polling&t=OcLrxxk&sid=4hm7mIHFoHdbBXUrAADg HTTP/1.1\" 200 -\n",
      "127.0.0.1 - - [26/Jul/2023 22:34:56] \"POST /socket.io/?EIO=4&transport=polling&t=OcLrzBj&sid=4hm7mIHFoHdbBXUrAADg HTTP/1.1\" 200 -\n",
      "127.0.0.1 - - [26/Jul/2023 22:34:58] \"POST /socket.io/?EIO=4&transport=polling&t=OcLrzXy&sid=4hm7mIHFoHdbBXUrAADg HTTP/1.1\" 200 -\n"
     ]
    },
    {
     "name": "stdout",
     "output_type": "stream",
     "text": [
      "{'selectedCardIndices': [0]}\n"
     ]
    },
    {
     "name": "stderr",
     "output_type": "stream",
     "text": [
      "127.0.0.1 - - [26/Jul/2023 22:34:58] \"POST /socket.io/?EIO=4&transport=polling&t=OcLrzd9&sid=4hm7mIHFoHdbBXUrAADg HTTP/1.1\" 200 -\n",
      "127.0.0.1 - - [26/Jul/2023 22:34:58] \"GET /socket.io/?EIO=4&transport=polling&t=OcLrzBk&sid=4hm7mIHFoHdbBXUrAADg HTTP/1.1\" 200 -\n"
     ]
    },
    {
     "name": "stdout",
     "output_type": "stream",
     "text": [
      "{'selectedCardIndices': [0, 1]}\n",
      "WIN\n"
     ]
    },
    {
     "name": "stderr",
     "output_type": "stream",
     "text": [
      "127.0.0.1 - - [26/Jul/2023 22:35:02] \"POST /socket.io/?EIO=4&transport=polling&t=OcLr-dU&sid=4hm7mIHFoHdbBXUrAADg HTTP/1.1\" 200 -\n"
     ]
    },
    {
     "name": "stdout",
     "output_type": "stream",
     "text": [
      "{'selectedCardIndices': [0]}\n"
     ]
    },
    {
     "name": "stderr",
     "output_type": "stream",
     "text": [
      "127.0.0.1 - - [26/Jul/2023 22:35:03] \"POST /socket.io/?EIO=4&transport=polling&t=OcLr-lJ&sid=4hm7mIHFoHdbBXUrAADg HTTP/1.1\" 200 -\n"
     ]
    },
    {
     "name": "stdout",
     "output_type": "stream",
     "text": [
      "{'selectedCardIndices': [0, 1]}\n"
     ]
    },
    {
     "name": "stderr",
     "output_type": "stream",
     "text": [
      "127.0.0.1 - - [26/Jul/2023 22:35:03] \"POST /socket.io/?EIO=4&transport=polling&t=OcLr-rp&sid=4hm7mIHFoHdbBXUrAADg HTTP/1.1\" 200 -\n"
     ]
    },
    {
     "name": "stdout",
     "output_type": "stream",
     "text": [
      "{'selectedCardIndices': [0]}\n"
     ]
    },
    {
     "name": "stderr",
     "output_type": "stream",
     "text": [
      "127.0.0.1 - - [26/Jul/2023 22:35:04] \"POST /socket.io/?EIO=4&transport=polling&t=OcLr-zd&sid=4hm7mIHFoHdbBXUrAADg HTTP/1.1\" 200 -\n"
     ]
    },
    {
     "name": "stdout",
     "output_type": "stream",
     "text": [
      "{'selectedCardIndices': [0, 1]}\n"
     ]
    },
    {
     "name": "stderr",
     "output_type": "stream",
     "text": [
      "127.0.0.1 - - [26/Jul/2023 22:35:04] \"POST /socket.io/?EIO=4&transport=polling&t=OcLr_48&sid=4hm7mIHFoHdbBXUrAADg HTTP/1.1\" 200 -\n"
     ]
    },
    {
     "name": "stdout",
     "output_type": "stream",
     "text": [
      "{'selectedCardIndices': [0, 1, 2]}\n"
     ]
    },
    {
     "name": "stderr",
     "output_type": "stream",
     "text": [
      "127.0.0.1 - - [26/Jul/2023 22:35:05] \"POST /socket.io/?EIO=4&transport=polling&t=OcLr_Eq&sid=4hm7mIHFoHdbBXUrAADg HTTP/1.1\" 200 -\n"
     ]
    },
    {
     "name": "stdout",
     "output_type": "stream",
     "text": [
      "{'selectedCardIndices': [0, 1, 2, 3]}\n"
     ]
    },
    {
     "name": "stderr",
     "output_type": "stream",
     "text": [
      "127.0.0.1 - - [26/Jul/2023 22:35:06] \"POST /socket.io/?EIO=4&transport=polling&t=OcLr_SN&sid=4hm7mIHFoHdbBXUrAADg HTTP/1.1\" 200 -\n"
     ]
    },
    {
     "name": "stdout",
     "output_type": "stream",
     "text": [
      "{'selectedCardIndices': [0, 1, 2]}\n"
     ]
    },
    {
     "name": "stderr",
     "output_type": "stream",
     "text": [
      "127.0.0.1 - - [26/Jul/2023 22:35:06] \"POST /socket.io/?EIO=4&transport=polling&t=OcLr_az&sid=4hm7mIHFoHdbBXUrAADg HTTP/1.1\" 200 -\n"
     ]
    },
    {
     "name": "stdout",
     "output_type": "stream",
     "text": [
      "{'selectedCardIndices': [0, 1]}\n"
     ]
    },
    {
     "name": "stderr",
     "output_type": "stream",
     "text": [
      "127.0.0.1 - - [26/Jul/2023 22:35:07] \"POST /socket.io/?EIO=4&transport=polling&t=OcLr_lN&sid=4hm7mIHFoHdbBXUrAADg HTTP/1.1\" 200 -\n"
     ]
    },
    {
     "name": "stdout",
     "output_type": "stream",
     "text": [
      "{'selectedCardIndices': [0]}\n"
     ]
    },
    {
     "name": "stderr",
     "output_type": "stream",
     "text": [
      "127.0.0.1 - - [26/Jul/2023 22:35:13] \"POST /socket.io/?EIO=4&transport=polling&t=OcLs1I5&sid=4hm7mIHFoHdbBXUrAADg HTTP/1.1\" 200 -\n"
     ]
    },
    {
     "name": "stdout",
     "output_type": "stream",
     "text": [
      "{'selectedCardIndices': [0]}\n"
     ]
    },
    {
     "name": "stderr",
     "output_type": "stream",
     "text": [
      "127.0.0.1 - - [26/Jul/2023 22:35:13] \"POST /socket.io/?EIO=4&transport=polling&t=OcLs1Nq&sid=4hm7mIHFoHdbBXUrAADg HTTP/1.1\" 200 -\n"
     ]
    },
    {
     "name": "stdout",
     "output_type": "stream",
     "text": [
      "{'selectedCardIndices': [0, 1]}\n"
     ]
    },
    {
     "name": "stderr",
     "output_type": "stream",
     "text": [
      "127.0.0.1 - - [26/Jul/2023 22:35:14] \"POST /socket.io/?EIO=4&transport=polling&t=OcLs1XC&sid=4hm7mIHFoHdbBXUrAADg HTTP/1.1\" 200 -\n",
      "127.0.0.1 - - [26/Jul/2023 22:35:14] \"GET /socket.io/?EIO=4&transport=polling&t=OcLrzdI&sid=4hm7mIHFoHdbBXUrAADg HTTP/1.1\" 200 -\n"
     ]
    },
    {
     "name": "stdout",
     "output_type": "stream",
     "text": [
      "{'selectedCardIndices': [0, 1, 3]}\n",
      "WIN\n"
     ]
    },
    {
     "name": "stderr",
     "output_type": "stream",
     "text": [
      "127.0.0.1 - - [26/Jul/2023 22:35:17] \"GET /socket.io/?EIO=4&transport=polling&t=OcLry5i&sid=bsv2p3VOcBompGaRAACv HTTP/1.1\" 200 -\n",
      "127.0.0.1 - - [26/Jul/2023 22:35:17] \"POST /socket.io/?EIO=4&transport=polling&t=OcLs2CR&sid=bsv2p3VOcBompGaRAACv HTTP/1.1\" 200 -\n",
      "127.0.0.1 - - [26/Jul/2023 22:35:17] \"POST /socket.io/?EIO=4&transport=polling&t=OcLs2Fq&sid=4hm7mIHFoHdbBXUrAADg HTTP/1.1\" 200 -\n"
     ]
    },
    {
     "name": "stdout",
     "output_type": "stream",
     "text": [
      "{'selectedCardIndices': [0]}\n"
     ]
    },
    {
     "name": "stderr",
     "output_type": "stream",
     "text": [
      "127.0.0.1 - - [26/Jul/2023 22:35:17] \"POST /socket.io/?EIO=4&transport=polling&t=OcLs2Ms&sid=4hm7mIHFoHdbBXUrAADg HTTP/1.1\" 200 -\n"
     ]
    },
    {
     "name": "stdout",
     "output_type": "stream",
     "text": [
      "{'selectedCardIndices': [0, 1]}\n"
     ]
    },
    {
     "name": "stderr",
     "output_type": "stream",
     "text": [
      "127.0.0.1 - - [26/Jul/2023 22:35:19] \"POST /socket.io/?EIO=4&transport=polling&t=OcLs2f5&sid=4hm7mIHFoHdbBXUrAADg HTTP/1.1\" 200 -\n"
     ]
    },
    {
     "name": "stdout",
     "output_type": "stream",
     "text": [
      "{'selectedCardIndices': [0, 1, 2]}\n"
     ]
    },
    {
     "name": "stderr",
     "output_type": "stream",
     "text": [
      "127.0.0.1 - - [26/Jul/2023 22:35:19] \"POST /socket.io/?EIO=4&transport=polling&t=OcLs2qI&sid=4hm7mIHFoHdbBXUrAADg HTTP/1.1\" 200 -\n"
     ]
    },
    {
     "name": "stdout",
     "output_type": "stream",
     "text": [
      "{'selectedCardIndices': [0, 1]}\n"
     ]
    },
    {
     "name": "stderr",
     "output_type": "stream",
     "text": [
      "127.0.0.1 - - [26/Jul/2023 22:35:20] \"POST /socket.io/?EIO=4&transport=polling&t=OcLs2zg&sid=4hm7mIHFoHdbBXUrAADg HTTP/1.1\" 200 -\n"
     ]
    },
    {
     "name": "stdout",
     "output_type": "stream",
     "text": [
      "{'selectedCardIndices': [0]}\n"
     ]
    },
    {
     "name": "stderr",
     "output_type": "stream",
     "text": [
      "127.0.0.1 - - [26/Jul/2023 22:35:20] \"POST /socket.io/?EIO=4&transport=polling&t=OcLs36G&sid=4hm7mIHFoHdbBXUrAADg HTTP/1.1\" 200 -\n",
      "127.0.0.1 - - [26/Jul/2023 22:35:20] \"GET /socket.io/?EIO=4&transport=polling&t=OcLs1XM&sid=4hm7mIHFoHdbBXUrAADg HTTP/1.1\" 200 -\n"
     ]
    },
    {
     "name": "stdout",
     "output_type": "stream",
     "text": [
      "{'selectedCardIndices': [0, 3]}\n",
      "WIN\n"
     ]
    },
    {
     "name": "stderr",
     "output_type": "stream",
     "text": [
      "127.0.0.1 - - [26/Jul/2023 22:35:21] \"GET /socket.io/?EIO=4&transport=polling&t=OcLs36Q&sid=4hm7mIHFoHdbBXUrAADg HTTP/1.1\" 200 -\n",
      "127.0.0.1 - - [26/Jul/2023 22:35:21] \"POST /socket.io/?EIO=4&transport=polling&t=OcLs3IW&sid=4hm7mIHFoHdbBXUrAADg HTTP/1.1\" 200 -\n",
      "127.0.0.1 - - [26/Jul/2023 22:35:29] \"POST /socket.io/?EIO=4&transport=polling&t=OcLs57z&sid=4hm7mIHFoHdbBXUrAADg HTTP/1.1\" 200 -\n"
     ]
    },
    {
     "name": "stdout",
     "output_type": "stream",
     "text": [
      "{'selectedCardIndices': [0]}\n"
     ]
    },
    {
     "name": "stderr",
     "output_type": "stream",
     "text": [
      "127.0.0.1 - - [26/Jul/2023 22:35:30] \"POST /socket.io/?EIO=4&transport=polling&t=OcLs5O8&sid=4hm7mIHFoHdbBXUrAADg HTTP/1.1\" 200 -\n",
      "127.0.0.1 - - [26/Jul/2023 22:35:30] \"GET /socket.io/?EIO=4&transport=polling&t=OcLs3IX&sid=4hm7mIHFoHdbBXUrAADg HTTP/1.1\" 200 -\n"
     ]
    },
    {
     "name": "stdout",
     "output_type": "stream",
     "text": [
      "{'selectedCardIndices': [0, 3]}\n",
      "WIN\n"
     ]
    },
    {
     "name": "stderr",
     "output_type": "stream",
     "text": [
      "127.0.0.1 - - [26/Jul/2023 22:35:32] \"POST /socket.io/?EIO=4&transport=polling&t=OcLs5ss&sid=4hm7mIHFoHdbBXUrAADg HTTP/1.1\" 200 -\n"
     ]
    },
    {
     "name": "stdout",
     "output_type": "stream",
     "text": [
      "{'selectedCardIndices': [1]}\n"
     ]
    },
    {
     "name": "stderr",
     "output_type": "stream",
     "text": [
      "127.0.0.1 - - [26/Jul/2023 22:35:39] \"POST /socket.io/?EIO=4&transport=polling&t=OcLs7Yy&sid=4hm7mIHFoHdbBXUrAADg HTTP/1.1\" 200 -\n"
     ]
    },
    {
     "name": "stdout",
     "output_type": "stream",
     "text": [
      "{'selectedCardIndices': [0]}\n"
     ]
    },
    {
     "name": "stderr",
     "output_type": "stream",
     "text": [
      "127.0.0.1 - - [26/Jul/2023 22:35:42] \"GET /socket.io/?EIO=4&transport=polling&t=OcLs2CS&sid=bsv2p3VOcBompGaRAACv HTTP/1.1\" 200 -\n",
      "127.0.0.1 - - [26/Jul/2023 22:35:42] \"POST /socket.io/?EIO=4&transport=polling&t=OcLs8JE&sid=bsv2p3VOcBompGaRAACv HTTP/1.1\" 200 -\n",
      "127.0.0.1 - - [26/Jul/2023 22:35:42] \"POST /socket.io/?EIO=4&transport=polling&t=OcLs8SW&sid=4hm7mIHFoHdbBXUrAADg HTTP/1.1\" 200 -\n"
     ]
    },
    {
     "name": "stdout",
     "output_type": "stream",
     "text": [
      "{'selectedCardIndices': [0, 1]}\n"
     ]
    },
    {
     "name": "stderr",
     "output_type": "stream",
     "text": [
      "127.0.0.1 - - [26/Jul/2023 22:35:43] \"POST /socket.io/?EIO=4&transport=polling&t=OcLs8fo&sid=4hm7mIHFoHdbBXUrAADg HTTP/1.1\" 200 -\n"
     ]
    },
    {
     "name": "stdout",
     "output_type": "stream",
     "text": [
      "{'selectedCardIndices': [0, 1, 3]}\n"
     ]
    },
    {
     "name": "stderr",
     "output_type": "stream",
     "text": [
      "127.0.0.1 - - [26/Jul/2023 22:35:44] \"POST /socket.io/?EIO=4&transport=polling&t=OcLs8qC&sid=4hm7mIHFoHdbBXUrAADg HTTP/1.1\" 200 -\n"
     ]
    },
    {
     "name": "stdout",
     "output_type": "stream",
     "text": [
      "{'selectedCardIndices': [0, 1]}\n"
     ]
    },
    {
     "name": "stderr",
     "output_type": "stream",
     "text": [
      "127.0.0.1 - - [26/Jul/2023 22:35:45] \"POST /socket.io/?EIO=4&transport=polling&t=OcLs94M&sid=4hm7mIHFoHdbBXUrAADg HTTP/1.1\" 200 -\n"
     ]
    },
    {
     "name": "stdout",
     "output_type": "stream",
     "text": [
      "{'selectedCardIndices': [0, 1, 2]}\n"
     ]
    },
    {
     "name": "stderr",
     "output_type": "stream",
     "text": [
      "127.0.0.1 - - [26/Jul/2023 22:35:45] \"POST /socket.io/?EIO=4&transport=polling&t=OcLs9AL&sid=4hm7mIHFoHdbBXUrAADg HTTP/1.1\" 200 -\n"
     ]
    },
    {
     "name": "stdout",
     "output_type": "stream",
     "text": [
      "{'selectedCardIndices': [0, 1]}\n"
     ]
    },
    {
     "name": "stderr",
     "output_type": "stream",
     "text": [
      "127.0.0.1 - - [26/Jul/2023 22:35:46] \"POST /socket.io/?EIO=4&transport=polling&t=OcLs9JC&sid=4hm7mIHFoHdbBXUrAADg HTTP/1.1\" 200 -\n"
     ]
    },
    {
     "name": "stdout",
     "output_type": "stream",
     "text": [
      "{'selectedCardIndices': [0]}\n"
     ]
    },
    {
     "name": "stderr",
     "output_type": "stream",
     "text": [
      "127.0.0.1 - - [26/Jul/2023 22:35:46] \"GET /socket.io/?EIO=4&transport=polling&t=OcLs5OH&sid=4hm7mIHFoHdbBXUrAADg HTTP/1.1\" 200 -\n",
      "127.0.0.1 - - [26/Jul/2023 22:35:46] \"POST /socket.io/?EIO=4&transport=polling&t=OcLs9PI&sid=4hm7mIHFoHdbBXUrAADg HTTP/1.1\" 200 -\n",
      "127.0.0.1 - - [26/Jul/2023 22:35:49] \"POST /socket.io/?EIO=4&transport=polling&t=OcLs9yt&sid=4hm7mIHFoHdbBXUrAADg HTTP/1.1\" 200 -\n"
     ]
    },
    {
     "name": "stdout",
     "output_type": "stream",
     "text": [
      "{'selectedCardIndices': [0, 1]}\n"
     ]
    },
    {
     "name": "stderr",
     "output_type": "stream",
     "text": [
      "127.0.0.1 - - [26/Jul/2023 22:35:49] \"POST /socket.io/?EIO=4&transport=polling&t=OcLsAAx&sid=4hm7mIHFoHdbBXUrAADg HTTP/1.1\" 200 -\n"
     ]
    },
    {
     "name": "stdout",
     "output_type": "stream",
     "text": [
      "{'selectedCardIndices': [0, 1, 2]}\n"
     ]
    },
    {
     "name": "stderr",
     "output_type": "stream",
     "text": [
      "127.0.0.1 - - [26/Jul/2023 22:35:50] \"POST /socket.io/?EIO=4&transport=polling&t=OcLsAOl&sid=4hm7mIHFoHdbBXUrAADg HTTP/1.1\" 200 -\n"
     ]
    },
    {
     "name": "stdout",
     "output_type": "stream",
     "text": [
      "{'selectedCardIndices': [0, 1, 2, 3]}\n"
     ]
    },
    {
     "name": "stderr",
     "output_type": "stream",
     "text": [
      "127.0.0.1 - - [26/Jul/2023 22:35:51] \"POST /socket.io/?EIO=4&transport=polling&t=OcLsAVW&sid=4hm7mIHFoHdbBXUrAADg HTTP/1.1\" 200 -\n"
     ]
    },
    {
     "name": "stdout",
     "output_type": "stream",
     "text": [
      "{'selectedCardIndices': [0, 1, 2]}\n"
     ]
    },
    {
     "name": "stderr",
     "output_type": "stream",
     "text": [
      "127.0.0.1 - - [26/Jul/2023 22:35:51] \"POST /socket.io/?EIO=4&transport=polling&t=OcLsAdb&sid=4hm7mIHFoHdbBXUrAADg HTTP/1.1\" 200 -\n"
     ]
    },
    {
     "name": "stdout",
     "output_type": "stream",
     "text": [
      "{'selectedCardIndices': [0, 1]}\n"
     ]
    },
    {
     "name": "stderr",
     "output_type": "stream",
     "text": [
      "127.0.0.1 - - [26/Jul/2023 22:35:52] \"POST /socket.io/?EIO=4&transport=polling&t=OcLsAmz&sid=4hm7mIHFoHdbBXUrAADg HTTP/1.1\" 200 -\n"
     ]
    },
    {
     "name": "stdout",
     "output_type": "stream",
     "text": [
      "{'selectedCardIndices': [0]}\n"
     ]
    },
    {
     "name": "stderr",
     "output_type": "stream",
     "text": [
      "127.0.0.1 - - [26/Jul/2023 22:35:57] \"POST /socket.io/?EIO=4&transport=polling&t=OcLsC55&sid=4hm7mIHFoHdbBXUrAADg HTTP/1.1\" 200 -\n"
     ]
    },
    {
     "name": "stdout",
     "output_type": "stream",
     "text": [
      "{'selectedCardIndices': [0]}\n"
     ]
    },
    {
     "name": "stderr",
     "output_type": "stream",
     "text": [
      "127.0.0.1 - - [26/Jul/2023 22:35:58] \"POST /socket.io/?EIO=4&transport=polling&t=OcLsCG2&sid=4hm7mIHFoHdbBXUrAADg HTTP/1.1\" 200 -\n"
     ]
    },
    {
     "name": "stdout",
     "output_type": "stream",
     "text": [
      "{'selectedCardIndices': [0, 1]}\n"
     ]
    },
    {
     "name": "stderr",
     "output_type": "stream",
     "text": [
      "127.0.0.1 - - [26/Jul/2023 22:35:58] \"POST /socket.io/?EIO=4&transport=polling&t=OcLsCM1&sid=4hm7mIHFoHdbBXUrAADg HTTP/1.1\" 200 -\n"
     ]
    },
    {
     "name": "stdout",
     "output_type": "stream",
     "text": [
      "{'selectedCardIndices': [0]}\n"
     ]
    },
    {
     "name": "stderr",
     "output_type": "stream",
     "text": [
      "127.0.0.1 - - [26/Jul/2023 22:35:59] \"POST /socket.io/?EIO=4&transport=polling&t=OcLsCXE&sid=4hm7mIHFoHdbBXUrAADg HTTP/1.1\" 200 -\n"
     ]
    },
    {
     "name": "stdout",
     "output_type": "stream",
     "text": [
      "{'selectedCardIndices': [0, 2]}\n"
     ]
    },
    {
     "name": "stderr",
     "output_type": "stream",
     "text": [
      "127.0.0.1 - - [26/Jul/2023 22:35:59] \"POST /socket.io/?EIO=4&transport=polling&t=OcLsCdk&sid=4hm7mIHFoHdbBXUrAADg HTTP/1.1\" 200 -\n",
      "127.0.0.1 - - [26/Jul/2023 22:35:59] \"GET /socket.io/?EIO=4&transport=polling&t=OcLs9PJ&sid=4hm7mIHFoHdbBXUrAADg HTTP/1.1\" 200 -\n"
     ]
    },
    {
     "name": "stdout",
     "output_type": "stream",
     "text": [
      "{'selectedCardIndices': [0, 2, 3]}\n",
      "WIN\n"
     ]
    },
    {
     "name": "stderr",
     "output_type": "stream",
     "text": [
      "127.0.0.1 - - [26/Jul/2023 22:36:03] \"POST /socket.io/?EIO=4&transport=polling&t=OcLsDV_&sid=4hm7mIHFoHdbBXUrAADg HTTP/1.1\" 200 -\n"
     ]
    },
    {
     "name": "stdout",
     "output_type": "stream",
     "text": [
      "{'selectedCardIndices': [0]}\n"
     ]
    },
    {
     "name": "stderr",
     "output_type": "stream",
     "text": [
      "127.0.0.1 - - [26/Jul/2023 22:36:03] \"POST /socket.io/?EIO=4&transport=polling&t=OcLsDbk&sid=4hm7mIHFoHdbBXUrAADg HTTP/1.1\" 200 -\n",
      "127.0.0.1 - - [26/Jul/2023 22:36:03] \"GET /socket.io/?EIO=4&transport=polling&t=OcLsCdu&sid=4hm7mIHFoHdbBXUrAADg HTTP/1.1\" 200 -\n"
     ]
    },
    {
     "name": "stdout",
     "output_type": "stream",
     "text": [
      "{'selectedCardIndices': [0, 1]}\n",
      "WIN\n"
     ]
    },
    {
     "name": "stderr",
     "output_type": "stream",
     "text": [
      "127.0.0.1 - - [26/Jul/2023 22:36:05] \"POST /socket.io/?EIO=4&transport=polling&t=OcLsD_m&sid=4hm7mIHFoHdbBXUrAADg HTTP/1.1\" 200 -\n"
     ]
    },
    {
     "name": "stdout",
     "output_type": "stream",
     "text": [
      "{'selectedCardIndices': [0]}\n"
     ]
    },
    {
     "name": "stderr",
     "output_type": "stream",
     "text": [
      "127.0.0.1 - - [26/Jul/2023 22:36:06] \"POST /socket.io/?EIO=4&transport=polling&t=OcLsE60&sid=4hm7mIHFoHdbBXUrAADg HTTP/1.1\" 200 -\n",
      "127.0.0.1 - - [26/Jul/2023 22:36:06] \"GET /socket.io/?EIO=4&transport=polling&t=OcLsDbu&sid=4hm7mIHFoHdbBXUrAADg HTTP/1.1\" 200 -\n"
     ]
    },
    {
     "name": "stdout",
     "output_type": "stream",
     "text": [
      "{'selectedCardIndices': [0, 1]}\n",
      "WIN\n"
     ]
    },
    {
     "name": "stderr",
     "output_type": "stream",
     "text": [
      "127.0.0.1 - - [26/Jul/2023 22:36:06] \"POST /socket.io/?EIO=4&transport=polling&t=OcLsEL8&sid=4hm7mIHFoHdbBXUrAADg HTTP/1.1\" 200 -\n"
     ]
    },
    {
     "name": "stdout",
     "output_type": "stream",
     "text": [
      "{'selectedCardIndices': [0]}\n"
     ]
    },
    {
     "name": "stderr",
     "output_type": "stream",
     "text": [
      "127.0.0.1 - - [26/Jul/2023 22:36:07] \"GET /socket.io/?EIO=4&transport=polling&t=OcLs8JF&sid=bsv2p3VOcBompGaRAACv HTTP/1.1\" 200 -\n",
      "127.0.0.1 - - [26/Jul/2023 22:36:07] \"POST /socket.io/?EIO=4&transport=polling&t=OcLsEQ0&sid=bsv2p3VOcBompGaRAACv HTTP/1.1\" 200 -\n",
      "127.0.0.1 - - [26/Jul/2023 22:36:07] \"POST /socket.io/?EIO=4&transport=polling&t=OcLsERv&sid=4hm7mIHFoHdbBXUrAADg HTTP/1.1\" 200 -\n",
      "127.0.0.1 - - [26/Jul/2023 22:36:07] \"GET /socket.io/?EIO=4&transport=polling&t=OcLsE6A&sid=4hm7mIHFoHdbBXUrAADg HTTP/1.1\" 200 -\n"
     ]
    },
    {
     "name": "stdout",
     "output_type": "stream",
     "text": [
      "{'selectedCardIndices': [0, 1]}\n",
      "WIN\n"
     ]
    },
    {
     "name": "stderr",
     "output_type": "stream",
     "text": [
      "127.0.0.1 - - [26/Jul/2023 22:36:11] \"GET /socket.io/?EIO=4&transport=polling&t=OcLsES4&sid=4hm7mIHFoHdbBXUrAADg HTTP/1.1\" 200 -\n",
      "127.0.0.1 - - [26/Jul/2023 22:36:11] \"POST /socket.io/?EIO=4&transport=polling&t=OcLsFW7&sid=4hm7mIHFoHdbBXUrAADg HTTP/1.1\" 200 -\n",
      "127.0.0.1 - - [26/Jul/2023 22:36:13] \"POST /socket.io/?EIO=4&transport=polling&t=OcLsFzr&sid=4hm7mIHFoHdbBXUrAADg HTTP/1.1\" 200 -\n"
     ]
    },
    {
     "name": "stdout",
     "output_type": "stream",
     "text": [
      "{'selectedCardIndices': [0]}\n"
     ]
    },
    {
     "name": "stderr",
     "output_type": "stream",
     "text": [
      "127.0.0.1 - - [26/Jul/2023 22:36:14] \"POST /socket.io/?EIO=4&transport=polling&t=OcLsGEm&sid=4hm7mIHFoHdbBXUrAADg HTTP/1.1\" 200 -\n"
     ]
    },
    {
     "name": "stdout",
     "output_type": "stream",
     "text": [
      "{'selectedCardIndices': [0, 1]}\n"
     ]
    },
    {
     "name": "stderr",
     "output_type": "stream",
     "text": [
      "127.0.0.1 - - [26/Jul/2023 22:36:15] \"POST /socket.io/?EIO=4&transport=polling&t=OcLsGSr&sid=4hm7mIHFoHdbBXUrAADg HTTP/1.1\" 200 -\n"
     ]
    },
    {
     "name": "stdout",
     "output_type": "stream",
     "text": [
      "{'selectedCardIndices': [0, 1, 3]}\n"
     ]
    },
    {
     "name": "stderr",
     "output_type": "stream",
     "text": [
      "127.0.0.1 - - [26/Jul/2023 22:36:16] \"POST /socket.io/?EIO=4&transport=polling&t=OcLsGaf&sid=4hm7mIHFoHdbBXUrAADg HTTP/1.1\" 200 -\n"
     ]
    },
    {
     "name": "stdout",
     "output_type": "stream",
     "text": [
      "{'selectedCardIndices': [0, 1]}\n"
     ]
    },
    {
     "name": "stderr",
     "output_type": "stream",
     "text": [
      "127.0.0.1 - - [26/Jul/2023 22:36:16] \"POST /socket.io/?EIO=4&transport=polling&t=OcLsGjF&sid=4hm7mIHFoHdbBXUrAADg HTTP/1.1\" 200 -\n"
     ]
    },
    {
     "name": "stdout",
     "output_type": "stream",
     "text": [
      "{'selectedCardIndices': [0]}\n"
     ]
    },
    {
     "name": "stderr",
     "output_type": "stream",
     "text": [
      "127.0.0.1 - - [26/Jul/2023 22:36:22] \"POST /socket.io/?EIO=4&transport=polling&t=OcLsI1d&sid=4hm7mIHFoHdbBXUrAADg HTTP/1.1\" 200 -\n"
     ]
    },
    {
     "name": "stdout",
     "output_type": "stream",
     "text": [
      "{'selectedCardIndices': [1]}\n"
     ]
    },
    {
     "name": "stderr",
     "output_type": "stream",
     "text": [
      "127.0.0.1 - - [26/Jul/2023 22:36:23] \"POST /socket.io/?EIO=4&transport=polling&t=OcLsIHW&sid=4hm7mIHFoHdbBXUrAADg HTTP/1.1\" 200 -\n"
     ]
    },
    {
     "name": "stdout",
     "output_type": "stream",
     "text": [
      "{'selectedCardIndices': [1, 2]}\n"
     ]
    },
    {
     "name": "stderr",
     "output_type": "stream",
     "text": [
      "127.0.0.1 - - [26/Jul/2023 22:36:24] \"POST /socket.io/?EIO=4&transport=polling&t=OcLsIXx&sid=4hm7mIHFoHdbBXUrAADg HTTP/1.1\" 200 -\n",
      "127.0.0.1 - - [26/Jul/2023 22:36:24] \"GET /socket.io/?EIO=4&transport=polling&t=OcLsFW8&sid=4hm7mIHFoHdbBXUrAADg HTTP/1.1\" 200 -\n"
     ]
    },
    {
     "name": "stdout",
     "output_type": "stream",
     "text": [
      "{'selectedCardIndices': [1, 2, 3]}\n",
      "WIN\n"
     ]
    },
    {
     "name": "stderr",
     "output_type": "stream",
     "text": [
      "127.0.0.1 - - [26/Jul/2023 22:36:27] \"POST /socket.io/?EIO=4&transport=polling&t=OcLsJLV&sid=4hm7mIHFoHdbBXUrAADg HTTP/1.1\" 200 -\n"
     ]
    },
    {
     "name": "stdout",
     "output_type": "stream",
     "text": [
      "{'selectedCardIndices': [0]}\n"
     ]
    },
    {
     "name": "stderr",
     "output_type": "stream",
     "text": [
      "127.0.0.1 - - [26/Jul/2023 22:36:27] \"POST /socket.io/?EIO=4&transport=polling&t=OcLsJRm&sid=4hm7mIHFoHdbBXUrAADg HTTP/1.1\" 200 -\n"
     ]
    },
    {
     "name": "stdout",
     "output_type": "stream",
     "text": [
      "{'selectedCardIndices': [0, 1]}\n"
     ]
    },
    {
     "name": "stderr",
     "output_type": "stream",
     "text": [
      "127.0.0.1 - - [26/Jul/2023 22:36:28] \"POST /socket.io/?EIO=4&transport=polling&t=OcLsJbu&sid=4hm7mIHFoHdbBXUrAADg HTTP/1.1\" 200 -\n",
      "127.0.0.1 - - [26/Jul/2023 22:36:28] \"GET /socket.io/?EIO=4&transport=polling&t=OcLsIY5&sid=4hm7mIHFoHdbBXUrAADg HTTP/1.1\" 200 -\n"
     ]
    },
    {
     "name": "stdout",
     "output_type": "stream",
     "text": [
      "{'selectedCardIndices': [0, 1, 2]}\n",
      "WIN\n"
     ]
    },
    {
     "name": "stderr",
     "output_type": "stream",
     "text": [
      "127.0.0.1 - - [26/Jul/2023 22:36:30] \"POST /socket.io/?EIO=4&transport=polling&t=OcLsK1n&sid=4hm7mIHFoHdbBXUrAADg HTTP/1.1\" 200 -\n"
     ]
    },
    {
     "name": "stdout",
     "output_type": "stream",
     "text": [
      "{'selectedCardIndices': [0]}\n"
     ]
    },
    {
     "name": "stderr",
     "output_type": "stream",
     "text": [
      "127.0.0.1 - - [26/Jul/2023 22:36:30] \"POST /socket.io/?EIO=4&transport=polling&t=OcLsK8Y&sid=4hm7mIHFoHdbBXUrAADg HTTP/1.1\" 200 -\n",
      "127.0.0.1 - - [26/Jul/2023 22:36:30] \"GET /socket.io/?EIO=4&transport=polling&t=OcLsJc2&sid=4hm7mIHFoHdbBXUrAADg HTTP/1.1\" 200 -\n"
     ]
    },
    {
     "name": "stdout",
     "output_type": "stream",
     "text": [
      "{'selectedCardIndices': [0, 1]}\n",
      "WIN\n"
     ]
    },
    {
     "name": "stderr",
     "output_type": "stream",
     "text": [
      "127.0.0.1 - - [26/Jul/2023 22:36:32] \"POST /socket.io/?EIO=4&transport=polling&t=OcLsKS4&sid=4hm7mIHFoHdbBXUrAADg HTTP/1.1\" 200 -\n"
     ]
    },
    {
     "name": "stdout",
     "output_type": "stream",
     "text": [
      "{'selectedCardIndices': [0]}\n"
     ]
    },
    {
     "name": "stderr",
     "output_type": "stream",
     "text": [
      "127.0.0.1 - - [26/Jul/2023 22:36:32] \"GET /socket.io/?EIO=4&transport=polling&t=OcLsEQ1&sid=bsv2p3VOcBompGaRAACv HTTP/1.1\" 200 -\n",
      "127.0.0.1 - - [26/Jul/2023 22:36:32] \"POST /socket.io/?EIO=4&transport=polling&t=OcLsKWm&sid=bsv2p3VOcBompGaRAACv HTTP/1.1\" 200 -\n",
      "127.0.0.1 - - [26/Jul/2023 22:36:33] \"POST /socket.io/?EIO=4&transport=polling&t=OcLsKoD&sid=4hm7mIHFoHdbBXUrAADg HTTP/1.1\" 200 -\n"
     ]
    },
    {
     "name": "stdout",
     "output_type": "stream",
     "text": [
      "{'selectedCardIndices': [0]}\n"
     ]
    },
    {
     "name": "stderr",
     "output_type": "stream",
     "text": [
      "127.0.0.1 - - [26/Jul/2023 22:36:34] \"POST /socket.io/?EIO=4&transport=polling&t=OcLsL2e&sid=4hm7mIHFoHdbBXUrAADg HTTP/1.1\" 200 -\n"
     ]
    },
    {
     "name": "stdout",
     "output_type": "stream",
     "text": [
      "{'selectedCardIndices': [1]}\n"
     ]
    },
    {
     "name": "stderr",
     "output_type": "stream",
     "text": [
      "127.0.0.1 - - [26/Jul/2023 22:36:35] \"POST /socket.io/?EIO=4&transport=polling&t=OcLsLBl&sid=4hm7mIHFoHdbBXUrAADg HTTP/1.1\" 200 -\n",
      "127.0.0.1 - - [26/Jul/2023 22:36:35] \"GET /socket.io/?EIO=4&transport=polling&t=OcLsK8j&sid=4hm7mIHFoHdbBXUrAADg HTTP/1.1\" 200 -\n"
     ]
    },
    {
     "name": "stdout",
     "output_type": "stream",
     "text": [
      "{'selectedCardIndices': [1, 3]}\n",
      "WIN\n"
     ]
    },
    {
     "name": "stderr",
     "output_type": "stream",
     "text": [
      "127.0.0.1 - - [26/Jul/2023 22:36:36] \"GET /socket.io/?EIO=4&transport=polling&t=OcLsLBv&sid=4hm7mIHFoHdbBXUrAADg HTTP/1.1\" 200 -\n",
      "127.0.0.1 - - [26/Jul/2023 22:36:36] \"POST /socket.io/?EIO=4&transport=polling&t=OcLsLcw&sid=4hm7mIHFoHdbBXUrAADg HTTP/1.1\" 200 -\n",
      "127.0.0.1 - - [26/Jul/2023 22:36:41] \"POST /socket.io/?EIO=4&transport=polling&t=OcLsMsX&sid=4hm7mIHFoHdbBXUrAADg HTTP/1.1\" 200 -\n"
     ]
    },
    {
     "name": "stdout",
     "output_type": "stream",
     "text": [
      "{'selectedCardIndices': [2]}\n"
     ]
    },
    {
     "name": "stderr",
     "output_type": "stream",
     "text": [
      "127.0.0.1 - - [26/Jul/2023 22:36:42] \"POST /socket.io/?EIO=4&transport=polling&t=OcLsM-L&sid=4hm7mIHFoHdbBXUrAADg HTTP/1.1\" 200 -\n"
     ]
    },
    {
     "name": "stdout",
     "output_type": "stream",
     "text": [
      "{'selectedCardIndices': [2, 3]}\n"
     ]
    },
    {
     "name": "stderr",
     "output_type": "stream",
     "text": [
      "127.0.0.1 - - [26/Jul/2023 22:36:42] \"POST /socket.io/?EIO=4&transport=polling&t=OcLsN6h&sid=4hm7mIHFoHdbBXUrAADg HTTP/1.1\" 200 -\n"
     ]
    },
    {
     "name": "stdout",
     "output_type": "stream",
     "text": [
      "{'selectedCardIndices': [2]}\n"
     ]
    },
    {
     "name": "stderr",
     "output_type": "stream",
     "text": [
      "127.0.0.1 - - [26/Jul/2023 22:36:47] \"POST /socket.io/?EIO=4&transport=polling&t=OcLsOL4&sid=4hm7mIHFoHdbBXUrAADg HTTP/1.1\" 200 -\n"
     ]
    },
    {
     "name": "stdout",
     "output_type": "stream",
     "text": [
      "{'selectedCardIndices': [0]}\n"
     ]
    },
    {
     "name": "stderr",
     "output_type": "stream",
     "text": [
      "127.0.0.1 - - [26/Jul/2023 22:36:48] \"POST /socket.io/?EIO=4&transport=polling&t=OcLsOS6&sid=4hm7mIHFoHdbBXUrAADg HTTP/1.1\" 200 -\n",
      "127.0.0.1 - - [26/Jul/2023 22:36:48] \"GET /socket.io/?EIO=4&transport=polling&t=OcLsLcx&sid=4hm7mIHFoHdbBXUrAADg HTTP/1.1\" 200 -\n"
     ]
    },
    {
     "name": "stdout",
     "output_type": "stream",
     "text": [
      "{'selectedCardIndices': [0, 1]}\n",
      "WIN\n"
     ]
    },
    {
     "name": "stderr",
     "output_type": "stream",
     "text": [
      "127.0.0.1 - - [26/Jul/2023 22:36:52] \"POST /socket.io/?EIO=4&transport=polling&t=OcLsPNV&sid=4hm7mIHFoHdbBXUrAADg HTTP/1.1\" 200 -\n"
     ]
    },
    {
     "name": "stdout",
     "output_type": "stream",
     "text": [
      "{'selectedCardIndices': [1]}\n"
     ]
    },
    {
     "name": "stderr",
     "output_type": "stream",
     "text": [
      "127.0.0.1 - - [26/Jul/2023 22:36:57] \"GET /socket.io/?EIO=4&transport=polling&t=OcLsKWn&sid=bsv2p3VOcBompGaRAACv HTTP/1.1\" 200 -\n",
      "127.0.0.1 - - [26/Jul/2023 22:36:57] \"POST /socket.io/?EIO=4&transport=polling&t=OcLsQdY&sid=bsv2p3VOcBompGaRAACv HTTP/1.1\" 200 -\n",
      "127.0.0.1 - - [26/Jul/2023 22:37:01] \"GET /socket.io/?EIO=4&transport=polling&t=OcLsOSG&sid=4hm7mIHFoHdbBXUrAADg HTTP/1.1\" 200 -\n",
      "127.0.0.1 - - [26/Jul/2023 22:37:01] \"POST /socket.io/?EIO=4&transport=polling&t=OcLsRji&sid=4hm7mIHFoHdbBXUrAADg HTTP/1.1\" 200 -\n",
      "127.0.0.1 - - [26/Jul/2023 22:37:22] \"GET /socket.io/?EIO=4&transport=polling&t=OcLsQdZ&sid=bsv2p3VOcBompGaRAACv HTTP/1.1\" 200 -\n",
      "127.0.0.1 - - [26/Jul/2023 22:37:22] \"POST /socket.io/?EIO=4&transport=polling&t=OcLsWkN&sid=bsv2p3VOcBompGaRAACv HTTP/1.1\" 200 -\n",
      "127.0.0.1 - - [26/Jul/2023 22:37:26] \"GET /socket.io/?EIO=4&transport=polling&t=OcLsRjj&sid=4hm7mIHFoHdbBXUrAADg HTTP/1.1\" 200 -\n",
      "127.0.0.1 - - [26/Jul/2023 22:37:26] \"POST /socket.io/?EIO=4&transport=polling&t=OcLsXqT&sid=4hm7mIHFoHdbBXUrAADg HTTP/1.1\" 200 -\n",
      "127.0.0.1 - - [26/Jul/2023 22:37:47] \"GET /socket.io/?EIO=4&transport=polling&t=OcLsWkO&sid=bsv2p3VOcBompGaRAACv HTTP/1.1\" 200 -\n",
      "127.0.0.1 - - [26/Jul/2023 22:37:47] \"POST /socket.io/?EIO=4&transport=polling&t=OcLscrC&sid=bsv2p3VOcBompGaRAACv HTTP/1.1\" 200 -\n",
      "127.0.0.1 - - [26/Jul/2023 22:37:51] \"GET /socket.io/?EIO=4&transport=polling&t=OcLsXqT.0&sid=4hm7mIHFoHdbBXUrAADg HTTP/1.1\" 200 -\n",
      "127.0.0.1 - - [26/Jul/2023 22:37:51] \"POST /socket.io/?EIO=4&transport=polling&t=OcLsdxH&sid=4hm7mIHFoHdbBXUrAADg HTTP/1.1\" 200 -\n",
      "127.0.0.1 - - [26/Jul/2023 22:38:12] \"GET /socket.io/?EIO=4&transport=polling&t=OcLscrD&sid=bsv2p3VOcBompGaRAACv HTTP/1.1\" 200 -\n",
      "127.0.0.1 - - [26/Jul/2023 22:38:12] \"POST /socket.io/?EIO=4&transport=polling&t=OcLsix-&sid=bsv2p3VOcBompGaRAACv HTTP/1.1\" 200 -\n",
      "127.0.0.1 - - [26/Jul/2023 22:38:16] \"GET /socket.io/?EIO=4&transport=polling&t=OcLsdxI&sid=4hm7mIHFoHdbBXUrAADg HTTP/1.1\" 200 -\n",
      "127.0.0.1 - - [26/Jul/2023 22:38:16] \"POST /socket.io/?EIO=4&transport=polling&t=OcLsk22&sid=4hm7mIHFoHdbBXUrAADg HTTP/1.1\" 200 -\n",
      "127.0.0.1 - - [26/Jul/2023 22:38:37] \"GET /socket.io/?EIO=4&transport=polling&t=OcLsix_&sid=bsv2p3VOcBompGaRAACv HTTP/1.1\" 200 -\n",
      "127.0.0.1 - - [26/Jul/2023 22:38:37] \"POST /socket.io/?EIO=4&transport=polling&t=OcLsp2m&sid=bsv2p3VOcBompGaRAACv HTTP/1.1\" 200 -\n",
      "127.0.0.1 - - [26/Jul/2023 22:38:41] \"GET /socket.io/?EIO=4&transport=polling&t=OcLsk23&sid=4hm7mIHFoHdbBXUrAADg HTTP/1.1\" 200 -\n",
      "127.0.0.1 - - [26/Jul/2023 22:38:41] \"POST /socket.io/?EIO=4&transport=polling&t=OcLsq8p&sid=4hm7mIHFoHdbBXUrAADg HTTP/1.1\" 200 -\n",
      "127.0.0.1 - - [26/Jul/2023 22:39:02] \"GET /socket.io/?EIO=4&transport=polling&t=OcLsp2n&sid=bsv2p3VOcBompGaRAACv HTTP/1.1\" 200 -\n",
      "127.0.0.1 - - [26/Jul/2023 22:39:02] \"POST /socket.io/?EIO=4&transport=polling&t=OcLsv9W&sid=bsv2p3VOcBompGaRAACv HTTP/1.1\" 200 -\n",
      "127.0.0.1 - - [26/Jul/2023 22:39:06] \"GET /socket.io/?EIO=4&transport=polling&t=OcLsq8q&sid=4hm7mIHFoHdbBXUrAADg HTTP/1.1\" 200 -\n",
      "127.0.0.1 - - [26/Jul/2023 22:39:06] \"POST /socket.io/?EIO=4&transport=polling&t=OcLswFc&sid=4hm7mIHFoHdbBXUrAADg HTTP/1.1\" 200 -\n",
      "127.0.0.1 - - [26/Jul/2023 22:39:27] \"GET /socket.io/?EIO=4&transport=polling&t=OcLsv9X&sid=bsv2p3VOcBompGaRAACv HTTP/1.1\" 200 -\n",
      "127.0.0.1 - - [26/Jul/2023 22:39:27] \"POST /socket.io/?EIO=4&transport=polling&t=OcLs_GM&sid=bsv2p3VOcBompGaRAACv HTTP/1.1\" 200 -\n",
      "127.0.0.1 - - [26/Jul/2023 22:39:31] \"GET /socket.io/?EIO=4&transport=polling&t=OcLswFd&sid=4hm7mIHFoHdbBXUrAADg HTTP/1.1\" 200 -\n",
      "127.0.0.1 - - [26/Jul/2023 22:39:31] \"POST /socket.io/?EIO=4&transport=polling&t=OcLt0MR&sid=4hm7mIHFoHdbBXUrAADg HTTP/1.1\" 200 -\n",
      "127.0.0.1 - - [26/Jul/2023 22:39:52] \"GET /socket.io/?EIO=4&transport=polling&t=OcLs_GN&sid=bsv2p3VOcBompGaRAACv HTTP/1.1\" 200 -\n",
      "127.0.0.1 - - [26/Jul/2023 22:39:52] \"POST /socket.io/?EIO=4&transport=polling&t=OcLt5N9&sid=bsv2p3VOcBompGaRAACv HTTP/1.1\" 200 -\n",
      "127.0.0.1 - - [26/Jul/2023 22:39:56] \"GET /socket.io/?EIO=4&transport=polling&t=OcLt0MS&sid=4hm7mIHFoHdbBXUrAADg HTTP/1.1\" 200 -\n",
      "127.0.0.1 - - [26/Jul/2023 22:39:56] \"POST /socket.io/?EIO=4&transport=polling&t=OcLt6TF&sid=4hm7mIHFoHdbBXUrAADg HTTP/1.1\" 200 -\n",
      "127.0.0.1 - - [26/Jul/2023 22:40:17] \"GET /socket.io/?EIO=4&transport=polling&t=OcLt5NA&sid=bsv2p3VOcBompGaRAACv HTTP/1.1\" 200 -\n",
      "127.0.0.1 - - [26/Jul/2023 22:40:17] \"POST /socket.io/?EIO=4&transport=polling&t=OcLtBT-&sid=bsv2p3VOcBompGaRAACv HTTP/1.1\" 200 -\n",
      "127.0.0.1 - - [26/Jul/2023 22:40:21] \"GET /socket.io/?EIO=4&transport=polling&t=OcLt6TG&sid=4hm7mIHFoHdbBXUrAADg HTTP/1.1\" 200 -\n",
      "127.0.0.1 - - [26/Jul/2023 22:40:21] \"POST /socket.io/?EIO=4&transport=polling&t=OcLtCa4&sid=4hm7mIHFoHdbBXUrAADg HTTP/1.1\" 200 -\n",
      "127.0.0.1 - - [26/Jul/2023 22:40:42] \"GET /socket.io/?EIO=4&transport=polling&t=OcLtBT_&sid=bsv2p3VOcBompGaRAACv HTTP/1.1\" 200 -\n",
      "127.0.0.1 - - [26/Jul/2023 22:40:42] \"POST /socket.io/?EIO=4&transport=polling&t=OcLtHax&sid=bsv2p3VOcBompGaRAACv HTTP/1.1\" 200 -\n",
      "127.0.0.1 - - [26/Jul/2023 22:40:45] \"POST /socket.io/?EIO=4&transport=polling&t=OcLtIF6&sid=bsv2p3VOcBompGaRAACv HTTP/1.1\" 200 -\n",
      "127.0.0.1 - - [26/Jul/2023 22:40:45] \"POST /socket.io/?EIO=4&transport=polling&t=OcLtIFC&sid=4hm7mIHFoHdbBXUrAADg HTTP/1.1\" 200 -\n",
      "127.0.0.1 - - [26/Jul/2023 22:40:45] \"GET /socket.io/?EIO=4&transport=polling&t=OcLtCa4.0&sid=4hm7mIHFoHdbBXUrAADg HTTP/1.1\" 200 -\n",
      "127.0.0.1 - - [26/Jul/2023 22:40:45] \"GET /socket.io/?EIO=4&transport=polling&t=OcLtHay&sid=bsv2p3VOcBompGaRAACv HTTP/1.1\" 200 -\n",
      "127.0.0.1 - - [26/Jul/2023 22:40:45] \"GET /socket.io/?EIO=4&transport=polling&t=OcLtISR HTTP/1.1\" 200 -\n",
      "127.0.0.1 - - [26/Jul/2023 22:40:45] \"GET /socket.io/?EIO=4&transport=polling&t=OcLtIST HTTP/1.1\" 200 -\n",
      "127.0.0.1 - - [26/Jul/2023 22:40:45] \"POST /socket.io/?EIO=4&transport=polling&t=OcLtISb&sid=vaZ22ry1L6lI2Z9fAADi HTTP/1.1\" 200 -\n",
      "127.0.0.1 - - [26/Jul/2023 22:40:45] \"GET /socket.io/?EIO=4&transport=polling&t=OcLtISc&sid=vaZ22ry1L6lI2Z9fAADi HTTP/1.1\" 200 -\n",
      "127.0.0.1 - - [26/Jul/2023 22:40:45] \"POST /socket.io/?EIO=4&transport=polling&t=OcLtISd&sid=wejWW35CClfYWJzUAADj HTTP/1.1\" 200 -\n",
      "127.0.0.1 - - [26/Jul/2023 22:40:45] \"GET /socket.io/?EIO=4&transport=polling&t=OcLtISf&sid=wejWW35CClfYWJzUAADj HTTP/1.1\" 200 -\n",
      "127.0.0.1 - - [26/Jul/2023 23:41:11] \"GET /socket.io/?EIO=4&transport=polling&t=OcLtISm&sid=vaZ22ry1L6lI2Z9fAADi HTTP/1.1\" 200 -\n",
      "127.0.0.1 - - [26/Jul/2023 23:41:11] \"GET /socket.io/?EIO=4&transport=polling&t=OcLtISr&sid=wejWW35CClfYWJzUAADj HTTP/1.1\" 200 -\n",
      "127.0.0.1 - - [26/Jul/2023 23:41:11] \"POST /socket.io/?EIO=4&transport=polling&t=OcM57Wq&sid=vaZ22ry1L6lI2Z9fAADi HTTP/1.1\" 200 -\n",
      "127.0.0.1 - - [26/Jul/2023 23:41:11] \"POST /socket.io/?EIO=4&transport=polling&t=OcM57Wu&sid=wejWW35CClfYWJzUAADj HTTP/1.1\" 200 -\n",
      "127.0.0.1 - - [27/Jul/2023 09:46:07] \"GET /socket.io/?EIO=4&transport=polling&t=OcM57Wu.0&sid=wejWW35CClfYWJzUAADj HTTP/1.1\" 200 -\n",
      "127.0.0.1 - - [27/Jul/2023 09:46:07] \"GET /socket.io/?EIO=4&transport=polling&t=OcM57Wr&sid=vaZ22ry1L6lI2Z9fAADi HTTP/1.1\" 200 -\n",
      "127.0.0.1 - - [27/Jul/2023 09:46:07] \"POST /socket.io/?EIO=4&transport=polling&t=OcOFasd&sid=wejWW35CClfYWJzUAADj HTTP/1.1\" 200 -\n",
      "127.0.0.1 - - [27/Jul/2023 09:46:07] \"POST /socket.io/?EIO=4&transport=polling&t=OcOFash&sid=vaZ22ry1L6lI2Z9fAADi HTTP/1.1\" 200 -\n",
      "127.0.0.1 - - [27/Jul/2023 09:46:32] \"GET /socket.io/?EIO=4&transport=polling&t=OcOFasg&sid=wejWW35CClfYWJzUAADj HTTP/1.1\" 200 -\n",
      "127.0.0.1 - - [27/Jul/2023 09:46:32] \"POST /socket.io/?EIO=4&transport=polling&t=OcOFgza&sid=wejWW35CClfYWJzUAADj HTTP/1.1\" 200 -\n",
      "127.0.0.1 - - [27/Jul/2023 09:46:32] \"GET /socket.io/?EIO=4&transport=polling&t=OcOFasm&sid=vaZ22ry1L6lI2Z9fAADi HTTP/1.1\" 200 -\n",
      "127.0.0.1 - - [27/Jul/2023 09:46:32] \"POST /socket.io/?EIO=4&transport=polling&t=OcOFgzj&sid=vaZ22ry1L6lI2Z9fAADi HTTP/1.1\" 200 -\n",
      "127.0.0.1 - - [27/Jul/2023 09:46:47] \"POST /socket.io/?EIO=4&transport=polling&t=OcOFkkY&sid=wejWW35CClfYWJzUAADj HTTP/1.1\" 200 -\n"
     ]
    },
    {
     "name": "stdout",
     "output_type": "stream",
     "text": [
      "{'selectedCardIndices': [0]}\n"
     ]
    },
    {
     "name": "stderr",
     "output_type": "stream",
     "text": [
      "127.0.0.1 - - [27/Jul/2023 09:46:48] \"POST /socket.io/?EIO=4&transport=polling&t=OcOFkpk&sid=wejWW35CClfYWJzUAADj HTTP/1.1\" 200 -\n"
     ]
    },
    {
     "name": "stdout",
     "output_type": "stream",
     "text": [
      "{'selectedCardIndices': [0, 1]}\n"
     ]
    },
    {
     "name": "stderr",
     "output_type": "stream",
     "text": [
      "127.0.0.1 - - [27/Jul/2023 09:46:48] \"POST /socket.io/?EIO=4&transport=polling&t=OcOFkxI&sid=wejWW35CClfYWJzUAADj HTTP/1.1\" 200 -\n",
      "127.0.0.1 - - [27/Jul/2023 09:46:48] \"GET /socket.io/?EIO=4&transport=polling&t=OcOFgzb&sid=wejWW35CClfYWJzUAADj HTTP/1.1\" 200 -\n"
     ]
    },
    {
     "name": "stdout",
     "output_type": "stream",
     "text": [
      "{'selectedCardIndices': [0, 1, 3]}\n",
      "WIN\n"
     ]
    },
    {
     "name": "stderr",
     "output_type": "stream",
     "text": [
      "127.0.0.1 - - [27/Jul/2023 09:46:57] \"GET /socket.io/?EIO=4&transport=polling&t=OcOFkxU&sid=wejWW35CClfYWJzUAADj HTTP/1.1\" 200 -\n",
      "127.0.0.1 - - [27/Jul/2023 09:46:57] \"POST /socket.io/?EIO=4&transport=polling&t=OcOFn4K&sid=wejWW35CClfYWJzUAADj HTTP/1.1\" 200 -\n",
      "127.0.0.1 - - [27/Jul/2023 09:46:57] \"GET /socket.io/?EIO=4&transport=polling&t=OcOFgzk&sid=vaZ22ry1L6lI2Z9fAADi HTTP/1.1\" 200 -\n",
      "127.0.0.1 - - [27/Jul/2023 09:46:57] \"POST /socket.io/?EIO=4&transport=polling&t=OcOFn4T&sid=vaZ22ry1L6lI2Z9fAADi HTTP/1.1\" 200 -\n",
      "127.0.0.1 - - [27/Jul/2023 09:46:59] \"POST /socket.io/?EIO=4&transport=polling&t=OcOFnfI&sid=wejWW35CClfYWJzUAADj HTTP/1.1\" 200 -\n"
     ]
    },
    {
     "name": "stdout",
     "output_type": "stream",
     "text": [
      "{'selectedCardIndices': [0]}\n"
     ]
    },
    {
     "name": "stderr",
     "output_type": "stream",
     "text": [
      "127.0.0.1 - - [27/Jul/2023 09:46:59] \"POST /socket.io/?EIO=4&transport=polling&t=OcOFnjC&sid=wejWW35CClfYWJzUAADj HTTP/1.1\" 200 -\n",
      "127.0.0.1 - - [27/Jul/2023 09:46:59] \"GET /socket.io/?EIO=4&transport=polling&t=OcOFn4K.0&sid=wejWW35CClfYWJzUAADj HTTP/1.1\" 200 -\n"
     ]
    },
    {
     "name": "stdout",
     "output_type": "stream",
     "text": [
      "{'selectedCardIndices': [0, 1]}\n",
      "WIN\n"
     ]
    },
    {
     "name": "stderr",
     "output_type": "stream",
     "text": [
      "127.0.0.1 - - [27/Jul/2023 09:47:08] \"POST /socket.io/?EIO=4&transport=polling&t=OcOFpkO&sid=wejWW35CClfYWJzUAADj HTTP/1.1\" 200 -\n"
     ]
    },
    {
     "name": "stdout",
     "output_type": "stream",
     "text": [
      "{'selectedCardIndices': [1]}\n"
     ]
    },
    {
     "name": "stderr",
     "output_type": "stream",
     "text": [
      "127.0.0.1 - - [27/Jul/2023 09:47:08] \"POST /socket.io/?EIO=4&transport=polling&t=OcOFpop&sid=wejWW35CClfYWJzUAADj HTTP/1.1\" 200 -\n"
     ]
    },
    {
     "name": "stdout",
     "output_type": "stream",
     "text": [
      "{'selectedCardIndices': [1, 2]}\n"
     ]
    },
    {
     "name": "stderr",
     "output_type": "stream",
     "text": [
      "127.0.0.1 - - [27/Jul/2023 09:47:08] \"POST /socket.io/?EIO=4&transport=polling&t=OcOFptm&sid=wejWW35CClfYWJzUAADj HTTP/1.1\" 200 -\n",
      "127.0.0.1 - - [27/Jul/2023 09:47:08] \"GET /socket.io/?EIO=4&transport=polling&t=OcOFnjM&sid=wejWW35CClfYWJzUAADj HTTP/1.1\" 200 -\n"
     ]
    },
    {
     "name": "stdout",
     "output_type": "stream",
     "text": [
      "{'selectedCardIndices': [1, 2, 3]}\n",
      "WIN\n"
     ]
    },
    {
     "name": "stderr",
     "output_type": "stream",
     "text": [
      "127.0.0.1 - - [27/Jul/2023 09:47:22] \"GET /socket.io/?EIO=4&transport=polling&t=OcOFptw&sid=wejWW35CClfYWJzUAADj HTTP/1.1\" 200 -\n",
      "127.0.0.1 - - [27/Jul/2023 09:47:22] \"GET /socket.io/?EIO=4&transport=polling&t=OcOFn4U&sid=vaZ22ry1L6lI2Z9fAADi HTTP/1.1\" 200 -\n",
      "127.0.0.1 - - [27/Jul/2023 09:47:22] \"POST /socket.io/?EIO=4&transport=polling&t=OcOFtB8&sid=wejWW35CClfYWJzUAADj HTTP/1.1\" 200 -\n",
      "127.0.0.1 - - [27/Jul/2023 09:47:22] \"POST /socket.io/?EIO=4&transport=polling&t=OcOFtBE&sid=vaZ22ry1L6lI2Z9fAADi HTTP/1.1\" 200 -\n",
      "127.0.0.1 - - [27/Jul/2023 09:47:47] \"GET /socket.io/?EIO=4&transport=polling&t=OcOFtB9&sid=wejWW35CClfYWJzUAADj HTTP/1.1\" 200 -\n",
      "127.0.0.1 - - [27/Jul/2023 09:47:47] \"GET /socket.io/?EIO=4&transport=polling&t=OcOFtBF&sid=vaZ22ry1L6lI2Z9fAADi HTTP/1.1\" 200 -\n",
      "127.0.0.1 - - [27/Jul/2023 09:47:47] \"POST /socket.io/?EIO=4&transport=polling&t=OcOFzHz&sid=wejWW35CClfYWJzUAADj HTTP/1.1\" 200 -\n",
      "127.0.0.1 - - [27/Jul/2023 09:47:47] \"POST /socket.io/?EIO=4&transport=polling&t=OcOFzI1&sid=vaZ22ry1L6lI2Z9fAADi HTTP/1.1\" 200 -\n",
      "127.0.0.1 - - [27/Jul/2023 09:48:12] \"GET /socket.io/?EIO=4&transport=polling&t=OcOFzI2&sid=vaZ22ry1L6lI2Z9fAADi HTTP/1.1\" 200 -\n",
      "127.0.0.1 - - [27/Jul/2023 09:48:12] \"GET /socket.io/?EIO=4&transport=polling&t=OcOFzHz.0&sid=wejWW35CClfYWJzUAADj HTTP/1.1\" 200 -\n",
      "127.0.0.1 - - [27/Jul/2023 09:48:12] \"POST /socket.io/?EIO=4&transport=polling&t=OcOG3Ot&sid=wejWW35CClfYWJzUAADj HTTP/1.1\" 200 -\n",
      "127.0.0.1 - - [27/Jul/2023 09:48:12] \"POST /socket.io/?EIO=4&transport=polling&t=OcOG3Or&sid=vaZ22ry1L6lI2Z9fAADi HTTP/1.1\" 200 -\n",
      "127.0.0.1 - - [27/Jul/2023 09:48:37] \"GET /socket.io/?EIO=4&transport=polling&t=OcOG3Os&sid=vaZ22ry1L6lI2Z9fAADi HTTP/1.1\" 200 -\n",
      "127.0.0.1 - - [27/Jul/2023 09:48:37] \"GET /socket.io/?EIO=4&transport=polling&t=OcOG3Ou&sid=wejWW35CClfYWJzUAADj HTTP/1.1\" 200 -\n",
      "127.0.0.1 - - [27/Jul/2023 09:48:37] \"POST /socket.io/?EIO=4&transport=polling&t=OcOG9Vm&sid=wejWW35CClfYWJzUAADj HTTP/1.1\" 200 -\n",
      "127.0.0.1 - - [27/Jul/2023 09:48:37] \"POST /socket.io/?EIO=4&transport=polling&t=OcOG9Vm&sid=vaZ22ry1L6lI2Z9fAADi HTTP/1.1\" 200 -\n",
      "127.0.0.1 - - [27/Jul/2023 09:49:02] \"GET /socket.io/?EIO=4&transport=polling&t=OcOG9Vn&sid=wejWW35CClfYWJzUAADj HTTP/1.1\" 200 -\n",
      "127.0.0.1 - - [27/Jul/2023 09:49:02] \"GET /socket.io/?EIO=4&transport=polling&t=OcOG9Vn&sid=vaZ22ry1L6lI2Z9fAADi HTTP/1.1\" 200 -\n",
      "127.0.0.1 - - [27/Jul/2023 09:49:02] \"POST /socket.io/?EIO=4&transport=polling&t=OcOGFcf&sid=wejWW35CClfYWJzUAADj HTTP/1.1\" 200 -\n",
      "127.0.0.1 - - [27/Jul/2023 09:49:02] \"POST /socket.io/?EIO=4&transport=polling&t=OcOGFcg&sid=vaZ22ry1L6lI2Z9fAADi HTTP/1.1\" 200 -\n",
      "127.0.0.1 - - [27/Jul/2023 09:49:15] \"POST /socket.io/?EIO=4&transport=polling&t=OcOGInu&sid=wejWW35CClfYWJzUAADj HTTP/1.1\" 200 -\n"
     ]
    },
    {
     "name": "stdout",
     "output_type": "stream",
     "text": [
      "{'selectedCardIndices': [0]}\n"
     ]
    },
    {
     "name": "stderr",
     "output_type": "stream",
     "text": [
      "127.0.0.1 - - [27/Jul/2023 09:49:15] \"POST /socket.io/?EIO=4&transport=polling&t=OcOGItd&sid=wejWW35CClfYWJzUAADj HTTP/1.1\" 200 -\n"
     ]
    },
    {
     "name": "stdout",
     "output_type": "stream",
     "text": [
      "{'selectedCardIndices': [0, 1]}\n"
     ]
    },
    {
     "name": "stderr",
     "output_type": "stream",
     "text": [
      "127.0.0.1 - - [27/Jul/2023 09:49:16] \"GET /socket.io/?EIO=4&transport=polling&t=OcOGFcg&sid=wejWW35CClfYWJzUAADj HTTP/1.1\" 200 -\n",
      "127.0.0.1 - - [27/Jul/2023 09:49:16] \"POST /socket.io/?EIO=4&transport=polling&t=OcOGIzc&sid=wejWW35CClfYWJzUAADj HTTP/1.1\" 200 -\n"
     ]
    },
    {
     "name": "stdout",
     "output_type": "stream",
     "text": [
      "{'selectedCardIndices': [0, 1, 2]}\n",
      "WIN\n"
     ]
    },
    {
     "name": "stderr",
     "output_type": "stream",
     "text": [
      "127.0.0.1 - - [27/Jul/2023 09:49:18] \"POST /socket.io/?EIO=4&transport=polling&t=OcOGJRY&sid=wejWW35CClfYWJzUAADj HTTP/1.1\" 200 -\n"
     ]
    },
    {
     "name": "stdout",
     "output_type": "stream",
     "text": [
      "{'selectedCardIndices': [1]}\n"
     ]
    },
    {
     "name": "stderr",
     "output_type": "stream",
     "text": [
      "127.0.0.1 - - [27/Jul/2023 09:49:18] \"POST /socket.io/?EIO=4&transport=polling&t=OcOGJZN&sid=wejWW35CClfYWJzUAADj HTTP/1.1\" 200 -\n",
      "127.0.0.1 - - [27/Jul/2023 09:49:18] \"GET /socket.io/?EIO=4&transport=polling&t=OcOGIzm&sid=wejWW35CClfYWJzUAADj HTTP/1.1\" 200 -\n"
     ]
    },
    {
     "name": "stdout",
     "output_type": "stream",
     "text": [
      "{'selectedCardIndices': [1, 2]}\n",
      "WIN\n"
     ]
    },
    {
     "name": "stderr",
     "output_type": "stream",
     "text": [
      "127.0.0.1 - - [27/Jul/2023 09:49:23] \"POST /socket.io/?EIO=4&transport=polling&t=OcOGKps&sid=wejWW35CClfYWJzUAADj HTTP/1.1\" 200 -\n"
     ]
    },
    {
     "name": "stdout",
     "output_type": "stream",
     "text": [
      "{'selectedCardIndices': [0]}\n"
     ]
    },
    {
     "name": "stderr",
     "output_type": "stream",
     "text": [
      "127.0.0.1 - - [27/Jul/2023 09:49:27] \"GET /socket.io/?EIO=4&transport=polling&t=OcOGJZW&sid=wejWW35CClfYWJzUAADj HTTP/1.1\" 200 -\n",
      "127.0.0.1 - - [27/Jul/2023 09:49:27] \"GET /socket.io/?EIO=4&transport=polling&t=OcOGFch&sid=vaZ22ry1L6lI2Z9fAADi HTTP/1.1\" 200 -\n",
      "127.0.0.1 - - [27/Jul/2023 09:49:27] \"POST /socket.io/?EIO=4&transport=polling&t=OcOGLjY&sid=wejWW35CClfYWJzUAADj HTTP/1.1\" 200 -\n",
      "127.0.0.1 - - [27/Jul/2023 09:49:27] \"POST /socket.io/?EIO=4&transport=polling&t=OcOGLjb&sid=vaZ22ry1L6lI2Z9fAADi HTTP/1.1\" 200 -\n",
      "127.0.0.1 - - [27/Jul/2023 09:49:52] \"GET /socket.io/?EIO=4&transport=polling&t=OcOGLjZ&sid=wejWW35CClfYWJzUAADj HTTP/1.1\" 200 -\n",
      "127.0.0.1 - - [27/Jul/2023 09:49:52] \"GET /socket.io/?EIO=4&transport=polling&t=OcOGLjc&sid=vaZ22ry1L6lI2Z9fAADi HTTP/1.1\" 200 -\n",
      "127.0.0.1 - - [27/Jul/2023 09:49:52] \"POST /socket.io/?EIO=4&transport=polling&t=OcOGRqP&sid=wejWW35CClfYWJzUAADj HTTP/1.1\" 200 -\n",
      "127.0.0.1 - - [27/Jul/2023 09:49:52] \"POST /socket.io/?EIO=4&transport=polling&t=OcOGRqQ&sid=vaZ22ry1L6lI2Z9fAADi HTTP/1.1\" 200 -\n",
      "127.0.0.1 - - [27/Jul/2023 09:50:17] \"GET /socket.io/?EIO=4&transport=polling&t=OcOGRqP.0&sid=wejWW35CClfYWJzUAADj HTTP/1.1\" 200 -\n",
      "127.0.0.1 - - [27/Jul/2023 09:50:17] \"GET /socket.io/?EIO=4&transport=polling&t=OcOGRqR&sid=vaZ22ry1L6lI2Z9fAADi HTTP/1.1\" 200 -\n",
      "127.0.0.1 - - [27/Jul/2023 09:50:17] \"POST /socket.io/?EIO=4&transport=polling&t=OcOGXxD&sid=wejWW35CClfYWJzUAADj HTTP/1.1\" 200 -\n",
      "127.0.0.1 - - [27/Jul/2023 09:50:17] \"POST /socket.io/?EIO=4&transport=polling&t=OcOGXxE&sid=vaZ22ry1L6lI2Z9fAADi HTTP/1.1\" 200 -\n",
      "127.0.0.1 - - [27/Jul/2023 09:50:42] \"GET /socket.io/?EIO=4&transport=polling&t=OcOGXxE&sid=wejWW35CClfYWJzUAADj HTTP/1.1\" 200 -\n",
      "127.0.0.1 - - [27/Jul/2023 09:50:42] \"GET /socket.io/?EIO=4&transport=polling&t=OcOGXxF&sid=vaZ22ry1L6lI2Z9fAADi HTTP/1.1\" 200 -\n",
      "127.0.0.1 - - [27/Jul/2023 09:50:42] \"POST /socket.io/?EIO=4&transport=polling&t=OcOGe21&sid=wejWW35CClfYWJzUAADj HTTP/1.1\" 200 -\n",
      "127.0.0.1 - - [27/Jul/2023 09:50:42] \"POST /socket.io/?EIO=4&transport=polling&t=OcOGe24&sid=vaZ22ry1L6lI2Z9fAADi HTTP/1.1\" 200 -\n",
      "127.0.0.1 - - [27/Jul/2023 09:50:49] \"POST /socket.io/?EIO=4&transport=polling&t=OcOGfhp&sid=wejWW35CClfYWJzUAADj HTTP/1.1\" 200 -\n"
     ]
    },
    {
     "name": "stdout",
     "output_type": "stream",
     "text": [
      "{'selectedCardIndices': [0]}\n"
     ]
    },
    {
     "name": "stderr",
     "output_type": "stream",
     "text": [
      "127.0.0.1 - - [27/Jul/2023 09:50:49] \"POST /socket.io/?EIO=4&transport=polling&t=OcOGfp6&sid=wejWW35CClfYWJzUAADj HTTP/1.1\" 200 -\n",
      "127.0.0.1 - - [27/Jul/2023 09:50:49] \"GET /socket.io/?EIO=4&transport=polling&t=OcOGe22&sid=wejWW35CClfYWJzUAADj HTTP/1.1\" 200 -\n"
     ]
    },
    {
     "name": "stdout",
     "output_type": "stream",
     "text": [
      "{'selectedCardIndices': [0, 2]}\n",
      "WIN\n"
     ]
    },
    {
     "name": "stderr",
     "output_type": "stream",
     "text": [
      "127.0.0.1 - - [27/Jul/2023 09:51:02] \"POST /socket.io/?EIO=4&transport=polling&t=OcOGipt&sid=wejWW35CClfYWJzUAADj HTTP/1.1\" 200 -\n"
     ]
    },
    {
     "name": "stdout",
     "output_type": "stream",
     "text": [
      "{'selectedCardIndices': [0]}\n"
     ]
    },
    {
     "name": "stderr",
     "output_type": "stream",
     "text": [
      "127.0.0.1 - - [27/Jul/2023 09:51:02] \"POST /socket.io/?EIO=4&transport=polling&t=OcOGiyk&sid=wejWW35CClfYWJzUAADj HTTP/1.1\" 200 -\n"
     ]
    },
    {
     "name": "stdout",
     "output_type": "stream",
     "text": [
      "{'selectedCardIndices': [0, 2]}\n"
     ]
    },
    {
     "name": "stderr",
     "output_type": "stream",
     "text": [
      "127.0.0.1 - - [27/Jul/2023 09:51:03] \"POST /socket.io/?EIO=4&transport=polling&t=OcOGjDO&sid=wejWW35CClfYWJzUAADj HTTP/1.1\" 200 -\n",
      "127.0.0.1 - - [27/Jul/2023 09:51:03] \"GET /socket.io/?EIO=4&transport=polling&t=OcOGfpG&sid=wejWW35CClfYWJzUAADj HTTP/1.1\" 200 -\n"
     ]
    },
    {
     "name": "stdout",
     "output_type": "stream",
     "text": [
      "{'selectedCardIndices': [0, 2, 1]}\n",
      "WIN\n"
     ]
    },
    {
     "name": "stderr",
     "output_type": "stream",
     "text": [
      "127.0.0.1 - - [27/Jul/2023 09:51:07] \"GET /socket.io/?EIO=4&transport=polling&t=OcOGjDZ&sid=wejWW35CClfYWJzUAADj HTTP/1.1\" 200 -\n",
      "127.0.0.1 - - [27/Jul/2023 09:51:07] \"GET /socket.io/?EIO=4&transport=polling&t=OcOGe25&sid=vaZ22ry1L6lI2Z9fAADi HTTP/1.1\" 200 -\n",
      "127.0.0.1 - - [27/Jul/2023 09:51:07] \"POST /socket.io/?EIO=4&transport=polling&t=OcOGk8u&sid=wejWW35CClfYWJzUAADj HTTP/1.1\" 200 -\n",
      "127.0.0.1 - - [27/Jul/2023 09:51:07] \"POST /socket.io/?EIO=4&transport=polling&t=OcOGk8w&sid=vaZ22ry1L6lI2Z9fAADi HTTP/1.1\" 200 -\n",
      "127.0.0.1 - - [27/Jul/2023 09:51:32] \"GET /socket.io/?EIO=4&transport=polling&t=OcOGk8x&sid=vaZ22ry1L6lI2Z9fAADi HTTP/1.1\" 200 -\n",
      "127.0.0.1 - - [27/Jul/2023 09:51:32] \"GET /socket.io/?EIO=4&transport=polling&t=OcOGk8v&sid=wejWW35CClfYWJzUAADj HTTP/1.1\" 200 -\n",
      "127.0.0.1 - - [27/Jul/2023 09:51:32] \"POST /socket.io/?EIO=4&transport=polling&t=OcOGqFq&sid=vaZ22ry1L6lI2Z9fAADi HTTP/1.1\" 200 -\n",
      "127.0.0.1 - - [27/Jul/2023 09:51:32] \"POST /socket.io/?EIO=4&transport=polling&t=OcOGqFq&sid=wejWW35CClfYWJzUAADj HTTP/1.1\" 200 -\n",
      "127.0.0.1 - - [27/Jul/2023 09:51:57] \"GET /socket.io/?EIO=4&transport=polling&t=OcOGqFr&sid=vaZ22ry1L6lI2Z9fAADi HTTP/1.1\" 200 -\n",
      "127.0.0.1 - - [27/Jul/2023 09:51:57] \"GET /socket.io/?EIO=4&transport=polling&t=OcOGqFr&sid=wejWW35CClfYWJzUAADj HTTP/1.1\" 200 -\n",
      "127.0.0.1 - - [27/Jul/2023 09:51:57] \"POST /socket.io/?EIO=4&transport=polling&t=OcOGwMn&sid=wejWW35CClfYWJzUAADj HTTP/1.1\" 200 -\n",
      "127.0.0.1 - - [27/Jul/2023 09:51:57] \"POST /socket.io/?EIO=4&transport=polling&t=OcOGwMl&sid=vaZ22ry1L6lI2Z9fAADi HTTP/1.1\" 200 -\n",
      "127.0.0.1 - - [27/Jul/2023 09:52:22] \"GET /socket.io/?EIO=4&transport=polling&t=OcOGwMm&sid=vaZ22ry1L6lI2Z9fAADi HTTP/1.1\" 200 -\n",
      "127.0.0.1 - - [27/Jul/2023 09:52:22] \"GET /socket.io/?EIO=4&transport=polling&t=OcOGwMo&sid=wejWW35CClfYWJzUAADj HTTP/1.1\" 200 -\n",
      "127.0.0.1 - - [27/Jul/2023 09:52:22] \"POST /socket.io/?EIO=4&transport=polling&t=OcOH0TY&sid=vaZ22ry1L6lI2Z9fAADi HTTP/1.1\" 200 -\n",
      "127.0.0.1 - - [27/Jul/2023 09:52:22] \"POST /socket.io/?EIO=4&transport=polling&t=OcOH0Tb&sid=wejWW35CClfYWJzUAADj HTTP/1.1\" 200 -\n",
      "127.0.0.1 - - [27/Jul/2023 09:52:47] \"GET /socket.io/?EIO=4&transport=polling&t=OcOH0TZ&sid=vaZ22ry1L6lI2Z9fAADi HTTP/1.1\" 200 -\n",
      "127.0.0.1 - - [27/Jul/2023 09:52:47] \"GET /socket.io/?EIO=4&transport=polling&t=OcOH0Tc&sid=wejWW35CClfYWJzUAADj HTTP/1.1\" 200 -\n",
      "127.0.0.1 - - [27/Jul/2023 09:52:47] \"POST /socket.io/?EIO=4&transport=polling&t=OcOH6aR&sid=wejWW35CClfYWJzUAADj HTTP/1.1\" 200 -\n",
      "127.0.0.1 - - [27/Jul/2023 09:52:47] \"POST /socket.io/?EIO=4&transport=polling&t=OcOH6aQ&sid=vaZ22ry1L6lI2Z9fAADi HTTP/1.1\" 200 -\n",
      "127.0.0.1 - - [27/Jul/2023 09:53:12] \"GET /socket.io/?EIO=4&transport=polling&t=OcOH6aS&sid=wejWW35CClfYWJzUAADj HTTP/1.1\" 200 -\n",
      "127.0.0.1 - - [27/Jul/2023 09:53:12] \"GET /socket.io/?EIO=4&transport=polling&t=OcOH6aR&sid=vaZ22ry1L6lI2Z9fAADi HTTP/1.1\" 200 -\n",
      "127.0.0.1 - - [27/Jul/2023 09:53:12] \"POST /socket.io/?EIO=4&transport=polling&t=OcOHChK&sid=wejWW35CClfYWJzUAADj HTTP/1.1\" 200 -\n",
      "127.0.0.1 - - [27/Jul/2023 09:53:12] \"POST /socket.io/?EIO=4&transport=polling&t=OcOHChL&sid=vaZ22ry1L6lI2Z9fAADi HTTP/1.1\" 200 -\n",
      "127.0.0.1 - - [27/Jul/2023 09:53:37] \"GET /socket.io/?EIO=4&transport=polling&t=OcOHChL&sid=wejWW35CClfYWJzUAADj HTTP/1.1\" 200 -\n",
      "127.0.0.1 - - [27/Jul/2023 09:53:37] \"GET /socket.io/?EIO=4&transport=polling&t=OcOHChM&sid=vaZ22ry1L6lI2Z9fAADi HTTP/1.1\" 200 -\n",
      "127.0.0.1 - - [27/Jul/2023 09:53:37] \"POST /socket.io/?EIO=4&transport=polling&t=OcOHIoB&sid=wejWW35CClfYWJzUAADj HTTP/1.1\" 200 -\n",
      "127.0.0.1 - - [27/Jul/2023 09:53:37] \"POST /socket.io/?EIO=4&transport=polling&t=OcOHIoB&sid=vaZ22ry1L6lI2Z9fAADi HTTP/1.1\" 200 -\n",
      "127.0.0.1 - - [27/Jul/2023 09:54:02] \"GET /socket.io/?EIO=4&transport=polling&t=OcOHIoC&sid=wejWW35CClfYWJzUAADj HTTP/1.1\" 200 -\n",
      "127.0.0.1 - - [27/Jul/2023 09:54:02] \"GET /socket.io/?EIO=4&transport=polling&t=OcOHIoC&sid=vaZ22ry1L6lI2Z9fAADi HTTP/1.1\" 200 -\n",
      "127.0.0.1 - - [27/Jul/2023 09:54:02] \"POST /socket.io/?EIO=4&transport=polling&t=OcOHOv4&sid=wejWW35CClfYWJzUAADj HTTP/1.1\" 200 -\n",
      "127.0.0.1 - - [27/Jul/2023 09:54:02] \"POST /socket.io/?EIO=4&transport=polling&t=OcOHOv6&sid=vaZ22ry1L6lI2Z9fAADi HTTP/1.1\" 200 -\n",
      "127.0.0.1 - - [27/Jul/2023 09:54:27] \"GET /socket.io/?EIO=4&transport=polling&t=OcOHOv5&sid=wejWW35CClfYWJzUAADj HTTP/1.1\" 200 -\n",
      "127.0.0.1 - - [27/Jul/2023 09:54:27] \"GET /socket.io/?EIO=4&transport=polling&t=OcOHOv7&sid=vaZ22ry1L6lI2Z9fAADi HTTP/1.1\" 200 -\n",
      "127.0.0.1 - - [27/Jul/2023 09:54:27] \"POST /socket.io/?EIO=4&transport=polling&t=OcOHU_y&sid=wejWW35CClfYWJzUAADj HTTP/1.1\" 200 -\n",
      "127.0.0.1 - - [27/Jul/2023 09:54:27] \"POST /socket.io/?EIO=4&transport=polling&t=OcOHU_z&sid=vaZ22ry1L6lI2Z9fAADi HTTP/1.1\" 200 -\n",
      "127.0.0.1 - - [27/Jul/2023 09:54:52] \"GET /socket.io/?EIO=4&transport=polling&t=OcOHU_z&sid=wejWW35CClfYWJzUAADj HTTP/1.1\" 200 -\n",
      "127.0.0.1 - - [27/Jul/2023 09:54:52] \"GET /socket.io/?EIO=4&transport=polling&t=OcOHU_-&sid=vaZ22ry1L6lI2Z9fAADi HTTP/1.1\" 200 -\n",
      "127.0.0.1 - - [27/Jul/2023 09:54:52] \"POST /socket.io/?EIO=4&transport=polling&t=OcOHb6t&sid=wejWW35CClfYWJzUAADj HTTP/1.1\" 200 -\n",
      "127.0.0.1 - - [27/Jul/2023 09:54:52] \"POST /socket.io/?EIO=4&transport=polling&t=OcOHb6w&sid=vaZ22ry1L6lI2Z9fAADi HTTP/1.1\" 200 -\n",
      "127.0.0.1 - - [27/Jul/2023 09:55:17] \"GET /socket.io/?EIO=4&transport=polling&t=OcOHb6u&sid=wejWW35CClfYWJzUAADj HTTP/1.1\" 200 -\n",
      "127.0.0.1 - - [27/Jul/2023 09:55:17] \"GET /socket.io/?EIO=4&transport=polling&t=OcOHb6x&sid=vaZ22ry1L6lI2Z9fAADi HTTP/1.1\" 200 -\n",
      "127.0.0.1 - - [27/Jul/2023 09:55:17] \"POST /socket.io/?EIO=4&transport=polling&t=OcOHhDn&sid=wejWW35CClfYWJzUAADj HTTP/1.1\" 200 -\n",
      "127.0.0.1 - - [27/Jul/2023 09:55:17] \"POST /socket.io/?EIO=4&transport=polling&t=OcOHhDr&sid=vaZ22ry1L6lI2Z9fAADi HTTP/1.1\" 200 -\n",
      "127.0.0.1 - - [27/Jul/2023 09:55:42] \"GET /socket.io/?EIO=4&transport=polling&t=OcOHhDo&sid=wejWW35CClfYWJzUAADj HTTP/1.1\" 200 -\n",
      "127.0.0.1 - - [27/Jul/2023 09:55:42] \"GET /socket.io/?EIO=4&transport=polling&t=OcOHhDs&sid=vaZ22ry1L6lI2Z9fAADi HTTP/1.1\" 200 -\n",
      "127.0.0.1 - - [27/Jul/2023 09:55:42] \"POST /socket.io/?EIO=4&transport=polling&t=OcOHnKi&sid=wejWW35CClfYWJzUAADj HTTP/1.1\" 200 -\n",
      "127.0.0.1 - - [27/Jul/2023 09:55:42] \"POST /socket.io/?EIO=4&transport=polling&t=OcOHnKl&sid=vaZ22ry1L6lI2Z9fAADi HTTP/1.1\" 200 -\n",
      "127.0.0.1 - - [27/Jul/2023 09:56:07] \"GET /socket.io/?EIO=4&transport=polling&t=OcOHnKj&sid=wejWW35CClfYWJzUAADj HTTP/1.1\" 200 -\n",
      "127.0.0.1 - - [27/Jul/2023 09:56:07] \"GET /socket.io/?EIO=4&transport=polling&t=OcOHnKm&sid=vaZ22ry1L6lI2Z9fAADi HTTP/1.1\" 200 -\n",
      "127.0.0.1 - - [27/Jul/2023 09:56:07] \"POST /socket.io/?EIO=4&transport=polling&t=OcOHtRc&sid=wejWW35CClfYWJzUAADj HTTP/1.1\" 200 -\n",
      "127.0.0.1 - - [27/Jul/2023 09:56:07] \"POST /socket.io/?EIO=4&transport=polling&t=OcOHtRc&sid=vaZ22ry1L6lI2Z9fAADi HTTP/1.1\" 200 -\n",
      "127.0.0.1 - - [27/Jul/2023 09:56:32] \"GET /socket.io/?EIO=4&transport=polling&t=OcOHtRd&sid=wejWW35CClfYWJzUAADj HTTP/1.1\" 200 -\n",
      "127.0.0.1 - - [27/Jul/2023 09:56:32] \"GET /socket.io/?EIO=4&transport=polling&t=OcOHtRd&sid=vaZ22ry1L6lI2Z9fAADi HTTP/1.1\" 200 -\n",
      "127.0.0.1 - - [27/Jul/2023 09:56:32] \"POST /socket.io/?EIO=4&transport=polling&t=OcOHzYP&sid=wejWW35CClfYWJzUAADj HTTP/1.1\" 200 -\n",
      "127.0.0.1 - - [27/Jul/2023 09:56:32] \"POST /socket.io/?EIO=4&transport=polling&t=OcOHzYR&sid=vaZ22ry1L6lI2Z9fAADi HTTP/1.1\" 200 -\n",
      "127.0.0.1 - - [27/Jul/2023 09:56:50] \"POST /socket.io/?EIO=4&transport=polling&t=OcOI1vg&sid=wejWW35CClfYWJzUAADj HTTP/1.1\" 200 -\n"
     ]
    },
    {
     "name": "stdout",
     "output_type": "stream",
     "text": [
      "{'selectedCardIndices': [0]}\n"
     ]
    },
    {
     "name": "stderr",
     "output_type": "stream",
     "text": [
      "127.0.0.1 - - [27/Jul/2023 09:56:50] \"POST /socket.io/?EIO=4&transport=polling&t=OcOI1-d&sid=wejWW35CClfYWJzUAADj HTTP/1.1\" 200 -\n"
     ]
    },
    {
     "name": "stdout",
     "output_type": "stream",
     "text": [
      "{'selectedCardIndices': [0, 1]}\n"
     ]
    },
    {
     "name": "stderr",
     "output_type": "stream",
     "text": [
      "127.0.0.1 - - [27/Jul/2023 09:56:51] \"POST /socket.io/?EIO=4&transport=polling&t=OcOI2DC&sid=wejWW35CClfYWJzUAADj HTTP/1.1\" 200 -\n"
     ]
    },
    {
     "name": "stdout",
     "output_type": "stream",
     "text": [
      "{'selectedCardIndices': [0, 1, 2]}\n"
     ]
    },
    {
     "name": "stderr",
     "output_type": "stream",
     "text": [
      "127.0.0.1 - - [27/Jul/2023 09:56:52] \"POST /socket.io/?EIO=4&transport=polling&t=OcOI2LH&sid=wejWW35CClfYWJzUAADj HTTP/1.1\" 200 -\n"
     ]
    },
    {
     "name": "stdout",
     "output_type": "stream",
     "text": [
      "{'selectedCardIndices': [0, 1, 2, 3]}\n"
     ]
    },
    {
     "name": "stderr",
     "output_type": "stream",
     "text": [
      "127.0.0.1 - - [27/Jul/2023 09:56:53] \"POST /socket.io/?EIO=4&transport=polling&t=OcOI2ge&sid=wejWW35CClfYWJzUAADj HTTP/1.1\" 200 -\n"
     ]
    },
    {
     "name": "stdout",
     "output_type": "stream",
     "text": [
      "{'selectedCardIndices': [0, 1, 2]}\n"
     ]
    },
    {
     "name": "stderr",
     "output_type": "stream",
     "text": [
      "127.0.0.1 - - [27/Jul/2023 09:56:53] \"POST /socket.io/?EIO=4&transport=polling&t=OcOI2kp&sid=wejWW35CClfYWJzUAADj HTTP/1.1\" 200 -\n"
     ]
    },
    {
     "name": "stdout",
     "output_type": "stream",
     "text": [
      "{'selectedCardIndices': [0, 1]}\n"
     ]
    },
    {
     "name": "stderr",
     "output_type": "stream",
     "text": [
      "127.0.0.1 - - [27/Jul/2023 09:56:54] \"POST /socket.io/?EIO=4&transport=polling&t=OcOI2st&sid=wejWW35CClfYWJzUAADj HTTP/1.1\" 200 -\n"
     ]
    },
    {
     "name": "stdout",
     "output_type": "stream",
     "text": [
      "{'selectedCardIndices': [0]}\n"
     ]
    },
    {
     "name": "stderr",
     "output_type": "stream",
     "text": [
      "127.0.0.1 - - [27/Jul/2023 09:56:55] \"POST /socket.io/?EIO=4&transport=polling&t=OcOI35k&sid=wejWW35CClfYWJzUAADj HTTP/1.1\" 200 -\n"
     ]
    },
    {
     "name": "stdout",
     "output_type": "stream",
     "text": [
      "{'selectedCardIndices': [1]}\n"
     ]
    },
    {
     "name": "stderr",
     "output_type": "stream",
     "text": [
      "127.0.0.1 - - [27/Jul/2023 09:56:55] \"POST /socket.io/?EIO=4&transport=polling&t=OcOI3Ag&sid=wejWW35CClfYWJzUAADj HTTP/1.1\" 200 -\n",
      "127.0.0.1 - - [27/Jul/2023 09:56:55] \"GET /socket.io/?EIO=4&transport=polling&t=OcOHzYQ&sid=wejWW35CClfYWJzUAADj HTTP/1.1\" 200 -\n"
     ]
    },
    {
     "name": "stdout",
     "output_type": "stream",
     "text": [
      "{'selectedCardIndices': [1, 3]}\n",
      "WIN\n"
     ]
    },
    {
     "name": "stderr",
     "output_type": "stream",
     "text": [
      "127.0.0.1 - - [27/Jul/2023 09:56:57] \"GET /socket.io/?EIO=4&transport=polling&t=OcOI3Aq&sid=wejWW35CClfYWJzUAADj HTTP/1.1\" 200 -\n",
      "127.0.0.1 - - [27/Jul/2023 09:56:57] \"GET /socket.io/?EIO=4&transport=polling&t=OcOHzYR.0&sid=vaZ22ry1L6lI2Z9fAADi HTTP/1.1\" 200 -\n",
      "127.0.0.1 - - [27/Jul/2023 09:56:57] \"POST /socket.io/?EIO=4&transport=polling&t=OcOI3fG&sid=wejWW35CClfYWJzUAADj HTTP/1.1\" 200 -\n",
      "127.0.0.1 - - [27/Jul/2023 09:56:57] \"POST /socket.io/?EIO=4&transport=polling&t=OcOI3fM&sid=vaZ22ry1L6lI2Z9fAADi HTTP/1.1\" 200 -\n",
      "127.0.0.1 - - [27/Jul/2023 09:56:58] \"POST /socket.io/?EIO=4&transport=polling&t=OcOI3nD&sid=wejWW35CClfYWJzUAADj HTTP/1.1\" 200 -\n"
     ]
    },
    {
     "name": "stdout",
     "output_type": "stream",
     "text": [
      "{'selectedCardIndices': [0]}\n"
     ]
    },
    {
     "name": "stderr",
     "output_type": "stream",
     "text": [
      "127.0.0.1 - - [27/Jul/2023 09:56:58] \"POST /socket.io/?EIO=4&transport=polling&t=OcOI3uF&sid=wejWW35CClfYWJzUAADj HTTP/1.1\" 200 -\n",
      "127.0.0.1 - - [27/Jul/2023 09:56:58] \"GET /socket.io/?EIO=4&transport=polling&t=OcOI3fH&sid=wejWW35CClfYWJzUAADj HTTP/1.1\" 200 -\n"
     ]
    },
    {
     "name": "stdout",
     "output_type": "stream",
     "text": [
      "{'selectedCardIndices': [0, 2]}\n",
      "WIN\n"
     ]
    },
    {
     "name": "stderr",
     "output_type": "stream",
     "text": [
      "127.0.0.1 - - [27/Jul/2023 09:56:59] \"POST /socket.io/?EIO=4&transport=polling&t=OcOI46r&sid=wejWW35CClfYWJzUAADj HTTP/1.1\" 200 -\n"
     ]
    },
    {
     "name": "stdout",
     "output_type": "stream",
     "text": [
      "{'selectedCardIndices': [2]}\n"
     ]
    },
    {
     "name": "stderr",
     "output_type": "stream",
     "text": [
      "127.0.0.1 - - [27/Jul/2023 09:56:59] \"POST /socket.io/?EIO=4&transport=polling&t=OcOI4Ak&sid=wejWW35CClfYWJzUAADj HTTP/1.1\" 200 -\n",
      "127.0.0.1 - - [27/Jul/2023 09:56:59] \"GET /socket.io/?EIO=4&transport=polling&t=OcOI3uT&sid=wejWW35CClfYWJzUAADj HTTP/1.1\" 200 -\n"
     ]
    },
    {
     "name": "stdout",
     "output_type": "stream",
     "text": [
      "{'selectedCardIndices': [2, 3]}\n",
      "WIN\n"
     ]
    },
    {
     "name": "stderr",
     "output_type": "stream",
     "text": [
      "127.0.0.1 - - [27/Jul/2023 09:57:02] \"POST /socket.io/?EIO=4&transport=polling&t=OcOI4it&sid=wejWW35CClfYWJzUAADj HTTP/1.1\" 200 -\n"
     ]
    },
    {
     "name": "stdout",
     "output_type": "stream",
     "text": [
      "{'selectedCardIndices': [3]}\n"
     ]
    },
    {
     "name": "stderr",
     "output_type": "stream",
     "text": [
      "127.0.0.1 - - [27/Jul/2023 09:57:02] \"POST /socket.io/?EIO=4&transport=polling&t=OcOI4pe&sid=wejWW35CClfYWJzUAADj HTTP/1.1\" 200 -\n",
      "127.0.0.1 - - [27/Jul/2023 09:57:02] \"GET /socket.io/?EIO=4&transport=polling&t=OcOI4Au&sid=wejWW35CClfYWJzUAADj HTTP/1.1\" 200 -\n"
     ]
    },
    {
     "name": "stdout",
     "output_type": "stream",
     "text": [
      "{'selectedCardIndices': [3, 0]}\n",
      "WIN\n"
     ]
    },
    {
     "name": "stderr",
     "output_type": "stream",
     "text": [
      "127.0.0.1 - - [27/Jul/2023 09:57:03] \"POST /socket.io/?EIO=4&transport=polling&t=OcOI53G&sid=wejWW35CClfYWJzUAADj HTTP/1.1\" 200 -\n"
     ]
    },
    {
     "name": "stdout",
     "output_type": "stream",
     "text": [
      "{'selectedCardIndices': [1]}\n"
     ]
    },
    {
     "name": "stderr",
     "output_type": "stream",
     "text": [
      "127.0.0.1 - - [27/Jul/2023 09:57:03] \"POST /socket.io/?EIO=4&transport=polling&t=OcOI57A&sid=wejWW35CClfYWJzUAADj HTTP/1.1\" 200 -\n",
      "127.0.0.1 - - [27/Jul/2023 09:57:03] \"GET /socket.io/?EIO=4&transport=polling&t=OcOI4pr&sid=wejWW35CClfYWJzUAADj HTTP/1.1\" 200 -\n"
     ]
    },
    {
     "name": "stdout",
     "output_type": "stream",
     "text": [
      "{'selectedCardIndices': [1, 2]}\n",
      "WIN\n"
     ]
    },
    {
     "name": "stderr",
     "output_type": "stream",
     "text": [
      "127.0.0.1 - - [27/Jul/2023 09:57:04] \"POST /socket.io/?EIO=4&transport=polling&t=OcOI5Na&sid=wejWW35CClfYWJzUAADj HTTP/1.1\" 200 -\n"
     ]
    },
    {
     "name": "stdout",
     "output_type": "stream",
     "text": [
      "{'selectedCardIndices': [1]}\n"
     ]
    },
    {
     "name": "stderr",
     "output_type": "stream",
     "text": [
      "127.0.0.1 - - [27/Jul/2023 09:57:05] \"POST /socket.io/?EIO=4&transport=polling&t=OcOI5Zq&sid=wejWW35CClfYWJzUAADj HTTP/1.1\" 200 -\n"
     ]
    },
    {
     "name": "stdout",
     "output_type": "stream",
     "text": [
      "{'selectedCardIndices': [2]}\n"
     ]
    },
    {
     "name": "stderr",
     "output_type": "stream",
     "text": [
      "127.0.0.1 - - [27/Jul/2023 09:57:05] \"POST /socket.io/?EIO=4&transport=polling&t=OcOI5gL&sid=wejWW35CClfYWJzUAADj HTTP/1.1\" 200 -\n"
     ]
    },
    {
     "name": "stdout",
     "output_type": "stream",
     "text": [
      "{'selectedCardIndices': [2, 0]}\n"
     ]
    },
    {
     "name": "stderr",
     "output_type": "stream",
     "text": [
      "127.0.0.1 - - [27/Jul/2023 09:57:06] \"POST /socket.io/?EIO=4&transport=polling&t=OcOI5rG&sid=wejWW35CClfYWJzUAADj HTTP/1.1\" 200 -\n",
      "127.0.0.1 - - [27/Jul/2023 09:57:06] \"GET /socket.io/?EIO=4&transport=polling&t=OcOI57N&sid=wejWW35CClfYWJzUAADj HTTP/1.1\" 200 -\n"
     ]
    },
    {
     "name": "stdout",
     "output_type": "stream",
     "text": [
      "{'selectedCardIndices': [2, 0, 3]}\n",
      "WIN\n"
     ]
    },
    {
     "name": "stderr",
     "output_type": "stream",
     "text": [
      "127.0.0.1 - - [27/Jul/2023 09:57:08] \"POST /socket.io/?EIO=4&transport=polling&t=OcOI6Fr&sid=wejWW35CClfYWJzUAADj HTTP/1.1\" 200 -\n"
     ]
    },
    {
     "name": "stdout",
     "output_type": "stream",
     "text": [
      "{'selectedCardIndices': [1]}\n"
     ]
    },
    {
     "name": "stderr",
     "output_type": "stream",
     "text": [
      "127.0.0.1 - - [27/Jul/2023 09:57:08] \"POST /socket.io/?EIO=4&transport=polling&t=OcOI6J_&sid=wejWW35CClfYWJzUAADj HTTP/1.1\" 200 -\n",
      "127.0.0.1 - - [27/Jul/2023 09:57:08] \"GET /socket.io/?EIO=4&transport=polling&t=OcOI5rQ&sid=wejWW35CClfYWJzUAADj HTTP/1.1\" 200 -\n"
     ]
    },
    {
     "name": "stdout",
     "output_type": "stream",
     "text": [
      "{'selectedCardIndices': [1, 2]}\n",
      "WIN\n"
     ]
    },
    {
     "name": "stderr",
     "output_type": "stream",
     "text": [
      "127.0.0.1 - - [27/Jul/2023 09:57:09] \"POST /socket.io/?EIO=4&transport=polling&t=OcOI6ag&sid=wejWW35CClfYWJzUAADj HTTP/1.1\" 200 -\n"
     ]
    },
    {
     "name": "stdout",
     "output_type": "stream",
     "text": [
      "{'selectedCardIndices': [2]}\n"
     ]
    },
    {
     "name": "stderr",
     "output_type": "stream",
     "text": [
      "127.0.0.1 - - [27/Jul/2023 09:57:10] \"POST /socket.io/?EIO=4&transport=polling&t=OcOI6kq&sid=wejWW35CClfYWJzUAADj HTTP/1.1\" 200 -\n",
      "127.0.0.1 - - [27/Jul/2023 09:57:10] \"GET /socket.io/?EIO=4&transport=polling&t=OcOI6KA&sid=wejWW35CClfYWJzUAADj HTTP/1.1\" 200 -\n"
     ]
    },
    {
     "name": "stdout",
     "output_type": "stream",
     "text": [
      "{'selectedCardIndices': [2, 0]}\n",
      "WIN\n"
     ]
    },
    {
     "name": "stderr",
     "output_type": "stream",
     "text": [
      "127.0.0.1 - - [27/Jul/2023 09:57:10] \"POST /socket.io/?EIO=4&transport=polling&t=OcOI6ty&sid=wejWW35CClfYWJzUAADj HTTP/1.1\" 200 -\n"
     ]
    },
    {
     "name": "stdout",
     "output_type": "stream",
     "text": [
      "{'selectedCardIndices': [0]}\n"
     ]
    },
    {
     "name": "stderr",
     "output_type": "stream",
     "text": [
      "127.0.0.1 - - [27/Jul/2023 09:57:11] \"POST /socket.io/?EIO=4&transport=polling&t=OcOI70Z&sid=wejWW35CClfYWJzUAADj HTTP/1.1\" 200 -\n",
      "127.0.0.1 - - [27/Jul/2023 09:57:11] \"GET /socket.io/?EIO=4&transport=polling&t=OcOI6k-&sid=wejWW35CClfYWJzUAADj HTTP/1.1\" 200 -\n"
     ]
    },
    {
     "name": "stdout",
     "output_type": "stream",
     "text": [
      "{'selectedCardIndices': [0, 3]}\n",
      "WIN\n"
     ]
    },
    {
     "name": "stderr",
     "output_type": "stream",
     "text": [
      "127.0.0.1 - - [27/Jul/2023 09:57:12] \"POST /socket.io/?EIO=4&transport=polling&t=OcOI7Bk&sid=wejWW35CClfYWJzUAADj HTTP/1.1\" 200 -\n"
     ]
    },
    {
     "name": "stdout",
     "output_type": "stream",
     "text": [
      "{'selectedCardIndices': [1]}\n"
     ]
    },
    {
     "name": "stderr",
     "output_type": "stream",
     "text": [
      "127.0.0.1 - - [27/Jul/2023 09:57:12] \"POST /socket.io/?EIO=4&transport=polling&t=OcOI7J2&sid=wejWW35CClfYWJzUAADj HTTP/1.1\" 200 -\n",
      "127.0.0.1 - - [27/Jul/2023 09:57:12] \"GET /socket.io/?EIO=4&transport=polling&t=OcOI70l&sid=wejWW35CClfYWJzUAADj HTTP/1.1\" 200 -\n"
     ]
    },
    {
     "name": "stdout",
     "output_type": "stream",
     "text": [
      "{'selectedCardIndices': [1, 2]}\n",
      "WIN\n"
     ]
    },
    {
     "name": "stderr",
     "output_type": "stream",
     "text": [
      "127.0.0.1 - - [27/Jul/2023 09:57:13] \"POST /socket.io/?EIO=4&transport=polling&t=OcOI7dc&sid=wejWW35CClfYWJzUAADj HTTP/1.1\" 200 -\n"
     ]
    },
    {
     "name": "stdout",
     "output_type": "stream",
     "text": [
      "{'selectedCardIndices': [3]}\n"
     ]
    },
    {
     "name": "stderr",
     "output_type": "stream",
     "text": [
      "127.0.0.1 - - [27/Jul/2023 09:57:14] \"POST /socket.io/?EIO=4&transport=polling&t=OcOI7kv&sid=wejWW35CClfYWJzUAADj HTTP/1.1\" 200 -\n",
      "127.0.0.1 - - [27/Jul/2023 09:57:14] \"GET /socket.io/?EIO=4&transport=polling&t=OcOI7JB&sid=wejWW35CClfYWJzUAADj HTTP/1.1\" 200 -\n"
     ]
    },
    {
     "name": "stdout",
     "output_type": "stream",
     "text": [
      "{'selectedCardIndices': [3, 1]}\n",
      "WIN\n"
     ]
    },
    {
     "name": "stderr",
     "output_type": "stream",
     "text": [
      "127.0.0.1 - - [27/Jul/2023 09:57:15] \"POST /socket.io/?EIO=4&transport=polling&t=OcOI7w6&sid=wejWW35CClfYWJzUAADj HTTP/1.1\" 200 -\n"
     ]
    },
    {
     "name": "stdout",
     "output_type": "stream",
     "text": [
      "{'selectedCardIndices': [1]}\n"
     ]
    },
    {
     "name": "stderr",
     "output_type": "stream",
     "text": [
      "127.0.0.1 - - [27/Jul/2023 09:57:16] \"POST /socket.io/?EIO=4&transport=polling&t=OcOI8GW&sid=wejWW35CClfYWJzUAADj HTTP/1.1\" 200 -\n"
     ]
    },
    {
     "name": "stdout",
     "output_type": "stream",
     "text": [
      "{'selectedCardIndices': [0]}\n"
     ]
    },
    {
     "name": "stderr",
     "output_type": "stream",
     "text": [
      "127.0.0.1 - - [27/Jul/2023 09:57:17] \"POST /socket.io/?EIO=4&transport=polling&t=OcOI8NH&sid=wejWW35CClfYWJzUAADj HTTP/1.1\" 200 -\n"
     ]
    },
    {
     "name": "stdout",
     "output_type": "stream",
     "text": [
      "{'selectedCardIndices': [0, 3]}\n"
     ]
    },
    {
     "name": "stderr",
     "output_type": "stream",
     "text": [
      "127.0.0.1 - - [27/Jul/2023 09:57:18] \"POST /socket.io/?EIO=4&transport=polling&t=OcOI8eT&sid=wejWW35CClfYWJzUAADj HTTP/1.1\" 200 -\n"
     ]
    },
    {
     "name": "stdout",
     "output_type": "stream",
     "text": [
      "{'selectedCardIndices': [0, 3, 1]}\n"
     ]
    },
    {
     "name": "stderr",
     "output_type": "stream",
     "text": [
      "127.0.0.1 - - [27/Jul/2023 09:57:18] \"POST /socket.io/?EIO=4&transport=polling&t=OcOI8k-&sid=wejWW35CClfYWJzUAADj HTTP/1.1\" 200 -\n"
     ]
    },
    {
     "name": "stdout",
     "output_type": "stream",
     "text": [
      "{'selectedCardIndices': [0, 3, 1, 2]}\n"
     ]
    },
    {
     "name": "stderr",
     "output_type": "stream",
     "text": [
      "127.0.0.1 - - [27/Jul/2023 09:57:19] \"POST /socket.io/?EIO=4&transport=polling&t=OcOI8wz&sid=wejWW35CClfYWJzUAADj HTTP/1.1\" 200 -\n"
     ]
    },
    {
     "name": "stdout",
     "output_type": "stream",
     "text": [
      "{'selectedCardIndices': [0, 3, 2]}\n"
     ]
    },
    {
     "name": "stderr",
     "output_type": "stream",
     "text": [
      "127.0.0.1 - - [27/Jul/2023 09:57:19] \"POST /socket.io/?EIO=4&transport=polling&t=OcOI92G&sid=wejWW35CClfYWJzUAADj HTTP/1.1\" 200 -\n"
     ]
    },
    {
     "name": "stdout",
     "output_type": "stream",
     "text": [
      "{'selectedCardIndices': [3, 2]}\n"
     ]
    },
    {
     "name": "stderr",
     "output_type": "stream",
     "text": [
      "127.0.0.1 - - [27/Jul/2023 09:57:20] \"POST /socket.io/?EIO=4&transport=polling&t=OcOI9F0&sid=wejWW35CClfYWJzUAADj HTTP/1.1\" 200 -\n",
      "127.0.0.1 - - [27/Jul/2023 09:57:20] \"GET /socket.io/?EIO=4&transport=polling&t=OcOI7l2&sid=wejWW35CClfYWJzUAADj HTTP/1.1\" 200 -\n"
     ]
    },
    {
     "name": "stdout",
     "output_type": "stream",
     "text": [
      "{'selectedCardIndices': [3, 2, 1]}\n",
      "WIN\n"
     ]
    },
    {
     "name": "stderr",
     "output_type": "stream",
     "text": [
      "127.0.0.1 - - [27/Jul/2023 09:57:21] \"POST /socket.io/?EIO=4&transport=polling&t=OcOI9Rn&sid=wejWW35CClfYWJzUAADj HTTP/1.1\" 200 -\n"
     ]
    },
    {
     "name": "stdout",
     "output_type": "stream",
     "text": [
      "{'selectedCardIndices': [1]}\n"
     ]
    },
    {
     "name": "stderr",
     "output_type": "stream",
     "text": [
      "127.0.0.1 - - [27/Jul/2023 09:57:21] \"POST /socket.io/?EIO=4&transport=polling&t=OcOI9Xm&sid=wejWW35CClfYWJzUAADj HTTP/1.1\" 200 -\n"
     ]
    },
    {
     "name": "stdout",
     "output_type": "stream",
     "text": [
      "{'selectedCardIndices': [1, 2]}\n"
     ]
    },
    {
     "name": "stderr",
     "output_type": "stream",
     "text": [
      "127.0.0.1 - - [27/Jul/2023 09:57:22] \"POST /socket.io/?EIO=4&transport=polling&t=OcOI9hw&sid=wejWW35CClfYWJzUAADj HTTP/1.1\" 200 -\n",
      "127.0.0.1 - - [27/Jul/2023 09:57:22] \"GET /socket.io/?EIO=4&transport=polling&t=OcOI9FA&sid=wejWW35CClfYWJzUAADj HTTP/1.1\" 200 -\n"
     ]
    },
    {
     "name": "stdout",
     "output_type": "stream",
     "text": [
      "{'selectedCardIndices': [1, 2, 3]}\n",
      "WIN\n"
     ]
    },
    {
     "name": "stderr",
     "output_type": "stream",
     "text": [
      "127.0.0.1 - - [27/Jul/2023 09:57:22] \"GET /socket.io/?EIO=4&transport=polling&t=OcOI9i4&sid=wejWW35CClfYWJzUAADj HTTP/1.1\" 200 -\n",
      "127.0.0.1 - - [27/Jul/2023 09:57:22] \"GET /socket.io/?EIO=4&transport=polling&t=OcOI3fN&sid=vaZ22ry1L6lI2Z9fAADi HTTP/1.1\" 200 -\n",
      "127.0.0.1 - - [27/Jul/2023 09:57:22] \"POST /socket.io/?EIO=4&transport=polling&t=OcOI9m4&sid=wejWW35CClfYWJzUAADj HTTP/1.1\" 200 -\n",
      "127.0.0.1 - - [27/Jul/2023 09:57:22] \"POST /socket.io/?EIO=4&transport=polling&t=OcOI9mC&sid=vaZ22ry1L6lI2Z9fAADi HTTP/1.1\" 200 -\n",
      "127.0.0.1 - - [27/Jul/2023 09:57:23] \"POST /socket.io/?EIO=4&transport=polling&t=OcOI9tf&sid=wejWW35CClfYWJzUAADj HTTP/1.1\" 200 -\n"
     ]
    },
    {
     "name": "stdout",
     "output_type": "stream",
     "text": [
      "{'selectedCardIndices': [1]}\n"
     ]
    },
    {
     "name": "stderr",
     "output_type": "stream",
     "text": [
      "127.0.0.1 - - [27/Jul/2023 09:57:23] \"POST /socket.io/?EIO=4&transport=polling&t=OcOI9ys&sid=wejWW35CClfYWJzUAADj HTTP/1.1\" 200 -\n"
     ]
    },
    {
     "name": "stdout",
     "output_type": "stream",
     "text": [
      "{'selectedCardIndices': [1, 2]}\n"
     ]
    },
    {
     "name": "stderr",
     "output_type": "stream",
     "text": [
      "127.0.0.1 - - [27/Jul/2023 09:57:24] \"POST /socket.io/?EIO=4&transport=polling&t=OcOIABj&sid=wejWW35CClfYWJzUAADj HTTP/1.1\" 200 -\n"
     ]
    },
    {
     "name": "stdout",
     "output_type": "stream",
     "text": [
      "{'selectedCardIndices': [2]}\n"
     ]
    },
    {
     "name": "stderr",
     "output_type": "stream",
     "text": [
      "127.0.0.1 - - [27/Jul/2023 09:57:24] \"POST /socket.io/?EIO=4&transport=polling&t=OcOIAHi&sid=wejWW35CClfYWJzUAADj HTTP/1.1\" 200 -\n",
      "127.0.0.1 - - [27/Jul/2023 09:57:24] \"GET /socket.io/?EIO=4&transport=polling&t=OcOI9m6&sid=wejWW35CClfYWJzUAADj HTTP/1.1\" 200 -\n"
     ]
    },
    {
     "name": "stdout",
     "output_type": "stream",
     "text": [
      "{'selectedCardIndices': [2, 3]}\n",
      "WIN\n"
     ]
    },
    {
     "name": "stderr",
     "output_type": "stream",
     "text": [
      "127.0.0.1 - - [27/Jul/2023 09:57:25] \"POST /socket.io/?EIO=4&transport=polling&t=OcOIAZ9&sid=wejWW35CClfYWJzUAADj HTTP/1.1\" 200 -\n"
     ]
    },
    {
     "name": "stdout",
     "output_type": "stream",
     "text": [
      "{'selectedCardIndices': [2]}\n"
     ]
    },
    {
     "name": "stderr",
     "output_type": "stream",
     "text": [
      "127.0.0.1 - - [27/Jul/2023 09:57:26] \"POST /socket.io/?EIO=4&transport=polling&t=OcOIAda&sid=wejWW35CClfYWJzUAADj HTTP/1.1\" 200 -\n",
      "127.0.0.1 - - [27/Jul/2023 09:57:26] \"GET /socket.io/?EIO=4&transport=polling&t=OcOIAHs&sid=wejWW35CClfYWJzUAADj HTTP/1.1\" 200 -\n"
     ]
    },
    {
     "name": "stdout",
     "output_type": "stream",
     "text": [
      "{'selectedCardIndices': [2, 1]}\n",
      "WIN\n"
     ]
    },
    {
     "name": "stderr",
     "output_type": "stream",
     "text": [
      "127.0.0.1 - - [27/Jul/2023 09:57:27] \"POST /socket.io/?EIO=4&transport=polling&t=OcOIAwb&sid=wejWW35CClfYWJzUAADj HTTP/1.1\" 200 -\n"
     ]
    },
    {
     "name": "stdout",
     "output_type": "stream",
     "text": [
      "{'selectedCardIndices': [1]}\n"
     ]
    },
    {
     "name": "stderr",
     "output_type": "stream",
     "text": [
      "127.0.0.1 - - [27/Jul/2023 09:57:27] \"POST /socket.io/?EIO=4&transport=polling&t=OcOIB16&sid=wejWW35CClfYWJzUAADj HTTP/1.1\" 200 -\n",
      "127.0.0.1 - - [27/Jul/2023 09:57:27] \"GET /socket.io/?EIO=4&transport=polling&t=OcOIAdk&sid=wejWW35CClfYWJzUAADj HTTP/1.1\" 200 -\n"
     ]
    },
    {
     "name": "stdout",
     "output_type": "stream",
     "text": [
      "{'selectedCardIndices': [1, 0]}\n",
      "WIN\n"
     ]
    },
    {
     "name": "stderr",
     "output_type": "stream",
     "text": [
      "127.0.0.1 - - [27/Jul/2023 09:57:28] \"POST /socket.io/?EIO=4&transport=polling&t=OcOIBHW&sid=wejWW35CClfYWJzUAADj HTTP/1.1\" 200 -\n"
     ]
    },
    {
     "name": "stdout",
     "output_type": "stream",
     "text": [
      "{'selectedCardIndices': [0]}\n"
     ]
    },
    {
     "name": "stderr",
     "output_type": "stream",
     "text": [
      "127.0.0.1 - - [27/Jul/2023 09:57:29] \"POST /socket.io/?EIO=4&transport=polling&t=OcOIBMB&sid=wejWW35CClfYWJzUAADj HTTP/1.1\" 200 -\n"
     ]
    },
    {
     "name": "stdout",
     "output_type": "stream",
     "text": [
      "{'selectedCardIndices': [0, 1]}\n"
     ]
    },
    {
     "name": "stderr",
     "output_type": "stream",
     "text": [
      "127.0.0.1 - - [27/Jul/2023 09:57:29] \"POST /socket.io/?EIO=4&transport=polling&t=OcOIBVa&sid=wejWW35CClfYWJzUAADj HTTP/1.1\" 200 -\n"
     ]
    },
    {
     "name": "stdout",
     "output_type": "stream",
     "text": [
      "{'selectedCardIndices': [0, 1, 2]}\n"
     ]
    },
    {
     "name": "stderr",
     "output_type": "stream",
     "text": [
      "127.0.0.1 - - [27/Jul/2023 09:57:31] \"POST /socket.io/?EIO=4&transport=polling&t=OcOIBob&sid=wejWW35CClfYWJzUAADj HTTP/1.1\" 200 -\n"
     ]
    },
    {
     "name": "stdout",
     "output_type": "stream",
     "text": [
      "{'selectedCardIndices': [0, 1]}\n"
     ]
    },
    {
     "name": "stderr",
     "output_type": "stream",
     "text": [
      "127.0.0.1 - - [27/Jul/2023 09:57:31] \"POST /socket.io/?EIO=4&transport=polling&t=OcOIBuK&sid=wejWW35CClfYWJzUAADj HTTP/1.1\" 200 -\n",
      "127.0.0.1 - - [27/Jul/2023 09:57:31] \"GET /socket.io/?EIO=4&transport=polling&t=OcOIB1G&sid=wejWW35CClfYWJzUAADj HTTP/1.1\" 200 -\n"
     ]
    },
    {
     "name": "stdout",
     "output_type": "stream",
     "text": [
      "{'selectedCardIndices': [0, 1, 3]}\n",
      "WIN\n"
     ]
    },
    {
     "name": "stderr",
     "output_type": "stream",
     "text": [
      "127.0.0.1 - - [27/Jul/2023 09:57:32] \"POST /socket.io/?EIO=4&transport=polling&t=OcOIC5s&sid=wejWW35CClfYWJzUAADj HTTP/1.1\" 200 -\n"
     ]
    },
    {
     "name": "stdout",
     "output_type": "stream",
     "text": [
      "{'selectedCardIndices': [1]}\n"
     ]
    },
    {
     "name": "stderr",
     "output_type": "stream",
     "text": [
      "127.0.0.1 - - [27/Jul/2023 09:57:32] \"POST /socket.io/?EIO=4&transport=polling&t=OcOICCN&sid=wejWW35CClfYWJzUAADj HTTP/1.1\" 200 -\n"
     ]
    },
    {
     "name": "stdout",
     "output_type": "stream",
     "text": [
      "{'selectedCardIndices': [1, 3]}\n"
     ]
    },
    {
     "name": "stderr",
     "output_type": "stream",
     "text": [
      "127.0.0.1 - - [27/Jul/2023 09:57:33] \"POST /socket.io/?EIO=4&transport=polling&t=OcOICQz&sid=wejWW35CClfYWJzUAADj HTTP/1.1\" 200 -\n",
      "127.0.0.1 - - [27/Jul/2023 09:57:33] \"GET /socket.io/?EIO=4&transport=polling&t=OcOIBuU&sid=wejWW35CClfYWJzUAADj HTTP/1.1\" 200 -\n"
     ]
    },
    {
     "name": "stdout",
     "output_type": "stream",
     "text": [
      "{'selectedCardIndices': [1, 3, 2]}\n",
      "WIN\n"
     ]
    },
    {
     "name": "stderr",
     "output_type": "stream",
     "text": [
      "127.0.0.1 - - [27/Jul/2023 09:57:34] \"POST /socket.io/?EIO=4&transport=polling&t=OcOICh6&sid=wejWW35CClfYWJzUAADj HTTP/1.1\" 200 -\n"
     ]
    },
    {
     "name": "stdout",
     "output_type": "stream",
     "text": [
      "{'selectedCardIndices': [1]}\n"
     ]
    },
    {
     "name": "stderr",
     "output_type": "stream",
     "text": [
      "127.0.0.1 - - [27/Jul/2023 09:57:34] \"POST /socket.io/?EIO=4&transport=polling&t=OcOIClo&sid=wejWW35CClfYWJzUAADj HTTP/1.1\" 200 -\n",
      "127.0.0.1 - - [27/Jul/2023 09:57:34] \"GET /socket.io/?EIO=4&transport=polling&t=OcOICR7&sid=wejWW35CClfYWJzUAADj HTTP/1.1\" 200 -\n"
     ]
    },
    {
     "name": "stdout",
     "output_type": "stream",
     "text": [
      "{'selectedCardIndices': [1, 2]}\n",
      "WIN\n"
     ]
    },
    {
     "name": "stderr",
     "output_type": "stream",
     "text": [
      "127.0.0.1 - - [27/Jul/2023 09:57:35] \"POST /socket.io/?EIO=4&transport=polling&t=OcOICyI&sid=wejWW35CClfYWJzUAADj HTTP/1.1\" 200 -\n"
     ]
    },
    {
     "name": "stdout",
     "output_type": "stream",
     "text": [
      "{'selectedCardIndices': [1]}\n"
     ]
    },
    {
     "name": "stderr",
     "output_type": "stream",
     "text": [
      "127.0.0.1 - - [27/Jul/2023 09:57:36] \"POST /socket.io/?EIO=4&transport=polling&t=OcOID6i&sid=wejWW35CClfYWJzUAADj HTTP/1.1\" 200 -\n",
      "127.0.0.1 - - [27/Jul/2023 09:57:36] \"GET /socket.io/?EIO=4&transport=polling&t=OcOICly&sid=wejWW35CClfYWJzUAADj HTTP/1.1\" 200 -\n"
     ]
    },
    {
     "name": "stdout",
     "output_type": "stream",
     "text": [
      "{'selectedCardIndices': [1, 3]}\n",
      "WIN\n"
     ]
    },
    {
     "name": "stderr",
     "output_type": "stream",
     "text": [
      "127.0.0.1 - - [27/Jul/2023 09:57:37] \"POST /socket.io/?EIO=4&transport=polling&t=OcOIDH8&sid=wejWW35CClfYWJzUAADj HTTP/1.1\" 200 -\n"
     ]
    },
    {
     "name": "stdout",
     "output_type": "stream",
     "text": [
      "{'selectedCardIndices': [1]}\n"
     ]
    },
    {
     "name": "stderr",
     "output_type": "stream",
     "text": [
      "127.0.0.1 - - [27/Jul/2023 09:57:38] \"POST /socket.io/?EIO=4&transport=polling&t=OcOIDYb&sid=wejWW35CClfYWJzUAADj HTTP/1.1\" 200 -\n"
     ]
    },
    {
     "name": "stdout",
     "output_type": "stream",
     "text": [
      "{'selectedCardIndices': [1, 2]}\n"
     ]
    },
    {
     "name": "stderr",
     "output_type": "stream",
     "text": [
      "127.0.0.1 - - [27/Jul/2023 09:57:38] \"POST /socket.io/?EIO=4&transport=polling&t=OcOIDfM&sid=wejWW35CClfYWJzUAADj HTTP/1.1\" 200 -\n"
     ]
    },
    {
     "name": "stdout",
     "output_type": "stream",
     "text": [
      "{'selectedCardIndices': [1, 2, 0]}\n"
     ]
    },
    {
     "name": "stderr",
     "output_type": "stream",
     "text": [
      "127.0.0.1 - - [27/Jul/2023 09:57:39] \"POST /socket.io/?EIO=4&transport=polling&t=OcOIDrs&sid=wejWW35CClfYWJzUAADj HTTP/1.1\" 200 -\n"
     ]
    },
    {
     "name": "stdout",
     "output_type": "stream",
     "text": [
      "{'selectedCardIndices': [1, 2]}\n"
     ]
    },
    {
     "name": "stderr",
     "output_type": "stream",
     "text": [
      "127.0.0.1 - - [27/Jul/2023 09:57:39] \"POST /socket.io/?EIO=4&transport=polling&t=OcOIDw1&sid=wejWW35CClfYWJzUAADj HTTP/1.1\" 200 -\n"
     ]
    },
    {
     "name": "stdout",
     "output_type": "stream",
     "text": [
      "{'selectedCardIndices': [2]}\n"
     ]
    },
    {
     "name": "stderr",
     "output_type": "stream",
     "text": [
      "127.0.0.1 - - [27/Jul/2023 09:57:40] \"POST /socket.io/?EIO=4&transport=polling&t=OcOIE4B&sid=wejWW35CClfYWJzUAADj HTTP/1.1\" 200 -\n"
     ]
    },
    {
     "name": "stdout",
     "output_type": "stream",
     "text": [
      "{'selectedCardIndices': [3]}\n"
     ]
    },
    {
     "name": "stderr",
     "output_type": "stream",
     "text": [
      "127.0.0.1 - - [27/Jul/2023 09:57:41] \"POST /socket.io/?EIO=4&transport=polling&t=OcOIEE4&sid=wejWW35CClfYWJzUAADj HTTP/1.1\" 200 -\n"
     ]
    },
    {
     "name": "stdout",
     "output_type": "stream",
     "text": [
      "{'selectedCardIndices': [3, 0]}\n"
     ]
    },
    {
     "name": "stderr",
     "output_type": "stream",
     "text": [
      "127.0.0.1 - - [27/Jul/2023 09:57:41] \"POST /socket.io/?EIO=4&transport=polling&t=OcOIEL7&sid=wejWW35CClfYWJzUAADj HTTP/1.1\" 200 -\n",
      "127.0.0.1 - - [27/Jul/2023 09:57:41] \"GET /socket.io/?EIO=4&transport=polling&t=OcOID6s&sid=wejWW35CClfYWJzUAADj HTTP/1.1\" 200 -\n"
     ]
    },
    {
     "name": "stdout",
     "output_type": "stream",
     "text": [
      "{'selectedCardIndices': [3, 0, 2]}\n",
      "WIN\n"
     ]
    },
    {
     "name": "stderr",
     "output_type": "stream",
     "text": [
      "127.0.0.1 - - [27/Jul/2023 09:57:42] \"POST /socket.io/?EIO=4&transport=polling&t=OcOIEev&sid=wejWW35CClfYWJzUAADj HTTP/1.1\" 200 -\n"
     ]
    },
    {
     "name": "stdout",
     "output_type": "stream",
     "text": [
      "{'selectedCardIndices': [0]}\n"
     ]
    },
    {
     "name": "stderr",
     "output_type": "stream",
     "text": [
      "127.0.0.1 - - [27/Jul/2023 09:57:43] \"POST /socket.io/?EIO=4&transport=polling&t=OcOIEnF&sid=wejWW35CClfYWJzUAADj HTTP/1.1\" 200 -\n"
     ]
    },
    {
     "name": "stdout",
     "output_type": "stream",
     "text": [
      "{'selectedCardIndices': [0, 3]}\n"
     ]
    },
    {
     "name": "stderr",
     "output_type": "stream",
     "text": [
      "127.0.0.1 - - [27/Jul/2023 09:57:43] \"POST /socket.io/?EIO=4&transport=polling&t=OcOIEtm&sid=wejWW35CClfYWJzUAADj HTTP/1.1\" 200 -\n"
     ]
    },
    {
     "name": "stdout",
     "output_type": "stream",
     "text": [
      "{'selectedCardIndices': [0, 3, 2]}\n"
     ]
    },
    {
     "name": "stderr",
     "output_type": "stream",
     "text": [
      "127.0.0.1 - - [27/Jul/2023 09:57:44] \"POST /socket.io/?EIO=4&transport=polling&t=OcOIE-X&sid=wejWW35CClfYWJzUAADj HTTP/1.1\" 200 -\n"
     ]
    },
    {
     "name": "stdout",
     "output_type": "stream",
     "text": [
      "{'selectedCardIndices': [0, 3, 2, 1]}\n"
     ]
    },
    {
     "name": "stderr",
     "output_type": "stream",
     "text": [
      "127.0.0.1 - - [27/Jul/2023 09:57:44] \"POST /socket.io/?EIO=4&transport=polling&t=OcOIF6s&sid=wejWW35CClfYWJzUAADj HTTP/1.1\" 200 -\n"
     ]
    },
    {
     "name": "stdout",
     "output_type": "stream",
     "text": [
      "{'selectedCardIndices': [0, 3, 2]}\n"
     ]
    },
    {
     "name": "stderr",
     "output_type": "stream",
     "text": [
      "127.0.0.1 - - [27/Jul/2023 09:57:45] \"POST /socket.io/?EIO=4&transport=polling&t=OcOIFCb&sid=wejWW35CClfYWJzUAADj HTTP/1.1\" 200 -\n"
     ]
    },
    {
     "name": "stdout",
     "output_type": "stream",
     "text": [
      "{'selectedCardIndices': [0, 3]}\n"
     ]
    },
    {
     "name": "stderr",
     "output_type": "stream",
     "text": [
      "127.0.0.1 - - [27/Jul/2023 09:57:45] \"POST /socket.io/?EIO=4&transport=polling&t=OcOIFJd&sid=wejWW35CClfYWJzUAADj HTTP/1.1\" 200 -\n",
      "127.0.0.1 - - [27/Jul/2023 09:57:45] \"GET /socket.io/?EIO=4&transport=polling&t=OcOIELH&sid=wejWW35CClfYWJzUAADj HTTP/1.1\" 200 -\n"
     ]
    },
    {
     "name": "stdout",
     "output_type": "stream",
     "text": [
      "{'selectedCardIndices': [0, 3, 1]}\n",
      "WIN\n"
     ]
    },
    {
     "name": "stderr",
     "output_type": "stream",
     "text": [
      "127.0.0.1 - - [27/Jul/2023 09:57:46] \"POST /socket.io/?EIO=4&transport=polling&t=OcOIFaI&sid=wejWW35CClfYWJzUAADj HTTP/1.1\" 200 -\n"
     ]
    },
    {
     "name": "stdout",
     "output_type": "stream",
     "text": [
      "{'selectedCardIndices': [1]}\n"
     ]
    },
    {
     "name": "stderr",
     "output_type": "stream",
     "text": [
      "127.0.0.1 - - [27/Jul/2023 09:57:47] \"POST /socket.io/?EIO=4&transport=polling&t=OcOIFsH&sid=wejWW35CClfYWJzUAADj HTTP/1.1\" 200 -\n",
      "127.0.0.1 - - [27/Jul/2023 09:57:47] \"GET /socket.io/?EIO=4&transport=polling&t=OcOIFJp&sid=wejWW35CClfYWJzUAADj HTTP/1.1\" 200 -\n",
      "127.0.0.1 - - [27/Jul/2023 09:57:47] \"GET /socket.io/?EIO=4&transport=polling&t=OcOI9mD&sid=vaZ22ry1L6lI2Z9fAADi HTTP/1.1\" 200 -\n",
      "127.0.0.1 - - [27/Jul/2023 09:57:47] \"POST /socket.io/?EIO=4&transport=polling&t=OcOIFs_&sid=wejWW35CClfYWJzUAADj HTTP/1.1\" 200 -\n",
      "127.0.0.1 - - [27/Jul/2023 09:57:47] \"POST /socket.io/?EIO=4&transport=polling&t=OcOIFt6&sid=vaZ22ry1L6lI2Z9fAADi HTTP/1.1\" 200 -\n"
     ]
    },
    {
     "name": "stdout",
     "output_type": "stream",
     "text": [
      "{'selectedCardIndices': [1, 2]}\n"
     ]
    },
    {
     "name": "stderr",
     "output_type": "stream",
     "text": [
      "127.0.0.1 - - [27/Jul/2023 09:57:48] \"POST /socket.io/?EIO=4&transport=polling&t=OcOIFyn&sid=wejWW35CClfYWJzUAADj HTTP/1.1\" 200 -\n",
      "127.0.0.1 - - [27/Jul/2023 09:57:48] \"GET /socket.io/?EIO=4&transport=polling&t=OcOIFt0&sid=wejWW35CClfYWJzUAADj HTTP/1.1\" 200 -\n"
     ]
    },
    {
     "name": "stdout",
     "output_type": "stream",
     "text": [
      "{'selectedCardIndices': [1, 2, 0]}\n",
      "WIN\n"
     ]
    },
    {
     "name": "stderr",
     "output_type": "stream",
     "text": [
      "127.0.0.1 - - [27/Jul/2023 09:58:12] \"GET /socket.io/?EIO=4&transport=polling&t=OcOIFyy&sid=wejWW35CClfYWJzUAADj HTTP/1.1\" 200 -\n",
      "127.0.0.1 - - [27/Jul/2023 09:58:12] \"GET /socket.io/?EIO=4&transport=polling&t=OcOIFt6.0&sid=vaZ22ry1L6lI2Z9fAADi HTTP/1.1\" 200 -\n",
      "127.0.0.1 - - [27/Jul/2023 09:58:12] \"POST /socket.io/?EIO=4&transport=polling&t=OcOILzu&sid=wejWW35CClfYWJzUAADj HTTP/1.1\" 200 -\n",
      "127.0.0.1 - - [27/Jul/2023 09:58:12] \"POST /socket.io/?EIO=4&transport=polling&t=OcOILzv&sid=vaZ22ry1L6lI2Z9fAADi HTTP/1.1\" 200 -\n",
      "127.0.0.1 - - [27/Jul/2023 09:58:37] \"GET /socket.io/?EIO=4&transport=polling&t=OcOILzv&sid=wejWW35CClfYWJzUAADj HTTP/1.1\" 200 -\n",
      "127.0.0.1 - - [27/Jul/2023 09:58:37] \"GET /socket.io/?EIO=4&transport=polling&t=OcOILzw&sid=vaZ22ry1L6lI2Z9fAADi HTTP/1.1\" 200 -\n",
      "127.0.0.1 - - [27/Jul/2023 09:58:37] \"POST /socket.io/?EIO=4&transport=polling&t=OcOIS4n&sid=wejWW35CClfYWJzUAADj HTTP/1.1\" 200 -\n",
      "127.0.0.1 - - [27/Jul/2023 09:58:37] \"POST /socket.io/?EIO=4&transport=polling&t=OcOIS4o&sid=vaZ22ry1L6lI2Z9fAADi HTTP/1.1\" 200 -\n",
      "127.0.0.1 - - [27/Jul/2023 09:59:02] \"GET /socket.io/?EIO=4&transport=polling&t=OcOIS4o&sid=wejWW35CClfYWJzUAADj HTTP/1.1\" 200 -\n",
      "127.0.0.1 - - [27/Jul/2023 09:59:02] \"GET /socket.io/?EIO=4&transport=polling&t=OcOIS4p&sid=vaZ22ry1L6lI2Z9fAADi HTTP/1.1\" 200 -\n",
      "127.0.0.1 - - [27/Jul/2023 09:59:02] \"POST /socket.io/?EIO=4&transport=polling&t=OcOIYBd&sid=wejWW35CClfYWJzUAADj HTTP/1.1\" 200 -\n",
      "127.0.0.1 - - [27/Jul/2023 09:59:02] \"POST /socket.io/?EIO=4&transport=polling&t=OcOIYBg&sid=vaZ22ry1L6lI2Z9fAADi HTTP/1.1\" 200 -\n",
      "127.0.0.1 - - [27/Jul/2023 09:59:27] \"GET /socket.io/?EIO=4&transport=polling&t=OcOIYBe&sid=wejWW35CClfYWJzUAADj HTTP/1.1\" 200 -\n",
      "127.0.0.1 - - [27/Jul/2023 09:59:27] \"GET /socket.io/?EIO=4&transport=polling&t=OcOIYBi&sid=vaZ22ry1L6lI2Z9fAADi HTTP/1.1\" 200 -\n",
      "127.0.0.1 - - [27/Jul/2023 09:59:27] \"POST /socket.io/?EIO=4&transport=polling&t=OcOIeIV&sid=vaZ22ry1L6lI2Z9fAADi HTTP/1.1\" 200 -\n",
      "127.0.0.1 - - [27/Jul/2023 09:59:27] \"POST /socket.io/?EIO=4&transport=polling&t=OcOIeIT&sid=wejWW35CClfYWJzUAADj HTTP/1.1\" 200 -\n",
      "127.0.0.1 - - [27/Jul/2023 09:59:52] \"GET /socket.io/?EIO=4&transport=polling&t=OcOIeIU&sid=wejWW35CClfYWJzUAADj HTTP/1.1\" 200 -\n",
      "127.0.0.1 - - [27/Jul/2023 09:59:52] \"GET /socket.io/?EIO=4&transport=polling&t=OcOIeIW&sid=vaZ22ry1L6lI2Z9fAADi HTTP/1.1\" 200 -\n",
      "127.0.0.1 - - [27/Jul/2023 09:59:52] \"POST /socket.io/?EIO=4&transport=polling&t=OcOIkPR&sid=vaZ22ry1L6lI2Z9fAADi HTTP/1.1\" 200 -\n",
      "127.0.0.1 - - [27/Jul/2023 09:59:52] \"POST /socket.io/?EIO=4&transport=polling&t=OcOIkPR&sid=wejWW35CClfYWJzUAADj HTTP/1.1\" 200 -\n",
      "127.0.0.1 - - [27/Jul/2023 10:00:17] \"GET /socket.io/?EIO=4&transport=polling&t=OcOIkPS&sid=vaZ22ry1L6lI2Z9fAADi HTTP/1.1\" 200 -\n",
      "127.0.0.1 - - [27/Jul/2023 10:00:17] \"GET /socket.io/?EIO=4&transport=polling&t=OcOIkPS&sid=wejWW35CClfYWJzUAADj HTTP/1.1\" 200 -\n",
      "127.0.0.1 - - [27/Jul/2023 10:00:17] \"POST /socket.io/?EIO=4&transport=polling&t=OcOIqWJ&sid=vaZ22ry1L6lI2Z9fAADi HTTP/1.1\" 200 -\n",
      "127.0.0.1 - - [27/Jul/2023 10:00:17] \"POST /socket.io/?EIO=4&transport=polling&t=OcOIqWN&sid=wejWW35CClfYWJzUAADj HTTP/1.1\" 200 -\n",
      "127.0.0.1 - - [27/Jul/2023 10:00:42] \"GET /socket.io/?EIO=4&transport=polling&t=OcOIqWK&sid=vaZ22ry1L6lI2Z9fAADi HTTP/1.1\" 200 -\n",
      "127.0.0.1 - - [27/Jul/2023 10:00:42] \"GET /socket.io/?EIO=4&transport=polling&t=OcOIqWO&sid=wejWW35CClfYWJzUAADj HTTP/1.1\" 200 -\n",
      "127.0.0.1 - - [27/Jul/2023 10:00:42] \"POST /socket.io/?EIO=4&transport=polling&t=OcOIwdC&sid=vaZ22ry1L6lI2Z9fAADi HTTP/1.1\" 200 -\n",
      "127.0.0.1 - - [27/Jul/2023 10:00:42] \"POST /socket.io/?EIO=4&transport=polling&t=OcOIwdC&sid=wejWW35CClfYWJzUAADj HTTP/1.1\" 200 -\n",
      "127.0.0.1 - - [27/Jul/2023 10:01:07] \"GET /socket.io/?EIO=4&transport=polling&t=OcOIwdD&sid=wejWW35CClfYWJzUAADj HTTP/1.1\" 200 -\n",
      "127.0.0.1 - - [27/Jul/2023 10:01:07] \"GET /socket.io/?EIO=4&transport=polling&t=OcOIwdD&sid=vaZ22ry1L6lI2Z9fAADi HTTP/1.1\" 200 -\n",
      "127.0.0.1 - - [27/Jul/2023 10:01:07] \"POST /socket.io/?EIO=4&transport=polling&t=OcOJ0k6&sid=wejWW35CClfYWJzUAADj HTTP/1.1\" 200 -\n",
      "127.0.0.1 - - [27/Jul/2023 10:01:07] \"POST /socket.io/?EIO=4&transport=polling&t=OcOJ0k6&sid=vaZ22ry1L6lI2Z9fAADi HTTP/1.1\" 200 -\n",
      "127.0.0.1 - - [27/Jul/2023 10:01:32] \"GET /socket.io/?EIO=4&transport=polling&t=OcOJ0k7&sid=wejWW35CClfYWJzUAADj HTTP/1.1\" 200 -\n",
      "127.0.0.1 - - [27/Jul/2023 10:01:32] \"GET /socket.io/?EIO=4&transport=polling&t=OcOJ0k8&sid=vaZ22ry1L6lI2Z9fAADi HTTP/1.1\" 200 -\n",
      "127.0.0.1 - - [27/Jul/2023 10:01:32] \"POST /socket.io/?EIO=4&transport=polling&t=OcOJ6qx&sid=wejWW35CClfYWJzUAADj HTTP/1.1\" 200 -\n",
      "127.0.0.1 - - [27/Jul/2023 10:01:32] \"POST /socket.io/?EIO=4&transport=polling&t=OcOJ6q_&sid=vaZ22ry1L6lI2Z9fAADi HTTP/1.1\" 200 -\n",
      "127.0.0.1 - - [27/Jul/2023 10:01:57] \"GET /socket.io/?EIO=4&transport=polling&t=OcOJ6qy&sid=wejWW35CClfYWJzUAADj HTTP/1.1\" 200 -\n",
      "127.0.0.1 - - [27/Jul/2023 10:01:57] \"GET /socket.io/?EIO=4&transport=polling&t=OcOJ6r0&sid=vaZ22ry1L6lI2Z9fAADi HTTP/1.1\" 200 -\n",
      "127.0.0.1 - - [27/Jul/2023 10:01:57] \"POST /socket.io/?EIO=4&transport=polling&t=OcOJCxs&sid=wejWW35CClfYWJzUAADj HTTP/1.1\" 200 -\n",
      "127.0.0.1 - - [27/Jul/2023 10:01:57] \"POST /socket.io/?EIO=4&transport=polling&t=OcOJCxu&sid=vaZ22ry1L6lI2Z9fAADi HTTP/1.1\" 200 -\n",
      "127.0.0.1 - - [27/Jul/2023 10:02:22] \"GET /socket.io/?EIO=4&transport=polling&t=OcOJCxt&sid=wejWW35CClfYWJzUAADj HTTP/1.1\" 200 -\n",
      "127.0.0.1 - - [27/Jul/2023 10:02:22] \"GET /socket.io/?EIO=4&transport=polling&t=OcOJCxv&sid=vaZ22ry1L6lI2Z9fAADi HTTP/1.1\" 200 -\n",
      "127.0.0.1 - - [27/Jul/2023 10:02:22] \"POST /socket.io/?EIO=4&transport=polling&t=OcOJJ2f&sid=wejWW35CClfYWJzUAADj HTTP/1.1\" 200 -\n",
      "127.0.0.1 - - [27/Jul/2023 10:02:22] \"POST /socket.io/?EIO=4&transport=polling&t=OcOJJ2l&sid=vaZ22ry1L6lI2Z9fAADi HTTP/1.1\" 200 -\n",
      "127.0.0.1 - - [27/Jul/2023 10:02:47] \"GET /socket.io/?EIO=4&transport=polling&t=OcOJJ2g&sid=wejWW35CClfYWJzUAADj HTTP/1.1\" 200 -\n",
      "127.0.0.1 - - [27/Jul/2023 10:02:47] \"GET /socket.io/?EIO=4&transport=polling&t=OcOJJ2m&sid=vaZ22ry1L6lI2Z9fAADi HTTP/1.1\" 200 -\n",
      "127.0.0.1 - - [27/Jul/2023 10:02:47] \"POST /socket.io/?EIO=4&transport=polling&t=OcOJP9U&sid=wejWW35CClfYWJzUAADj HTTP/1.1\" 200 -\n",
      "127.0.0.1 - - [27/Jul/2023 10:02:47] \"POST /socket.io/?EIO=4&transport=polling&t=OcOJP9Z&sid=vaZ22ry1L6lI2Z9fAADi HTTP/1.1\" 200 -\n",
      "127.0.0.1 - - [27/Jul/2023 10:03:12] \"GET /socket.io/?EIO=4&transport=polling&t=OcOJP9V&sid=wejWW35CClfYWJzUAADj HTTP/1.1\" 200 -\n",
      "127.0.0.1 - - [27/Jul/2023 10:03:12] \"GET /socket.io/?EIO=4&transport=polling&t=OcOJP9a&sid=vaZ22ry1L6lI2Z9fAADi HTTP/1.1\" 200 -\n",
      "127.0.0.1 - - [27/Jul/2023 10:03:12] \"POST /socket.io/?EIO=4&transport=polling&t=OcOJVGJ&sid=wejWW35CClfYWJzUAADj HTTP/1.1\" 200 -\n",
      "127.0.0.1 - - [27/Jul/2023 10:03:12] \"POST /socket.io/?EIO=4&transport=polling&t=OcOJVGQ&sid=vaZ22ry1L6lI2Z9fAADi HTTP/1.1\" 200 -\n",
      "127.0.0.1 - - [27/Jul/2023 10:03:37] \"GET /socket.io/?EIO=4&transport=polling&t=OcOJVGK&sid=wejWW35CClfYWJzUAADj HTTP/1.1\" 200 -\n",
      "127.0.0.1 - - [27/Jul/2023 10:03:37] \"GET /socket.io/?EIO=4&transport=polling&t=OcOJVGR&sid=vaZ22ry1L6lI2Z9fAADi HTTP/1.1\" 200 -\n",
      "127.0.0.1 - - [27/Jul/2023 10:03:37] \"POST /socket.io/?EIO=4&transport=polling&t=OcOJbN4&sid=wejWW35CClfYWJzUAADj HTTP/1.1\" 200 -\n",
      "127.0.0.1 - - [27/Jul/2023 10:03:37] \"POST /socket.io/?EIO=4&transport=polling&t=OcOJbND&sid=vaZ22ry1L6lI2Z9fAADi HTTP/1.1\" 200 -\n",
      "127.0.0.1 - - [27/Jul/2023 10:04:02] \"GET /socket.io/?EIO=4&transport=polling&t=OcOJbN5&sid=wejWW35CClfYWJzUAADj HTTP/1.1\" 200 -\n",
      "127.0.0.1 - - [27/Jul/2023 10:04:02] \"GET /socket.io/?EIO=4&transport=polling&t=OcOJbNE&sid=vaZ22ry1L6lI2Z9fAADi HTTP/1.1\" 200 -\n",
      "127.0.0.1 - - [27/Jul/2023 10:04:02] \"POST /socket.io/?EIO=4&transport=polling&t=OcOJhTv&sid=wejWW35CClfYWJzUAADj HTTP/1.1\" 200 -\n",
      "127.0.0.1 - - [27/Jul/2023 10:04:02] \"POST /socket.io/?EIO=4&transport=polling&t=OcOJhT_&sid=vaZ22ry1L6lI2Z9fAADi HTTP/1.1\" 200 -\n",
      "127.0.0.1 - - [27/Jul/2023 10:04:27] \"GET /socket.io/?EIO=4&transport=polling&t=OcOJhTw&sid=wejWW35CClfYWJzUAADj HTTP/1.1\" 200 -\n",
      "127.0.0.1 - - [27/Jul/2023 10:04:27] \"GET /socket.io/?EIO=4&transport=polling&t=OcOJhU0&sid=vaZ22ry1L6lI2Z9fAADi HTTP/1.1\" 200 -\n",
      "127.0.0.1 - - [27/Jul/2023 10:04:27] \"POST /socket.io/?EIO=4&transport=polling&t=OcOJnan&sid=wejWW35CClfYWJzUAADj HTTP/1.1\" 200 -\n",
      "127.0.0.1 - - [27/Jul/2023 10:04:27] \"POST /socket.io/?EIO=4&transport=polling&t=OcOJnan&sid=vaZ22ry1L6lI2Z9fAADi HTTP/1.1\" 200 -\n",
      "127.0.0.1 - - [27/Jul/2023 10:04:52] \"GET /socket.io/?EIO=4&transport=polling&t=OcOJnao&sid=wejWW35CClfYWJzUAADj HTTP/1.1\" 200 -\n",
      "127.0.0.1 - - [27/Jul/2023 10:04:52] \"GET /socket.io/?EIO=4&transport=polling&t=OcOJnao&sid=vaZ22ry1L6lI2Z9fAADi HTTP/1.1\" 200 -\n",
      "127.0.0.1 - - [27/Jul/2023 10:04:52] \"POST /socket.io/?EIO=4&transport=polling&t=OcOJthf&sid=wejWW35CClfYWJzUAADj HTTP/1.1\" 200 -\n",
      "127.0.0.1 - - [27/Jul/2023 10:04:52] \"POST /socket.io/?EIO=4&transport=polling&t=OcOJthg&sid=vaZ22ry1L6lI2Z9fAADi HTTP/1.1\" 200 -\n",
      "127.0.0.1 - - [27/Jul/2023 10:05:17] \"GET /socket.io/?EIO=4&transport=polling&t=OcOJthg&sid=wejWW35CClfYWJzUAADj HTTP/1.1\" 200 -\n",
      "127.0.0.1 - - [27/Jul/2023 10:05:17] \"GET /socket.io/?EIO=4&transport=polling&t=OcOJthg.0&sid=vaZ22ry1L6lI2Z9fAADi HTTP/1.1\" 200 -\n",
      "127.0.0.1 - - [27/Jul/2023 10:05:17] \"POST /socket.io/?EIO=4&transport=polling&t=OcOJzoV&sid=wejWW35CClfYWJzUAADj HTTP/1.1\" 200 -\n",
      "127.0.0.1 - - [27/Jul/2023 10:05:17] \"POST /socket.io/?EIO=4&transport=polling&t=OcOJzoX&sid=vaZ22ry1L6lI2Z9fAADi HTTP/1.1\" 200 -\n",
      "127.0.0.1 - - [27/Jul/2023 10:05:42] \"GET /socket.io/?EIO=4&transport=polling&t=OcOJzoW&sid=wejWW35CClfYWJzUAADj HTTP/1.1\" 200 -\n",
      "127.0.0.1 - - [27/Jul/2023 10:05:42] \"GET /socket.io/?EIO=4&transport=polling&t=OcOJzoZ&sid=vaZ22ry1L6lI2Z9fAADi HTTP/1.1\" 200 -\n",
      "127.0.0.1 - - [27/Jul/2023 10:05:43] \"POST /socket.io/?EIO=4&transport=polling&t=OcOK3vJ&sid=wejWW35CClfYWJzUAADj HTTP/1.1\" 200 -\n",
      "127.0.0.1 - - [27/Jul/2023 10:05:43] \"POST /socket.io/?EIO=4&transport=polling&t=OcOK3vP&sid=vaZ22ry1L6lI2Z9fAADi HTTP/1.1\" 200 -\n",
      "127.0.0.1 - - [27/Jul/2023 10:06:08] \"GET /socket.io/?EIO=4&transport=polling&t=OcOK3vK&sid=wejWW35CClfYWJzUAADj HTTP/1.1\" 200 -\n",
      "127.0.0.1 - - [27/Jul/2023 10:06:08] \"GET /socket.io/?EIO=4&transport=polling&t=OcOK3vQ&sid=vaZ22ry1L6lI2Z9fAADi HTTP/1.1\" 200 -\n",
      "127.0.0.1 - - [27/Jul/2023 10:06:08] \"POST /socket.io/?EIO=4&transport=polling&t=OcOKA0D&sid=wejWW35CClfYWJzUAADj HTTP/1.1\" 200 -\n",
      "127.0.0.1 - - [27/Jul/2023 10:06:08] \"POST /socket.io/?EIO=4&transport=polling&t=OcOKA0D&sid=vaZ22ry1L6lI2Z9fAADi HTTP/1.1\" 200 -\n",
      "127.0.0.1 - - [27/Jul/2023 10:06:33] \"GET /socket.io/?EIO=4&transport=polling&t=OcOKA0E&sid=wejWW35CClfYWJzUAADj HTTP/1.1\" 200 -\n",
      "127.0.0.1 - - [27/Jul/2023 10:06:33] \"GET /socket.io/?EIO=4&transport=polling&t=OcOKA0E&sid=vaZ22ry1L6lI2Z9fAADi HTTP/1.1\" 200 -\n",
      "127.0.0.1 - - [27/Jul/2023 10:06:33] \"POST /socket.io/?EIO=4&transport=polling&t=OcOKG76&sid=wejWW35CClfYWJzUAADj HTTP/1.1\" 200 -\n",
      "127.0.0.1 - - [27/Jul/2023 10:06:33] \"POST /socket.io/?EIO=4&transport=polling&t=OcOKG79&sid=vaZ22ry1L6lI2Z9fAADi HTTP/1.1\" 200 -\n",
      "127.0.0.1 - - [27/Jul/2023 10:06:58] \"GET /socket.io/?EIO=4&transport=polling&t=OcOKG77&sid=wejWW35CClfYWJzUAADj HTTP/1.1\" 200 -\n",
      "127.0.0.1 - - [27/Jul/2023 10:06:58] \"GET /socket.io/?EIO=4&transport=polling&t=OcOKG7A&sid=vaZ22ry1L6lI2Z9fAADi HTTP/1.1\" 200 -\n",
      "127.0.0.1 - - [27/Jul/2023 10:06:58] \"POST /socket.io/?EIO=4&transport=polling&t=OcOKMDv&sid=wejWW35CClfYWJzUAADj HTTP/1.1\" 200 -\n",
      "127.0.0.1 - - [27/Jul/2023 10:06:58] \"POST /socket.io/?EIO=4&transport=polling&t=OcOKMD-&sid=vaZ22ry1L6lI2Z9fAADi HTTP/1.1\" 200 -\n",
      "127.0.0.1 - - [27/Jul/2023 10:07:23] \"GET /socket.io/?EIO=4&transport=polling&t=OcOKMDw&sid=wejWW35CClfYWJzUAADj HTTP/1.1\" 200 -\n",
      "127.0.0.1 - - [27/Jul/2023 10:07:23] \"GET /socket.io/?EIO=4&transport=polling&t=OcOKMD_&sid=vaZ22ry1L6lI2Z9fAADi HTTP/1.1\" 200 -\n",
      "127.0.0.1 - - [27/Jul/2023 10:07:23] \"POST /socket.io/?EIO=4&transport=polling&t=OcOKSKl&sid=wejWW35CClfYWJzUAADj HTTP/1.1\" 200 -\n",
      "127.0.0.1 - - [27/Jul/2023 10:07:23] \"POST /socket.io/?EIO=4&transport=polling&t=OcOKSKq&sid=vaZ22ry1L6lI2Z9fAADi HTTP/1.1\" 200 -\n",
      "127.0.0.1 - - [27/Jul/2023 10:07:48] \"GET /socket.io/?EIO=4&transport=polling&t=OcOKSKn&sid=wejWW35CClfYWJzUAADj HTTP/1.1\" 200 -\n",
      "127.0.0.1 - - [27/Jul/2023 10:07:48] \"POST /socket.io/?EIO=4&transport=polling&t=OcOKYRb&sid=wejWW35CClfYWJzUAADj HTTP/1.1\" 200 -\n",
      "127.0.0.1 - - [27/Jul/2023 10:07:48] \"GET /socket.io/?EIO=4&transport=polling&t=OcOKSKr&sid=vaZ22ry1L6lI2Z9fAADi HTTP/1.1\" 200 -\n",
      "127.0.0.1 - - [27/Jul/2023 10:07:48] \"POST /socket.io/?EIO=4&transport=polling&t=OcOKYRn&sid=vaZ22ry1L6lI2Z9fAADi HTTP/1.1\" 200 -\n",
      "127.0.0.1 - - [27/Jul/2023 10:08:13] \"GET /socket.io/?EIO=4&transport=polling&t=OcOKYRc&sid=wejWW35CClfYWJzUAADj HTTP/1.1\" 200 -\n",
      "127.0.0.1 - - [27/Jul/2023 10:08:13] \"GET /socket.io/?EIO=4&transport=polling&t=OcOKYRn.0&sid=vaZ22ry1L6lI2Z9fAADi HTTP/1.1\" 200 -\n",
      "127.0.0.1 - - [27/Jul/2023 10:08:13] \"POST /socket.io/?EIO=4&transport=polling&t=OcOKeYS&sid=wejWW35CClfYWJzUAADj HTTP/1.1\" 200 -\n",
      "127.0.0.1 - - [27/Jul/2023 10:08:13] \"POST /socket.io/?EIO=4&transport=polling&t=OcOKeYX&sid=vaZ22ry1L6lI2Z9fAADi HTTP/1.1\" 200 -\n",
      "127.0.0.1 - - [27/Jul/2023 10:08:38] \"GET /socket.io/?EIO=4&transport=polling&t=OcOKeYT&sid=wejWW35CClfYWJzUAADj HTTP/1.1\" 200 -\n",
      "127.0.0.1 - - [27/Jul/2023 10:08:38] \"GET /socket.io/?EIO=4&transport=polling&t=OcOKeYY&sid=vaZ22ry1L6lI2Z9fAADi HTTP/1.1\" 200 -\n",
      "127.0.0.1 - - [27/Jul/2023 10:08:38] \"POST /socket.io/?EIO=4&transport=polling&t=OcOKkfL&sid=wejWW35CClfYWJzUAADj HTTP/1.1\" 200 -\n",
      "127.0.0.1 - - [27/Jul/2023 10:08:38] \"POST /socket.io/?EIO=4&transport=polling&t=OcOKkfN&sid=vaZ22ry1L6lI2Z9fAADi HTTP/1.1\" 200 -\n",
      "127.0.0.1 - - [27/Jul/2023 10:09:03] \"GET /socket.io/?EIO=4&transport=polling&t=OcOKkfM&sid=wejWW35CClfYWJzUAADj HTTP/1.1\" 200 -\n",
      "127.0.0.1 - - [27/Jul/2023 10:09:03] \"GET /socket.io/?EIO=4&transport=polling&t=OcOKkfO&sid=vaZ22ry1L6lI2Z9fAADi HTTP/1.1\" 200 -\n",
      "127.0.0.1 - - [27/Jul/2023 10:09:03] \"POST /socket.io/?EIO=4&transport=polling&t=OcOKqm4&sid=wejWW35CClfYWJzUAADj HTTP/1.1\" 200 -\n",
      "127.0.0.1 - - [27/Jul/2023 10:09:03] \"POST /socket.io/?EIO=4&transport=polling&t=OcOKqm9&sid=vaZ22ry1L6lI2Z9fAADi HTTP/1.1\" 200 -\n",
      "127.0.0.1 - - [27/Jul/2023 10:09:28] \"GET /socket.io/?EIO=4&transport=polling&t=OcOKqm5&sid=wejWW35CClfYWJzUAADj HTTP/1.1\" 200 -\n",
      "127.0.0.1 - - [27/Jul/2023 10:09:28] \"GET /socket.io/?EIO=4&transport=polling&t=OcOKqmA&sid=vaZ22ry1L6lI2Z9fAADi HTTP/1.1\" 200 -\n",
      "127.0.0.1 - - [27/Jul/2023 10:09:28] \"POST /socket.io/?EIO=4&transport=polling&t=OcOKwsm&sid=wejWW35CClfYWJzUAADj HTTP/1.1\" 200 -\n",
      "127.0.0.1 - - [27/Jul/2023 10:09:28] \"POST /socket.io/?EIO=4&transport=polling&t=OcOKwsq&sid=vaZ22ry1L6lI2Z9fAADi HTTP/1.1\" 200 -\n",
      "127.0.0.1 - - [27/Jul/2023 10:09:53] \"GET /socket.io/?EIO=4&transport=polling&t=OcOKwsn&sid=wejWW35CClfYWJzUAADj HTTP/1.1\" 200 -\n",
      "127.0.0.1 - - [27/Jul/2023 10:09:53] \"GET /socket.io/?EIO=4&transport=polling&t=OcOKwsr&sid=vaZ22ry1L6lI2Z9fAADi HTTP/1.1\" 200 -\n",
      "127.0.0.1 - - [27/Jul/2023 10:09:53] \"POST /socket.io/?EIO=4&transport=polling&t=OcOL0zc&sid=wejWW35CClfYWJzUAADj HTTP/1.1\" 200 -\n",
      "127.0.0.1 - - [27/Jul/2023 10:09:53] \"POST /socket.io/?EIO=4&transport=polling&t=OcOL0zh&sid=vaZ22ry1L6lI2Z9fAADi HTTP/1.1\" 200 -\n",
      "127.0.0.1 - - [27/Jul/2023 10:10:18] \"GET /socket.io/?EIO=4&transport=polling&t=OcOL0zd&sid=wejWW35CClfYWJzUAADj HTTP/1.1\" 200 -\n",
      "127.0.0.1 - - [27/Jul/2023 10:10:18] \"GET /socket.io/?EIO=4&transport=polling&t=OcOL0zh.0&sid=vaZ22ry1L6lI2Z9fAADi HTTP/1.1\" 200 -\n",
      "127.0.0.1 - - [27/Jul/2023 10:10:18] \"POST /socket.io/?EIO=4&transport=polling&t=OcOL74N&sid=wejWW35CClfYWJzUAADj HTTP/1.1\" 200 -\n",
      "127.0.0.1 - - [27/Jul/2023 10:10:18] \"POST /socket.io/?EIO=4&transport=polling&t=OcOL74T&sid=vaZ22ry1L6lI2Z9fAADi HTTP/1.1\" 200 -\n",
      "127.0.0.1 - - [27/Jul/2023 10:10:43] \"GET /socket.io/?EIO=4&transport=polling&t=OcOL74O&sid=wejWW35CClfYWJzUAADj HTTP/1.1\" 200 -\n",
      "127.0.0.1 - - [27/Jul/2023 10:10:43] \"GET /socket.io/?EIO=4&transport=polling&t=OcOL74T.0&sid=vaZ22ry1L6lI2Z9fAADi HTTP/1.1\" 200 -\n",
      "127.0.0.1 - - [27/Jul/2023 10:10:43] \"POST /socket.io/?EIO=4&transport=polling&t=OcOLDBE&sid=wejWW35CClfYWJzUAADj HTTP/1.1\" 200 -\n",
      "127.0.0.1 - - [27/Jul/2023 10:10:43] \"POST /socket.io/?EIO=4&transport=polling&t=OcOLDBJ&sid=vaZ22ry1L6lI2Z9fAADi HTTP/1.1\" 200 -\n",
      "127.0.0.1 - - [27/Jul/2023 10:11:08] \"GET /socket.io/?EIO=4&transport=polling&t=OcOLDBF&sid=wejWW35CClfYWJzUAADj HTTP/1.1\" 200 -\n",
      "127.0.0.1 - - [27/Jul/2023 10:11:08] \"GET /socket.io/?EIO=4&transport=polling&t=OcOLDBK&sid=vaZ22ry1L6lI2Z9fAADi HTTP/1.1\" 200 -\n",
      "127.0.0.1 - - [27/Jul/2023 10:11:08] \"POST /socket.io/?EIO=4&transport=polling&t=OcOLJI0&sid=wejWW35CClfYWJzUAADj HTTP/1.1\" 200 -\n",
      "127.0.0.1 - - [27/Jul/2023 10:11:08] \"POST /socket.io/?EIO=4&transport=polling&t=OcOLJI5&sid=vaZ22ry1L6lI2Z9fAADi HTTP/1.1\" 200 -\n",
      "127.0.0.1 - - [27/Jul/2023 10:11:33] \"GET /socket.io/?EIO=4&transport=polling&t=OcOLJI1&sid=wejWW35CClfYWJzUAADj HTTP/1.1\" 200 -\n",
      "127.0.0.1 - - [27/Jul/2023 10:11:33] \"GET /socket.io/?EIO=4&transport=polling&t=OcOLJI6&sid=vaZ22ry1L6lI2Z9fAADi HTTP/1.1\" 200 -\n",
      "127.0.0.1 - - [27/Jul/2023 10:11:33] \"POST /socket.io/?EIO=4&transport=polling&t=OcOLPOq&sid=wejWW35CClfYWJzUAADj HTTP/1.1\" 200 -\n",
      "127.0.0.1 - - [27/Jul/2023 10:11:33] \"POST /socket.io/?EIO=4&transport=polling&t=OcOLPOx&sid=vaZ22ry1L6lI2Z9fAADi HTTP/1.1\" 200 -\n",
      "127.0.0.1 - - [27/Jul/2023 10:11:58] \"GET /socket.io/?EIO=4&transport=polling&t=OcOLPOr&sid=wejWW35CClfYWJzUAADj HTTP/1.1\" 200 -\n",
      "127.0.0.1 - - [27/Jul/2023 10:11:58] \"GET /socket.io/?EIO=4&transport=polling&t=OcOLPOy&sid=vaZ22ry1L6lI2Z9fAADi HTTP/1.1\" 200 -\n",
      "127.0.0.1 - - [27/Jul/2023 10:11:58] \"POST /socket.io/?EIO=4&transport=polling&t=OcOLVVh&sid=wejWW35CClfYWJzUAADj HTTP/1.1\" 200 -\n",
      "127.0.0.1 - - [27/Jul/2023 10:11:58] \"POST /socket.io/?EIO=4&transport=polling&t=OcOLVVl&sid=vaZ22ry1L6lI2Z9fAADi HTTP/1.1\" 200 -\n",
      "127.0.0.1 - - [27/Jul/2023 10:12:23] \"GET /socket.io/?EIO=4&transport=polling&t=OcOLVVi&sid=wejWW35CClfYWJzUAADj HTTP/1.1\" 200 -\n",
      "127.0.0.1 - - [27/Jul/2023 10:12:23] \"GET /socket.io/?EIO=4&transport=polling&t=OcOLVVl.0&sid=vaZ22ry1L6lI2Z9fAADi HTTP/1.1\" 200 -\n",
      "127.0.0.1 - - [27/Jul/2023 10:12:23] \"POST /socket.io/?EIO=4&transport=polling&t=OcOLbca&sid=wejWW35CClfYWJzUAADj HTTP/1.1\" 200 -\n",
      "127.0.0.1 - - [27/Jul/2023 10:12:23] \"POST /socket.io/?EIO=4&transport=polling&t=OcOLbca&sid=vaZ22ry1L6lI2Z9fAADi HTTP/1.1\" 200 -\n",
      "127.0.0.1 - - [27/Jul/2023 10:12:48] \"GET /socket.io/?EIO=4&transport=polling&t=OcOLbca.0&sid=wejWW35CClfYWJzUAADj HTTP/1.1\" 200 -\n",
      "127.0.0.1 - - [27/Jul/2023 10:12:48] \"GET /socket.io/?EIO=4&transport=polling&t=OcOLbcb&sid=vaZ22ry1L6lI2Z9fAADi HTTP/1.1\" 200 -\n",
      "127.0.0.1 - - [27/Jul/2023 10:12:48] \"POST /socket.io/?EIO=4&transport=polling&t=OcOLhjT&sid=vaZ22ry1L6lI2Z9fAADi HTTP/1.1\" 200 -\n",
      "127.0.0.1 - - [27/Jul/2023 10:12:48] \"POST /socket.io/?EIO=4&transport=polling&t=OcOLhjR&sid=wejWW35CClfYWJzUAADj HTTP/1.1\" 200 -\n",
      "127.0.0.1 - - [27/Jul/2023 10:13:13] \"GET /socket.io/?EIO=4&transport=polling&t=OcOLhjS&sid=wejWW35CClfYWJzUAADj HTTP/1.1\" 200 -\n",
      "127.0.0.1 - - [27/Jul/2023 10:13:13] \"GET /socket.io/?EIO=4&transport=polling&t=OcOLhjU&sid=vaZ22ry1L6lI2Z9fAADi HTTP/1.1\" 200 -\n",
      "127.0.0.1 - - [27/Jul/2023 10:13:13] \"POST /socket.io/?EIO=4&transport=polling&t=OcOLnqK&sid=vaZ22ry1L6lI2Z9fAADi HTTP/1.1\" 200 -\n",
      "127.0.0.1 - - [27/Jul/2023 10:13:13] \"POST /socket.io/?EIO=4&transport=polling&t=OcOLnqJ&sid=wejWW35CClfYWJzUAADj HTTP/1.1\" 200 -\n",
      "127.0.0.1 - - [27/Jul/2023 10:13:38] \"GET /socket.io/?EIO=4&transport=polling&t=OcOLnqL&sid=vaZ22ry1L6lI2Z9fAADi HTTP/1.1\" 200 -\n",
      "127.0.0.1 - - [27/Jul/2023 10:13:38] \"GET /socket.io/?EIO=4&transport=polling&t=OcOLnqK&sid=wejWW35CClfYWJzUAADj HTTP/1.1\" 200 -\n",
      "127.0.0.1 - - [27/Jul/2023 10:13:38] \"POST /socket.io/?EIO=4&transport=polling&t=OcOLtx5&sid=vaZ22ry1L6lI2Z9fAADi HTTP/1.1\" 200 -\n",
      "127.0.0.1 - - [27/Jul/2023 10:13:38] \"POST /socket.io/?EIO=4&transport=polling&t=OcOLtx7&sid=wejWW35CClfYWJzUAADj HTTP/1.1\" 200 -\n",
      "127.0.0.1 - - [27/Jul/2023 10:14:03] \"GET /socket.io/?EIO=4&transport=polling&t=OcOLtx8&sid=wejWW35CClfYWJzUAADj HTTP/1.1\" 200 -\n",
      "127.0.0.1 - - [27/Jul/2023 10:14:03] \"GET /socket.io/?EIO=4&transport=polling&t=OcOLtx6&sid=vaZ22ry1L6lI2Z9fAADi HTTP/1.1\" 200 -\n",
      "127.0.0.1 - - [27/Jul/2023 10:14:03] \"POST /socket.io/?EIO=4&transport=polling&t=OcOL-1y&sid=wejWW35CClfYWJzUAADj HTTP/1.1\" 200 -\n",
      "127.0.0.1 - - [27/Jul/2023 10:14:03] \"POST /socket.io/?EIO=4&transport=polling&t=OcOL-1y&sid=vaZ22ry1L6lI2Z9fAADi HTTP/1.1\" 200 -\n",
      "127.0.0.1 - - [27/Jul/2023 10:14:28] \"GET /socket.io/?EIO=4&transport=polling&t=OcOL-1z&sid=wejWW35CClfYWJzUAADj HTTP/1.1\" 200 -\n",
      "127.0.0.1 - - [27/Jul/2023 10:14:28] \"GET /socket.io/?EIO=4&transport=polling&t=OcOL-1z&sid=vaZ22ry1L6lI2Z9fAADi HTTP/1.1\" 200 -\n",
      "127.0.0.1 - - [27/Jul/2023 10:14:28] \"POST /socket.io/?EIO=4&transport=polling&t=OcOM48m&sid=wejWW35CClfYWJzUAADj HTTP/1.1\" 200 -\n",
      "127.0.0.1 - - [27/Jul/2023 10:14:28] \"POST /socket.io/?EIO=4&transport=polling&t=OcOM48n&sid=vaZ22ry1L6lI2Z9fAADi HTTP/1.1\" 200 -\n",
      "127.0.0.1 - - [27/Jul/2023 10:14:53] \"GET /socket.io/?EIO=4&transport=polling&t=OcOM48n&sid=wejWW35CClfYWJzUAADj HTTP/1.1\" 200 -\n",
      "127.0.0.1 - - [27/Jul/2023 10:14:53] \"GET /socket.io/?EIO=4&transport=polling&t=OcOM48o&sid=vaZ22ry1L6lI2Z9fAADi HTTP/1.1\" 200 -\n",
      "127.0.0.1 - - [27/Jul/2023 10:14:53] \"POST /socket.io/?EIO=4&transport=polling&t=OcOMAFd&sid=wejWW35CClfYWJzUAADj HTTP/1.1\" 200 -\n",
      "127.0.0.1 - - [27/Jul/2023 10:14:53] \"POST /socket.io/?EIO=4&transport=polling&t=OcOMAFg&sid=vaZ22ry1L6lI2Z9fAADi HTTP/1.1\" 200 -\n",
      "127.0.0.1 - - [27/Jul/2023 10:15:18] \"GET /socket.io/?EIO=4&transport=polling&t=OcOMAFe&sid=wejWW35CClfYWJzUAADj HTTP/1.1\" 200 -\n",
      "127.0.0.1 - - [27/Jul/2023 10:15:18] \"GET /socket.io/?EIO=4&transport=polling&t=OcOMAFh&sid=vaZ22ry1L6lI2Z9fAADi HTTP/1.1\" 200 -\n",
      "127.0.0.1 - - [27/Jul/2023 10:15:18] \"POST /socket.io/?EIO=4&transport=polling&t=OcOMGMP&sid=wejWW35CClfYWJzUAADj HTTP/1.1\" 200 -\n",
      "127.0.0.1 - - [27/Jul/2023 10:15:18] \"POST /socket.io/?EIO=4&transport=polling&t=OcOMGMS&sid=vaZ22ry1L6lI2Z9fAADi HTTP/1.1\" 200 -\n",
      "127.0.0.1 - - [27/Jul/2023 10:15:43] \"GET /socket.io/?EIO=4&transport=polling&t=OcOMGMT&sid=vaZ22ry1L6lI2Z9fAADi HTTP/1.1\" 200 -\n",
      "127.0.0.1 - - [27/Jul/2023 10:15:43] \"GET /socket.io/?EIO=4&transport=polling&t=OcOMGMQ&sid=wejWW35CClfYWJzUAADj HTTP/1.1\" 200 -\n",
      "127.0.0.1 - - [27/Jul/2023 10:15:43] \"POST /socket.io/?EIO=4&transport=polling&t=OcOMMTN&sid=wejWW35CClfYWJzUAADj HTTP/1.1\" 200 -\n",
      "127.0.0.1 - - [27/Jul/2023 10:15:43] \"POST /socket.io/?EIO=4&transport=polling&t=OcOMMTL&sid=vaZ22ry1L6lI2Z9fAADi HTTP/1.1\" 200 -\n",
      "127.0.0.1 - - [27/Jul/2023 10:16:08] \"GET /socket.io/?EIO=4&transport=polling&t=OcOMMTM&sid=vaZ22ry1L6lI2Z9fAADi HTTP/1.1\" 200 -\n",
      "127.0.0.1 - - [27/Jul/2023 10:16:08] \"GET /socket.io/?EIO=4&transport=polling&t=OcOMMTO&sid=wejWW35CClfYWJzUAADj HTTP/1.1\" 200 -\n",
      "127.0.0.1 - - [27/Jul/2023 10:16:08] \"POST /socket.io/?EIO=4&transport=polling&t=OcOMSaG&sid=vaZ22ry1L6lI2Z9fAADi HTTP/1.1\" 200 -\n",
      "127.0.0.1 - - [27/Jul/2023 10:16:08] \"POST /socket.io/?EIO=4&transport=polling&t=OcOMSaI&sid=wejWW35CClfYWJzUAADj HTTP/1.1\" 200 -\n",
      "127.0.0.1 - - [27/Jul/2023 10:16:33] \"GET /socket.io/?EIO=4&transport=polling&t=OcOMSaH&sid=vaZ22ry1L6lI2Z9fAADi HTTP/1.1\" 200 -\n",
      "127.0.0.1 - - [27/Jul/2023 10:16:33] \"GET /socket.io/?EIO=4&transport=polling&t=OcOMSaJ&sid=wejWW35CClfYWJzUAADj HTTP/1.1\" 200 -\n",
      "127.0.0.1 - - [27/Jul/2023 10:16:33] \"POST /socket.io/?EIO=4&transport=polling&t=OcOMYh9&sid=wejWW35CClfYWJzUAADj HTTP/1.1\" 200 -\n",
      "127.0.0.1 - - [27/Jul/2023 10:16:33] \"POST /socket.io/?EIO=4&transport=polling&t=OcOMYhC&sid=vaZ22ry1L6lI2Z9fAADi HTTP/1.1\" 200 -\n",
      "127.0.0.1 - - [27/Jul/2023 10:16:58] \"GET /socket.io/?EIO=4&transport=polling&t=OcOMYhA&sid=wejWW35CClfYWJzUAADj HTTP/1.1\" 200 -\n",
      "127.0.0.1 - - [27/Jul/2023 10:16:58] \"GET /socket.io/?EIO=4&transport=polling&t=OcOMYhD&sid=vaZ22ry1L6lI2Z9fAADi HTTP/1.1\" 200 -\n",
      "127.0.0.1 - - [27/Jul/2023 10:16:58] \"POST /socket.io/?EIO=4&transport=polling&t=OcOMen_&sid=wejWW35CClfYWJzUAADj HTTP/1.1\" 200 -\n",
      "127.0.0.1 - - [27/Jul/2023 10:16:58] \"POST /socket.io/?EIO=4&transport=polling&t=OcOMen_&sid=vaZ22ry1L6lI2Z9fAADi HTTP/1.1\" 200 -\n",
      "127.0.0.1 - - [27/Jul/2023 10:17:23] \"GET /socket.io/?EIO=4&transport=polling&t=OcOMeo0&sid=wejWW35CClfYWJzUAADj HTTP/1.1\" 200 -\n",
      "127.0.0.1 - - [27/Jul/2023 10:17:23] \"GET /socket.io/?EIO=4&transport=polling&t=OcOMeo0&sid=vaZ22ry1L6lI2Z9fAADi HTTP/1.1\" 200 -\n",
      "127.0.0.1 - - [27/Jul/2023 10:17:23] \"POST /socket.io/?EIO=4&transport=polling&t=OcOMkuy&sid=wejWW35CClfYWJzUAADj HTTP/1.1\" 200 -\n",
      "127.0.0.1 - - [27/Jul/2023 10:17:23] \"POST /socket.io/?EIO=4&transport=polling&t=OcOMku_&sid=vaZ22ry1L6lI2Z9fAADi HTTP/1.1\" 200 -\n",
      "127.0.0.1 - - [27/Jul/2023 10:17:48] \"GET /socket.io/?EIO=4&transport=polling&t=OcOMkuz&sid=wejWW35CClfYWJzUAADj HTTP/1.1\" 200 -\n",
      "127.0.0.1 - - [27/Jul/2023 10:17:48] \"GET /socket.io/?EIO=4&transport=polling&t=OcOMkv0&sid=vaZ22ry1L6lI2Z9fAADi HTTP/1.1\" 200 -\n",
      "127.0.0.1 - - [27/Jul/2023 10:17:48] \"POST /socket.io/?EIO=4&transport=polling&t=OcOMq_j&sid=wejWW35CClfYWJzUAADj HTTP/1.1\" 200 -\n",
      "127.0.0.1 - - [27/Jul/2023 10:17:48] \"POST /socket.io/?EIO=4&transport=polling&t=OcOMq_r&sid=vaZ22ry1L6lI2Z9fAADi HTTP/1.1\" 200 -\n",
      "127.0.0.1 - - [27/Jul/2023 10:18:13] \"GET /socket.io/?EIO=4&transport=polling&t=OcOMq_k&sid=wejWW35CClfYWJzUAADj HTTP/1.1\" 200 -\n",
      "127.0.0.1 - - [27/Jul/2023 10:18:13] \"GET /socket.io/?EIO=4&transport=polling&t=OcOMq_s&sid=vaZ22ry1L6lI2Z9fAADi HTTP/1.1\" 200 -\n",
      "127.0.0.1 - - [27/Jul/2023 10:18:13] \"POST /socket.io/?EIO=4&transport=polling&t=OcOMx6V&sid=wejWW35CClfYWJzUAADj HTTP/1.1\" 200 -\n",
      "127.0.0.1 - - [27/Jul/2023 10:18:13] \"POST /socket.io/?EIO=4&transport=polling&t=OcOMx6c&sid=vaZ22ry1L6lI2Z9fAADi HTTP/1.1\" 200 -\n",
      "127.0.0.1 - - [27/Jul/2023 10:18:38] \"GET /socket.io/?EIO=4&transport=polling&t=OcOMx6W&sid=wejWW35CClfYWJzUAADj HTTP/1.1\" 200 -\n",
      "127.0.0.1 - - [27/Jul/2023 10:18:38] \"GET /socket.io/?EIO=4&transport=polling&t=OcOMx6d&sid=vaZ22ry1L6lI2Z9fAADi HTTP/1.1\" 200 -\n",
      "127.0.0.1 - - [27/Jul/2023 10:18:38] \"POST /socket.io/?EIO=4&transport=polling&t=OcON1DK&sid=wejWW35CClfYWJzUAADj HTTP/1.1\" 200 -\n",
      "127.0.0.1 - - [27/Jul/2023 10:18:38] \"POST /socket.io/?EIO=4&transport=polling&t=OcON1DQ&sid=vaZ22ry1L6lI2Z9fAADi HTTP/1.1\" 200 -\n",
      "127.0.0.1 - - [27/Jul/2023 10:19:03] \"GET /socket.io/?EIO=4&transport=polling&t=OcON1DL&sid=wejWW35CClfYWJzUAADj HTTP/1.1\" 200 -\n",
      "127.0.0.1 - - [27/Jul/2023 10:19:03] \"GET /socket.io/?EIO=4&transport=polling&t=OcON1DQ.0&sid=vaZ22ry1L6lI2Z9fAADi HTTP/1.1\" 200 -\n",
      "127.0.0.1 - - [27/Jul/2023 10:19:03] \"POST /socket.io/?EIO=4&transport=polling&t=OcON7K8&sid=wejWW35CClfYWJzUAADj HTTP/1.1\" 200 -\n",
      "127.0.0.1 - - [27/Jul/2023 10:19:03] \"POST /socket.io/?EIO=4&transport=polling&t=OcON7KB&sid=vaZ22ry1L6lI2Z9fAADi HTTP/1.1\" 200 -\n",
      "127.0.0.1 - - [27/Jul/2023 10:19:28] \"GET /socket.io/?EIO=4&transport=polling&t=OcON7K9&sid=wejWW35CClfYWJzUAADj HTTP/1.1\" 200 -\n",
      "127.0.0.1 - - [27/Jul/2023 10:19:28] \"GET /socket.io/?EIO=4&transport=polling&t=OcON7KC&sid=vaZ22ry1L6lI2Z9fAADi HTTP/1.1\" 200 -\n",
      "127.0.0.1 - - [27/Jul/2023 10:19:28] \"POST /socket.io/?EIO=4&transport=polling&t=OcONDQ-&sid=wejWW35CClfYWJzUAADj HTTP/1.1\" 200 -\n",
      "127.0.0.1 - - [27/Jul/2023 10:19:28] \"POST /socket.io/?EIO=4&transport=polling&t=OcONDR3&sid=vaZ22ry1L6lI2Z9fAADi HTTP/1.1\" 200 -\n",
      "127.0.0.1 - - [27/Jul/2023 10:19:53] \"GET /socket.io/?EIO=4&transport=polling&t=OcONDQ_&sid=wejWW35CClfYWJzUAADj HTTP/1.1\" 200 -\n",
      "127.0.0.1 - - [27/Jul/2023 10:19:53] \"POST /socket.io/?EIO=4&transport=polling&t=OcONJXo&sid=wejWW35CClfYWJzUAADj HTTP/1.1\" 200 -\n",
      "127.0.0.1 - - [27/Jul/2023 10:19:53] \"GET /socket.io/?EIO=4&transport=polling&t=OcONDR4&sid=vaZ22ry1L6lI2Z9fAADi HTTP/1.1\" 200 -\n",
      "127.0.0.1 - - [27/Jul/2023 10:19:53] \"POST /socket.io/?EIO=4&transport=polling&t=OcONJXx&sid=vaZ22ry1L6lI2Z9fAADi HTTP/1.1\" 200 -\n",
      "127.0.0.1 - - [27/Jul/2023 10:20:18] \"GET /socket.io/?EIO=4&transport=polling&t=OcONJXp&sid=wejWW35CClfYWJzUAADj HTTP/1.1\" 200 -\n",
      "127.0.0.1 - - [27/Jul/2023 10:20:18] \"GET /socket.io/?EIO=4&transport=polling&t=OcONJXy&sid=vaZ22ry1L6lI2Z9fAADi HTTP/1.1\" 200 -\n",
      "127.0.0.1 - - [27/Jul/2023 10:20:18] \"POST /socket.io/?EIO=4&transport=polling&t=OcONPed&sid=wejWW35CClfYWJzUAADj HTTP/1.1\" 200 -\n",
      "127.0.0.1 - - [27/Jul/2023 10:20:18] \"POST /socket.io/?EIO=4&transport=polling&t=OcONPej&sid=vaZ22ry1L6lI2Z9fAADi HTTP/1.1\" 200 -\n",
      "127.0.0.1 - - [27/Jul/2023 10:20:43] \"GET /socket.io/?EIO=4&transport=polling&t=OcONPee&sid=wejWW35CClfYWJzUAADj HTTP/1.1\" 200 -\n",
      "127.0.0.1 - - [27/Jul/2023 10:20:43] \"GET /socket.io/?EIO=4&transport=polling&t=OcONPek&sid=vaZ22ry1L6lI2Z9fAADi HTTP/1.1\" 200 -\n",
      "127.0.0.1 - - [27/Jul/2023 10:20:43] \"POST /socket.io/?EIO=4&transport=polling&t=OcONVlO&sid=wejWW35CClfYWJzUAADj HTTP/1.1\" 200 -\n",
      "127.0.0.1 - - [27/Jul/2023 10:20:43] \"POST /socket.io/?EIO=4&transport=polling&t=OcONVlU&sid=vaZ22ry1L6lI2Z9fAADi HTTP/1.1\" 200 -\n",
      "127.0.0.1 - - [27/Jul/2023 10:21:08] \"GET /socket.io/?EIO=4&transport=polling&t=OcONVlP&sid=wejWW35CClfYWJzUAADj HTTP/1.1\" 200 -\n",
      "127.0.0.1 - - [27/Jul/2023 10:21:08] \"POST /socket.io/?EIO=4&transport=polling&t=OcONbs9&sid=wejWW35CClfYWJzUAADj HTTP/1.1\" 200 -\n",
      "127.0.0.1 - - [27/Jul/2023 10:21:08] \"GET /socket.io/?EIO=4&transport=polling&t=OcONVlV&sid=vaZ22ry1L6lI2Z9fAADi HTTP/1.1\" 200 -\n",
      "127.0.0.1 - - [27/Jul/2023 10:21:08] \"POST /socket.io/?EIO=4&transport=polling&t=OcONbsJ&sid=vaZ22ry1L6lI2Z9fAADi HTTP/1.1\" 200 -\n",
      "127.0.0.1 - - [27/Jul/2023 10:21:33] \"GET /socket.io/?EIO=4&transport=polling&t=OcONbsA&sid=wejWW35CClfYWJzUAADj HTTP/1.1\" 200 -\n",
      "127.0.0.1 - - [27/Jul/2023 10:21:33] \"GET /socket.io/?EIO=4&transport=polling&t=OcONbsK&sid=vaZ22ry1L6lI2Z9fAADi HTTP/1.1\" 200 -\n",
      "127.0.0.1 - - [27/Jul/2023 10:21:33] \"POST /socket.io/?EIO=4&transport=polling&t=OcONhy-&sid=wejWW35CClfYWJzUAADj HTTP/1.1\" 200 -\n",
      "127.0.0.1 - - [27/Jul/2023 10:21:33] \"POST /socket.io/?EIO=4&transport=polling&t=OcONhz3&sid=vaZ22ry1L6lI2Z9fAADi HTTP/1.1\" 200 -\n",
      "127.0.0.1 - - [27/Jul/2023 10:21:58] \"GET /socket.io/?EIO=4&transport=polling&t=OcONhy_&sid=wejWW35CClfYWJzUAADj HTTP/1.1\" 200 -\n",
      "127.0.0.1 - - [27/Jul/2023 10:21:58] \"GET /socket.io/?EIO=4&transport=polling&t=OcONhz4&sid=vaZ22ry1L6lI2Z9fAADi HTTP/1.1\" 200 -\n",
      "127.0.0.1 - - [27/Jul/2023 10:21:58] \"POST /socket.io/?EIO=4&transport=polling&t=OcONo3p&sid=wejWW35CClfYWJzUAADj HTTP/1.1\" 200 -\n",
      "127.0.0.1 - - [27/Jul/2023 10:21:58] \"POST /socket.io/?EIO=4&transport=polling&t=OcONo3u&sid=vaZ22ry1L6lI2Z9fAADi HTTP/1.1\" 200 -\n",
      "127.0.0.1 - - [27/Jul/2023 10:22:23] \"GET /socket.io/?EIO=4&transport=polling&t=OcONo3q&sid=wejWW35CClfYWJzUAADj HTTP/1.1\" 200 -\n",
      "127.0.0.1 - - [27/Jul/2023 10:22:23] \"GET /socket.io/?EIO=4&transport=polling&t=OcONo3v&sid=vaZ22ry1L6lI2Z9fAADi HTTP/1.1\" 200 -\n",
      "127.0.0.1 - - [27/Jul/2023 10:22:23] \"POST /socket.io/?EIO=4&transport=polling&t=OcONuAj&sid=vaZ22ry1L6lI2Z9fAADi HTTP/1.1\" 200 -\n",
      "127.0.0.1 - - [27/Jul/2023 10:22:23] \"POST /socket.io/?EIO=4&transport=polling&t=OcONuAj&sid=wejWW35CClfYWJzUAADj HTTP/1.1\" 200 -\n",
      "127.0.0.1 - - [27/Jul/2023 10:22:48] \"GET /socket.io/?EIO=4&transport=polling&t=OcONuAk&sid=wejWW35CClfYWJzUAADj HTTP/1.1\" 200 -\n",
      "127.0.0.1 - - [27/Jul/2023 10:22:48] \"GET /socket.io/?EIO=4&transport=polling&t=OcONuAk&sid=vaZ22ry1L6lI2Z9fAADi HTTP/1.1\" 200 -\n",
      "127.0.0.1 - - [27/Jul/2023 10:22:48] \"POST /socket.io/?EIO=4&transport=polling&t=OcON-Hb&sid=wejWW35CClfYWJzUAADj HTTP/1.1\" 200 -\n",
      "127.0.0.1 - - [27/Jul/2023 10:22:48] \"POST /socket.io/?EIO=4&transport=polling&t=OcON-Hd&sid=vaZ22ry1L6lI2Z9fAADi HTTP/1.1\" 200 -\n",
      "127.0.0.1 - - [27/Jul/2023 10:23:13] \"GET /socket.io/?EIO=4&transport=polling&t=OcON-Hc&sid=wejWW35CClfYWJzUAADj HTTP/1.1\" 200 -\n",
      "127.0.0.1 - - [27/Jul/2023 10:23:13] \"GET /socket.io/?EIO=4&transport=polling&t=OcON-Hd.0&sid=vaZ22ry1L6lI2Z9fAADi HTTP/1.1\" 200 -\n",
      "127.0.0.1 - - [27/Jul/2023 10:23:13] \"POST /socket.io/?EIO=4&transport=polling&t=OcOO4OQ&sid=wejWW35CClfYWJzUAADj HTTP/1.1\" 200 -\n",
      "127.0.0.1 - - [27/Jul/2023 10:23:13] \"POST /socket.io/?EIO=4&transport=polling&t=OcOO4OU&sid=vaZ22ry1L6lI2Z9fAADi HTTP/1.1\" 200 -\n",
      "127.0.0.1 - - [27/Jul/2023 10:23:38] \"GET /socket.io/?EIO=4&transport=polling&t=OcOO4OR&sid=wejWW35CClfYWJzUAADj HTTP/1.1\" 200 -\n",
      "127.0.0.1 - - [27/Jul/2023 10:23:38] \"GET /socket.io/?EIO=4&transport=polling&t=OcOO4OV&sid=vaZ22ry1L6lI2Z9fAADi HTTP/1.1\" 200 -\n",
      "127.0.0.1 - - [27/Jul/2023 10:23:38] \"POST /socket.io/?EIO=4&transport=polling&t=OcOOAVM&sid=wejWW35CClfYWJzUAADj HTTP/1.1\" 200 -\n",
      "127.0.0.1 - - [27/Jul/2023 10:23:38] \"POST /socket.io/?EIO=4&transport=polling&t=OcOOAVR&sid=vaZ22ry1L6lI2Z9fAADi HTTP/1.1\" 200 -\n",
      "127.0.0.1 - - [27/Jul/2023 10:24:03] \"GET /socket.io/?EIO=4&transport=polling&t=OcOOAVN&sid=wejWW35CClfYWJzUAADj HTTP/1.1\" 200 -\n",
      "127.0.0.1 - - [27/Jul/2023 10:24:03] \"GET /socket.io/?EIO=4&transport=polling&t=OcOOAVS&sid=vaZ22ry1L6lI2Z9fAADi HTTP/1.1\" 200 -\n",
      "127.0.0.1 - - [27/Jul/2023 10:24:03] \"POST /socket.io/?EIO=4&transport=polling&t=OcOOGcK&sid=vaZ22ry1L6lI2Z9fAADi HTTP/1.1\" 200 -\n",
      "127.0.0.1 - - [27/Jul/2023 10:24:03] \"POST /socket.io/?EIO=4&transport=polling&t=OcOOGcK&sid=wejWW35CClfYWJzUAADj HTTP/1.1\" 200 -\n",
      "127.0.0.1 - - [27/Jul/2023 10:24:28] \"GET /socket.io/?EIO=4&transport=polling&t=OcOOGcL&sid=wejWW35CClfYWJzUAADj HTTP/1.1\" 200 -\n",
      "127.0.0.1 - - [27/Jul/2023 10:24:28] \"GET /socket.io/?EIO=4&transport=polling&t=OcOOGcL&sid=vaZ22ry1L6lI2Z9fAADi HTTP/1.1\" 200 -\n",
      "127.0.0.1 - - [27/Jul/2023 10:24:28] \"POST /socket.io/?EIO=4&transport=polling&t=OcOOMjA&sid=wejWW35CClfYWJzUAADj HTTP/1.1\" 200 -\n",
      "127.0.0.1 - - [27/Jul/2023 10:24:28] \"POST /socket.io/?EIO=4&transport=polling&t=OcOOMjB&sid=vaZ22ry1L6lI2Z9fAADi HTTP/1.1\" 200 -\n",
      "127.0.0.1 - - [27/Jul/2023 10:24:53] \"GET /socket.io/?EIO=4&transport=polling&t=OcOOMjB&sid=wejWW35CClfYWJzUAADj HTTP/1.1\" 200 -\n",
      "127.0.0.1 - - [27/Jul/2023 10:24:53] \"GET /socket.io/?EIO=4&transport=polling&t=OcOOMjC&sid=vaZ22ry1L6lI2Z9fAADi HTTP/1.1\" 200 -\n",
      "127.0.0.1 - - [27/Jul/2023 10:24:53] \"POST /socket.io/?EIO=4&transport=polling&t=OcOOSpz&sid=wejWW35CClfYWJzUAADj HTTP/1.1\" 200 -\n",
      "127.0.0.1 - - [27/Jul/2023 10:24:53] \"POST /socket.io/?EIO=4&transport=polling&t=OcOOSq0&sid=vaZ22ry1L6lI2Z9fAADi HTTP/1.1\" 200 -\n",
      "127.0.0.1 - - [27/Jul/2023 10:25:18] \"GET /socket.io/?EIO=4&transport=polling&t=OcOOSp-&sid=wejWW35CClfYWJzUAADj HTTP/1.1\" 200 -\n",
      "127.0.0.1 - - [27/Jul/2023 10:25:18] \"GET /socket.io/?EIO=4&transport=polling&t=OcOOSq1&sid=vaZ22ry1L6lI2Z9fAADi HTTP/1.1\" 200 -\n",
      "127.0.0.1 - - [27/Jul/2023 10:25:18] \"POST /socket.io/?EIO=4&transport=polling&t=OcOOYwp&sid=wejWW35CClfYWJzUAADj HTTP/1.1\" 200 -\n",
      "127.0.0.1 - - [27/Jul/2023 10:25:18] \"POST /socket.io/?EIO=4&transport=polling&t=OcOOYwt&sid=vaZ22ry1L6lI2Z9fAADi HTTP/1.1\" 200 -\n",
      "127.0.0.1 - - [27/Jul/2023 10:25:43] \"GET /socket.io/?EIO=4&transport=polling&t=OcOOYwr&sid=wejWW35CClfYWJzUAADj HTTP/1.1\" 200 -\n",
      "127.0.0.1 - - [27/Jul/2023 10:25:43] \"GET /socket.io/?EIO=4&transport=polling&t=OcOOYwu&sid=vaZ22ry1L6lI2Z9fAADi HTTP/1.1\" 200 -\n",
      "127.0.0.1 - - [27/Jul/2023 10:25:43] \"POST /socket.io/?EIO=4&transport=polling&t=OcOOf1i&sid=wejWW35CClfYWJzUAADj HTTP/1.1\" 200 -\n",
      "127.0.0.1 - - [27/Jul/2023 10:25:43] \"POST /socket.io/?EIO=4&transport=polling&t=OcOOf1m&sid=vaZ22ry1L6lI2Z9fAADi HTTP/1.1\" 200 -\n",
      "127.0.0.1 - - [27/Jul/2023 10:25:43] \"POST /socket.io/?EIO=4&transport=polling&t=OcOOf4q&sid=vaZ22ry1L6lI2Z9fAADi HTTP/1.1\" 200 -\n",
      "127.0.0.1 - - [27/Jul/2023 10:25:44] \"POST /socket.io/?EIO=4&transport=polling&t=OcOOf4t&sid=wejWW35CClfYWJzUAADj HTTP/1.1\" 200 -\n",
      "127.0.0.1 - - [27/Jul/2023 10:25:44] \"GET /socket.io/?EIO=4&transport=polling&t=OcOOf1n&sid=vaZ22ry1L6lI2Z9fAADi HTTP/1.1\" 200 -\n",
      "127.0.0.1 - - [27/Jul/2023 10:25:44] \"GET /socket.io/?EIO=4&transport=polling&t=OcOOf1k&sid=wejWW35CClfYWJzUAADj HTTP/1.1\" 200 -\n",
      "127.0.0.1 - - [27/Jul/2023 10:25:45] \"GET /socket.io/?EIO=4&transport=polling&t=OcOOfQ1 HTTP/1.1\" 200 -\n",
      "127.0.0.1 - - [27/Jul/2023 10:25:45] \"GET /socket.io/?EIO=4&transport=polling&t=OcOOfQ1 HTTP/1.1\" 200 -\n",
      "127.0.0.1 - - [27/Jul/2023 10:25:45] \"POST /socket.io/?EIO=4&transport=polling&t=OcOOfQ9&sid=90N7u7mPnWsrczdSAADm HTTP/1.1\" 200 -\n",
      "127.0.0.1 - - [27/Jul/2023 10:25:45] \"GET /socket.io/?EIO=4&transport=polling&t=OcOOfQB&sid=90N7u7mPnWsrczdSAADm HTTP/1.1\" 200 -\n",
      "127.0.0.1 - - [27/Jul/2023 10:25:45] \"POST /socket.io/?EIO=4&transport=polling&t=OcOOfQG&sid=zajIOkYDgJs2mBW6AADn HTTP/1.1\" 200 -\n",
      "127.0.0.1 - - [27/Jul/2023 10:25:45] \"GET /socket.io/?EIO=4&transport=polling&t=OcOOfQH&sid=zajIOkYDgJs2mBW6AADn HTTP/1.1\" 200 -\n",
      "127.0.0.1 - - [27/Jul/2023 10:26:13] \"GET /socket.io/?EIO=4&transport=polling&t=OcOOfQM&sid=90N7u7mPnWsrczdSAADm HTTP/1.1\" 200 -\n",
      "127.0.0.1 - - [27/Jul/2023 10:26:13] \"GET /socket.io/?EIO=4&transport=polling&t=OcOOfQU&sid=zajIOkYDgJs2mBW6AADn HTTP/1.1\" 200 -\n",
      "127.0.0.1 - - [27/Jul/2023 10:26:13] \"POST /socket.io/?EIO=4&transport=polling&t=OcOOmHj&sid=90N7u7mPnWsrczdSAADm HTTP/1.1\" 200 -\n",
      "127.0.0.1 - - [27/Jul/2023 10:26:13] \"POST /socket.io/?EIO=4&transport=polling&t=OcOOmHn&sid=zajIOkYDgJs2mBW6AADn HTTP/1.1\" 200 -\n",
      "127.0.0.1 - - [27/Jul/2023 10:26:38] \"GET /socket.io/?EIO=4&transport=polling&t=OcOOmHk&sid=90N7u7mPnWsrczdSAADm HTTP/1.1\" 200 -\n",
      "127.0.0.1 - - [27/Jul/2023 10:26:38] \"GET /socket.io/?EIO=4&transport=polling&t=OcOOmHo&sid=zajIOkYDgJs2mBW6AADn HTTP/1.1\" 200 -\n",
      "127.0.0.1 - - [27/Jul/2023 10:26:38] \"POST /socket.io/?EIO=4&transport=polling&t=OcOOsOf&sid=90N7u7mPnWsrczdSAADm HTTP/1.1\" 200 -\n",
      "127.0.0.1 - - [27/Jul/2023 10:26:38] \"POST /socket.io/?EIO=4&transport=polling&t=OcOOsOg&sid=zajIOkYDgJs2mBW6AADn HTTP/1.1\" 200 -\n",
      "127.0.0.1 - - [27/Jul/2023 10:56:02] \"GET /socket.io/?EIO=4&transport=polling&t=OcOOsOg&sid=90N7u7mPnWsrczdSAADm HTTP/1.1\" 200 -\n",
      "127.0.0.1 - - [27/Jul/2023 10:56:02] \"GET /socket.io/?EIO=4&transport=polling&t=OcOOsOg.0&sid=zajIOkYDgJs2mBW6AADn HTTP/1.1\" 200 -\n",
      "127.0.0.1 - - [27/Jul/2023 10:56:02] \"POST /socket.io/?EIO=4&transport=polling&t=OcOVbCQ&sid=90N7u7mPnWsrczdSAADm HTTP/1.1\" 200 -\n",
      "127.0.0.1 - - [27/Jul/2023 10:56:02] \"POST /socket.io/?EIO=4&transport=polling&t=OcOVbCU&sid=zajIOkYDgJs2mBW6AADn HTTP/1.1\" 200 -\n",
      "127.0.0.1 - - [27/Jul/2023 10:56:27] \"GET /socket.io/?EIO=4&transport=polling&t=OcOVbCQ.0&sid=90N7u7mPnWsrczdSAADm HTTP/1.1\" 200 -\n",
      "127.0.0.1 - - [27/Jul/2023 10:56:27] \"GET /socket.io/?EIO=4&transport=polling&t=OcOVbCV&sid=zajIOkYDgJs2mBW6AADn HTTP/1.1\" 200 -\n",
      "127.0.0.1 - - [27/Jul/2023 10:56:28] \"POST /socket.io/?EIO=4&transport=polling&t=OcOVhJS&sid=90N7u7mPnWsrczdSAADm HTTP/1.1\" 200 -\n",
      "127.0.0.1 - - [27/Jul/2023 10:56:28] \"POST /socket.io/?EIO=4&transport=polling&t=OcOVhJW&sid=zajIOkYDgJs2mBW6AADn HTTP/1.1\" 200 -\n",
      "127.0.0.1 - - [27/Jul/2023 10:56:53] \"GET /socket.io/?EIO=4&transport=polling&t=OcOVhJV&sid=90N7u7mPnWsrczdSAADm HTTP/1.1\" 200 -\n",
      "127.0.0.1 - - [27/Jul/2023 10:56:53] \"GET /socket.io/?EIO=4&transport=polling&t=OcOVhJZ&sid=zajIOkYDgJs2mBW6AADn HTTP/1.1\" 200 -\n",
      "127.0.0.1 - - [27/Jul/2023 10:56:53] \"POST /socket.io/?EIO=4&transport=polling&t=OcOVnQX&sid=90N7u7mPnWsrczdSAADm HTTP/1.1\" 200 -\n",
      "127.0.0.1 - - [27/Jul/2023 10:56:53] \"POST /socket.io/?EIO=4&transport=polling&t=OcOVnR7&sid=zajIOkYDgJs2mBW6AADn HTTP/1.1\" 200 -\n",
      "127.0.0.1 - - [27/Jul/2023 10:57:18] \"GET /socket.io/?EIO=4&transport=polling&t=OcOVnQa&sid=90N7u7mPnWsrczdSAADm HTTP/1.1\" 200 -\n",
      "127.0.0.1 - - [27/Jul/2023 10:57:18] \"POST /socket.io/?EIO=4&transport=polling&t=OcOVtXe&sid=90N7u7mPnWsrczdSAADm HTTP/1.1\" 200 -\n",
      "127.0.0.1 - - [27/Jul/2023 10:57:18] \"GET /socket.io/?EIO=4&transport=polling&t=OcOVnRA&sid=zajIOkYDgJs2mBW6AADn HTTP/1.1\" 200 -\n",
      "127.0.0.1 - - [27/Jul/2023 10:57:18] \"POST /socket.io/?EIO=4&transport=polling&t=OcOVtY9&sid=zajIOkYDgJs2mBW6AADn HTTP/1.1\" 200 -\n",
      "127.0.0.1 - - [27/Jul/2023 10:57:43] \"GET /socket.io/?EIO=4&transport=polling&t=OcOVtXh&sid=90N7u7mPnWsrczdSAADm HTTP/1.1\" 200 -\n",
      "127.0.0.1 - - [27/Jul/2023 10:57:43] \"POST /socket.io/?EIO=4&transport=polling&t=OcOVzeg&sid=90N7u7mPnWsrczdSAADm HTTP/1.1\" 200 -\n",
      "127.0.0.1 - - [27/Jul/2023 10:57:43] \"GET /socket.io/?EIO=4&transport=polling&t=OcOVtYC&sid=zajIOkYDgJs2mBW6AADn HTTP/1.1\" 200 -\n",
      "127.0.0.1 - - [27/Jul/2023 10:57:43] \"POST /socket.io/?EIO=4&transport=polling&t=OcOVzf6&sid=zajIOkYDgJs2mBW6AADn HTTP/1.1\" 200 -\n",
      "127.0.0.1 - - [27/Jul/2023 10:58:08] \"GET /socket.io/?EIO=4&transport=polling&t=OcOVzei&sid=90N7u7mPnWsrczdSAADm HTTP/1.1\" 200 -\n",
      "127.0.0.1 - - [27/Jul/2023 10:58:08] \"POST /socket.io/?EIO=4&transport=polling&t=OcOW3lh&sid=90N7u7mPnWsrczdSAADm HTTP/1.1\" 200 -\n",
      "127.0.0.1 - - [27/Jul/2023 10:58:08] \"GET /socket.io/?EIO=4&transport=polling&t=OcOVzf9&sid=zajIOkYDgJs2mBW6AADn HTTP/1.1\" 200 -\n",
      "127.0.0.1 - - [27/Jul/2023 10:58:08] \"POST /socket.io/?EIO=4&transport=polling&t=OcOW3l-&sid=zajIOkYDgJs2mBW6AADn HTTP/1.1\" 200 -\n",
      "127.0.0.1 - - [27/Jul/2023 10:58:33] \"GET /socket.io/?EIO=4&transport=polling&t=OcOW3lj&sid=90N7u7mPnWsrczdSAADm HTTP/1.1\" 200 -\n",
      "127.0.0.1 - - [27/Jul/2023 10:58:33] \"GET /socket.io/?EIO=4&transport=polling&t=OcOW3m0&sid=zajIOkYDgJs2mBW6AADn HTTP/1.1\" 200 -\n",
      "127.0.0.1 - - [27/Jul/2023 10:58:33] \"POST /socket.io/?EIO=4&transport=polling&t=OcOW9t0&sid=90N7u7mPnWsrczdSAADm HTTP/1.1\" 200 -\n",
      "127.0.0.1 - - [27/Jul/2023 10:58:33] \"POST /socket.io/?EIO=4&transport=polling&t=OcOW9tF&sid=zajIOkYDgJs2mBW6AADn HTTP/1.1\" 200 -\n",
      "127.0.0.1 - - [27/Jul/2023 11:14:56] \"GET /socket.io/?EIO=4&transport=polling&t=OcOW9t4&sid=90N7u7mPnWsrczdSAADm HTTP/1.1\" 200 -\n",
      "127.0.0.1 - - [27/Jul/2023 11:14:56] \"GET /socket.io/?EIO=4&transport=polling&t=OcOW9tI&sid=zajIOkYDgJs2mBW6AADn HTTP/1.1\" 200 -\n",
      "127.0.0.1 - - [27/Jul/2023 11:14:56] \"POST /socket.io/?EIO=4&transport=polling&t=OcOZvuD&sid=90N7u7mPnWsrczdSAADm HTTP/1.1\" 200 -\n",
      "127.0.0.1 - - [27/Jul/2023 11:14:56] \"POST /socket.io/?EIO=4&transport=polling&t=OcOZvuS&sid=zajIOkYDgJs2mBW6AADn HTTP/1.1\" 200 -\n",
      "127.0.0.1 - - [27/Jul/2023 11:15:21] \"GET /socket.io/?EIO=4&transport=polling&t=OcOZvuG&sid=90N7u7mPnWsrczdSAADm HTTP/1.1\" 200 -\n",
      "127.0.0.1 - - [27/Jul/2023 11:15:21] \"POST /socket.io/?EIO=4&transport=polling&t=OcOZ__S&sid=90N7u7mPnWsrczdSAADm HTTP/1.1\" 200 -\n",
      "127.0.0.1 - - [27/Jul/2023 11:15:21] \"GET /socket.io/?EIO=4&transport=polling&t=OcOZvuV&sid=zajIOkYDgJs2mBW6AADn HTTP/1.1\" 200 -\n",
      "127.0.0.1 - - [27/Jul/2023 11:15:21] \"POST /socket.io/?EIO=4&transport=polling&t=OcOZ__c&sid=zajIOkYDgJs2mBW6AADn HTTP/1.1\" 200 -\n",
      "127.0.0.1 - - [27/Jul/2023 11:33:02] \"GET /socket.io/?EIO=4&transport=polling&t=OcOZ__T&sid=90N7u7mPnWsrczdSAADm HTTP/1.1\" 200 -\n",
      "127.0.0.1 - - [27/Jul/2023 11:33:02] \"GET /socket.io/?EIO=4&transport=polling&t=OcOZ__d&sid=zajIOkYDgJs2mBW6AADn HTTP/1.1\" 200 -\n",
      "127.0.0.1 - - [27/Jul/2023 11:33:02] \"POST /socket.io/?EIO=4&transport=polling&t=OcOe2_o&sid=90N7u7mPnWsrczdSAADm HTTP/1.1\" 200 -\n",
      "127.0.0.1 - - [27/Jul/2023 11:33:02] \"POST /socket.io/?EIO=4&transport=polling&t=OcOe2__&sid=zajIOkYDgJs2mBW6AADn HTTP/1.1\" 200 -\n",
      "127.0.0.1 - - [27/Jul/2023 11:33:27] \"GET /socket.io/?EIO=4&transport=polling&t=OcOe2_r&sid=90N7u7mPnWsrczdSAADm HTTP/1.1\" 200 -\n",
      "127.0.0.1 - - [27/Jul/2023 11:33:27] \"GET /socket.io/?EIO=4&transport=polling&t=OcOe302&sid=zajIOkYDgJs2mBW6AADn HTTP/1.1\" 200 -\n",
      "127.0.0.1 - - [27/Jul/2023 11:33:27] \"POST /socket.io/?EIO=4&transport=polling&t=OcOe96l&sid=90N7u7mPnWsrczdSAADm HTTP/1.1\" 200 -\n",
      "127.0.0.1 - - [27/Jul/2023 11:33:27] \"POST /socket.io/?EIO=4&transport=polling&t=OcOe96s&sid=zajIOkYDgJs2mBW6AADn HTTP/1.1\" 200 -\n",
      "127.0.0.1 - - [27/Jul/2023 11:33:52] \"GET /socket.io/?EIO=4&transport=polling&t=OcOe96t&sid=zajIOkYDgJs2mBW6AADn HTTP/1.1\" 200 -\n",
      "127.0.0.1 - - [27/Jul/2023 11:33:52] \"GET /socket.io/?EIO=4&transport=polling&t=OcOe96m&sid=90N7u7mPnWsrczdSAADm HTTP/1.1\" 200 -\n",
      "127.0.0.1 - - [27/Jul/2023 11:33:52] \"POST /socket.io/?EIO=4&transport=polling&t=OcOeFDg&sid=zajIOkYDgJs2mBW6AADn HTTP/1.1\" 200 -\n",
      "127.0.0.1 - - [27/Jul/2023 11:33:52] \"POST /socket.io/?EIO=4&transport=polling&t=OcOeFDi&sid=90N7u7mPnWsrczdSAADm HTTP/1.1\" 200 -\n",
      "127.0.0.1 - - [27/Jul/2023 11:50:08] \"GET /socket.io/?EIO=4&transport=polling&t=OcOeFDh&sid=zajIOkYDgJs2mBW6AADn HTTP/1.1\" 200 -\n",
      "127.0.0.1 - - [27/Jul/2023 11:50:08] \"GET /socket.io/?EIO=4&transport=polling&t=OcOeFDj&sid=90N7u7mPnWsrczdSAADm HTTP/1.1\" 200 -\n",
      "127.0.0.1 - - [27/Jul/2023 11:50:08] \"POST /socket.io/?EIO=4&transport=polling&t=OcOhzge&sid=zajIOkYDgJs2mBW6AADn HTTP/1.1\" 200 -\n",
      "127.0.0.1 - - [27/Jul/2023 11:50:08] \"POST /socket.io/?EIO=4&transport=polling&t=OcOhzgf&sid=90N7u7mPnWsrczdSAADm HTTP/1.1\" 200 -\n",
      "127.0.0.1 - - [27/Jul/2023 11:50:34] \"GET /socket.io/?EIO=4&transport=polling&t=OcOhzgf&sid=zajIOkYDgJs2mBW6AADn HTTP/1.1\" 200 -\n",
      "127.0.0.1 - - [27/Jul/2023 11:50:34] \"GET /socket.io/?EIO=4&transport=polling&t=OcOhzgf.0&sid=90N7u7mPnWsrczdSAADm HTTP/1.1\" 200 -\n",
      "127.0.0.1 - - [27/Jul/2023 11:50:34] \"POST /socket.io/?EIO=4&transport=polling&t=OcOi3-Q&sid=90N7u7mPnWsrczdSAADm HTTP/1.1\" 200 -\n",
      "127.0.0.1 - - [27/Jul/2023 11:50:34] \"POST /socket.io/?EIO=4&transport=polling&t=OcOi3-P&sid=zajIOkYDgJs2mBW6AADn HTTP/1.1\" 200 -\n",
      "127.0.0.1 - - [27/Jul/2023 12:08:21] \"GET /socket.io/?EIO=4&transport=polling&t=OcOi3-R&sid=90N7u7mPnWsrczdSAADm HTTP/1.1\" 200 -\n",
      "127.0.0.1 - - [27/Jul/2023 12:08:21] \"GET /socket.io/?EIO=4&transport=polling&t=OcOi3-Q&sid=zajIOkYDgJs2mBW6AADn HTTP/1.1\" 200 -\n",
      "127.0.0.1 - - [27/Jul/2023 12:08:21] \"POST /socket.io/?EIO=4&transport=polling&t=OcOm8JP&sid=90N7u7mPnWsrczdSAADm HTTP/1.1\" 200 -\n",
      "127.0.0.1 - - [27/Jul/2023 12:08:21] \"POST /socket.io/?EIO=4&transport=polling&t=OcOm8JP&sid=zajIOkYDgJs2mBW6AADn HTTP/1.1\" 200 -\n",
      "127.0.0.1 - - [27/Jul/2023 12:08:46] \"GET /socket.io/?EIO=4&transport=polling&t=OcOm8JQ&sid=zajIOkYDgJs2mBW6AADn HTTP/1.1\" 200 -\n",
      "127.0.0.1 - - [27/Jul/2023 12:08:46] \"GET /socket.io/?EIO=4&transport=polling&t=OcOm8JQ&sid=90N7u7mPnWsrczdSAADm HTTP/1.1\" 200 -\n",
      "127.0.0.1 - - [27/Jul/2023 12:08:46] \"POST /socket.io/?EIO=4&transport=polling&t=OcOmEQL&sid=zajIOkYDgJs2mBW6AADn HTTP/1.1\" 200 -\n",
      "127.0.0.1 - - [27/Jul/2023 12:08:46] \"POST /socket.io/?EIO=4&transport=polling&t=OcOmEQL&sid=90N7u7mPnWsrczdSAADm HTTP/1.1\" 200 -\n",
      "127.0.0.1 - - [27/Jul/2023 13:22:31] \"GET /socket.io/?EIO=4&transport=polling&t=OcOmEQM&sid=zajIOkYDgJs2mBW6AADn HTTP/1.1\" 200 -\n",
      "127.0.0.1 - - [27/Jul/2023 13:22:31] \"GET /socket.io/?EIO=4&transport=polling&t=OcOmEQM&sid=90N7u7mPnWsrczdSAADm HTTP/1.1\" 200 -\n",
      "127.0.0.1 - - [27/Jul/2023 13:22:31] \"POST /socket.io/?EIO=4&transport=polling&t=OcP16pM&sid=zajIOkYDgJs2mBW6AADn HTTP/1.1\" 200 -\n",
      "127.0.0.1 - - [27/Jul/2023 13:22:31] \"POST /socket.io/?EIO=4&transport=polling&t=OcP16pQ&sid=90N7u7mPnWsrczdSAADm HTTP/1.1\" 200 -\n",
      "127.0.0.1 - - [27/Jul/2023 13:22:56] \"GET /socket.io/?EIO=4&transport=polling&t=OcP16pN&sid=zajIOkYDgJs2mBW6AADn HTTP/1.1\" 200 -\n",
      "127.0.0.1 - - [27/Jul/2023 13:22:56] \"GET /socket.io/?EIO=4&transport=polling&t=OcP16pR&sid=90N7u7mPnWsrczdSAADm HTTP/1.1\" 200 -\n",
      "127.0.0.1 - - [27/Jul/2023 13:22:56] \"POST /socket.io/?EIO=4&transport=polling&t=OcP1CwM&sid=zajIOkYDgJs2mBW6AADn HTTP/1.1\" 200 -\n",
      "127.0.0.1 - - [27/Jul/2023 13:22:56] \"POST /socket.io/?EIO=4&transport=polling&t=OcP1CwP&sid=90N7u7mPnWsrczdSAADm HTTP/1.1\" 200 -\n",
      "127.0.0.1 - - [27/Jul/2023 13:23:21] \"GET /socket.io/?EIO=4&transport=polling&t=OcP1CwN&sid=zajIOkYDgJs2mBW6AADn HTTP/1.1\" 200 -\n",
      "127.0.0.1 - - [27/Jul/2023 13:23:21] \"GET /socket.io/?EIO=4&transport=polling&t=OcP1CwQ&sid=90N7u7mPnWsrczdSAADm HTTP/1.1\" 200 -\n",
      "127.0.0.1 - - [27/Jul/2023 13:23:21] \"POST /socket.io/?EIO=4&transport=polling&t=OcP1J1A&sid=zajIOkYDgJs2mBW6AADn HTTP/1.1\" 200 -\n",
      "127.0.0.1 - - [27/Jul/2023 13:23:21] \"POST /socket.io/?EIO=4&transport=polling&t=OcP1J1D&sid=90N7u7mPnWsrczdSAADm HTTP/1.1\" 200 -\n",
      "127.0.0.1 - - [27/Jul/2023 14:28:21] \"GET /socket.io/?EIO=4&transport=polling&t=OcP1J1B&sid=zajIOkYDgJs2mBW6AADn HTTP/1.1\" 200 -\n",
      "127.0.0.1 - - [27/Jul/2023 14:28:21] \"GET /socket.io/?EIO=4&transport=polling&t=OcP1J1E&sid=90N7u7mPnWsrczdSAADm HTTP/1.1\" 200 -\n",
      "127.0.0.1 - - [27/Jul/2023 14:28:21] \"POST /socket.io/?EIO=4&transport=polling&t=OcPGB7x&sid=90N7u7mPnWsrczdSAADm HTTP/1.1\" 200 -\n",
      "127.0.0.1 - - [27/Jul/2023 14:28:21] \"POST /socket.io/?EIO=4&transport=polling&t=OcPGB7w&sid=zajIOkYDgJs2mBW6AADn HTTP/1.1\" 200 -\n",
      "127.0.0.1 - - [27/Jul/2023 14:28:46] \"GET /socket.io/?EIO=4&transport=polling&t=OcPGB7x&sid=zajIOkYDgJs2mBW6AADn HTTP/1.1\" 200 -\n",
      "127.0.0.1 - - [27/Jul/2023 14:28:46] \"GET /socket.io/?EIO=4&transport=polling&t=OcPGB7y&sid=90N7u7mPnWsrczdSAADm HTTP/1.1\" 200 -\n",
      "127.0.0.1 - - [27/Jul/2023 14:28:46] \"POST /socket.io/?EIO=4&transport=polling&t=OcPGHEv&sid=zajIOkYDgJs2mBW6AADn HTTP/1.1\" 200 -\n",
      "127.0.0.1 - - [27/Jul/2023 14:28:46] \"POST /socket.io/?EIO=4&transport=polling&t=OcPGHEx&sid=90N7u7mPnWsrczdSAADm HTTP/1.1\" 200 -\n",
      "127.0.0.1 - - [27/Jul/2023 15:34:49] \"GET /socket.io/?EIO=4&transport=polling&t=OcPGHEx&sid=zajIOkYDgJs2mBW6AADn HTTP/1.1\" 200 -\n",
      "127.0.0.1 - - [27/Jul/2023 15:34:49] \"GET /socket.io/?EIO=4&transport=polling&t=OcPGHEy&sid=90N7u7mPnWsrczdSAADm HTTP/1.1\" 200 -\n",
      "127.0.0.1 - - [27/Jul/2023 15:34:50] \"POST /socket.io/?EIO=4&transport=polling&t=OcPVOyB&sid=zajIOkYDgJs2mBW6AADn HTTP/1.1\" 200 -\n",
      "127.0.0.1 - - [27/Jul/2023 15:34:50] \"POST /socket.io/?EIO=4&transport=polling&t=OcPVOyJ&sid=90N7u7mPnWsrczdSAADm HTTP/1.1\" 200 -\n",
      "127.0.0.1 - - [27/Jul/2023 15:35:15] \"GET /socket.io/?EIO=4&transport=polling&t=OcPVOyE&sid=zajIOkYDgJs2mBW6AADn HTTP/1.1\" 200 -\n",
      "127.0.0.1 - - [27/Jul/2023 15:35:15] \"GET /socket.io/?EIO=4&transport=polling&t=OcPVOyN&sid=90N7u7mPnWsrczdSAADm HTTP/1.1\" 200 -\n",
      "127.0.0.1 - - [27/Jul/2023 15:35:15] \"POST /socket.io/?EIO=4&transport=polling&t=OcPVV3Q&sid=zajIOkYDgJs2mBW6AADn HTTP/1.1\" 200 -\n",
      "127.0.0.1 - - [27/Jul/2023 15:35:15] \"POST /socket.io/?EIO=4&transport=polling&t=OcPVV3T&sid=90N7u7mPnWsrczdSAADm HTTP/1.1\" 200 -\n",
      "127.0.0.1 - - [27/Jul/2023 15:47:07] \"GET /socket.io/?EIO=4&transport=polling&t=OcPVV3R&sid=zajIOkYDgJs2mBW6AADn HTTP/1.1\" 200 -\n",
      "127.0.0.1 - - [27/Jul/2023 15:47:07] \"GET /socket.io/?EIO=4&transport=polling&t=OcPVV3T.0&sid=90N7u7mPnWsrczdSAADm HTTP/1.1\" 200 -\n",
      "127.0.0.1 - - [27/Jul/2023 15:47:07] \"POST /socket.io/?EIO=4&transport=polling&t=OcPYD1K&sid=zajIOkYDgJs2mBW6AADn HTTP/1.1\" 200 -\n",
      "127.0.0.1 - - [27/Jul/2023 15:47:07] \"POST /socket.io/?EIO=4&transport=polling&t=OcPYD1P&sid=90N7u7mPnWsrczdSAADm HTTP/1.1\" 200 -\n",
      "127.0.0.1 - - [27/Jul/2023 15:47:32] \"GET /socket.io/?EIO=4&transport=polling&t=OcPYD1M&sid=zajIOkYDgJs2mBW6AADn HTTP/1.1\" 200 -\n",
      "127.0.0.1 - - [27/Jul/2023 15:47:32] \"GET /socket.io/?EIO=4&transport=polling&t=OcPYD1T&sid=90N7u7mPnWsrczdSAADm HTTP/1.1\" 200 -\n",
      "127.0.0.1 - - [27/Jul/2023 15:47:32] \"POST /socket.io/?EIO=4&transport=polling&t=OcPYJ8H&sid=zajIOkYDgJs2mBW6AADn HTTP/1.1\" 200 -\n",
      "127.0.0.1 - - [27/Jul/2023 15:47:32] \"POST /socket.io/?EIO=4&transport=polling&t=OcPYJ8U&sid=90N7u7mPnWsrczdSAADm HTTP/1.1\" 200 -\n",
      "127.0.0.1 - - [27/Jul/2023 15:59:25] \"GET /socket.io/?EIO=4&transport=polling&t=OcPYJ8I&sid=zajIOkYDgJs2mBW6AADn HTTP/1.1\" 200 -\n",
      "127.0.0.1 - - [27/Jul/2023 15:59:25] \"GET /socket.io/?EIO=4&transport=polling&t=OcPYJ8V&sid=90N7u7mPnWsrczdSAADm HTTP/1.1\" 200 -\n",
      "127.0.0.1 - - [27/Jul/2023 15:59:25] \"POST /socket.io/?EIO=4&transport=polling&t=OcPb1DX&sid=zajIOkYDgJs2mBW6AADn HTTP/1.1\" 200 -\n",
      "127.0.0.1 - - [27/Jul/2023 15:59:25] \"POST /socket.io/?EIO=4&transport=polling&t=OcPb1Dr&sid=90N7u7mPnWsrczdSAADm HTTP/1.1\" 200 -\n",
      "127.0.0.1 - - [27/Jul/2023 15:59:50] \"GET /socket.io/?EIO=4&transport=polling&t=OcPb1Da&sid=zajIOkYDgJs2mBW6AADn HTTP/1.1\" 200 -\n",
      "127.0.0.1 - - [27/Jul/2023 15:59:50] \"POST /socket.io/?EIO=4&transport=polling&t=OcPb7KZ&sid=zajIOkYDgJs2mBW6AADn HTTP/1.1\" 200 -\n",
      "127.0.0.1 - - [27/Jul/2023 15:59:50] \"GET /socket.io/?EIO=4&transport=polling&t=OcPb1Du&sid=90N7u7mPnWsrczdSAADm HTTP/1.1\" 200 -\n",
      "127.0.0.1 - - [27/Jul/2023 15:59:50] \"POST /socket.io/?EIO=4&transport=polling&t=OcPb7Kw&sid=90N7u7mPnWsrczdSAADm HTTP/1.1\" 200 -\n",
      "127.0.0.1 - - [27/Jul/2023 16:29:12] \"GET /socket.io/?EIO=4&transport=polling&t=OcPb7Ka&sid=zajIOkYDgJs2mBW6AADn HTTP/1.1\" 200 -\n",
      "127.0.0.1 - - [27/Jul/2023 16:29:12] \"POST /socket.io/?EIO=4&transport=polling&t=OcPhrXW&sid=zajIOkYDgJs2mBW6AADn HTTP/1.1\" 200 -\n",
      "127.0.0.1 - - [27/Jul/2023 16:29:12] \"GET /socket.io/?EIO=4&transport=polling&t=OcPb7Kx&sid=90N7u7mPnWsrczdSAADm HTTP/1.1\" 200 -\n",
      "127.0.0.1 - - [27/Jul/2023 16:29:12] \"POST /socket.io/?EIO=4&transport=polling&t=OcPhrXw&sid=90N7u7mPnWsrczdSAADm HTTP/1.1\" 200 -\n",
      "127.0.0.1 - - [27/Jul/2023 16:29:37] \"GET /socket.io/?EIO=4&transport=polling&t=OcPhrXZ&sid=zajIOkYDgJs2mBW6AADn HTTP/1.1\" 200 -\n",
      "127.0.0.1 - - [27/Jul/2023 16:29:37] \"POST /socket.io/?EIO=4&transport=polling&t=OcPhxeW&sid=zajIOkYDgJs2mBW6AADn HTTP/1.1\" 200 -\n",
      "127.0.0.1 - - [27/Jul/2023 16:29:37] \"GET /socket.io/?EIO=4&transport=polling&t=OcPhrXz&sid=90N7u7mPnWsrczdSAADm HTTP/1.1\" 200 -\n",
      "127.0.0.1 - - [27/Jul/2023 16:29:37] \"POST /socket.io/?EIO=4&transport=polling&t=OcPhxf4&sid=90N7u7mPnWsrczdSAADm HTTP/1.1\" 200 -\n",
      "127.0.0.1 - - [27/Jul/2023 16:41:30] \"GET /socket.io/?EIO=4&transport=polling&t=OcPhxeX&sid=zajIOkYDgJs2mBW6AADn HTTP/1.1\" 200 -\n",
      "127.0.0.1 - - [27/Jul/2023 16:41:30] \"POST /socket.io/?EIO=4&transport=polling&t=OcPkflX&sid=zajIOkYDgJs2mBW6AADn HTTP/1.1\" 200 -\n",
      "127.0.0.1 - - [27/Jul/2023 16:41:30] \"GET /socket.io/?EIO=4&transport=polling&t=OcPhxf5&sid=90N7u7mPnWsrczdSAADm HTTP/1.1\" 200 -\n",
      "127.0.0.1 - - [27/Jul/2023 16:41:31] \"POST /socket.io/?EIO=4&transport=polling&t=OcPkfl_&sid=90N7u7mPnWsrczdSAADm HTTP/1.1\" 200 -\n",
      "127.0.0.1 - - [27/Jul/2023 16:41:55] \"GET /socket.io/?EIO=4&transport=polling&t=OcPkfla&sid=zajIOkYDgJs2mBW6AADn HTTP/1.1\" 200 -\n",
      "127.0.0.1 - - [27/Jul/2023 16:41:56] \"POST /socket.io/?EIO=4&transport=polling&t=OcPklsZ&sid=zajIOkYDgJs2mBW6AADn HTTP/1.1\" 200 -\n",
      "127.0.0.1 - - [27/Jul/2023 16:41:56] \"GET /socket.io/?EIO=4&transport=polling&t=OcPkfm1&sid=90N7u7mPnWsrczdSAADm HTTP/1.1\" 200 -\n",
      "127.0.0.1 - - [27/Jul/2023 16:41:56] \"POST /socket.io/?EIO=4&transport=polling&t=OcPkls_&sid=90N7u7mPnWsrczdSAADm HTTP/1.1\" 200 -\n",
      "127.0.0.1 - - [27/Jul/2023 16:44:17] \"GET /socket.io/?EIO=4&transport=polling&t=OcPklsa&sid=zajIOkYDgJs2mBW6AADn HTTP/1.1\" 200 -\n",
      "127.0.0.1 - - [27/Jul/2023 16:44:17] \"GET /socket.io/?EIO=4&transport=polling&t=OcPklt0&sid=90N7u7mPnWsrczdSAADm HTTP/1.1\" 200 -\n",
      "127.0.0.1 - - [27/Jul/2023 16:44:17] \"POST /socket.io/?EIO=4&transport=polling&t=OcPlIK9&sid=zajIOkYDgJs2mBW6AADn HTTP/1.1\" 200 -\n",
      "127.0.0.1 - - [27/Jul/2023 16:44:17] \"POST /socket.io/?EIO=4&transport=polling&t=OcPlIKU&sid=90N7u7mPnWsrczdSAADm HTTP/1.1\" 200 -\n",
      "127.0.0.1 - - [27/Jul/2023 16:44:42] \"GET /socket.io/?EIO=4&transport=polling&t=OcPlIKC&sid=zajIOkYDgJs2mBW6AADn HTTP/1.1\" 200 -\n",
      "127.0.0.1 - - [27/Jul/2023 16:44:42] \"POST /socket.io/?EIO=4&transport=polling&t=OcPlOTK&sid=zajIOkYDgJs2mBW6AADn HTTP/1.1\" 200 -\n",
      "127.0.0.1 - - [27/Jul/2023 16:44:42] \"GET /socket.io/?EIO=4&transport=polling&t=OcPlIKX&sid=90N7u7mPnWsrczdSAADm HTTP/1.1\" 200 -\n",
      "127.0.0.1 - - [27/Jul/2023 16:44:42] \"POST /socket.io/?EIO=4&transport=polling&t=OcPlOTm&sid=90N7u7mPnWsrczdSAADm HTTP/1.1\" 200 -\n",
      "127.0.0.1 - - [27/Jul/2023 16:45:07] \"GET /socket.io/?EIO=4&transport=polling&t=OcPlOTL&sid=zajIOkYDgJs2mBW6AADn HTTP/1.1\" 200 -\n",
      "127.0.0.1 - - [27/Jul/2023 16:45:07] \"POST /socket.io/?EIO=4&transport=polling&t=OcPlUa6&sid=zajIOkYDgJs2mBW6AADn HTTP/1.1\" 200 -\n",
      "127.0.0.1 - - [27/Jul/2023 16:45:07] \"GET /socket.io/?EIO=4&transport=polling&t=OcPlOTn&sid=90N7u7mPnWsrczdSAADm HTTP/1.1\" 200 -\n",
      "127.0.0.1 - - [27/Jul/2023 16:45:07] \"POST /socket.io/?EIO=4&transport=polling&t=OcPlUaX&sid=90N7u7mPnWsrczdSAADm HTTP/1.1\" 200 -\n",
      "127.0.0.1 - - [27/Jul/2023 16:45:32] \"GET /socket.io/?EIO=4&transport=polling&t=OcPlUa8&sid=zajIOkYDgJs2mBW6AADn HTTP/1.1\" 200 -\n",
      "127.0.0.1 - - [27/Jul/2023 16:45:32] \"POST /socket.io/?EIO=4&transport=polling&t=OcPlagv&sid=zajIOkYDgJs2mBW6AADn HTTP/1.1\" 200 -\n",
      "127.0.0.1 - - [27/Jul/2023 16:45:32] \"GET /socket.io/?EIO=4&transport=polling&t=OcPlUaY&sid=90N7u7mPnWsrczdSAADm HTTP/1.1\" 200 -\n",
      "127.0.0.1 - - [27/Jul/2023 16:45:32] \"POST /socket.io/?EIO=4&transport=polling&t=OcPlahK&sid=90N7u7mPnWsrczdSAADm HTTP/1.1\" 200 -\n",
      "127.0.0.1 - - [27/Jul/2023 16:45:57] \"GET /socket.io/?EIO=4&transport=polling&t=OcPlagw&sid=zajIOkYDgJs2mBW6AADn HTTP/1.1\" 200 -\n",
      "127.0.0.1 - - [27/Jul/2023 16:45:57] \"POST /socket.io/?EIO=4&transport=polling&t=OcPlgnk&sid=zajIOkYDgJs2mBW6AADn HTTP/1.1\" 200 -\n",
      "127.0.0.1 - - [27/Jul/2023 16:45:57] \"GET /socket.io/?EIO=4&transport=polling&t=OcPlahL&sid=90N7u7mPnWsrczdSAADm HTTP/1.1\" 200 -\n",
      "127.0.0.1 - - [27/Jul/2023 16:45:57] \"POST /socket.io/?EIO=4&transport=polling&t=OcPlgo9&sid=90N7u7mPnWsrczdSAADm HTTP/1.1\" 200 -\n",
      "127.0.0.1 - - [27/Jul/2023 16:46:22] \"GET /socket.io/?EIO=4&transport=polling&t=OcPlgnl&sid=zajIOkYDgJs2mBW6AADn HTTP/1.1\" 200 -\n",
      "127.0.0.1 - - [27/Jul/2023 16:46:22] \"POST /socket.io/?EIO=4&transport=polling&t=OcPlmuW&sid=zajIOkYDgJs2mBW6AADn HTTP/1.1\" 200 -\n",
      "127.0.0.1 - - [27/Jul/2023 16:46:22] \"GET /socket.io/?EIO=4&transport=polling&t=OcPlgoA&sid=90N7u7mPnWsrczdSAADm HTTP/1.1\" 200 -\n",
      "127.0.0.1 - - [27/Jul/2023 16:46:22] \"POST /socket.io/?EIO=4&transport=polling&t=OcPlmu_&sid=90N7u7mPnWsrczdSAADm HTTP/1.1\" 200 -\n",
      "127.0.0.1 - - [27/Jul/2023 16:46:47] \"GET /socket.io/?EIO=4&transport=polling&t=OcPlmuW.0&sid=zajIOkYDgJs2mBW6AADn HTTP/1.1\" 200 -\n",
      "127.0.0.1 - - [27/Jul/2023 16:46:47] \"POST /socket.io/?EIO=4&transport=polling&t=OcPls_I&sid=zajIOkYDgJs2mBW6AADn HTTP/1.1\" 200 -\n",
      "127.0.0.1 - - [27/Jul/2023 16:46:47] \"GET /socket.io/?EIO=4&transport=polling&t=OcPlmv0&sid=90N7u7mPnWsrczdSAADm HTTP/1.1\" 200 -\n",
      "127.0.0.1 - - [27/Jul/2023 16:46:47] \"POST /socket.io/?EIO=4&transport=polling&t=OcPls_r&sid=90N7u7mPnWsrczdSAADm HTTP/1.1\" 200 -\n",
      "127.0.0.1 - - [27/Jul/2023 16:47:12] \"GET /socket.io/?EIO=4&transport=polling&t=OcPls_J&sid=zajIOkYDgJs2mBW6AADn HTTP/1.1\" 200 -\n",
      "127.0.0.1 - - [27/Jul/2023 16:47:12] \"POST /socket.io/?EIO=4&transport=polling&t=OcPlz63&sid=zajIOkYDgJs2mBW6AADn HTTP/1.1\" 200 -\n",
      "127.0.0.1 - - [27/Jul/2023 16:47:12] \"GET /socket.io/?EIO=4&transport=polling&t=OcPls_s&sid=90N7u7mPnWsrczdSAADm HTTP/1.1\" 200 -\n",
      "127.0.0.1 - - [27/Jul/2023 16:47:12] \"POST /socket.io/?EIO=4&transport=polling&t=OcPlz6c&sid=90N7u7mPnWsrczdSAADm HTTP/1.1\" 200 -\n",
      "127.0.0.1 - - [27/Jul/2023 16:47:37] \"GET /socket.io/?EIO=4&transport=polling&t=OcPlz64&sid=zajIOkYDgJs2mBW6AADn HTTP/1.1\" 200 -\n",
      "127.0.0.1 - - [27/Jul/2023 16:47:37] \"POST /socket.io/?EIO=4&transport=polling&t=OcPm3Cs&sid=zajIOkYDgJs2mBW6AADn HTTP/1.1\" 200 -\n",
      "127.0.0.1 - - [27/Jul/2023 16:47:37] \"GET /socket.io/?EIO=4&transport=polling&t=OcPlz6d&sid=90N7u7mPnWsrczdSAADm HTTP/1.1\" 200 -\n",
      "127.0.0.1 - - [27/Jul/2023 16:47:37] \"POST /socket.io/?EIO=4&transport=polling&t=OcPm3DS&sid=90N7u7mPnWsrczdSAADm HTTP/1.1\" 200 -\n",
      "127.0.0.1 - - [27/Jul/2023 16:48:02] \"GET /socket.io/?EIO=4&transport=polling&t=OcPm3Ct&sid=zajIOkYDgJs2mBW6AADn HTTP/1.1\" 200 -\n",
      "127.0.0.1 - - [27/Jul/2023 16:48:02] \"POST /socket.io/?EIO=4&transport=polling&t=OcPm9Ji&sid=zajIOkYDgJs2mBW6AADn HTTP/1.1\" 200 -\n",
      "127.0.0.1 - - [27/Jul/2023 16:48:02] \"GET /socket.io/?EIO=4&transport=polling&t=OcPm3DT&sid=90N7u7mPnWsrczdSAADm HTTP/1.1\" 200 -\n",
      "127.0.0.1 - - [27/Jul/2023 16:48:02] \"POST /socket.io/?EIO=4&transport=polling&t=OcPm9KF&sid=90N7u7mPnWsrczdSAADm HTTP/1.1\" 200 -\n",
      "127.0.0.1 - - [27/Jul/2023 16:48:27] \"GET /socket.io/?EIO=4&transport=polling&t=OcPm9Jj&sid=zajIOkYDgJs2mBW6AADn HTTP/1.1\" 200 -\n",
      "127.0.0.1 - - [27/Jul/2023 16:48:27] \"POST /socket.io/?EIO=4&transport=polling&t=OcPmFQU&sid=zajIOkYDgJs2mBW6AADn HTTP/1.1\" 200 -\n",
      "127.0.0.1 - - [27/Jul/2023 16:48:27] \"GET /socket.io/?EIO=4&transport=polling&t=OcPm9KG&sid=90N7u7mPnWsrczdSAADm HTTP/1.1\" 200 -\n",
      "127.0.0.1 - - [27/Jul/2023 16:48:27] \"POST /socket.io/?EIO=4&transport=polling&t=OcPmFR4&sid=90N7u7mPnWsrczdSAADm HTTP/1.1\" 200 -\n",
      "127.0.0.1 - - [27/Jul/2023 16:48:52] \"GET /socket.io/?EIO=4&transport=polling&t=OcPmFQV&sid=zajIOkYDgJs2mBW6AADn HTTP/1.1\" 200 -\n",
      "127.0.0.1 - - [27/Jul/2023 16:48:52] \"POST /socket.io/?EIO=4&transport=polling&t=OcPmLXF&sid=zajIOkYDgJs2mBW6AADn HTTP/1.1\" 200 -\n",
      "127.0.0.1 - - [27/Jul/2023 16:48:52] \"GET /socket.io/?EIO=4&transport=polling&t=OcPmFR5&sid=90N7u7mPnWsrczdSAADm HTTP/1.1\" 200 -\n",
      "127.0.0.1 - - [27/Jul/2023 16:48:52] \"POST /socket.io/?EIO=4&transport=polling&t=OcPmLXu&sid=90N7u7mPnWsrczdSAADm HTTP/1.1\" 200 -\n",
      "127.0.0.1 - - [27/Jul/2023 16:49:17] \"GET /socket.io/?EIO=4&transport=polling&t=OcPmLXG&sid=zajIOkYDgJs2mBW6AADn HTTP/1.1\" 200 -\n",
      "127.0.0.1 - - [27/Jul/2023 16:49:17] \"POST /socket.io/?EIO=4&transport=polling&t=OcPmRe3&sid=zajIOkYDgJs2mBW6AADn HTTP/1.1\" 200 -\n",
      "127.0.0.1 - - [27/Jul/2023 16:49:17] \"GET /socket.io/?EIO=4&transport=polling&t=OcPmLXv&sid=90N7u7mPnWsrczdSAADm HTTP/1.1\" 200 -\n",
      "127.0.0.1 - - [27/Jul/2023 16:49:17] \"POST /socket.io/?EIO=4&transport=polling&t=OcPmRej&sid=90N7u7mPnWsrczdSAADm HTTP/1.1\" 200 -\n",
      "127.0.0.1 - - [27/Jul/2023 16:49:42] \"GET /socket.io/?EIO=4&transport=polling&t=OcPmRe4&sid=zajIOkYDgJs2mBW6AADn HTTP/1.1\" 200 -\n",
      "127.0.0.1 - - [27/Jul/2023 16:49:42] \"POST /socket.io/?EIO=4&transport=polling&t=OcPmXko&sid=zajIOkYDgJs2mBW6AADn HTTP/1.1\" 200 -\n",
      "127.0.0.1 - - [27/Jul/2023 16:49:42] \"GET /socket.io/?EIO=4&transport=polling&t=OcPmRek&sid=90N7u7mPnWsrczdSAADm HTTP/1.1\" 200 -\n",
      "127.0.0.1 - - [27/Jul/2023 16:49:42] \"POST /socket.io/?EIO=4&transport=polling&t=OcPmXlX&sid=90N7u7mPnWsrczdSAADm HTTP/1.1\" 200 -\n",
      "127.0.0.1 - - [27/Jul/2023 16:50:07] \"GET /socket.io/?EIO=4&transport=polling&t=OcPmXkp&sid=zajIOkYDgJs2mBW6AADn HTTP/1.1\" 200 -\n",
      "127.0.0.1 - - [27/Jul/2023 16:50:07] \"POST /socket.io/?EIO=4&transport=polling&t=OcPmdrX&sid=zajIOkYDgJs2mBW6AADn HTTP/1.1\" 200 -\n",
      "127.0.0.1 - - [27/Jul/2023 16:50:07] \"GET /socket.io/?EIO=4&transport=polling&t=OcPmXlY&sid=90N7u7mPnWsrczdSAADm HTTP/1.1\" 200 -\n",
      "127.0.0.1 - - [27/Jul/2023 16:50:07] \"POST /socket.io/?EIO=4&transport=polling&t=OcPmdsG&sid=90N7u7mPnWsrczdSAADm HTTP/1.1\" 200 -\n",
      "127.0.0.1 - - [27/Jul/2023 16:50:32] \"GET /socket.io/?EIO=4&transport=polling&t=OcPmdrY&sid=zajIOkYDgJs2mBW6AADn HTTP/1.1\" 200 -\n",
      "127.0.0.1 - - [27/Jul/2023 16:50:32] \"POST /socket.io/?EIO=4&transport=polling&t=OcPmjyN&sid=zajIOkYDgJs2mBW6AADn HTTP/1.1\" 200 -\n",
      "127.0.0.1 - - [27/Jul/2023 16:50:32] \"GET /socket.io/?EIO=4&transport=polling&t=OcPmdsH&sid=90N7u7mPnWsrczdSAADm HTTP/1.1\" 200 -\n",
      "127.0.0.1 - - [27/Jul/2023 16:50:32] \"POST /socket.io/?EIO=4&transport=polling&t=OcPmjz7&sid=90N7u7mPnWsrczdSAADm HTTP/1.1\" 200 -\n",
      "127.0.0.1 - - [27/Jul/2023 16:50:57] \"GET /socket.io/?EIO=4&transport=polling&t=OcPmjyO&sid=zajIOkYDgJs2mBW6AADn HTTP/1.1\" 200 -\n",
      "127.0.0.1 - - [27/Jul/2023 16:50:57] \"POST /socket.io/?EIO=4&transport=polling&t=OcPmq3A&sid=zajIOkYDgJs2mBW6AADn HTTP/1.1\" 200 -\n",
      "127.0.0.1 - - [27/Jul/2023 16:50:57] \"GET /socket.io/?EIO=4&transport=polling&t=OcPmjz8&sid=90N7u7mPnWsrczdSAADm HTTP/1.1\" 200 -\n",
      "127.0.0.1 - - [27/Jul/2023 16:50:57] \"POST /socket.io/?EIO=4&transport=polling&t=OcPmq3u&sid=90N7u7mPnWsrczdSAADm HTTP/1.1\" 200 -\n",
      "127.0.0.1 - - [27/Jul/2023 16:51:22] \"GET /socket.io/?EIO=4&transport=polling&t=OcPmq3B&sid=zajIOkYDgJs2mBW6AADn HTTP/1.1\" 200 -\n",
      "127.0.0.1 - - [27/Jul/2023 16:51:22] \"POST /socket.io/?EIO=4&transport=polling&t=OcPmwA2&sid=zajIOkYDgJs2mBW6AADn HTTP/1.1\" 200 -\n",
      "127.0.0.1 - - [27/Jul/2023 16:51:22] \"GET /socket.io/?EIO=4&transport=polling&t=OcPmq3v&sid=90N7u7mPnWsrczdSAADm HTTP/1.1\" 200 -\n",
      "127.0.0.1 - - [27/Jul/2023 16:51:22] \"POST /socket.io/?EIO=4&transport=polling&t=OcPmwAh&sid=90N7u7mPnWsrczdSAADm HTTP/1.1\" 200 -\n",
      "127.0.0.1 - - [27/Jul/2023 16:51:47] \"GET /socket.io/?EIO=4&transport=polling&t=OcPmwA3&sid=zajIOkYDgJs2mBW6AADn HTTP/1.1\" 200 -\n",
      "127.0.0.1 - - [27/Jul/2023 16:51:47] \"POST /socket.io/?EIO=4&transport=polling&t=OcPn0Gr&sid=zajIOkYDgJs2mBW6AADn HTTP/1.1\" 200 -\n",
      "127.0.0.1 - - [27/Jul/2023 16:51:47] \"GET /socket.io/?EIO=4&transport=polling&t=OcPmwAh.0&sid=90N7u7mPnWsrczdSAADm HTTP/1.1\" 200 -\n",
      "127.0.0.1 - - [27/Jul/2023 16:51:47] \"POST /socket.io/?EIO=4&transport=polling&t=OcPn0HV&sid=90N7u7mPnWsrczdSAADm HTTP/1.1\" 200 -\n",
      "127.0.0.1 - - [27/Jul/2023 16:52:12] \"GET /socket.io/?EIO=4&transport=polling&t=OcPn0Gs&sid=zajIOkYDgJs2mBW6AADn HTTP/1.1\" 200 -\n",
      "127.0.0.1 - - [27/Jul/2023 16:52:12] \"POST /socket.io/?EIO=4&transport=polling&t=OcPn6Nf&sid=zajIOkYDgJs2mBW6AADn HTTP/1.1\" 200 -\n",
      "127.0.0.1 - - [27/Jul/2023 16:52:12] \"GET /socket.io/?EIO=4&transport=polling&t=OcPn0HW&sid=90N7u7mPnWsrczdSAADm HTTP/1.1\" 200 -\n",
      "127.0.0.1 - - [27/Jul/2023 16:52:12] \"POST /socket.io/?EIO=4&transport=polling&t=OcPn6OS&sid=90N7u7mPnWsrczdSAADm HTTP/1.1\" 200 -\n",
      "127.0.0.1 - - [27/Jul/2023 16:52:37] \"GET /socket.io/?EIO=4&transport=polling&t=OcPn6Ng&sid=zajIOkYDgJs2mBW6AADn HTTP/1.1\" 200 -\n",
      "127.0.0.1 - - [27/Jul/2023 16:52:37] \"POST /socket.io/?EIO=4&transport=polling&t=OcPnCUT&sid=zajIOkYDgJs2mBW6AADn HTTP/1.1\" 200 -\n",
      "127.0.0.1 - - [27/Jul/2023 16:52:37] \"GET /socket.io/?EIO=4&transport=polling&t=OcPn6OT&sid=90N7u7mPnWsrczdSAADm HTTP/1.1\" 200 -\n",
      "127.0.0.1 - - [27/Jul/2023 16:52:37] \"POST /socket.io/?EIO=4&transport=polling&t=OcPnCVE&sid=90N7u7mPnWsrczdSAADm HTTP/1.1\" 200 -\n",
      "127.0.0.1 - - [27/Jul/2023 16:53:02] \"GET /socket.io/?EIO=4&transport=polling&t=OcPnCUU&sid=zajIOkYDgJs2mBW6AADn HTTP/1.1\" 200 -\n",
      "127.0.0.1 - - [27/Jul/2023 16:53:02] \"POST /socket.io/?EIO=4&transport=polling&t=OcPnIbI&sid=zajIOkYDgJs2mBW6AADn HTTP/1.1\" 200 -\n",
      "127.0.0.1 - - [27/Jul/2023 16:53:02] \"GET /socket.io/?EIO=4&transport=polling&t=OcPnCVF&sid=90N7u7mPnWsrczdSAADm HTTP/1.1\" 200 -\n",
      "127.0.0.1 - - [27/Jul/2023 16:53:02] \"POST /socket.io/?EIO=4&transport=polling&t=OcPnIc5&sid=90N7u7mPnWsrczdSAADm HTTP/1.1\" 200 -\n",
      "127.0.0.1 - - [27/Jul/2023 16:53:13] \"POST /socket.io/?EIO=4&transport=polling&t=OcPnL8O&sid=90N7u7mPnWsrczdSAADm HTTP/1.1\" 200 -\n",
      "127.0.0.1 - - [27/Jul/2023 16:53:13] \"POST /socket.io/?EIO=4&transport=polling&t=OcPnL8W&sid=zajIOkYDgJs2mBW6AADn HTTP/1.1\" 200 -\n",
      "127.0.0.1 - - [27/Jul/2023 16:53:13] \"GET /socket.io/?EIO=4&transport=polling&t=OcPnIc6&sid=90N7u7mPnWsrczdSAADm HTTP/1.1\" 200 -\n",
      "127.0.0.1 - - [27/Jul/2023 16:53:13] \"GET /socket.io/?EIO=4&transport=polling&t=OcPnIbJ&sid=zajIOkYDgJs2mBW6AADn HTTP/1.1\" 200 -\n",
      "127.0.0.1 - - [27/Jul/2023 16:53:14] \"GET /socket.io/?EIO=4&transport=polling&t=OcPnLWJ HTTP/1.1\" 200 -\n",
      "127.0.0.1 - - [27/Jul/2023 16:53:14] \"POST /socket.io/?EIO=4&transport=polling&t=OcPnLWQ&sid=_W7U2cyJozFdNEYIAADq HTTP/1.1\" 200 -\n",
      "127.0.0.1 - - [27/Jul/2023 16:53:14] \"GET /socket.io/?EIO=4&transport=polling&t=OcPnLWJ HTTP/1.1\" 200 -\n",
      "127.0.0.1 - - [27/Jul/2023 16:53:14] \"GET /socket.io/?EIO=4&transport=polling&t=OcPnLWR&sid=_W7U2cyJozFdNEYIAADq HTTP/1.1\" 200 -\n",
      "127.0.0.1 - - [27/Jul/2023 16:53:14] \"POST /socket.io/?EIO=4&transport=polling&t=OcPnLWa&sid=3vGHbTCqIrPExUGeAADs HTTP/1.1\" 200 -\n",
      "127.0.0.1 - - [27/Jul/2023 16:53:14] \"GET /socket.io/?EIO=4&transport=polling&t=OcPnLWb&sid=3vGHbTCqIrPExUGeAADs HTTP/1.1\" 200 -\n",
      "127.0.0.1 - - [27/Jul/2023 16:53:41] \"GET /socket.io/?EIO=4&transport=polling&t=OcPnLWc&sid=_W7U2cyJozFdNEYIAADq HTTP/1.1\" 200 -\n",
      "127.0.0.1 - - [27/Jul/2023 16:53:41] \"GET /socket.io/?EIO=4&transport=polling&t=OcPnLWl&sid=3vGHbTCqIrPExUGeAADs HTTP/1.1\" 200 -\n",
      "127.0.0.1 - - [27/Jul/2023 16:53:41] \"POST /socket.io/?EIO=4&transport=polling&t=OcPnSAY&sid=_W7U2cyJozFdNEYIAADq HTTP/1.1\" 200 -\n",
      "127.0.0.1 - - [27/Jul/2023 16:53:41] \"POST /socket.io/?EIO=4&transport=polling&t=OcPnSAb&sid=3vGHbTCqIrPExUGeAADs HTTP/1.1\" 200 -\n",
      "127.0.0.1 - - [27/Jul/2023 16:54:06] \"GET /socket.io/?EIO=4&transport=polling&t=OcPnSAZ&sid=_W7U2cyJozFdNEYIAADq HTTP/1.1\" 200 -\n",
      "127.0.0.1 - - [27/Jul/2023 16:54:06] \"GET /socket.io/?EIO=4&transport=polling&t=OcPnSAc&sid=3vGHbTCqIrPExUGeAADs HTTP/1.1\" 200 -\n",
      "127.0.0.1 - - [27/Jul/2023 16:54:06] \"POST /socket.io/?EIO=4&transport=polling&t=OcPnYHY&sid=_W7U2cyJozFdNEYIAADq HTTP/1.1\" 200 -\n",
      "127.0.0.1 - - [27/Jul/2023 16:54:06] \"POST /socket.io/?EIO=4&transport=polling&t=OcPnYHY&sid=3vGHbTCqIrPExUGeAADs HTTP/1.1\" 200 -\n",
      "127.0.0.1 - - [27/Jul/2023 17:23:30] \"GET /socket.io/?EIO=4&transport=polling&t=OcPnYHZ&sid=_W7U2cyJozFdNEYIAADq HTTP/1.1\" 200 -\n",
      "127.0.0.1 - - [27/Jul/2023 17:23:30] \"GET /socket.io/?EIO=4&transport=polling&t=OcPnYHZ&sid=3vGHbTCqIrPExUGeAADs HTTP/1.1\" 200 -\n",
      "127.0.0.1 - - [27/Jul/2023 17:23:30] \"POST /socket.io/?EIO=4&transport=polling&t=OcPuGyP&sid=_W7U2cyJozFdNEYIAADq HTTP/1.1\" 200 -\n",
      "127.0.0.1 - - [27/Jul/2023 17:23:30] \"POST /socket.io/?EIO=4&transport=polling&t=OcPuGyR&sid=3vGHbTCqIrPExUGeAADs HTTP/1.1\" 200 -\n",
      "127.0.0.1 - - [27/Jul/2023 17:23:55] \"GET /socket.io/?EIO=4&transport=polling&t=OcPuGyQ&sid=_W7U2cyJozFdNEYIAADq HTTP/1.1\" 200 -\n",
      "127.0.0.1 - - [27/Jul/2023 17:23:55] \"GET /socket.io/?EIO=4&transport=polling&t=OcPuGyR.0&sid=3vGHbTCqIrPExUGeAADs HTTP/1.1\" 200 -\n",
      "127.0.0.1 - - [27/Jul/2023 17:23:55] \"POST /socket.io/?EIO=4&transport=polling&t=OcPuN3K&sid=_W7U2cyJozFdNEYIAADq HTTP/1.1\" 200 -\n",
      "127.0.0.1 - - [27/Jul/2023 17:23:55] \"POST /socket.io/?EIO=4&transport=polling&t=OcPuN3L&sid=3vGHbTCqIrPExUGeAADs HTTP/1.1\" 200 -\n",
      "127.0.0.1 - - [27/Jul/2023 17:24:21] \"GET /socket.io/?EIO=4&transport=polling&t=OcPuN3M&sid=_W7U2cyJozFdNEYIAADq HTTP/1.1\" 200 -\n",
      "127.0.0.1 - - [27/Jul/2023 17:24:21] \"GET /socket.io/?EIO=4&transport=polling&t=OcPuN3N&sid=3vGHbTCqIrPExUGeAADs HTTP/1.1\" 200 -\n",
      "127.0.0.1 - - [27/Jul/2023 17:24:21] \"POST /socket.io/?EIO=4&transport=polling&t=OcPuTGW&sid=_W7U2cyJozFdNEYIAADq HTTP/1.1\" 200 -\n",
      "127.0.0.1 - - [27/Jul/2023 17:24:21] \"POST /socket.io/?EIO=4&transport=polling&t=OcPuTGY&sid=3vGHbTCqIrPExUGeAADs HTTP/1.1\" 200 -\n",
      "127.0.0.1 - - [27/Jul/2023 17:24:46] \"GET /socket.io/?EIO=4&transport=polling&t=OcPuTGY&sid=_W7U2cyJozFdNEYIAADq HTTP/1.1\" 200 -\n",
      "127.0.0.1 - - [27/Jul/2023 17:24:46] \"GET /socket.io/?EIO=4&transport=polling&t=OcPuTGc&sid=3vGHbTCqIrPExUGeAADs HTTP/1.1\" 200 -\n",
      "127.0.0.1 - - [27/Jul/2023 17:24:46] \"POST /socket.io/?EIO=4&transport=polling&t=OcPuZNg&sid=_W7U2cyJozFdNEYIAADq HTTP/1.1\" 200 -\n",
      "127.0.0.1 - - [27/Jul/2023 17:24:46] \"POST /socket.io/?EIO=4&transport=polling&t=OcPuZNp&sid=3vGHbTCqIrPExUGeAADs HTTP/1.1\" 200 -\n",
      "127.0.0.1 - - [27/Jul/2023 17:25:11] \"GET /socket.io/?EIO=4&transport=polling&t=OcPuZNk&sid=_W7U2cyJozFdNEYIAADq HTTP/1.1\" 200 -\n",
      "127.0.0.1 - - [27/Jul/2023 17:25:11] \"GET /socket.io/?EIO=4&transport=polling&t=OcPuZNs&sid=3vGHbTCqIrPExUGeAADs HTTP/1.1\" 200 -\n",
      "127.0.0.1 - - [27/Jul/2023 17:25:11] \"POST /socket.io/?EIO=4&transport=polling&t=OcPufUv&sid=_W7U2cyJozFdNEYIAADq HTTP/1.1\" 200 -\n",
      "127.0.0.1 - - [27/Jul/2023 17:25:11] \"POST /socket.io/?EIO=4&transport=polling&t=OcPufUy&sid=3vGHbTCqIrPExUGeAADs HTTP/1.1\" 200 -\n",
      "127.0.0.1 - - [27/Jul/2023 17:25:36] \"GET /socket.io/?EIO=4&transport=polling&t=OcPufUy&sid=_W7U2cyJozFdNEYIAADq HTTP/1.1\" 200 -\n",
      "127.0.0.1 - - [27/Jul/2023 17:25:36] \"GET /socket.io/?EIO=4&transport=polling&t=OcPufU_&sid=3vGHbTCqIrPExUGeAADs HTTP/1.1\" 200 -\n",
      "127.0.0.1 - - [27/Jul/2023 17:25:36] \"POST /socket.io/?EIO=4&transport=polling&t=OcPulc2&sid=_W7U2cyJozFdNEYIAADq HTTP/1.1\" 200 -\n",
      "127.0.0.1 - - [27/Jul/2023 17:25:36] \"POST /socket.io/?EIO=4&transport=polling&t=OcPulcM&sid=3vGHbTCqIrPExUGeAADs HTTP/1.1\" 200 -\n",
      "127.0.0.1 - - [27/Jul/2023 17:26:01] \"GET /socket.io/?EIO=4&transport=polling&t=OcPulc5&sid=_W7U2cyJozFdNEYIAADq HTTP/1.1\" 200 -\n",
      "127.0.0.1 - - [27/Jul/2023 17:26:01] \"GET /socket.io/?EIO=4&transport=polling&t=OcPulcP&sid=3vGHbTCqIrPExUGeAADs HTTP/1.1\" 200 -\n",
      "127.0.0.1 - - [27/Jul/2023 17:26:01] \"POST /socket.io/?EIO=4&transport=polling&t=OcPurjE&sid=_W7U2cyJozFdNEYIAADq HTTP/1.1\" 200 -\n",
      "127.0.0.1 - - [27/Jul/2023 17:26:01] \"POST /socket.io/?EIO=4&transport=polling&t=OcPurjc&sid=3vGHbTCqIrPExUGeAADs HTTP/1.1\" 200 -\n",
      "127.0.0.1 - - [27/Jul/2023 17:26:26] \"GET /socket.io/?EIO=4&transport=polling&t=OcPurjH&sid=_W7U2cyJozFdNEYIAADq HTTP/1.1\" 200 -\n",
      "127.0.0.1 - - [27/Jul/2023 17:26:26] \"POST /socket.io/?EIO=4&transport=polling&t=OcPuxqH&sid=_W7U2cyJozFdNEYIAADq HTTP/1.1\" 200 -\n",
      "127.0.0.1 - - [27/Jul/2023 17:26:26] \"GET /socket.io/?EIO=4&transport=polling&t=OcPurjf&sid=3vGHbTCqIrPExUGeAADs HTTP/1.1\" 200 -\n",
      "127.0.0.1 - - [27/Jul/2023 17:26:26] \"POST /socket.io/?EIO=4&transport=polling&t=OcPuxqo&sid=3vGHbTCqIrPExUGeAADs HTTP/1.1\" 200 -\n",
      "127.0.0.1 - - [27/Jul/2023 17:26:51] \"GET /socket.io/?EIO=4&transport=polling&t=OcPuxqJ&sid=_W7U2cyJozFdNEYIAADq HTTP/1.1\" 200 -\n",
      "127.0.0.1 - - [27/Jul/2023 17:26:51] \"POST /socket.io/?EIO=4&transport=polling&t=OcPv1xF&sid=_W7U2cyJozFdNEYIAADq HTTP/1.1\" 200 -\n",
      "127.0.0.1 - - [27/Jul/2023 17:26:51] \"GET /socket.io/?EIO=4&transport=polling&t=OcPuxqq&sid=3vGHbTCqIrPExUGeAADs HTTP/1.1\" 200 -\n",
      "127.0.0.1 - - [27/Jul/2023 17:26:51] \"POST /socket.io/?EIO=4&transport=polling&t=OcPv1xs&sid=3vGHbTCqIrPExUGeAADs HTTP/1.1\" 200 -\n",
      "127.0.0.1 - - [27/Jul/2023 17:27:16] \"GET /socket.io/?EIO=4&transport=polling&t=OcPv1xH&sid=_W7U2cyJozFdNEYIAADq HTTP/1.1\" 200 -\n",
      "127.0.0.1 - - [27/Jul/2023 17:27:16] \"POST /socket.io/?EIO=4&transport=polling&t=OcPv82D&sid=_W7U2cyJozFdNEYIAADq HTTP/1.1\" 200 -\n",
      "127.0.0.1 - - [27/Jul/2023 17:27:16] \"GET /socket.io/?EIO=4&transport=polling&t=OcPv1xt&sid=3vGHbTCqIrPExUGeAADs HTTP/1.1\" 200 -\n",
      "127.0.0.1 - - [27/Jul/2023 17:27:16] \"POST /socket.io/?EIO=4&transport=polling&t=OcPv82n&sid=3vGHbTCqIrPExUGeAADs HTTP/1.1\" 200 -\n",
      "127.0.0.1 - - [27/Jul/2023 17:44:58] \"GET /socket.io/?EIO=4&transport=polling&t=OcPv82E&sid=_W7U2cyJozFdNEYIAADq HTTP/1.1\" 200 -\n",
      "127.0.0.1 - - [27/Jul/2023 17:44:58] \"POST /socket.io/?EIO=4&transport=polling&t=OcPzBEL&sid=_W7U2cyJozFdNEYIAADq HTTP/1.1\" 200 -\n",
      "127.0.0.1 - - [27/Jul/2023 17:44:58] \"GET /socket.io/?EIO=4&transport=polling&t=OcPv82p&sid=3vGHbTCqIrPExUGeAADs HTTP/1.1\" 200 -\n",
      "127.0.0.1 - - [27/Jul/2023 17:44:58] \"POST /socket.io/?EIO=4&transport=polling&t=OcPzBEx&sid=3vGHbTCqIrPExUGeAADs HTTP/1.1\" 200 -\n",
      "127.0.0.1 - - [27/Jul/2023 17:45:23] \"GET /socket.io/?EIO=4&transport=polling&t=OcPzBEM&sid=_W7U2cyJozFdNEYIAADq HTTP/1.1\" 200 -\n",
      "127.0.0.1 - - [27/Jul/2023 17:45:23] \"POST /socket.io/?EIO=4&transport=polling&t=OcPzHL7&sid=_W7U2cyJozFdNEYIAADq HTTP/1.1\" 200 -\n",
      "127.0.0.1 - - [27/Jul/2023 17:45:23] \"GET /socket.io/?EIO=4&transport=polling&t=OcPzBEy&sid=3vGHbTCqIrPExUGeAADs HTTP/1.1\" 200 -\n",
      "127.0.0.1 - - [27/Jul/2023 17:45:23] \"POST /socket.io/?EIO=4&transport=polling&t=OcPzHLs&sid=3vGHbTCqIrPExUGeAADs HTTP/1.1\" 200 -\n",
      "127.0.0.1 - - [27/Jul/2023 18:03:06] \"GET /socket.io/?EIO=4&transport=polling&t=OcPzHL8&sid=_W7U2cyJozFdNEYIAADq HTTP/1.1\" 200 -\n",
      "127.0.0.1 - - [27/Jul/2023 18:03:06] \"POST /socket.io/?EIO=4&transport=polling&t=OcQ1KsT&sid=_W7U2cyJozFdNEYIAADq HTTP/1.1\" 200 -\n",
      "127.0.0.1 - - [27/Jul/2023 18:03:06] \"GET /socket.io/?EIO=4&transport=polling&t=OcPzHLt&sid=3vGHbTCqIrPExUGeAADs HTTP/1.1\" 200 -\n",
      "127.0.0.1 - - [27/Jul/2023 18:03:06] \"POST /socket.io/?EIO=4&transport=polling&t=OcQ1KtG&sid=3vGHbTCqIrPExUGeAADs HTTP/1.1\" 200 -\n",
      "127.0.0.1 - - [27/Jul/2023 18:03:31] \"GET /socket.io/?EIO=4&transport=polling&t=OcQ1KsU&sid=_W7U2cyJozFdNEYIAADq HTTP/1.1\" 200 -\n",
      "127.0.0.1 - - [27/Jul/2023 18:03:31] \"POST /socket.io/?EIO=4&transport=polling&t=OcQ1QzN&sid=_W7U2cyJozFdNEYIAADq HTTP/1.1\" 200 -\n",
      "127.0.0.1 - - [27/Jul/2023 18:03:31] \"GET /socket.io/?EIO=4&transport=polling&t=OcQ1KtH&sid=3vGHbTCqIrPExUGeAADs HTTP/1.1\" 200 -\n",
      "127.0.0.1 - - [27/Jul/2023 18:03:31] \"POST /socket.io/?EIO=4&transport=polling&t=OcQ1Q-C&sid=3vGHbTCqIrPExUGeAADs HTTP/1.1\" 200 -\n",
      "127.0.0.1 - - [27/Jul/2023 19:26:24] \"GET /socket.io/?EIO=4&transport=polling&t=OcQ1QzO&sid=_W7U2cyJozFdNEYIAADq HTTP/1.1\" 200 -\n",
      "127.0.0.1 - - [27/Jul/2023 19:26:24] \"POST /socket.io/?EIO=4&transport=polling&t=OcQKP49&sid=_W7U2cyJozFdNEYIAADq HTTP/1.1\" 200 -\n",
      "127.0.0.1 - - [27/Jul/2023 19:26:24] \"GET /socket.io/?EIO=4&transport=polling&t=OcQ1Q-D&sid=3vGHbTCqIrPExUGeAADs HTTP/1.1\" 200 -\n",
      "127.0.0.1 - - [27/Jul/2023 19:26:24] \"POST /socket.io/?EIO=4&transport=polling&t=OcQKP4y&sid=3vGHbTCqIrPExUGeAADs HTTP/1.1\" 200 -\n",
      "127.0.0.1 - - [27/Jul/2023 19:26:49] \"GET /socket.io/?EIO=4&transport=polling&t=OcQKP49.0&sid=_W7U2cyJozFdNEYIAADq HTTP/1.1\" 200 -\n",
      "127.0.0.1 - - [27/Jul/2023 19:26:49] \"POST /socket.io/?EIO=4&transport=polling&t=OcQKVMx&sid=_W7U2cyJozFdNEYIAADq HTTP/1.1\" 200 -\n",
      "127.0.0.1 - - [27/Jul/2023 19:26:49] \"GET /socket.io/?EIO=4&transport=polling&t=OcQKP4z&sid=3vGHbTCqIrPExUGeAADs HTTP/1.1\" 200 -\n",
      "127.0.0.1 - - [27/Jul/2023 19:26:49] \"POST /socket.io/?EIO=4&transport=polling&t=OcQKVNe&sid=3vGHbTCqIrPExUGeAADs HTTP/1.1\" 200 -\n",
      "127.0.0.1 - - [27/Jul/2023 19:27:15] \"GET /socket.io/?EIO=4&transport=polling&t=OcQKVMy&sid=_W7U2cyJozFdNEYIAADq HTTP/1.1\" 200 -\n",
      "127.0.0.1 - - [27/Jul/2023 19:27:15] \"POST /socket.io/?EIO=4&transport=polling&t=OcQKbbZ&sid=_W7U2cyJozFdNEYIAADq HTTP/1.1\" 200 -\n",
      "127.0.0.1 - - [27/Jul/2023 19:27:15] \"GET /socket.io/?EIO=4&transport=polling&t=OcQKVNf&sid=3vGHbTCqIrPExUGeAADs HTTP/1.1\" 200 -\n",
      "127.0.0.1 - - [27/Jul/2023 19:27:15] \"POST /socket.io/?EIO=4&transport=polling&t=OcQKbcC&sid=3vGHbTCqIrPExUGeAADs HTTP/1.1\" 200 -\n",
      "127.0.0.1 - - [27/Jul/2023 19:47:52] \"GET /socket.io/?EIO=4&transport=polling&t=OcQKbba&sid=_W7U2cyJozFdNEYIAADq HTTP/1.1\" 200 -\n",
      "127.0.0.1 - - [27/Jul/2023 19:47:52] \"POST /socket.io/?EIO=4&transport=polling&t=OcQPJfN&sid=_W7U2cyJozFdNEYIAADq HTTP/1.1\" 200 -\n",
      "127.0.0.1 - - [27/Jul/2023 19:47:52] \"GET /socket.io/?EIO=4&transport=polling&t=OcQKbcD&sid=3vGHbTCqIrPExUGeAADs HTTP/1.1\" 200 -\n",
      "127.0.0.1 - - [27/Jul/2023 19:47:52] \"POST /socket.io/?EIO=4&transport=polling&t=OcQPJg1&sid=3vGHbTCqIrPExUGeAADs HTTP/1.1\" 200 -\n",
      "127.0.0.1 - - [27/Jul/2023 20:02:49] \"GET /socket.io/?EIO=4&transport=polling&t=OcQPJfO&sid=_W7U2cyJozFdNEYIAADq HTTP/1.1\" 200 -\n",
      "127.0.0.1 - - [27/Jul/2023 20:02:49] \"GET /socket.io/?EIO=4&transport=polling&t=OcQPJg2&sid=3vGHbTCqIrPExUGeAADs HTTP/1.1\" 200 -\n",
      "127.0.0.1 - - [27/Jul/2023 20:02:49] \"POST /socket.io/?EIO=4&transport=polling&t=OcQSkU_&sid=_W7U2cyJozFdNEYIAADq HTTP/1.1\" 200 -\n",
      "127.0.0.1 - - [27/Jul/2023 20:02:49] \"POST /socket.io/?EIO=4&transport=polling&t=OcQSkV1&sid=3vGHbTCqIrPExUGeAADs HTTP/1.1\" 200 -\n",
      "127.0.0.1 - - [27/Jul/2023 20:03:14] \"GET /socket.io/?EIO=4&transport=polling&t=OcQSkU_.0&sid=_W7U2cyJozFdNEYIAADq HTTP/1.1\" 200 -\n",
      "127.0.0.1 - - [27/Jul/2023 20:03:14] \"GET /socket.io/?EIO=4&transport=polling&t=OcQSkV2&sid=3vGHbTCqIrPExUGeAADs HTTP/1.1\" 200 -\n",
      "127.0.0.1 - - [27/Jul/2023 20:03:14] \"POST /socket.io/?EIO=4&transport=polling&t=OcQSqjv&sid=_W7U2cyJozFdNEYIAADq HTTP/1.1\" 200 -\n",
      "127.0.0.1 - - [27/Jul/2023 20:03:14] \"POST /socket.io/?EIO=4&transport=polling&t=OcQSqj_&sid=3vGHbTCqIrPExUGeAADs HTTP/1.1\" 200 -\n",
      "127.0.0.1 - - [27/Jul/2023 20:03:39] \"GET /socket.io/?EIO=4&transport=polling&t=OcQSqjw&sid=_W7U2cyJozFdNEYIAADq HTTP/1.1\" 200 -\n",
      "127.0.0.1 - - [27/Jul/2023 20:03:39] \"GET /socket.io/?EIO=4&transport=polling&t=OcQSqk0&sid=3vGHbTCqIrPExUGeAADs HTTP/1.1\" 200 -\n",
      "127.0.0.1 - - [27/Jul/2023 20:03:39] \"POST /socket.io/?EIO=4&transport=polling&t=OcQSwql&sid=_W7U2cyJozFdNEYIAADq HTTP/1.1\" 200 -\n",
      "127.0.0.1 - - [27/Jul/2023 20:03:39] \"POST /socket.io/?EIO=4&transport=polling&t=OcQSwqs&sid=3vGHbTCqIrPExUGeAADs HTTP/1.1\" 200 -\n",
      "127.0.0.1 - - [27/Jul/2023 20:04:04] \"GET /socket.io/?EIO=4&transport=polling&t=OcQSwql.0&sid=_W7U2cyJozFdNEYIAADq HTTP/1.1\" 200 -\n",
      "127.0.0.1 - - [27/Jul/2023 20:04:04] \"POST /socket.io/?EIO=4&transport=polling&t=OcQT0xX&sid=_W7U2cyJozFdNEYIAADq HTTP/1.1\" 200 -\n",
      "127.0.0.1 - - [27/Jul/2023 20:04:04] \"GET /socket.io/?EIO=4&transport=polling&t=OcQSwqt&sid=3vGHbTCqIrPExUGeAADs HTTP/1.1\" 200 -\n",
      "127.0.0.1 - - [27/Jul/2023 20:04:04] \"POST /socket.io/?EIO=4&transport=polling&t=OcQT0xh&sid=3vGHbTCqIrPExUGeAADs HTTP/1.1\" 200 -\n",
      "127.0.0.1 - - [27/Jul/2023 20:04:29] \"GET /socket.io/?EIO=4&transport=polling&t=OcQT0xY&sid=_W7U2cyJozFdNEYIAADq HTTP/1.1\" 200 -\n",
      "127.0.0.1 - - [27/Jul/2023 20:04:29] \"GET /socket.io/?EIO=4&transport=polling&t=OcQT0xi&sid=3vGHbTCqIrPExUGeAADs HTTP/1.1\" 200 -\n",
      "127.0.0.1 - - [27/Jul/2023 20:04:29] \"POST /socket.io/?EIO=4&transport=polling&t=OcQT72N&sid=_W7U2cyJozFdNEYIAADq HTTP/1.1\" 200 -\n",
      "127.0.0.1 - - [27/Jul/2023 20:04:29] \"POST /socket.io/?EIO=4&transport=polling&t=OcQT72W&sid=3vGHbTCqIrPExUGeAADs HTTP/1.1\" 200 -\n",
      "127.0.0.1 - - [27/Jul/2023 20:04:54] \"GET /socket.io/?EIO=4&transport=polling&t=OcQT72O&sid=_W7U2cyJozFdNEYIAADq HTTP/1.1\" 200 -\n",
      "127.0.0.1 - - [27/Jul/2023 20:04:54] \"GET /socket.io/?EIO=4&transport=polling&t=OcQT72X&sid=3vGHbTCqIrPExUGeAADs HTTP/1.1\" 200 -\n",
      "127.0.0.1 - - [27/Jul/2023 20:04:54] \"POST /socket.io/?EIO=4&transport=polling&t=OcQTD9D&sid=_W7U2cyJozFdNEYIAADq HTTP/1.1\" 200 -\n",
      "127.0.0.1 - - [27/Jul/2023 20:04:54] \"POST /socket.io/?EIO=4&transport=polling&t=OcQTD9d&sid=3vGHbTCqIrPExUGeAADs HTTP/1.1\" 200 -\n",
      "127.0.0.1 - - [27/Jul/2023 20:05:19] \"GET /socket.io/?EIO=4&transport=polling&t=OcQTD9E&sid=_W7U2cyJozFdNEYIAADq HTTP/1.1\" 200 -\n",
      "127.0.0.1 - - [27/Jul/2023 20:05:19] \"POST /socket.io/?EIO=4&transport=polling&t=OcQTJGF&sid=_W7U2cyJozFdNEYIAADq HTTP/1.1\" 200 -\n",
      "127.0.0.1 - - [27/Jul/2023 20:05:19] \"GET /socket.io/?EIO=4&transport=polling&t=OcQTD9e&sid=3vGHbTCqIrPExUGeAADs HTTP/1.1\" 200 -\n",
      "127.0.0.1 - - [27/Jul/2023 20:05:19] \"POST /socket.io/?EIO=4&transport=polling&t=OcQTJGP&sid=3vGHbTCqIrPExUGeAADs HTTP/1.1\" 200 -\n",
      "127.0.0.1 - - [27/Jul/2023 20:05:44] \"GET /socket.io/?EIO=4&transport=polling&t=OcQTJGG&sid=_W7U2cyJozFdNEYIAADq HTTP/1.1\" 200 -\n",
      "127.0.0.1 - - [27/Jul/2023 20:05:44] \"GET /socket.io/?EIO=4&transport=polling&t=OcQTJGQ&sid=3vGHbTCqIrPExUGeAADs HTTP/1.1\" 200 -\n",
      "127.0.0.1 - - [27/Jul/2023 20:05:44] \"POST /socket.io/?EIO=4&transport=polling&t=OcQTPN3&sid=_W7U2cyJozFdNEYIAADq HTTP/1.1\" 200 -\n",
      "127.0.0.1 - - [27/Jul/2023 20:05:44] \"POST /socket.io/?EIO=4&transport=polling&t=OcQTPNc&sid=3vGHbTCqIrPExUGeAADs HTTP/1.1\" 200 -\n",
      "127.0.0.1 - - [27/Jul/2023 20:06:09] \"GET /socket.io/?EIO=4&transport=polling&t=OcQTPN4&sid=_W7U2cyJozFdNEYIAADq HTTP/1.1\" 200 -\n",
      "127.0.0.1 - - [27/Jul/2023 20:06:09] \"POST /socket.io/?EIO=4&transport=polling&t=OcQTVTu&sid=_W7U2cyJozFdNEYIAADq HTTP/1.1\" 200 -\n",
      "127.0.0.1 - - [27/Jul/2023 20:06:09] \"GET /socket.io/?EIO=4&transport=polling&t=OcQTPNd&sid=3vGHbTCqIrPExUGeAADs HTTP/1.1\" 200 -\n",
      "127.0.0.1 - - [27/Jul/2023 20:06:09] \"POST /socket.io/?EIO=4&transport=polling&t=OcQTVUa&sid=3vGHbTCqIrPExUGeAADs HTTP/1.1\" 200 -\n",
      "127.0.0.1 - - [27/Jul/2023 20:06:34] \"GET /socket.io/?EIO=4&transport=polling&t=OcQTVTv&sid=_W7U2cyJozFdNEYIAADq HTTP/1.1\" 200 -\n",
      "127.0.0.1 - - [27/Jul/2023 20:06:34] \"POST /socket.io/?EIO=4&transport=polling&t=OcQTbak&sid=_W7U2cyJozFdNEYIAADq HTTP/1.1\" 200 -\n",
      "127.0.0.1 - - [27/Jul/2023 20:06:34] \"GET /socket.io/?EIO=4&transport=polling&t=OcQTVUb&sid=3vGHbTCqIrPExUGeAADs HTTP/1.1\" 200 -\n",
      "127.0.0.1 - - [27/Jul/2023 20:06:34] \"POST /socket.io/?EIO=4&transport=polling&t=OcQTbbO&sid=3vGHbTCqIrPExUGeAADs HTTP/1.1\" 200 -\n",
      "127.0.0.1 - - [27/Jul/2023 20:06:59] \"GET /socket.io/?EIO=4&transport=polling&t=OcQTbal&sid=_W7U2cyJozFdNEYIAADq HTTP/1.1\" 200 -\n",
      "127.0.0.1 - - [27/Jul/2023 20:06:59] \"POST /socket.io/?EIO=4&transport=polling&t=OcQThhZ&sid=_W7U2cyJozFdNEYIAADq HTTP/1.1\" 200 -\n",
      "127.0.0.1 - - [27/Jul/2023 20:06:59] \"GET /socket.io/?EIO=4&transport=polling&t=OcQTbbP&sid=3vGHbTCqIrPExUGeAADs HTTP/1.1\" 200 -\n",
      "127.0.0.1 - - [27/Jul/2023 20:06:59] \"POST /socket.io/?EIO=4&transport=polling&t=OcQThiE&sid=3vGHbTCqIrPExUGeAADs HTTP/1.1\" 200 -\n",
      "127.0.0.1 - - [27/Jul/2023 20:07:24] \"GET /socket.io/?EIO=4&transport=polling&t=OcQThha&sid=_W7U2cyJozFdNEYIAADq HTTP/1.1\" 200 -\n",
      "127.0.0.1 - - [27/Jul/2023 20:07:24] \"POST /socket.io/?EIO=4&transport=polling&t=OcQTnoM&sid=_W7U2cyJozFdNEYIAADq HTTP/1.1\" 200 -\n",
      "127.0.0.1 - - [27/Jul/2023 20:07:24] \"GET /socket.io/?EIO=4&transport=polling&t=OcQThiF&sid=3vGHbTCqIrPExUGeAADs HTTP/1.1\" 200 -\n",
      "127.0.0.1 - - [27/Jul/2023 20:07:24] \"POST /socket.io/?EIO=4&transport=polling&t=OcQTnp0&sid=3vGHbTCqIrPExUGeAADs HTTP/1.1\" 200 -\n",
      "127.0.0.1 - - [27/Jul/2023 20:07:49] \"GET /socket.io/?EIO=4&transport=polling&t=OcQTnoN&sid=_W7U2cyJozFdNEYIAADq HTTP/1.1\" 200 -\n",
      "127.0.0.1 - - [27/Jul/2023 20:07:49] \"POST /socket.io/?EIO=4&transport=polling&t=OcQTtvC&sid=_W7U2cyJozFdNEYIAADq HTTP/1.1\" 200 -\n",
      "127.0.0.1 - - [27/Jul/2023 20:07:49] \"GET /socket.io/?EIO=4&transport=polling&t=OcQTnp1&sid=3vGHbTCqIrPExUGeAADs HTTP/1.1\" 200 -\n",
      "127.0.0.1 - - [27/Jul/2023 20:07:49] \"POST /socket.io/?EIO=4&transport=polling&t=OcQTtvs&sid=3vGHbTCqIrPExUGeAADs HTTP/1.1\" 200 -\n",
      "127.0.0.1 - - [27/Jul/2023 20:08:14] \"GET /socket.io/?EIO=4&transport=polling&t=OcQTtvD&sid=_W7U2cyJozFdNEYIAADq HTTP/1.1\" 200 -\n",
      "127.0.0.1 - - [27/Jul/2023 20:08:14] \"POST /socket.io/?EIO=4&transport=polling&t=OcQT-02&sid=_W7U2cyJozFdNEYIAADq HTTP/1.1\" 200 -\n",
      "127.0.0.1 - - [27/Jul/2023 20:08:14] \"GET /socket.io/?EIO=4&transport=polling&t=OcQTtvt&sid=3vGHbTCqIrPExUGeAADs HTTP/1.1\" 200 -\n",
      "127.0.0.1 - - [27/Jul/2023 20:08:14] \"POST /socket.io/?EIO=4&transport=polling&t=OcQT-0g&sid=3vGHbTCqIrPExUGeAADs HTTP/1.1\" 200 -\n",
      "127.0.0.1 - - [27/Jul/2023 20:08:39] \"GET /socket.io/?EIO=4&transport=polling&t=OcQT-03&sid=_W7U2cyJozFdNEYIAADq HTTP/1.1\" 200 -\n",
      "127.0.0.1 - - [27/Jul/2023 20:08:39] \"POST /socket.io/?EIO=4&transport=polling&t=OcQU46q&sid=_W7U2cyJozFdNEYIAADq HTTP/1.1\" 200 -\n",
      "127.0.0.1 - - [27/Jul/2023 20:08:39] \"GET /socket.io/?EIO=4&transport=polling&t=OcQT-0h&sid=3vGHbTCqIrPExUGeAADs HTTP/1.1\" 200 -\n",
      "127.0.0.1 - - [27/Jul/2023 20:08:39] \"POST /socket.io/?EIO=4&transport=polling&t=OcQU47Q&sid=3vGHbTCqIrPExUGeAADs HTTP/1.1\" 200 -\n",
      "127.0.0.1 - - [27/Jul/2023 20:09:04] \"GET /socket.io/?EIO=4&transport=polling&t=OcQU46r&sid=_W7U2cyJozFdNEYIAADq HTTP/1.1\" 200 -\n",
      "127.0.0.1 - - [27/Jul/2023 20:09:04] \"POST /socket.io/?EIO=4&transport=polling&t=OcQUADg&sid=_W7U2cyJozFdNEYIAADq HTTP/1.1\" 200 -\n",
      "127.0.0.1 - - [27/Jul/2023 20:09:04] \"GET /socket.io/?EIO=4&transport=polling&t=OcQU47R&sid=3vGHbTCqIrPExUGeAADs HTTP/1.1\" 200 -\n",
      "127.0.0.1 - - [27/Jul/2023 20:09:04] \"POST /socket.io/?EIO=4&transport=polling&t=OcQUAEF&sid=3vGHbTCqIrPExUGeAADs HTTP/1.1\" 200 -\n",
      "127.0.0.1 - - [27/Jul/2023 20:09:29] \"GET /socket.io/?EIO=4&transport=polling&t=OcQUADh&sid=_W7U2cyJozFdNEYIAADq HTTP/1.1\" 200 -\n",
      "127.0.0.1 - - [27/Jul/2023 20:09:29] \"POST /socket.io/?EIO=4&transport=polling&t=OcQUGKS&sid=_W7U2cyJozFdNEYIAADq HTTP/1.1\" 200 -\n",
      "127.0.0.1 - - [27/Jul/2023 20:09:29] \"GET /socket.io/?EIO=4&transport=polling&t=OcQUAEG&sid=3vGHbTCqIrPExUGeAADs HTTP/1.1\" 200 -\n",
      "127.0.0.1 - - [27/Jul/2023 20:09:29] \"POST /socket.io/?EIO=4&transport=polling&t=OcQUGL2&sid=3vGHbTCqIrPExUGeAADs HTTP/1.1\" 200 -\n",
      "127.0.0.1 - - [27/Jul/2023 20:09:54] \"GET /socket.io/?EIO=4&transport=polling&t=OcQUGKT&sid=_W7U2cyJozFdNEYIAADq HTTP/1.1\" 200 -\n",
      "127.0.0.1 - - [27/Jul/2023 20:09:54] \"POST /socket.io/?EIO=4&transport=polling&t=OcQUMRH&sid=_W7U2cyJozFdNEYIAADq HTTP/1.1\" 200 -\n",
      "127.0.0.1 - - [27/Jul/2023 20:09:54] \"GET /socket.io/?EIO=4&transport=polling&t=OcQUGL3&sid=3vGHbTCqIrPExUGeAADs HTTP/1.1\" 200 -\n",
      "127.0.0.1 - - [27/Jul/2023 20:09:54] \"POST /socket.io/?EIO=4&transport=polling&t=OcQUMRu&sid=3vGHbTCqIrPExUGeAADs HTTP/1.1\" 200 -\n",
      "127.0.0.1 - - [27/Jul/2023 20:10:19] \"GET /socket.io/?EIO=4&transport=polling&t=OcQUMRI&sid=_W7U2cyJozFdNEYIAADq HTTP/1.1\" 200 -\n",
      "127.0.0.1 - - [27/Jul/2023 20:10:19] \"POST /socket.io/?EIO=4&transport=polling&t=OcQUSY2&sid=_W7U2cyJozFdNEYIAADq HTTP/1.1\" 200 -\n",
      "127.0.0.1 - - [27/Jul/2023 20:10:19] \"GET /socket.io/?EIO=4&transport=polling&t=OcQUMRv&sid=3vGHbTCqIrPExUGeAADs HTTP/1.1\" 200 -\n",
      "127.0.0.1 - - [27/Jul/2023 20:10:19] \"POST /socket.io/?EIO=4&transport=polling&t=OcQUSYe&sid=3vGHbTCqIrPExUGeAADs HTTP/1.1\" 200 -\n",
      "127.0.0.1 - - [27/Jul/2023 20:10:44] \"GET /socket.io/?EIO=4&transport=polling&t=OcQUSY3&sid=_W7U2cyJozFdNEYIAADq HTTP/1.1\" 200 -\n",
      "127.0.0.1 - - [27/Jul/2023 20:10:44] \"POST /socket.io/?EIO=4&transport=polling&t=OcQUYer&sid=_W7U2cyJozFdNEYIAADq HTTP/1.1\" 200 -\n",
      "127.0.0.1 - - [27/Jul/2023 20:10:44] \"GET /socket.io/?EIO=4&transport=polling&t=OcQUSYf&sid=3vGHbTCqIrPExUGeAADs HTTP/1.1\" 200 -\n",
      "127.0.0.1 - - [27/Jul/2023 20:10:44] \"POST /socket.io/?EIO=4&transport=polling&t=OcQUYfN&sid=3vGHbTCqIrPExUGeAADs HTTP/1.1\" 200 -\n",
      "127.0.0.1 - - [27/Jul/2023 20:11:09] \"GET /socket.io/?EIO=4&transport=polling&t=OcQUYes&sid=_W7U2cyJozFdNEYIAADq HTTP/1.1\" 200 -\n",
      "127.0.0.1 - - [27/Jul/2023 20:11:09] \"POST /socket.io/?EIO=4&transport=polling&t=OcQUelg&sid=_W7U2cyJozFdNEYIAADq HTTP/1.1\" 200 -\n",
      "127.0.0.1 - - [27/Jul/2023 20:11:09] \"GET /socket.io/?EIO=4&transport=polling&t=OcQUYfO&sid=3vGHbTCqIrPExUGeAADs HTTP/1.1\" 200 -\n",
      "127.0.0.1 - - [27/Jul/2023 20:11:09] \"POST /socket.io/?EIO=4&transport=polling&t=OcQUem8&sid=3vGHbTCqIrPExUGeAADs HTTP/1.1\" 200 -\n",
      "127.0.0.1 - - [27/Jul/2023 20:11:34] \"GET /socket.io/?EIO=4&transport=polling&t=OcQUelh&sid=_W7U2cyJozFdNEYIAADq HTTP/1.1\" 200 -\n",
      "127.0.0.1 - - [27/Jul/2023 20:11:34] \"POST /socket.io/?EIO=4&transport=polling&t=OcQUksR&sid=_W7U2cyJozFdNEYIAADq HTTP/1.1\" 200 -\n",
      "127.0.0.1 - - [27/Jul/2023 20:11:34] \"GET /socket.io/?EIO=4&transport=polling&t=OcQUem9&sid=3vGHbTCqIrPExUGeAADs HTTP/1.1\" 200 -\n",
      "127.0.0.1 - - [27/Jul/2023 20:11:34] \"POST /socket.io/?EIO=4&transport=polling&t=OcQUksz&sid=3vGHbTCqIrPExUGeAADs HTTP/1.1\" 200 -\n",
      "127.0.0.1 - - [27/Jul/2023 20:11:59] \"GET /socket.io/?EIO=4&transport=polling&t=OcQUksS&sid=_W7U2cyJozFdNEYIAADq HTTP/1.1\" 200 -\n",
      "127.0.0.1 - - [27/Jul/2023 20:11:59] \"POST /socket.io/?EIO=4&transport=polling&t=OcQUqzF&sid=_W7U2cyJozFdNEYIAADq HTTP/1.1\" 200 -\n",
      "127.0.0.1 - - [27/Jul/2023 20:11:59] \"GET /socket.io/?EIO=4&transport=polling&t=OcQUks-&sid=3vGHbTCqIrPExUGeAADs HTTP/1.1\" 200 -\n",
      "127.0.0.1 - - [27/Jul/2023 20:11:59] \"POST /socket.io/?EIO=4&transport=polling&t=OcQUqzm&sid=3vGHbTCqIrPExUGeAADs HTTP/1.1\" 200 -\n",
      "127.0.0.1 - - [27/Jul/2023 20:12:24] \"GET /socket.io/?EIO=4&transport=polling&t=OcQUqzG&sid=_W7U2cyJozFdNEYIAADq HTTP/1.1\" 200 -\n",
      "127.0.0.1 - - [27/Jul/2023 20:12:24] \"POST /socket.io/?EIO=4&transport=polling&t=OcQUx43&sid=_W7U2cyJozFdNEYIAADq HTTP/1.1\" 200 -\n",
      "127.0.0.1 - - [27/Jul/2023 20:12:24] \"GET /socket.io/?EIO=4&transport=polling&t=OcQUqzm.0&sid=3vGHbTCqIrPExUGeAADs HTTP/1.1\" 200 -\n",
      "127.0.0.1 - - [27/Jul/2023 20:12:24] \"POST /socket.io/?EIO=4&transport=polling&t=OcQUx4a&sid=3vGHbTCqIrPExUGeAADs HTTP/1.1\" 200 -\n",
      "127.0.0.1 - - [27/Jul/2023 20:12:49] \"GET /socket.io/?EIO=4&transport=polling&t=OcQUx44&sid=_W7U2cyJozFdNEYIAADq HTTP/1.1\" 200 -\n",
      "127.0.0.1 - - [27/Jul/2023 20:12:49] \"POST /socket.io/?EIO=4&transport=polling&t=OcQV1At&sid=_W7U2cyJozFdNEYIAADq HTTP/1.1\" 200 -\n",
      "127.0.0.1 - - [27/Jul/2023 20:12:49] \"GET /socket.io/?EIO=4&transport=polling&t=OcQUx4b&sid=3vGHbTCqIrPExUGeAADs HTTP/1.1\" 200 -\n",
      "127.0.0.1 - - [27/Jul/2023 20:12:49] \"POST /socket.io/?EIO=4&transport=polling&t=OcQV1BK&sid=3vGHbTCqIrPExUGeAADs HTTP/1.1\" 200 -\n",
      "127.0.0.1 - - [27/Jul/2023 20:13:14] \"GET /socket.io/?EIO=4&transport=polling&t=OcQV1Au&sid=_W7U2cyJozFdNEYIAADq HTTP/1.1\" 200 -\n",
      "127.0.0.1 - - [27/Jul/2023 20:13:14] \"POST /socket.io/?EIO=4&transport=polling&t=OcQV7Hj&sid=_W7U2cyJozFdNEYIAADq HTTP/1.1\" 200 -\n",
      "127.0.0.1 - - [27/Jul/2023 20:13:14] \"GET /socket.io/?EIO=4&transport=polling&t=OcQV1BL&sid=3vGHbTCqIrPExUGeAADs HTTP/1.1\" 200 -\n",
      "127.0.0.1 - - [27/Jul/2023 20:13:14] \"POST /socket.io/?EIO=4&transport=polling&t=OcQV7I6&sid=3vGHbTCqIrPExUGeAADs HTTP/1.1\" 200 -\n",
      "127.0.0.1 - - [27/Jul/2023 20:13:39] \"GET /socket.io/?EIO=4&transport=polling&t=OcQV7Hk&sid=_W7U2cyJozFdNEYIAADq HTTP/1.1\" 200 -\n",
      "127.0.0.1 - - [27/Jul/2023 20:13:39] \"POST /socket.io/?EIO=4&transport=polling&t=OcQVDOY&sid=_W7U2cyJozFdNEYIAADq HTTP/1.1\" 200 -\n",
      "127.0.0.1 - - [27/Jul/2023 20:13:39] \"GET /socket.io/?EIO=4&transport=polling&t=OcQV7I7&sid=3vGHbTCqIrPExUGeAADs HTTP/1.1\" 200 -\n",
      "127.0.0.1 - - [27/Jul/2023 20:13:39] \"POST /socket.io/?EIO=4&transport=polling&t=OcQVDOv&sid=3vGHbTCqIrPExUGeAADs HTTP/1.1\" 200 -\n",
      "127.0.0.1 - - [27/Jul/2023 20:14:04] \"GET /socket.io/?EIO=4&transport=polling&t=OcQVDOZ&sid=_W7U2cyJozFdNEYIAADq HTTP/1.1\" 200 -\n",
      "127.0.0.1 - - [27/Jul/2023 20:14:04] \"POST /socket.io/?EIO=4&transport=polling&t=OcQVJVM&sid=_W7U2cyJozFdNEYIAADq HTTP/1.1\" 200 -\n",
      "127.0.0.1 - - [27/Jul/2023 20:14:04] \"GET /socket.io/?EIO=4&transport=polling&t=OcQVDOw&sid=3vGHbTCqIrPExUGeAADs HTTP/1.1\" 200 -\n",
      "127.0.0.1 - - [27/Jul/2023 20:14:04] \"POST /socket.io/?EIO=4&transport=polling&t=OcQVJVl&sid=3vGHbTCqIrPExUGeAADs HTTP/1.1\" 200 -\n",
      "127.0.0.1 - - [27/Jul/2023 20:14:29] \"GET /socket.io/?EIO=4&transport=polling&t=OcQVJVN&sid=_W7U2cyJozFdNEYIAADq HTTP/1.1\" 200 -\n",
      "127.0.0.1 - - [27/Jul/2023 20:14:29] \"POST /socket.io/?EIO=4&transport=polling&t=OcQVPcA&sid=_W7U2cyJozFdNEYIAADq HTTP/1.1\" 200 -\n",
      "127.0.0.1 - - [27/Jul/2023 20:14:29] \"GET /socket.io/?EIO=4&transport=polling&t=OcQVJVm&sid=3vGHbTCqIrPExUGeAADs HTTP/1.1\" 200 -\n",
      "127.0.0.1 - - [27/Jul/2023 20:14:29] \"POST /socket.io/?EIO=4&transport=polling&t=OcQVPcZ&sid=3vGHbTCqIrPExUGeAADs HTTP/1.1\" 200 -\n",
      "127.0.0.1 - - [27/Jul/2023 20:14:54] \"GET /socket.io/?EIO=4&transport=polling&t=OcQVPcB&sid=_W7U2cyJozFdNEYIAADq HTTP/1.1\" 200 -\n",
      "127.0.0.1 - - [27/Jul/2023 20:14:54] \"POST /socket.io/?EIO=4&transport=polling&t=OcQVViy&sid=_W7U2cyJozFdNEYIAADq HTTP/1.1\" 200 -\n",
      "127.0.0.1 - - [27/Jul/2023 20:14:54] \"GET /socket.io/?EIO=4&transport=polling&t=OcQVPca&sid=3vGHbTCqIrPExUGeAADs HTTP/1.1\" 200 -\n",
      "127.0.0.1 - - [27/Jul/2023 20:14:54] \"POST /socket.io/?EIO=4&transport=polling&t=OcQVVjK&sid=3vGHbTCqIrPExUGeAADs HTTP/1.1\" 200 -\n",
      "127.0.0.1 - - [27/Jul/2023 20:15:19] \"GET /socket.io/?EIO=4&transport=polling&t=OcQVViz&sid=_W7U2cyJozFdNEYIAADq HTTP/1.1\" 200 -\n",
      "127.0.0.1 - - [27/Jul/2023 20:15:19] \"POST /socket.io/?EIO=4&transport=polling&t=OcQVbpj&sid=_W7U2cyJozFdNEYIAADq HTTP/1.1\" 200 -\n",
      "127.0.0.1 - - [27/Jul/2023 20:15:19] \"GET /socket.io/?EIO=4&transport=polling&t=OcQVVjL&sid=3vGHbTCqIrPExUGeAADs HTTP/1.1\" 200 -\n",
      "127.0.0.1 - - [27/Jul/2023 20:15:19] \"POST /socket.io/?EIO=4&transport=polling&t=OcQVbq4&sid=3vGHbTCqIrPExUGeAADs HTTP/1.1\" 200 -\n",
      "127.0.0.1 - - [27/Jul/2023 20:15:44] \"GET /socket.io/?EIO=4&transport=polling&t=OcQVbpk&sid=_W7U2cyJozFdNEYIAADq HTTP/1.1\" 200 -\n",
      "127.0.0.1 - - [27/Jul/2023 20:15:44] \"POST /socket.io/?EIO=4&transport=polling&t=OcQVhwV&sid=_W7U2cyJozFdNEYIAADq HTTP/1.1\" 200 -\n",
      "127.0.0.1 - - [27/Jul/2023 20:15:44] \"GET /socket.io/?EIO=4&transport=polling&t=OcQVbq5&sid=3vGHbTCqIrPExUGeAADs HTTP/1.1\" 200 -\n",
      "127.0.0.1 - - [27/Jul/2023 20:15:44] \"POST /socket.io/?EIO=4&transport=polling&t=OcQVhwu&sid=3vGHbTCqIrPExUGeAADs HTTP/1.1\" 200 -\n",
      "127.0.0.1 - - [27/Jul/2023 20:16:09] \"GET /socket.io/?EIO=4&transport=polling&t=OcQVhwW&sid=_W7U2cyJozFdNEYIAADq HTTP/1.1\" 200 -\n",
      "127.0.0.1 - - [27/Jul/2023 20:16:09] \"POST /socket.io/?EIO=4&transport=polling&t=OcQVo1L&sid=_W7U2cyJozFdNEYIAADq HTTP/1.1\" 200 -\n",
      "127.0.0.1 - - [27/Jul/2023 20:16:09] \"GET /socket.io/?EIO=4&transport=polling&t=OcQVhwv&sid=3vGHbTCqIrPExUGeAADs HTTP/1.1\" 200 -\n",
      "127.0.0.1 - - [27/Jul/2023 20:16:09] \"POST /socket.io/?EIO=4&transport=polling&t=OcQVo1g&sid=3vGHbTCqIrPExUGeAADs HTTP/1.1\" 200 -\n",
      "127.0.0.1 - - [27/Jul/2023 20:16:34] \"GET /socket.io/?EIO=4&transport=polling&t=OcQVo1M&sid=_W7U2cyJozFdNEYIAADq HTTP/1.1\" 200 -\n",
      "127.0.0.1 - - [27/Jul/2023 20:16:34] \"POST /socket.io/?EIO=4&transport=polling&t=OcQVu86&sid=_W7U2cyJozFdNEYIAADq HTTP/1.1\" 200 -\n",
      "127.0.0.1 - - [27/Jul/2023 20:16:34] \"GET /socket.io/?EIO=4&transport=polling&t=OcQVo1h&sid=3vGHbTCqIrPExUGeAADs HTTP/1.1\" 200 -\n",
      "127.0.0.1 - - [27/Jul/2023 20:16:34] \"POST /socket.io/?EIO=4&transport=polling&t=OcQVu8O&sid=3vGHbTCqIrPExUGeAADs HTTP/1.1\" 200 -\n",
      "127.0.0.1 - - [27/Jul/2023 20:16:59] \"GET /socket.io/?EIO=4&transport=polling&t=OcQVu87&sid=_W7U2cyJozFdNEYIAADq HTTP/1.1\" 200 -\n",
      "127.0.0.1 - - [27/Jul/2023 20:16:59] \"POST /socket.io/?EIO=4&transport=polling&t=OcQV-Ew&sid=_W7U2cyJozFdNEYIAADq HTTP/1.1\" 200 -\n",
      "127.0.0.1 - - [27/Jul/2023 20:16:59] \"GET /socket.io/?EIO=4&transport=polling&t=OcQVu8P&sid=3vGHbTCqIrPExUGeAADs HTTP/1.1\" 200 -\n",
      "127.0.0.1 - - [27/Jul/2023 20:16:59] \"POST /socket.io/?EIO=4&transport=polling&t=OcQV-FD&sid=3vGHbTCqIrPExUGeAADs HTTP/1.1\" 200 -\n",
      "127.0.0.1 - - [27/Jul/2023 20:17:24] \"GET /socket.io/?EIO=4&transport=polling&t=OcQV-Ex&sid=_W7U2cyJozFdNEYIAADq HTTP/1.1\" 200 -\n",
      "127.0.0.1 - - [27/Jul/2023 20:17:24] \"POST /socket.io/?EIO=4&transport=polling&t=OcQW4Lm&sid=_W7U2cyJozFdNEYIAADq HTTP/1.1\" 200 -\n",
      "127.0.0.1 - - [27/Jul/2023 20:17:24] \"GET /socket.io/?EIO=4&transport=polling&t=OcQV-FE&sid=3vGHbTCqIrPExUGeAADs HTTP/1.1\" 200 -\n",
      "127.0.0.1 - - [27/Jul/2023 20:17:24] \"POST /socket.io/?EIO=4&transport=polling&t=OcQW4Ly&sid=3vGHbTCqIrPExUGeAADs HTTP/1.1\" 200 -\n",
      "127.0.0.1 - - [27/Jul/2023 20:17:49] \"GET /socket.io/?EIO=4&transport=polling&t=OcQW4Ln&sid=_W7U2cyJozFdNEYIAADq HTTP/1.1\" 200 -\n",
      "127.0.0.1 - - [27/Jul/2023 20:17:49] \"GET /socket.io/?EIO=4&transport=polling&t=OcQW4Lz&sid=3vGHbTCqIrPExUGeAADs HTTP/1.1\" 200 -\n",
      "127.0.0.1 - - [27/Jul/2023 20:17:49] \"POST /socket.io/?EIO=4&transport=polling&t=OcQWASc&sid=_W7U2cyJozFdNEYIAADq HTTP/1.1\" 200 -\n",
      "127.0.0.1 - - [27/Jul/2023 20:17:50] \"POST /socket.io/?EIO=4&transport=polling&t=OcQWASj&sid=3vGHbTCqIrPExUGeAADs HTTP/1.1\" 200 -\n",
      "127.0.0.1 - - [27/Jul/2023 20:18:14] \"GET /socket.io/?EIO=4&transport=polling&t=OcQWASd&sid=_W7U2cyJozFdNEYIAADq HTTP/1.1\" 200 -\n",
      "127.0.0.1 - - [27/Jul/2023 20:18:15] \"POST /socket.io/?EIO=4&transport=polling&t=OcQWGZM&sid=_W7U2cyJozFdNEYIAADq HTTP/1.1\" 200 -\n",
      "127.0.0.1 - - [27/Jul/2023 20:18:15] \"GET /socket.io/?EIO=4&transport=polling&t=OcQWASk&sid=3vGHbTCqIrPExUGeAADs HTTP/1.1\" 200 -\n",
      "127.0.0.1 - - [27/Jul/2023 20:18:15] \"POST /socket.io/?EIO=4&transport=polling&t=OcQWGZW&sid=3vGHbTCqIrPExUGeAADs HTTP/1.1\" 200 -\n",
      "127.0.0.1 - - [27/Jul/2023 20:18:40] \"GET /socket.io/?EIO=4&transport=polling&t=OcQWGZN&sid=_W7U2cyJozFdNEYIAADq HTTP/1.1\" 200 -\n",
      "127.0.0.1 - - [27/Jul/2023 20:18:40] \"GET /socket.io/?EIO=4&transport=polling&t=OcQWGZX&sid=3vGHbTCqIrPExUGeAADs HTTP/1.1\" 200 -\n",
      "127.0.0.1 - - [27/Jul/2023 20:18:40] \"POST /socket.io/?EIO=4&transport=polling&t=OcQWMgC&sid=_W7U2cyJozFdNEYIAADq HTTP/1.1\" 200 -\n",
      "127.0.0.1 - - [27/Jul/2023 20:18:40] \"POST /socket.io/?EIO=4&transport=polling&t=OcQWMgH&sid=3vGHbTCqIrPExUGeAADs HTTP/1.1\" 200 -\n",
      "127.0.0.1 - - [27/Jul/2023 20:19:05] \"GET /socket.io/?EIO=4&transport=polling&t=OcQWMgD&sid=_W7U2cyJozFdNEYIAADq HTTP/1.1\" 200 -\n",
      "127.0.0.1 - - [27/Jul/2023 20:19:05] \"GET /socket.io/?EIO=4&transport=polling&t=OcQWMgI&sid=3vGHbTCqIrPExUGeAADs HTTP/1.1\" 200 -\n",
      "127.0.0.1 - - [27/Jul/2023 20:19:05] \"POST /socket.io/?EIO=4&transport=polling&t=OcQWSn5&sid=_W7U2cyJozFdNEYIAADq HTTP/1.1\" 200 -\n",
      "127.0.0.1 - - [27/Jul/2023 20:19:05] \"POST /socket.io/?EIO=4&transport=polling&t=OcQWSn6&sid=3vGHbTCqIrPExUGeAADs HTTP/1.1\" 200 -\n",
      "127.0.0.1 - - [27/Jul/2023 20:19:30] \"GET /socket.io/?EIO=4&transport=polling&t=OcQWSn6&sid=_W7U2cyJozFdNEYIAADq HTTP/1.1\" 200 -\n",
      "127.0.0.1 - - [27/Jul/2023 20:19:30] \"GET /socket.io/?EIO=4&transport=polling&t=OcQWSn7&sid=3vGHbTCqIrPExUGeAADs HTTP/1.1\" 200 -\n",
      "127.0.0.1 - - [27/Jul/2023 20:19:30] \"POST /socket.io/?EIO=4&transport=polling&t=OcQWYtu&sid=_W7U2cyJozFdNEYIAADq HTTP/1.1\" 200 -\n",
      "127.0.0.1 - - [27/Jul/2023 20:19:30] \"POST /socket.io/?EIO=4&transport=polling&t=OcQWYtw&sid=3vGHbTCqIrPExUGeAADs HTTP/1.1\" 200 -\n",
      "127.0.0.1 - - [27/Jul/2023 20:19:55] \"GET /socket.io/?EIO=4&transport=polling&t=OcQWYtv&sid=_W7U2cyJozFdNEYIAADq HTTP/1.1\" 200 -\n",
      "127.0.0.1 - - [27/Jul/2023 20:19:55] \"GET /socket.io/?EIO=4&transport=polling&t=OcQWYty&sid=3vGHbTCqIrPExUGeAADs HTTP/1.1\" 200 -\n",
      "127.0.0.1 - - [27/Jul/2023 20:19:55] \"POST /socket.io/?EIO=4&transport=polling&t=OcQWe-m&sid=_W7U2cyJozFdNEYIAADq HTTP/1.1\" 200 -\n",
      "127.0.0.1 - - [27/Jul/2023 20:19:55] \"POST /socket.io/?EIO=4&transport=polling&t=OcQWe-q&sid=3vGHbTCqIrPExUGeAADs HTTP/1.1\" 200 -\n",
      "127.0.0.1 - - [27/Jul/2023 20:20:20] \"GET /socket.io/?EIO=4&transport=polling&t=OcQWe-o&sid=_W7U2cyJozFdNEYIAADq HTTP/1.1\" 200 -\n",
      "127.0.0.1 - - [27/Jul/2023 20:20:20] \"GET /socket.io/?EIO=4&transport=polling&t=OcQWe-q.0&sid=3vGHbTCqIrPExUGeAADs HTTP/1.1\" 200 -\n",
      "127.0.0.1 - - [27/Jul/2023 20:20:20] \"POST /socket.io/?EIO=4&transport=polling&t=OcQWl5g&sid=_W7U2cyJozFdNEYIAADq HTTP/1.1\" 200 -\n",
      "127.0.0.1 - - [27/Jul/2023 20:20:20] \"POST /socket.io/?EIO=4&transport=polling&t=OcQWl5g&sid=3vGHbTCqIrPExUGeAADs HTTP/1.1\" 200 -\n",
      "127.0.0.1 - - [27/Jul/2023 20:20:45] \"GET /socket.io/?EIO=4&transport=polling&t=OcQWl5h&sid=_W7U2cyJozFdNEYIAADq HTTP/1.1\" 200 -\n",
      "127.0.0.1 - - [27/Jul/2023 20:20:45] \"GET /socket.io/?EIO=4&transport=polling&t=OcQWl5h&sid=3vGHbTCqIrPExUGeAADs HTTP/1.1\" 200 -\n",
      "127.0.0.1 - - [27/Jul/2023 20:20:45] \"POST /socket.io/?EIO=4&transport=polling&t=OcQWrCX&sid=_W7U2cyJozFdNEYIAADq HTTP/1.1\" 200 -\n",
      "127.0.0.1 - - [27/Jul/2023 20:20:45] \"POST /socket.io/?EIO=4&transport=polling&t=OcQWrCb&sid=3vGHbTCqIrPExUGeAADs HTTP/1.1\" 200 -\n",
      "127.0.0.1 - - [27/Jul/2023 20:21:10] \"GET /socket.io/?EIO=4&transport=polling&t=OcQWrCc&sid=3vGHbTCqIrPExUGeAADs HTTP/1.1\" 200 -\n",
      "127.0.0.1 - - [27/Jul/2023 20:21:10] \"GET /socket.io/?EIO=4&transport=polling&t=OcQWrCZ&sid=_W7U2cyJozFdNEYIAADq HTTP/1.1\" 200 -\n",
      "127.0.0.1 - - [27/Jul/2023 20:21:10] \"POST /socket.io/?EIO=4&transport=polling&t=OcQWxJQ&sid=3vGHbTCqIrPExUGeAADs HTTP/1.1\" 200 -\n",
      "127.0.0.1 - - [27/Jul/2023 20:21:10] \"POST /socket.io/?EIO=4&transport=polling&t=OcQWxJT&sid=_W7U2cyJozFdNEYIAADq HTTP/1.1\" 200 -\n",
      "127.0.0.1 - - [27/Jul/2023 20:21:35] \"GET /socket.io/?EIO=4&transport=polling&t=OcQWxJS&sid=3vGHbTCqIrPExUGeAADs HTTP/1.1\" 200 -\n",
      "127.0.0.1 - - [27/Jul/2023 20:21:35] \"GET /socket.io/?EIO=4&transport=polling&t=OcQWxJU&sid=_W7U2cyJozFdNEYIAADq HTTP/1.1\" 200 -\n",
      "127.0.0.1 - - [27/Jul/2023 20:21:35] \"POST /socket.io/?EIO=4&transport=polling&t=OcQX1QD&sid=3vGHbTCqIrPExUGeAADs HTTP/1.1\" 200 -\n",
      "127.0.0.1 - - [27/Jul/2023 20:21:35] \"POST /socket.io/?EIO=4&transport=polling&t=OcQX1QH&sid=_W7U2cyJozFdNEYIAADq HTTP/1.1\" 200 -\n",
      "127.0.0.1 - - [27/Jul/2023 20:22:00] \"GET /socket.io/?EIO=4&transport=polling&t=OcQX1QI&sid=_W7U2cyJozFdNEYIAADq HTTP/1.1\" 200 -\n",
      "127.0.0.1 - - [27/Jul/2023 20:22:00] \"GET /socket.io/?EIO=4&transport=polling&t=OcQX1QE&sid=3vGHbTCqIrPExUGeAADs HTTP/1.1\" 200 -\n",
      "127.0.0.1 - - [27/Jul/2023 20:22:00] \"POST /socket.io/?EIO=4&transport=polling&t=OcQX7X3&sid=_W7U2cyJozFdNEYIAADq HTTP/1.1\" 200 -\n",
      "127.0.0.1 - - [27/Jul/2023 20:22:00] \"POST /socket.io/?EIO=4&transport=polling&t=OcQX7X9&sid=3vGHbTCqIrPExUGeAADs HTTP/1.1\" 200 -\n",
      "127.0.0.1 - - [27/Jul/2023 20:22:25] \"GET /socket.io/?EIO=4&transport=polling&t=OcQX7X4&sid=_W7U2cyJozFdNEYIAADq HTTP/1.1\" 200 -\n",
      "127.0.0.1 - - [27/Jul/2023 20:22:25] \"POST /socket.io/?EIO=4&transport=polling&t=OcQXDds&sid=_W7U2cyJozFdNEYIAADq HTTP/1.1\" 200 -\n",
      "127.0.0.1 - - [27/Jul/2023 20:22:25] \"GET /socket.io/?EIO=4&transport=polling&t=OcQX7XA&sid=3vGHbTCqIrPExUGeAADs HTTP/1.1\" 200 -\n",
      "127.0.0.1 - - [27/Jul/2023 20:22:25] \"POST /socket.io/?EIO=4&transport=polling&t=OcQXDd_&sid=3vGHbTCqIrPExUGeAADs HTTP/1.1\" 200 -\n",
      "127.0.0.1 - - [27/Jul/2023 20:22:50] \"GET /socket.io/?EIO=4&transport=polling&t=OcQXDds.0&sid=_W7U2cyJozFdNEYIAADq HTTP/1.1\" 200 -\n",
      "127.0.0.1 - - [27/Jul/2023 20:22:50] \"GET /socket.io/?EIO=4&transport=polling&t=OcQXDe0&sid=3vGHbTCqIrPExUGeAADs HTTP/1.1\" 200 -\n",
      "127.0.0.1 - - [27/Jul/2023 20:22:50] \"POST /socket.io/?EIO=4&transport=polling&t=OcQXJki&sid=_W7U2cyJozFdNEYIAADq HTTP/1.1\" 200 -\n",
      "127.0.0.1 - - [27/Jul/2023 20:22:50] \"POST /socket.io/?EIO=4&transport=polling&t=OcQXJkn&sid=3vGHbTCqIrPExUGeAADs HTTP/1.1\" 200 -\n",
      "127.0.0.1 - - [27/Jul/2023 20:23:15] \"GET /socket.io/?EIO=4&transport=polling&t=OcQXJkj&sid=_W7U2cyJozFdNEYIAADq HTTP/1.1\" 200 -\n",
      "127.0.0.1 - - [27/Jul/2023 20:23:15] \"GET /socket.io/?EIO=4&transport=polling&t=OcQXJko&sid=3vGHbTCqIrPExUGeAADs HTTP/1.1\" 200 -\n",
      "127.0.0.1 - - [27/Jul/2023 20:23:15] \"POST /socket.io/?EIO=4&transport=polling&t=OcQXPrb&sid=_W7U2cyJozFdNEYIAADq HTTP/1.1\" 200 -\n",
      "127.0.0.1 - - [27/Jul/2023 20:23:15] \"POST /socket.io/?EIO=4&transport=polling&t=OcQXPrd&sid=3vGHbTCqIrPExUGeAADs HTTP/1.1\" 200 -\n",
      "127.0.0.1 - - [27/Jul/2023 20:23:40] \"GET /socket.io/?EIO=4&transport=polling&t=OcQXPrc&sid=_W7U2cyJozFdNEYIAADq HTTP/1.1\" 200 -\n",
      "127.0.0.1 - - [27/Jul/2023 20:23:40] \"GET /socket.io/?EIO=4&transport=polling&t=OcQXPre&sid=3vGHbTCqIrPExUGeAADs HTTP/1.1\" 200 -\n",
      "127.0.0.1 - - [27/Jul/2023 20:23:40] \"POST /socket.io/?EIO=4&transport=polling&t=OcQXVyR&sid=_W7U2cyJozFdNEYIAADq HTTP/1.1\" 200 -\n",
      "127.0.0.1 - - [27/Jul/2023 20:23:40] \"POST /socket.io/?EIO=4&transport=polling&t=OcQXVyS&sid=3vGHbTCqIrPExUGeAADs HTTP/1.1\" 200 -\n",
      "127.0.0.1 - - [27/Jul/2023 20:24:05] \"GET /socket.io/?EIO=4&transport=polling&t=OcQXVyS&sid=_W7U2cyJozFdNEYIAADq HTTP/1.1\" 200 -\n",
      "127.0.0.1 - - [27/Jul/2023 20:24:05] \"GET /socket.io/?EIO=4&transport=polling&t=OcQXVyT&sid=3vGHbTCqIrPExUGeAADs HTTP/1.1\" 200 -\n",
      "127.0.0.1 - - [27/Jul/2023 20:24:05] \"POST /socket.io/?EIO=4&transport=polling&t=OcQXc3J&sid=_W7U2cyJozFdNEYIAADq HTTP/1.1\" 200 -\n",
      "127.0.0.1 - - [27/Jul/2023 20:24:05] \"POST /socket.io/?EIO=4&transport=polling&t=OcQXc3J&sid=3vGHbTCqIrPExUGeAADs HTTP/1.1\" 200 -\n",
      "127.0.0.1 - - [27/Jul/2023 20:24:30] \"GET /socket.io/?EIO=4&transport=polling&t=OcQXc3L&sid=_W7U2cyJozFdNEYIAADq HTTP/1.1\" 200 -\n",
      "127.0.0.1 - - [27/Jul/2023 20:24:30] \"GET /socket.io/?EIO=4&transport=polling&t=OcQXc3K&sid=3vGHbTCqIrPExUGeAADs HTTP/1.1\" 200 -\n",
      "127.0.0.1 - - [27/Jul/2023 20:24:30] \"POST /socket.io/?EIO=4&transport=polling&t=OcQXiA8&sid=_W7U2cyJozFdNEYIAADq HTTP/1.1\" 200 -\n",
      "127.0.0.1 - - [27/Jul/2023 20:24:30] \"POST /socket.io/?EIO=4&transport=polling&t=OcQXiA9&sid=3vGHbTCqIrPExUGeAADs HTTP/1.1\" 200 -\n",
      "127.0.0.1 - - [27/Jul/2023 20:24:55] \"GET /socket.io/?EIO=4&transport=polling&t=OcQXiA9&sid=_W7U2cyJozFdNEYIAADq HTTP/1.1\" 200 -\n",
      "127.0.0.1 - - [27/Jul/2023 20:24:55] \"GET /socket.io/?EIO=4&transport=polling&t=OcQXiA9.0&sid=3vGHbTCqIrPExUGeAADs HTTP/1.1\" 200 -\n",
      "127.0.0.1 - - [27/Jul/2023 20:24:55] \"POST /socket.io/?EIO=4&transport=polling&t=OcQXoH1&sid=_W7U2cyJozFdNEYIAADq HTTP/1.1\" 200 -\n",
      "127.0.0.1 - - [27/Jul/2023 20:24:55] \"POST /socket.io/?EIO=4&transport=polling&t=OcQXoH3&sid=3vGHbTCqIrPExUGeAADs HTTP/1.1\" 200 -\n",
      "127.0.0.1 - - [27/Jul/2023 20:25:20] \"GET /socket.io/?EIO=4&transport=polling&t=OcQXoH2&sid=_W7U2cyJozFdNEYIAADq HTTP/1.1\" 200 -\n",
      "127.0.0.1 - - [27/Jul/2023 20:25:20] \"GET /socket.io/?EIO=4&transport=polling&t=OcQXoH4&sid=3vGHbTCqIrPExUGeAADs HTTP/1.1\" 200 -\n",
      "127.0.0.1 - - [27/Jul/2023 20:25:20] \"POST /socket.io/?EIO=4&transport=polling&t=OcQXuNv&sid=3vGHbTCqIrPExUGeAADs HTTP/1.1\" 200 -\n",
      "127.0.0.1 - - [27/Jul/2023 20:25:20] \"POST /socket.io/?EIO=4&transport=polling&t=OcQXuNv&sid=_W7U2cyJozFdNEYIAADq HTTP/1.1\" 200 -\n",
      "127.0.0.1 - - [27/Jul/2023 20:25:45] \"GET /socket.io/?EIO=4&transport=polling&t=OcQXuNv.0&sid=3vGHbTCqIrPExUGeAADs HTTP/1.1\" 200 -\n",
      "127.0.0.1 - - [27/Jul/2023 20:25:45] \"GET /socket.io/?EIO=4&transport=polling&t=OcQXuNv.0&sid=_W7U2cyJozFdNEYIAADq HTTP/1.1\" 200 -\n",
      "127.0.0.1 - - [27/Jul/2023 20:25:45] \"POST /socket.io/?EIO=4&transport=polling&t=OcQX-Uj&sid=3vGHbTCqIrPExUGeAADs HTTP/1.1\" 200 -\n",
      "127.0.0.1 - - [27/Jul/2023 20:25:45] \"POST /socket.io/?EIO=4&transport=polling&t=OcQX-Um&sid=_W7U2cyJozFdNEYIAADq HTTP/1.1\" 200 -\n",
      "127.0.0.1 - - [27/Jul/2023 20:26:10] \"GET /socket.io/?EIO=4&transport=polling&t=OcQX-Uk&sid=3vGHbTCqIrPExUGeAADs HTTP/1.1\" 200 -\n",
      "127.0.0.1 - - [27/Jul/2023 20:26:10] \"GET /socket.io/?EIO=4&transport=polling&t=OcQX-Un&sid=_W7U2cyJozFdNEYIAADq HTTP/1.1\" 200 -\n",
      "127.0.0.1 - - [27/Jul/2023 20:26:10] \"POST /socket.io/?EIO=4&transport=polling&t=OcQY4bd&sid=_W7U2cyJozFdNEYIAADq HTTP/1.1\" 200 -\n",
      "127.0.0.1 - - [27/Jul/2023 20:26:10] \"POST /socket.io/?EIO=4&transport=polling&t=OcQY4bd&sid=3vGHbTCqIrPExUGeAADs HTTP/1.1\" 200 -\n",
      "127.0.0.1 - - [27/Jul/2023 20:26:35] \"GET /socket.io/?EIO=4&transport=polling&t=OcQY4be&sid=3vGHbTCqIrPExUGeAADs HTTP/1.1\" 200 -\n",
      "127.0.0.1 - - [27/Jul/2023 20:26:35] \"GET /socket.io/?EIO=4&transport=polling&t=OcQY4be&sid=_W7U2cyJozFdNEYIAADq HTTP/1.1\" 200 -\n",
      "127.0.0.1 - - [27/Jul/2023 20:26:35] \"POST /socket.io/?EIO=4&transport=polling&t=OcQYAiX&sid=3vGHbTCqIrPExUGeAADs HTTP/1.1\" 200 -\n",
      "127.0.0.1 - - [27/Jul/2023 20:26:35] \"POST /socket.io/?EIO=4&transport=polling&t=OcQYAiY&sid=_W7U2cyJozFdNEYIAADq HTTP/1.1\" 200 -\n",
      "127.0.0.1 - - [27/Jul/2023 20:27:00] \"GET /socket.io/?EIO=4&transport=polling&t=OcQYAiY&sid=3vGHbTCqIrPExUGeAADs HTTP/1.1\" 200 -\n",
      "127.0.0.1 - - [27/Jul/2023 20:27:00] \"GET /socket.io/?EIO=4&transport=polling&t=OcQYAiZ&sid=_W7U2cyJozFdNEYIAADq HTTP/1.1\" 200 -\n",
      "127.0.0.1 - - [27/Jul/2023 20:27:00] \"POST /socket.io/?EIO=4&transport=polling&t=OcQYGpO&sid=3vGHbTCqIrPExUGeAADs HTTP/1.1\" 200 -\n",
      "127.0.0.1 - - [27/Jul/2023 20:27:00] \"POST /socket.io/?EIO=4&transport=polling&t=OcQYGpT&sid=_W7U2cyJozFdNEYIAADq HTTP/1.1\" 200 -\n",
      "127.0.0.1 - - [27/Jul/2023 20:27:25] \"GET /socket.io/?EIO=4&transport=polling&t=OcQYGpP&sid=3vGHbTCqIrPExUGeAADs HTTP/1.1\" 200 -\n",
      "127.0.0.1 - - [27/Jul/2023 20:27:25] \"GET /socket.io/?EIO=4&transport=polling&t=OcQYGpU&sid=_W7U2cyJozFdNEYIAADq HTTP/1.1\" 200 -\n",
      "127.0.0.1 - - [27/Jul/2023 20:27:25] \"POST /socket.io/?EIO=4&transport=polling&t=OcQYMwA&sid=3vGHbTCqIrPExUGeAADs HTTP/1.1\" 200 -\n",
      "127.0.0.1 - - [27/Jul/2023 20:27:25] \"POST /socket.io/?EIO=4&transport=polling&t=OcQYMwF&sid=_W7U2cyJozFdNEYIAADq HTTP/1.1\" 200 -\n",
      "127.0.0.1 - - [27/Jul/2023 20:27:50] \"GET /socket.io/?EIO=4&transport=polling&t=OcQYMwC&sid=3vGHbTCqIrPExUGeAADs HTTP/1.1\" 200 -\n",
      "127.0.0.1 - - [27/Jul/2023 20:27:50] \"GET /socket.io/?EIO=4&transport=polling&t=OcQYMwG&sid=_W7U2cyJozFdNEYIAADq HTTP/1.1\" 200 -\n",
      "127.0.0.1 - - [27/Jul/2023 20:27:50] \"POST /socket.io/?EIO=4&transport=polling&t=OcQYT0-&sid=3vGHbTCqIrPExUGeAADs HTTP/1.1\" 200 -\n",
      "127.0.0.1 - - [27/Jul/2023 20:27:50] \"POST /socket.io/?EIO=4&transport=polling&t=OcQYT13&sid=_W7U2cyJozFdNEYIAADq HTTP/1.1\" 200 -\n",
      "127.0.0.1 - - [27/Jul/2023 20:28:15] \"GET /socket.io/?EIO=4&transport=polling&t=OcQYT0_&sid=3vGHbTCqIrPExUGeAADs HTTP/1.1\" 200 -\n",
      "127.0.0.1 - - [27/Jul/2023 20:28:15] \"GET /socket.io/?EIO=4&transport=polling&t=OcQYT14&sid=_W7U2cyJozFdNEYIAADq HTTP/1.1\" 200 -\n",
      "127.0.0.1 - - [27/Jul/2023 20:28:15] \"POST /socket.io/?EIO=4&transport=polling&t=OcQYZ7o&sid=3vGHbTCqIrPExUGeAADs HTTP/1.1\" 200 -\n",
      "127.0.0.1 - - [27/Jul/2023 20:28:15] \"POST /socket.io/?EIO=4&transport=polling&t=OcQYZ7u&sid=_W7U2cyJozFdNEYIAADq HTTP/1.1\" 200 -\n",
      "127.0.0.1 - - [27/Jul/2023 20:28:40] \"GET /socket.io/?EIO=4&transport=polling&t=OcQYZ7p&sid=3vGHbTCqIrPExUGeAADs HTTP/1.1\" 200 -\n",
      "127.0.0.1 - - [27/Jul/2023 20:28:40] \"POST /socket.io/?EIO=4&transport=polling&t=OcQYfEe&sid=3vGHbTCqIrPExUGeAADs HTTP/1.1\" 200 -\n",
      "127.0.0.1 - - [27/Jul/2023 20:28:40] \"GET /socket.io/?EIO=4&transport=polling&t=OcQYZ7u.0&sid=_W7U2cyJozFdNEYIAADq HTTP/1.1\" 200 -\n",
      "127.0.0.1 - - [27/Jul/2023 20:28:40] \"POST /socket.io/?EIO=4&transport=polling&t=OcQYfEx&sid=_W7U2cyJozFdNEYIAADq HTTP/1.1\" 200 -\n",
      "127.0.0.1 - - [27/Jul/2023 20:29:05] \"GET /socket.io/?EIO=4&transport=polling&t=OcQYfEf&sid=3vGHbTCqIrPExUGeAADs HTTP/1.1\" 200 -\n",
      "127.0.0.1 - - [27/Jul/2023 20:29:05] \"POST /socket.io/?EIO=4&transport=polling&t=OcQYlLU&sid=3vGHbTCqIrPExUGeAADs HTTP/1.1\" 200 -\n",
      "127.0.0.1 - - [27/Jul/2023 20:29:05] \"GET /socket.io/?EIO=4&transport=polling&t=OcQYfEy&sid=_W7U2cyJozFdNEYIAADq HTTP/1.1\" 200 -\n",
      "127.0.0.1 - - [27/Jul/2023 20:29:05] \"POST /socket.io/?EIO=4&transport=polling&t=OcQYlLf&sid=_W7U2cyJozFdNEYIAADq HTTP/1.1\" 200 -\n",
      "127.0.0.1 - - [27/Jul/2023 20:29:30] \"GET /socket.io/?EIO=4&transport=polling&t=OcQYlLV&sid=3vGHbTCqIrPExUGeAADs HTTP/1.1\" 200 -\n",
      "127.0.0.1 - - [27/Jul/2023 20:29:30] \"GET /socket.io/?EIO=4&transport=polling&t=OcQYlLg&sid=_W7U2cyJozFdNEYIAADq HTTP/1.1\" 200 -\n",
      "127.0.0.1 - - [27/Jul/2023 20:29:30] \"POST /socket.io/?EIO=4&transport=polling&t=OcQYrSI&sid=3vGHbTCqIrPExUGeAADs HTTP/1.1\" 200 -\n",
      "127.0.0.1 - - [27/Jul/2023 20:29:30] \"POST /socket.io/?EIO=4&transport=polling&t=OcQYrSS&sid=_W7U2cyJozFdNEYIAADq HTTP/1.1\" 200 -\n",
      "127.0.0.1 - - [27/Jul/2023 20:29:55] \"GET /socket.io/?EIO=4&transport=polling&t=OcQYrSJ&sid=3vGHbTCqIrPExUGeAADs HTTP/1.1\" 200 -\n",
      "127.0.0.1 - - [27/Jul/2023 20:29:55] \"GET /socket.io/?EIO=4&transport=polling&t=OcQYrSS.0&sid=_W7U2cyJozFdNEYIAADq HTTP/1.1\" 200 -\n",
      "127.0.0.1 - - [27/Jul/2023 20:29:55] \"POST /socket.io/?EIO=4&transport=polling&t=OcQYxZ9&sid=3vGHbTCqIrPExUGeAADs HTTP/1.1\" 200 -\n",
      "127.0.0.1 - - [27/Jul/2023 20:29:55] \"POST /socket.io/?EIO=4&transport=polling&t=OcQYxZF&sid=_W7U2cyJozFdNEYIAADq HTTP/1.1\" 200 -\n",
      "127.0.0.1 - - [27/Jul/2023 20:30:20] \"GET /socket.io/?EIO=4&transport=polling&t=OcQYxZB&sid=3vGHbTCqIrPExUGeAADs HTTP/1.1\" 200 -\n",
      "127.0.0.1 - - [27/Jul/2023 20:30:20] \"GET /socket.io/?EIO=4&transport=polling&t=OcQYxZG&sid=_W7U2cyJozFdNEYIAADq HTTP/1.1\" 200 -\n",
      "127.0.0.1 - - [27/Jul/2023 20:30:20] \"POST /socket.io/?EIO=4&transport=polling&t=OcQZ1fz&sid=3vGHbTCqIrPExUGeAADs HTTP/1.1\" 200 -\n",
      "127.0.0.1 - - [27/Jul/2023 20:30:20] \"POST /socket.io/?EIO=4&transport=polling&t=OcQZ1g3&sid=_W7U2cyJozFdNEYIAADq HTTP/1.1\" 200 -\n",
      "127.0.0.1 - - [27/Jul/2023 20:30:45] \"GET /socket.io/?EIO=4&transport=polling&t=OcQZ1f-&sid=3vGHbTCqIrPExUGeAADs HTTP/1.1\" 200 -\n",
      "127.0.0.1 - - [27/Jul/2023 20:30:45] \"GET /socket.io/?EIO=4&transport=polling&t=OcQZ1g4&sid=_W7U2cyJozFdNEYIAADq HTTP/1.1\" 200 -\n",
      "127.0.0.1 - - [27/Jul/2023 20:30:45] \"POST /socket.io/?EIO=4&transport=polling&t=OcQZ7mq&sid=3vGHbTCqIrPExUGeAADs HTTP/1.1\" 200 -\n",
      "127.0.0.1 - - [27/Jul/2023 20:30:45] \"POST /socket.io/?EIO=4&transport=polling&t=OcQZ7ms&sid=_W7U2cyJozFdNEYIAADq HTTP/1.1\" 200 -\n",
      "127.0.0.1 - - [27/Jul/2023 20:31:10] \"GET /socket.io/?EIO=4&transport=polling&t=OcQZ7mt&sid=_W7U2cyJozFdNEYIAADq HTTP/1.1\" 200 -\n",
      "127.0.0.1 - - [27/Jul/2023 20:31:10] \"GET /socket.io/?EIO=4&transport=polling&t=OcQZ7mr&sid=3vGHbTCqIrPExUGeAADs HTTP/1.1\" 200 -\n",
      "127.0.0.1 - - [27/Jul/2023 20:31:10] \"POST /socket.io/?EIO=4&transport=polling&t=OcQZDtm&sid=_W7U2cyJozFdNEYIAADq HTTP/1.1\" 200 -\n",
      "127.0.0.1 - - [27/Jul/2023 20:31:10] \"POST /socket.io/?EIO=4&transport=polling&t=OcQZDtn&sid=3vGHbTCqIrPExUGeAADs HTTP/1.1\" 200 -\n",
      "127.0.0.1 - - [27/Jul/2023 20:31:35] \"GET /socket.io/?EIO=4&transport=polling&t=OcQZDto&sid=3vGHbTCqIrPExUGeAADs HTTP/1.1\" 200 -\n",
      "127.0.0.1 - - [27/Jul/2023 20:31:35] \"GET /socket.io/?EIO=4&transport=polling&t=OcQZDtn&sid=_W7U2cyJozFdNEYIAADq HTTP/1.1\" 200 -\n",
      "127.0.0.1 - - [27/Jul/2023 20:31:35] \"POST /socket.io/?EIO=4&transport=polling&t=OcQZJ-g&sid=3vGHbTCqIrPExUGeAADs HTTP/1.1\" 200 -\n",
      "127.0.0.1 - - [27/Jul/2023 20:31:35] \"POST /socket.io/?EIO=4&transport=polling&t=OcQZJ-g&sid=_W7U2cyJozFdNEYIAADq HTTP/1.1\" 200 -\n",
      "127.0.0.1 - - [27/Jul/2023 20:32:00] \"GET /socket.io/?EIO=4&transport=polling&t=OcQZJ-h&sid=3vGHbTCqIrPExUGeAADs HTTP/1.1\" 200 -\n",
      "127.0.0.1 - - [27/Jul/2023 20:32:00] \"GET /socket.io/?EIO=4&transport=polling&t=OcQZJ-h&sid=_W7U2cyJozFdNEYIAADq HTTP/1.1\" 200 -\n",
      "127.0.0.1 - - [27/Jul/2023 20:32:00] \"POST /socket.io/?EIO=4&transport=polling&t=OcQZQ5a&sid=3vGHbTCqIrPExUGeAADs HTTP/1.1\" 200 -\n",
      "127.0.0.1 - - [27/Jul/2023 20:32:00] \"POST /socket.io/?EIO=4&transport=polling&t=OcQZQ5h&sid=_W7U2cyJozFdNEYIAADq HTTP/1.1\" 200 -\n",
      "127.0.0.1 - - [27/Jul/2023 20:32:25] \"GET /socket.io/?EIO=4&transport=polling&t=OcQZQ5b&sid=3vGHbTCqIrPExUGeAADs HTTP/1.1\" 200 -\n",
      "127.0.0.1 - - [27/Jul/2023 20:32:25] \"GET /socket.io/?EIO=4&transport=polling&t=OcQZQ5i&sid=_W7U2cyJozFdNEYIAADq HTTP/1.1\" 200 -\n",
      "127.0.0.1 - - [27/Jul/2023 20:32:25] \"POST /socket.io/?EIO=4&transport=polling&t=OcQZWCR&sid=3vGHbTCqIrPExUGeAADs HTTP/1.1\" 200 -\n",
      "127.0.0.1 - - [27/Jul/2023 20:32:25] \"POST /socket.io/?EIO=4&transport=polling&t=OcQZWCV&sid=_W7U2cyJozFdNEYIAADq HTTP/1.1\" 200 -\n",
      "127.0.0.1 - - [27/Jul/2023 20:32:50] \"GET /socket.io/?EIO=4&transport=polling&t=OcQZWCS&sid=3vGHbTCqIrPExUGeAADs HTTP/1.1\" 200 -\n",
      "127.0.0.1 - - [27/Jul/2023 20:32:50] \"GET /socket.io/?EIO=4&transport=polling&t=OcQZWCW&sid=_W7U2cyJozFdNEYIAADq HTTP/1.1\" 200 -\n",
      "127.0.0.1 - - [27/Jul/2023 20:32:50] \"POST /socket.io/?EIO=4&transport=polling&t=OcQZcJK&sid=3vGHbTCqIrPExUGeAADs HTTP/1.1\" 200 -\n",
      "127.0.0.1 - - [27/Jul/2023 20:32:50] \"POST /socket.io/?EIO=4&transport=polling&t=OcQZcJN&sid=_W7U2cyJozFdNEYIAADq HTTP/1.1\" 200 -\n",
      "127.0.0.1 - - [27/Jul/2023 20:33:15] \"GET /socket.io/?EIO=4&transport=polling&t=OcQZcJL&sid=3vGHbTCqIrPExUGeAADs HTTP/1.1\" 200 -\n",
      "127.0.0.1 - - [27/Jul/2023 20:33:15] \"POST /socket.io/?EIO=4&transport=polling&t=OcQZiQ4&sid=3vGHbTCqIrPExUGeAADs HTTP/1.1\" 200 -\n",
      "127.0.0.1 - - [27/Jul/2023 20:33:15] \"GET /socket.io/?EIO=4&transport=polling&t=OcQZcJN.0&sid=_W7U2cyJozFdNEYIAADq HTTP/1.1\" 200 -\n",
      "127.0.0.1 - - [27/Jul/2023 20:33:15] \"POST /socket.io/?EIO=4&transport=polling&t=OcQZiQC&sid=_W7U2cyJozFdNEYIAADq HTTP/1.1\" 200 -\n",
      "127.0.0.1 - - [27/Jul/2023 20:33:40] \"GET /socket.io/?EIO=4&transport=polling&t=OcQZiQ5&sid=3vGHbTCqIrPExUGeAADs HTTP/1.1\" 200 -\n",
      "127.0.0.1 - - [27/Jul/2023 20:33:40] \"POST /socket.io/?EIO=4&transport=polling&t=OcQZoWq&sid=3vGHbTCqIrPExUGeAADs HTTP/1.1\" 200 -\n",
      "127.0.0.1 - - [27/Jul/2023 20:33:40] \"GET /socket.io/?EIO=4&transport=polling&t=OcQZiQD&sid=_W7U2cyJozFdNEYIAADq HTTP/1.1\" 200 -\n",
      "127.0.0.1 - - [27/Jul/2023 20:33:40] \"POST /socket.io/?EIO=4&transport=polling&t=OcQZoW-&sid=_W7U2cyJozFdNEYIAADq HTTP/1.1\" 200 -\n",
      "127.0.0.1 - - [27/Jul/2023 20:34:05] \"GET /socket.io/?EIO=4&transport=polling&t=OcQZoWr&sid=3vGHbTCqIrPExUGeAADs HTTP/1.1\" 200 -\n",
      "127.0.0.1 - - [27/Jul/2023 20:34:05] \"GET /socket.io/?EIO=4&transport=polling&t=OcQZoW-.0&sid=_W7U2cyJozFdNEYIAADq HTTP/1.1\" 200 -\n",
      "127.0.0.1 - - [27/Jul/2023 20:34:05] \"POST /socket.io/?EIO=4&transport=polling&t=OcQZudg&sid=3vGHbTCqIrPExUGeAADs HTTP/1.1\" 200 -\n",
      "127.0.0.1 - - [27/Jul/2023 20:34:05] \"POST /socket.io/?EIO=4&transport=polling&t=OcQZudk&sid=_W7U2cyJozFdNEYIAADq HTTP/1.1\" 200 -\n",
      "127.0.0.1 - - [27/Jul/2023 20:34:30] \"GET /socket.io/?EIO=4&transport=polling&t=OcQZudh&sid=3vGHbTCqIrPExUGeAADs HTTP/1.1\" 200 -\n",
      "127.0.0.1 - - [27/Jul/2023 20:34:30] \"GET /socket.io/?EIO=4&transport=polling&t=OcQZudl&sid=_W7U2cyJozFdNEYIAADq HTTP/1.1\" 200 -\n",
      "127.0.0.1 - - [27/Jul/2023 20:34:30] \"POST /socket.io/?EIO=4&transport=polling&t=OcQZ-kU&sid=3vGHbTCqIrPExUGeAADs HTTP/1.1\" 200 -\n",
      "127.0.0.1 - - [27/Jul/2023 20:34:30] \"POST /socket.io/?EIO=4&transport=polling&t=OcQZ-ki&sid=_W7U2cyJozFdNEYIAADq HTTP/1.1\" 200 -\n",
      "127.0.0.1 - - [27/Jul/2023 20:34:55] \"GET /socket.io/?EIO=4&transport=polling&t=OcQZ-kV&sid=3vGHbTCqIrPExUGeAADs HTTP/1.1\" 200 -\n",
      "127.0.0.1 - - [27/Jul/2023 20:34:55] \"GET /socket.io/?EIO=4&transport=polling&t=OcQZ-kj&sid=_W7U2cyJozFdNEYIAADq HTTP/1.1\" 200 -\n",
      "127.0.0.1 - - [27/Jul/2023 20:34:55] \"POST /socket.io/?EIO=4&transport=polling&t=OcQa4rT&sid=3vGHbTCqIrPExUGeAADs HTTP/1.1\" 200 -\n",
      "127.0.0.1 - - [27/Jul/2023 20:34:55] \"POST /socket.io/?EIO=4&transport=polling&t=OcQa4rX&sid=_W7U2cyJozFdNEYIAADq HTTP/1.1\" 200 -\n",
      "127.0.0.1 - - [27/Jul/2023 20:35:20] \"GET /socket.io/?EIO=4&transport=polling&t=OcQa4rU&sid=3vGHbTCqIrPExUGeAADs HTTP/1.1\" 200 -\n",
      "127.0.0.1 - - [27/Jul/2023 20:35:20] \"GET /socket.io/?EIO=4&transport=polling&t=OcQa4rY&sid=_W7U2cyJozFdNEYIAADq HTTP/1.1\" 200 -\n",
      "127.0.0.1 - - [27/Jul/2023 20:35:20] \"POST /socket.io/?EIO=4&transport=polling&t=OcQaAyE&sid=3vGHbTCqIrPExUGeAADs HTTP/1.1\" 200 -\n",
      "127.0.0.1 - - [27/Jul/2023 20:35:20] \"POST /socket.io/?EIO=4&transport=polling&t=OcQaAyJ&sid=_W7U2cyJozFdNEYIAADq HTTP/1.1\" 200 -\n",
      "127.0.0.1 - - [27/Jul/2023 20:35:45] \"GET /socket.io/?EIO=4&transport=polling&t=OcQaAyF&sid=3vGHbTCqIrPExUGeAADs HTTP/1.1\" 200 -\n",
      "127.0.0.1 - - [27/Jul/2023 20:35:45] \"GET /socket.io/?EIO=4&transport=polling&t=OcQaAyK&sid=_W7U2cyJozFdNEYIAADq HTTP/1.1\" 200 -\n",
      "127.0.0.1 - - [27/Jul/2023 20:35:45] \"POST /socket.io/?EIO=4&transport=polling&t=OcQaH3B&sid=3vGHbTCqIrPExUGeAADs HTTP/1.1\" 200 -\n",
      "127.0.0.1 - - [27/Jul/2023 20:35:45] \"POST /socket.io/?EIO=4&transport=polling&t=OcQaH3F&sid=_W7U2cyJozFdNEYIAADq HTTP/1.1\" 200 -\n",
      "127.0.0.1 - - [27/Jul/2023 20:36:10] \"GET /socket.io/?EIO=4&transport=polling&t=OcQaH3C&sid=3vGHbTCqIrPExUGeAADs HTTP/1.1\" 200 -\n",
      "127.0.0.1 - - [27/Jul/2023 20:36:10] \"GET /socket.io/?EIO=4&transport=polling&t=OcQaH3G&sid=_W7U2cyJozFdNEYIAADq HTTP/1.1\" 200 -\n",
      "127.0.0.1 - - [27/Jul/2023 20:36:10] \"POST /socket.io/?EIO=4&transport=polling&t=OcQaNA7&sid=3vGHbTCqIrPExUGeAADs HTTP/1.1\" 200 -\n",
      "127.0.0.1 - - [27/Jul/2023 20:36:10] \"POST /socket.io/?EIO=4&transport=polling&t=OcQaNAE&sid=_W7U2cyJozFdNEYIAADq HTTP/1.1\" 200 -\n",
      "127.0.0.1 - - [27/Jul/2023 20:36:35] \"GET /socket.io/?EIO=4&transport=polling&t=OcQaNA8&sid=3vGHbTCqIrPExUGeAADs HTTP/1.1\" 200 -\n",
      "127.0.0.1 - - [27/Jul/2023 20:36:35] \"GET /socket.io/?EIO=4&transport=polling&t=OcQaNAE.0&sid=_W7U2cyJozFdNEYIAADq HTTP/1.1\" 200 -\n",
      "127.0.0.1 - - [27/Jul/2023 20:36:35] \"POST /socket.io/?EIO=4&transport=polling&t=OcQaTH2&sid=3vGHbTCqIrPExUGeAADs HTTP/1.1\" 200 -\n",
      "127.0.0.1 - - [27/Jul/2023 20:36:35] \"POST /socket.io/?EIO=4&transport=polling&t=OcQaTH8&sid=_W7U2cyJozFdNEYIAADq HTTP/1.1\" 200 -\n",
      "127.0.0.1 - - [27/Jul/2023 20:37:00] \"GET /socket.io/?EIO=4&transport=polling&t=OcQaTH4&sid=3vGHbTCqIrPExUGeAADs HTTP/1.1\" 200 -\n",
      "127.0.0.1 - - [27/Jul/2023 20:37:00] \"POST /socket.io/?EIO=4&transport=polling&t=OcQaZNr&sid=3vGHbTCqIrPExUGeAADs HTTP/1.1\" 200 -\n",
      "127.0.0.1 - - [27/Jul/2023 20:37:00] \"GET /socket.io/?EIO=4&transport=polling&t=OcQaTH9&sid=_W7U2cyJozFdNEYIAADq HTTP/1.1\" 200 -\n",
      "127.0.0.1 - - [27/Jul/2023 20:37:00] \"POST /socket.io/?EIO=4&transport=polling&t=OcQaZN-&sid=_W7U2cyJozFdNEYIAADq HTTP/1.1\" 200 -\n",
      "127.0.0.1 - - [27/Jul/2023 20:37:25] \"GET /socket.io/?EIO=4&transport=polling&t=OcQaZNs&sid=3vGHbTCqIrPExUGeAADs HTTP/1.1\" 200 -\n",
      "127.0.0.1 - - [27/Jul/2023 20:37:25] \"GET /socket.io/?EIO=4&transport=polling&t=OcQaZN_&sid=_W7U2cyJozFdNEYIAADq HTTP/1.1\" 200 -\n",
      "127.0.0.1 - - [27/Jul/2023 20:37:25] \"POST /socket.io/?EIO=4&transport=polling&t=OcQafUp&sid=_W7U2cyJozFdNEYIAADq HTTP/1.1\" 200 -\n",
      "127.0.0.1 - - [27/Jul/2023 20:37:25] \"POST /socket.io/?EIO=4&transport=polling&t=OcQafUp&sid=3vGHbTCqIrPExUGeAADs HTTP/1.1\" 200 -\n",
      "127.0.0.1 - - [27/Jul/2023 20:37:50] \"GET /socket.io/?EIO=4&transport=polling&t=OcQafUq&sid=_W7U2cyJozFdNEYIAADq HTTP/1.1\" 200 -\n",
      "127.0.0.1 - - [27/Jul/2023 20:37:50] \"GET /socket.io/?EIO=4&transport=polling&t=OcQafUq&sid=3vGHbTCqIrPExUGeAADs HTTP/1.1\" 200 -\n",
      "127.0.0.1 - - [27/Jul/2023 20:37:50] \"POST /socket.io/?EIO=4&transport=polling&t=OcQalbe&sid=_W7U2cyJozFdNEYIAADq HTTP/1.1\" 200 -\n",
      "127.0.0.1 - - [27/Jul/2023 20:37:50] \"POST /socket.io/?EIO=4&transport=polling&t=OcQalbi&sid=3vGHbTCqIrPExUGeAADs HTTP/1.1\" 200 -\n",
      "127.0.0.1 - - [27/Jul/2023 20:38:15] \"GET /socket.io/?EIO=4&transport=polling&t=OcQalbj&sid=3vGHbTCqIrPExUGeAADs HTTP/1.1\" 200 -\n",
      "127.0.0.1 - - [27/Jul/2023 20:38:15] \"GET /socket.io/?EIO=4&transport=polling&t=OcQalbf&sid=_W7U2cyJozFdNEYIAADq HTTP/1.1\" 200 -\n",
      "127.0.0.1 - - [27/Jul/2023 20:38:15] \"POST /socket.io/?EIO=4&transport=polling&t=OcQariX&sid=3vGHbTCqIrPExUGeAADs HTTP/1.1\" 200 -\n",
      "127.0.0.1 - - [27/Jul/2023 20:38:15] \"POST /socket.io/?EIO=4&transport=polling&t=OcQariY&sid=_W7U2cyJozFdNEYIAADq HTTP/1.1\" 200 -\n",
      "127.0.0.1 - - [27/Jul/2023 20:38:40] \"GET /socket.io/?EIO=4&transport=polling&t=OcQariX.0&sid=3vGHbTCqIrPExUGeAADs HTTP/1.1\" 200 -\n",
      "127.0.0.1 - - [27/Jul/2023 20:38:40] \"GET /socket.io/?EIO=4&transport=polling&t=OcQariZ&sid=_W7U2cyJozFdNEYIAADq HTTP/1.1\" 200 -\n",
      "127.0.0.1 - - [27/Jul/2023 20:38:40] \"POST /socket.io/?EIO=4&transport=polling&t=OcQaxpR&sid=3vGHbTCqIrPExUGeAADs HTTP/1.1\" 200 -\n",
      "127.0.0.1 - - [27/Jul/2023 20:38:40] \"POST /socket.io/?EIO=4&transport=polling&t=OcQaxpS&sid=_W7U2cyJozFdNEYIAADq HTTP/1.1\" 200 -\n",
      "127.0.0.1 - - [27/Jul/2023 20:39:05] \"GET /socket.io/?EIO=4&transport=polling&t=OcQaxpR.0&sid=3vGHbTCqIrPExUGeAADs HTTP/1.1\" 200 -\n",
      "127.0.0.1 - - [27/Jul/2023 20:39:05] \"GET /socket.io/?EIO=4&transport=polling&t=OcQaxpT&sid=_W7U2cyJozFdNEYIAADq HTTP/1.1\" 200 -\n",
      "127.0.0.1 - - [27/Jul/2023 20:39:05] \"POST /socket.io/?EIO=4&transport=polling&t=OcQb1wO&sid=3vGHbTCqIrPExUGeAADs HTTP/1.1\" 200 -\n",
      "127.0.0.1 - - [27/Jul/2023 20:39:05] \"POST /socket.io/?EIO=4&transport=polling&t=OcQb1wQ&sid=_W7U2cyJozFdNEYIAADq HTTP/1.1\" 200 -\n",
      "127.0.0.1 - - [27/Jul/2023 20:39:30] \"GET /socket.io/?EIO=4&transport=polling&t=OcQb1wP&sid=3vGHbTCqIrPExUGeAADs HTTP/1.1\" 200 -\n",
      "127.0.0.1 - - [27/Jul/2023 20:39:30] \"GET /socket.io/?EIO=4&transport=polling&t=OcQb1wR&sid=_W7U2cyJozFdNEYIAADq HTTP/1.1\" 200 -\n",
      "127.0.0.1 - - [27/Jul/2023 20:39:30] \"POST /socket.io/?EIO=4&transport=polling&t=OcQb81N&sid=3vGHbTCqIrPExUGeAADs HTTP/1.1\" 200 -\n",
      "127.0.0.1 - - [27/Jul/2023 20:39:30] \"POST /socket.io/?EIO=4&transport=polling&t=OcQb81P&sid=_W7U2cyJozFdNEYIAADq HTTP/1.1\" 200 -\n",
      "127.0.0.1 - - [27/Jul/2023 20:39:55] \"GET /socket.io/?EIO=4&transport=polling&t=OcQb81O&sid=3vGHbTCqIrPExUGeAADs HTTP/1.1\" 200 -\n",
      "127.0.0.1 - - [27/Jul/2023 20:39:55] \"GET /socket.io/?EIO=4&transport=polling&t=OcQb81Q&sid=_W7U2cyJozFdNEYIAADq HTTP/1.1\" 200 -\n",
      "127.0.0.1 - - [27/Jul/2023 20:39:55] \"POST /socket.io/?EIO=4&transport=polling&t=OcQbE8K&sid=3vGHbTCqIrPExUGeAADs HTTP/1.1\" 200 -\n",
      "127.0.0.1 - - [27/Jul/2023 20:39:55] \"POST /socket.io/?EIO=4&transport=polling&t=OcQbE8N&sid=_W7U2cyJozFdNEYIAADq HTTP/1.1\" 200 -\n",
      "127.0.0.1 - - [27/Jul/2023 20:40:20] \"GET /socket.io/?EIO=4&transport=polling&t=OcQbE8L&sid=3vGHbTCqIrPExUGeAADs HTTP/1.1\" 200 -\n",
      "127.0.0.1 - - [27/Jul/2023 20:40:20] \"GET /socket.io/?EIO=4&transport=polling&t=OcQbE8O&sid=_W7U2cyJozFdNEYIAADq HTTP/1.1\" 200 -\n",
      "127.0.0.1 - - [27/Jul/2023 20:40:20] \"POST /socket.io/?EIO=4&transport=polling&t=OcQbKFH&sid=3vGHbTCqIrPExUGeAADs HTTP/1.1\" 200 -\n",
      "127.0.0.1 - - [27/Jul/2023 20:40:20] \"POST /socket.io/?EIO=4&transport=polling&t=OcQbKFH&sid=_W7U2cyJozFdNEYIAADq HTTP/1.1\" 200 -\n",
      "127.0.0.1 - - [27/Jul/2023 20:40:45] \"GET /socket.io/?EIO=4&transport=polling&t=OcQbKFI&sid=3vGHbTCqIrPExUGeAADs HTTP/1.1\" 200 -\n",
      "127.0.0.1 - - [27/Jul/2023 20:40:45] \"GET /socket.io/?EIO=4&transport=polling&t=OcQbKFI&sid=_W7U2cyJozFdNEYIAADq HTTP/1.1\" 200 -\n",
      "127.0.0.1 - - [27/Jul/2023 20:40:45] \"POST /socket.io/?EIO=4&transport=polling&t=OcQbQMF&sid=3vGHbTCqIrPExUGeAADs HTTP/1.1\" 200 -\n",
      "127.0.0.1 - - [27/Jul/2023 20:40:45] \"POST /socket.io/?EIO=4&transport=polling&t=OcQbQMG&sid=_W7U2cyJozFdNEYIAADq HTTP/1.1\" 200 -\n",
      "127.0.0.1 - - [27/Jul/2023 20:41:10] \"GET /socket.io/?EIO=4&transport=polling&t=OcQbQMG&sid=3vGHbTCqIrPExUGeAADs HTTP/1.1\" 200 -\n",
      "127.0.0.1 - - [27/Jul/2023 20:41:10] \"GET /socket.io/?EIO=4&transport=polling&t=OcQbQMH&sid=_W7U2cyJozFdNEYIAADq HTTP/1.1\" 200 -\n",
      "127.0.0.1 - - [27/Jul/2023 20:41:10] \"POST /socket.io/?EIO=4&transport=polling&t=OcQbWTD&sid=3vGHbTCqIrPExUGeAADs HTTP/1.1\" 200 -\n",
      "127.0.0.1 - - [27/Jul/2023 20:41:10] \"POST /socket.io/?EIO=4&transport=polling&t=OcQbWTI&sid=_W7U2cyJozFdNEYIAADq HTTP/1.1\" 200 -\n",
      "127.0.0.1 - - [27/Jul/2023 20:41:35] \"GET /socket.io/?EIO=4&transport=polling&t=OcQbWTE&sid=3vGHbTCqIrPExUGeAADs HTTP/1.1\" 200 -\n",
      "127.0.0.1 - - [27/Jul/2023 20:41:35] \"GET /socket.io/?EIO=4&transport=polling&t=OcQbWTJ&sid=_W7U2cyJozFdNEYIAADq HTTP/1.1\" 200 -\n",
      "127.0.0.1 - - [27/Jul/2023 20:41:35] \"POST /socket.io/?EIO=4&transport=polling&t=OcQbcaE&sid=_W7U2cyJozFdNEYIAADq HTTP/1.1\" 200 -\n",
      "127.0.0.1 - - [27/Jul/2023 20:41:35] \"POST /socket.io/?EIO=4&transport=polling&t=OcQbcaB&sid=3vGHbTCqIrPExUGeAADs HTTP/1.1\" 200 -\n",
      "127.0.0.1 - - [27/Jul/2023 20:42:00] \"GET /socket.io/?EIO=4&transport=polling&t=OcQbcaC&sid=3vGHbTCqIrPExUGeAADs HTTP/1.1\" 200 -\n",
      "127.0.0.1 - - [27/Jul/2023 20:42:00] \"GET /socket.io/?EIO=4&transport=polling&t=OcQbcaF&sid=_W7U2cyJozFdNEYIAADq HTTP/1.1\" 200 -\n",
      "127.0.0.1 - - [27/Jul/2023 20:42:00] \"POST /socket.io/?EIO=4&transport=polling&t=OcQbih9&sid=3vGHbTCqIrPExUGeAADs HTTP/1.1\" 200 -\n",
      "127.0.0.1 - - [27/Jul/2023 20:42:00] \"POST /socket.io/?EIO=4&transport=polling&t=OcQbihD&sid=_W7U2cyJozFdNEYIAADq HTTP/1.1\" 200 -\n",
      "127.0.0.1 - - [27/Jul/2023 20:42:25] \"GET /socket.io/?EIO=4&transport=polling&t=OcQbihA&sid=3vGHbTCqIrPExUGeAADs HTTP/1.1\" 200 -\n",
      "127.0.0.1 - - [27/Jul/2023 20:42:25] \"GET /socket.io/?EIO=4&transport=polling&t=OcQbihE&sid=_W7U2cyJozFdNEYIAADq HTTP/1.1\" 200 -\n",
      "127.0.0.1 - - [27/Jul/2023 20:42:25] \"POST /socket.io/?EIO=4&transport=polling&t=OcQboo7&sid=3vGHbTCqIrPExUGeAADs HTTP/1.1\" 200 -\n",
      "127.0.0.1 - - [27/Jul/2023 20:42:25] \"POST /socket.io/?EIO=4&transport=polling&t=OcQboo8&sid=_W7U2cyJozFdNEYIAADq HTTP/1.1\" 200 -\n",
      "127.0.0.1 - - [27/Jul/2023 20:42:50] \"GET /socket.io/?EIO=4&transport=polling&t=OcQboo8&sid=3vGHbTCqIrPExUGeAADs HTTP/1.1\" 200 -\n",
      "127.0.0.1 - - [27/Jul/2023 20:42:50] \"GET /socket.io/?EIO=4&transport=polling&t=OcQboo9&sid=_W7U2cyJozFdNEYIAADq HTTP/1.1\" 200 -\n",
      "127.0.0.1 - - [27/Jul/2023 20:42:50] \"POST /socket.io/?EIO=4&transport=polling&t=OcQbuv5&sid=_W7U2cyJozFdNEYIAADq HTTP/1.1\" 200 -\n",
      "127.0.0.1 - - [27/Jul/2023 20:42:50] \"POST /socket.io/?EIO=4&transport=polling&t=OcQbuv5&sid=3vGHbTCqIrPExUGeAADs HTTP/1.1\" 200 -\n",
      "127.0.0.1 - - [27/Jul/2023 20:43:15] \"GET /socket.io/?EIO=4&transport=polling&t=OcQbuv6&sid=_W7U2cyJozFdNEYIAADq HTTP/1.1\" 200 -\n",
      "127.0.0.1 - - [27/Jul/2023 20:43:15] \"GET /socket.io/?EIO=4&transport=polling&t=OcQbuv6&sid=3vGHbTCqIrPExUGeAADs HTTP/1.1\" 200 -\n",
      "127.0.0.1 - - [27/Jul/2023 20:43:15] \"POST /socket.io/?EIO=4&transport=polling&t=OcQb_01&sid=_W7U2cyJozFdNEYIAADq HTTP/1.1\" 200 -\n",
      "127.0.0.1 - - [27/Jul/2023 20:43:15] \"POST /socket.io/?EIO=4&transport=polling&t=OcQb_09&sid=3vGHbTCqIrPExUGeAADs HTTP/1.1\" 200 -\n",
      "127.0.0.1 - - [27/Jul/2023 20:43:40] \"GET /socket.io/?EIO=4&transport=polling&t=OcQb_0A&sid=3vGHbTCqIrPExUGeAADs HTTP/1.1\" 200 -\n",
      "127.0.0.1 - - [27/Jul/2023 20:43:40] \"GET /socket.io/?EIO=4&transport=polling&t=OcQb_02&sid=_W7U2cyJozFdNEYIAADq HTTP/1.1\" 200 -\n",
      "127.0.0.1 - - [27/Jul/2023 20:43:40] \"POST /socket.io/?EIO=4&transport=polling&t=OcQc56_&sid=3vGHbTCqIrPExUGeAADs HTTP/1.1\" 200 -\n",
      "127.0.0.1 - - [27/Jul/2023 20:43:41] \"POST /socket.io/?EIO=4&transport=polling&t=OcQc56_&sid=_W7U2cyJozFdNEYIAADq HTTP/1.1\" 200 -\n",
      "127.0.0.1 - - [27/Jul/2023 20:44:06] \"GET /socket.io/?EIO=4&transport=polling&t=OcQc570&sid=3vGHbTCqIrPExUGeAADs HTTP/1.1\" 200 -\n",
      "127.0.0.1 - - [27/Jul/2023 20:44:06] \"GET /socket.io/?EIO=4&transport=polling&t=OcQc570&sid=_W7U2cyJozFdNEYIAADq HTTP/1.1\" 200 -\n",
      "127.0.0.1 - - [27/Jul/2023 20:44:06] \"POST /socket.io/?EIO=4&transport=polling&t=OcQcBD_&sid=3vGHbTCqIrPExUGeAADs HTTP/1.1\" 200 -\n",
      "127.0.0.1 - - [27/Jul/2023 20:44:06] \"POST /socket.io/?EIO=4&transport=polling&t=OcQcBE1&sid=_W7U2cyJozFdNEYIAADq HTTP/1.1\" 200 -\n",
      "127.0.0.1 - - [27/Jul/2023 20:44:31] \"GET /socket.io/?EIO=4&transport=polling&t=OcQcBE2&sid=_W7U2cyJozFdNEYIAADq HTTP/1.1\" 200 -\n",
      "127.0.0.1 - - [27/Jul/2023 20:44:31] \"GET /socket.io/?EIO=4&transport=polling&t=OcQcBE0&sid=3vGHbTCqIrPExUGeAADs HTTP/1.1\" 200 -\n",
      "127.0.0.1 - - [27/Jul/2023 20:44:31] \"POST /socket.io/?EIO=4&transport=polling&t=OcQcHKt&sid=_W7U2cyJozFdNEYIAADq HTTP/1.1\" 200 -\n",
      "127.0.0.1 - - [27/Jul/2023 20:44:31] \"POST /socket.io/?EIO=4&transport=polling&t=OcQcHKt&sid=3vGHbTCqIrPExUGeAADs HTTP/1.1\" 200 -\n",
      "127.0.0.1 - - [27/Jul/2023 20:44:56] \"GET /socket.io/?EIO=4&transport=polling&t=OcQcHKu&sid=_W7U2cyJozFdNEYIAADq HTTP/1.1\" 200 -\n",
      "127.0.0.1 - - [27/Jul/2023 20:44:56] \"GET /socket.io/?EIO=4&transport=polling&t=OcQcHKu&sid=3vGHbTCqIrPExUGeAADs HTTP/1.1\" 200 -\n",
      "127.0.0.1 - - [27/Jul/2023 20:44:56] \"POST /socket.io/?EIO=4&transport=polling&t=OcQcNRp&sid=_W7U2cyJozFdNEYIAADq HTTP/1.1\" 200 -\n",
      "127.0.0.1 - - [27/Jul/2023 20:44:56] \"POST /socket.io/?EIO=4&transport=polling&t=OcQcNRt&sid=3vGHbTCqIrPExUGeAADs HTTP/1.1\" 200 -\n",
      "127.0.0.1 - - [27/Jul/2023 20:45:00] \"POST /socket.io/?EIO=4&transport=polling&t=OcQcOee&sid=3vGHbTCqIrPExUGeAADs HTTP/1.1\" 200 -\n",
      "127.0.0.1 - - [27/Jul/2023 20:45:00] \"POST /socket.io/?EIO=4&transport=polling&t=OcQcOek&sid=_W7U2cyJozFdNEYIAADq HTTP/1.1\" 200 -\n",
      "127.0.0.1 - - [27/Jul/2023 20:45:00] \"GET /socket.io/?EIO=4&transport=polling&t=OcQcNRq&sid=_W7U2cyJozFdNEYIAADq HTTP/1.1\" 200 -\n",
      "127.0.0.1 - - [27/Jul/2023 20:45:00] \"GET /socket.io/?EIO=4&transport=polling&t=OcQcNRu&sid=3vGHbTCqIrPExUGeAADs HTTP/1.1\" 200 -\n",
      "127.0.0.1 - - [27/Jul/2023 20:45:01] \"GET /socket.io/?EIO=4&transport=polling&t=OcQcOs4 HTTP/1.1\" 200 -\n",
      "127.0.0.1 - - [27/Jul/2023 20:45:01] \"POST /socket.io/?EIO=4&transport=polling&t=OcQcOsB&sid=Iglh5Be-iMxROnoxAADu HTTP/1.1\" 200 -\n",
      "127.0.0.1 - - [27/Jul/2023 20:45:01] \"GET /socket.io/?EIO=4&transport=polling&t=OcQcOsC&sid=Iglh5Be-iMxROnoxAADu HTTP/1.1\" 200 -\n",
      "127.0.0.1 - - [27/Jul/2023 20:45:02] \"GET /socket.io/?EIO=4&transport=polling&t=OcQcP5c HTTP/1.1\" 200 -\n",
      "127.0.0.1 - - [27/Jul/2023 20:45:02] \"POST /socket.io/?EIO=4&transport=polling&t=OcQcP5j&sid=bfQfK_e8aK74XfRxAADw HTTP/1.1\" 200 -\n",
      "127.0.0.1 - - [27/Jul/2023 20:45:02] \"GET /socket.io/?EIO=4&transport=polling&t=OcQcP5k&sid=bfQfK_e8aK74XfRxAADw HTTP/1.1\" 200 -\n",
      "127.0.0.1 - - [27/Jul/2023 20:45:29] \"GET /socket.io/?EIO=4&transport=polling&t=OcQcOsJ&sid=Iglh5Be-iMxROnoxAADu HTTP/1.1\" 200 -\n",
      "127.0.0.1 - - [27/Jul/2023 20:45:29] \"POST /socket.io/?EIO=4&transport=polling&t=OcQcVh3&sid=Iglh5Be-iMxROnoxAADu HTTP/1.1\" 200 -\n",
      "127.0.0.1 - - [27/Jul/2023 20:45:30] \"GET /socket.io/?EIO=4&transport=polling&t=OcQcP5s&sid=bfQfK_e8aK74XfRxAADw HTTP/1.1\" 200 -\n",
      "127.0.0.1 - - [27/Jul/2023 20:45:30] \"POST /socket.io/?EIO=4&transport=polling&t=OcQcVwb&sid=bfQfK_e8aK74XfRxAADw HTTP/1.1\" 200 -\n",
      "127.0.0.1 - - [27/Jul/2023 20:45:54] \"GET /socket.io/?EIO=4&transport=polling&t=OcQcVh4&sid=Iglh5Be-iMxROnoxAADu HTTP/1.1\" 200 -\n",
      "127.0.0.1 - - [27/Jul/2023 20:45:54] \"POST /socket.io/?EIO=4&transport=polling&t=OcQcbnr&sid=Iglh5Be-iMxROnoxAADu HTTP/1.1\" 200 -\n",
      "127.0.0.1 - - [27/Jul/2023 20:45:55] \"GET /socket.io/?EIO=4&transport=polling&t=OcQcVwc&sid=bfQfK_e8aK74XfRxAADw HTTP/1.1\" 200 -\n",
      "127.0.0.1 - - [27/Jul/2023 20:45:55] \"POST /socket.io/?EIO=4&transport=polling&t=OcQcc1V&sid=bfQfK_e8aK74XfRxAADw HTTP/1.1\" 200 -\n",
      "127.0.0.1 - - [27/Jul/2023 20:47:11] \"GET /socket.io/?EIO=4&transport=polling&t=OcQcbns&sid=Iglh5Be-iMxROnoxAADu HTTP/1.1\" 200 -\n",
      "127.0.0.1 - - [27/Jul/2023 20:47:11] \"POST /socket.io/?EIO=4&transport=polling&t=OcQcuOY&sid=Iglh5Be-iMxROnoxAADu HTTP/1.1\" 200 -\n",
      "127.0.0.1 - - [27/Jul/2023 20:47:12] \"GET /socket.io/?EIO=4&transport=polling&t=OcQcc1W&sid=bfQfK_e8aK74XfRxAADw HTTP/1.1\" 200 -\n",
      "127.0.0.1 - - [27/Jul/2023 20:47:12] \"POST /socket.io/?EIO=4&transport=polling&t=OcQcueG&sid=bfQfK_e8aK74XfRxAADw HTTP/1.1\" 200 -\n",
      "127.0.0.1 - - [27/Jul/2023 20:47:36] \"GET /socket.io/?EIO=4&transport=polling&t=OcQcuOZ&sid=Iglh5Be-iMxROnoxAADu HTTP/1.1\" 200 -\n",
      "127.0.0.1 - - [27/Jul/2023 20:47:36] \"POST /socket.io/?EIO=4&transport=polling&t=OcQc-VT&sid=Iglh5Be-iMxROnoxAADu HTTP/1.1\" 200 -\n",
      "127.0.0.1 - - [27/Jul/2023 20:47:37] \"GET /socket.io/?EIO=4&transport=polling&t=OcQcueH&sid=bfQfK_e8aK74XfRxAADw HTTP/1.1\" 200 -\n",
      "127.0.0.1 - - [27/Jul/2023 20:47:37] \"POST /socket.io/?EIO=4&transport=polling&t=OcQc-lA&sid=bfQfK_e8aK74XfRxAADw HTTP/1.1\" 200 -\n",
      "127.0.0.1 - - [27/Jul/2023 20:49:47] \"GET /socket.io/?EIO=4&transport=polling&t=OcQc-VU&sid=Iglh5Be-iMxROnoxAADu HTTP/1.1\" 200 -\n",
      "127.0.0.1 - - [27/Jul/2023 20:49:47] \"POST /socket.io/?EIO=4&transport=polling&t=OcQdUVF&sid=Iglh5Be-iMxROnoxAADu HTTP/1.1\" 200 -\n",
      "127.0.0.1 - - [27/Jul/2023 20:49:48] \"GET /socket.io/?EIO=4&transport=polling&t=OcQc-lB&sid=bfQfK_e8aK74XfRxAADw HTTP/1.1\" 200 -\n",
      "127.0.0.1 - - [27/Jul/2023 20:49:48] \"POST /socket.io/?EIO=4&transport=polling&t=OcQdUkt&sid=bfQfK_e8aK74XfRxAADw HTTP/1.1\" 200 -\n",
      "127.0.0.1 - - [27/Jul/2023 20:50:12] \"GET /socket.io/?EIO=4&transport=polling&t=OcQdUVG&sid=Iglh5Be-iMxROnoxAADu HTTP/1.1\" 200 -\n",
      "127.0.0.1 - - [27/Jul/2023 20:50:12] \"POST /socket.io/?EIO=4&transport=polling&t=OcQdac0&sid=Iglh5Be-iMxROnoxAADu HTTP/1.1\" 200 -\n",
      "127.0.0.1 - - [27/Jul/2023 20:50:13] \"GET /socket.io/?EIO=4&transport=polling&t=OcQdUku&sid=bfQfK_e8aK74XfRxAADw HTTP/1.1\" 200 -\n",
      "127.0.0.1 - - [27/Jul/2023 20:50:13] \"POST /socket.io/?EIO=4&transport=polling&t=OcQdarl&sid=bfQfK_e8aK74XfRxAADw HTTP/1.1\" 200 -\n",
      "127.0.0.1 - - [27/Jul/2023 20:50:37] \"GET /socket.io/?EIO=4&transport=polling&t=OcQdac1&sid=Iglh5Be-iMxROnoxAADu HTTP/1.1\" 200 -\n",
      "127.0.0.1 - - [27/Jul/2023 20:50:37] \"POST /socket.io/?EIO=4&transport=polling&t=OcQdgir&sid=Iglh5Be-iMxROnoxAADu HTTP/1.1\" 200 -\n",
      "127.0.0.1 - - [27/Jul/2023 20:50:38] \"GET /socket.io/?EIO=4&transport=polling&t=OcQdarm&sid=bfQfK_e8aK74XfRxAADw HTTP/1.1\" 200 -\n",
      "127.0.0.1 - - [27/Jul/2023 20:50:38] \"POST /socket.io/?EIO=4&transport=polling&t=OcQdgyf&sid=bfQfK_e8aK74XfRxAADw HTTP/1.1\" 200 -\n",
      "127.0.0.1 - - [27/Jul/2023 20:51:02] \"GET /socket.io/?EIO=4&transport=polling&t=OcQdgis&sid=Iglh5Be-iMxROnoxAADu HTTP/1.1\" 200 -\n",
      "127.0.0.1 - - [27/Jul/2023 20:51:02] \"POST /socket.io/?EIO=4&transport=polling&t=OcQdmpg&sid=Iglh5Be-iMxROnoxAADu HTTP/1.1\" 200 -\n",
      "127.0.0.1 - - [27/Jul/2023 20:51:03] \"GET /socket.io/?EIO=4&transport=polling&t=OcQdgyg&sid=bfQfK_e8aK74XfRxAADw HTTP/1.1\" 200 -\n",
      "127.0.0.1 - - [27/Jul/2023 20:51:03] \"POST /socket.io/?EIO=4&transport=polling&t=OcQdn3S&sid=bfQfK_e8aK74XfRxAADw HTTP/1.1\" 200 -\n",
      "127.0.0.1 - - [27/Jul/2023 20:51:27] \"GET /socket.io/?EIO=4&transport=polling&t=OcQdmph&sid=Iglh5Be-iMxROnoxAADu HTTP/1.1\" 200 -\n",
      "127.0.0.1 - - [27/Jul/2023 20:51:27] \"POST /socket.io/?EIO=4&transport=polling&t=OcQdswW&sid=Iglh5Be-iMxROnoxAADu HTTP/1.1\" 200 -\n",
      "127.0.0.1 - - [27/Jul/2023 20:51:28] \"GET /socket.io/?EIO=4&transport=polling&t=OcQdn3U&sid=bfQfK_e8aK74XfRxAADw HTTP/1.1\" 200 -\n",
      "127.0.0.1 - - [27/Jul/2023 20:51:28] \"POST /socket.io/?EIO=4&transport=polling&t=OcQdtAN&sid=bfQfK_e8aK74XfRxAADw HTTP/1.1\" 200 -\n",
      "127.0.0.1 - - [27/Jul/2023 20:51:52] \"GET /socket.io/?EIO=4&transport=polling&t=OcQdswX&sid=Iglh5Be-iMxROnoxAADu HTTP/1.1\" 200 -\n",
      "127.0.0.1 - - [27/Jul/2023 20:51:52] \"POST /socket.io/?EIO=4&transport=polling&t=OcQdz1I&sid=Iglh5Be-iMxROnoxAADu HTTP/1.1\" 200 -\n",
      "127.0.0.1 - - [27/Jul/2023 20:51:53] \"GET /socket.io/?EIO=4&transport=polling&t=OcQdtAO&sid=bfQfK_e8aK74XfRxAADw HTTP/1.1\" 200 -\n",
      "127.0.0.1 - - [27/Jul/2023 20:51:53] \"POST /socket.io/?EIO=4&transport=polling&t=OcQdzHB&sid=bfQfK_e8aK74XfRxAADw HTTP/1.1\" 200 -\n",
      "127.0.0.1 - - [27/Jul/2023 20:52:17] \"GET /socket.io/?EIO=4&transport=polling&t=OcQdz1I.0&sid=Iglh5Be-iMxROnoxAADu HTTP/1.1\" 200 -\n",
      "127.0.0.1 - - [27/Jul/2023 20:52:17] \"POST /socket.io/?EIO=4&transport=polling&t=OcQe384&sid=Iglh5Be-iMxROnoxAADu HTTP/1.1\" 200 -\n",
      "127.0.0.1 - - [27/Jul/2023 20:52:18] \"GET /socket.io/?EIO=4&transport=polling&t=OcQdzHC&sid=bfQfK_e8aK74XfRxAADw HTTP/1.1\" 200 -\n",
      "127.0.0.1 - - [27/Jul/2023 20:52:18] \"POST /socket.io/?EIO=4&transport=polling&t=OcQe3O0&sid=bfQfK_e8aK74XfRxAADw HTTP/1.1\" 200 -\n",
      "127.0.0.1 - - [27/Jul/2023 20:52:42] \"GET /socket.io/?EIO=4&transport=polling&t=OcQe385&sid=Iglh5Be-iMxROnoxAADu HTTP/1.1\" 200 -\n",
      "127.0.0.1 - - [27/Jul/2023 20:52:42] \"POST /socket.io/?EIO=4&transport=polling&t=OcQe9Ew&sid=Iglh5Be-iMxROnoxAADu HTTP/1.1\" 200 -\n",
      "127.0.0.1 - - [27/Jul/2023 20:52:43] \"GET /socket.io/?EIO=4&transport=polling&t=OcQe3O1&sid=bfQfK_e8aK74XfRxAADw HTTP/1.1\" 200 -\n",
      "127.0.0.1 - - [27/Jul/2023 20:52:43] \"POST /socket.io/?EIO=4&transport=polling&t=OcQe9Us&sid=bfQfK_e8aK74XfRxAADw HTTP/1.1\" 200 -\n",
      "127.0.0.1 - - [27/Jul/2023 20:53:07] \"GET /socket.io/?EIO=4&transport=polling&t=OcQe9Ex&sid=Iglh5Be-iMxROnoxAADu HTTP/1.1\" 200 -\n",
      "127.0.0.1 - - [27/Jul/2023 20:53:07] \"POST /socket.io/?EIO=4&transport=polling&t=OcQeFLg&sid=Iglh5Be-iMxROnoxAADu HTTP/1.1\" 200 -\n",
      "127.0.0.1 - - [27/Jul/2023 20:53:08] \"GET /socket.io/?EIO=4&transport=polling&t=OcQe9Ut&sid=bfQfK_e8aK74XfRxAADw HTTP/1.1\" 200 -\n",
      "127.0.0.1 - - [27/Jul/2023 20:53:08] \"POST /socket.io/?EIO=4&transport=polling&t=OcQeFbm&sid=bfQfK_e8aK74XfRxAADw HTTP/1.1\" 200 -\n",
      "127.0.0.1 - - [27/Jul/2023 20:53:32] \"GET /socket.io/?EIO=4&transport=polling&t=OcQeFLh&sid=Iglh5Be-iMxROnoxAADu HTTP/1.1\" 200 -\n",
      "127.0.0.1 - - [27/Jul/2023 20:53:32] \"POST /socket.io/?EIO=4&transport=polling&t=OcQeLST&sid=Iglh5Be-iMxROnoxAADu HTTP/1.1\" 200 -\n",
      "127.0.0.1 - - [27/Jul/2023 20:53:33] \"GET /socket.io/?EIO=4&transport=polling&t=OcQeFbn&sid=bfQfK_e8aK74XfRxAADw HTTP/1.1\" 200 -\n",
      "127.0.0.1 - - [27/Jul/2023 20:53:33] \"POST /socket.io/?EIO=4&transport=polling&t=OcQeLib&sid=bfQfK_e8aK74XfRxAADw HTTP/1.1\" 200 -\n",
      "127.0.0.1 - - [27/Jul/2023 20:53:57] \"GET /socket.io/?EIO=4&transport=polling&t=OcQeLSU&sid=Iglh5Be-iMxROnoxAADu HTTP/1.1\" 200 -\n",
      "127.0.0.1 - - [27/Jul/2023 20:53:57] \"POST /socket.io/?EIO=4&transport=polling&t=OcQeRZI&sid=Iglh5Be-iMxROnoxAADu HTTP/1.1\" 200 -\n",
      "127.0.0.1 - - [27/Jul/2023 20:53:58] \"GET /socket.io/?EIO=4&transport=polling&t=OcQeLic&sid=bfQfK_e8aK74XfRxAADw HTTP/1.1\" 200 -\n",
      "127.0.0.1 - - [27/Jul/2023 20:53:58] \"POST /socket.io/?EIO=4&transport=polling&t=OcQeRpO&sid=bfQfK_e8aK74XfRxAADw HTTP/1.1\" 200 -\n",
      "127.0.0.1 - - [27/Jul/2023 20:54:22] \"GET /socket.io/?EIO=4&transport=polling&t=OcQeRZJ&sid=Iglh5Be-iMxROnoxAADu HTTP/1.1\" 200 -\n",
      "127.0.0.1 - - [27/Jul/2023 20:54:22] \"POST /socket.io/?EIO=4&transport=polling&t=OcQeXg5&sid=Iglh5Be-iMxROnoxAADu HTTP/1.1\" 200 -\n",
      "127.0.0.1 - - [27/Jul/2023 20:54:23] \"GET /socket.io/?EIO=4&transport=polling&t=OcQeRpP&sid=bfQfK_e8aK74XfRxAADw HTTP/1.1\" 200 -\n",
      "127.0.0.1 - - [27/Jul/2023 20:54:23] \"POST /socket.io/?EIO=4&transport=polling&t=OcQeXw7&sid=bfQfK_e8aK74XfRxAADw HTTP/1.1\" 200 -\n",
      "127.0.0.1 - - [27/Jul/2023 20:54:47] \"GET /socket.io/?EIO=4&transport=polling&t=OcQeXg6&sid=Iglh5Be-iMxROnoxAADu HTTP/1.1\" 200 -\n",
      "127.0.0.1 - - [27/Jul/2023 20:54:47] \"POST /socket.io/?EIO=4&transport=polling&t=OcQedms&sid=Iglh5Be-iMxROnoxAADu HTTP/1.1\" 200 -\n",
      "127.0.0.1 - - [27/Jul/2023 20:54:48] \"GET /socket.io/?EIO=4&transport=polling&t=OcQeXw8&sid=bfQfK_e8aK74XfRxAADw HTTP/1.1\" 200 -\n",
      "127.0.0.1 - - [27/Jul/2023 20:54:48] \"POST /socket.io/?EIO=4&transport=polling&t=OcQee0v&sid=bfQfK_e8aK74XfRxAADw HTTP/1.1\" 200 -\n",
      "127.0.0.1 - - [27/Jul/2023 20:55:12] \"GET /socket.io/?EIO=4&transport=polling&t=OcQedmt&sid=Iglh5Be-iMxROnoxAADu HTTP/1.1\" 200 -\n",
      "127.0.0.1 - - [27/Jul/2023 20:55:12] \"POST /socket.io/?EIO=4&transport=polling&t=OcQejtc&sid=Iglh5Be-iMxROnoxAADu HTTP/1.1\" 200 -\n",
      "127.0.0.1 - - [27/Jul/2023 20:55:13] \"GET /socket.io/?EIO=4&transport=polling&t=OcQee0w&sid=bfQfK_e8aK74XfRxAADw HTTP/1.1\" 200 -\n",
      "127.0.0.1 - - [27/Jul/2023 20:55:13] \"POST /socket.io/?EIO=4&transport=polling&t=OcQek7h&sid=bfQfK_e8aK74XfRxAADw HTTP/1.1\" 200 -\n",
      "127.0.0.1 - - [27/Jul/2023 20:55:37] \"GET /socket.io/?EIO=4&transport=polling&t=OcQejtd&sid=Iglh5Be-iMxROnoxAADu HTTP/1.1\" 200 -\n",
      "127.0.0.1 - - [27/Jul/2023 20:55:37] \"POST /socket.io/?EIO=4&transport=polling&t=OcQep-Y&sid=Iglh5Be-iMxROnoxAADu HTTP/1.1\" 200 -\n",
      "127.0.0.1 - - [27/Jul/2023 20:55:38] \"GET /socket.io/?EIO=4&transport=polling&t=OcQek7i&sid=bfQfK_e8aK74XfRxAADw HTTP/1.1\" 200 -\n",
      "127.0.0.1 - - [27/Jul/2023 20:55:38] \"POST /socket.io/?EIO=4&transport=polling&t=OcQeqEU&sid=bfQfK_e8aK74XfRxAADw HTTP/1.1\" 200 -\n",
      "127.0.0.1 - - [27/Jul/2023 20:56:02] \"GET /socket.io/?EIO=4&transport=polling&t=OcQep-Z&sid=Iglh5Be-iMxROnoxAADu HTTP/1.1\" 200 -\n",
      "127.0.0.1 - - [27/Jul/2023 20:56:02] \"POST /socket.io/?EIO=4&transport=polling&t=OcQew5N&sid=Iglh5Be-iMxROnoxAADu HTTP/1.1\" 200 -\n",
      "127.0.0.1 - - [27/Jul/2023 20:56:03] \"GET /socket.io/?EIO=4&transport=polling&t=OcQeqEV&sid=bfQfK_e8aK74XfRxAADw HTTP/1.1\" 200 -\n",
      "127.0.0.1 - - [27/Jul/2023 20:56:03] \"POST /socket.io/?EIO=4&transport=polling&t=OcQewLF&sid=bfQfK_e8aK74XfRxAADw HTTP/1.1\" 200 -\n",
      "127.0.0.1 - - [27/Jul/2023 20:56:27] \"GET /socket.io/?EIO=4&transport=polling&t=OcQew5O&sid=Iglh5Be-iMxROnoxAADu HTTP/1.1\" 200 -\n",
      "127.0.0.1 - - [27/Jul/2023 20:56:27] \"POST /socket.io/?EIO=4&transport=polling&t=OcQf0CB&sid=Iglh5Be-iMxROnoxAADu HTTP/1.1\" 200 -\n",
      "127.0.0.1 - - [27/Jul/2023 20:56:28] \"GET /socket.io/?EIO=4&transport=polling&t=OcQewLG&sid=bfQfK_e8aK74XfRxAADw HTTP/1.1\" 200 -\n",
      "127.0.0.1 - - [27/Jul/2023 20:56:28] \"POST /socket.io/?EIO=4&transport=polling&t=OcQf0S1&sid=bfQfK_e8aK74XfRxAADw HTTP/1.1\" 200 -\n",
      "127.0.0.1 - - [27/Jul/2023 20:56:52] \"GET /socket.io/?EIO=4&transport=polling&t=OcQf0CC&sid=Iglh5Be-iMxROnoxAADu HTTP/1.1\" 200 -\n",
      "127.0.0.1 - - [27/Jul/2023 20:56:52] \"POST /socket.io/?EIO=4&transport=polling&t=OcQf6Iz&sid=Iglh5Be-iMxROnoxAADu HTTP/1.1\" 200 -\n",
      "127.0.0.1 - - [27/Jul/2023 20:56:53] \"GET /socket.io/?EIO=4&transport=polling&t=OcQf0S2&sid=bfQfK_e8aK74XfRxAADw HTTP/1.1\" 200 -\n",
      "127.0.0.1 - - [27/Jul/2023 20:56:53] \"POST /socket.io/?EIO=4&transport=polling&t=OcQf6Yp&sid=bfQfK_e8aK74XfRxAADw HTTP/1.1\" 200 -\n",
      "127.0.0.1 - - [27/Jul/2023 20:57:17] \"GET /socket.io/?EIO=4&transport=polling&t=OcQf6I-&sid=Iglh5Be-iMxROnoxAADu HTTP/1.1\" 200 -\n",
      "127.0.0.1 - - [27/Jul/2023 20:57:17] \"POST /socket.io/?EIO=4&transport=polling&t=OcQfCPk&sid=Iglh5Be-iMxROnoxAADu HTTP/1.1\" 200 -\n",
      "127.0.0.1 - - [27/Jul/2023 20:57:18] \"GET /socket.io/?EIO=4&transport=polling&t=OcQf6Yq&sid=bfQfK_e8aK74XfRxAADw HTTP/1.1\" 200 -\n",
      "127.0.0.1 - - [27/Jul/2023 20:57:18] \"POST /socket.io/?EIO=4&transport=polling&t=OcQfCfb&sid=bfQfK_e8aK74XfRxAADw HTTP/1.1\" 200 -\n",
      "127.0.0.1 - - [27/Jul/2023 20:57:42] \"GET /socket.io/?EIO=4&transport=polling&t=OcQfCPl&sid=Iglh5Be-iMxROnoxAADu HTTP/1.1\" 200 -\n",
      "127.0.0.1 - - [27/Jul/2023 20:57:42] \"POST /socket.io/?EIO=4&transport=polling&t=OcQfIWW&sid=Iglh5Be-iMxROnoxAADu HTTP/1.1\" 200 -\n",
      "127.0.0.1 - - [27/Jul/2023 20:57:43] \"GET /socket.io/?EIO=4&transport=polling&t=OcQfCfc&sid=bfQfK_e8aK74XfRxAADw HTTP/1.1\" 200 -\n",
      "127.0.0.1 - - [27/Jul/2023 20:57:43] \"POST /socket.io/?EIO=4&transport=polling&t=OcQfImO&sid=bfQfK_e8aK74XfRxAADw HTTP/1.1\" 200 -\n",
      "127.0.0.1 - - [27/Jul/2023 20:58:07] \"GET /socket.io/?EIO=4&transport=polling&t=OcQfIWX&sid=Iglh5Be-iMxROnoxAADu HTTP/1.1\" 200 -\n",
      "127.0.0.1 - - [27/Jul/2023 20:58:07] \"POST /socket.io/?EIO=4&transport=polling&t=OcQfOdH&sid=Iglh5Be-iMxROnoxAADu HTTP/1.1\" 200 -\n",
      "127.0.0.1 - - [27/Jul/2023 20:58:08] \"GET /socket.io/?EIO=4&transport=polling&t=OcQfImP&sid=bfQfK_e8aK74XfRxAADw HTTP/1.1\" 200 -\n",
      "127.0.0.1 - - [27/Jul/2023 20:58:08] \"POST /socket.io/?EIO=4&transport=polling&t=OcQfOtC&sid=bfQfK_e8aK74XfRxAADw HTTP/1.1\" 200 -\n",
      "127.0.0.1 - - [27/Jul/2023 20:58:32] \"GET /socket.io/?EIO=4&transport=polling&t=OcQfOdI&sid=Iglh5Be-iMxROnoxAADu HTTP/1.1\" 200 -\n",
      "127.0.0.1 - - [27/Jul/2023 20:58:32] \"POST /socket.io/?EIO=4&transport=polling&t=OcQfUk3&sid=Iglh5Be-iMxROnoxAADu HTTP/1.1\" 200 -\n",
      "127.0.0.1 - - [27/Jul/2023 20:58:33] \"GET /socket.io/?EIO=4&transport=polling&t=OcQfOtD&sid=bfQfK_e8aK74XfRxAADw HTTP/1.1\" 200 -\n",
      "127.0.0.1 - - [27/Jul/2023 20:58:33] \"POST /socket.io/?EIO=4&transport=polling&t=OcQfU-2&sid=bfQfK_e8aK74XfRxAADw HTTP/1.1\" 200 -\n",
      "127.0.0.1 - - [27/Jul/2023 20:58:57] \"GET /socket.io/?EIO=4&transport=polling&t=OcQfUk4&sid=Iglh5Be-iMxROnoxAADu HTTP/1.1\" 200 -\n",
      "127.0.0.1 - - [27/Jul/2023 20:58:57] \"POST /socket.io/?EIO=4&transport=polling&t=OcQfaqr&sid=Iglh5Be-iMxROnoxAADu HTTP/1.1\" 200 -\n",
      "127.0.0.1 - - [27/Jul/2023 20:58:58] \"GET /socket.io/?EIO=4&transport=polling&t=OcQfU-3&sid=bfQfK_e8aK74XfRxAADw HTTP/1.1\" 200 -\n",
      "127.0.0.1 - - [27/Jul/2023 20:58:58] \"POST /socket.io/?EIO=4&transport=polling&t=OcQfb4p&sid=bfQfK_e8aK74XfRxAADw HTTP/1.1\" 200 -\n",
      "127.0.0.1 - - [27/Jul/2023 20:59:22] \"GET /socket.io/?EIO=4&transport=polling&t=OcQfaqs&sid=Iglh5Be-iMxROnoxAADu HTTP/1.1\" 200 -\n",
      "127.0.0.1 - - [27/Jul/2023 20:59:22] \"POST /socket.io/?EIO=4&transport=polling&t=OcQfgxc&sid=Iglh5Be-iMxROnoxAADu HTTP/1.1\" 200 -\n",
      "127.0.0.1 - - [27/Jul/2023 20:59:23] \"GET /socket.io/?EIO=4&transport=polling&t=OcQfb4q&sid=bfQfK_e8aK74XfRxAADw HTTP/1.1\" 200 -\n",
      "127.0.0.1 - - [27/Jul/2023 20:59:23] \"POST /socket.io/?EIO=4&transport=polling&t=OcQfhBa&sid=bfQfK_e8aK74XfRxAADw HTTP/1.1\" 200 -\n",
      "127.0.0.1 - - [27/Jul/2023 20:59:47] \"GET /socket.io/?EIO=4&transport=polling&t=OcQfgxd&sid=Iglh5Be-iMxROnoxAADu HTTP/1.1\" 200 -\n",
      "127.0.0.1 - - [27/Jul/2023 20:59:47] \"POST /socket.io/?EIO=4&transport=polling&t=OcQfn2O&sid=Iglh5Be-iMxROnoxAADu HTTP/1.1\" 200 -\n",
      "127.0.0.1 - - [27/Jul/2023 20:59:48] \"GET /socket.io/?EIO=4&transport=polling&t=OcQfhBb&sid=bfQfK_e8aK74XfRxAADw HTTP/1.1\" 200 -\n",
      "127.0.0.1 - - [27/Jul/2023 20:59:48] \"POST /socket.io/?EIO=4&transport=polling&t=OcQfnIM&sid=bfQfK_e8aK74XfRxAADw HTTP/1.1\" 200 -\n",
      "127.0.0.1 - - [27/Jul/2023 21:00:12] \"GET /socket.io/?EIO=4&transport=polling&t=OcQfn2P&sid=Iglh5Be-iMxROnoxAADu HTTP/1.1\" 200 -\n",
      "127.0.0.1 - - [27/Jul/2023 21:00:12] \"POST /socket.io/?EIO=4&transport=polling&t=OcQft9C&sid=Iglh5Be-iMxROnoxAADu HTTP/1.1\" 200 -\n",
      "127.0.0.1 - - [27/Jul/2023 21:00:13] \"GET /socket.io/?EIO=4&transport=polling&t=OcQfnIN&sid=bfQfK_e8aK74XfRxAADw HTTP/1.1\" 200 -\n",
      "127.0.0.1 - - [27/Jul/2023 21:00:13] \"POST /socket.io/?EIO=4&transport=polling&t=OcQftPC&sid=bfQfK_e8aK74XfRxAADw HTTP/1.1\" 200 -\n",
      "127.0.0.1 - - [27/Jul/2023 21:00:37] \"GET /socket.io/?EIO=4&transport=polling&t=OcQft9D&sid=Iglh5Be-iMxROnoxAADu HTTP/1.1\" 200 -\n",
      "127.0.0.1 - - [27/Jul/2023 21:00:37] \"POST /socket.io/?EIO=4&transport=polling&t=OcQfzFz&sid=Iglh5Be-iMxROnoxAADu HTTP/1.1\" 200 -\n",
      "127.0.0.1 - - [27/Jul/2023 21:00:38] \"GET /socket.io/?EIO=4&transport=polling&t=OcQftPD&sid=bfQfK_e8aK74XfRxAADw HTTP/1.1\" 200 -\n",
      "127.0.0.1 - - [27/Jul/2023 21:00:38] \"POST /socket.io/?EIO=4&transport=polling&t=OcQfzW3&sid=bfQfK_e8aK74XfRxAADw HTTP/1.1\" 200 -\n",
      "127.0.0.1 - - [27/Jul/2023 21:01:02] \"GET /socket.io/?EIO=4&transport=polling&t=OcQfzFz.0&sid=Iglh5Be-iMxROnoxAADu HTTP/1.1\" 200 -\n",
      "127.0.0.1 - - [27/Jul/2023 21:01:02] \"POST /socket.io/?EIO=4&transport=polling&t=OcQg3Mo&sid=Iglh5Be-iMxROnoxAADu HTTP/1.1\" 200 -\n",
      "127.0.0.1 - - [27/Jul/2023 21:01:03] \"GET /socket.io/?EIO=4&transport=polling&t=OcQfzW4&sid=bfQfK_e8aK74XfRxAADw HTTP/1.1\" 200 -\n",
      "127.0.0.1 - - [27/Jul/2023 21:01:03] \"POST /socket.io/?EIO=4&transport=polling&t=OcQg3cr&sid=bfQfK_e8aK74XfRxAADw HTTP/1.1\" 200 -\n",
      "127.0.0.1 - - [27/Jul/2023 21:01:27] \"GET /socket.io/?EIO=4&transport=polling&t=OcQg3Mp&sid=Iglh5Be-iMxROnoxAADu HTTP/1.1\" 200 -\n",
      "127.0.0.1 - - [27/Jul/2023 21:01:27] \"POST /socket.io/?EIO=4&transport=polling&t=OcQg9Tc&sid=Iglh5Be-iMxROnoxAADu HTTP/1.1\" 200 -\n",
      "127.0.0.1 - - [27/Jul/2023 21:01:28] \"GET /socket.io/?EIO=4&transport=polling&t=OcQg3cs&sid=bfQfK_e8aK74XfRxAADw HTTP/1.1\" 200 -\n",
      "127.0.0.1 - - [27/Jul/2023 21:01:28] \"POST /socket.io/?EIO=4&transport=polling&t=OcQg9jf&sid=bfQfK_e8aK74XfRxAADw HTTP/1.1\" 200 -\n",
      "127.0.0.1 - - [27/Jul/2023 21:01:52] \"GET /socket.io/?EIO=4&transport=polling&t=OcQg9Td&sid=Iglh5Be-iMxROnoxAADu HTTP/1.1\" 200 -\n",
      "127.0.0.1 - - [27/Jul/2023 21:01:52] \"POST /socket.io/?EIO=4&transport=polling&t=OcQgFaS&sid=Iglh5Be-iMxROnoxAADu HTTP/1.1\" 200 -\n",
      "127.0.0.1 - - [27/Jul/2023 21:01:53] \"GET /socket.io/?EIO=4&transport=polling&t=OcQg9jg&sid=bfQfK_e8aK74XfRxAADw HTTP/1.1\" 200 -\n",
      "127.0.0.1 - - [27/Jul/2023 21:01:53] \"POST /socket.io/?EIO=4&transport=polling&t=OcQgFqV&sid=bfQfK_e8aK74XfRxAADw HTTP/1.1\" 200 -\n",
      "127.0.0.1 - - [27/Jul/2023 21:02:17] \"GET /socket.io/?EIO=4&transport=polling&t=OcQgFaT&sid=Iglh5Be-iMxROnoxAADu HTTP/1.1\" 200 -\n",
      "127.0.0.1 - - [27/Jul/2023 21:02:17] \"POST /socket.io/?EIO=4&transport=polling&t=OcQgLhE&sid=Iglh5Be-iMxROnoxAADu HTTP/1.1\" 200 -\n",
      "127.0.0.1 - - [27/Jul/2023 21:02:18] \"GET /socket.io/?EIO=4&transport=polling&t=OcQgFqW&sid=bfQfK_e8aK74XfRxAADw HTTP/1.1\" 200 -\n",
      "127.0.0.1 - - [27/Jul/2023 21:02:18] \"POST /socket.io/?EIO=4&transport=polling&t=OcQgLxI&sid=bfQfK_e8aK74XfRxAADw HTTP/1.1\" 200 -\n",
      "127.0.0.1 - - [27/Jul/2023 21:02:42] \"GET /socket.io/?EIO=4&transport=polling&t=OcQgLhF&sid=Iglh5Be-iMxROnoxAADu HTTP/1.1\" 200 -\n",
      "127.0.0.1 - - [27/Jul/2023 21:02:42] \"POST /socket.io/?EIO=4&transport=polling&t=OcQgRo4&sid=Iglh5Be-iMxROnoxAADu HTTP/1.1\" 200 -\n",
      "127.0.0.1 - - [27/Jul/2023 21:02:43] \"GET /socket.io/?EIO=4&transport=polling&t=OcQgLxJ&sid=bfQfK_e8aK74XfRxAADw HTTP/1.1\" 200 -\n",
      "127.0.0.1 - - [27/Jul/2023 21:02:43] \"POST /socket.io/?EIO=4&transport=polling&t=OcQgS27&sid=bfQfK_e8aK74XfRxAADw HTTP/1.1\" 200 -\n",
      "127.0.0.1 - - [27/Jul/2023 21:03:07] \"GET /socket.io/?EIO=4&transport=polling&t=OcQgRo5&sid=Iglh5Be-iMxROnoxAADu HTTP/1.1\" 200 -\n",
      "127.0.0.1 - - [27/Jul/2023 21:03:07] \"POST /socket.io/?EIO=4&transport=polling&t=OcQgXuw&sid=Iglh5Be-iMxROnoxAADu HTTP/1.1\" 200 -\n",
      "127.0.0.1 - - [27/Jul/2023 21:03:08] \"GET /socket.io/?EIO=4&transport=polling&t=OcQgS28&sid=bfQfK_e8aK74XfRxAADw HTTP/1.1\" 200 -\n",
      "127.0.0.1 - - [27/Jul/2023 21:03:08] \"POST /socket.io/?EIO=4&transport=polling&t=OcQgY8w&sid=bfQfK_e8aK74XfRxAADw HTTP/1.1\" 200 -\n",
      "127.0.0.1 - - [27/Jul/2023 21:03:32] \"GET /socket.io/?EIO=4&transport=polling&t=OcQgXux&sid=Iglh5Be-iMxROnoxAADu HTTP/1.1\" 200 -\n",
      "127.0.0.1 - - [27/Jul/2023 21:03:32] \"POST /socket.io/?EIO=4&transport=polling&t=OcQgd_j&sid=Iglh5Be-iMxROnoxAADu HTTP/1.1\" 200 -\n",
      "127.0.0.1 - - [27/Jul/2023 21:03:33] \"GET /socket.io/?EIO=4&transport=polling&t=OcQgY8x&sid=bfQfK_e8aK74XfRxAADw HTTP/1.1\" 200 -\n",
      "127.0.0.1 - - [27/Jul/2023 21:03:33] \"POST /socket.io/?EIO=4&transport=polling&t=OcQgeFp&sid=bfQfK_e8aK74XfRxAADw HTTP/1.1\" 200 -\n",
      "127.0.0.1 - - [27/Jul/2023 21:03:57] \"GET /socket.io/?EIO=4&transport=polling&t=OcQgd_k&sid=Iglh5Be-iMxROnoxAADu HTTP/1.1\" 200 -\n",
      "127.0.0.1 - - [27/Jul/2023 21:03:57] \"POST /socket.io/?EIO=4&transport=polling&t=OcQgk6S&sid=Iglh5Be-iMxROnoxAADu HTTP/1.1\" 200 -\n",
      "127.0.0.1 - - [27/Jul/2023 21:03:58] \"GET /socket.io/?EIO=4&transport=polling&t=OcQgeFq&sid=bfQfK_e8aK74XfRxAADw HTTP/1.1\" 200 -\n",
      "127.0.0.1 - - [27/Jul/2023 21:03:58] \"POST /socket.io/?EIO=4&transport=polling&t=OcQgkMc&sid=bfQfK_e8aK74XfRxAADw HTTP/1.1\" 200 -\n",
      "127.0.0.1 - - [27/Jul/2023 21:04:22] \"GET /socket.io/?EIO=4&transport=polling&t=OcQgk6T&sid=Iglh5Be-iMxROnoxAADu HTTP/1.1\" 200 -\n",
      "127.0.0.1 - - [27/Jul/2023 21:04:22] \"POST /socket.io/?EIO=4&transport=polling&t=OcQgqDM&sid=Iglh5Be-iMxROnoxAADu HTTP/1.1\" 200 -\n",
      "127.0.0.1 - - [27/Jul/2023 21:04:23] \"GET /socket.io/?EIO=4&transport=polling&t=OcQgkMd&sid=bfQfK_e8aK74XfRxAADw HTTP/1.1\" 200 -\n",
      "127.0.0.1 - - [27/Jul/2023 21:04:23] \"POST /socket.io/?EIO=4&transport=polling&t=OcQgqTM&sid=bfQfK_e8aK74XfRxAADw HTTP/1.1\" 200 -\n",
      "127.0.0.1 - - [27/Jul/2023 21:04:47] \"GET /socket.io/?EIO=4&transport=polling&t=OcQgqDN&sid=Iglh5Be-iMxROnoxAADu HTTP/1.1\" 200 -\n",
      "127.0.0.1 - - [27/Jul/2023 21:04:47] \"POST /socket.io/?EIO=4&transport=polling&t=OcQgwK7&sid=Iglh5Be-iMxROnoxAADu HTTP/1.1\" 200 -\n",
      "127.0.0.1 - - [27/Jul/2023 21:04:48] \"GET /socket.io/?EIO=4&transport=polling&t=OcQgqTN&sid=bfQfK_e8aK74XfRxAADw HTTP/1.1\" 200 -\n",
      "127.0.0.1 - - [27/Jul/2023 21:04:48] \"POST /socket.io/?EIO=4&transport=polling&t=OcQgwaA&sid=bfQfK_e8aK74XfRxAADw HTTP/1.1\" 200 -\n",
      "127.0.0.1 - - [27/Jul/2023 21:05:12] \"GET /socket.io/?EIO=4&transport=polling&t=OcQgwK8&sid=Iglh5Be-iMxROnoxAADu HTTP/1.1\" 200 -\n",
      "127.0.0.1 - - [27/Jul/2023 21:05:12] \"POST /socket.io/?EIO=4&transport=polling&t=OcQh0Qw&sid=Iglh5Be-iMxROnoxAADu HTTP/1.1\" 200 -\n",
      "127.0.0.1 - - [27/Jul/2023 21:05:13] \"GET /socket.io/?EIO=4&transport=polling&t=OcQgwaB&sid=bfQfK_e8aK74XfRxAADw HTTP/1.1\" 200 -\n",
      "127.0.0.1 - - [27/Jul/2023 21:05:13] \"POST /socket.io/?EIO=4&transport=polling&t=OcQh0gy&sid=bfQfK_e8aK74XfRxAADw HTTP/1.1\" 200 -\n",
      "127.0.0.1 - - [27/Jul/2023 21:05:37] \"GET /socket.io/?EIO=4&transport=polling&t=OcQh0Qx&sid=Iglh5Be-iMxROnoxAADu HTTP/1.1\" 200 -\n",
      "127.0.0.1 - - [27/Jul/2023 21:05:37] \"POST /socket.io/?EIO=4&transport=polling&t=OcQh6Xm&sid=Iglh5Be-iMxROnoxAADu HTTP/1.1\" 200 -\n",
      "127.0.0.1 - - [27/Jul/2023 21:05:38] \"GET /socket.io/?EIO=4&transport=polling&t=OcQh0gz&sid=bfQfK_e8aK74XfRxAADw HTTP/1.1\" 200 -\n",
      "127.0.0.1 - - [27/Jul/2023 21:05:38] \"POST /socket.io/?EIO=4&transport=polling&t=OcQh6nu&sid=bfQfK_e8aK74XfRxAADw HTTP/1.1\" 200 -\n",
      "127.0.0.1 - - [27/Jul/2023 21:06:02] \"GET /socket.io/?EIO=4&transport=polling&t=OcQh6Xn&sid=Iglh5Be-iMxROnoxAADu HTTP/1.1\" 200 -\n",
      "127.0.0.1 - - [27/Jul/2023 21:06:02] \"POST /socket.io/?EIO=4&transport=polling&t=OcQhCeY&sid=Iglh5Be-iMxROnoxAADu HTTP/1.1\" 200 -\n",
      "127.0.0.1 - - [27/Jul/2023 21:06:03] \"GET /socket.io/?EIO=4&transport=polling&t=OcQh6nv&sid=bfQfK_e8aK74XfRxAADw HTTP/1.1\" 200 -\n",
      "127.0.0.1 - - [27/Jul/2023 21:06:03] \"POST /socket.io/?EIO=4&transport=polling&t=OcQhCuh&sid=bfQfK_e8aK74XfRxAADw HTTP/1.1\" 200 -\n",
      "127.0.0.1 - - [27/Jul/2023 21:06:27] \"GET /socket.io/?EIO=4&transport=polling&t=OcQhCeZ&sid=Iglh5Be-iMxROnoxAADu HTTP/1.1\" 200 -\n",
      "127.0.0.1 - - [27/Jul/2023 21:06:27] \"POST /socket.io/?EIO=4&transport=polling&t=OcQhIlM&sid=Iglh5Be-iMxROnoxAADu HTTP/1.1\" 200 -\n",
      "127.0.0.1 - - [27/Jul/2023 21:06:28] \"GET /socket.io/?EIO=4&transport=polling&t=OcQhCui&sid=bfQfK_e8aK74XfRxAADw HTTP/1.1\" 200 -\n",
      "127.0.0.1 - - [27/Jul/2023 21:06:28] \"POST /socket.io/?EIO=4&transport=polling&t=OcQhI_V&sid=bfQfK_e8aK74XfRxAADw HTTP/1.1\" 200 -\n",
      "127.0.0.1 - - [27/Jul/2023 21:06:52] \"GET /socket.io/?EIO=4&transport=polling&t=OcQhIlN&sid=Iglh5Be-iMxROnoxAADu HTTP/1.1\" 200 -\n",
      "127.0.0.1 - - [27/Jul/2023 21:06:52] \"POST /socket.io/?EIO=4&transport=polling&t=OcQhOsB&sid=Iglh5Be-iMxROnoxAADu HTTP/1.1\" 200 -\n",
      "127.0.0.1 - - [27/Jul/2023 21:06:53] \"GET /socket.io/?EIO=4&transport=polling&t=OcQhI_W&sid=bfQfK_e8aK74XfRxAADw HTTP/1.1\" 200 -\n",
      "127.0.0.1 - - [27/Jul/2023 21:06:53] \"POST /socket.io/?EIO=4&transport=polling&t=OcQhP6K&sid=bfQfK_e8aK74XfRxAADw HTTP/1.1\" 200 -\n",
      "127.0.0.1 - - [27/Jul/2023 21:07:17] \"GET /socket.io/?EIO=4&transport=polling&t=OcQhOsC&sid=Iglh5Be-iMxROnoxAADu HTTP/1.1\" 200 -\n",
      "127.0.0.1 - - [27/Jul/2023 21:07:17] \"POST /socket.io/?EIO=4&transport=polling&t=OcQhUy_&sid=Iglh5Be-iMxROnoxAADu HTTP/1.1\" 200 -\n",
      "127.0.0.1 - - [27/Jul/2023 21:07:18] \"GET /socket.io/?EIO=4&transport=polling&t=OcQhP6L&sid=bfQfK_e8aK74XfRxAADw HTTP/1.1\" 200 -\n",
      "127.0.0.1 - - [27/Jul/2023 21:07:18] \"POST /socket.io/?EIO=4&transport=polling&t=OcQhVD9&sid=bfQfK_e8aK74XfRxAADw HTTP/1.1\" 200 -\n",
      "127.0.0.1 - - [27/Jul/2023 21:07:42] \"GET /socket.io/?EIO=4&transport=polling&t=OcQhUz0&sid=Iglh5Be-iMxROnoxAADu HTTP/1.1\" 200 -\n",
      "127.0.0.1 - - [27/Jul/2023 21:07:42] \"POST /socket.io/?EIO=4&transport=polling&t=OcQhb3v&sid=Iglh5Be-iMxROnoxAADu HTTP/1.1\" 200 -\n",
      "127.0.0.1 - - [27/Jul/2023 21:07:43] \"GET /socket.io/?EIO=4&transport=polling&t=OcQhVDA&sid=bfQfK_e8aK74XfRxAADw HTTP/1.1\" 200 -\n",
      "127.0.0.1 - - [27/Jul/2023 21:07:43] \"POST /socket.io/?EIO=4&transport=polling&t=OcQhbJx&sid=bfQfK_e8aK74XfRxAADw HTTP/1.1\" 200 -\n",
      "127.0.0.1 - - [27/Jul/2023 21:07:55] \"POST /socket.io/?EIO=4&transport=polling&t=OcQhe6Q&sid=bfQfK_e8aK74XfRxAADw HTTP/1.1\" 200 -\n",
      "127.0.0.1 - - [27/Jul/2023 21:07:55] \"POST /socket.io/?EIO=4&transport=polling&t=OcQhe6T&sid=Iglh5Be-iMxROnoxAADu HTTP/1.1\" 200 -\n",
      "127.0.0.1 - - [27/Jul/2023 21:07:55] \"GET /socket.io/?EIO=4&transport=polling&t=OcQhb3w&sid=Iglh5Be-iMxROnoxAADu HTTP/1.1\" 200 -\n",
      "127.0.0.1 - - [27/Jul/2023 21:07:55] \"GET /socket.io/?EIO=4&transport=polling&t=OcQhbJy&sid=bfQfK_e8aK74XfRxAADw HTTP/1.1\" 200 -\n",
      "127.0.0.1 - - [27/Jul/2023 21:07:56] \"GET /socket.io/?EIO=4&transport=polling&t=OcQheLg HTTP/1.1\" 200 -\n",
      "127.0.0.1 - - [27/Jul/2023 21:07:56] \"GET /socket.io/?EIO=4&transport=polling&t=OcQheLh HTTP/1.1\" 200 -\n",
      "127.0.0.1 - - [27/Jul/2023 21:07:56] \"POST /socket.io/?EIO=4&transport=polling&t=OcQheLn&sid=_3iR_jw-VYSPRybOAADy HTTP/1.1\" 200 -\n",
      "127.0.0.1 - - [27/Jul/2023 21:07:56] \"GET /socket.io/?EIO=4&transport=polling&t=OcQheLo&sid=_3iR_jw-VYSPRybOAADy HTTP/1.1\" 200 -\n",
      "127.0.0.1 - - [27/Jul/2023 21:07:56] \"POST /socket.io/?EIO=4&transport=polling&t=OcQheLq&sid=wgAY_77B4QFUHfFlAADz HTTP/1.1\" 200 -\n",
      "127.0.0.1 - - [27/Jul/2023 21:07:56] \"GET /socket.io/?EIO=4&transport=polling&t=OcQheLr&sid=wgAY_77B4QFUHfFlAADz HTTP/1.1\" 200 -\n",
      "127.0.0.1 - - [27/Jul/2023 21:10:07] \"GET /socket.io/?EIO=4&transport=polling&t=OcQheM3&sid=wgAY_77B4QFUHfFlAADz HTTP/1.1\" 200 -\n",
      "127.0.0.1 - - [27/Jul/2023 21:10:07] \"GET /socket.io/?EIO=4&transport=polling&t=OcQheL-&sid=_3iR_jw-VYSPRybOAADy HTTP/1.1\" 200 -\n",
      "127.0.0.1 - - [27/Jul/2023 21:10:07] \"POST /socket.io/?EIO=4&transport=polling&t=OcQi8SY&sid=wgAY_77B4QFUHfFlAADz HTTP/1.1\" 200 -\n",
      "127.0.0.1 - - [27/Jul/2023 21:10:07] \"POST /socket.io/?EIO=4&transport=polling&t=OcQi8Sb&sid=_3iR_jw-VYSPRybOAADy HTTP/1.1\" 200 -\n",
      "127.0.0.1 - - [27/Jul/2023 21:10:32] \"GET /socket.io/?EIO=4&transport=polling&t=OcQi8SZ&sid=wgAY_77B4QFUHfFlAADz HTTP/1.1\" 200 -\n",
      "127.0.0.1 - - [27/Jul/2023 21:10:32] \"GET /socket.io/?EIO=4&transport=polling&t=OcQi8Sc&sid=_3iR_jw-VYSPRybOAADy HTTP/1.1\" 200 -\n",
      "127.0.0.1 - - [27/Jul/2023 21:10:32] \"POST /socket.io/?EIO=4&transport=polling&t=OcQiEZU&sid=wgAY_77B4QFUHfFlAADz HTTP/1.1\" 200 -\n",
      "127.0.0.1 - - [27/Jul/2023 21:10:32] \"POST /socket.io/?EIO=4&transport=polling&t=OcQiEZY&sid=_3iR_jw-VYSPRybOAADy HTTP/1.1\" 200 -\n",
      "127.0.0.1 - - [27/Jul/2023 21:38:13] \"GET /socket.io/?EIO=4&transport=polling&t=OcQiEZV&sid=wgAY_77B4QFUHfFlAADz HTTP/1.1\" 200 -\n",
      "127.0.0.1 - - [27/Jul/2023 21:38:13] \"GET /socket.io/?EIO=4&transport=polling&t=OcQiEZZ&sid=_3iR_jw-VYSPRybOAADy HTTP/1.1\" 200 -\n",
      "127.0.0.1 - - [27/Jul/2023 21:38:13] \"POST /socket.io/?EIO=4&transport=polling&t=OcQoa4b&sid=wgAY_77B4QFUHfFlAADz HTTP/1.1\" 200 -\n",
      "127.0.0.1 - - [27/Jul/2023 21:38:13] \"POST /socket.io/?EIO=4&transport=polling&t=OcQoa4h&sid=_3iR_jw-VYSPRybOAADy HTTP/1.1\" 200 -\n",
      "127.0.0.1 - - [27/Jul/2023 21:38:38] \"GET /socket.io/?EIO=4&transport=polling&t=OcQoa4d&sid=wgAY_77B4QFUHfFlAADz HTTP/1.1\" 200 -\n",
      "127.0.0.1 - - [27/Jul/2023 21:38:38] \"GET /socket.io/?EIO=4&transport=polling&t=OcQoa4i&sid=_3iR_jw-VYSPRybOAADy HTTP/1.1\" 200 -\n",
      "127.0.0.1 - - [27/Jul/2023 21:38:38] \"POST /socket.io/?EIO=4&transport=polling&t=OcQogBa&sid=wgAY_77B4QFUHfFlAADz HTTP/1.1\" 200 -\n",
      "127.0.0.1 - - [27/Jul/2023 21:38:38] \"POST /socket.io/?EIO=4&transport=polling&t=OcQogBb&sid=_3iR_jw-VYSPRybOAADy HTTP/1.1\" 200 -\n",
      "127.0.0.1 - - [27/Jul/2023 21:39:03] \"GET /socket.io/?EIO=4&transport=polling&t=OcQogBb&sid=wgAY_77B4QFUHfFlAADz HTTP/1.1\" 200 -\n",
      "127.0.0.1 - - [27/Jul/2023 21:39:03] \"POST /socket.io/?EIO=4&transport=polling&t=OcQomIU&sid=wgAY_77B4QFUHfFlAADz HTTP/1.1\" 200 -\n",
      "127.0.0.1 - - [27/Jul/2023 21:39:03] \"GET /socket.io/?EIO=4&transport=polling&t=OcQogBc&sid=_3iR_jw-VYSPRybOAADy HTTP/1.1\" 200 -\n",
      "127.0.0.1 - - [27/Jul/2023 21:39:03] \"POST /socket.io/?EIO=4&transport=polling&t=OcQomIj&sid=_3iR_jw-VYSPRybOAADy HTTP/1.1\" 200 -\n",
      "127.0.0.1 - - [27/Jul/2023 21:39:28] \"GET /socket.io/?EIO=4&transport=polling&t=OcQomIV&sid=wgAY_77B4QFUHfFlAADz HTTP/1.1\" 200 -\n",
      "127.0.0.1 - - [27/Jul/2023 21:39:28] \"POST /socket.io/?EIO=4&transport=polling&t=OcQosPL&sid=wgAY_77B4QFUHfFlAADz HTTP/1.1\" 200 -\n",
      "127.0.0.1 - - [27/Jul/2023 21:39:28] \"GET /socket.io/?EIO=4&transport=polling&t=OcQomIk&sid=_3iR_jw-VYSPRybOAADy HTTP/1.1\" 200 -\n",
      "127.0.0.1 - - [27/Jul/2023 21:39:28] \"POST /socket.io/?EIO=4&transport=polling&t=OcQosPb&sid=_3iR_jw-VYSPRybOAADy HTTP/1.1\" 200 -\n",
      "127.0.0.1 - - [27/Jul/2023 21:57:00] \"GET /socket.io/?EIO=4&transport=polling&t=OcQosPM&sid=wgAY_77B4QFUHfFlAADz HTTP/1.1\" 200 -\n",
      "127.0.0.1 - - [27/Jul/2023 21:57:00] \"GET /socket.io/?EIO=4&transport=polling&t=OcQosPc&sid=_3iR_jw-VYSPRybOAADy HTTP/1.1\" 200 -\n",
      "127.0.0.1 - - [27/Jul/2023 21:57:00] \"POST /socket.io/?EIO=4&transport=polling&t=OcQstEI&sid=wgAY_77B4QFUHfFlAADz HTTP/1.1\" 200 -\n",
      "127.0.0.1 - - [27/Jul/2023 21:57:00] \"POST /socket.io/?EIO=4&transport=polling&t=OcQstFP&sid=_3iR_jw-VYSPRybOAADy HTTP/1.1\" 200 -\n",
      "127.0.0.1 - - [27/Jul/2023 21:57:25] \"GET /socket.io/?EIO=4&transport=polling&t=OcQstEL&sid=wgAY_77B4QFUHfFlAADz HTTP/1.1\" 200 -\n",
      "127.0.0.1 - - [27/Jul/2023 21:57:25] \"POST /socket.io/?EIO=4&transport=polling&t=OcQszLQ&sid=wgAY_77B4QFUHfFlAADz HTTP/1.1\" 200 -\n",
      "127.0.0.1 - - [27/Jul/2023 21:57:25] \"GET /socket.io/?EIO=4&transport=polling&t=OcQstFT&sid=_3iR_jw-VYSPRybOAADy HTTP/1.1\" 200 -\n",
      "127.0.0.1 - - [27/Jul/2023 21:57:25] \"POST /socket.io/?EIO=4&transport=polling&t=OcQszMk&sid=_3iR_jw-VYSPRybOAADy HTTP/1.1\" 200 -\n",
      "127.0.0.1 - - [27/Jul/2023 22:12:50] \"GET /socket.io/?EIO=4&transport=polling&t=OcQszLR&sid=wgAY_77B4QFUHfFlAADz HTTP/1.1\" 200 -\n",
      "127.0.0.1 - - [27/Jul/2023 22:12:50] \"POST /socket.io/?EIO=4&transport=polling&t=OcQwVBV&sid=wgAY_77B4QFUHfFlAADz HTTP/1.1\" 200 -\n",
      "127.0.0.1 - - [27/Jul/2023 22:12:50] \"GET /socket.io/?EIO=4&transport=polling&t=OcQszMl&sid=_3iR_jw-VYSPRybOAADy HTTP/1.1\" 200 -\n",
      "127.0.0.1 - - [27/Jul/2023 22:12:50] \"POST /socket.io/?EIO=4&transport=polling&t=OcQwVCs&sid=_3iR_jw-VYSPRybOAADy HTTP/1.1\" 200 -\n",
      "127.0.0.1 - - [27/Jul/2023 22:13:15] \"GET /socket.io/?EIO=4&transport=polling&t=OcQwVBX&sid=wgAY_77B4QFUHfFlAADz HTTP/1.1\" 200 -\n",
      "127.0.0.1 - - [27/Jul/2023 22:13:15] \"POST /socket.io/?EIO=4&transport=polling&t=OcQwbIT&sid=wgAY_77B4QFUHfFlAADz HTTP/1.1\" 200 -\n",
      "127.0.0.1 - - [27/Jul/2023 22:13:15] \"GET /socket.io/?EIO=4&transport=polling&t=OcQwVCv&sid=_3iR_jw-VYSPRybOAADy HTTP/1.1\" 200 -\n",
      "127.0.0.1 - - [27/Jul/2023 22:13:15] \"POST /socket.io/?EIO=4&transport=polling&t=OcQwbJw&sid=_3iR_jw-VYSPRybOAADy HTTP/1.1\" 200 -\n",
      "127.0.0.1 - - [27/Jul/2023 22:37:08] \"GET /socket.io/?EIO=4&transport=polling&t=OcQwbIU&sid=wgAY_77B4QFUHfFlAADz HTTP/1.1\" 200 -\n",
      "127.0.0.1 - - [27/Jul/2023 22:37:08] \"POST /socket.io/?EIO=4&transport=polling&t=OcR03CA&sid=wgAY_77B4QFUHfFlAADz HTTP/1.1\" 200 -\n",
      "127.0.0.1 - - [27/Jul/2023 22:37:08] \"GET /socket.io/?EIO=4&transport=polling&t=OcQwbJx&sid=_3iR_jw-VYSPRybOAADy HTTP/1.1\" 200 -\n",
      "127.0.0.1 - - [27/Jul/2023 22:37:08] \"POST /socket.io/?EIO=4&transport=polling&t=OcR03Da&sid=_3iR_jw-VYSPRybOAADy HTTP/1.1\" 200 -\n",
      "127.0.0.1 - - [27/Jul/2023 22:37:33] \"GET /socket.io/?EIO=4&transport=polling&t=OcR03CD&sid=wgAY_77B4QFUHfFlAADz HTTP/1.1\" 200 -\n",
      "127.0.0.1 - - [27/Jul/2023 22:37:33] \"POST /socket.io/?EIO=4&transport=polling&t=OcR09JA&sid=wgAY_77B4QFUHfFlAADz HTTP/1.1\" 200 -\n",
      "127.0.0.1 - - [27/Jul/2023 22:37:33] \"GET /socket.io/?EIO=4&transport=polling&t=OcR03Dc&sid=_3iR_jw-VYSPRybOAADy HTTP/1.1\" 200 -\n",
      "127.0.0.1 - - [27/Jul/2023 22:37:33] \"POST /socket.io/?EIO=4&transport=polling&t=OcR09KZ&sid=_3iR_jw-VYSPRybOAADy HTTP/1.1\" 200 -\n",
      "127.0.0.1 - - [27/Jul/2023 22:37:58] \"GET /socket.io/?EIO=4&transport=polling&t=OcR09JC&sid=wgAY_77B4QFUHfFlAADz HTTP/1.1\" 200 -\n",
      "127.0.0.1 - - [27/Jul/2023 22:37:58] \"POST /socket.io/?EIO=4&transport=polling&t=OcR0FQA&sid=wgAY_77B4QFUHfFlAADz HTTP/1.1\" 200 -\n",
      "127.0.0.1 - - [27/Jul/2023 22:37:59] \"GET /socket.io/?EIO=4&transport=polling&t=OcR09Kc&sid=_3iR_jw-VYSPRybOAADy HTTP/1.1\" 200 -\n",
      "127.0.0.1 - - [27/Jul/2023 22:37:59] \"POST /socket.io/?EIO=4&transport=polling&t=OcR0FRa&sid=_3iR_jw-VYSPRybOAADy HTTP/1.1\" 200 -\n",
      "127.0.0.1 - - [27/Jul/2023 22:38:23] \"GET /socket.io/?EIO=4&transport=polling&t=OcR0FQD&sid=wgAY_77B4QFUHfFlAADz HTTP/1.1\" 200 -\n",
      "127.0.0.1 - - [27/Jul/2023 22:38:23] \"POST /socket.io/?EIO=4&transport=polling&t=OcR0LX5&sid=wgAY_77B4QFUHfFlAADz HTTP/1.1\" 200 -\n",
      "127.0.0.1 - - [27/Jul/2023 22:38:24] \"GET /socket.io/?EIO=4&transport=polling&t=OcR0FRc&sid=_3iR_jw-VYSPRybOAADy HTTP/1.1\" 200 -\n",
      "127.0.0.1 - - [27/Jul/2023 22:38:24] \"POST /socket.io/?EIO=4&transport=polling&t=OcR0LYY&sid=_3iR_jw-VYSPRybOAADy HTTP/1.1\" 200 -\n",
      "127.0.0.1 - - [27/Jul/2023 22:38:48] \"GET /socket.io/?EIO=4&transport=polling&t=OcR0LX8&sid=wgAY_77B4QFUHfFlAADz HTTP/1.1\" 200 -\n",
      "127.0.0.1 - - [27/Jul/2023 22:38:48] \"POST /socket.io/?EIO=4&transport=polling&t=OcR0Re1&sid=wgAY_77B4QFUHfFlAADz HTTP/1.1\" 200 -\n",
      "127.0.0.1 - - [27/Jul/2023 22:38:49] \"GET /socket.io/?EIO=4&transport=polling&t=OcR0LYb&sid=_3iR_jw-VYSPRybOAADy HTTP/1.1\" 200 -\n",
      "127.0.0.1 - - [27/Jul/2023 22:38:49] \"POST /socket.io/?EIO=4&transport=polling&t=OcR0RfV&sid=_3iR_jw-VYSPRybOAADy HTTP/1.1\" 200 -\n",
      "127.0.0.1 - - [27/Jul/2023 22:58:47] \"GET /socket.io/?EIO=4&transport=polling&t=OcR0Re3&sid=wgAY_77B4QFUHfFlAADz HTTP/1.1\" 200 -\n",
      "127.0.0.1 - - [27/Jul/2023 22:58:47] \"POST /socket.io/?EIO=4&transport=polling&t=OcR50BR&sid=wgAY_77B4QFUHfFlAADz HTTP/1.1\" 200 -\n",
      "127.0.0.1 - - [27/Jul/2023 22:58:47] \"GET /socket.io/?EIO=4&transport=polling&t=OcR0RfX&sid=_3iR_jw-VYSPRybOAADy HTTP/1.1\" 200 -\n",
      "127.0.0.1 - - [27/Jul/2023 22:58:47] \"POST /socket.io/?EIO=4&transport=polling&t=OcR50Cv&sid=_3iR_jw-VYSPRybOAADy HTTP/1.1\" 200 -\n",
      "127.0.0.1 - - [27/Jul/2023 22:59:12] \"GET /socket.io/?EIO=4&transport=polling&t=OcR50BS&sid=wgAY_77B4QFUHfFlAADz HTTP/1.1\" 200 -\n",
      "127.0.0.1 - - [27/Jul/2023 22:59:12] \"POST /socket.io/?EIO=4&transport=polling&t=OcR56IH&sid=wgAY_77B4QFUHfFlAADz HTTP/1.1\" 200 -\n",
      "127.0.0.1 - - [27/Jul/2023 22:59:12] \"GET /socket.io/?EIO=4&transport=polling&t=OcR50Cw&sid=_3iR_jw-VYSPRybOAADy HTTP/1.1\" 200 -\n",
      "127.0.0.1 - - [27/Jul/2023 22:59:12] \"POST /socket.io/?EIO=4&transport=polling&t=OcR56Jh&sid=_3iR_jw-VYSPRybOAADy HTTP/1.1\" 200 -\n",
      "127.0.0.1 - - [27/Jul/2023 23:26:06] \"GET /socket.io/?EIO=4&transport=polling&t=OcR56IJ&sid=wgAY_77B4QFUHfFlAADz HTTP/1.1\" 200 -\n",
      "127.0.0.1 - - [27/Jul/2023 23:26:06] \"POST /socket.io/?EIO=4&transport=polling&t=OcRBGM1&sid=wgAY_77B4QFUHfFlAADz HTTP/1.1\" 200 -\n",
      "127.0.0.1 - - [27/Jul/2023 23:26:06] \"GET /socket.io/?EIO=4&transport=polling&t=OcR56Ji&sid=_3iR_jw-VYSPRybOAADy HTTP/1.1\" 200 -\n",
      "127.0.0.1 - - [27/Jul/2023 23:26:06] \"POST /socket.io/?EIO=4&transport=polling&t=OcRBGNj&sid=_3iR_jw-VYSPRybOAADy HTTP/1.1\" 200 -\n",
      "127.0.0.1 - - [27/Jul/2023 23:26:31] \"GET /socket.io/?EIO=4&transport=polling&t=OcRBGM2&sid=wgAY_77B4QFUHfFlAADz HTTP/1.1\" 200 -\n",
      "127.0.0.1 - - [27/Jul/2023 23:26:31] \"POST /socket.io/?EIO=4&transport=polling&t=OcRBMU8&sid=wgAY_77B4QFUHfFlAADz HTTP/1.1\" 200 -\n",
      "127.0.0.1 - - [27/Jul/2023 23:26:31] \"GET /socket.io/?EIO=4&transport=polling&t=OcRBGNk&sid=_3iR_jw-VYSPRybOAADy HTTP/1.1\" 200 -\n",
      "127.0.0.1 - - [27/Jul/2023 23:26:31] \"POST /socket.io/?EIO=4&transport=polling&t=OcRBMVo&sid=_3iR_jw-VYSPRybOAADy HTTP/1.1\" 200 -\n",
      "127.0.0.1 - - [27/Jul/2023 23:44:33] \"GET /socket.io/?EIO=4&transport=polling&t=OcRBMU9&sid=wgAY_77B4QFUHfFlAADz HTTP/1.1\" 200 -\n",
      "127.0.0.1 - - [27/Jul/2023 23:44:33] \"POST /socket.io/?EIO=4&transport=polling&t=OcRFUmA&sid=wgAY_77B4QFUHfFlAADz HTTP/1.1\" 200 -\n",
      "127.0.0.1 - - [27/Jul/2023 23:44:34] \"GET /socket.io/?EIO=4&transport=polling&t=OcRBMVp&sid=_3iR_jw-VYSPRybOAADy HTTP/1.1\" 200 -\n",
      "127.0.0.1 - - [27/Jul/2023 23:44:34] \"POST /socket.io/?EIO=4&transport=polling&t=OcRFUnp&sid=_3iR_jw-VYSPRybOAADy HTTP/1.1\" 200 -\n",
      "127.0.0.1 - - [27/Jul/2023 23:44:58] \"GET /socket.io/?EIO=4&transport=polling&t=OcRFUmD&sid=wgAY_77B4QFUHfFlAADz HTTP/1.1\" 200 -\n",
      "127.0.0.1 - - [27/Jul/2023 23:44:58] \"POST /socket.io/?EIO=4&transport=polling&t=OcRFat8&sid=wgAY_77B4QFUHfFlAADz HTTP/1.1\" 200 -\n",
      "127.0.0.1 - - [27/Jul/2023 23:44:59] \"GET /socket.io/?EIO=4&transport=polling&t=OcRFUns&sid=_3iR_jw-VYSPRybOAADy HTTP/1.1\" 200 -\n",
      "127.0.0.1 - - [27/Jul/2023 23:44:59] \"POST /socket.io/?EIO=4&transport=polling&t=OcRFaui&sid=_3iR_jw-VYSPRybOAADy HTTP/1.1\" 200 -\n",
      "127.0.0.1 - - [28/Jul/2023 00:01:32] \"GET /socket.io/?EIO=4&transport=polling&t=OcRFat9&sid=wgAY_77B4QFUHfFlAADz HTTP/1.1\" 200 -\n",
      "127.0.0.1 - - [28/Jul/2023 00:01:32] \"POST /socket.io/?EIO=4&transport=polling&t=OcRJNX_&sid=wgAY_77B4QFUHfFlAADz HTTP/1.1\" 200 -\n",
      "127.0.0.1 - - [28/Jul/2023 00:01:33] \"GET /socket.io/?EIO=4&transport=polling&t=OcRFauj&sid=_3iR_jw-VYSPRybOAADy HTTP/1.1\" 200 -\n",
      "127.0.0.1 - - [28/Jul/2023 00:01:33] \"POST /socket.io/?EIO=4&transport=polling&t=OcRJNZg&sid=_3iR_jw-VYSPRybOAADy HTTP/1.1\" 200 -\n",
      "127.0.0.1 - - [28/Jul/2023 00:01:57] \"GET /socket.io/?EIO=4&transport=polling&t=OcRJNY2&sid=wgAY_77B4QFUHfFlAADz HTTP/1.1\" 200 -\n",
      "127.0.0.1 - - [28/Jul/2023 00:01:57] \"POST /socket.io/?EIO=4&transport=polling&t=OcRJTez&sid=wgAY_77B4QFUHfFlAADz HTTP/1.1\" 200 -\n",
      "127.0.0.1 - - [28/Jul/2023 00:01:58] \"GET /socket.io/?EIO=4&transport=polling&t=OcRJNZj&sid=_3iR_jw-VYSPRybOAADy HTTP/1.1\" 200 -\n",
      "127.0.0.1 - - [28/Jul/2023 00:01:58] \"POST /socket.io/?EIO=4&transport=polling&t=OcRJTgX&sid=_3iR_jw-VYSPRybOAADy HTTP/1.1\" 200 -\n",
      "127.0.0.1 - - [28/Jul/2023 00:18:40] \"GET /socket.io/?EIO=4&transport=polling&t=OcRJTe-&sid=wgAY_77B4QFUHfFlAADz HTTP/1.1\" 200 -\n",
      "127.0.0.1 - - [28/Jul/2023 00:18:40] \"POST /socket.io/?EIO=4&transport=polling&t=OcRNIX2&sid=wgAY_77B4QFUHfFlAADz HTTP/1.1\" 200 -\n",
      "127.0.0.1 - - [28/Jul/2023 00:18:41] \"GET /socket.io/?EIO=4&transport=polling&t=OcRJTgY&sid=_3iR_jw-VYSPRybOAADy HTTP/1.1\" 200 -\n",
      "127.0.0.1 - - [28/Jul/2023 00:18:41] \"POST /socket.io/?EIO=4&transport=polling&t=OcRNIYd&sid=_3iR_jw-VYSPRybOAADy HTTP/1.1\" 200 -\n",
      "127.0.0.1 - - [28/Jul/2023 00:19:05] \"GET /socket.io/?EIO=4&transport=polling&t=OcRNIX5&sid=wgAY_77B4QFUHfFlAADz HTTP/1.1\" 200 -\n",
      "127.0.0.1 - - [28/Jul/2023 00:19:05] \"POST /socket.io/?EIO=4&transport=polling&t=OcRNOe0&sid=wgAY_77B4QFUHfFlAADz HTTP/1.1\" 200 -\n",
      "127.0.0.1 - - [28/Jul/2023 00:19:06] \"GET /socket.io/?EIO=4&transport=polling&t=OcRNIYf&sid=_3iR_jw-VYSPRybOAADy HTTP/1.1\" 200 -\n",
      "127.0.0.1 - - [28/Jul/2023 00:19:06] \"POST /socket.io/?EIO=4&transport=polling&t=OcRNOfa&sid=_3iR_jw-VYSPRybOAADy HTTP/1.1\" 200 -\n",
      "127.0.0.1 - - [28/Jul/2023 02:35:29] \"GET /socket.io/?EIO=4&transport=polling&t=OcRNOe1&sid=wgAY_77B4QFUHfFlAADz HTTP/1.1\" 200 -\n",
      "127.0.0.1 - - [28/Jul/2023 02:35:29] \"GET /socket.io/?EIO=4&transport=polling&t=OcRNOfb&sid=_3iR_jw-VYSPRybOAADy HTTP/1.1\" 200 -\n",
      "127.0.0.1 - - [28/Jul/2023 02:35:30] \"POST /socket.io/?EIO=4&transport=polling&t=OcRscm4&sid=wgAY_77B4QFUHfFlAADz HTTP/1.1\" 200 -\n",
      "127.0.0.1 - - [28/Jul/2023 02:35:30] \"POST /socket.io/?EIO=4&transport=polling&t=OcRscn4&sid=_3iR_jw-VYSPRybOAADy HTTP/1.1\" 200 -\n",
      "127.0.0.1 - - [28/Jul/2023 02:56:42] \"GET /socket.io/?EIO=4&transport=polling&t=OcRscmd&sid=wgAY_77B4QFUHfFlAADz HTTP/1.1\" 200 -\n",
      "127.0.0.1 - - [28/Jul/2023 02:56:42] \"POST /socket.io/?EIO=4&transport=polling&t=OcRxTN_&sid=wgAY_77B4QFUHfFlAADz HTTP/1.1\" 200 -\n",
      "127.0.0.1 - - [28/Jul/2023 02:56:42] \"GET /socket.io/?EIO=4&transport=polling&t=OcRscnH&sid=_3iR_jw-VYSPRybOAADy HTTP/1.1\" 200 -\n",
      "127.0.0.1 - - [28/Jul/2023 02:56:42] \"POST /socket.io/?EIO=4&transport=polling&t=OcRxTOP&sid=_3iR_jw-VYSPRybOAADy HTTP/1.1\" 200 -\n",
      "127.0.0.1 - - [28/Jul/2023 02:57:07] \"GET /socket.io/?EIO=4&transport=polling&t=OcRxTO1&sid=wgAY_77B4QFUHfFlAADz HTTP/1.1\" 200 -\n",
      "127.0.0.1 - - [28/Jul/2023 02:57:07] \"POST /socket.io/?EIO=4&transport=polling&t=OcRxZVM&sid=wgAY_77B4QFUHfFlAADz HTTP/1.1\" 200 -\n",
      "127.0.0.1 - - [28/Jul/2023 02:57:07] \"GET /socket.io/?EIO=4&transport=polling&t=OcRxTOR&sid=_3iR_jw-VYSPRybOAADy HTTP/1.1\" 200 -\n",
      "127.0.0.1 - - [28/Jul/2023 02:57:07] \"POST /socket.io/?EIO=4&transport=polling&t=OcRxZVn&sid=_3iR_jw-VYSPRybOAADy HTTP/1.1\" 200 -\n",
      "127.0.0.1 - - [28/Jul/2023 04:04:58] \"GET /socket.io/?EIO=4&transport=polling&t=OcRxZVN&sid=wgAY_77B4QFUHfFlAADz HTTP/1.1\" 200 -\n",
      "127.0.0.1 - - [28/Jul/2023 04:04:58] \"GET /socket.io/?EIO=4&transport=polling&t=OcRxZVo&sid=_3iR_jw-VYSPRybOAADy HTTP/1.1\" 200 -\n",
      "127.0.0.1 - - [28/Jul/2023 04:04:58] \"POST /socket.io/?EIO=4&transport=polling&t=OcSB5Eh&sid=_3iR_jw-VYSPRybOAADy HTTP/1.1\" 200 -\n",
      "127.0.0.1 - - [28/Jul/2023 04:04:59] \"POST /socket.io/?EIO=4&transport=polling&t=OcSB5Ee&sid=wgAY_77B4QFUHfFlAADz HTTP/1.1\" 200 -\n",
      "127.0.0.1 - - [28/Jul/2023 04:05:23] \"GET /socket.io/?EIO=4&transport=polling&t=OcSB5Ej&sid=_3iR_jw-VYSPRybOAADy HTTP/1.1\" 200 -\n",
      "127.0.0.1 - - [28/Jul/2023 04:05:23] \"POST /socket.io/?EIO=4&transport=polling&t=OcSBBP-&sid=_3iR_jw-VYSPRybOAADy HTTP/1.1\" 200 -\n",
      "127.0.0.1 - - [28/Jul/2023 04:05:24] \"GET /socket.io/?EIO=4&transport=polling&t=OcSB5WL&sid=wgAY_77B4QFUHfFlAADz HTTP/1.1\" 200 -\n",
      "127.0.0.1 - - [28/Jul/2023 04:05:24] \"POST /socket.io/?EIO=4&transport=polling&t=OcSBBhh&sid=wgAY_77B4QFUHfFlAADz HTTP/1.1\" 200 -\n",
      "127.0.0.1 - - [28/Jul/2023 04:05:48] \"GET /socket.io/?EIO=4&transport=polling&t=OcSBBQ1&sid=_3iR_jw-VYSPRybOAADy HTTP/1.1\" 200 -\n",
      "127.0.0.1 - - [28/Jul/2023 04:05:48] \"POST /socket.io/?EIO=4&transport=polling&t=OcSBHZX&sid=_3iR_jw-VYSPRybOAADy HTTP/1.1\" 200 -\n",
      "127.0.0.1 - - [28/Jul/2023 04:05:49] \"GET /socket.io/?EIO=4&transport=polling&t=OcSBBhl&sid=wgAY_77B4QFUHfFlAADz HTTP/1.1\" 200 -\n",
      "127.0.0.1 - - [28/Jul/2023 04:05:49] \"POST /socket.io/?EIO=4&transport=polling&t=OcSBHrX&sid=wgAY_77B4QFUHfFlAADz HTTP/1.1\" 200 -\n",
      "127.0.0.1 - - [28/Jul/2023 05:04:09] \"GET /socket.io/?EIO=4&transport=polling&t=OcSBHZb&sid=_3iR_jw-VYSPRybOAADy HTTP/1.1\" 200 -\n",
      "127.0.0.1 - - [28/Jul/2023 05:04:09] \"POST /socket.io/?EIO=4&transport=polling&t=OcSOeBA&sid=_3iR_jw-VYSPRybOAADy HTTP/1.1\" 200 -\n",
      "127.0.0.1 - - [28/Jul/2023 05:04:10] \"GET /socket.io/?EIO=4&transport=polling&t=OcSBHrb&sid=wgAY_77B4QFUHfFlAADz HTTP/1.1\" 200 -\n",
      "127.0.0.1 - - [28/Jul/2023 05:04:10] \"POST /socket.io/?EIO=4&transport=polling&t=OcSOeTF&sid=wgAY_77B4QFUHfFlAADz HTTP/1.1\" 200 -\n",
      "127.0.0.1 - - [28/Jul/2023 05:04:34] \"GET /socket.io/?EIO=4&transport=polling&t=OcSOeBC&sid=_3iR_jw-VYSPRybOAADy HTTP/1.1\" 200 -\n",
      "127.0.0.1 - - [28/Jul/2023 05:04:34] \"POST /socket.io/?EIO=4&transport=polling&t=OcSOkHz&sid=_3iR_jw-VYSPRybOAADy HTTP/1.1\" 200 -\n",
      "127.0.0.1 - - [28/Jul/2023 05:04:35] \"GET /socket.io/?EIO=4&transport=polling&t=OcSOeTG&sid=wgAY_77B4QFUHfFlAADz HTTP/1.1\" 200 -\n",
      "127.0.0.1 - - [28/Jul/2023 05:04:35] \"POST /socket.io/?EIO=4&transport=polling&t=OcSOka5&sid=wgAY_77B4QFUHfFlAADz HTTP/1.1\" 200 -\n",
      "127.0.0.1 - - [28/Jul/2023 05:38:04] \"GET /socket.io/?EIO=4&transport=polling&t=OcSOkH-&sid=_3iR_jw-VYSPRybOAADy HTTP/1.1\" 200 -\n",
      "127.0.0.1 - - [28/Jul/2023 05:38:04] \"POST /socket.io/?EIO=4&transport=polling&t=OcSWP25&sid=_3iR_jw-VYSPRybOAADy HTTP/1.1\" 200 -\n",
      "127.0.0.1 - - [28/Jul/2023 05:38:05] \"GET /socket.io/?EIO=4&transport=polling&t=OcSOka6&sid=wgAY_77B4QFUHfFlAADz HTTP/1.1\" 200 -\n",
      "127.0.0.1 - - [28/Jul/2023 05:38:05] \"POST /socket.io/?EIO=4&transport=polling&t=OcSWPK8&sid=wgAY_77B4QFUHfFlAADz HTTP/1.1\" 200 -\n",
      "127.0.0.1 - - [28/Jul/2023 05:38:29] \"GET /socket.io/?EIO=4&transport=polling&t=OcSWP26&sid=_3iR_jw-VYSPRybOAADy HTTP/1.1\" 200 -\n",
      "127.0.0.1 - - [28/Jul/2023 05:38:29] \"POST /socket.io/?EIO=4&transport=polling&t=OcSWV8r&sid=_3iR_jw-VYSPRybOAADy HTTP/1.1\" 200 -\n",
      "127.0.0.1 - - [28/Jul/2023 05:38:30] \"GET /socket.io/?EIO=4&transport=polling&t=OcSWPKA&sid=wgAY_77B4QFUHfFlAADz HTTP/1.1\" 200 -\n",
      "127.0.0.1 - - [28/Jul/2023 05:38:30] \"POST /socket.io/?EIO=4&transport=polling&t=OcSWVT1&sid=wgAY_77B4QFUHfFlAADz HTTP/1.1\" 200 -\n",
      "127.0.0.1 - - [28/Jul/2023 06:55:13] \"GET /socket.io/?EIO=4&transport=polling&t=OcSWV8s&sid=_3iR_jw-VYSPRybOAADy HTTP/1.1\" 200 -\n",
      "127.0.0.1 - - [28/Jul/2023 06:55:13] \"POST /socket.io/?EIO=4&transport=polling&t=OcSo3Gq&sid=_3iR_jw-VYSPRybOAADy HTTP/1.1\" 200 -\n",
      "127.0.0.1 - - [28/Jul/2023 06:55:14] \"GET /socket.io/?EIO=4&transport=polling&t=OcSWVT2&sid=wgAY_77B4QFUHfFlAADz HTTP/1.1\" 200 -\n",
      "127.0.0.1 - - [28/Jul/2023 06:55:14] \"POST /socket.io/?EIO=4&transport=polling&t=OcSo3Z9&sid=wgAY_77B4QFUHfFlAADz HTTP/1.1\" 200 -\n",
      "127.0.0.1 - - [28/Jul/2023 06:55:38] \"GET /socket.io/?EIO=4&transport=polling&t=OcSo3Gt&sid=_3iR_jw-VYSPRybOAADy HTTP/1.1\" 200 -\n",
      "127.0.0.1 - - [28/Jul/2023 06:55:38] \"POST /socket.io/?EIO=4&transport=polling&t=OcSo9No&sid=_3iR_jw-VYSPRybOAADy HTTP/1.1\" 200 -\n",
      "127.0.0.1 - - [28/Jul/2023 06:55:39] \"GET /socket.io/?EIO=4&transport=polling&t=OcSo3ZC&sid=wgAY_77B4QFUHfFlAADz HTTP/1.1\" 200 -\n",
      "127.0.0.1 - - [28/Jul/2023 06:55:39] \"POST /socket.io/?EIO=4&transport=polling&t=OcSo9gE&sid=wgAY_77B4QFUHfFlAADz HTTP/1.1\" 200 -\n",
      "127.0.0.1 - - [28/Jul/2023 08:07:31] \"GET /socket.io/?EIO=4&transport=polling&t=OcSo9Np&sid=_3iR_jw-VYSPRybOAADy HTTP/1.1\" 200 -\n",
      "127.0.0.1 - - [28/Jul/2023 08:07:31] \"POST /socket.io/?EIO=4&transport=polling&t=OcT2cGv&sid=_3iR_jw-VYSPRybOAADy HTTP/1.1\" 200 -\n",
      "127.0.0.1 - - [28/Jul/2023 08:07:32] \"GET /socket.io/?EIO=4&transport=polling&t=OcSo9gF&sid=wgAY_77B4QFUHfFlAADz HTTP/1.1\" 200 -\n",
      "127.0.0.1 - - [28/Jul/2023 08:07:32] \"POST /socket.io/?EIO=4&transport=polling&t=OcT2cZO&sid=wgAY_77B4QFUHfFlAADz HTTP/1.1\" 200 -\n",
      "127.0.0.1 - - [28/Jul/2023 08:07:56] \"GET /socket.io/?EIO=4&transport=polling&t=OcT2cGy&sid=_3iR_jw-VYSPRybOAADy HTTP/1.1\" 200 -\n",
      "127.0.0.1 - - [28/Jul/2023 08:07:56] \"POST /socket.io/?EIO=4&transport=polling&t=OcT2iNs&sid=_3iR_jw-VYSPRybOAADy HTTP/1.1\" 200 -\n",
      "127.0.0.1 - - [28/Jul/2023 08:07:57] \"GET /socket.io/?EIO=4&transport=polling&t=OcT2cZR&sid=wgAY_77B4QFUHfFlAADz HTTP/1.1\" 200 -\n",
      "127.0.0.1 - - [28/Jul/2023 08:07:57] \"POST /socket.io/?EIO=4&transport=polling&t=OcT2igM&sid=wgAY_77B4QFUHfFlAADz HTTP/1.1\" 200 -\n",
      "127.0.0.1 - - [28/Jul/2023 08:59:11] \"GET /socket.io/?EIO=4&transport=polling&t=OcT2iNt&sid=_3iR_jw-VYSPRybOAADy HTTP/1.1\" 200 -\n",
      "127.0.0.1 - - [28/Jul/2023 08:59:11] \"POST /socket.io/?EIO=4&transport=polling&t=OcTER6y&sid=_3iR_jw-VYSPRybOAADy HTTP/1.1\" 200 -\n",
      "127.0.0.1 - - [28/Jul/2023 08:59:12] \"GET /socket.io/?EIO=4&transport=polling&t=OcT2igN&sid=wgAY_77B4QFUHfFlAADz HTTP/1.1\" 200 -\n",
      "127.0.0.1 - - [28/Jul/2023 08:59:12] \"POST /socket.io/?EIO=4&transport=polling&t=OcTERPN&sid=wgAY_77B4QFUHfFlAADz HTTP/1.1\" 200 -\n",
      "127.0.0.1 - - [28/Jul/2023 08:59:36] \"GET /socket.io/?EIO=4&transport=polling&t=OcTER6-&sid=_3iR_jw-VYSPRybOAADy HTTP/1.1\" 200 -\n",
      "127.0.0.1 - - [28/Jul/2023 08:59:36] \"POST /socket.io/?EIO=4&transport=polling&t=OcTEXDw&sid=_3iR_jw-VYSPRybOAADy HTTP/1.1\" 200 -\n",
      "127.0.0.1 - - [28/Jul/2023 08:59:37] \"GET /socket.io/?EIO=4&transport=polling&t=OcTERPQ&sid=wgAY_77B4QFUHfFlAADz HTTP/1.1\" 200 -\n",
      "127.0.0.1 - - [28/Jul/2023 08:59:37] \"POST /socket.io/?EIO=4&transport=polling&t=OcTEXWN&sid=wgAY_77B4QFUHfFlAADz HTTP/1.1\" 200 -\n",
      "127.0.0.1 - - [28/Jul/2023 09:12:25] \"GET /socket.io/?EIO=4&transport=polling&t=OcTEXDx&sid=_3iR_jw-VYSPRybOAADy HTTP/1.1\" 200 -\n",
      "127.0.0.1 - - [28/Jul/2023 09:12:26] \"POST /socket.io/?EIO=4&transport=polling&t=OcTHTBq&sid=_3iR_jw-VYSPRybOAADy HTTP/1.1\" 200 -\n",
      "127.0.0.1 - - [28/Jul/2023 09:12:26] \"GET /socket.io/?EIO=4&transport=polling&t=OcTEXWO&sid=wgAY_77B4QFUHfFlAADz HTTP/1.1\" 200 -\n",
      "127.0.0.1 - - [28/Jul/2023 09:12:26] \"POST /socket.io/?EIO=4&transport=polling&t=OcTHTJc&sid=wgAY_77B4QFUHfFlAADz HTTP/1.1\" 200 -\n",
      "127.0.0.1 - - [28/Jul/2023 09:12:51] \"GET /socket.io/?EIO=4&transport=polling&t=OcTHTBs&sid=_3iR_jw-VYSPRybOAADy HTTP/1.1\" 200 -\n",
      "127.0.0.1 - - [28/Jul/2023 09:12:51] \"POST /socket.io/?EIO=4&transport=polling&t=OcTHZNW&sid=_3iR_jw-VYSPRybOAADy HTTP/1.1\" 200 -\n",
      "127.0.0.1 - - [28/Jul/2023 09:12:51] \"GET /socket.io/?EIO=4&transport=polling&t=OcTHTJd&sid=wgAY_77B4QFUHfFlAADz HTTP/1.1\" 200 -\n",
      "127.0.0.1 - - [28/Jul/2023 09:12:51] \"POST /socket.io/?EIO=4&transport=polling&t=OcTHZU7&sid=wgAY_77B4QFUHfFlAADz HTTP/1.1\" 200 -\n",
      "127.0.0.1 - - [28/Jul/2023 09:13:16] \"GET /socket.io/?EIO=4&transport=polling&t=OcTHZNX&sid=_3iR_jw-VYSPRybOAADy HTTP/1.1\" 200 -\n",
      "127.0.0.1 - - [28/Jul/2023 09:13:16] \"POST /socket.io/?EIO=4&transport=polling&t=OcTHfUJ&sid=_3iR_jw-VYSPRybOAADy HTTP/1.1\" 200 -\n",
      "127.0.0.1 - - [28/Jul/2023 09:13:16] \"GET /socket.io/?EIO=4&transport=polling&t=OcTHZU8&sid=wgAY_77B4QFUHfFlAADz HTTP/1.1\" 200 -\n",
      "127.0.0.1 - - [28/Jul/2023 09:13:16] \"POST /socket.io/?EIO=4&transport=polling&t=OcTHfay&sid=wgAY_77B4QFUHfFlAADz HTTP/1.1\" 200 -\n",
      "127.0.0.1 - - [28/Jul/2023 09:13:41] \"GET /socket.io/?EIO=4&transport=polling&t=OcTHfUK&sid=_3iR_jw-VYSPRybOAADy HTTP/1.1\" 200 -\n",
      "127.0.0.1 - - [28/Jul/2023 09:13:41] \"POST /socket.io/?EIO=4&transport=polling&t=OcTHlb9&sid=_3iR_jw-VYSPRybOAADy HTTP/1.1\" 200 -\n",
      "127.0.0.1 - - [28/Jul/2023 09:13:41] \"GET /socket.io/?EIO=4&transport=polling&t=OcTHfaz&sid=wgAY_77B4QFUHfFlAADz HTTP/1.1\" 200 -\n",
      "127.0.0.1 - - [28/Jul/2023 09:13:42] \"POST /socket.io/?EIO=4&transport=polling&t=OcTHlhn&sid=wgAY_77B4QFUHfFlAADz HTTP/1.1\" 200 -\n",
      "127.0.0.1 - - [28/Jul/2023 09:14:06] \"GET /socket.io/?EIO=4&transport=polling&t=OcTHlbA&sid=_3iR_jw-VYSPRybOAADy HTTP/1.1\" 200 -\n",
      "127.0.0.1 - - [28/Jul/2023 09:14:06] \"POST /socket.io/?EIO=4&transport=polling&t=OcTHrhx&sid=_3iR_jw-VYSPRybOAADy HTTP/1.1\" 200 -\n",
      "127.0.0.1 - - [28/Jul/2023 09:14:07] \"GET /socket.io/?EIO=4&transport=polling&t=OcTHlho&sid=wgAY_77B4QFUHfFlAADz HTTP/1.1\" 200 -\n",
      "127.0.0.1 - - [28/Jul/2023 09:14:07] \"POST /socket.io/?EIO=4&transport=polling&t=OcTHroY&sid=wgAY_77B4QFUHfFlAADz HTTP/1.1\" 200 -\n",
      "127.0.0.1 - - [28/Jul/2023 09:14:31] \"GET /socket.io/?EIO=4&transport=polling&t=OcTHrhx.0&sid=_3iR_jw-VYSPRybOAADy HTTP/1.1\" 200 -\n",
      "127.0.0.1 - - [28/Jul/2023 09:14:31] \"POST /socket.io/?EIO=4&transport=polling&t=OcTHxom&sid=_3iR_jw-VYSPRybOAADy HTTP/1.1\" 200 -\n",
      "127.0.0.1 - - [28/Jul/2023 09:14:32] \"GET /socket.io/?EIO=4&transport=polling&t=OcTHroZ&sid=wgAY_77B4QFUHfFlAADz HTTP/1.1\" 200 -\n",
      "127.0.0.1 - - [28/Jul/2023 09:14:32] \"POST /socket.io/?EIO=4&transport=polling&t=OcTHxvO&sid=wgAY_77B4QFUHfFlAADz HTTP/1.1\" 200 -\n",
      "127.0.0.1 - - [28/Jul/2023 09:14:56] \"GET /socket.io/?EIO=4&transport=polling&t=OcTHxon&sid=_3iR_jw-VYSPRybOAADy HTTP/1.1\" 200 -\n",
      "127.0.0.1 - - [28/Jul/2023 09:14:56] \"POST /socket.io/?EIO=4&transport=polling&t=OcTI1vZ&sid=_3iR_jw-VYSPRybOAADy HTTP/1.1\" 200 -\n",
      "127.0.0.1 - - [28/Jul/2023 09:14:57] \"GET /socket.io/?EIO=4&transport=polling&t=OcTHxvP&sid=wgAY_77B4QFUHfFlAADz HTTP/1.1\" 200 -\n",
      "127.0.0.1 - - [28/Jul/2023 09:14:57] \"POST /socket.io/?EIO=4&transport=polling&t=OcTI209&sid=wgAY_77B4QFUHfFlAADz HTTP/1.1\" 200 -\n",
      "127.0.0.1 - - [28/Jul/2023 09:15:21] \"GET /socket.io/?EIO=4&transport=polling&t=OcTI1va&sid=_3iR_jw-VYSPRybOAADy HTTP/1.1\" 200 -\n",
      "127.0.0.1 - - [28/Jul/2023 09:15:21] \"POST /socket.io/?EIO=4&transport=polling&t=OcTI80O&sid=_3iR_jw-VYSPRybOAADy HTTP/1.1\" 200 -\n",
      "127.0.0.1 - - [28/Jul/2023 09:15:22] \"GET /socket.io/?EIO=4&transport=polling&t=OcTI20A&sid=wgAY_77B4QFUHfFlAADz HTTP/1.1\" 200 -\n",
      "127.0.0.1 - - [28/Jul/2023 09:15:22] \"POST /socket.io/?EIO=4&transport=polling&t=OcTI86x&sid=wgAY_77B4QFUHfFlAADz HTTP/1.1\" 200 -\n",
      "127.0.0.1 - - [28/Jul/2023 09:15:46] \"GET /socket.io/?EIO=4&transport=polling&t=OcTI80Q&sid=_3iR_jw-VYSPRybOAADy HTTP/1.1\" 200 -\n",
      "127.0.0.1 - - [28/Jul/2023 09:15:46] \"POST /socket.io/?EIO=4&transport=polling&t=OcTIE7B&sid=_3iR_jw-VYSPRybOAADy HTTP/1.1\" 200 -\n",
      "127.0.0.1 - - [28/Jul/2023 09:15:47] \"GET /socket.io/?EIO=4&transport=polling&t=OcTI86y&sid=wgAY_77B4QFUHfFlAADz HTTP/1.1\" 200 -\n",
      "127.0.0.1 - - [28/Jul/2023 09:15:47] \"POST /socket.io/?EIO=4&transport=polling&t=OcTIEDj&sid=wgAY_77B4QFUHfFlAADz HTTP/1.1\" 200 -\n",
      "127.0.0.1 - - [28/Jul/2023 09:16:11] \"GET /socket.io/?EIO=4&transport=polling&t=OcTIE7C&sid=_3iR_jw-VYSPRybOAADy HTTP/1.1\" 200 -\n",
      "127.0.0.1 - - [28/Jul/2023 09:16:11] \"POST /socket.io/?EIO=4&transport=polling&t=OcTIKE1&sid=_3iR_jw-VYSPRybOAADy HTTP/1.1\" 200 -\n",
      "127.0.0.1 - - [28/Jul/2023 09:16:12] \"GET /socket.io/?EIO=4&transport=polling&t=OcTIEDk&sid=wgAY_77B4QFUHfFlAADz HTTP/1.1\" 200 -\n",
      "127.0.0.1 - - [28/Jul/2023 09:16:12] \"POST /socket.io/?EIO=4&transport=polling&t=OcTIKKX&sid=wgAY_77B4QFUHfFlAADz HTTP/1.1\" 200 -\n",
      "127.0.0.1 - - [28/Jul/2023 09:16:36] \"GET /socket.io/?EIO=4&transport=polling&t=OcTIKE2&sid=_3iR_jw-VYSPRybOAADy HTTP/1.1\" 200 -\n",
      "127.0.0.1 - - [28/Jul/2023 09:16:36] \"POST /socket.io/?EIO=4&transport=polling&t=OcTIQKp&sid=_3iR_jw-VYSPRybOAADy HTTP/1.1\" 200 -\n",
      "127.0.0.1 - - [28/Jul/2023 09:16:37] \"GET /socket.io/?EIO=4&transport=polling&t=OcTIKKZ&sid=wgAY_77B4QFUHfFlAADz HTTP/1.1\" 200 -\n",
      "127.0.0.1 - - [28/Jul/2023 09:16:37] \"POST /socket.io/?EIO=4&transport=polling&t=OcTIQRK&sid=wgAY_77B4QFUHfFlAADz HTTP/1.1\" 200 -\n",
      "127.0.0.1 - - [28/Jul/2023 09:17:01] \"GET /socket.io/?EIO=4&transport=polling&t=OcTIQKq&sid=_3iR_jw-VYSPRybOAADy HTTP/1.1\" 200 -\n",
      "127.0.0.1 - - [28/Jul/2023 09:17:01] \"POST /socket.io/?EIO=4&transport=polling&t=OcTIWRe&sid=_3iR_jw-VYSPRybOAADy HTTP/1.1\" 200 -\n",
      "127.0.0.1 - - [28/Jul/2023 09:17:02] \"GET /socket.io/?EIO=4&transport=polling&t=OcTIQRL&sid=wgAY_77B4QFUHfFlAADz HTTP/1.1\" 200 -\n",
      "127.0.0.1 - - [28/Jul/2023 09:17:02] \"POST /socket.io/?EIO=4&transport=polling&t=OcTIWY6&sid=wgAY_77B4QFUHfFlAADz HTTP/1.1\" 200 -\n",
      "127.0.0.1 - - [28/Jul/2023 09:17:26] \"GET /socket.io/?EIO=4&transport=polling&t=OcTIWRe.0&sid=_3iR_jw-VYSPRybOAADy HTTP/1.1\" 200 -\n",
      "127.0.0.1 - - [28/Jul/2023 09:17:26] \"POST /socket.io/?EIO=4&transport=polling&t=OcTIcYU&sid=_3iR_jw-VYSPRybOAADy HTTP/1.1\" 200 -\n",
      "127.0.0.1 - - [28/Jul/2023 09:17:27] \"GET /socket.io/?EIO=4&transport=polling&t=OcTIWY7&sid=wgAY_77B4QFUHfFlAADz HTTP/1.1\" 200 -\n",
      "127.0.0.1 - - [28/Jul/2023 09:17:27] \"POST /socket.io/?EIO=4&transport=polling&t=OcTIces&sid=wgAY_77B4QFUHfFlAADz HTTP/1.1\" 200 -\n",
      "127.0.0.1 - - [28/Jul/2023 09:17:51] \"GET /socket.io/?EIO=4&transport=polling&t=OcTIcYV&sid=_3iR_jw-VYSPRybOAADy HTTP/1.1\" 200 -\n",
      "127.0.0.1 - - [28/Jul/2023 09:17:51] \"POST /socket.io/?EIO=4&transport=polling&t=OcTIifZ&sid=_3iR_jw-VYSPRybOAADy HTTP/1.1\" 200 -\n",
      "127.0.0.1 - - [28/Jul/2023 09:17:52] \"GET /socket.io/?EIO=4&transport=polling&t=OcTIcet&sid=wgAY_77B4QFUHfFlAADz HTTP/1.1\" 200 -\n",
      "127.0.0.1 - - [28/Jul/2023 09:17:52] \"POST /socket.io/?EIO=4&transport=polling&t=OcTIild&sid=wgAY_77B4QFUHfFlAADz HTTP/1.1\" 200 -\n",
      "127.0.0.1 - - [28/Jul/2023 09:18:16] \"GET /socket.io/?EIO=4&transport=polling&t=OcTIifd&sid=_3iR_jw-VYSPRybOAADy HTTP/1.1\" 200 -\n",
      "127.0.0.1 - - [28/Jul/2023 09:18:16] \"POST /socket.io/?EIO=4&transport=polling&t=OcTIomd&sid=_3iR_jw-VYSPRybOAADy HTTP/1.1\" 200 -\n",
      "127.0.0.1 - - [28/Jul/2023 09:18:17] \"GET /socket.io/?EIO=4&transport=polling&t=OcTIile&sid=wgAY_77B4QFUHfFlAADz HTTP/1.1\" 200 -\n",
      "127.0.0.1 - - [28/Jul/2023 09:18:17] \"POST /socket.io/?EIO=4&transport=polling&t=OcTIosP&sid=wgAY_77B4QFUHfFlAADz HTTP/1.1\" 200 -\n",
      "127.0.0.1 - - [28/Jul/2023 09:18:41] \"GET /socket.io/?EIO=4&transport=polling&t=OcTIome&sid=_3iR_jw-VYSPRybOAADy HTTP/1.1\" 200 -\n",
      "127.0.0.1 - - [28/Jul/2023 09:18:41] \"POST /socket.io/?EIO=4&transport=polling&t=OcTIutQ&sid=_3iR_jw-VYSPRybOAADy HTTP/1.1\" 200 -\n",
      "127.0.0.1 - - [28/Jul/2023 09:18:42] \"GET /socket.io/?EIO=4&transport=polling&t=OcTIosQ&sid=wgAY_77B4QFUHfFlAADz HTTP/1.1\" 200 -\n",
      "127.0.0.1 - - [28/Jul/2023 09:18:42] \"POST /socket.io/?EIO=4&transport=polling&t=OcTIuzD&sid=wgAY_77B4QFUHfFlAADz HTTP/1.1\" 200 -\n",
      "127.0.0.1 - - [28/Jul/2023 09:19:06] \"GET /socket.io/?EIO=4&transport=polling&t=OcTIutQ.0&sid=_3iR_jw-VYSPRybOAADy HTTP/1.1\" 200 -\n",
      "127.0.0.1 - - [28/Jul/2023 09:19:06] \"POST /socket.io/?EIO=4&transport=polling&t=OcTI--B&sid=_3iR_jw-VYSPRybOAADy HTTP/1.1\" 200 -\n",
      "127.0.0.1 - - [28/Jul/2023 09:19:07] \"GET /socket.io/?EIO=4&transport=polling&t=OcTIuzE&sid=wgAY_77B4QFUHfFlAADz HTTP/1.1\" 200 -\n",
      "127.0.0.1 - - [28/Jul/2023 09:19:07] \"POST /socket.io/?EIO=4&transport=polling&t=OcTI_41&sid=wgAY_77B4QFUHfFlAADz HTTP/1.1\" 200 -\n",
      "127.0.0.1 - - [28/Jul/2023 09:19:31] \"GET /socket.io/?EIO=4&transport=polling&t=OcTI--C&sid=_3iR_jw-VYSPRybOAADy HTTP/1.1\" 200 -\n",
      "127.0.0.1 - - [28/Jul/2023 09:19:31] \"POST /socket.io/?EIO=4&transport=polling&t=OcTJ54y&sid=_3iR_jw-VYSPRybOAADy HTTP/1.1\" 200 -\n",
      "127.0.0.1 - - [28/Jul/2023 09:19:32] \"GET /socket.io/?EIO=4&transport=polling&t=OcTI_42&sid=wgAY_77B4QFUHfFlAADz HTTP/1.1\" 200 -\n",
      "127.0.0.1 - - [28/Jul/2023 09:19:32] \"POST /socket.io/?EIO=4&transport=polling&t=OcTJ5Ap&sid=wgAY_77B4QFUHfFlAADz HTTP/1.1\" 200 -\n",
      "127.0.0.1 - - [28/Jul/2023 09:19:56] \"GET /socket.io/?EIO=4&transport=polling&t=OcTJ54z&sid=_3iR_jw-VYSPRybOAADy HTTP/1.1\" 200 -\n",
      "127.0.0.1 - - [28/Jul/2023 09:19:56] \"POST /socket.io/?EIO=4&transport=polling&t=OcTJBBn&sid=_3iR_jw-VYSPRybOAADy HTTP/1.1\" 200 -\n",
      "127.0.0.1 - - [28/Jul/2023 09:19:57] \"GET /socket.io/?EIO=4&transport=polling&t=OcTJ5Aq&sid=wgAY_77B4QFUHfFlAADz HTTP/1.1\" 200 -\n",
      "127.0.0.1 - - [28/Jul/2023 09:19:57] \"POST /socket.io/?EIO=4&transport=polling&t=OcTJBHd&sid=wgAY_77B4QFUHfFlAADz HTTP/1.1\" 200 -\n",
      "127.0.0.1 - - [28/Jul/2023 09:20:21] \"GET /socket.io/?EIO=4&transport=polling&t=OcTJBBo&sid=_3iR_jw-VYSPRybOAADy HTTP/1.1\" 200 -\n",
      "127.0.0.1 - - [28/Jul/2023 09:20:21] \"POST /socket.io/?EIO=4&transport=polling&t=OcTJHIY&sid=_3iR_jw-VYSPRybOAADy HTTP/1.1\" 200 -\n",
      "127.0.0.1 - - [28/Jul/2023 09:20:22] \"GET /socket.io/?EIO=4&transport=polling&t=OcTJBHe&sid=wgAY_77B4QFUHfFlAADz HTTP/1.1\" 200 -\n",
      "127.0.0.1 - - [28/Jul/2023 09:20:22] \"POST /socket.io/?EIO=4&transport=polling&t=OcTJHON&sid=wgAY_77B4QFUHfFlAADz HTTP/1.1\" 200 -\n",
      "127.0.0.1 - - [28/Jul/2023 09:20:46] \"GET /socket.io/?EIO=4&transport=polling&t=OcTJHIZ&sid=_3iR_jw-VYSPRybOAADy HTTP/1.1\" 200 -\n",
      "127.0.0.1 - - [28/Jul/2023 09:20:46] \"POST /socket.io/?EIO=4&transport=polling&t=OcTJNPP&sid=_3iR_jw-VYSPRybOAADy HTTP/1.1\" 200 -\n",
      "127.0.0.1 - - [28/Jul/2023 09:20:47] \"GET /socket.io/?EIO=4&transport=polling&t=OcTJHOO&sid=wgAY_77B4QFUHfFlAADz HTTP/1.1\" 200 -\n",
      "127.0.0.1 - - [28/Jul/2023 09:20:47] \"POST /socket.io/?EIO=4&transport=polling&t=OcTJNVD&sid=wgAY_77B4QFUHfFlAADz HTTP/1.1\" 200 -\n",
      "127.0.0.1 - - [28/Jul/2023 09:21:11] \"GET /socket.io/?EIO=4&transport=polling&t=OcTJNPQ&sid=_3iR_jw-VYSPRybOAADy HTTP/1.1\" 200 -\n",
      "127.0.0.1 - - [28/Jul/2023 09:21:11] \"POST /socket.io/?EIO=4&transport=polling&t=OcTJTWD&sid=_3iR_jw-VYSPRybOAADy HTTP/1.1\" 200 -\n",
      "127.0.0.1 - - [28/Jul/2023 09:21:12] \"GET /socket.io/?EIO=4&transport=polling&t=OcTJNVD.0&sid=wgAY_77B4QFUHfFlAADz HTTP/1.1\" 200 -\n",
      "127.0.0.1 - - [28/Jul/2023 09:21:12] \"POST /socket.io/?EIO=4&transport=polling&t=OcTJTc4&sid=wgAY_77B4QFUHfFlAADz HTTP/1.1\" 200 -\n",
      "127.0.0.1 - - [28/Jul/2023 09:21:36] \"GET /socket.io/?EIO=4&transport=polling&t=OcTJTWE&sid=_3iR_jw-VYSPRybOAADy HTTP/1.1\" 200 -\n",
      "127.0.0.1 - - [28/Jul/2023 09:21:36] \"POST /socket.io/?EIO=4&transport=polling&t=OcTJZd1&sid=_3iR_jw-VYSPRybOAADy HTTP/1.1\" 200 -\n",
      "127.0.0.1 - - [28/Jul/2023 09:21:37] \"GET /socket.io/?EIO=4&transport=polling&t=OcTJTc5&sid=wgAY_77B4QFUHfFlAADz HTTP/1.1\" 200 -\n",
      "127.0.0.1 - - [28/Jul/2023 09:21:37] \"POST /socket.io/?EIO=4&transport=polling&t=OcTJZis&sid=wgAY_77B4QFUHfFlAADz HTTP/1.1\" 200 -\n",
      "127.0.0.1 - - [28/Jul/2023 09:22:01] \"GET /socket.io/?EIO=4&transport=polling&t=OcTJZd2&sid=_3iR_jw-VYSPRybOAADy HTTP/1.1\" 200 -\n",
      "127.0.0.1 - - [28/Jul/2023 09:22:01] \"POST /socket.io/?EIO=4&transport=polling&t=OcTJfjs&sid=_3iR_jw-VYSPRybOAADy HTTP/1.1\" 200 -\n",
      "127.0.0.1 - - [28/Jul/2023 09:22:02] \"GET /socket.io/?EIO=4&transport=polling&t=OcTJZit&sid=wgAY_77B4QFUHfFlAADz HTTP/1.1\" 200 -\n",
      "127.0.0.1 - - [28/Jul/2023 09:22:02] \"POST /socket.io/?EIO=4&transport=polling&t=OcTJfpg&sid=wgAY_77B4QFUHfFlAADz HTTP/1.1\" 200 -\n",
      "127.0.0.1 - - [28/Jul/2023 09:22:26] \"GET /socket.io/?EIO=4&transport=polling&t=OcTJfjt&sid=_3iR_jw-VYSPRybOAADy HTTP/1.1\" 200 -\n",
      "127.0.0.1 - - [28/Jul/2023 09:22:26] \"POST /socket.io/?EIO=4&transport=polling&t=OcTJlqj&sid=_3iR_jw-VYSPRybOAADy HTTP/1.1\" 200 -\n",
      "127.0.0.1 - - [28/Jul/2023 09:22:27] \"GET /socket.io/?EIO=4&transport=polling&t=OcTJfph&sid=wgAY_77B4QFUHfFlAADz HTTP/1.1\" 200 -\n",
      "127.0.0.1 - - [28/Jul/2023 09:22:27] \"POST /socket.io/?EIO=4&transport=polling&t=OcTJlwX&sid=wgAY_77B4QFUHfFlAADz HTTP/1.1\" 200 -\n",
      "127.0.0.1 - - [28/Jul/2023 09:22:51] \"GET /socket.io/?EIO=4&transport=polling&t=OcTJlqk&sid=_3iR_jw-VYSPRybOAADy HTTP/1.1\" 200 -\n",
      "127.0.0.1 - - [28/Jul/2023 09:22:51] \"POST /socket.io/?EIO=4&transport=polling&t=OcTJrxY&sid=_3iR_jw-VYSPRybOAADy HTTP/1.1\" 200 -\n",
      "127.0.0.1 - - [28/Jul/2023 09:22:52] \"GET /socket.io/?EIO=4&transport=polling&t=OcTJlwY&sid=wgAY_77B4QFUHfFlAADz HTTP/1.1\" 200 -\n",
      "127.0.0.1 - - [28/Jul/2023 09:22:52] \"POST /socket.io/?EIO=4&transport=polling&t=OcTJs1O&sid=wgAY_77B4QFUHfFlAADz HTTP/1.1\" 200 -\n",
      "127.0.0.1 - - [28/Jul/2023 09:23:16] \"GET /socket.io/?EIO=4&transport=polling&t=OcTJrxY.0&sid=_3iR_jw-VYSPRybOAADy HTTP/1.1\" 200 -\n",
      "127.0.0.1 - - [28/Jul/2023 09:23:16] \"POST /socket.io/?EIO=4&transport=polling&t=OcTJy2Q&sid=_3iR_jw-VYSPRybOAADy HTTP/1.1\" 200 -\n",
      "127.0.0.1 - - [28/Jul/2023 09:23:17] \"GET /socket.io/?EIO=4&transport=polling&t=OcTJs1P&sid=wgAY_77B4QFUHfFlAADz HTTP/1.1\" 200 -\n",
      "127.0.0.1 - - [28/Jul/2023 09:23:17] \"POST /socket.io/?EIO=4&transport=polling&t=OcTJy8D&sid=wgAY_77B4QFUHfFlAADz HTTP/1.1\" 200 -\n",
      "127.0.0.1 - - [28/Jul/2023 09:23:41] \"GET /socket.io/?EIO=4&transport=polling&t=OcTJy2R&sid=_3iR_jw-VYSPRybOAADy HTTP/1.1\" 200 -\n",
      "127.0.0.1 - - [28/Jul/2023 09:23:41] \"POST /socket.io/?EIO=4&transport=polling&t=OcTK29D&sid=_3iR_jw-VYSPRybOAADy HTTP/1.1\" 200 -\n",
      "127.0.0.1 - - [28/Jul/2023 09:23:42] \"GET /socket.io/?EIO=4&transport=polling&t=OcTJy8E&sid=wgAY_77B4QFUHfFlAADz HTTP/1.1\" 200 -\n",
      "127.0.0.1 - - [28/Jul/2023 09:23:42] \"POST /socket.io/?EIO=4&transport=polling&t=OcTK2F1&sid=wgAY_77B4QFUHfFlAADz HTTP/1.1\" 200 -\n",
      "127.0.0.1 - - [28/Jul/2023 09:24:06] \"GET /socket.io/?EIO=4&transport=polling&t=OcTK29E&sid=_3iR_jw-VYSPRybOAADy HTTP/1.1\" 200 -\n",
      "127.0.0.1 - - [28/Jul/2023 09:24:06] \"POST /socket.io/?EIO=4&transport=polling&t=OcTK8G0&sid=_3iR_jw-VYSPRybOAADy HTTP/1.1\" 200 -\n",
      "127.0.0.1 - - [28/Jul/2023 09:24:07] \"GET /socket.io/?EIO=4&transport=polling&t=OcTK2F1.0&sid=wgAY_77B4QFUHfFlAADz HTTP/1.1\" 200 -\n",
      "127.0.0.1 - - [28/Jul/2023 09:24:07] \"POST /socket.io/?EIO=4&transport=polling&t=OcTK8Ly&sid=wgAY_77B4QFUHfFlAADz HTTP/1.1\" 200 -\n",
      "127.0.0.1 - - [28/Jul/2023 09:24:31] \"GET /socket.io/?EIO=4&transport=polling&t=OcTK8G1&sid=_3iR_jw-VYSPRybOAADy HTTP/1.1\" 200 -\n",
      "127.0.0.1 - - [28/Jul/2023 09:24:31] \"POST /socket.io/?EIO=4&transport=polling&t=OcTKEMq&sid=_3iR_jw-VYSPRybOAADy HTTP/1.1\" 200 -\n",
      "127.0.0.1 - - [28/Jul/2023 09:24:32] \"GET /socket.io/?EIO=4&transport=polling&t=OcTK8Lz&sid=wgAY_77B4QFUHfFlAADz HTTP/1.1\" 200 -\n",
      "127.0.0.1 - - [28/Jul/2023 09:24:32] \"POST /socket.io/?EIO=4&transport=polling&t=OcTKESl&sid=wgAY_77B4QFUHfFlAADz HTTP/1.1\" 200 -\n",
      "127.0.0.1 - - [28/Jul/2023 09:24:56] \"GET /socket.io/?EIO=4&transport=polling&t=OcTKEMr&sid=_3iR_jw-VYSPRybOAADy HTTP/1.1\" 200 -\n",
      "127.0.0.1 - - [28/Jul/2023 09:24:56] \"POST /socket.io/?EIO=4&transport=polling&t=OcTKKTi&sid=_3iR_jw-VYSPRybOAADy HTTP/1.1\" 200 -\n",
      "127.0.0.1 - - [28/Jul/2023 09:24:57] \"GET /socket.io/?EIO=4&transport=polling&t=OcTKESm&sid=wgAY_77B4QFUHfFlAADz HTTP/1.1\" 200 -\n",
      "127.0.0.1 - - [28/Jul/2023 09:24:57] \"POST /socket.io/?EIO=4&transport=polling&t=OcTKKZc&sid=wgAY_77B4QFUHfFlAADz HTTP/1.1\" 200 -\n",
      "127.0.0.1 - - [28/Jul/2023 09:25:21] \"GET /socket.io/?EIO=4&transport=polling&t=OcTKKTj&sid=_3iR_jw-VYSPRybOAADy HTTP/1.1\" 200 -\n",
      "127.0.0.1 - - [28/Jul/2023 09:25:21] \"POST /socket.io/?EIO=4&transport=polling&t=OcTKQaa&sid=_3iR_jw-VYSPRybOAADy HTTP/1.1\" 200 -\n",
      "127.0.0.1 - - [28/Jul/2023 09:25:22] \"GET /socket.io/?EIO=4&transport=polling&t=OcTKKZd&sid=wgAY_77B4QFUHfFlAADz HTTP/1.1\" 200 -\n",
      "127.0.0.1 - - [28/Jul/2023 09:25:22] \"POST /socket.io/?EIO=4&transport=polling&t=OcTKQgW&sid=wgAY_77B4QFUHfFlAADz HTTP/1.1\" 200 -\n",
      "127.0.0.1 - - [28/Jul/2023 09:25:46] \"GET /socket.io/?EIO=4&transport=polling&t=OcTKQab&sid=_3iR_jw-VYSPRybOAADy HTTP/1.1\" 200 -\n",
      "127.0.0.1 - - [28/Jul/2023 09:25:46] \"POST /socket.io/?EIO=4&transport=polling&t=OcTKWhY&sid=_3iR_jw-VYSPRybOAADy HTTP/1.1\" 200 -\n",
      "127.0.0.1 - - [28/Jul/2023 09:25:47] \"GET /socket.io/?EIO=4&transport=polling&t=OcTKQgX&sid=wgAY_77B4QFUHfFlAADz HTTP/1.1\" 200 -\n",
      "127.0.0.1 - - [28/Jul/2023 09:25:47] \"POST /socket.io/?EIO=4&transport=polling&t=OcTKWnL&sid=wgAY_77B4QFUHfFlAADz HTTP/1.1\" 200 -\n",
      "127.0.0.1 - - [28/Jul/2023 09:26:11] \"GET /socket.io/?EIO=4&transport=polling&t=OcTKWhZ&sid=_3iR_jw-VYSPRybOAADy HTTP/1.1\" 200 -\n",
      "127.0.0.1 - - [28/Jul/2023 09:26:11] \"POST /socket.io/?EIO=4&transport=polling&t=OcTKcoR&sid=_3iR_jw-VYSPRybOAADy HTTP/1.1\" 200 -\n",
      "127.0.0.1 - - [28/Jul/2023 09:26:12] \"GET /socket.io/?EIO=4&transport=polling&t=OcTKWnM&sid=wgAY_77B4QFUHfFlAADz HTTP/1.1\" 200 -\n",
      "127.0.0.1 - - [28/Jul/2023 09:26:12] \"POST /socket.io/?EIO=4&transport=polling&t=OcTKcu6&sid=wgAY_77B4QFUHfFlAADz HTTP/1.1\" 200 -\n",
      "127.0.0.1 - - [28/Jul/2023 09:26:37] \"GET /socket.io/?EIO=4&transport=polling&t=OcTKcoS&sid=_3iR_jw-VYSPRybOAADy HTTP/1.1\" 200 -\n",
      "127.0.0.1 - - [28/Jul/2023 09:26:37] \"POST /socket.io/?EIO=4&transport=polling&t=OcTKivG&sid=_3iR_jw-VYSPRybOAADy HTTP/1.1\" 200 -\n",
      "127.0.0.1 - - [28/Jul/2023 09:26:37] \"GET /socket.io/?EIO=4&transport=polling&t=OcTKcu7&sid=wgAY_77B4QFUHfFlAADz HTTP/1.1\" 200 -\n",
      "127.0.0.1 - - [28/Jul/2023 09:26:37] \"POST /socket.io/?EIO=4&transport=polling&t=OcTKi-z&sid=wgAY_77B4QFUHfFlAADz HTTP/1.1\" 200 -\n",
      "127.0.0.1 - - [28/Jul/2023 09:27:02] \"GET /socket.io/?EIO=4&transport=polling&t=OcTKivH&sid=_3iR_jw-VYSPRybOAADy HTTP/1.1\" 200 -\n",
      "127.0.0.1 - - [28/Jul/2023 09:27:02] \"POST /socket.io/?EIO=4&transport=polling&t=OcTKp05&sid=_3iR_jw-VYSPRybOAADy HTTP/1.1\" 200 -\n",
      "127.0.0.1 - - [28/Jul/2023 09:27:02] \"GET /socket.io/?EIO=4&transport=polling&t=OcTKi--&sid=wgAY_77B4QFUHfFlAADz HTTP/1.1\" 200 -\n",
      "127.0.0.1 - - [28/Jul/2023 09:27:02] \"POST /socket.io/?EIO=4&transport=polling&t=OcTKp5m&sid=wgAY_77B4QFUHfFlAADz HTTP/1.1\" 200 -\n",
      "127.0.0.1 - - [28/Jul/2023 09:27:27] \"GET /socket.io/?EIO=4&transport=polling&t=OcTKp06&sid=_3iR_jw-VYSPRybOAADy HTTP/1.1\" 200 -\n",
      "127.0.0.1 - - [28/Jul/2023 09:27:27] \"POST /socket.io/?EIO=4&transport=polling&t=OcTKv6w&sid=_3iR_jw-VYSPRybOAADy HTTP/1.1\" 200 -\n",
      "127.0.0.1 - - [28/Jul/2023 09:27:27] \"GET /socket.io/?EIO=4&transport=polling&t=OcTKp5o&sid=wgAY_77B4QFUHfFlAADz HTTP/1.1\" 200 -\n",
      "127.0.0.1 - - [28/Jul/2023 09:27:27] \"POST /socket.io/?EIO=4&transport=polling&t=OcTKvCe&sid=wgAY_77B4QFUHfFlAADz HTTP/1.1\" 200 -\n",
      "127.0.0.1 - - [28/Jul/2023 09:27:52] \"GET /socket.io/?EIO=4&transport=polling&t=OcTKv6x&sid=_3iR_jw-VYSPRybOAADy HTTP/1.1\" 200 -\n",
      "127.0.0.1 - - [28/Jul/2023 09:27:52] \"POST /socket.io/?EIO=4&transport=polling&t=OcTK_Dk&sid=_3iR_jw-VYSPRybOAADy HTTP/1.1\" 200 -\n",
      "127.0.0.1 - - [28/Jul/2023 09:27:52] \"GET /socket.io/?EIO=4&transport=polling&t=OcTKvCf&sid=wgAY_77B4QFUHfFlAADz HTTP/1.1\" 200 -\n",
      "127.0.0.1 - - [28/Jul/2023 09:27:52] \"POST /socket.io/?EIO=4&transport=polling&t=OcTK_JU&sid=wgAY_77B4QFUHfFlAADz HTTP/1.1\" 200 -\n",
      "127.0.0.1 - - [28/Jul/2023 09:28:17] \"GET /socket.io/?EIO=4&transport=polling&t=OcTK_Dk.0&sid=_3iR_jw-VYSPRybOAADy HTTP/1.1\" 200 -\n",
      "127.0.0.1 - - [28/Jul/2023 09:28:17] \"POST /socket.io/?EIO=4&transport=polling&t=OcTL5KZ&sid=_3iR_jw-VYSPRybOAADy HTTP/1.1\" 200 -\n",
      "127.0.0.1 - - [28/Jul/2023 09:28:17] \"GET /socket.io/?EIO=4&transport=polling&t=OcTK_JV&sid=wgAY_77B4QFUHfFlAADz HTTP/1.1\" 200 -\n",
      "127.0.0.1 - - [28/Jul/2023 09:28:17] \"POST /socket.io/?EIO=4&transport=polling&t=OcTL5QM&sid=wgAY_77B4QFUHfFlAADz HTTP/1.1\" 200 -\n",
      "127.0.0.1 - - [28/Jul/2023 09:28:42] \"GET /socket.io/?EIO=4&transport=polling&t=OcTL5Ka&sid=_3iR_jw-VYSPRybOAADy HTTP/1.1\" 200 -\n",
      "127.0.0.1 - - [28/Jul/2023 09:28:42] \"POST /socket.io/?EIO=4&transport=polling&t=OcTLBRO&sid=_3iR_jw-VYSPRybOAADy HTTP/1.1\" 200 -\n",
      "127.0.0.1 - - [28/Jul/2023 09:28:42] \"GET /socket.io/?EIO=4&transport=polling&t=OcTL5QN&sid=wgAY_77B4QFUHfFlAADz HTTP/1.1\" 200 -\n",
      "127.0.0.1 - - [28/Jul/2023 09:28:42] \"POST /socket.io/?EIO=4&transport=polling&t=OcTLBXE&sid=wgAY_77B4QFUHfFlAADz HTTP/1.1\" 200 -\n",
      "127.0.0.1 - - [28/Jul/2023 09:29:07] \"GET /socket.io/?EIO=4&transport=polling&t=OcTLBRP&sid=_3iR_jw-VYSPRybOAADy HTTP/1.1\" 200 -\n",
      "127.0.0.1 - - [28/Jul/2023 09:29:07] \"POST /socket.io/?EIO=4&transport=polling&t=OcTLHYB&sid=_3iR_jw-VYSPRybOAADy HTTP/1.1\" 200 -\n",
      "127.0.0.1 - - [28/Jul/2023 09:29:07] \"GET /socket.io/?EIO=4&transport=polling&t=OcTLBXE.0&sid=wgAY_77B4QFUHfFlAADz HTTP/1.1\" 200 -\n",
      "127.0.0.1 - - [28/Jul/2023 09:29:07] \"POST /socket.io/?EIO=4&transport=polling&t=OcTLHe6&sid=wgAY_77B4QFUHfFlAADz HTTP/1.1\" 200 -\n",
      "127.0.0.1 - - [28/Jul/2023 09:29:32] \"GET /socket.io/?EIO=4&transport=polling&t=OcTLHYC&sid=_3iR_jw-VYSPRybOAADy HTTP/1.1\" 200 -\n",
      "127.0.0.1 - - [28/Jul/2023 09:29:32] \"POST /socket.io/?EIO=4&transport=polling&t=OcTLNe_&sid=_3iR_jw-VYSPRybOAADy HTTP/1.1\" 200 -\n",
      "127.0.0.1 - - [28/Jul/2023 09:29:32] \"GET /socket.io/?EIO=4&transport=polling&t=OcTLHe7&sid=wgAY_77B4QFUHfFlAADz HTTP/1.1\" 200 -\n",
      "127.0.0.1 - - [28/Jul/2023 09:29:32] \"POST /socket.io/?EIO=4&transport=polling&t=OcTLNk_&sid=wgAY_77B4QFUHfFlAADz HTTP/1.1\" 200 -\n",
      "127.0.0.1 - - [28/Jul/2023 09:29:57] \"GET /socket.io/?EIO=4&transport=polling&t=OcTLNf0&sid=_3iR_jw-VYSPRybOAADy HTTP/1.1\" 200 -\n",
      "127.0.0.1 - - [28/Jul/2023 09:29:57] \"POST /socket.io/?EIO=4&transport=polling&t=OcTLTl-&sid=_3iR_jw-VYSPRybOAADy HTTP/1.1\" 200 -\n",
      "127.0.0.1 - - [28/Jul/2023 09:29:57] \"GET /socket.io/?EIO=4&transport=polling&t=OcTLNl0&sid=wgAY_77B4QFUHfFlAADz HTTP/1.1\" 200 -\n",
      "127.0.0.1 - - [28/Jul/2023 09:29:57] \"POST /socket.io/?EIO=4&transport=polling&t=OcTLTru&sid=wgAY_77B4QFUHfFlAADz HTTP/1.1\" 200 -\n",
      "127.0.0.1 - - [28/Jul/2023 09:30:22] \"GET /socket.io/?EIO=4&transport=polling&t=OcTLTl_&sid=_3iR_jw-VYSPRybOAADy HTTP/1.1\" 200 -\n",
      "127.0.0.1 - - [28/Jul/2023 09:30:22] \"POST /socket.io/?EIO=4&transport=polling&t=OcTLZsw&sid=_3iR_jw-VYSPRybOAADy HTTP/1.1\" 200 -\n",
      "127.0.0.1 - - [28/Jul/2023 09:30:22] \"GET /socket.io/?EIO=4&transport=polling&t=OcTLTrv&sid=wgAY_77B4QFUHfFlAADz HTTP/1.1\" 200 -\n",
      "127.0.0.1 - - [28/Jul/2023 09:30:22] \"POST /socket.io/?EIO=4&transport=polling&t=OcTLZyh&sid=wgAY_77B4QFUHfFlAADz HTTP/1.1\" 200 -\n",
      "127.0.0.1 - - [28/Jul/2023 09:30:47] \"GET /socket.io/?EIO=4&transport=polling&t=OcTLZsx&sid=_3iR_jw-VYSPRybOAADy HTTP/1.1\" 200 -\n",
      "127.0.0.1 - - [28/Jul/2023 09:30:47] \"POST /socket.io/?EIO=4&transport=polling&t=OcTLfzp&sid=_3iR_jw-VYSPRybOAADy HTTP/1.1\" 200 -\n",
      "127.0.0.1 - - [28/Jul/2023 09:30:47] \"GET /socket.io/?EIO=4&transport=polling&t=OcTLZyh.0&sid=wgAY_77B4QFUHfFlAADz HTTP/1.1\" 200 -\n",
      "127.0.0.1 - - [28/Jul/2023 09:30:47] \"POST /socket.io/?EIO=4&transport=polling&t=OcTLg3b&sid=wgAY_77B4QFUHfFlAADz HTTP/1.1\" 200 -\n",
      "127.0.0.1 - - [28/Jul/2023 09:31:12] \"GET /socket.io/?EIO=4&transport=polling&t=OcTLfzp.0&sid=_3iR_jw-VYSPRybOAADy HTTP/1.1\" 200 -\n",
      "127.0.0.1 - - [28/Jul/2023 09:31:12] \"POST /socket.io/?EIO=4&transport=polling&t=OcTLm4h&sid=_3iR_jw-VYSPRybOAADy HTTP/1.1\" 200 -\n",
      "127.0.0.1 - - [28/Jul/2023 09:31:12] \"GET /socket.io/?EIO=4&transport=polling&t=OcTLg3c&sid=wgAY_77B4QFUHfFlAADz HTTP/1.1\" 200 -\n",
      "127.0.0.1 - - [28/Jul/2023 09:31:12] \"POST /socket.io/?EIO=4&transport=polling&t=OcTLmAV&sid=wgAY_77B4QFUHfFlAADz HTTP/1.1\" 200 -\n",
      "127.0.0.1 - - [28/Jul/2023 09:31:37] \"GET /socket.io/?EIO=4&transport=polling&t=OcTLm4j&sid=_3iR_jw-VYSPRybOAADy HTTP/1.1\" 200 -\n",
      "127.0.0.1 - - [28/Jul/2023 09:31:37] \"POST /socket.io/?EIO=4&transport=polling&t=OcTLsBZ&sid=_3iR_jw-VYSPRybOAADy HTTP/1.1\" 200 -\n",
      "127.0.0.1 - - [28/Jul/2023 09:31:37] \"GET /socket.io/?EIO=4&transport=polling&t=OcTLmAV.0&sid=wgAY_77B4QFUHfFlAADz HTTP/1.1\" 200 -\n",
      "127.0.0.1 - - [28/Jul/2023 09:31:37] \"POST /socket.io/?EIO=4&transport=polling&t=OcTLsHK&sid=wgAY_77B4QFUHfFlAADz HTTP/1.1\" 200 -\n",
      "127.0.0.1 - - [28/Jul/2023 09:32:02] \"GET /socket.io/?EIO=4&transport=polling&t=OcTLsBf&sid=_3iR_jw-VYSPRybOAADy HTTP/1.1\" 200 -\n",
      "127.0.0.1 - - [28/Jul/2023 09:32:02] \"POST /socket.io/?EIO=4&transport=polling&t=OcTLyIU&sid=_3iR_jw-VYSPRybOAADy HTTP/1.1\" 200 -\n",
      "127.0.0.1 - - [28/Jul/2023 09:32:02] \"GET /socket.io/?EIO=4&transport=polling&t=OcTLsHL&sid=wgAY_77B4QFUHfFlAADz HTTP/1.1\" 200 -\n",
      "127.0.0.1 - - [28/Jul/2023 09:32:02] \"POST /socket.io/?EIO=4&transport=polling&t=OcTLyO8&sid=wgAY_77B4QFUHfFlAADz HTTP/1.1\" 200 -\n",
      "127.0.0.1 - - [28/Jul/2023 09:32:27] \"GET /socket.io/?EIO=4&transport=polling&t=OcTLyIV&sid=_3iR_jw-VYSPRybOAADy HTTP/1.1\" 200 -\n",
      "127.0.0.1 - - [28/Jul/2023 09:32:27] \"POST /socket.io/?EIO=4&transport=polling&t=OcTM2PN&sid=_3iR_jw-VYSPRybOAADy HTTP/1.1\" 200 -\n",
      "127.0.0.1 - - [28/Jul/2023 09:32:27] \"GET /socket.io/?EIO=4&transport=polling&t=OcTLyO9&sid=wgAY_77B4QFUHfFlAADz HTTP/1.1\" 200 -\n",
      "127.0.0.1 - - [28/Jul/2023 09:32:27] \"POST /socket.io/?EIO=4&transport=polling&t=OcTM2Uz&sid=wgAY_77B4QFUHfFlAADz HTTP/1.1\" 200 -\n",
      "127.0.0.1 - - [28/Jul/2023 09:32:52] \"GET /socket.io/?EIO=4&transport=polling&t=OcTM2PO&sid=_3iR_jw-VYSPRybOAADy HTTP/1.1\" 200 -\n",
      "127.0.0.1 - - [28/Jul/2023 09:32:52] \"POST /socket.io/?EIO=4&transport=polling&t=OcTM8WD&sid=_3iR_jw-VYSPRybOAADy HTTP/1.1\" 200 -\n",
      "127.0.0.1 - - [28/Jul/2023 09:32:52] \"GET /socket.io/?EIO=4&transport=polling&t=OcTM2U-&sid=wgAY_77B4QFUHfFlAADz HTTP/1.1\" 200 -\n",
      "127.0.0.1 - - [28/Jul/2023 09:32:52] \"POST /socket.io/?EIO=4&transport=polling&t=OcTM8bq&sid=wgAY_77B4QFUHfFlAADz HTTP/1.1\" 200 -\n",
      "127.0.0.1 - - [28/Jul/2023 09:33:17] \"GET /socket.io/?EIO=4&transport=polling&t=OcTM8WE&sid=_3iR_jw-VYSPRybOAADy HTTP/1.1\" 200 -\n",
      "127.0.0.1 - - [28/Jul/2023 09:33:17] \"POST /socket.io/?EIO=4&transport=polling&t=OcTMEd6&sid=_3iR_jw-VYSPRybOAADy HTTP/1.1\" 200 -\n",
      "127.0.0.1 - - [28/Jul/2023 09:33:17] \"GET /socket.io/?EIO=4&transport=polling&t=OcTM8br&sid=wgAY_77B4QFUHfFlAADz HTTP/1.1\" 200 -\n",
      "127.0.0.1 - - [28/Jul/2023 09:33:17] \"POST /socket.io/?EIO=4&transport=polling&t=OcTMEie&sid=wgAY_77B4QFUHfFlAADz HTTP/1.1\" 200 -\n",
      "127.0.0.1 - - [28/Jul/2023 09:33:42] \"GET /socket.io/?EIO=4&transport=polling&t=OcTMEd7&sid=_3iR_jw-VYSPRybOAADy HTTP/1.1\" 200 -\n",
      "127.0.0.1 - - [28/Jul/2023 09:33:42] \"POST /socket.io/?EIO=4&transport=polling&t=OcTMKkH&sid=_3iR_jw-VYSPRybOAADy HTTP/1.1\" 200 -\n",
      "127.0.0.1 - - [28/Jul/2023 09:33:42] \"GET /socket.io/?EIO=4&transport=polling&t=OcTMEif&sid=wgAY_77B4QFUHfFlAADz HTTP/1.1\" 200 -\n",
      "127.0.0.1 - - [28/Jul/2023 09:33:42] \"POST /socket.io/?EIO=4&transport=polling&t=OcTMKpX&sid=wgAY_77B4QFUHfFlAADz HTTP/1.1\" 200 -\n",
      "127.0.0.1 - - [28/Jul/2023 09:34:07] \"GET /socket.io/?EIO=4&transport=polling&t=OcTMKkI&sid=_3iR_jw-VYSPRybOAADy HTTP/1.1\" 200 -\n",
      "127.0.0.1 - - [28/Jul/2023 09:34:07] \"POST /socket.io/?EIO=4&transport=polling&t=OcTMQr9&sid=_3iR_jw-VYSPRybOAADy HTTP/1.1\" 200 -\n",
      "127.0.0.1 - - [28/Jul/2023 09:34:07] \"GET /socket.io/?EIO=4&transport=polling&t=OcTMKpY&sid=wgAY_77B4QFUHfFlAADz HTTP/1.1\" 200 -\n",
      "127.0.0.1 - - [28/Jul/2023 09:34:07] \"POST /socket.io/?EIO=4&transport=polling&t=OcTMQwQ&sid=wgAY_77B4QFUHfFlAADz HTTP/1.1\" 200 -\n",
      "127.0.0.1 - - [28/Jul/2023 09:34:32] \"GET /socket.io/?EIO=4&transport=polling&t=OcTMQrA&sid=_3iR_jw-VYSPRybOAADy HTTP/1.1\" 200 -\n",
      "127.0.0.1 - - [28/Jul/2023 09:34:32] \"POST /socket.io/?EIO=4&transport=polling&t=OcTMWy4&sid=_3iR_jw-VYSPRybOAADy HTTP/1.1\" 200 -\n",
      "127.0.0.1 - - [28/Jul/2023 09:34:32] \"GET /socket.io/?EIO=4&transport=polling&t=OcTMQwR&sid=wgAY_77B4QFUHfFlAADz HTTP/1.1\" 200 -\n",
      "127.0.0.1 - - [28/Jul/2023 09:34:32] \"POST /socket.io/?EIO=4&transport=polling&t=OcTMX1H&sid=wgAY_77B4QFUHfFlAADz HTTP/1.1\" 200 -\n",
      "127.0.0.1 - - [28/Jul/2023 09:34:57] \"GET /socket.io/?EIO=4&transport=polling&t=OcTMWy5&sid=_3iR_jw-VYSPRybOAADy HTTP/1.1\" 200 -\n",
      "127.0.0.1 - - [28/Jul/2023 09:34:57] \"POST /socket.io/?EIO=4&transport=polling&t=OcTMd2x&sid=_3iR_jw-VYSPRybOAADy HTTP/1.1\" 200 -\n",
      "127.0.0.1 - - [28/Jul/2023 09:34:57] \"GET /socket.io/?EIO=4&transport=polling&t=OcTMX1I&sid=wgAY_77B4QFUHfFlAADz HTTP/1.1\" 200 -\n",
      "127.0.0.1 - - [28/Jul/2023 09:34:57] \"POST /socket.io/?EIO=4&transport=polling&t=OcTMd8B&sid=wgAY_77B4QFUHfFlAADz HTTP/1.1\" 200 -\n",
      "127.0.0.1 - - [28/Jul/2023 09:35:22] \"GET /socket.io/?EIO=4&transport=polling&t=OcTMd2x.0&sid=_3iR_jw-VYSPRybOAADy HTTP/1.1\" 200 -\n",
      "127.0.0.1 - - [28/Jul/2023 09:35:22] \"POST /socket.io/?EIO=4&transport=polling&t=OcTMj9i&sid=_3iR_jw-VYSPRybOAADy HTTP/1.1\" 200 -\n",
      "127.0.0.1 - - [28/Jul/2023 09:35:22] \"GET /socket.io/?EIO=4&transport=polling&t=OcTMd8C&sid=wgAY_77B4QFUHfFlAADz HTTP/1.1\" 200 -\n",
      "127.0.0.1 - - [28/Jul/2023 09:35:22] \"POST /socket.io/?EIO=4&transport=polling&t=OcTMjF9&sid=wgAY_77B4QFUHfFlAADz HTTP/1.1\" 200 -\n",
      "127.0.0.1 - - [28/Jul/2023 09:35:47] \"GET /socket.io/?EIO=4&transport=polling&t=OcTMj9j&sid=_3iR_jw-VYSPRybOAADy HTTP/1.1\" 200 -\n",
      "127.0.0.1 - - [28/Jul/2023 09:35:47] \"POST /socket.io/?EIO=4&transport=polling&t=OcTMpGt&sid=_3iR_jw-VYSPRybOAADy HTTP/1.1\" 200 -\n",
      "127.0.0.1 - - [28/Jul/2023 09:35:47] \"GET /socket.io/?EIO=4&transport=polling&t=OcTMjFA&sid=wgAY_77B4QFUHfFlAADz HTTP/1.1\" 200 -\n",
      "127.0.0.1 - - [28/Jul/2023 09:35:47] \"POST /socket.io/?EIO=4&transport=polling&t=OcTMpM8&sid=wgAY_77B4QFUHfFlAADz HTTP/1.1\" 200 -\n",
      "127.0.0.1 - - [28/Jul/2023 09:36:12] \"GET /socket.io/?EIO=4&transport=polling&t=OcTMpGu&sid=_3iR_jw-VYSPRybOAADy HTTP/1.1\" 200 -\n",
      "127.0.0.1 - - [28/Jul/2023 09:36:12] \"POST /socket.io/?EIO=4&transport=polling&t=OcTMvNj&sid=_3iR_jw-VYSPRybOAADy HTTP/1.1\" 200 -\n",
      "127.0.0.1 - - [28/Jul/2023 09:36:12] \"GET /socket.io/?EIO=4&transport=polling&t=OcTMpM9&sid=wgAY_77B4QFUHfFlAADz HTTP/1.1\" 200 -\n",
      "127.0.0.1 - - [28/Jul/2023 09:36:12] \"POST /socket.io/?EIO=4&transport=polling&t=OcTMvT1&sid=wgAY_77B4QFUHfFlAADz HTTP/1.1\" 200 -\n",
      "127.0.0.1 - - [28/Jul/2023 09:36:37] \"GET /socket.io/?EIO=4&transport=polling&t=OcTMvNk&sid=_3iR_jw-VYSPRybOAADy HTTP/1.1\" 200 -\n",
      "127.0.0.1 - - [28/Jul/2023 09:36:37] \"POST /socket.io/?EIO=4&transport=polling&t=OcTM_Uc&sid=_3iR_jw-VYSPRybOAADy HTTP/1.1\" 200 -\n",
      "127.0.0.1 - - [28/Jul/2023 09:36:37] \"GET /socket.io/?EIO=4&transport=polling&t=OcTMvT2&sid=wgAY_77B4QFUHfFlAADz HTTP/1.1\" 200 -\n",
      "127.0.0.1 - - [28/Jul/2023 09:36:37] \"POST /socket.io/?EIO=4&transport=polling&t=OcTM_Zv&sid=wgAY_77B4QFUHfFlAADz HTTP/1.1\" 200 -\n",
      "127.0.0.1 - - [28/Jul/2023 09:37:02] \"GET /socket.io/?EIO=4&transport=polling&t=OcTM_Ud&sid=_3iR_jw-VYSPRybOAADy HTTP/1.1\" 200 -\n",
      "127.0.0.1 - - [28/Jul/2023 09:37:02] \"POST /socket.io/?EIO=4&transport=polling&t=OcTN5bV&sid=_3iR_jw-VYSPRybOAADy HTTP/1.1\" 200 -\n",
      "127.0.0.1 - - [28/Jul/2023 09:37:02] \"GET /socket.io/?EIO=4&transport=polling&t=OcTM_Zw&sid=wgAY_77B4QFUHfFlAADz HTTP/1.1\" 200 -\n",
      "127.0.0.1 - - [28/Jul/2023 09:37:02] \"POST /socket.io/?EIO=4&transport=polling&t=OcTN5gj&sid=wgAY_77B4QFUHfFlAADz HTTP/1.1\" 200 -\n",
      "127.0.0.1 - - [28/Jul/2023 09:37:27] \"GET /socket.io/?EIO=4&transport=polling&t=OcTN5bV.0&sid=_3iR_jw-VYSPRybOAADy HTTP/1.1\" 200 -\n",
      "127.0.0.1 - - [28/Jul/2023 09:37:27] \"POST /socket.io/?EIO=4&transport=polling&t=OcTNBiM&sid=_3iR_jw-VYSPRybOAADy HTTP/1.1\" 200 -\n",
      "127.0.0.1 - - [28/Jul/2023 09:37:27] \"GET /socket.io/?EIO=4&transport=polling&t=OcTN5gk&sid=wgAY_77B4QFUHfFlAADz HTTP/1.1\" 200 -\n",
      "127.0.0.1 - - [28/Jul/2023 09:37:27] \"POST /socket.io/?EIO=4&transport=polling&t=OcTNBna&sid=wgAY_77B4QFUHfFlAADz HTTP/1.1\" 200 -\n",
      "127.0.0.1 - - [28/Jul/2023 09:37:52] \"GET /socket.io/?EIO=4&transport=polling&t=OcTNBiN&sid=_3iR_jw-VYSPRybOAADy HTTP/1.1\" 200 -\n",
      "127.0.0.1 - - [28/Jul/2023 09:37:52] \"POST /socket.io/?EIO=4&transport=polling&t=OcTNHpP&sid=_3iR_jw-VYSPRybOAADy HTTP/1.1\" 200 -\n",
      "127.0.0.1 - - [28/Jul/2023 09:37:52] \"GET /socket.io/?EIO=4&transport=polling&t=OcTNBnb&sid=wgAY_77B4QFUHfFlAADz HTTP/1.1\" 200 -\n",
      "127.0.0.1 - - [28/Jul/2023 09:37:52] \"POST /socket.io/?EIO=4&transport=polling&t=OcTNHuT&sid=wgAY_77B4QFUHfFlAADz HTTP/1.1\" 200 -\n",
      "127.0.0.1 - - [28/Jul/2023 09:38:17] \"GET /socket.io/?EIO=4&transport=polling&t=OcTNHpQ&sid=_3iR_jw-VYSPRybOAADy HTTP/1.1\" 200 -\n",
      "127.0.0.1 - - [28/Jul/2023 09:38:17] \"POST /socket.io/?EIO=4&transport=polling&t=OcTNNwG&sid=_3iR_jw-VYSPRybOAADy HTTP/1.1\" 200 -\n",
      "127.0.0.1 - - [28/Jul/2023 09:38:17] \"GET /socket.io/?EIO=4&transport=polling&t=OcTNHuU&sid=wgAY_77B4QFUHfFlAADz HTTP/1.1\" 200 -\n",
      "127.0.0.1 - - [28/Jul/2023 09:38:17] \"POST /socket.io/?EIO=4&transport=polling&t=OcTNN_H&sid=wgAY_77B4QFUHfFlAADz HTTP/1.1\" 200 -\n",
      "127.0.0.1 - - [28/Jul/2023 09:38:42] \"GET /socket.io/?EIO=4&transport=polling&t=OcTNNwH&sid=_3iR_jw-VYSPRybOAADy HTTP/1.1\" 200 -\n",
      "127.0.0.1 - - [28/Jul/2023 09:38:42] \"POST /socket.io/?EIO=4&transport=polling&t=OcTNU19&sid=_3iR_jw-VYSPRybOAADy HTTP/1.1\" 200 -\n",
      "127.0.0.1 - - [28/Jul/2023 09:38:42] \"GET /socket.io/?EIO=4&transport=polling&t=OcTNN_I&sid=wgAY_77B4QFUHfFlAADz HTTP/1.1\" 200 -\n",
      "127.0.0.1 - - [28/Jul/2023 09:38:42] \"POST /socket.io/?EIO=4&transport=polling&t=OcTNU69&sid=wgAY_77B4QFUHfFlAADz HTTP/1.1\" 200 -\n",
      "127.0.0.1 - - [28/Jul/2023 09:39:07] \"GET /socket.io/?EIO=4&transport=polling&t=OcTNU1A&sid=_3iR_jw-VYSPRybOAADy HTTP/1.1\" 200 -\n",
      "127.0.0.1 - - [28/Jul/2023 09:39:07] \"POST /socket.io/?EIO=4&transport=polling&t=OcTNa7w&sid=_3iR_jw-VYSPRybOAADy HTTP/1.1\" 200 -\n",
      "127.0.0.1 - - [28/Jul/2023 09:39:07] \"GET /socket.io/?EIO=4&transport=polling&t=OcTNU6A&sid=wgAY_77B4QFUHfFlAADz HTTP/1.1\" 200 -\n",
      "127.0.0.1 - - [28/Jul/2023 09:39:07] \"POST /socket.io/?EIO=4&transport=polling&t=OcTNaD3&sid=wgAY_77B4QFUHfFlAADz HTTP/1.1\" 200 -\n",
      "127.0.0.1 - - [28/Jul/2023 09:39:32] \"GET /socket.io/?EIO=4&transport=polling&t=OcTNa7x&sid=_3iR_jw-VYSPRybOAADy HTTP/1.1\" 200 -\n",
      "127.0.0.1 - - [28/Jul/2023 09:39:32] \"POST /socket.io/?EIO=4&transport=polling&t=OcTNgEo&sid=_3iR_jw-VYSPRybOAADy HTTP/1.1\" 200 -\n",
      "127.0.0.1 - - [28/Jul/2023 09:39:32] \"GET /socket.io/?EIO=4&transport=polling&t=OcTNaD4&sid=wgAY_77B4QFUHfFlAADz HTTP/1.1\" 200 -\n",
      "127.0.0.1 - - [28/Jul/2023 09:39:32] \"POST /socket.io/?EIO=4&transport=polling&t=OcTNgJv&sid=wgAY_77B4QFUHfFlAADz HTTP/1.1\" 200 -\n",
      "127.0.0.1 - - [28/Jul/2023 09:39:57] \"GET /socket.io/?EIO=4&transport=polling&t=OcTNgEq&sid=_3iR_jw-VYSPRybOAADy HTTP/1.1\" 200 -\n",
      "127.0.0.1 - - [28/Jul/2023 09:39:57] \"POST /socket.io/?EIO=4&transport=polling&t=OcTNmLj&sid=_3iR_jw-VYSPRybOAADy HTTP/1.1\" 200 -\n",
      "127.0.0.1 - - [28/Jul/2023 09:39:57] \"GET /socket.io/?EIO=4&transport=polling&t=OcTNgJw&sid=wgAY_77B4QFUHfFlAADz HTTP/1.1\" 200 -\n",
      "127.0.0.1 - - [28/Jul/2023 09:39:57] \"POST /socket.io/?EIO=4&transport=polling&t=OcTNmQs&sid=wgAY_77B4QFUHfFlAADz HTTP/1.1\" 200 -\n",
      "127.0.0.1 - - [28/Jul/2023 09:40:22] \"GET /socket.io/?EIO=4&transport=polling&t=OcTNmLj.0&sid=_3iR_jw-VYSPRybOAADy HTTP/1.1\" 200 -\n",
      "127.0.0.1 - - [28/Jul/2023 09:40:22] \"POST /socket.io/?EIO=4&transport=polling&t=OcTNsSd&sid=_3iR_jw-VYSPRybOAADy HTTP/1.1\" 200 -\n",
      "127.0.0.1 - - [28/Jul/2023 09:40:22] \"GET /socket.io/?EIO=4&transport=polling&t=OcTNmQt&sid=wgAY_77B4QFUHfFlAADz HTTP/1.1\" 200 -\n",
      "127.0.0.1 - - [28/Jul/2023 09:40:22] \"POST /socket.io/?EIO=4&transport=polling&t=OcTNsXm&sid=wgAY_77B4QFUHfFlAADz HTTP/1.1\" 200 -\n",
      "127.0.0.1 - - [28/Jul/2023 09:40:47] \"GET /socket.io/?EIO=4&transport=polling&t=OcTNsSf&sid=_3iR_jw-VYSPRybOAADy HTTP/1.1\" 200 -\n",
      "127.0.0.1 - - [28/Jul/2023 09:40:47] \"POST /socket.io/?EIO=4&transport=polling&t=OcTNyZT&sid=_3iR_jw-VYSPRybOAADy HTTP/1.1\" 200 -\n",
      "127.0.0.1 - - [28/Jul/2023 09:40:47] \"GET /socket.io/?EIO=4&transport=polling&t=OcTNsXn&sid=wgAY_77B4QFUHfFlAADz HTTP/1.1\" 200 -\n",
      "127.0.0.1 - - [28/Jul/2023 09:40:47] \"POST /socket.io/?EIO=4&transport=polling&t=OcTNyeb&sid=wgAY_77B4QFUHfFlAADz HTTP/1.1\" 200 -\n",
      "127.0.0.1 - - [28/Jul/2023 09:41:12] \"GET /socket.io/?EIO=4&transport=polling&t=OcTNyZU&sid=_3iR_jw-VYSPRybOAADy HTTP/1.1\" 200 -\n",
      "127.0.0.1 - - [28/Jul/2023 09:41:12] \"POST /socket.io/?EIO=4&transport=polling&t=OcTO2gL&sid=_3iR_jw-VYSPRybOAADy HTTP/1.1\" 200 -\n",
      "127.0.0.1 - - [28/Jul/2023 09:41:12] \"GET /socket.io/?EIO=4&transport=polling&t=OcTNyec&sid=wgAY_77B4QFUHfFlAADz HTTP/1.1\" 200 -\n",
      "127.0.0.1 - - [28/Jul/2023 09:41:12] \"POST /socket.io/?EIO=4&transport=polling&t=OcTO2lN&sid=wgAY_77B4QFUHfFlAADz HTTP/1.1\" 200 -\n",
      "127.0.0.1 - - [28/Jul/2023 09:41:37] \"GET /socket.io/?EIO=4&transport=polling&t=OcTO2gM&sid=_3iR_jw-VYSPRybOAADy HTTP/1.1\" 200 -\n",
      "127.0.0.1 - - [28/Jul/2023 09:41:37] \"POST /socket.io/?EIO=4&transport=polling&t=OcTO8nA&sid=_3iR_jw-VYSPRybOAADy HTTP/1.1\" 200 -\n",
      "127.0.0.1 - - [28/Jul/2023 09:41:37] \"GET /socket.io/?EIO=4&transport=polling&t=OcTO2lO&sid=wgAY_77B4QFUHfFlAADz HTTP/1.1\" 200 -\n",
      "127.0.0.1 - - [28/Jul/2023 09:41:37] \"POST /socket.io/?EIO=4&transport=polling&t=OcTO8sE&sid=wgAY_77B4QFUHfFlAADz HTTP/1.1\" 200 -\n",
      "127.0.0.1 - - [28/Jul/2023 09:42:02] \"GET /socket.io/?EIO=4&transport=polling&t=OcTO8nB&sid=_3iR_jw-VYSPRybOAADy HTTP/1.1\" 200 -\n",
      "127.0.0.1 - - [28/Jul/2023 09:42:02] \"POST /socket.io/?EIO=4&transport=polling&t=OcTOEuE&sid=_3iR_jw-VYSPRybOAADy HTTP/1.1\" 200 -\n",
      "127.0.0.1 - - [28/Jul/2023 09:42:02] \"GET /socket.io/?EIO=4&transport=polling&t=OcTO8sF&sid=wgAY_77B4QFUHfFlAADz HTTP/1.1\" 200 -\n",
      "127.0.0.1 - - [28/Jul/2023 09:42:02] \"POST /socket.io/?EIO=4&transport=polling&t=OcTOEz8&sid=wgAY_77B4QFUHfFlAADz HTTP/1.1\" 200 -\n",
      "127.0.0.1 - - [28/Jul/2023 09:42:27] \"GET /socket.io/?EIO=4&transport=polling&t=OcTOEuF&sid=_3iR_jw-VYSPRybOAADy HTTP/1.1\" 200 -\n",
      "127.0.0.1 - - [28/Jul/2023 09:42:27] \"POST /socket.io/?EIO=4&transport=polling&t=OcTOK_7&sid=_3iR_jw-VYSPRybOAADy HTTP/1.1\" 200 -\n",
      "127.0.0.1 - - [28/Jul/2023 09:42:27] \"GET /socket.io/?EIO=4&transport=polling&t=OcTOEz8.0&sid=wgAY_77B4QFUHfFlAADz HTTP/1.1\" 200 -\n",
      "127.0.0.1 - - [28/Jul/2023 09:42:27] \"POST /socket.io/?EIO=4&transport=polling&t=OcTOL43&sid=wgAY_77B4QFUHfFlAADz HTTP/1.1\" 200 -\n",
      "127.0.0.1 - - [28/Jul/2023 09:42:52] \"GET /socket.io/?EIO=4&transport=polling&t=OcTOK_9&sid=_3iR_jw-VYSPRybOAADy HTTP/1.1\" 200 -\n",
      "127.0.0.1 - - [28/Jul/2023 09:42:52] \"POST /socket.io/?EIO=4&transport=polling&t=OcTOR5x&sid=_3iR_jw-VYSPRybOAADy HTTP/1.1\" 200 -\n",
      "127.0.0.1 - - [28/Jul/2023 09:42:52] \"GET /socket.io/?EIO=4&transport=polling&t=OcTOL44&sid=wgAY_77B4QFUHfFlAADz HTTP/1.1\" 200 -\n",
      "127.0.0.1 - - [28/Jul/2023 09:42:52] \"POST /socket.io/?EIO=4&transport=polling&t=OcTORAy&sid=wgAY_77B4QFUHfFlAADz HTTP/1.1\" 200 -\n",
      "127.0.0.1 - - [28/Jul/2023 09:43:17] \"GET /socket.io/?EIO=4&transport=polling&t=OcTOR5y&sid=_3iR_jw-VYSPRybOAADy HTTP/1.1\" 200 -\n",
      "127.0.0.1 - - [28/Jul/2023 09:43:17] \"POST /socket.io/?EIO=4&transport=polling&t=OcTOXCv&sid=_3iR_jw-VYSPRybOAADy HTTP/1.1\" 200 -\n",
      "127.0.0.1 - - [28/Jul/2023 09:43:18] \"GET /socket.io/?EIO=4&transport=polling&t=OcTORAz&sid=wgAY_77B4QFUHfFlAADz HTTP/1.1\" 200 -\n",
      "127.0.0.1 - - [28/Jul/2023 09:43:18] \"POST /socket.io/?EIO=4&transport=polling&t=OcTOXHr&sid=wgAY_77B4QFUHfFlAADz HTTP/1.1\" 200 -\n",
      "127.0.0.1 - - [28/Jul/2023 09:43:42] \"GET /socket.io/?EIO=4&transport=polling&t=OcTOXCv.0&sid=_3iR_jw-VYSPRybOAADy HTTP/1.1\" 200 -\n",
      "127.0.0.1 - - [28/Jul/2023 09:43:42] \"POST /socket.io/?EIO=4&transport=polling&t=OcTOdJn&sid=_3iR_jw-VYSPRybOAADy HTTP/1.1\" 200 -\n",
      "127.0.0.1 - - [28/Jul/2023 09:43:43] \"GET /socket.io/?EIO=4&transport=polling&t=OcTOXHr.0&sid=wgAY_77B4QFUHfFlAADz HTTP/1.1\" 200 -\n",
      "127.0.0.1 - - [28/Jul/2023 09:43:43] \"POST /socket.io/?EIO=4&transport=polling&t=OcTOdOi&sid=wgAY_77B4QFUHfFlAADz HTTP/1.1\" 200 -\n",
      "127.0.0.1 - - [28/Jul/2023 09:44:07] \"GET /socket.io/?EIO=4&transport=polling&t=OcTOdJo&sid=_3iR_jw-VYSPRybOAADy HTTP/1.1\" 200 -\n",
      "127.0.0.1 - - [28/Jul/2023 09:44:07] \"POST /socket.io/?EIO=4&transport=polling&t=OcTOjQq&sid=_3iR_jw-VYSPRybOAADy HTTP/1.1\" 200 -\n",
      "127.0.0.1 - - [28/Jul/2023 09:44:08] \"GET /socket.io/?EIO=4&transport=polling&t=OcTOdOj&sid=wgAY_77B4QFUHfFlAADz HTTP/1.1\" 200 -\n",
      "127.0.0.1 - - [28/Jul/2023 09:44:08] \"POST /socket.io/?EIO=4&transport=polling&t=OcTOjVb&sid=wgAY_77B4QFUHfFlAADz HTTP/1.1\" 200 -\n",
      "127.0.0.1 - - [28/Jul/2023 09:44:32] \"GET /socket.io/?EIO=4&transport=polling&t=OcTOjQr&sid=_3iR_jw-VYSPRybOAADy HTTP/1.1\" 200 -\n",
      "127.0.0.1 - - [28/Jul/2023 09:44:32] \"POST /socket.io/?EIO=4&transport=polling&t=OcTOpXh&sid=_3iR_jw-VYSPRybOAADy HTTP/1.1\" 200 -\n",
      "127.0.0.1 - - [28/Jul/2023 09:44:33] \"GET /socket.io/?EIO=4&transport=polling&t=OcTOjVd&sid=wgAY_77B4QFUHfFlAADz HTTP/1.1\" 200 -\n",
      "127.0.0.1 - - [28/Jul/2023 09:44:33] \"POST /socket.io/?EIO=4&transport=polling&t=OcTOpcY&sid=wgAY_77B4QFUHfFlAADz HTTP/1.1\" 200 -\n",
      "127.0.0.1 - - [28/Jul/2023 09:44:57] \"GET /socket.io/?EIO=4&transport=polling&t=OcTOpXi&sid=_3iR_jw-VYSPRybOAADy HTTP/1.1\" 200 -\n",
      "127.0.0.1 - - [28/Jul/2023 09:44:57] \"POST /socket.io/?EIO=4&transport=polling&t=OcTOveZ&sid=_3iR_jw-VYSPRybOAADy HTTP/1.1\" 200 -\n",
      "127.0.0.1 - - [28/Jul/2023 09:44:58] \"GET /socket.io/?EIO=4&transport=polling&t=OcTOpcZ&sid=wgAY_77B4QFUHfFlAADz HTTP/1.1\" 200 -\n",
      "127.0.0.1 - - [28/Jul/2023 09:44:58] \"POST /socket.io/?EIO=4&transport=polling&t=OcTOvjQ&sid=wgAY_77B4QFUHfFlAADz HTTP/1.1\" 200 -\n",
      "127.0.0.1 - - [28/Jul/2023 09:45:22] \"GET /socket.io/?EIO=4&transport=polling&t=OcTOvea&sid=_3iR_jw-VYSPRybOAADy HTTP/1.1\" 200 -\n",
      "127.0.0.1 - - [28/Jul/2023 09:45:22] \"POST /socket.io/?EIO=4&transport=polling&t=OcTO_lV&sid=_3iR_jw-VYSPRybOAADy HTTP/1.1\" 200 -\n",
      "127.0.0.1 - - [28/Jul/2023 09:45:23] \"GET /socket.io/?EIO=4&transport=polling&t=OcTOvjQ.0&sid=wgAY_77B4QFUHfFlAADz HTTP/1.1\" 200 -\n",
      "127.0.0.1 - - [28/Jul/2023 09:45:23] \"POST /socket.io/?EIO=4&transport=polling&t=OcTO_qD&sid=wgAY_77B4QFUHfFlAADz HTTP/1.1\" 200 -\n",
      "127.0.0.1 - - [28/Jul/2023 09:45:47] \"GET /socket.io/?EIO=4&transport=polling&t=OcTO_lW&sid=_3iR_jw-VYSPRybOAADy HTTP/1.1\" 200 -\n",
      "127.0.0.1 - - [28/Jul/2023 09:45:47] \"POST /socket.io/?EIO=4&transport=polling&t=OcTP5sW&sid=_3iR_jw-VYSPRybOAADy HTTP/1.1\" 200 -\n",
      "127.0.0.1 - - [28/Jul/2023 09:45:48] \"GET /socket.io/?EIO=4&transport=polling&t=OcTO_qE&sid=wgAY_77B4QFUHfFlAADz HTTP/1.1\" 200 -\n",
      "127.0.0.1 - - [28/Jul/2023 09:45:48] \"POST /socket.io/?EIO=4&transport=polling&t=OcTP5x2&sid=wgAY_77B4QFUHfFlAADz HTTP/1.1\" 200 -\n",
      "127.0.0.1 - - [28/Jul/2023 09:46:12] \"GET /socket.io/?EIO=4&transport=polling&t=OcTP5sX&sid=_3iR_jw-VYSPRybOAADy HTTP/1.1\" 200 -\n",
      "127.0.0.1 - - [28/Jul/2023 09:46:12] \"POST /socket.io/?EIO=4&transport=polling&t=OcTPBzL&sid=_3iR_jw-VYSPRybOAADy HTTP/1.1\" 200 -\n",
      "127.0.0.1 - - [28/Jul/2023 09:46:13] \"GET /socket.io/?EIO=4&transport=polling&t=OcTP5x3&sid=wgAY_77B4QFUHfFlAADz HTTP/1.1\" 200 -\n",
      "127.0.0.1 - - [28/Jul/2023 09:46:13] \"POST /socket.io/?EIO=4&transport=polling&t=OcTPC1p&sid=wgAY_77B4QFUHfFlAADz HTTP/1.1\" 200 -\n",
      "127.0.0.1 - - [28/Jul/2023 09:46:37] \"GET /socket.io/?EIO=4&transport=polling&t=OcTPBzM&sid=_3iR_jw-VYSPRybOAADy HTTP/1.1\" 200 -\n",
      "127.0.0.1 - - [28/Jul/2023 09:46:37] \"POST /socket.io/?EIO=4&transport=polling&t=OcTPI49&sid=_3iR_jw-VYSPRybOAADy HTTP/1.1\" 200 -\n",
      "127.0.0.1 - - [28/Jul/2023 09:46:38] \"GET /socket.io/?EIO=4&transport=polling&t=OcTPC1q&sid=wgAY_77B4QFUHfFlAADz HTTP/1.1\" 200 -\n",
      "127.0.0.1 - - [28/Jul/2023 09:46:38] \"POST /socket.io/?EIO=4&transport=polling&t=OcTPI8a&sid=wgAY_77B4QFUHfFlAADz HTTP/1.1\" 200 -\n",
      "127.0.0.1 - - [28/Jul/2023 09:47:02] \"GET /socket.io/?EIO=4&transport=polling&t=OcTPI4A&sid=_3iR_jw-VYSPRybOAADy HTTP/1.1\" 200 -\n",
      "127.0.0.1 - - [28/Jul/2023 09:47:02] \"POST /socket.io/?EIO=4&transport=polling&t=OcTPOAz&sid=_3iR_jw-VYSPRybOAADy HTTP/1.1\" 200 -\n",
      "127.0.0.1 - - [28/Jul/2023 09:47:03] \"GET /socket.io/?EIO=4&transport=polling&t=OcTPI8a.0&sid=wgAY_77B4QFUHfFlAADz HTTP/1.1\" 200 -\n",
      "127.0.0.1 - - [28/Jul/2023 09:47:03] \"POST /socket.io/?EIO=4&transport=polling&t=OcTPOFN&sid=wgAY_77B4QFUHfFlAADz HTTP/1.1\" 200 -\n",
      "127.0.0.1 - - [28/Jul/2023 09:47:27] \"GET /socket.io/?EIO=4&transport=polling&t=OcTPOA-&sid=_3iR_jw-VYSPRybOAADy HTTP/1.1\" 200 -\n",
      "127.0.0.1 - - [28/Jul/2023 09:47:27] \"POST /socket.io/?EIO=4&transport=polling&t=OcTPUHn&sid=_3iR_jw-VYSPRybOAADy HTTP/1.1\" 200 -\n",
      "127.0.0.1 - - [28/Jul/2023 09:47:28] \"GET /socket.io/?EIO=4&transport=polling&t=OcTPOFO&sid=wgAY_77B4QFUHfFlAADz HTTP/1.1\" 200 -\n",
      "127.0.0.1 - - [28/Jul/2023 09:47:28] \"POST /socket.io/?EIO=4&transport=polling&t=OcTPUMA&sid=wgAY_77B4QFUHfFlAADz HTTP/1.1\" 200 -\n",
      "127.0.0.1 - - [28/Jul/2023 09:47:52] \"GET /socket.io/?EIO=4&transport=polling&t=OcTPUHo&sid=_3iR_jw-VYSPRybOAADy HTTP/1.1\" 200 -\n",
      "127.0.0.1 - - [28/Jul/2023 09:47:52] \"POST /socket.io/?EIO=4&transport=polling&t=OcTPaOh&sid=_3iR_jw-VYSPRybOAADy HTTP/1.1\" 200 -\n",
      "127.0.0.1 - - [28/Jul/2023 09:47:53] \"GET /socket.io/?EIO=4&transport=polling&t=OcTPUMB&sid=wgAY_77B4QFUHfFlAADz HTTP/1.1\" 200 -\n",
      "127.0.0.1 - - [28/Jul/2023 09:47:53] \"POST /socket.io/?EIO=4&transport=polling&t=OcTPaSz&sid=wgAY_77B4QFUHfFlAADz HTTP/1.1\" 200 -\n",
      "127.0.0.1 - - [28/Jul/2023 09:48:17] \"GET /socket.io/?EIO=4&transport=polling&t=OcTPaOi&sid=_3iR_jw-VYSPRybOAADy HTTP/1.1\" 200 -\n",
      "127.0.0.1 - - [28/Jul/2023 09:48:17] \"POST /socket.io/?EIO=4&transport=polling&t=OcTPgVU&sid=_3iR_jw-VYSPRybOAADy HTTP/1.1\" 200 -\n",
      "127.0.0.1 - - [28/Jul/2023 09:48:18] \"GET /socket.io/?EIO=4&transport=polling&t=OcTPaSz.0&sid=wgAY_77B4QFUHfFlAADz HTTP/1.1\" 200 -\n",
      "127.0.0.1 - - [28/Jul/2023 09:48:18] \"POST /socket.io/?EIO=4&transport=polling&t=OcTPgZi&sid=wgAY_77B4QFUHfFlAADz HTTP/1.1\" 200 -\n",
      "127.0.0.1 - - [28/Jul/2023 09:48:42] \"GET /socket.io/?EIO=4&transport=polling&t=OcTPgVV&sid=_3iR_jw-VYSPRybOAADy HTTP/1.1\" 200 -\n",
      "127.0.0.1 - - [28/Jul/2023 09:48:42] \"POST /socket.io/?EIO=4&transport=polling&t=OcTPmcH&sid=_3iR_jw-VYSPRybOAADy HTTP/1.1\" 200 -\n",
      "127.0.0.1 - - [28/Jul/2023 09:48:43] \"GET /socket.io/?EIO=4&transport=polling&t=OcTPgZj&sid=wgAY_77B4QFUHfFlAADz HTTP/1.1\" 200 -\n",
      "127.0.0.1 - - [28/Jul/2023 09:48:43] \"POST /socket.io/?EIO=4&transport=polling&t=OcTPmgU&sid=wgAY_77B4QFUHfFlAADz HTTP/1.1\" 200 -\n",
      "127.0.0.1 - - [28/Jul/2023 09:49:07] \"GET /socket.io/?EIO=4&transport=polling&t=OcTPmcI&sid=_3iR_jw-VYSPRybOAADy HTTP/1.1\" 200 -\n",
      "127.0.0.1 - - [28/Jul/2023 09:49:07] \"POST /socket.io/?EIO=4&transport=polling&t=OcTPsj2&sid=_3iR_jw-VYSPRybOAADy HTTP/1.1\" 200 -\n",
      "127.0.0.1 - - [28/Jul/2023 09:49:08] \"GET /socket.io/?EIO=4&transport=polling&t=OcTPmgU.0&sid=wgAY_77B4QFUHfFlAADz HTTP/1.1\" 200 -\n",
      "127.0.0.1 - - [28/Jul/2023 09:49:08] \"POST /socket.io/?EIO=4&transport=polling&t=OcTPsnF&sid=wgAY_77B4QFUHfFlAADz HTTP/1.1\" 200 -\n",
      "127.0.0.1 - - [28/Jul/2023 09:49:32] \"GET /socket.io/?EIO=4&transport=polling&t=OcTPsj3&sid=_3iR_jw-VYSPRybOAADy HTTP/1.1\" 200 -\n",
      "127.0.0.1 - - [28/Jul/2023 09:49:32] \"POST /socket.io/?EIO=4&transport=polling&t=OcTPypt&sid=_3iR_jw-VYSPRybOAADy HTTP/1.1\" 200 -\n",
      "127.0.0.1 - - [28/Jul/2023 09:49:33] \"GET /socket.io/?EIO=4&transport=polling&t=OcTPsnG&sid=wgAY_77B4QFUHfFlAADz HTTP/1.1\" 200 -\n",
      "127.0.0.1 - - [28/Jul/2023 09:49:33] \"POST /socket.io/?EIO=4&transport=polling&t=OcTPyu5&sid=wgAY_77B4QFUHfFlAADz HTTP/1.1\" 200 -\n",
      "127.0.0.1 - - [28/Jul/2023 09:49:57] \"GET /socket.io/?EIO=4&transport=polling&t=OcTPypu&sid=_3iR_jw-VYSPRybOAADy HTTP/1.1\" 200 -\n",
      "127.0.0.1 - - [28/Jul/2023 09:49:57] \"POST /socket.io/?EIO=4&transport=polling&t=OcTQ2wz&sid=_3iR_jw-VYSPRybOAADy HTTP/1.1\" 200 -\n",
      "127.0.0.1 - - [28/Jul/2023 09:49:58] \"GET /socket.io/?EIO=4&transport=polling&t=OcTPyu6&sid=wgAY_77B4QFUHfFlAADz HTTP/1.1\" 200 -\n",
      "127.0.0.1 - - [28/Jul/2023 09:49:58] \"POST /socket.io/?EIO=4&transport=polling&t=OcTQ2--&sid=wgAY_77B4QFUHfFlAADz HTTP/1.1\" 200 -\n",
      "127.0.0.1 - - [28/Jul/2023 09:50:22] \"GET /socket.io/?EIO=4&transport=polling&t=OcTQ2wz.0&sid=_3iR_jw-VYSPRybOAADy HTTP/1.1\" 200 -\n",
      "127.0.0.1 - - [28/Jul/2023 09:50:22] \"POST /socket.io/?EIO=4&transport=polling&t=OcTQ91m&sid=_3iR_jw-VYSPRybOAADy HTTP/1.1\" 200 -\n",
      "127.0.0.1 - - [28/Jul/2023 09:50:23] \"GET /socket.io/?EIO=4&transport=polling&t=OcTQ2-_&sid=wgAY_77B4QFUHfFlAADz HTTP/1.1\" 200 -\n",
      "127.0.0.1 - - [28/Jul/2023 09:50:23] \"POST /socket.io/?EIO=4&transport=polling&t=OcTQ95l&sid=wgAY_77B4QFUHfFlAADz HTTP/1.1\" 200 -\n",
      "127.0.0.1 - - [28/Jul/2023 09:50:47] \"GET /socket.io/?EIO=4&transport=polling&t=OcTQ91n&sid=_3iR_jw-VYSPRybOAADy HTTP/1.1\" 200 -\n",
      "127.0.0.1 - - [28/Jul/2023 09:50:47] \"POST /socket.io/?EIO=4&transport=polling&t=OcTQF8c&sid=_3iR_jw-VYSPRybOAADy HTTP/1.1\" 200 -\n",
      "127.0.0.1 - - [28/Jul/2023 09:50:48] \"GET /socket.io/?EIO=4&transport=polling&t=OcTQ95m&sid=wgAY_77B4QFUHfFlAADz HTTP/1.1\" 200 -\n",
      "127.0.0.1 - - [28/Jul/2023 09:50:48] \"POST /socket.io/?EIO=4&transport=polling&t=OcTQFCa&sid=wgAY_77B4QFUHfFlAADz HTTP/1.1\" 200 -\n",
      "127.0.0.1 - - [28/Jul/2023 09:51:12] \"GET /socket.io/?EIO=4&transport=polling&t=OcTQF8d&sid=_3iR_jw-VYSPRybOAADy HTTP/1.1\" 200 -\n",
      "127.0.0.1 - - [28/Jul/2023 09:51:12] \"POST /socket.io/?EIO=4&transport=polling&t=OcTQLFW&sid=_3iR_jw-VYSPRybOAADy HTTP/1.1\" 200 -\n",
      "127.0.0.1 - - [28/Jul/2023 09:51:13] \"GET /socket.io/?EIO=4&transport=polling&t=OcTQFCa.0&sid=wgAY_77B4QFUHfFlAADz HTTP/1.1\" 200 -\n",
      "127.0.0.1 - - [28/Jul/2023 09:51:13] \"POST /socket.io/?EIO=4&transport=polling&t=OcTQLJS&sid=wgAY_77B4QFUHfFlAADz HTTP/1.1\" 200 -\n",
      "127.0.0.1 - - [28/Jul/2023 09:51:38] \"GET /socket.io/?EIO=4&transport=polling&t=OcTQLFX&sid=_3iR_jw-VYSPRybOAADy HTTP/1.1\" 200 -\n",
      "127.0.0.1 - - [28/Jul/2023 09:51:38] \"POST /socket.io/?EIO=4&transport=polling&t=OcTQRMN&sid=_3iR_jw-VYSPRybOAADy HTTP/1.1\" 200 -\n",
      "127.0.0.1 - - [28/Jul/2023 09:51:38] \"GET /socket.io/?EIO=4&transport=polling&t=OcTQLJT&sid=wgAY_77B4QFUHfFlAADz HTTP/1.1\" 200 -\n",
      "127.0.0.1 - - [28/Jul/2023 09:51:38] \"POST /socket.io/?EIO=4&transport=polling&t=OcTQRQH&sid=wgAY_77B4QFUHfFlAADz HTTP/1.1\" 200 -\n",
      "127.0.0.1 - - [28/Jul/2023 09:52:03] \"GET /socket.io/?EIO=4&transport=polling&t=OcTQRMV&sid=_3iR_jw-VYSPRybOAADy HTTP/1.1\" 200 -\n",
      "127.0.0.1 - - [28/Jul/2023 09:52:03] \"POST /socket.io/?EIO=4&transport=polling&t=OcTQXTU&sid=_3iR_jw-VYSPRybOAADy HTTP/1.1\" 200 -\n",
      "127.0.0.1 - - [28/Jul/2023 09:52:03] \"GET /socket.io/?EIO=4&transport=polling&t=OcTQRQJ&sid=wgAY_77B4QFUHfFlAADz HTTP/1.1\" 200 -\n",
      "127.0.0.1 - - [28/Jul/2023 09:52:03] \"POST /socket.io/?EIO=4&transport=polling&t=OcTQXXB&sid=wgAY_77B4QFUHfFlAADz HTTP/1.1\" 200 -\n",
      "127.0.0.1 - - [28/Jul/2023 09:52:28] \"GET /socket.io/?EIO=4&transport=polling&t=OcTQXTc&sid=_3iR_jw-VYSPRybOAADy HTTP/1.1\" 200 -\n",
      "127.0.0.1 - - [28/Jul/2023 09:52:28] \"POST /socket.io/?EIO=4&transport=polling&t=OcTQdaW&sid=_3iR_jw-VYSPRybOAADy HTTP/1.1\" 200 -\n",
      "127.0.0.1 - - [28/Jul/2023 09:52:28] \"GET /socket.io/?EIO=4&transport=polling&t=OcTQXXC&sid=wgAY_77B4QFUHfFlAADz HTTP/1.1\" 200 -\n",
      "127.0.0.1 - - [28/Jul/2023 09:52:28] \"POST /socket.io/?EIO=4&transport=polling&t=OcTQddx&sid=wgAY_77B4QFUHfFlAADz HTTP/1.1\" 200 -\n",
      "127.0.0.1 - - [28/Jul/2023 09:52:53] \"GET /socket.io/?EIO=4&transport=polling&t=OcTQdaX&sid=_3iR_jw-VYSPRybOAADy HTTP/1.1\" 200 -\n",
      "127.0.0.1 - - [28/Jul/2023 09:52:53] \"POST /socket.io/?EIO=4&transport=polling&t=OcTQjhN&sid=_3iR_jw-VYSPRybOAADy HTTP/1.1\" 200 -\n",
      "127.0.0.1 - - [28/Jul/2023 09:52:53] \"GET /socket.io/?EIO=4&transport=polling&t=OcTQddy&sid=wgAY_77B4QFUHfFlAADz HTTP/1.1\" 200 -\n",
      "127.0.0.1 - - [28/Jul/2023 09:52:53] \"POST /socket.io/?EIO=4&transport=polling&t=OcTQjko&sid=wgAY_77B4QFUHfFlAADz HTTP/1.1\" 200 -\n",
      "127.0.0.1 - - [28/Jul/2023 09:53:18] \"GET /socket.io/?EIO=4&transport=polling&t=OcTQjhO&sid=_3iR_jw-VYSPRybOAADy HTTP/1.1\" 200 -\n",
      "127.0.0.1 - - [28/Jul/2023 09:53:18] \"POST /socket.io/?EIO=4&transport=polling&t=OcTQpoI&sid=_3iR_jw-VYSPRybOAADy HTTP/1.1\" 200 -\n",
      "127.0.0.1 - - [28/Jul/2023 09:53:18] \"GET /socket.io/?EIO=4&transport=polling&t=OcTQjkp&sid=wgAY_77B4QFUHfFlAADz HTTP/1.1\" 200 -\n",
      "127.0.0.1 - - [28/Jul/2023 09:53:18] \"POST /socket.io/?EIO=4&transport=polling&t=OcTQprg&sid=wgAY_77B4QFUHfFlAADz HTTP/1.1\" 200 -\n",
      "127.0.0.1 - - [28/Jul/2023 09:53:43] \"GET /socket.io/?EIO=4&transport=polling&t=OcTQpoJ&sid=_3iR_jw-VYSPRybOAADy HTTP/1.1\" 200 -\n",
      "127.0.0.1 - - [28/Jul/2023 09:53:43] \"POST /socket.io/?EIO=4&transport=polling&t=OcTQvvA&sid=_3iR_jw-VYSPRybOAADy HTTP/1.1\" 200 -\n",
      "127.0.0.1 - - [28/Jul/2023 09:53:43] \"GET /socket.io/?EIO=4&transport=polling&t=OcTQprh&sid=wgAY_77B4QFUHfFlAADz HTTP/1.1\" 200 -\n",
      "127.0.0.1 - - [28/Jul/2023 09:53:43] \"POST /socket.io/?EIO=4&transport=polling&t=OcTQvyc&sid=wgAY_77B4QFUHfFlAADz HTTP/1.1\" 200 -\n",
      "127.0.0.1 - - [28/Jul/2023 09:54:08] \"GET /socket.io/?EIO=4&transport=polling&t=OcTQvvB&sid=_3iR_jw-VYSPRybOAADy HTTP/1.1\" 200 -\n",
      "127.0.0.1 - - [28/Jul/2023 09:54:08] \"POST /socket.io/?EIO=4&transport=polling&t=OcTR00B&sid=_3iR_jw-VYSPRybOAADy HTTP/1.1\" 200 -\n",
      "127.0.0.1 - - [28/Jul/2023 09:54:08] \"GET /socket.io/?EIO=4&transport=polling&t=OcTQvyd&sid=wgAY_77B4QFUHfFlAADz HTTP/1.1\" 200 -\n",
      "127.0.0.1 - - [28/Jul/2023 09:54:08] \"POST /socket.io/?EIO=4&transport=polling&t=OcTR03S&sid=wgAY_77B4QFUHfFlAADz HTTP/1.1\" 200 -\n",
      "127.0.0.1 - - [28/Jul/2023 09:54:33] \"GET /socket.io/?EIO=4&transport=polling&t=OcTR00C&sid=_3iR_jw-VYSPRybOAADy HTTP/1.1\" 200 -\n",
      "127.0.0.1 - - [28/Jul/2023 09:54:33] \"POST /socket.io/?EIO=4&transport=polling&t=OcTR673&sid=_3iR_jw-VYSPRybOAADy HTTP/1.1\" 200 -\n",
      "127.0.0.1 - - [28/Jul/2023 09:54:33] \"GET /socket.io/?EIO=4&transport=polling&t=OcTR03T&sid=wgAY_77B4QFUHfFlAADz HTTP/1.1\" 200 -\n",
      "127.0.0.1 - - [28/Jul/2023 09:54:33] \"POST /socket.io/?EIO=4&transport=polling&t=OcTR6AH&sid=wgAY_77B4QFUHfFlAADz HTTP/1.1\" 200 -\n",
      "127.0.0.1 - - [28/Jul/2023 09:54:58] \"GET /socket.io/?EIO=4&transport=polling&t=OcTR674&sid=_3iR_jw-VYSPRybOAADy HTTP/1.1\" 200 -\n",
      "127.0.0.1 - - [28/Jul/2023 09:54:58] \"POST /socket.io/?EIO=4&transport=polling&t=OcTRCDq&sid=_3iR_jw-VYSPRybOAADy HTTP/1.1\" 200 -\n",
      "127.0.0.1 - - [28/Jul/2023 09:54:58] \"GET /socket.io/?EIO=4&transport=polling&t=OcTR6AI&sid=wgAY_77B4QFUHfFlAADz HTTP/1.1\" 200 -\n",
      "127.0.0.1 - - [28/Jul/2023 09:54:58] \"POST /socket.io/?EIO=4&transport=polling&t=OcTRCHA&sid=wgAY_77B4QFUHfFlAADz HTTP/1.1\" 200 -\n",
      "127.0.0.1 - - [28/Jul/2023 09:55:23] \"GET /socket.io/?EIO=4&transport=polling&t=OcTRCDq.0&sid=_3iR_jw-VYSPRybOAADy HTTP/1.1\" 200 -\n",
      "127.0.0.1 - - [28/Jul/2023 09:55:23] \"POST /socket.io/?EIO=4&transport=polling&t=OcTRIKa&sid=_3iR_jw-VYSPRybOAADy HTTP/1.1\" 200 -\n",
      "127.0.0.1 - - [28/Jul/2023 09:55:23] \"GET /socket.io/?EIO=4&transport=polling&t=OcTRCHB&sid=wgAY_77B4QFUHfFlAADz HTTP/1.1\" 200 -\n",
      "127.0.0.1 - - [28/Jul/2023 09:55:23] \"POST /socket.io/?EIO=4&transport=polling&t=OcTRINy&sid=wgAY_77B4QFUHfFlAADz HTTP/1.1\" 200 -\n",
      "127.0.0.1 - - [28/Jul/2023 09:55:48] \"GET /socket.io/?EIO=4&transport=polling&t=OcTRIKb&sid=_3iR_jw-VYSPRybOAADy HTTP/1.1\" 200 -\n",
      "127.0.0.1 - - [28/Jul/2023 09:55:48] \"POST /socket.io/?EIO=4&transport=polling&t=OcTRORO&sid=_3iR_jw-VYSPRybOAADy HTTP/1.1\" 200 -\n",
      "127.0.0.1 - - [28/Jul/2023 09:55:48] \"GET /socket.io/?EIO=4&transport=polling&t=OcTRINz&sid=wgAY_77B4QFUHfFlAADz HTTP/1.1\" 200 -\n",
      "127.0.0.1 - - [28/Jul/2023 09:55:48] \"POST /socket.io/?EIO=4&transport=polling&t=OcTROUn&sid=wgAY_77B4QFUHfFlAADz HTTP/1.1\" 200 -\n",
      "127.0.0.1 - - [28/Jul/2023 09:56:13] \"GET /socket.io/?EIO=4&transport=polling&t=OcTRORP&sid=_3iR_jw-VYSPRybOAADy HTTP/1.1\" 200 -\n",
      "127.0.0.1 - - [28/Jul/2023 09:56:13] \"POST /socket.io/?EIO=4&transport=polling&t=OcTRUYX&sid=_3iR_jw-VYSPRybOAADy HTTP/1.1\" 200 -\n",
      "127.0.0.1 - - [28/Jul/2023 09:56:13] \"GET /socket.io/?EIO=4&transport=polling&t=OcTROUn.0&sid=wgAY_77B4QFUHfFlAADz HTTP/1.1\" 200 -\n",
      "127.0.0.1 - - [28/Jul/2023 09:56:13] \"POST /socket.io/?EIO=4&transport=polling&t=OcTRUbh&sid=wgAY_77B4QFUHfFlAADz HTTP/1.1\" 200 -\n",
      "127.0.0.1 - - [28/Jul/2023 09:56:38] \"GET /socket.io/?EIO=4&transport=polling&t=OcTRUYY&sid=_3iR_jw-VYSPRybOAADy HTTP/1.1\" 200 -\n",
      "127.0.0.1 - - [28/Jul/2023 09:56:38] \"POST /socket.io/?EIO=4&transport=polling&t=OcTRafO&sid=_3iR_jw-VYSPRybOAADy HTTP/1.1\" 200 -\n",
      "127.0.0.1 - - [28/Jul/2023 09:56:38] \"GET /socket.io/?EIO=4&transport=polling&t=OcTRUbj&sid=wgAY_77B4QFUHfFlAADz HTTP/1.1\" 200 -\n",
      "127.0.0.1 - - [28/Jul/2023 09:56:38] \"POST /socket.io/?EIO=4&transport=polling&t=OcTRaia&sid=wgAY_77B4QFUHfFlAADz HTTP/1.1\" 200 -\n",
      "127.0.0.1 - - [28/Jul/2023 09:57:03] \"GET /socket.io/?EIO=4&transport=polling&t=OcTRafP&sid=_3iR_jw-VYSPRybOAADy HTTP/1.1\" 200 -\n",
      "127.0.0.1 - - [28/Jul/2023 09:57:03] \"POST /socket.io/?EIO=4&transport=polling&t=OcTRgmL&sid=_3iR_jw-VYSPRybOAADy HTTP/1.1\" 200 -\n",
      "127.0.0.1 - - [28/Jul/2023 09:57:03] \"GET /socket.io/?EIO=4&transport=polling&t=OcTRaib&sid=wgAY_77B4QFUHfFlAADz HTTP/1.1\" 200 -\n",
      "127.0.0.1 - - [28/Jul/2023 09:57:03] \"POST /socket.io/?EIO=4&transport=polling&t=OcTRgpV&sid=wgAY_77B4QFUHfFlAADz HTTP/1.1\" 200 -\n",
      "127.0.0.1 - - [28/Jul/2023 09:57:28] \"GET /socket.io/?EIO=4&transport=polling&t=OcTRgmM&sid=_3iR_jw-VYSPRybOAADy HTTP/1.1\" 200 -\n",
      "127.0.0.1 - - [28/Jul/2023 09:57:28] \"POST /socket.io/?EIO=4&transport=polling&t=OcTRmtL&sid=_3iR_jw-VYSPRybOAADy HTTP/1.1\" 200 -\n",
      "127.0.0.1 - - [28/Jul/2023 09:57:28] \"GET /socket.io/?EIO=4&transport=polling&t=OcTRgpW&sid=wgAY_77B4QFUHfFlAADz HTTP/1.1\" 200 -\n",
      "127.0.0.1 - - [28/Jul/2023 09:57:28] \"POST /socket.io/?EIO=4&transport=polling&t=OcTRmwM&sid=wgAY_77B4QFUHfFlAADz HTTP/1.1\" 200 -\n",
      "127.0.0.1 - - [28/Jul/2023 09:57:53] \"GET /socket.io/?EIO=4&transport=polling&t=OcTRmtP&sid=_3iR_jw-VYSPRybOAADy HTTP/1.1\" 200 -\n",
      "127.0.0.1 - - [28/Jul/2023 09:57:53] \"POST /socket.io/?EIO=4&transport=polling&t=OcTRs-V&sid=_3iR_jw-VYSPRybOAADy HTTP/1.1\" 200 -\n",
      "127.0.0.1 - - [28/Jul/2023 09:57:53] \"GET /socket.io/?EIO=4&transport=polling&t=OcTRmwM.0&sid=wgAY_77B4QFUHfFlAADz HTTP/1.1\" 200 -\n",
      "127.0.0.1 - - [28/Jul/2023 09:57:53] \"POST /socket.io/?EIO=4&transport=polling&t=OcTRt1F&sid=wgAY_77B4QFUHfFlAADz HTTP/1.1\" 200 -\n",
      "127.0.0.1 - - [28/Jul/2023 09:58:18] \"GET /socket.io/?EIO=4&transport=polling&t=OcTRs-W&sid=_3iR_jw-VYSPRybOAADy HTTP/1.1\" 200 -\n",
      "127.0.0.1 - - [28/Jul/2023 09:58:18] \"POST /socket.io/?EIO=4&transport=polling&t=OcTRz5M&sid=_3iR_jw-VYSPRybOAADy HTTP/1.1\" 200 -\n",
      "127.0.0.1 - - [28/Jul/2023 09:58:18] \"GET /socket.io/?EIO=4&transport=polling&t=OcTRt1H&sid=wgAY_77B4QFUHfFlAADz HTTP/1.1\" 200 -\n",
      "127.0.0.1 - - [28/Jul/2023 09:58:18] \"POST /socket.io/?EIO=4&transport=polling&t=OcTRz86&sid=wgAY_77B4QFUHfFlAADz HTTP/1.1\" 200 -\n",
      "127.0.0.1 - - [28/Jul/2023 09:58:43] \"GET /socket.io/?EIO=4&transport=polling&t=OcTRz5N&sid=_3iR_jw-VYSPRybOAADy HTTP/1.1\" 200 -\n",
      "127.0.0.1 - - [28/Jul/2023 09:58:43] \"POST /socket.io/?EIO=4&transport=polling&t=OcTS3C8&sid=_3iR_jw-VYSPRybOAADy HTTP/1.1\" 200 -\n",
      "127.0.0.1 - - [28/Jul/2023 09:58:43] \"GET /socket.io/?EIO=4&transport=polling&t=OcTRz87&sid=wgAY_77B4QFUHfFlAADz HTTP/1.1\" 200 -\n",
      "127.0.0.1 - - [28/Jul/2023 09:58:43] \"POST /socket.io/?EIO=4&transport=polling&t=OcTS3Er&sid=wgAY_77B4QFUHfFlAADz HTTP/1.1\" 200 -\n",
      "127.0.0.1 - - [28/Jul/2023 09:59:08] \"GET /socket.io/?EIO=4&transport=polling&t=OcTS3C9&sid=_3iR_jw-VYSPRybOAADy HTTP/1.1\" 200 -\n",
      "127.0.0.1 - - [28/Jul/2023 09:59:08] \"POST /socket.io/?EIO=4&transport=polling&t=OcTS9Iz&sid=_3iR_jw-VYSPRybOAADy HTTP/1.1\" 200 -\n",
      "127.0.0.1 - - [28/Jul/2023 09:59:08] \"GET /socket.io/?EIO=4&transport=polling&t=OcTS3Es&sid=wgAY_77B4QFUHfFlAADz HTTP/1.1\" 200 -\n",
      "127.0.0.1 - - [28/Jul/2023 09:59:08] \"POST /socket.io/?EIO=4&transport=polling&t=OcTS9Lg&sid=wgAY_77B4QFUHfFlAADz HTTP/1.1\" 200 -\n",
      "127.0.0.1 - - [28/Jul/2023 09:59:33] \"GET /socket.io/?EIO=4&transport=polling&t=OcTS9I-&sid=_3iR_jw-VYSPRybOAADy HTTP/1.1\" 200 -\n",
      "127.0.0.1 - - [28/Jul/2023 09:59:33] \"POST /socket.io/?EIO=4&transport=polling&t=OcTSFPt&sid=_3iR_jw-VYSPRybOAADy HTTP/1.1\" 200 -\n",
      "127.0.0.1 - - [28/Jul/2023 09:59:33] \"GET /socket.io/?EIO=4&transport=polling&t=OcTS9Lh&sid=wgAY_77B4QFUHfFlAADz HTTP/1.1\" 200 -\n",
      "127.0.0.1 - - [28/Jul/2023 09:59:33] \"POST /socket.io/?EIO=4&transport=polling&t=OcTSFSb&sid=wgAY_77B4QFUHfFlAADz HTTP/1.1\" 200 -\n",
      "127.0.0.1 - - [28/Jul/2023 09:59:58] \"GET /socket.io/?EIO=4&transport=polling&t=OcTSFPv&sid=_3iR_jw-VYSPRybOAADy HTTP/1.1\" 200 -\n",
      "127.0.0.1 - - [28/Jul/2023 09:59:58] \"POST /socket.io/?EIO=4&transport=polling&t=OcTSLX1&sid=_3iR_jw-VYSPRybOAADy HTTP/1.1\" 200 -\n",
      "127.0.0.1 - - [28/Jul/2023 09:59:58] \"GET /socket.io/?EIO=4&transport=polling&t=OcTSFSc&sid=wgAY_77B4QFUHfFlAADz HTTP/1.1\" 200 -\n",
      "127.0.0.1 - - [28/Jul/2023 09:59:58] \"POST /socket.io/?EIO=4&transport=polling&t=OcTSLZV&sid=wgAY_77B4QFUHfFlAADz HTTP/1.1\" 200 -\n",
      "127.0.0.1 - - [28/Jul/2023 10:00:23] \"GET /socket.io/?EIO=4&transport=polling&t=OcTSLX2&sid=_3iR_jw-VYSPRybOAADy HTTP/1.1\" 200 -\n",
      "127.0.0.1 - - [28/Jul/2023 10:00:23] \"POST /socket.io/?EIO=4&transport=polling&t=OcTSRdw&sid=_3iR_jw-VYSPRybOAADy HTTP/1.1\" 200 -\n",
      "127.0.0.1 - - [28/Jul/2023 10:00:23] \"GET /socket.io/?EIO=4&transport=polling&t=OcTSLZW&sid=wgAY_77B4QFUHfFlAADz HTTP/1.1\" 200 -\n",
      "127.0.0.1 - - [28/Jul/2023 10:00:23] \"POST /socket.io/?EIO=4&transport=polling&t=OcTSRgN&sid=wgAY_77B4QFUHfFlAADz HTTP/1.1\" 200 -\n",
      "127.0.0.1 - - [28/Jul/2023 10:00:48] \"GET /socket.io/?EIO=4&transport=polling&t=OcTSRdx&sid=_3iR_jw-VYSPRybOAADy HTTP/1.1\" 200 -\n",
      "127.0.0.1 - - [28/Jul/2023 10:00:48] \"POST /socket.io/?EIO=4&transport=polling&t=OcTSXkm&sid=_3iR_jw-VYSPRybOAADy HTTP/1.1\" 200 -\n",
      "127.0.0.1 - - [28/Jul/2023 10:00:48] \"GET /socket.io/?EIO=4&transport=polling&t=OcTSRgO&sid=wgAY_77B4QFUHfFlAADz HTTP/1.1\" 200 -\n",
      "127.0.0.1 - - [28/Jul/2023 10:00:48] \"POST /socket.io/?EIO=4&transport=polling&t=OcTSXnC&sid=wgAY_77B4QFUHfFlAADz HTTP/1.1\" 200 -\n",
      "127.0.0.1 - - [28/Jul/2023 10:01:13] \"GET /socket.io/?EIO=4&transport=polling&t=OcTSXkn&sid=_3iR_jw-VYSPRybOAADy HTTP/1.1\" 200 -\n",
      "127.0.0.1 - - [28/Jul/2023 10:01:13] \"POST /socket.io/?EIO=4&transport=polling&t=OcTSdre&sid=_3iR_jw-VYSPRybOAADy HTTP/1.1\" 200 -\n",
      "127.0.0.1 - - [28/Jul/2023 10:01:13] \"GET /socket.io/?EIO=4&transport=polling&t=OcTSXnD&sid=wgAY_77B4QFUHfFlAADz HTTP/1.1\" 200 -\n",
      "127.0.0.1 - - [28/Jul/2023 10:01:13] \"POST /socket.io/?EIO=4&transport=polling&t=OcTSdt_&sid=wgAY_77B4QFUHfFlAADz HTTP/1.1\" 200 -\n",
      "127.0.0.1 - - [28/Jul/2023 10:01:38] \"GET /socket.io/?EIO=4&transport=polling&t=OcTSdrf&sid=_3iR_jw-VYSPRybOAADy HTTP/1.1\" 200 -\n",
      "127.0.0.1 - - [28/Jul/2023 10:01:38] \"POST /socket.io/?EIO=4&transport=polling&t=OcTSjyR&sid=_3iR_jw-VYSPRybOAADy HTTP/1.1\" 200 -\n",
      "127.0.0.1 - - [28/Jul/2023 10:01:38] \"GET /socket.io/?EIO=4&transport=polling&t=OcTSdu0&sid=wgAY_77B4QFUHfFlAADz HTTP/1.1\" 200 -\n",
      "127.0.0.1 - - [28/Jul/2023 10:01:38] \"POST /socket.io/?EIO=4&transport=polling&t=OcTSj-v&sid=wgAY_77B4QFUHfFlAADz HTTP/1.1\" 200 -\n",
      "127.0.0.1 - - [28/Jul/2023 10:02:03] \"GET /socket.io/?EIO=4&transport=polling&t=OcTSjyT&sid=_3iR_jw-VYSPRybOAADy HTTP/1.1\" 200 -\n",
      "127.0.0.1 - - [28/Jul/2023 10:02:03] \"POST /socket.io/?EIO=4&transport=polling&t=OcTSq3Y&sid=_3iR_jw-VYSPRybOAADy HTTP/1.1\" 200 -\n",
      "127.0.0.1 - - [28/Jul/2023 10:02:03] \"GET /socket.io/?EIO=4&transport=polling&t=OcTSj-w&sid=wgAY_77B4QFUHfFlAADz HTTP/1.1\" 200 -\n",
      "127.0.0.1 - - [28/Jul/2023 10:02:03] \"POST /socket.io/?EIO=4&transport=polling&t=OcTSq5o&sid=wgAY_77B4QFUHfFlAADz HTTP/1.1\" 200 -\n",
      "127.0.0.1 - - [28/Jul/2023 10:02:28] \"GET /socket.io/?EIO=4&transport=polling&t=OcTSq3Z&sid=_3iR_jw-VYSPRybOAADy HTTP/1.1\" 200 -\n",
      "127.0.0.1 - - [28/Jul/2023 10:02:28] \"POST /socket.io/?EIO=4&transport=polling&t=OcTSwAS&sid=_3iR_jw-VYSPRybOAADy HTTP/1.1\" 200 -\n",
      "127.0.0.1 - - [28/Jul/2023 10:02:28] \"GET /socket.io/?EIO=4&transport=polling&t=OcTSq5p&sid=wgAY_77B4QFUHfFlAADz HTTP/1.1\" 200 -\n",
      "127.0.0.1 - - [28/Jul/2023 10:02:28] \"POST /socket.io/?EIO=4&transport=polling&t=OcTSwCh&sid=wgAY_77B4QFUHfFlAADz HTTP/1.1\" 200 -\n",
      "127.0.0.1 - - [28/Jul/2023 10:02:53] \"GET /socket.io/?EIO=4&transport=polling&t=OcTSwAT&sid=_3iR_jw-VYSPRybOAADy HTTP/1.1\" 200 -\n",
      "127.0.0.1 - - [28/Jul/2023 10:02:53] \"POST /socket.io/?EIO=4&transport=polling&t=OcTT0HI&sid=_3iR_jw-VYSPRybOAADy HTTP/1.1\" 200 -\n",
      "127.0.0.1 - - [28/Jul/2023 10:02:53] \"GET /socket.io/?EIO=4&transport=polling&t=OcTSwCi&sid=wgAY_77B4QFUHfFlAADz HTTP/1.1\" 200 -\n",
      "127.0.0.1 - - [28/Jul/2023 10:02:53] \"POST /socket.io/?EIO=4&transport=polling&t=OcTT0JZ&sid=wgAY_77B4QFUHfFlAADz HTTP/1.1\" 200 -\n",
      "127.0.0.1 - - [28/Jul/2023 10:03:18] \"GET /socket.io/?EIO=4&transport=polling&t=OcTT0HJ&sid=_3iR_jw-VYSPRybOAADy HTTP/1.1\" 200 -\n",
      "127.0.0.1 - - [28/Jul/2023 10:03:18] \"POST /socket.io/?EIO=4&transport=polling&t=OcTT6OE&sid=_3iR_jw-VYSPRybOAADy HTTP/1.1\" 200 -\n",
      "127.0.0.1 - - [28/Jul/2023 10:03:18] \"GET /socket.io/?EIO=4&transport=polling&t=OcTT0Ja&sid=wgAY_77B4QFUHfFlAADz HTTP/1.1\" 200 -\n",
      "127.0.0.1 - - [28/Jul/2023 10:03:18] \"POST /socket.io/?EIO=4&transport=polling&t=OcTT6QR&sid=wgAY_77B4QFUHfFlAADz HTTP/1.1\" 200 -\n",
      "127.0.0.1 - - [28/Jul/2023 10:03:43] \"GET /socket.io/?EIO=4&transport=polling&t=OcTT6OG&sid=_3iR_jw-VYSPRybOAADy HTTP/1.1\" 200 -\n",
      "127.0.0.1 - - [28/Jul/2023 10:03:43] \"POST /socket.io/?EIO=4&transport=polling&t=OcTTCVL&sid=_3iR_jw-VYSPRybOAADy HTTP/1.1\" 200 -\n",
      "127.0.0.1 - - [28/Jul/2023 10:03:43] \"GET /socket.io/?EIO=4&transport=polling&t=OcTT6QR.0&sid=wgAY_77B4QFUHfFlAADz HTTP/1.1\" 200 -\n",
      "127.0.0.1 - - [28/Jul/2023 10:03:43] \"POST /socket.io/?EIO=4&transport=polling&t=OcTTCXF&sid=wgAY_77B4QFUHfFlAADz HTTP/1.1\" 200 -\n",
      "127.0.0.1 - - [28/Jul/2023 10:04:08] \"GET /socket.io/?EIO=4&transport=polling&t=OcTTCVM&sid=_3iR_jw-VYSPRybOAADy HTTP/1.1\" 200 -\n",
      "127.0.0.1 - - [28/Jul/2023 10:04:08] \"POST /socket.io/?EIO=4&transport=polling&t=OcTTIcE&sid=_3iR_jw-VYSPRybOAADy HTTP/1.1\" 200 -\n",
      "127.0.0.1 - - [28/Jul/2023 10:04:08] \"GET /socket.io/?EIO=4&transport=polling&t=OcTTCXG&sid=wgAY_77B4QFUHfFlAADz HTTP/1.1\" 200 -\n",
      "127.0.0.1 - - [28/Jul/2023 10:04:08] \"POST /socket.io/?EIO=4&transport=polling&t=OcTTIe3&sid=wgAY_77B4QFUHfFlAADz HTTP/1.1\" 200 -\n",
      "127.0.0.1 - - [28/Jul/2023 10:04:33] \"GET /socket.io/?EIO=4&transport=polling&t=OcTTIcE.0&sid=_3iR_jw-VYSPRybOAADy HTTP/1.1\" 200 -\n",
      "127.0.0.1 - - [28/Jul/2023 10:04:33] \"POST /socket.io/?EIO=4&transport=polling&t=OcTTOj6&sid=_3iR_jw-VYSPRybOAADy HTTP/1.1\" 200 -\n",
      "127.0.0.1 - - [28/Jul/2023 10:04:33] \"GET /socket.io/?EIO=4&transport=polling&t=OcTTIe4&sid=wgAY_77B4QFUHfFlAADz HTTP/1.1\" 200 -\n",
      "127.0.0.1 - - [28/Jul/2023 10:04:33] \"POST /socket.io/?EIO=4&transport=polling&t=OcTTOk-&sid=wgAY_77B4QFUHfFlAADz HTTP/1.1\" 200 -\n",
      "127.0.0.1 - - [28/Jul/2023 10:04:58] \"GET /socket.io/?EIO=4&transport=polling&t=OcTTOj7&sid=_3iR_jw-VYSPRybOAADy HTTP/1.1\" 200 -\n",
      "127.0.0.1 - - [28/Jul/2023 10:04:58] \"POST /socket.io/?EIO=4&transport=polling&t=OcTTUpx&sid=_3iR_jw-VYSPRybOAADy HTTP/1.1\" 200 -\n",
      "127.0.0.1 - - [28/Jul/2023 10:04:58] \"GET /socket.io/?EIO=4&transport=polling&t=OcTTOl0&sid=wgAY_77B4QFUHfFlAADz HTTP/1.1\" 200 -\n",
      "127.0.0.1 - - [28/Jul/2023 10:04:58] \"POST /socket.io/?EIO=4&transport=polling&t=OcTTUrv&sid=wgAY_77B4QFUHfFlAADz HTTP/1.1\" 200 -\n",
      "127.0.0.1 - - [28/Jul/2023 10:05:23] \"GET /socket.io/?EIO=4&transport=polling&t=OcTTUpy&sid=_3iR_jw-VYSPRybOAADy HTTP/1.1\" 200 -\n",
      "127.0.0.1 - - [28/Jul/2023 10:05:23] \"POST /socket.io/?EIO=4&transport=polling&t=OcTTawt&sid=_3iR_jw-VYSPRybOAADy HTTP/1.1\" 200 -\n",
      "127.0.0.1 - - [28/Jul/2023 10:05:23] \"GET /socket.io/?EIO=4&transport=polling&t=OcTTUrw&sid=wgAY_77B4QFUHfFlAADz HTTP/1.1\" 200 -\n",
      "127.0.0.1 - - [28/Jul/2023 10:05:23] \"POST /socket.io/?EIO=4&transport=polling&t=OcTTayn&sid=wgAY_77B4QFUHfFlAADz HTTP/1.1\" 200 -\n",
      "127.0.0.1 - - [28/Jul/2023 10:05:48] \"GET /socket.io/?EIO=4&transport=polling&t=OcTTawu&sid=_3iR_jw-VYSPRybOAADy HTTP/1.1\" 200 -\n",
      "127.0.0.1 - - [28/Jul/2023 10:05:48] \"POST /socket.io/?EIO=4&transport=polling&t=OcTTh1g&sid=_3iR_jw-VYSPRybOAADy HTTP/1.1\" 200 -\n",
      "127.0.0.1 - - [28/Jul/2023 10:05:48] \"GET /socket.io/?EIO=4&transport=polling&t=OcTTayo&sid=wgAY_77B4QFUHfFlAADz HTTP/1.1\" 200 -\n",
      "127.0.0.1 - - [28/Jul/2023 10:05:48] \"POST /socket.io/?EIO=4&transport=polling&t=OcTTh3g&sid=wgAY_77B4QFUHfFlAADz HTTP/1.1\" 200 -\n",
      "127.0.0.1 - - [28/Jul/2023 10:06:13] \"GET /socket.io/?EIO=4&transport=polling&t=OcTTh1h&sid=_3iR_jw-VYSPRybOAADy HTTP/1.1\" 200 -\n",
      "127.0.0.1 - - [28/Jul/2023 10:06:13] \"POST /socket.io/?EIO=4&transport=polling&t=OcTTn8r&sid=_3iR_jw-VYSPRybOAADy HTTP/1.1\" 200 -\n",
      "127.0.0.1 - - [28/Jul/2023 10:06:13] \"GET /socket.io/?EIO=4&transport=polling&t=OcTTh3h&sid=wgAY_77B4QFUHfFlAADz HTTP/1.1\" 200 -\n",
      "127.0.0.1 - - [28/Jul/2023 10:06:13] \"POST /socket.io/?EIO=4&transport=polling&t=OcTTnAb&sid=wgAY_77B4QFUHfFlAADz HTTP/1.1\" 200 -\n",
      "127.0.0.1 - - [28/Jul/2023 10:06:38] \"GET /socket.io/?EIO=4&transport=polling&t=OcTTn8s&sid=_3iR_jw-VYSPRybOAADy HTTP/1.1\" 200 -\n",
      "127.0.0.1 - - [28/Jul/2023 10:06:38] \"POST /socket.io/?EIO=4&transport=polling&t=OcTTtFi&sid=_3iR_jw-VYSPRybOAADy HTTP/1.1\" 200 -\n",
      "127.0.0.1 - - [28/Jul/2023 10:06:38] \"GET /socket.io/?EIO=4&transport=polling&t=OcTTnAb.0&sid=wgAY_77B4QFUHfFlAADz HTTP/1.1\" 200 -\n",
      "127.0.0.1 - - [28/Jul/2023 10:06:38] \"POST /socket.io/?EIO=4&transport=polling&t=OcTTtHR&sid=wgAY_77B4QFUHfFlAADz HTTP/1.1\" 200 -\n",
      "127.0.0.1 - - [28/Jul/2023 10:07:03] \"GET /socket.io/?EIO=4&transport=polling&t=OcTTtFi.0&sid=_3iR_jw-VYSPRybOAADy HTTP/1.1\" 200 -\n",
      "127.0.0.1 - - [28/Jul/2023 10:07:03] \"POST /socket.io/?EIO=4&transport=polling&t=OcTTzMa&sid=_3iR_jw-VYSPRybOAADy HTTP/1.1\" 200 -\n",
      "127.0.0.1 - - [28/Jul/2023 10:07:03] \"GET /socket.io/?EIO=4&transport=polling&t=OcTTtHS&sid=wgAY_77B4QFUHfFlAADz HTTP/1.1\" 200 -\n",
      "127.0.0.1 - - [28/Jul/2023 10:07:03] \"POST /socket.io/?EIO=4&transport=polling&t=OcTTzOJ&sid=wgAY_77B4QFUHfFlAADz HTTP/1.1\" 200 -\n",
      "127.0.0.1 - - [28/Jul/2023 10:07:28] \"GET /socket.io/?EIO=4&transport=polling&t=OcTTzMb&sid=_3iR_jw-VYSPRybOAADy HTTP/1.1\" 200 -\n",
      "127.0.0.1 - - [28/Jul/2023 10:07:28] \"POST /socket.io/?EIO=4&transport=polling&t=OcTU3TO&sid=_3iR_jw-VYSPRybOAADy HTTP/1.1\" 200 -\n",
      "127.0.0.1 - - [28/Jul/2023 10:07:28] \"GET /socket.io/?EIO=4&transport=polling&t=OcTTzOK&sid=wgAY_77B4QFUHfFlAADz HTTP/1.1\" 200 -\n",
      "127.0.0.1 - - [28/Jul/2023 10:07:28] \"POST /socket.io/?EIO=4&transport=polling&t=OcTU3VC&sid=wgAY_77B4QFUHfFlAADz HTTP/1.1\" 200 -\n",
      "127.0.0.1 - - [28/Jul/2023 10:07:53] \"GET /socket.io/?EIO=4&transport=polling&t=OcTU3TO.0&sid=_3iR_jw-VYSPRybOAADy HTTP/1.1\" 200 -\n",
      "127.0.0.1 - - [28/Jul/2023 10:07:53] \"POST /socket.io/?EIO=4&transport=polling&t=OcTU9aC&sid=_3iR_jw-VYSPRybOAADy HTTP/1.1\" 200 -\n",
      "127.0.0.1 - - [28/Jul/2023 10:07:53] \"GET /socket.io/?EIO=4&transport=polling&t=OcTU3VD&sid=wgAY_77B4QFUHfFlAADz HTTP/1.1\" 200 -\n",
      "127.0.0.1 - - [28/Jul/2023 10:07:53] \"POST /socket.io/?EIO=4&transport=polling&t=OcTU9c3&sid=wgAY_77B4QFUHfFlAADz HTTP/1.1\" 200 -\n",
      "127.0.0.1 - - [28/Jul/2023 10:08:18] \"GET /socket.io/?EIO=4&transport=polling&t=OcTU9aC.0&sid=_3iR_jw-VYSPRybOAADy HTTP/1.1\" 200 -\n",
      "127.0.0.1 - - [28/Jul/2023 10:08:18] \"POST /socket.io/?EIO=4&transport=polling&t=OcTUFg-&sid=_3iR_jw-VYSPRybOAADy HTTP/1.1\" 200 -\n",
      "127.0.0.1 - - [28/Jul/2023 10:08:18] \"GET /socket.io/?EIO=4&transport=polling&t=OcTU9c4&sid=wgAY_77B4QFUHfFlAADz HTTP/1.1\" 200 -\n",
      "127.0.0.1 - - [28/Jul/2023 10:08:18] \"POST /socket.io/?EIO=4&transport=polling&t=OcTUFj4&sid=wgAY_77B4QFUHfFlAADz HTTP/1.1\" 200 -\n",
      "127.0.0.1 - - [28/Jul/2023 10:08:43] \"GET /socket.io/?EIO=4&transport=polling&t=OcTUFg_&sid=_3iR_jw-VYSPRybOAADy HTTP/1.1\" 200 -\n",
      "127.0.0.1 - - [28/Jul/2023 10:08:43] \"POST /socket.io/?EIO=4&transport=polling&t=OcTULnu&sid=_3iR_jw-VYSPRybOAADy HTTP/1.1\" 200 -\n",
      "127.0.0.1 - - [28/Jul/2023 10:08:43] \"GET /socket.io/?EIO=4&transport=polling&t=OcTUFj6&sid=wgAY_77B4QFUHfFlAADz HTTP/1.1\" 200 -\n",
      "127.0.0.1 - - [28/Jul/2023 10:08:43] \"POST /socket.io/?EIO=4&transport=polling&t=OcTULq4&sid=wgAY_77B4QFUHfFlAADz HTTP/1.1\" 200 -\n",
      "127.0.0.1 - - [28/Jul/2023 10:09:08] \"GET /socket.io/?EIO=4&transport=polling&t=OcTULnv&sid=_3iR_jw-VYSPRybOAADy HTTP/1.1\" 200 -\n",
      "127.0.0.1 - - [28/Jul/2023 10:09:08] \"POST /socket.io/?EIO=4&transport=polling&t=OcTURum&sid=_3iR_jw-VYSPRybOAADy HTTP/1.1\" 200 -\n",
      "127.0.0.1 - - [28/Jul/2023 10:09:08] \"GET /socket.io/?EIO=4&transport=polling&t=OcTULq5&sid=wgAY_77B4QFUHfFlAADz HTTP/1.1\" 200 -\n",
      "127.0.0.1 - - [28/Jul/2023 10:09:08] \"POST /socket.io/?EIO=4&transport=polling&t=OcTURwt&sid=wgAY_77B4QFUHfFlAADz HTTP/1.1\" 200 -\n",
      "127.0.0.1 - - [28/Jul/2023 10:09:33] \"GET /socket.io/?EIO=4&transport=polling&t=OcTURun&sid=_3iR_jw-VYSPRybOAADy HTTP/1.1\" 200 -\n",
      "127.0.0.1 - - [28/Jul/2023 10:09:33] \"POST /socket.io/?EIO=4&transport=polling&t=OcTUX_k&sid=_3iR_jw-VYSPRybOAADy HTTP/1.1\" 200 -\n",
      "127.0.0.1 - - [28/Jul/2023 10:09:33] \"GET /socket.io/?EIO=4&transport=polling&t=OcTURwu&sid=wgAY_77B4QFUHfFlAADz HTTP/1.1\" 200 -\n",
      "127.0.0.1 - - [28/Jul/2023 10:09:33] \"POST /socket.io/?EIO=4&transport=polling&t=OcTUY1o&sid=wgAY_77B4QFUHfFlAADz HTTP/1.1\" 200 -\n",
      "127.0.0.1 - - [28/Jul/2023 10:09:58] \"GET /socket.io/?EIO=4&transport=polling&t=OcTUX_l&sid=_3iR_jw-VYSPRybOAADy HTTP/1.1\" 200 -\n",
      "127.0.0.1 - - [28/Jul/2023 10:09:58] \"POST /socket.io/?EIO=4&transport=polling&t=OcTUe6l&sid=_3iR_jw-VYSPRybOAADy HTTP/1.1\" 200 -\n",
      "127.0.0.1 - - [28/Jul/2023 10:09:58] \"GET /socket.io/?EIO=4&transport=polling&t=OcTUY1q&sid=wgAY_77B4QFUHfFlAADz HTTP/1.1\" 200 -\n",
      "127.0.0.1 - - [28/Jul/2023 10:09:58] \"POST /socket.io/?EIO=4&transport=polling&t=OcTUe8k&sid=wgAY_77B4QFUHfFlAADz HTTP/1.1\" 200 -\n",
      "127.0.0.1 - - [28/Jul/2023 10:10:23] \"GET /socket.io/?EIO=4&transport=polling&t=OcTUe6m&sid=_3iR_jw-VYSPRybOAADy HTTP/1.1\" 200 -\n",
      "127.0.0.1 - - [28/Jul/2023 10:10:23] \"POST /socket.io/?EIO=4&transport=polling&t=OcTUkDW&sid=_3iR_jw-VYSPRybOAADy HTTP/1.1\" 200 -\n",
      "127.0.0.1 - - [28/Jul/2023 10:10:23] \"GET /socket.io/?EIO=4&transport=polling&t=OcTUe8l&sid=wgAY_77B4QFUHfFlAADz HTTP/1.1\" 200 -\n",
      "127.0.0.1 - - [28/Jul/2023 10:10:23] \"POST /socket.io/?EIO=4&transport=polling&t=OcTUkFi&sid=wgAY_77B4QFUHfFlAADz HTTP/1.1\" 200 -\n",
      "127.0.0.1 - - [28/Jul/2023 10:10:48] \"GET /socket.io/?EIO=4&transport=polling&t=OcTUkDX&sid=_3iR_jw-VYSPRybOAADy HTTP/1.1\" 200 -\n",
      "127.0.0.1 - - [28/Jul/2023 10:10:48] \"POST /socket.io/?EIO=4&transport=polling&t=OcTUqKL&sid=_3iR_jw-VYSPRybOAADy HTTP/1.1\" 200 -\n",
      "127.0.0.1 - - [28/Jul/2023 10:10:48] \"GET /socket.io/?EIO=4&transport=polling&t=OcTUkFj&sid=wgAY_77B4QFUHfFlAADz HTTP/1.1\" 200 -\n",
      "127.0.0.1 - - [28/Jul/2023 10:10:49] \"POST /socket.io/?EIO=4&transport=polling&t=OcTUqMg&sid=wgAY_77B4QFUHfFlAADz HTTP/1.1\" 200 -\n",
      "127.0.0.1 - - [28/Jul/2023 10:11:13] \"GET /socket.io/?EIO=4&transport=polling&t=OcTUqKM&sid=_3iR_jw-VYSPRybOAADy HTTP/1.1\" 200 -\n",
      "127.0.0.1 - - [28/Jul/2023 10:11:13] \"POST /socket.io/?EIO=4&transport=polling&t=OcTUwRE&sid=_3iR_jw-VYSPRybOAADy HTTP/1.1\" 200 -\n",
      "127.0.0.1 - - [28/Jul/2023 10:11:14] \"GET /socket.io/?EIO=4&transport=polling&t=OcTUqMh&sid=wgAY_77B4QFUHfFlAADz HTTP/1.1\" 200 -\n",
      "127.0.0.1 - - [28/Jul/2023 10:11:14] \"POST /socket.io/?EIO=4&transport=polling&t=OcTUwTS&sid=wgAY_77B4QFUHfFlAADz HTTP/1.1\" 200 -\n",
      "127.0.0.1 - - [28/Jul/2023 10:11:38] \"GET /socket.io/?EIO=4&transport=polling&t=OcTUwRF&sid=_3iR_jw-VYSPRybOAADy HTTP/1.1\" 200 -\n",
      "127.0.0.1 - - [28/Jul/2023 10:11:38] \"POST /socket.io/?EIO=4&transport=polling&t=OcTV0YB&sid=_3iR_jw-VYSPRybOAADy HTTP/1.1\" 200 -\n",
      "127.0.0.1 - - [28/Jul/2023 10:11:39] \"GET /socket.io/?EIO=4&transport=polling&t=OcTUwTT&sid=wgAY_77B4QFUHfFlAADz HTTP/1.1\" 200 -\n",
      "127.0.0.1 - - [28/Jul/2023 10:11:39] \"POST /socket.io/?EIO=4&transport=polling&t=OcTV0aC&sid=wgAY_77B4QFUHfFlAADz HTTP/1.1\" 200 -\n",
      "127.0.0.1 - - [28/Jul/2023 10:12:03] \"GET /socket.io/?EIO=4&transport=polling&t=OcTV0YC&sid=_3iR_jw-VYSPRybOAADy HTTP/1.1\" 200 -\n",
      "127.0.0.1 - - [28/Jul/2023 10:12:03] \"POST /socket.io/?EIO=4&transport=polling&t=OcTV6f0&sid=_3iR_jw-VYSPRybOAADy HTTP/1.1\" 200 -\n",
      "127.0.0.1 - - [28/Jul/2023 10:12:04] \"GET /socket.io/?EIO=4&transport=polling&t=OcTV0aE&sid=wgAY_77B4QFUHfFlAADz HTTP/1.1\" 200 -\n",
      "127.0.0.1 - - [28/Jul/2023 10:12:04] \"POST /socket.io/?EIO=4&transport=polling&t=OcTV6h6&sid=wgAY_77B4QFUHfFlAADz HTTP/1.1\" 200 -\n",
      "127.0.0.1 - - [28/Jul/2023 10:12:28] \"GET /socket.io/?EIO=4&transport=polling&t=OcTV6f1&sid=_3iR_jw-VYSPRybOAADy HTTP/1.1\" 200 -\n",
      "127.0.0.1 - - [28/Jul/2023 10:12:28] \"POST /socket.io/?EIO=4&transport=polling&t=OcTVClt&sid=_3iR_jw-VYSPRybOAADy HTTP/1.1\" 200 -\n",
      "127.0.0.1 - - [28/Jul/2023 10:12:29] \"GET /socket.io/?EIO=4&transport=polling&t=OcTV6h7&sid=wgAY_77B4QFUHfFlAADz HTTP/1.1\" 200 -\n",
      "127.0.0.1 - - [28/Jul/2023 10:12:29] \"POST /socket.io/?EIO=4&transport=polling&t=OcTVCny&sid=wgAY_77B4QFUHfFlAADz HTTP/1.1\" 200 -\n",
      "127.0.0.1 - - [28/Jul/2023 10:12:53] \"GET /socket.io/?EIO=4&transport=polling&t=OcTVClu&sid=_3iR_jw-VYSPRybOAADy HTTP/1.1\" 200 -\n",
      "127.0.0.1 - - [28/Jul/2023 10:12:53] \"POST /socket.io/?EIO=4&transport=polling&t=OcTVIsk&sid=_3iR_jw-VYSPRybOAADy HTTP/1.1\" 200 -\n",
      "127.0.0.1 - - [28/Jul/2023 10:12:54] \"GET /socket.io/?EIO=4&transport=polling&t=OcTVCnz&sid=wgAY_77B4QFUHfFlAADz HTTP/1.1\" 200 -\n",
      "127.0.0.1 - - [28/Jul/2023 10:12:54] \"POST /socket.io/?EIO=4&transport=polling&t=OcTVIuk&sid=wgAY_77B4QFUHfFlAADz HTTP/1.1\" 200 -\n",
      "127.0.0.1 - - [28/Jul/2023 10:13:18] \"GET /socket.io/?EIO=4&transport=polling&t=OcTVIsl&sid=_3iR_jw-VYSPRybOAADy HTTP/1.1\" 200 -\n",
      "127.0.0.1 - - [28/Jul/2023 10:13:18] \"POST /socket.io/?EIO=4&transport=polling&t=OcTVOzc&sid=_3iR_jw-VYSPRybOAADy HTTP/1.1\" 200 -\n",
      "127.0.0.1 - - [28/Jul/2023 10:13:19] \"GET /socket.io/?EIO=4&transport=polling&t=OcTVIul&sid=wgAY_77B4QFUHfFlAADz HTTP/1.1\" 200 -\n",
      "127.0.0.1 - - [28/Jul/2023 10:13:19] \"POST /socket.io/?EIO=4&transport=polling&t=OcTVO_c&sid=wgAY_77B4QFUHfFlAADz HTTP/1.1\" 200 -\n",
      "127.0.0.1 - - [28/Jul/2023 10:13:43] \"GET /socket.io/?EIO=4&transport=polling&t=OcTVOzd&sid=_3iR_jw-VYSPRybOAADy HTTP/1.1\" 200 -\n",
      "127.0.0.1 - - [28/Jul/2023 10:13:43] \"POST /socket.io/?EIO=4&transport=polling&t=OcTVV4T&sid=_3iR_jw-VYSPRybOAADy HTTP/1.1\" 200 -\n",
      "127.0.0.1 - - [28/Jul/2023 10:13:44] \"GET /socket.io/?EIO=4&transport=polling&t=OcTVO_d&sid=wgAY_77B4QFUHfFlAADz HTTP/1.1\" 200 -\n",
      "127.0.0.1 - - [28/Jul/2023 10:13:44] \"POST /socket.io/?EIO=4&transport=polling&t=OcTVV6R&sid=wgAY_77B4QFUHfFlAADz HTTP/1.1\" 200 -\n",
      "127.0.0.1 - - [28/Jul/2023 10:14:08] \"GET /socket.io/?EIO=4&transport=polling&t=OcTVV4U&sid=_3iR_jw-VYSPRybOAADy HTTP/1.1\" 200 -\n",
      "127.0.0.1 - - [28/Jul/2023 10:14:08] \"POST /socket.io/?EIO=4&transport=polling&t=OcTVbBS&sid=_3iR_jw-VYSPRybOAADy HTTP/1.1\" 200 -\n",
      "127.0.0.1 - - [28/Jul/2023 10:14:09] \"GET /socket.io/?EIO=4&transport=polling&t=OcTVV6S&sid=wgAY_77B4QFUHfFlAADz HTTP/1.1\" 200 -\n",
      "127.0.0.1 - - [28/Jul/2023 10:14:09] \"POST /socket.io/?EIO=4&transport=polling&t=OcTVbDN&sid=wgAY_77B4QFUHfFlAADz HTTP/1.1\" 200 -\n",
      "127.0.0.1 - - [28/Jul/2023 10:14:33] \"GET /socket.io/?EIO=4&transport=polling&t=OcTVbBT&sid=_3iR_jw-VYSPRybOAADy HTTP/1.1\" 200 -\n",
      "127.0.0.1 - - [28/Jul/2023 10:14:34] \"POST /socket.io/?EIO=4&transport=polling&t=OcTVhIG&sid=_3iR_jw-VYSPRybOAADy HTTP/1.1\" 200 -\n",
      "127.0.0.1 - - [28/Jul/2023 10:14:34] \"GET /socket.io/?EIO=4&transport=polling&t=OcTVbDO&sid=wgAY_77B4QFUHfFlAADz HTTP/1.1\" 200 -\n",
      "127.0.0.1 - - [28/Jul/2023 10:14:34] \"POST /socket.io/?EIO=4&transport=polling&t=OcTVhKF&sid=wgAY_77B4QFUHfFlAADz HTTP/1.1\" 200 -\n",
      "127.0.0.1 - - [28/Jul/2023 10:14:59] \"GET /socket.io/?EIO=4&transport=polling&t=OcTVhIH&sid=_3iR_jw-VYSPRybOAADy HTTP/1.1\" 200 -\n",
      "127.0.0.1 - - [28/Jul/2023 10:14:59] \"POST /socket.io/?EIO=4&transport=polling&t=OcTVnP9&sid=_3iR_jw-VYSPRybOAADy HTTP/1.1\" 200 -\n",
      "127.0.0.1 - - [28/Jul/2023 10:14:59] \"GET /socket.io/?EIO=4&transport=polling&t=OcTVhKF.0&sid=wgAY_77B4QFUHfFlAADz HTTP/1.1\" 200 -\n",
      "127.0.0.1 - - [28/Jul/2023 10:14:59] \"POST /socket.io/?EIO=4&transport=polling&t=OcTVnR7&sid=wgAY_77B4QFUHfFlAADz HTTP/1.1\" 200 -\n",
      "127.0.0.1 - - [28/Jul/2023 10:15:24] \"GET /socket.io/?EIO=4&transport=polling&t=OcTVnPA&sid=_3iR_jw-VYSPRybOAADy HTTP/1.1\" 200 -\n",
      "127.0.0.1 - - [28/Jul/2023 10:15:24] \"POST /socket.io/?EIO=4&transport=polling&t=OcTVtVx&sid=_3iR_jw-VYSPRybOAADy HTTP/1.1\" 200 -\n",
      "127.0.0.1 - - [28/Jul/2023 10:15:24] \"GET /socket.io/?EIO=4&transport=polling&t=OcTVnR8&sid=wgAY_77B4QFUHfFlAADz HTTP/1.1\" 200 -\n",
      "127.0.0.1 - - [28/Jul/2023 10:15:24] \"POST /socket.io/?EIO=4&transport=polling&t=OcTVtX_&sid=wgAY_77B4QFUHfFlAADz HTTP/1.1\" 200 -\n",
      "127.0.0.1 - - [28/Jul/2023 10:15:49] \"GET /socket.io/?EIO=4&transport=polling&t=OcTVtVy&sid=_3iR_jw-VYSPRybOAADy HTTP/1.1\" 200 -\n",
      "127.0.0.1 - - [28/Jul/2023 10:15:49] \"POST /socket.io/?EIO=4&transport=polling&t=OcTVzcn&sid=_3iR_jw-VYSPRybOAADy HTTP/1.1\" 200 -\n",
      "127.0.0.1 - - [28/Jul/2023 10:15:49] \"GET /socket.io/?EIO=4&transport=polling&t=OcTVtY0&sid=wgAY_77B4QFUHfFlAADz HTTP/1.1\" 200 -\n",
      "127.0.0.1 - - [28/Jul/2023 10:15:49] \"POST /socket.io/?EIO=4&transport=polling&t=OcTVzer&sid=wgAY_77B4QFUHfFlAADz HTTP/1.1\" 200 -\n",
      "127.0.0.1 - - [28/Jul/2023 10:16:14] \"GET /socket.io/?EIO=4&transport=polling&t=OcTVzco&sid=_3iR_jw-VYSPRybOAADy HTTP/1.1\" 200 -\n",
      "127.0.0.1 - - [28/Jul/2023 10:16:14] \"POST /socket.io/?EIO=4&transport=polling&t=OcTW3jg&sid=_3iR_jw-VYSPRybOAADy HTTP/1.1\" 200 -\n",
      "127.0.0.1 - - [28/Jul/2023 10:16:14] \"GET /socket.io/?EIO=4&transport=polling&t=OcTVzer.0&sid=wgAY_77B4QFUHfFlAADz HTTP/1.1\" 200 -\n",
      "127.0.0.1 - - [28/Jul/2023 10:16:14] \"POST /socket.io/?EIO=4&transport=polling&t=OcTW3lk&sid=wgAY_77B4QFUHfFlAADz HTTP/1.1\" 200 -\n",
      "127.0.0.1 - - [28/Jul/2023 10:16:39] \"GET /socket.io/?EIO=4&transport=polling&t=OcTW3jh&sid=_3iR_jw-VYSPRybOAADy HTTP/1.1\" 200 -\n",
      "127.0.0.1 - - [28/Jul/2023 10:16:39] \"POST /socket.io/?EIO=4&transport=polling&t=OcTW9qY&sid=_3iR_jw-VYSPRybOAADy HTTP/1.1\" 200 -\n",
      "127.0.0.1 - - [28/Jul/2023 10:16:39] \"GET /socket.io/?EIO=4&transport=polling&t=OcTW3ll&sid=wgAY_77B4QFUHfFlAADz HTTP/1.1\" 200 -\n",
      "127.0.0.1 - - [28/Jul/2023 10:16:39] \"POST /socket.io/?EIO=4&transport=polling&t=OcTW9sX&sid=wgAY_77B4QFUHfFlAADz HTTP/1.1\" 200 -\n",
      "127.0.0.1 - - [28/Jul/2023 10:17:04] \"GET /socket.io/?EIO=4&transport=polling&t=OcTW9qZ&sid=_3iR_jw-VYSPRybOAADy HTTP/1.1\" 200 -\n",
      "127.0.0.1 - - [28/Jul/2023 10:17:04] \"POST /socket.io/?EIO=4&transport=polling&t=OcTWFxM&sid=_3iR_jw-VYSPRybOAADy HTTP/1.1\" 200 -\n",
      "127.0.0.1 - - [28/Jul/2023 10:17:04] \"GET /socket.io/?EIO=4&transport=polling&t=OcTW9sX.0&sid=wgAY_77B4QFUHfFlAADz HTTP/1.1\" 200 -\n",
      "127.0.0.1 - - [28/Jul/2023 10:17:04] \"POST /socket.io/?EIO=4&transport=polling&t=OcTWFzM&sid=wgAY_77B4QFUHfFlAADz HTTP/1.1\" 200 -\n",
      "127.0.0.1 - - [28/Jul/2023 10:17:29] \"GET /socket.io/?EIO=4&transport=polling&t=OcTWFxN&sid=_3iR_jw-VYSPRybOAADy HTTP/1.1\" 200 -\n",
      "127.0.0.1 - - [28/Jul/2023 10:17:29] \"POST /socket.io/?EIO=4&transport=polling&t=OcTWM2C&sid=_3iR_jw-VYSPRybOAADy HTTP/1.1\" 200 -\n",
      "127.0.0.1 - - [28/Jul/2023 10:17:29] \"GET /socket.io/?EIO=4&transport=polling&t=OcTWFzN&sid=wgAY_77B4QFUHfFlAADz HTTP/1.1\" 200 -\n",
      "127.0.0.1 - - [28/Jul/2023 10:17:29] \"POST /socket.io/?EIO=4&transport=polling&t=OcTWM46&sid=wgAY_77B4QFUHfFlAADz HTTP/1.1\" 200 -\n",
      "127.0.0.1 - - [28/Jul/2023 10:17:54] \"GET /socket.io/?EIO=4&transport=polling&t=OcTWM2D&sid=_3iR_jw-VYSPRybOAADy HTTP/1.1\" 200 -\n",
      "127.0.0.1 - - [28/Jul/2023 10:17:54] \"POST /socket.io/?EIO=4&transport=polling&t=OcTWS91&sid=_3iR_jw-VYSPRybOAADy HTTP/1.1\" 200 -\n",
      "127.0.0.1 - - [28/Jul/2023 10:17:54] \"GET /socket.io/?EIO=4&transport=polling&t=OcTWM47&sid=wgAY_77B4QFUHfFlAADz HTTP/1.1\" 200 -\n",
      "127.0.0.1 - - [28/Jul/2023 10:17:54] \"POST /socket.io/?EIO=4&transport=polling&t=OcTWSAv&sid=wgAY_77B4QFUHfFlAADz HTTP/1.1\" 200 -\n",
      "127.0.0.1 - - [28/Jul/2023 10:17:54] \"POST /socket.io/?EIO=4&transport=polling&t=OcTWSIO&sid=wgAY_77B4QFUHfFlAADz HTTP/1.1\" 200 -\n",
      "127.0.0.1 - - [28/Jul/2023 10:17:54] \"GET /socket.io/?EIO=4&transport=polling&t=OcTWSAw&sid=wgAY_77B4QFUHfFlAADz HTTP/1.1\" 200 -\n",
      "127.0.0.1 - - [28/Jul/2023 10:17:54] \"POST /socket.io/?EIO=4&transport=polling&t=OcTWSIR&sid=_3iR_jw-VYSPRybOAADy HTTP/1.1\" 200 -\n",
      "127.0.0.1 - - [28/Jul/2023 10:17:54] \"GET /socket.io/?EIO=4&transport=polling&t=OcTWS92&sid=_3iR_jw-VYSPRybOAADy HTTP/1.1\" 200 -\n",
      "127.0.0.1 - - [28/Jul/2023 10:17:56] \"GET /socket.io/?EIO=4&transport=polling&t=OcTWSlR HTTP/1.1\" 200 -\n",
      "127.0.0.1 - - [28/Jul/2023 10:17:56] \"GET /socket.io/?EIO=4&transport=polling&t=OcTWSlR HTTP/1.1\" 200 -\n",
      "127.0.0.1 - - [28/Jul/2023 10:17:56] \"POST /socket.io/?EIO=4&transport=polling&t=OcTWSla&sid=_q1WbRyE4pPCHfhbAAD2 HTTP/1.1\" 200 -\n",
      "127.0.0.1 - - [28/Jul/2023 10:17:56] \"GET /socket.io/?EIO=4&transport=polling&t=OcTWSlb&sid=_q1WbRyE4pPCHfhbAAD2 HTTP/1.1\" 200 -\n",
      "127.0.0.1 - - [28/Jul/2023 10:17:56] \"POST /socket.io/?EIO=4&transport=polling&t=OcTWSlk&sid=T6ALzhZbjKo9xi83AAD3 HTTP/1.1\" 200 -\n",
      "127.0.0.1 - - [28/Jul/2023 10:17:56] \"GET /socket.io/?EIO=4&transport=polling&t=OcTWSll&sid=T6ALzhZbjKo9xi83AAD3 HTTP/1.1\" 200 -\n",
      "127.0.0.1 - - [28/Jul/2023 10:18:41] \"GET /socket.io/?EIO=4&transport=polling&t=OcTWSls&sid=_q1WbRyE4pPCHfhbAAD2 HTTP/1.1\" 200 -\n",
      "127.0.0.1 - - [28/Jul/2023 10:18:41] \"POST /socket.io/?EIO=4&transport=polling&t=OcTWdjE&sid=_q1WbRyE4pPCHfhbAAD2 HTTP/1.1\" 200 -\n",
      "127.0.0.1 - - [28/Jul/2023 10:18:41] \"GET /socket.io/?EIO=4&transport=polling&t=OcTWSlx&sid=T6ALzhZbjKo9xi83AAD3 HTTP/1.1\" 200 -\n",
      "127.0.0.1 - - [28/Jul/2023 10:18:41] \"POST /socket.io/?EIO=4&transport=polling&t=OcTWdjP&sid=T6ALzhZbjKo9xi83AAD3 HTTP/1.1\" 200 -\n",
      "127.0.0.1 - - [28/Jul/2023 10:19:06] \"GET /socket.io/?EIO=4&transport=polling&t=OcTWdjF&sid=_q1WbRyE4pPCHfhbAAD2 HTTP/1.1\" 200 -\n",
      "127.0.0.1 - - [28/Jul/2023 10:19:06] \"GET /socket.io/?EIO=4&transport=polling&t=OcTWdjQ&sid=T6ALzhZbjKo9xi83AAD3 HTTP/1.1\" 200 -\n",
      "127.0.0.1 - - [28/Jul/2023 10:19:06] \"POST /socket.io/?EIO=4&transport=polling&t=OcTWjqN&sid=_q1WbRyE4pPCHfhbAAD2 HTTP/1.1\" 200 -\n",
      "127.0.0.1 - - [28/Jul/2023 10:19:06] \"POST /socket.io/?EIO=4&transport=polling&t=OcTWjqS&sid=T6ALzhZbjKo9xi83AAD3 HTTP/1.1\" 200 -\n",
      "127.0.0.1 - - [28/Jul/2023 10:49:27] \"GET /socket.io/?EIO=4&transport=polling&t=OcTWjqO&sid=_q1WbRyE4pPCHfhbAAD2 HTTP/1.1\" 200 -\n",
      "127.0.0.1 - - [28/Jul/2023 10:49:27] \"GET /socket.io/?EIO=4&transport=polling&t=OcTWjqT&sid=T6ALzhZbjKo9xi83AAD3 HTTP/1.1\" 200 -\n",
      "127.0.0.1 - - [28/Jul/2023 10:49:27] \"POST /socket.io/?EIO=4&transport=polling&t=OcTdgQO&sid=_q1WbRyE4pPCHfhbAAD2 HTTP/1.1\" 200 -\n",
      "127.0.0.1 - - [28/Jul/2023 10:49:27] \"POST /socket.io/?EIO=4&transport=polling&t=OcTdgQR&sid=T6ALzhZbjKo9xi83AAD3 HTTP/1.1\" 200 -\n",
      "127.0.0.1 - - [28/Jul/2023 10:49:52] \"GET /socket.io/?EIO=4&transport=polling&t=OcTdgQQ&sid=_q1WbRyE4pPCHfhbAAD2 HTTP/1.1\" 200 -\n",
      "127.0.0.1 - - [28/Jul/2023 10:49:52] \"GET /socket.io/?EIO=4&transport=polling&t=OcTdgQS&sid=T6ALzhZbjKo9xi83AAD3 HTTP/1.1\" 200 -\n",
      "127.0.0.1 - - [28/Jul/2023 10:49:52] \"POST /socket.io/?EIO=4&transport=polling&t=OcTdmdN&sid=_q1WbRyE4pPCHfhbAAD2 HTTP/1.1\" 200 -\n",
      "127.0.0.1 - - [28/Jul/2023 10:49:53] \"POST /socket.io/?EIO=4&transport=polling&t=OcTdmdV&sid=T6ALzhZbjKo9xi83AAD3 HTTP/1.1\" 200 -\n",
      "127.0.0.1 - - [28/Jul/2023 10:50:18] \"GET /socket.io/?EIO=4&transport=polling&t=OcTdmdQ&sid=_q1WbRyE4pPCHfhbAAD2 HTTP/1.1\" 200 -\n",
      "127.0.0.1 - - [28/Jul/2023 10:50:18] \"GET /socket.io/?EIO=4&transport=polling&t=OcTdmdX&sid=T6ALzhZbjKo9xi83AAD3 HTTP/1.1\" 200 -\n",
      "127.0.0.1 - - [28/Jul/2023 10:50:18] \"POST /socket.io/?EIO=4&transport=polling&t=OcTdskQ&sid=_q1WbRyE4pPCHfhbAAD2 HTTP/1.1\" 200 -\n",
      "127.0.0.1 - - [28/Jul/2023 10:50:18] \"POST /socket.io/?EIO=4&transport=polling&t=OcTdska&sid=T6ALzhZbjKo9xi83AAD3 HTTP/1.1\" 200 -\n",
      "127.0.0.1 - - [28/Jul/2023 10:50:43] \"GET /socket.io/?EIO=4&transport=polling&t=OcTdskS&sid=_q1WbRyE4pPCHfhbAAD2 HTTP/1.1\" 200 -\n",
      "127.0.0.1 - - [28/Jul/2023 10:50:43] \"POST /socket.io/?EIO=4&transport=polling&t=OcTdyrU&sid=_q1WbRyE4pPCHfhbAAD2 HTTP/1.1\" 200 -\n",
      "127.0.0.1 - - [28/Jul/2023 10:50:43] \"GET /socket.io/?EIO=4&transport=polling&t=OcTdskc&sid=T6ALzhZbjKo9xi83AAD3 HTTP/1.1\" 200 -\n",
      "127.0.0.1 - - [28/Jul/2023 10:50:43] \"POST /socket.io/?EIO=4&transport=polling&t=OcTdyrl&sid=T6ALzhZbjKo9xi83AAD3 HTTP/1.1\" 200 -\n",
      "127.0.0.1 - - [28/Jul/2023 10:51:08] \"GET /socket.io/?EIO=4&transport=polling&t=OcTdyrW&sid=_q1WbRyE4pPCHfhbAAD2 HTTP/1.1\" 200 -\n",
      "127.0.0.1 - - [28/Jul/2023 10:51:08] \"POST /socket.io/?EIO=4&transport=polling&t=OcTe2yJ&sid=_q1WbRyE4pPCHfhbAAD2 HTTP/1.1\" 200 -\n",
      "127.0.0.1 - - [28/Jul/2023 10:51:08] \"GET /socket.io/?EIO=4&transport=polling&t=OcTdyrm&sid=T6ALzhZbjKo9xi83AAD3 HTTP/1.1\" 200 -\n",
      "127.0.0.1 - - [28/Jul/2023 10:51:08] \"POST /socket.io/?EIO=4&transport=polling&t=OcTe2ya&sid=T6ALzhZbjKo9xi83AAD3 HTTP/1.1\" 200 -\n",
      "127.0.0.1 - - [28/Jul/2023 11:07:50] \"GET /socket.io/?EIO=4&transport=polling&t=OcTe2yL&sid=_q1WbRyE4pPCHfhbAAD2 HTTP/1.1\" 200 -\n",
      "127.0.0.1 - - [28/Jul/2023 11:07:51] \"GET /socket.io/?EIO=4&transport=polling&t=OcTe2yc&sid=T6ALzhZbjKo9xi83AAD3 HTTP/1.1\" 200 -\n",
      "127.0.0.1 - - [28/Jul/2023 11:07:51] \"POST /socket.io/?EIO=4&transport=polling&t=OcThtpU&sid=_q1WbRyE4pPCHfhbAAD2 HTTP/1.1\" 200 -\n",
      "127.0.0.1 - - [28/Jul/2023 11:07:51] \"POST /socket.io/?EIO=4&transport=polling&t=OcThtpr&sid=T6ALzhZbjKo9xi83AAD3 HTTP/1.1\" 200 -\n",
      "127.0.0.1 - - [28/Jul/2023 11:08:16] \"GET /socket.io/?EIO=4&transport=polling&t=OcThtpX&sid=_q1WbRyE4pPCHfhbAAD2 HTTP/1.1\" 200 -\n",
      "127.0.0.1 - - [28/Jul/2023 11:08:16] \"POST /socket.io/?EIO=4&transport=polling&t=OcThzwS&sid=_q1WbRyE4pPCHfhbAAD2 HTTP/1.1\" 200 -\n",
      "127.0.0.1 - - [28/Jul/2023 11:08:16] \"GET /socket.io/?EIO=4&transport=polling&t=OcThtpu&sid=T6ALzhZbjKo9xi83AAD3 HTTP/1.1\" 200 -\n",
      "127.0.0.1 - - [28/Jul/2023 11:08:16] \"POST /socket.io/?EIO=4&transport=polling&t=OcThzwp&sid=T6ALzhZbjKo9xi83AAD3 HTTP/1.1\" 200 -\n",
      "127.0.0.1 - - [28/Jul/2023 11:24:28] \"GET /socket.io/?EIO=4&transport=polling&t=OcThzwT&sid=_q1WbRyE4pPCHfhbAAD2 HTTP/1.1\" 200 -\n",
      "127.0.0.1 - - [28/Jul/2023 11:24:28] \"POST /socket.io/?EIO=4&transport=polling&t=OcTlhRk&sid=_q1WbRyE4pPCHfhbAAD2 HTTP/1.1\" 200 -\n",
      "127.0.0.1 - - [28/Jul/2023 11:24:28] \"GET /socket.io/?EIO=4&transport=polling&t=OcThzwq&sid=T6ALzhZbjKo9xi83AAD3 HTTP/1.1\" 200 -\n",
      "127.0.0.1 - - [28/Jul/2023 11:24:28] \"POST /socket.io/?EIO=4&transport=polling&t=OcTlhS8&sid=T6ALzhZbjKo9xi83AAD3 HTTP/1.1\" 200 -\n",
      "127.0.0.1 - - [28/Jul/2023 11:24:53] \"GET /socket.io/?EIO=4&transport=polling&t=OcTlhRn&sid=_q1WbRyE4pPCHfhbAAD2 HTTP/1.1\" 200 -\n",
      "127.0.0.1 - - [28/Jul/2023 11:24:53] \"POST /socket.io/?EIO=4&transport=polling&t=OcTlnYe&sid=_q1WbRyE4pPCHfhbAAD2 HTTP/1.1\" 200 -\n",
      "127.0.0.1 - - [28/Jul/2023 11:24:53] \"GET /socket.io/?EIO=4&transport=polling&t=OcTlhSB&sid=T6ALzhZbjKo9xi83AAD3 HTTP/1.1\" 200 -\n",
      "127.0.0.1 - - [28/Jul/2023 11:24:53] \"POST /socket.io/?EIO=4&transport=polling&t=OcTlnZ9&sid=T6ALzhZbjKo9xi83AAD3 HTTP/1.1\" 200 -\n",
      "127.0.0.1 - - [28/Jul/2023 11:52:16] \"GET /socket.io/?EIO=4&transport=polling&t=OcTlnYf&sid=_q1WbRyE4pPCHfhbAAD2 HTTP/1.1\" 200 -\n",
      "127.0.0.1 - - [28/Jul/2023 11:52:16] \"POST /socket.io/?EIO=4&transport=polling&t=OcTs2WL&sid=_q1WbRyE4pPCHfhbAAD2 HTTP/1.1\" 200 -\n",
      "127.0.0.1 - - [28/Jul/2023 11:52:16] \"GET /socket.io/?EIO=4&transport=polling&t=OcTlnZA&sid=T6ALzhZbjKo9xi83AAD3 HTTP/1.1\" 200 -\n",
      "127.0.0.1 - - [28/Jul/2023 11:52:16] \"POST /socket.io/?EIO=4&transport=polling&t=OcTs2W-&sid=T6ALzhZbjKo9xi83AAD3 HTTP/1.1\" 200 -\n",
      "127.0.0.1 - - [28/Jul/2023 11:52:41] \"GET /socket.io/?EIO=4&transport=polling&t=OcTs2WP&sid=_q1WbRyE4pPCHfhbAAD2 HTTP/1.1\" 200 -\n",
      "127.0.0.1 - - [28/Jul/2023 11:52:41] \"POST /socket.io/?EIO=4&transport=polling&t=OcTs8dO&sid=_q1WbRyE4pPCHfhbAAD2 HTTP/1.1\" 200 -\n",
      "127.0.0.1 - - [28/Jul/2023 11:52:41] \"GET /socket.io/?EIO=4&transport=polling&t=OcTs2X2&sid=T6ALzhZbjKo9xi83AAD3 HTTP/1.1\" 200 -\n",
      "127.0.0.1 - - [28/Jul/2023 11:52:41] \"POST /socket.io/?EIO=4&transport=polling&t=OcTs8e2&sid=T6ALzhZbjKo9xi83AAD3 HTTP/1.1\" 200 -\n",
      "127.0.0.1 - - [28/Jul/2023 12:19:34] \"GET /socket.io/?EIO=4&transport=polling&t=OcTs8dP&sid=_q1WbRyE4pPCHfhbAAD2 HTTP/1.1\" 200 -\n",
      "127.0.0.1 - - [28/Jul/2023 12:19:34] \"POST /socket.io/?EIO=4&transport=polling&t=OcTyIOr&sid=_q1WbRyE4pPCHfhbAAD2 HTTP/1.1\" 200 -\n",
      "127.0.0.1 - - [28/Jul/2023 12:19:34] \"GET /socket.io/?EIO=4&transport=polling&t=OcTs8e3&sid=T6ALzhZbjKo9xi83AAD3 HTTP/1.1\" 200 -\n",
      "127.0.0.1 - - [28/Jul/2023 12:19:34] \"POST /socket.io/?EIO=4&transport=polling&t=OcTyIPb&sid=T6ALzhZbjKo9xi83AAD3 HTTP/1.1\" 200 -\n",
      "127.0.0.1 - - [28/Jul/2023 12:19:59] \"GET /socket.io/?EIO=4&transport=polling&t=OcTyIOt&sid=_q1WbRyE4pPCHfhbAAD2 HTTP/1.1\" 200 -\n",
      "127.0.0.1 - - [28/Jul/2023 12:19:59] \"POST /socket.io/?EIO=4&transport=polling&t=OcTyOVp&sid=_q1WbRyE4pPCHfhbAAD2 HTTP/1.1\" 200 -\n",
      "127.0.0.1 - - [28/Jul/2023 12:19:59] \"GET /socket.io/?EIO=4&transport=polling&t=OcTyIPe&sid=T6ALzhZbjKo9xi83AAD3 HTTP/1.1\" 200 -\n",
      "127.0.0.1 - - [28/Jul/2023 12:19:59] \"POST /socket.io/?EIO=4&transport=polling&t=OcTyOWb&sid=T6ALzhZbjKo9xi83AAD3 HTTP/1.1\" 200 -\n",
      "127.0.0.1 - - [28/Jul/2023 13:40:47] \"GET /socket.io/?EIO=4&transport=polling&t=OcTyOVq&sid=_q1WbRyE4pPCHfhbAAD2 HTTP/1.1\" 200 -\n",
      "127.0.0.1 - - [28/Jul/2023 13:40:47] \"POST /socket.io/?EIO=4&transport=polling&t=OcUEuF1&sid=_q1WbRyE4pPCHfhbAAD2 HTTP/1.1\" 200 -\n",
      "127.0.0.1 - - [28/Jul/2023 13:40:47] \"GET /socket.io/?EIO=4&transport=polling&t=OcTyOWc&sid=T6ALzhZbjKo9xi83AAD3 HTTP/1.1\" 200 -\n",
      "127.0.0.1 - - [28/Jul/2023 13:40:47] \"POST /socket.io/?EIO=4&transport=polling&t=OcUEuFo&sid=T6ALzhZbjKo9xi83AAD3 HTTP/1.1\" 200 -\n",
      "127.0.0.1 - - [28/Jul/2023 13:41:12] \"GET /socket.io/?EIO=4&transport=polling&t=OcUEuF4&sid=_q1WbRyE4pPCHfhbAAD2 HTTP/1.1\" 200 -\n",
      "127.0.0.1 - - [28/Jul/2023 13:41:12] \"POST /socket.io/?EIO=4&transport=polling&t=OcUE-M6&sid=_q1WbRyE4pPCHfhbAAD2 HTTP/1.1\" 200 -\n",
      "127.0.0.1 - - [28/Jul/2023 13:41:12] \"GET /socket.io/?EIO=4&transport=polling&t=OcUEuFr&sid=T6ALzhZbjKo9xi83AAD3 HTTP/1.1\" 200 -\n",
      "127.0.0.1 - - [28/Jul/2023 13:41:12] \"POST /socket.io/?EIO=4&transport=polling&t=OcUE-Mm&sid=T6ALzhZbjKo9xi83AAD3 HTTP/1.1\" 200 -\n",
      "127.0.0.1 - - [28/Jul/2023 14:00:32] \"GET /socket.io/?EIO=4&transport=polling&t=OcUE-M7&sid=_q1WbRyE4pPCHfhbAAD2 HTTP/1.1\" 200 -\n",
      "127.0.0.1 - - [28/Jul/2023 14:00:32] \"POST /socket.io/?EIO=4&transport=polling&t=OcUJPQF&sid=_q1WbRyE4pPCHfhbAAD2 HTTP/1.1\" 200 -\n",
      "127.0.0.1 - - [28/Jul/2023 14:00:32] \"GET /socket.io/?EIO=4&transport=polling&t=OcUE-Mn&sid=T6ALzhZbjKo9xi83AAD3 HTTP/1.1\" 200 -\n",
      "127.0.0.1 - - [28/Jul/2023 14:00:32] \"POST /socket.io/?EIO=4&transport=polling&t=OcUJPQr&sid=T6ALzhZbjKo9xi83AAD3 HTTP/1.1\" 200 -\n",
      "127.0.0.1 - - [28/Jul/2023 14:00:57] \"GET /socket.io/?EIO=4&transport=polling&t=OcUJPQG&sid=_q1WbRyE4pPCHfhbAAD2 HTTP/1.1\" 200 -\n",
      "127.0.0.1 - - [28/Jul/2023 14:00:57] \"POST /socket.io/?EIO=4&transport=polling&t=OcUJVX3&sid=_q1WbRyE4pPCHfhbAAD2 HTTP/1.1\" 200 -\n",
      "127.0.0.1 - - [28/Jul/2023 14:00:57] \"GET /socket.io/?EIO=4&transport=polling&t=OcUJPQs&sid=T6ALzhZbjKo9xi83AAD3 HTTP/1.1\" 200 -\n",
      "127.0.0.1 - - [28/Jul/2023 14:00:57] \"POST /socket.io/?EIO=4&transport=polling&t=OcUJVXg&sid=T6ALzhZbjKo9xi83AAD3 HTTP/1.1\" 200 -\n",
      "127.0.0.1 - - [28/Jul/2023 14:01:22] \"GET /socket.io/?EIO=4&transport=polling&t=OcUJVX4&sid=_q1WbRyE4pPCHfhbAAD2 HTTP/1.1\" 200 -\n",
      "127.0.0.1 - - [28/Jul/2023 14:01:22] \"POST /socket.io/?EIO=4&transport=polling&t=OcUJbdv&sid=_q1WbRyE4pPCHfhbAAD2 HTTP/1.1\" 200 -\n",
      "127.0.0.1 - - [28/Jul/2023 14:01:22] \"GET /socket.io/?EIO=4&transport=polling&t=OcUJVXh&sid=T6ALzhZbjKo9xi83AAD3 HTTP/1.1\" 200 -\n",
      "127.0.0.1 - - [28/Jul/2023 14:01:22] \"POST /socket.io/?EIO=4&transport=polling&t=OcUJbeR&sid=T6ALzhZbjKo9xi83AAD3 HTTP/1.1\" 200 -\n",
      "127.0.0.1 - - [28/Jul/2023 14:01:47] \"GET /socket.io/?EIO=4&transport=polling&t=OcUJbdw&sid=_q1WbRyE4pPCHfhbAAD2 HTTP/1.1\" 200 -\n",
      "127.0.0.1 - - [28/Jul/2023 14:01:47] \"POST /socket.io/?EIO=4&transport=polling&t=OcUJhkk&sid=_q1WbRyE4pPCHfhbAAD2 HTTP/1.1\" 200 -\n",
      "127.0.0.1 - - [28/Jul/2023 14:01:47] \"GET /socket.io/?EIO=4&transport=polling&t=OcUJbeS&sid=T6ALzhZbjKo9xi83AAD3 HTTP/1.1\" 200 -\n",
      "127.0.0.1 - - [28/Jul/2023 14:01:47] \"POST /socket.io/?EIO=4&transport=polling&t=OcUJhlE&sid=T6ALzhZbjKo9xi83AAD3 HTTP/1.1\" 200 -\n",
      "127.0.0.1 - - [28/Jul/2023 14:02:12] \"GET /socket.io/?EIO=4&transport=polling&t=OcUJhkl&sid=_q1WbRyE4pPCHfhbAAD2 HTTP/1.1\" 200 -\n",
      "127.0.0.1 - - [28/Jul/2023 14:02:12] \"POST /socket.io/?EIO=4&transport=polling&t=OcUJnrX&sid=_q1WbRyE4pPCHfhbAAD2 HTTP/1.1\" 200 -\n",
      "127.0.0.1 - - [28/Jul/2023 14:02:12] \"GET /socket.io/?EIO=4&transport=polling&t=OcUJhlF&sid=T6ALzhZbjKo9xi83AAD3 HTTP/1.1\" 200 -\n",
      "127.0.0.1 - - [28/Jul/2023 14:02:12] \"POST /socket.io/?EIO=4&transport=polling&t=OcUJnrz&sid=T6ALzhZbjKo9xi83AAD3 HTTP/1.1\" 200 -\n",
      "127.0.0.1 - - [28/Jul/2023 14:02:37] \"GET /socket.io/?EIO=4&transport=polling&t=OcUJnrY&sid=_q1WbRyE4pPCHfhbAAD2 HTTP/1.1\" 200 -\n",
      "127.0.0.1 - - [28/Jul/2023 14:02:37] \"POST /socket.io/?EIO=4&transport=polling&t=OcUJtyN&sid=_q1WbRyE4pPCHfhbAAD2 HTTP/1.1\" 200 -\n",
      "127.0.0.1 - - [28/Jul/2023 14:02:37] \"GET /socket.io/?EIO=4&transport=polling&t=OcUJnr_&sid=T6ALzhZbjKo9xi83AAD3 HTTP/1.1\" 200 -\n",
      "127.0.0.1 - - [28/Jul/2023 14:02:37] \"POST /socket.io/?EIO=4&transport=polling&t=OcUJtyr&sid=T6ALzhZbjKo9xi83AAD3 HTTP/1.1\" 200 -\n",
      "127.0.0.1 - - [28/Jul/2023 14:03:02] \"GET /socket.io/?EIO=4&transport=polling&t=OcUJtyO&sid=_q1WbRyE4pPCHfhbAAD2 HTTP/1.1\" 200 -\n",
      "127.0.0.1 - - [28/Jul/2023 14:03:02] \"POST /socket.io/?EIO=4&transport=polling&t=OcUJ-3A&sid=_q1WbRyE4pPCHfhbAAD2 HTTP/1.1\" 200 -\n",
      "127.0.0.1 - - [28/Jul/2023 14:03:02] \"GET /socket.io/?EIO=4&transport=polling&t=OcUJtys&sid=T6ALzhZbjKo9xi83AAD3 HTTP/1.1\" 200 -\n",
      "127.0.0.1 - - [28/Jul/2023 14:03:02] \"POST /socket.io/?EIO=4&transport=polling&t=OcUJ-3h&sid=T6ALzhZbjKo9xi83AAD3 HTTP/1.1\" 200 -\n",
      "127.0.0.1 - - [28/Jul/2023 14:03:27] \"GET /socket.io/?EIO=4&transport=polling&t=OcUJ-3B&sid=_q1WbRyE4pPCHfhbAAD2 HTTP/1.1\" 200 -\n",
      "127.0.0.1 - - [28/Jul/2023 14:03:27] \"POST /socket.io/?EIO=4&transport=polling&t=OcUK49y&sid=_q1WbRyE4pPCHfhbAAD2 HTTP/1.1\" 200 -\n",
      "127.0.0.1 - - [28/Jul/2023 14:03:27] \"GET /socket.io/?EIO=4&transport=polling&t=OcUJ-3i&sid=T6ALzhZbjKo9xi83AAD3 HTTP/1.1\" 200 -\n",
      "127.0.0.1 - - [28/Jul/2023 14:03:27] \"POST /socket.io/?EIO=4&transport=polling&t=OcUK4AV&sid=T6ALzhZbjKo9xi83AAD3 HTTP/1.1\" 200 -\n",
      "127.0.0.1 - - [28/Jul/2023 14:03:52] \"GET /socket.io/?EIO=4&transport=polling&t=OcUK49z&sid=_q1WbRyE4pPCHfhbAAD2 HTTP/1.1\" 200 -\n",
      "127.0.0.1 - - [28/Jul/2023 14:03:52] \"POST /socket.io/?EIO=4&transport=polling&t=OcUKAGo&sid=_q1WbRyE4pPCHfhbAAD2 HTTP/1.1\" 200 -\n",
      "127.0.0.1 - - [28/Jul/2023 14:03:52] \"GET /socket.io/?EIO=4&transport=polling&t=OcUK4AW&sid=T6ALzhZbjKo9xi83AAD3 HTTP/1.1\" 200 -\n",
      "127.0.0.1 - - [28/Jul/2023 14:03:52] \"POST /socket.io/?EIO=4&transport=polling&t=OcUKAHI&sid=T6ALzhZbjKo9xi83AAD3 HTTP/1.1\" 200 -\n",
      "127.0.0.1 - - [28/Jul/2023 14:04:17] \"GET /socket.io/?EIO=4&transport=polling&t=OcUKAGp&sid=_q1WbRyE4pPCHfhbAAD2 HTTP/1.1\" 200 -\n",
      "127.0.0.1 - - [28/Jul/2023 14:04:17] \"POST /socket.io/?EIO=4&transport=polling&t=OcUKGNe&sid=_q1WbRyE4pPCHfhbAAD2 HTTP/1.1\" 200 -\n",
      "127.0.0.1 - - [28/Jul/2023 14:04:17] \"GET /socket.io/?EIO=4&transport=polling&t=OcUKAHJ&sid=T6ALzhZbjKo9xi83AAD3 HTTP/1.1\" 200 -\n",
      "127.0.0.1 - - [28/Jul/2023 14:04:17] \"POST /socket.io/?EIO=4&transport=polling&t=OcUKGO2&sid=T6ALzhZbjKo9xi83AAD3 HTTP/1.1\" 200 -\n",
      "127.0.0.1 - - [28/Jul/2023 14:04:42] \"GET /socket.io/?EIO=4&transport=polling&t=OcUKGNf&sid=_q1WbRyE4pPCHfhbAAD2 HTTP/1.1\" 200 -\n",
      "127.0.0.1 - - [28/Jul/2023 14:04:42] \"POST /socket.io/?EIO=4&transport=polling&t=OcUKMUS&sid=_q1WbRyE4pPCHfhbAAD2 HTTP/1.1\" 200 -\n",
      "127.0.0.1 - - [28/Jul/2023 14:04:42] \"GET /socket.io/?EIO=4&transport=polling&t=OcUKGO2.0&sid=T6ALzhZbjKo9xi83AAD3 HTTP/1.1\" 200 -\n",
      "127.0.0.1 - - [28/Jul/2023 14:04:42] \"POST /socket.io/?EIO=4&transport=polling&t=OcUKMUt&sid=T6ALzhZbjKo9xi83AAD3 HTTP/1.1\" 200 -\n",
      "127.0.0.1 - - [28/Jul/2023 14:05:07] \"GET /socket.io/?EIO=4&transport=polling&t=OcUKMUT&sid=_q1WbRyE4pPCHfhbAAD2 HTTP/1.1\" 200 -\n",
      "127.0.0.1 - - [28/Jul/2023 14:05:07] \"POST /socket.io/?EIO=4&transport=polling&t=OcUKSbD&sid=_q1WbRyE4pPCHfhbAAD2 HTTP/1.1\" 200 -\n",
      "127.0.0.1 - - [28/Jul/2023 14:05:07] \"GET /socket.io/?EIO=4&transport=polling&t=OcUKMUu&sid=T6ALzhZbjKo9xi83AAD3 HTTP/1.1\" 200 -\n",
      "127.0.0.1 - - [28/Jul/2023 14:05:07] \"POST /socket.io/?EIO=4&transport=polling&t=OcUKSbe&sid=T6ALzhZbjKo9xi83AAD3 HTTP/1.1\" 200 -\n",
      "127.0.0.1 - - [28/Jul/2023 14:05:32] \"GET /socket.io/?EIO=4&transport=polling&t=OcUKSbE&sid=_q1WbRyE4pPCHfhbAAD2 HTTP/1.1\" 200 -\n",
      "127.0.0.1 - - [28/Jul/2023 14:05:32] \"POST /socket.io/?EIO=4&transport=polling&t=OcUKYh-&sid=_q1WbRyE4pPCHfhbAAD2 HTTP/1.1\" 200 -\n",
      "127.0.0.1 - - [28/Jul/2023 14:05:32] \"GET /socket.io/?EIO=4&transport=polling&t=OcUKSbf&sid=T6ALzhZbjKo9xi83AAD3 HTTP/1.1\" 200 -\n",
      "127.0.0.1 - - [28/Jul/2023 14:05:32] \"POST /socket.io/?EIO=4&transport=polling&t=OcUKYiO&sid=T6ALzhZbjKo9xi83AAD3 HTTP/1.1\" 200 -\n",
      "127.0.0.1 - - [28/Jul/2023 14:05:57] \"GET /socket.io/?EIO=4&transport=polling&t=OcUKYh_&sid=_q1WbRyE4pPCHfhbAAD2 HTTP/1.1\" 200 -\n",
      "127.0.0.1 - - [28/Jul/2023 14:05:57] \"POST /socket.io/?EIO=4&transport=polling&t=OcUKeom&sid=_q1WbRyE4pPCHfhbAAD2 HTTP/1.1\" 200 -\n",
      "127.0.0.1 - - [28/Jul/2023 14:05:57] \"GET /socket.io/?EIO=4&transport=polling&t=OcUKYiP&sid=T6ALzhZbjKo9xi83AAD3 HTTP/1.1\" 200 -\n",
      "127.0.0.1 - - [28/Jul/2023 14:05:57] \"POST /socket.io/?EIO=4&transport=polling&t=OcUKepA&sid=T6ALzhZbjKo9xi83AAD3 HTTP/1.1\" 200 -\n",
      "127.0.0.1 - - [28/Jul/2023 14:06:22] \"GET /socket.io/?EIO=4&transport=polling&t=OcUKeon&sid=_q1WbRyE4pPCHfhbAAD2 HTTP/1.1\" 200 -\n",
      "127.0.0.1 - - [28/Jul/2023 14:06:22] \"POST /socket.io/?EIO=4&transport=polling&t=OcUKkvW&sid=_q1WbRyE4pPCHfhbAAD2 HTTP/1.1\" 200 -\n",
      "127.0.0.1 - - [28/Jul/2023 14:06:22] \"GET /socket.io/?EIO=4&transport=polling&t=OcUKepB&sid=T6ALzhZbjKo9xi83AAD3 HTTP/1.1\" 200 -\n",
      "127.0.0.1 - - [28/Jul/2023 14:06:22] \"POST /socket.io/?EIO=4&transport=polling&t=OcUKkv_&sid=T6ALzhZbjKo9xi83AAD3 HTTP/1.1\" 200 -\n",
      "127.0.0.1 - - [28/Jul/2023 14:06:47] \"GET /socket.io/?EIO=4&transport=polling&t=OcUKkvX&sid=_q1WbRyE4pPCHfhbAAD2 HTTP/1.1\" 200 -\n",
      "127.0.0.1 - - [28/Jul/2023 14:06:47] \"POST /socket.io/?EIO=4&transport=polling&t=OcUKr0I&sid=_q1WbRyE4pPCHfhbAAD2 HTTP/1.1\" 200 -\n",
      "127.0.0.1 - - [28/Jul/2023 14:06:47] \"GET /socket.io/?EIO=4&transport=polling&t=OcUKkw0&sid=T6ALzhZbjKo9xi83AAD3 HTTP/1.1\" 200 -\n",
      "127.0.0.1 - - [28/Jul/2023 14:06:47] \"POST /socket.io/?EIO=4&transport=polling&t=OcUKr0p&sid=T6ALzhZbjKo9xi83AAD3 HTTP/1.1\" 200 -\n",
      "127.0.0.1 - - [28/Jul/2023 14:07:12] \"GET /socket.io/?EIO=4&transport=polling&t=OcUKr0J&sid=_q1WbRyE4pPCHfhbAAD2 HTTP/1.1\" 200 -\n",
      "127.0.0.1 - - [28/Jul/2023 14:07:12] \"POST /socket.io/?EIO=4&transport=polling&t=OcUKx78&sid=_q1WbRyE4pPCHfhbAAD2 HTTP/1.1\" 200 -\n",
      "127.0.0.1 - - [28/Jul/2023 14:07:12] \"GET /socket.io/?EIO=4&transport=polling&t=OcUKr0p.0&sid=T6ALzhZbjKo9xi83AAD3 HTTP/1.1\" 200 -\n",
      "127.0.0.1 - - [28/Jul/2023 14:07:12] \"POST /socket.io/?EIO=4&transport=polling&t=OcUKx7c&sid=T6ALzhZbjKo9xi83AAD3 HTTP/1.1\" 200 -\n",
      "127.0.0.1 - - [28/Jul/2023 14:07:37] \"GET /socket.io/?EIO=4&transport=polling&t=OcUKx7A&sid=_q1WbRyE4pPCHfhbAAD2 HTTP/1.1\" 200 -\n",
      "127.0.0.1 - - [28/Jul/2023 14:07:37] \"POST /socket.io/?EIO=4&transport=polling&t=OcUL1Dy&sid=_q1WbRyE4pPCHfhbAAD2 HTTP/1.1\" 200 -\n",
      "127.0.0.1 - - [28/Jul/2023 14:07:37] \"GET /socket.io/?EIO=4&transport=polling&t=OcUKx7c.0&sid=T6ALzhZbjKo9xi83AAD3 HTTP/1.1\" 200 -\n",
      "127.0.0.1 - - [28/Jul/2023 14:07:37] \"POST /socket.io/?EIO=4&transport=polling&t=OcUL1EQ&sid=T6ALzhZbjKo9xi83AAD3 HTTP/1.1\" 200 -\n",
      "127.0.0.1 - - [28/Jul/2023 14:08:02] \"GET /socket.io/?EIO=4&transport=polling&t=OcUL1Dz&sid=_q1WbRyE4pPCHfhbAAD2 HTTP/1.1\" 200 -\n",
      "127.0.0.1 - - [28/Jul/2023 14:08:02] \"POST /socket.io/?EIO=4&transport=polling&t=OcUL7Km&sid=_q1WbRyE4pPCHfhbAAD2 HTTP/1.1\" 200 -\n",
      "127.0.0.1 - - [28/Jul/2023 14:08:02] \"GET /socket.io/?EIO=4&transport=polling&t=OcUL1ER&sid=T6ALzhZbjKo9xi83AAD3 HTTP/1.1\" 200 -\n",
      "127.0.0.1 - - [28/Jul/2023 14:08:02] \"POST /socket.io/?EIO=4&transport=polling&t=OcUL7LC&sid=T6ALzhZbjKo9xi83AAD3 HTTP/1.1\" 200 -\n",
      "127.0.0.1 - - [28/Jul/2023 14:08:27] \"GET /socket.io/?EIO=4&transport=polling&t=OcUL7Kn&sid=_q1WbRyE4pPCHfhbAAD2 HTTP/1.1\" 200 -\n",
      "127.0.0.1 - - [28/Jul/2023 14:08:27] \"POST /socket.io/?EIO=4&transport=polling&t=OcULDRb&sid=_q1WbRyE4pPCHfhbAAD2 HTTP/1.1\" 200 -\n",
      "127.0.0.1 - - [28/Jul/2023 14:08:27] \"GET /socket.io/?EIO=4&transport=polling&t=OcUL7LD&sid=T6ALzhZbjKo9xi83AAD3 HTTP/1.1\" 200 -\n",
      "127.0.0.1 - - [28/Jul/2023 14:08:27] \"POST /socket.io/?EIO=4&transport=polling&t=OcULDR_&sid=T6ALzhZbjKo9xi83AAD3 HTTP/1.1\" 200 -\n",
      "127.0.0.1 - - [28/Jul/2023 14:08:52] \"GET /socket.io/?EIO=4&transport=polling&t=OcULDRc&sid=_q1WbRyE4pPCHfhbAAD2 HTTP/1.1\" 200 -\n",
      "127.0.0.1 - - [28/Jul/2023 14:08:52] \"POST /socket.io/?EIO=4&transport=polling&t=OcULJYN&sid=_q1WbRyE4pPCHfhbAAD2 HTTP/1.1\" 200 -\n",
      "127.0.0.1 - - [28/Jul/2023 14:08:52] \"GET /socket.io/?EIO=4&transport=polling&t=OcULDS0&sid=T6ALzhZbjKo9xi83AAD3 HTTP/1.1\" 200 -\n",
      "127.0.0.1 - - [28/Jul/2023 14:08:52] \"POST /socket.io/?EIO=4&transport=polling&t=OcULJYr&sid=T6ALzhZbjKo9xi83AAD3 HTTP/1.1\" 200 -\n",
      "127.0.0.1 - - [28/Jul/2023 14:09:17] \"GET /socket.io/?EIO=4&transport=polling&t=OcULJYO&sid=_q1WbRyE4pPCHfhbAAD2 HTTP/1.1\" 200 -\n",
      "127.0.0.1 - - [28/Jul/2023 14:09:17] \"POST /socket.io/?EIO=4&transport=polling&t=OcULPfK&sid=_q1WbRyE4pPCHfhbAAD2 HTTP/1.1\" 200 -\n",
      "127.0.0.1 - - [28/Jul/2023 14:09:17] \"GET /socket.io/?EIO=4&transport=polling&t=OcULJYs&sid=T6ALzhZbjKo9xi83AAD3 HTTP/1.1\" 200 -\n",
      "127.0.0.1 - - [28/Jul/2023 14:09:17] \"POST /socket.io/?EIO=4&transport=polling&t=OcULPff&sid=T6ALzhZbjKo9xi83AAD3 HTTP/1.1\" 200 -\n",
      "127.0.0.1 - - [28/Jul/2023 14:09:42] \"GET /socket.io/?EIO=4&transport=polling&t=OcULPfL&sid=_q1WbRyE4pPCHfhbAAD2 HTTP/1.1\" 200 -\n",
      "127.0.0.1 - - [28/Jul/2023 14:09:42] \"POST /socket.io/?EIO=4&transport=polling&t=OcULVm6&sid=_q1WbRyE4pPCHfhbAAD2 HTTP/1.1\" 200 -\n",
      "127.0.0.1 - - [28/Jul/2023 14:09:42] \"GET /socket.io/?EIO=4&transport=polling&t=OcULPfg&sid=T6ALzhZbjKo9xi83AAD3 HTTP/1.1\" 200 -\n",
      "127.0.0.1 - - [28/Jul/2023 14:09:42] \"POST /socket.io/?EIO=4&transport=polling&t=OcULVmX&sid=T6ALzhZbjKo9xi83AAD3 HTTP/1.1\" 200 -\n",
      "127.0.0.1 - - [28/Jul/2023 14:10:07] \"GET /socket.io/?EIO=4&transport=polling&t=OcULVm7&sid=_q1WbRyE4pPCHfhbAAD2 HTTP/1.1\" 200 -\n",
      "127.0.0.1 - - [28/Jul/2023 14:10:07] \"POST /socket.io/?EIO=4&transport=polling&t=OcULbsu&sid=_q1WbRyE4pPCHfhbAAD2 HTTP/1.1\" 200 -\n",
      "127.0.0.1 - - [28/Jul/2023 14:10:07] \"GET /socket.io/?EIO=4&transport=polling&t=OcULVmY&sid=T6ALzhZbjKo9xi83AAD3 HTTP/1.1\" 200 -\n",
      "127.0.0.1 - - [28/Jul/2023 14:10:07] \"POST /socket.io/?EIO=4&transport=polling&t=OcULbtI&sid=T6ALzhZbjKo9xi83AAD3 HTTP/1.1\" 200 -\n",
      "127.0.0.1 - - [28/Jul/2023 14:10:32] \"GET /socket.io/?EIO=4&transport=polling&t=OcULbsv&sid=_q1WbRyE4pPCHfhbAAD2 HTTP/1.1\" 200 -\n",
      "127.0.0.1 - - [28/Jul/2023 14:10:32] \"POST /socket.io/?EIO=4&transport=polling&t=OcULhzg&sid=_q1WbRyE4pPCHfhbAAD2 HTTP/1.1\" 200 -\n",
      "127.0.0.1 - - [28/Jul/2023 14:10:32] \"GET /socket.io/?EIO=4&transport=polling&t=OcULbtJ&sid=T6ALzhZbjKo9xi83AAD3 HTTP/1.1\" 200 -\n",
      "127.0.0.1 - - [28/Jul/2023 14:10:32] \"POST /socket.io/?EIO=4&transport=polling&t=OcULh-3&sid=T6ALzhZbjKo9xi83AAD3 HTTP/1.1\" 200 -\n",
      "127.0.0.1 - - [28/Jul/2023 14:10:57] \"GET /socket.io/?EIO=4&transport=polling&t=OcULhzh&sid=_q1WbRyE4pPCHfhbAAD2 HTTP/1.1\" 200 -\n",
      "127.0.0.1 - - [28/Jul/2023 14:10:57] \"POST /socket.io/?EIO=4&transport=polling&t=OcULo4W&sid=_q1WbRyE4pPCHfhbAAD2 HTTP/1.1\" 200 -\n",
      "127.0.0.1 - - [28/Jul/2023 14:10:57] \"GET /socket.io/?EIO=4&transport=polling&t=OcULh-4&sid=T6ALzhZbjKo9xi83AAD3 HTTP/1.1\" 200 -\n",
      "127.0.0.1 - - [28/Jul/2023 14:10:57] \"POST /socket.io/?EIO=4&transport=polling&t=OcULo4s&sid=T6ALzhZbjKo9xi83AAD3 HTTP/1.1\" 200 -\n",
      "127.0.0.1 - - [28/Jul/2023 14:11:22] \"GET /socket.io/?EIO=4&transport=polling&t=OcULo4X&sid=_q1WbRyE4pPCHfhbAAD2 HTTP/1.1\" 200 -\n",
      "127.0.0.1 - - [28/Jul/2023 14:11:22] \"POST /socket.io/?EIO=4&transport=polling&t=OcULuBK&sid=_q1WbRyE4pPCHfhbAAD2 HTTP/1.1\" 200 -\n",
      "127.0.0.1 - - [28/Jul/2023 14:11:22] \"GET /socket.io/?EIO=4&transport=polling&t=OcULo4s.0&sid=T6ALzhZbjKo9xi83AAD3 HTTP/1.1\" 200 -\n",
      "127.0.0.1 - - [28/Jul/2023 14:11:22] \"POST /socket.io/?EIO=4&transport=polling&t=OcULuBb&sid=T6ALzhZbjKo9xi83AAD3 HTTP/1.1\" 200 -\n",
      "127.0.0.1 - - [28/Jul/2023 14:11:47] \"GET /socket.io/?EIO=4&transport=polling&t=OcULuBL&sid=_q1WbRyE4pPCHfhbAAD2 HTTP/1.1\" 200 -\n",
      "127.0.0.1 - - [28/Jul/2023 14:11:47] \"POST /socket.io/?EIO=4&transport=polling&t=OcUL-I5&sid=_q1WbRyE4pPCHfhbAAD2 HTTP/1.1\" 200 -\n",
      "127.0.0.1 - - [28/Jul/2023 14:11:47] \"GET /socket.io/?EIO=4&transport=polling&t=OcULuBc&sid=T6ALzhZbjKo9xi83AAD3 HTTP/1.1\" 200 -\n",
      "127.0.0.1 - - [28/Jul/2023 14:11:47] \"POST /socket.io/?EIO=4&transport=polling&t=OcUL-IP&sid=T6ALzhZbjKo9xi83AAD3 HTTP/1.1\" 200 -\n",
      "127.0.0.1 - - [28/Jul/2023 14:12:12] \"GET /socket.io/?EIO=4&transport=polling&t=OcUL-I6&sid=_q1WbRyE4pPCHfhbAAD2 HTTP/1.1\" 200 -\n",
      "127.0.0.1 - - [28/Jul/2023 14:12:12] \"POST /socket.io/?EIO=4&transport=polling&t=OcUM4Os&sid=_q1WbRyE4pPCHfhbAAD2 HTTP/1.1\" 200 -\n",
      "127.0.0.1 - - [28/Jul/2023 14:12:12] \"GET /socket.io/?EIO=4&transport=polling&t=OcUL-IQ&sid=T6ALzhZbjKo9xi83AAD3 HTTP/1.1\" 200 -\n",
      "127.0.0.1 - - [28/Jul/2023 14:12:12] \"POST /socket.io/?EIO=4&transport=polling&t=OcUM4PC&sid=T6ALzhZbjKo9xi83AAD3 HTTP/1.1\" 200 -\n",
      "127.0.0.1 - - [28/Jul/2023 14:12:37] \"GET /socket.io/?EIO=4&transport=polling&t=OcUM4Ot&sid=_q1WbRyE4pPCHfhbAAD2 HTTP/1.1\" 200 -\n",
      "127.0.0.1 - - [28/Jul/2023 14:12:37] \"POST /socket.io/?EIO=4&transport=polling&t=OcUMAVe&sid=_q1WbRyE4pPCHfhbAAD2 HTTP/1.1\" 200 -\n",
      "127.0.0.1 - - [28/Jul/2023 14:12:37] \"GET /socket.io/?EIO=4&transport=polling&t=OcUM4PD&sid=T6ALzhZbjKo9xi83AAD3 HTTP/1.1\" 200 -\n",
      "127.0.0.1 - - [28/Jul/2023 14:12:37] \"POST /socket.io/?EIO=4&transport=polling&t=OcUMAW2&sid=T6ALzhZbjKo9xi83AAD3 HTTP/1.1\" 200 -\n",
      "127.0.0.1 - - [28/Jul/2023 14:13:02] \"GET /socket.io/?EIO=4&transport=polling&t=OcUMAVf&sid=_q1WbRyE4pPCHfhbAAD2 HTTP/1.1\" 200 -\n",
      "127.0.0.1 - - [28/Jul/2023 14:13:02] \"POST /socket.io/?EIO=4&transport=polling&t=OcUMGcU&sid=_q1WbRyE4pPCHfhbAAD2 HTTP/1.1\" 200 -\n",
      "127.0.0.1 - - [28/Jul/2023 14:13:02] \"GET /socket.io/?EIO=4&transport=polling&t=OcUMAW3&sid=T6ALzhZbjKo9xi83AAD3 HTTP/1.1\" 200 -\n",
      "127.0.0.1 - - [28/Jul/2023 14:13:02] \"POST /socket.io/?EIO=4&transport=polling&t=OcUMGcp&sid=T6ALzhZbjKo9xi83AAD3 HTTP/1.1\" 200 -\n",
      "127.0.0.1 - - [28/Jul/2023 14:13:27] \"GET /socket.io/?EIO=4&transport=polling&t=OcUMGcV&sid=_q1WbRyE4pPCHfhbAAD2 HTTP/1.1\" 200 -\n",
      "127.0.0.1 - - [28/Jul/2023 14:13:27] \"POST /socket.io/?EIO=4&transport=polling&t=OcUMMjF&sid=_q1WbRyE4pPCHfhbAAD2 HTTP/1.1\" 200 -\n",
      "127.0.0.1 - - [28/Jul/2023 14:13:27] \"GET /socket.io/?EIO=4&transport=polling&t=OcUMGcq&sid=T6ALzhZbjKo9xi83AAD3 HTTP/1.1\" 200 -\n",
      "127.0.0.1 - - [28/Jul/2023 14:13:27] \"POST /socket.io/?EIO=4&transport=polling&t=OcUMMjh&sid=T6ALzhZbjKo9xi83AAD3 HTTP/1.1\" 200 -\n",
      "127.0.0.1 - - [28/Jul/2023 14:13:52] \"GET /socket.io/?EIO=4&transport=polling&t=OcUMMjG&sid=_q1WbRyE4pPCHfhbAAD2 HTTP/1.1\" 200 -\n",
      "127.0.0.1 - - [28/Jul/2023 14:13:52] \"POST /socket.io/?EIO=4&transport=polling&t=OcUMSq5&sid=_q1WbRyE4pPCHfhbAAD2 HTTP/1.1\" 200 -\n",
      "127.0.0.1 - - [28/Jul/2023 14:13:52] \"GET /socket.io/?EIO=4&transport=polling&t=OcUMMji&sid=T6ALzhZbjKo9xi83AAD3 HTTP/1.1\" 200 -\n",
      "127.0.0.1 - - [28/Jul/2023 14:13:52] \"POST /socket.io/?EIO=4&transport=polling&t=OcUMSqb&sid=T6ALzhZbjKo9xi83AAD3 HTTP/1.1\" 200 -\n",
      "127.0.0.1 - - [28/Jul/2023 14:14:17] \"GET /socket.io/?EIO=4&transport=polling&t=OcUMSq6&sid=_q1WbRyE4pPCHfhbAAD2 HTTP/1.1\" 200 -\n",
      "127.0.0.1 - - [28/Jul/2023 14:14:17] \"POST /socket.io/?EIO=4&transport=polling&t=OcUMYws&sid=_q1WbRyE4pPCHfhbAAD2 HTTP/1.1\" 200 -\n",
      "127.0.0.1 - - [28/Jul/2023 14:14:17] \"GET /socket.io/?EIO=4&transport=polling&t=OcUMSqc&sid=T6ALzhZbjKo9xi83AAD3 HTTP/1.1\" 200 -\n",
      "127.0.0.1 - - [28/Jul/2023 14:14:17] \"POST /socket.io/?EIO=4&transport=polling&t=OcUMYxM&sid=T6ALzhZbjKo9xi83AAD3 HTTP/1.1\" 200 -\n",
      "127.0.0.1 - - [28/Jul/2023 14:14:42] \"GET /socket.io/?EIO=4&transport=polling&t=OcUMYwt&sid=_q1WbRyE4pPCHfhbAAD2 HTTP/1.1\" 200 -\n",
      "127.0.0.1 - - [28/Jul/2023 14:14:42] \"POST /socket.io/?EIO=4&transport=polling&t=OcUMf1i&sid=_q1WbRyE4pPCHfhbAAD2 HTTP/1.1\" 200 -\n",
      "127.0.0.1 - - [28/Jul/2023 14:14:42] \"GET /socket.io/?EIO=4&transport=polling&t=OcUMYxN&sid=T6ALzhZbjKo9xi83AAD3 HTTP/1.1\" 200 -\n",
      "127.0.0.1 - - [28/Jul/2023 14:14:42] \"POST /socket.io/?EIO=4&transport=polling&t=OcUMf2B&sid=T6ALzhZbjKo9xi83AAD3 HTTP/1.1\" 200 -\n",
      "127.0.0.1 - - [28/Jul/2023 14:15:07] \"GET /socket.io/?EIO=4&transport=polling&t=OcUMf1j&sid=_q1WbRyE4pPCHfhbAAD2 HTTP/1.1\" 200 -\n",
      "127.0.0.1 - - [28/Jul/2023 14:15:07] \"POST /socket.io/?EIO=4&transport=polling&t=OcUMl8b&sid=_q1WbRyE4pPCHfhbAAD2 HTTP/1.1\" 200 -\n",
      "127.0.0.1 - - [28/Jul/2023 14:15:07] \"GET /socket.io/?EIO=4&transport=polling&t=OcUMf2C&sid=T6ALzhZbjKo9xi83AAD3 HTTP/1.1\" 200 -\n",
      "127.0.0.1 - - [28/Jul/2023 14:15:07] \"POST /socket.io/?EIO=4&transport=polling&t=OcUMl8z&sid=T6ALzhZbjKo9xi83AAD3 HTTP/1.1\" 200 -\n",
      "127.0.0.1 - - [28/Jul/2023 14:15:32] \"GET /socket.io/?EIO=4&transport=polling&t=OcUMl8c&sid=_q1WbRyE4pPCHfhbAAD2 HTTP/1.1\" 200 -\n",
      "127.0.0.1 - - [28/Jul/2023 14:15:32] \"POST /socket.io/?EIO=4&transport=polling&t=OcUMrFU&sid=_q1WbRyE4pPCHfhbAAD2 HTTP/1.1\" 200 -\n",
      "127.0.0.1 - - [28/Jul/2023 14:15:32] \"GET /socket.io/?EIO=4&transport=polling&t=OcUMl8-&sid=T6ALzhZbjKo9xi83AAD3 HTTP/1.1\" 200 -\n",
      "127.0.0.1 - - [28/Jul/2023 14:15:32] \"POST /socket.io/?EIO=4&transport=polling&t=OcUMrFm&sid=T6ALzhZbjKo9xi83AAD3 HTTP/1.1\" 200 -\n",
      "127.0.0.1 - - [28/Jul/2023 14:15:57] \"GET /socket.io/?EIO=4&transport=polling&t=OcUMrFV&sid=_q1WbRyE4pPCHfhbAAD2 HTTP/1.1\" 200 -\n",
      "127.0.0.1 - - [28/Jul/2023 14:15:57] \"POST /socket.io/?EIO=4&transport=polling&t=OcUMxMH&sid=_q1WbRyE4pPCHfhbAAD2 HTTP/1.1\" 200 -\n",
      "127.0.0.1 - - [28/Jul/2023 14:15:57] \"GET /socket.io/?EIO=4&transport=polling&t=OcUMrFn&sid=T6ALzhZbjKo9xi83AAD3 HTTP/1.1\" 200 -\n",
      "127.0.0.1 - - [28/Jul/2023 14:15:57] \"POST /socket.io/?EIO=4&transport=polling&t=OcUMxMb&sid=T6ALzhZbjKo9xi83AAD3 HTTP/1.1\" 200 -\n",
      "127.0.0.1 - - [28/Jul/2023 14:16:22] \"GET /socket.io/?EIO=4&transport=polling&t=OcUMxMI&sid=_q1WbRyE4pPCHfhbAAD2 HTTP/1.1\" 200 -\n",
      "127.0.0.1 - - [28/Jul/2023 14:16:22] \"POST /socket.io/?EIO=4&transport=polling&t=OcUN1T7&sid=_q1WbRyE4pPCHfhbAAD2 HTTP/1.1\" 200 -\n",
      "127.0.0.1 - - [28/Jul/2023 14:16:22] \"GET /socket.io/?EIO=4&transport=polling&t=OcUMxMc&sid=T6ALzhZbjKo9xi83AAD3 HTTP/1.1\" 200 -\n",
      "127.0.0.1 - - [28/Jul/2023 14:16:22] \"POST /socket.io/?EIO=4&transport=polling&t=OcUN1TP&sid=T6ALzhZbjKo9xi83AAD3 HTTP/1.1\" 200 -\n",
      "127.0.0.1 - - [28/Jul/2023 14:16:47] \"GET /socket.io/?EIO=4&transport=polling&t=OcUN1T8&sid=_q1WbRyE4pPCHfhbAAD2 HTTP/1.1\" 200 -\n",
      "127.0.0.1 - - [28/Jul/2023 14:16:47] \"POST /socket.io/?EIO=4&transport=polling&t=OcUN7Zy&sid=_q1WbRyE4pPCHfhbAAD2 HTTP/1.1\" 200 -\n",
      "127.0.0.1 - - [28/Jul/2023 14:16:47] \"GET /socket.io/?EIO=4&transport=polling&t=OcUN1TQ&sid=T6ALzhZbjKo9xi83AAD3 HTTP/1.1\" 200 -\n",
      "127.0.0.1 - - [28/Jul/2023 14:16:47] \"POST /socket.io/?EIO=4&transport=polling&t=OcUN7aA&sid=T6ALzhZbjKo9xi83AAD3 HTTP/1.1\" 200 -\n",
      "127.0.0.1 - - [28/Jul/2023 14:17:12] \"GET /socket.io/?EIO=4&transport=polling&t=OcUN7Zz&sid=_q1WbRyE4pPCHfhbAAD2 HTTP/1.1\" 200 -\n",
      "127.0.0.1 - - [28/Jul/2023 14:17:12] \"POST /socket.io/?EIO=4&transport=polling&t=OcUNDgn&sid=_q1WbRyE4pPCHfhbAAD2 HTTP/1.1\" 200 -\n",
      "127.0.0.1 - - [28/Jul/2023 14:17:12] \"GET /socket.io/?EIO=4&transport=polling&t=OcUN7aB&sid=T6ALzhZbjKo9xi83AAD3 HTTP/1.1\" 200 -\n",
      "127.0.0.1 - - [28/Jul/2023 14:17:12] \"POST /socket.io/?EIO=4&transport=polling&t=OcUNDhU&sid=T6ALzhZbjKo9xi83AAD3 HTTP/1.1\" 200 -\n",
      "127.0.0.1 - - [28/Jul/2023 14:17:37] \"GET /socket.io/?EIO=4&transport=polling&t=OcUNDgo&sid=_q1WbRyE4pPCHfhbAAD2 HTTP/1.1\" 200 -\n",
      "127.0.0.1 - - [28/Jul/2023 14:17:37] \"POST /socket.io/?EIO=4&transport=polling&t=OcUNJne&sid=_q1WbRyE4pPCHfhbAAD2 HTTP/1.1\" 200 -\n",
      "127.0.0.1 - - [28/Jul/2023 14:17:37] \"GET /socket.io/?EIO=4&transport=polling&t=OcUNDhV&sid=T6ALzhZbjKo9xi83AAD3 HTTP/1.1\" 200 -\n",
      "127.0.0.1 - - [28/Jul/2023 14:17:37] \"POST /socket.io/?EIO=4&transport=polling&t=OcUNJoU&sid=T6ALzhZbjKo9xi83AAD3 HTTP/1.1\" 200 -\n",
      "127.0.0.1 - - [28/Jul/2023 14:18:02] \"GET /socket.io/?EIO=4&transport=polling&t=OcUNJnf&sid=_q1WbRyE4pPCHfhbAAD2 HTTP/1.1\" 200 -\n",
      "127.0.0.1 - - [28/Jul/2023 14:18:02] \"POST /socket.io/?EIO=4&transport=polling&t=OcUNPuU&sid=_q1WbRyE4pPCHfhbAAD2 HTTP/1.1\" 200 -\n",
      "127.0.0.1 - - [28/Jul/2023 14:18:02] \"GET /socket.io/?EIO=4&transport=polling&t=OcUNJoV&sid=T6ALzhZbjKo9xi83AAD3 HTTP/1.1\" 200 -\n",
      "127.0.0.1 - - [28/Jul/2023 14:18:02] \"POST /socket.io/?EIO=4&transport=polling&t=OcUNPvL&sid=T6ALzhZbjKo9xi83AAD3 HTTP/1.1\" 200 -\n",
      "127.0.0.1 - - [28/Jul/2023 14:18:27] \"GET /socket.io/?EIO=4&transport=polling&t=OcUNPuV&sid=_q1WbRyE4pPCHfhbAAD2 HTTP/1.1\" 200 -\n",
      "127.0.0.1 - - [28/Jul/2023 14:18:27] \"POST /socket.io/?EIO=4&transport=polling&t=OcUNV_K&sid=_q1WbRyE4pPCHfhbAAD2 HTTP/1.1\" 200 -\n",
      "127.0.0.1 - - [28/Jul/2023 14:18:27] \"GET /socket.io/?EIO=4&transport=polling&t=OcUNPvM&sid=T6ALzhZbjKo9xi83AAD3 HTTP/1.1\" 200 -\n",
      "127.0.0.1 - - [28/Jul/2023 14:18:27] \"POST /socket.io/?EIO=4&transport=polling&t=OcUNW06&sid=T6ALzhZbjKo9xi83AAD3 HTTP/1.1\" 200 -\n",
      "127.0.0.1 - - [28/Jul/2023 14:18:52] \"GET /socket.io/?EIO=4&transport=polling&t=OcUNV_L&sid=_q1WbRyE4pPCHfhbAAD2 HTTP/1.1\" 200 -\n",
      "127.0.0.1 - - [28/Jul/2023 14:18:52] \"POST /socket.io/?EIO=4&transport=polling&t=OcUNc64&sid=_q1WbRyE4pPCHfhbAAD2 HTTP/1.1\" 200 -\n",
      "127.0.0.1 - - [28/Jul/2023 14:18:52] \"GET /socket.io/?EIO=4&transport=polling&t=OcUNW07&sid=T6ALzhZbjKo9xi83AAD3 HTTP/1.1\" 200 -\n",
      "127.0.0.1 - - [28/Jul/2023 14:18:52] \"POST /socket.io/?EIO=4&transport=polling&t=OcUNc6v&sid=T6ALzhZbjKo9xi83AAD3 HTTP/1.1\" 200 -\n",
      "127.0.0.1 - - [28/Jul/2023 14:19:17] \"GET /socket.io/?EIO=4&transport=polling&t=OcUNc65&sid=_q1WbRyE4pPCHfhbAAD2 HTTP/1.1\" 200 -\n",
      "127.0.0.1 - - [28/Jul/2023 14:19:17] \"POST /socket.io/?EIO=4&transport=polling&t=OcUNiCs&sid=_q1WbRyE4pPCHfhbAAD2 HTTP/1.1\" 200 -\n",
      "127.0.0.1 - - [28/Jul/2023 14:19:17] \"GET /socket.io/?EIO=4&transport=polling&t=OcUNc6w&sid=T6ALzhZbjKo9xi83AAD3 HTTP/1.1\" 200 -\n",
      "127.0.0.1 - - [28/Jul/2023 14:19:17] \"POST /socket.io/?EIO=4&transport=polling&t=OcUNiDi&sid=T6ALzhZbjKo9xi83AAD3 HTTP/1.1\" 200 -\n",
      "127.0.0.1 - - [28/Jul/2023 14:19:42] \"GET /socket.io/?EIO=4&transport=polling&t=OcUNiCt&sid=_q1WbRyE4pPCHfhbAAD2 HTTP/1.1\" 200 -\n",
      "127.0.0.1 - - [28/Jul/2023 14:19:42] \"POST /socket.io/?EIO=4&transport=polling&t=OcUNoJi&sid=_q1WbRyE4pPCHfhbAAD2 HTTP/1.1\" 200 -\n",
      "127.0.0.1 - - [28/Jul/2023 14:19:42] \"GET /socket.io/?EIO=4&transport=polling&t=OcUNiDj&sid=T6ALzhZbjKo9xi83AAD3 HTTP/1.1\" 200 -\n",
      "127.0.0.1 - - [28/Jul/2023 14:19:42] \"POST /socket.io/?EIO=4&transport=polling&t=OcUNoKU&sid=T6ALzhZbjKo9xi83AAD3 HTTP/1.1\" 200 -\n",
      "127.0.0.1 - - [28/Jul/2023 14:20:07] \"GET /socket.io/?EIO=4&transport=polling&t=OcUNoJj&sid=_q1WbRyE4pPCHfhbAAD2 HTTP/1.1\" 200 -\n",
      "127.0.0.1 - - [28/Jul/2023 14:20:07] \"POST /socket.io/?EIO=4&transport=polling&t=OcUNuQT&sid=_q1WbRyE4pPCHfhbAAD2 HTTP/1.1\" 200 -\n",
      "127.0.0.1 - - [28/Jul/2023 14:20:07] \"GET /socket.io/?EIO=4&transport=polling&t=OcUNoKV&sid=T6ALzhZbjKo9xi83AAD3 HTTP/1.1\" 200 -\n",
      "127.0.0.1 - - [28/Jul/2023 14:20:07] \"POST /socket.io/?EIO=4&transport=polling&t=OcUNuRK&sid=T6ALzhZbjKo9xi83AAD3 HTTP/1.1\" 200 -\n",
      "127.0.0.1 - - [28/Jul/2023 14:20:32] \"GET /socket.io/?EIO=4&transport=polling&t=OcUNuQU&sid=_q1WbRyE4pPCHfhbAAD2 HTTP/1.1\" 200 -\n",
      "127.0.0.1 - - [28/Jul/2023 14:20:32] \"POST /socket.io/?EIO=4&transport=polling&t=OcUN-XH&sid=_q1WbRyE4pPCHfhbAAD2 HTTP/1.1\" 200 -\n",
      "127.0.0.1 - - [28/Jul/2023 14:20:32] \"GET /socket.io/?EIO=4&transport=polling&t=OcUNuRL&sid=T6ALzhZbjKo9xi83AAD3 HTTP/1.1\" 200 -\n",
      "127.0.0.1 - - [28/Jul/2023 14:20:32] \"POST /socket.io/?EIO=4&transport=polling&t=OcUN-Y4&sid=T6ALzhZbjKo9xi83AAD3 HTTP/1.1\" 200 -\n",
      "127.0.0.1 - - [28/Jul/2023 14:20:57] \"GET /socket.io/?EIO=4&transport=polling&t=OcUN-XI&sid=_q1WbRyE4pPCHfhbAAD2 HTTP/1.1\" 200 -\n",
      "127.0.0.1 - - [28/Jul/2023 14:20:57] \"POST /socket.io/?EIO=4&transport=polling&t=OcUO4e3&sid=_q1WbRyE4pPCHfhbAAD2 HTTP/1.1\" 200 -\n",
      "127.0.0.1 - - [28/Jul/2023 14:20:57] \"GET /socket.io/?EIO=4&transport=polling&t=OcUN-Y5&sid=T6ALzhZbjKo9xi83AAD3 HTTP/1.1\" 200 -\n",
      "127.0.0.1 - - [28/Jul/2023 14:20:57] \"POST /socket.io/?EIO=4&transport=polling&t=OcUO4er&sid=T6ALzhZbjKo9xi83AAD3 HTTP/1.1\" 200 -\n",
      "127.0.0.1 - - [28/Jul/2023 14:21:22] \"GET /socket.io/?EIO=4&transport=polling&t=OcUO4e4&sid=_q1WbRyE4pPCHfhbAAD2 HTTP/1.1\" 200 -\n",
      "127.0.0.1 - - [28/Jul/2023 14:21:22] \"POST /socket.io/?EIO=4&transport=polling&t=OcUOAkw&sid=_q1WbRyE4pPCHfhbAAD2 HTTP/1.1\" 200 -\n",
      "127.0.0.1 - - [28/Jul/2023 14:21:22] \"GET /socket.io/?EIO=4&transport=polling&t=OcUO4es&sid=T6ALzhZbjKo9xi83AAD3 HTTP/1.1\" 200 -\n",
      "127.0.0.1 - - [28/Jul/2023 14:21:22] \"POST /socket.io/?EIO=4&transport=polling&t=OcUOAlc&sid=T6ALzhZbjKo9xi83AAD3 HTTP/1.1\" 200 -\n",
      "127.0.0.1 - - [28/Jul/2023 14:21:47] \"GET /socket.io/?EIO=4&transport=polling&t=OcUOAkx&sid=_q1WbRyE4pPCHfhbAAD2 HTTP/1.1\" 200 -\n",
      "127.0.0.1 - - [28/Jul/2023 14:21:47] \"POST /socket.io/?EIO=4&transport=polling&t=OcUOGrm&sid=_q1WbRyE4pPCHfhbAAD2 HTTP/1.1\" 200 -\n",
      "127.0.0.1 - - [28/Jul/2023 14:21:47] \"GET /socket.io/?EIO=4&transport=polling&t=OcUOAld&sid=T6ALzhZbjKo9xi83AAD3 HTTP/1.1\" 200 -\n",
      "127.0.0.1 - - [28/Jul/2023 14:21:47] \"POST /socket.io/?EIO=4&transport=polling&t=OcUOGsQ&sid=T6ALzhZbjKo9xi83AAD3 HTTP/1.1\" 200 -\n",
      "127.0.0.1 - - [28/Jul/2023 14:22:12] \"GET /socket.io/?EIO=4&transport=polling&t=OcUOGrn&sid=_q1WbRyE4pPCHfhbAAD2 HTTP/1.1\" 200 -\n",
      "127.0.0.1 - - [28/Jul/2023 14:22:12] \"POST /socket.io/?EIO=4&transport=polling&t=OcUOMyc&sid=_q1WbRyE4pPCHfhbAAD2 HTTP/1.1\" 200 -\n",
      "127.0.0.1 - - [28/Jul/2023 14:22:12] \"GET /socket.io/?EIO=4&transport=polling&t=OcUOGsR&sid=T6ALzhZbjKo9xi83AAD3 HTTP/1.1\" 200 -\n",
      "127.0.0.1 - - [28/Jul/2023 14:22:12] \"POST /socket.io/?EIO=4&transport=polling&t=OcUOMzE&sid=T6ALzhZbjKo9xi83AAD3 HTTP/1.1\" 200 -\n",
      "127.0.0.1 - - [28/Jul/2023 14:22:37] \"GET /socket.io/?EIO=4&transport=polling&t=OcUOMyd&sid=_q1WbRyE4pPCHfhbAAD2 HTTP/1.1\" 200 -\n",
      "127.0.0.1 - - [28/Jul/2023 14:22:37] \"POST /socket.io/?EIO=4&transport=polling&t=OcUOT3P&sid=_q1WbRyE4pPCHfhbAAD2 HTTP/1.1\" 200 -\n",
      "127.0.0.1 - - [28/Jul/2023 14:22:37] \"GET /socket.io/?EIO=4&transport=polling&t=OcUOMzF&sid=T6ALzhZbjKo9xi83AAD3 HTTP/1.1\" 200 -\n",
      "127.0.0.1 - - [28/Jul/2023 14:22:37] \"POST /socket.io/?EIO=4&transport=polling&t=OcUOT3_&sid=T6ALzhZbjKo9xi83AAD3 HTTP/1.1\" 200 -\n",
      "127.0.0.1 - - [28/Jul/2023 14:23:02] \"GET /socket.io/?EIO=4&transport=polling&t=OcUOT3Q&sid=_q1WbRyE4pPCHfhbAAD2 HTTP/1.1\" 200 -\n",
      "127.0.0.1 - - [28/Jul/2023 14:23:02] \"POST /socket.io/?EIO=4&transport=polling&t=OcUOZAD&sid=_q1WbRyE4pPCHfhbAAD2 HTTP/1.1\" 200 -\n",
      "127.0.0.1 - - [28/Jul/2023 14:23:02] \"GET /socket.io/?EIO=4&transport=polling&t=OcUOT40&sid=T6ALzhZbjKo9xi83AAD3 HTTP/1.1\" 200 -\n",
      "127.0.0.1 - - [28/Jul/2023 14:23:02] \"POST /socket.io/?EIO=4&transport=polling&t=OcUOZAr&sid=T6ALzhZbjKo9xi83AAD3 HTTP/1.1\" 200 -\n",
      "127.0.0.1 - - [28/Jul/2023 14:23:27] \"GET /socket.io/?EIO=4&transport=polling&t=OcUOZAE&sid=_q1WbRyE4pPCHfhbAAD2 HTTP/1.1\" 200 -\n",
      "127.0.0.1 - - [28/Jul/2023 14:23:27] \"POST /socket.io/?EIO=4&transport=polling&t=OcUOfG_&sid=_q1WbRyE4pPCHfhbAAD2 HTTP/1.1\" 200 -\n",
      "127.0.0.1 - - [28/Jul/2023 14:23:27] \"GET /socket.io/?EIO=4&transport=polling&t=OcUOZAs&sid=T6ALzhZbjKo9xi83AAD3 HTTP/1.1\" 200 -\n",
      "127.0.0.1 - - [28/Jul/2023 14:23:27] \"POST /socket.io/?EIO=4&transport=polling&t=OcUOfHc&sid=T6ALzhZbjKo9xi83AAD3 HTTP/1.1\" 200 -\n",
      "127.0.0.1 - - [28/Jul/2023 14:23:52] \"GET /socket.io/?EIO=4&transport=polling&t=OcUOfH0&sid=_q1WbRyE4pPCHfhbAAD2 HTTP/1.1\" 200 -\n",
      "127.0.0.1 - - [28/Jul/2023 14:23:52] \"POST /socket.io/?EIO=4&transport=polling&t=OcUOlNo&sid=_q1WbRyE4pPCHfhbAAD2 HTTP/1.1\" 200 -\n",
      "127.0.0.1 - - [28/Jul/2023 14:23:52] \"GET /socket.io/?EIO=4&transport=polling&t=OcUOfHd&sid=T6ALzhZbjKo9xi83AAD3 HTTP/1.1\" 200 -\n",
      "127.0.0.1 - - [28/Jul/2023 14:23:52] \"POST /socket.io/?EIO=4&transport=polling&t=OcUOlON&sid=T6ALzhZbjKo9xi83AAD3 HTTP/1.1\" 200 -\n",
      "127.0.0.1 - - [28/Jul/2023 14:24:17] \"GET /socket.io/?EIO=4&transport=polling&t=OcUOlNp&sid=_q1WbRyE4pPCHfhbAAD2 HTTP/1.1\" 200 -\n",
      "127.0.0.1 - - [28/Jul/2023 14:24:17] \"POST /socket.io/?EIO=4&transport=polling&t=OcUOrUa&sid=_q1WbRyE4pPCHfhbAAD2 HTTP/1.1\" 200 -\n",
      "127.0.0.1 - - [28/Jul/2023 14:24:17] \"GET /socket.io/?EIO=4&transport=polling&t=OcUOlOO&sid=T6ALzhZbjKo9xi83AAD3 HTTP/1.1\" 200 -\n",
      "127.0.0.1 - - [28/Jul/2023 14:24:17] \"POST /socket.io/?EIO=4&transport=polling&t=OcUOrV9&sid=T6ALzhZbjKo9xi83AAD3 HTTP/1.1\" 200 -\n",
      "127.0.0.1 - - [28/Jul/2023 14:24:42] \"GET /socket.io/?EIO=4&transport=polling&t=OcUOrUb&sid=_q1WbRyE4pPCHfhbAAD2 HTTP/1.1\" 200 -\n",
      "127.0.0.1 - - [28/Jul/2023 14:24:42] \"POST /socket.io/?EIO=4&transport=polling&t=OcUOxbP&sid=_q1WbRyE4pPCHfhbAAD2 HTTP/1.1\" 200 -\n",
      "127.0.0.1 - - [28/Jul/2023 14:24:43] \"GET /socket.io/?EIO=4&transport=polling&t=OcUOrVA&sid=T6ALzhZbjKo9xi83AAD3 HTTP/1.1\" 200 -\n",
      "127.0.0.1 - - [28/Jul/2023 14:24:43] \"POST /socket.io/?EIO=4&transport=polling&t=OcUOxb_&sid=T6ALzhZbjKo9xi83AAD3 HTTP/1.1\" 200 -\n",
      "127.0.0.1 - - [28/Jul/2023 14:25:07] \"GET /socket.io/?EIO=4&transport=polling&t=OcUOxbQ&sid=_q1WbRyE4pPCHfhbAAD2 HTTP/1.1\" 200 -\n",
      "127.0.0.1 - - [28/Jul/2023 14:25:07] \"POST /socket.io/?EIO=4&transport=polling&t=OcUP1iC&sid=_q1WbRyE4pPCHfhbAAD2 HTTP/1.1\" 200 -\n",
      "127.0.0.1 - - [28/Jul/2023 14:25:08] \"GET /socket.io/?EIO=4&transport=polling&t=OcUOxc0&sid=T6ALzhZbjKo9xi83AAD3 HTTP/1.1\" 200 -\n",
      "127.0.0.1 - - [28/Jul/2023 14:25:08] \"POST /socket.io/?EIO=4&transport=polling&t=OcUP1iq&sid=T6ALzhZbjKo9xi83AAD3 HTTP/1.1\" 200 -\n",
      "127.0.0.1 - - [28/Jul/2023 14:25:32] \"GET /socket.io/?EIO=4&transport=polling&t=OcUP1iD&sid=_q1WbRyE4pPCHfhbAAD2 HTTP/1.1\" 200 -\n",
      "127.0.0.1 - - [28/Jul/2023 14:25:32] \"POST /socket.io/?EIO=4&transport=polling&t=OcUP7o-&sid=_q1WbRyE4pPCHfhbAAD2 HTTP/1.1\" 200 -\n",
      "127.0.0.1 - - [28/Jul/2023 14:25:33] \"GET /socket.io/?EIO=4&transport=polling&t=OcUP1ir&sid=T6ALzhZbjKo9xi83AAD3 HTTP/1.1\" 200 -\n",
      "127.0.0.1 - - [28/Jul/2023 14:25:33] \"POST /socket.io/?EIO=4&transport=polling&t=OcUP7pc&sid=T6ALzhZbjKo9xi83AAD3 HTTP/1.1\" 200 -\n",
      "127.0.0.1 - - [28/Jul/2023 14:25:57] \"GET /socket.io/?EIO=4&transport=polling&t=OcUP7o_&sid=_q1WbRyE4pPCHfhbAAD2 HTTP/1.1\" 200 -\n",
      "127.0.0.1 - - [28/Jul/2023 14:25:58] \"POST /socket.io/?EIO=4&transport=polling&t=OcUPDvq&sid=_q1WbRyE4pPCHfhbAAD2 HTTP/1.1\" 200 -\n",
      "127.0.0.1 - - [28/Jul/2023 14:25:58] \"GET /socket.io/?EIO=4&transport=polling&t=OcUP7pd&sid=T6ALzhZbjKo9xi83AAD3 HTTP/1.1\" 200 -\n",
      "127.0.0.1 - - [28/Jul/2023 14:25:58] \"POST /socket.io/?EIO=4&transport=polling&t=OcUPDwP&sid=T6ALzhZbjKo9xi83AAD3 HTTP/1.1\" 200 -\n",
      "127.0.0.1 - - [28/Jul/2023 14:26:23] \"GET /socket.io/?EIO=4&transport=polling&t=OcUPDvr&sid=_q1WbRyE4pPCHfhbAAD2 HTTP/1.1\" 200 -\n",
      "127.0.0.1 - - [28/Jul/2023 14:26:23] \"POST /socket.io/?EIO=4&transport=polling&t=OcUPK0g&sid=_q1WbRyE4pPCHfhbAAD2 HTTP/1.1\" 200 -\n",
      "127.0.0.1 - - [28/Jul/2023 14:26:23] \"GET /socket.io/?EIO=4&transport=polling&t=OcUPDwQ&sid=T6ALzhZbjKo9xi83AAD3 HTTP/1.1\" 200 -\n",
      "127.0.0.1 - - [28/Jul/2023 14:26:23] \"POST /socket.io/?EIO=4&transport=polling&t=OcUPK1B&sid=T6ALzhZbjKo9xi83AAD3 HTTP/1.1\" 200 -\n",
      "127.0.0.1 - - [28/Jul/2023 14:26:48] \"GET /socket.io/?EIO=4&transport=polling&t=OcUPK0h&sid=_q1WbRyE4pPCHfhbAAD2 HTTP/1.1\" 200 -\n",
      "127.0.0.1 - - [28/Jul/2023 14:26:48] \"POST /socket.io/?EIO=4&transport=polling&t=OcUPQ7U&sid=_q1WbRyE4pPCHfhbAAD2 HTTP/1.1\" 200 -\n",
      "127.0.0.1 - - [28/Jul/2023 14:26:48] \"GET /socket.io/?EIO=4&transport=polling&t=OcUPK1C&sid=T6ALzhZbjKo9xi83AAD3 HTTP/1.1\" 200 -\n",
      "127.0.0.1 - - [28/Jul/2023 14:26:48] \"POST /socket.io/?EIO=4&transport=polling&t=OcUPQ80&sid=T6ALzhZbjKo9xi83AAD3 HTTP/1.1\" 200 -\n",
      "127.0.0.1 - - [28/Jul/2023 14:27:13] \"GET /socket.io/?EIO=4&transport=polling&t=OcUPQ7V&sid=_q1WbRyE4pPCHfhbAAD2 HTTP/1.1\" 200 -\n",
      "127.0.0.1 - - [28/Jul/2023 14:27:13] \"POST /socket.io/?EIO=4&transport=polling&t=OcUPWEH&sid=_q1WbRyE4pPCHfhbAAD2 HTTP/1.1\" 200 -\n",
      "127.0.0.1 - - [28/Jul/2023 14:27:13] \"GET /socket.io/?EIO=4&transport=polling&t=OcUPQ81&sid=T6ALzhZbjKo9xi83AAD3 HTTP/1.1\" 200 -\n",
      "127.0.0.1 - - [28/Jul/2023 14:27:13] \"POST /socket.io/?EIO=4&transport=polling&t=OcUPWEn&sid=T6ALzhZbjKo9xi83AAD3 HTTP/1.1\" 200 -\n",
      "127.0.0.1 - - [28/Jul/2023 14:27:38] \"GET /socket.io/?EIO=4&transport=polling&t=OcUPWEI&sid=_q1WbRyE4pPCHfhbAAD2 HTTP/1.1\" 200 -\n",
      "127.0.0.1 - - [28/Jul/2023 14:27:38] \"POST /socket.io/?EIO=4&transport=polling&t=OcUPcL4&sid=_q1WbRyE4pPCHfhbAAD2 HTTP/1.1\" 200 -\n",
      "127.0.0.1 - - [28/Jul/2023 14:27:38] \"GET /socket.io/?EIO=4&transport=polling&t=OcUPWEo&sid=T6ALzhZbjKo9xi83AAD3 HTTP/1.1\" 200 -\n",
      "127.0.0.1 - - [28/Jul/2023 14:27:38] \"POST /socket.io/?EIO=4&transport=polling&t=OcUPcLa&sid=T6ALzhZbjKo9xi83AAD3 HTTP/1.1\" 200 -\n",
      "127.0.0.1 - - [28/Jul/2023 14:28:03] \"GET /socket.io/?EIO=4&transport=polling&t=OcUPcL4.0&sid=_q1WbRyE4pPCHfhbAAD2 HTTP/1.1\" 200 -\n",
      "127.0.0.1 - - [28/Jul/2023 14:28:03] \"POST /socket.io/?EIO=4&transport=polling&t=OcUPiRu&sid=_q1WbRyE4pPCHfhbAAD2 HTTP/1.1\" 200 -\n",
      "127.0.0.1 - - [28/Jul/2023 14:28:03] \"GET /socket.io/?EIO=4&transport=polling&t=OcUPcLb&sid=T6ALzhZbjKo9xi83AAD3 HTTP/1.1\" 200 -\n",
      "127.0.0.1 - - [28/Jul/2023 14:28:03] \"POST /socket.io/?EIO=4&transport=polling&t=OcUPiSQ&sid=T6ALzhZbjKo9xi83AAD3 HTTP/1.1\" 200 -\n",
      "127.0.0.1 - - [28/Jul/2023 14:28:28] \"GET /socket.io/?EIO=4&transport=polling&t=OcUPiRu.0&sid=_q1WbRyE4pPCHfhbAAD2 HTTP/1.1\" 200 -\n",
      "127.0.0.1 - - [28/Jul/2023 14:28:28] \"POST /socket.io/?EIO=4&transport=polling&t=OcUPoYj&sid=_q1WbRyE4pPCHfhbAAD2 HTTP/1.1\" 200 -\n",
      "127.0.0.1 - - [28/Jul/2023 14:28:28] \"GET /socket.io/?EIO=4&transport=polling&t=OcUPiSR&sid=T6ALzhZbjKo9xi83AAD3 HTTP/1.1\" 200 -\n",
      "127.0.0.1 - - [28/Jul/2023 14:28:28] \"POST /socket.io/?EIO=4&transport=polling&t=OcUPoZG&sid=T6ALzhZbjKo9xi83AAD3 HTTP/1.1\" 200 -\n",
      "127.0.0.1 - - [28/Jul/2023 14:28:53] \"GET /socket.io/?EIO=4&transport=polling&t=OcUPoYk&sid=_q1WbRyE4pPCHfhbAAD2 HTTP/1.1\" 200 -\n",
      "127.0.0.1 - - [28/Jul/2023 14:28:53] \"POST /socket.io/?EIO=4&transport=polling&t=OcUPufZ&sid=_q1WbRyE4pPCHfhbAAD2 HTTP/1.1\" 200 -\n",
      "127.0.0.1 - - [28/Jul/2023 14:28:53] \"GET /socket.io/?EIO=4&transport=polling&t=OcUPoZH&sid=T6ALzhZbjKo9xi83AAD3 HTTP/1.1\" 200 -\n",
      "127.0.0.1 - - [28/Jul/2023 14:28:53] \"POST /socket.io/?EIO=4&transport=polling&t=OcUPug4&sid=T6ALzhZbjKo9xi83AAD3 HTTP/1.1\" 200 -\n",
      "127.0.0.1 - - [28/Jul/2023 14:29:18] \"GET /socket.io/?EIO=4&transport=polling&t=OcUPufa&sid=_q1WbRyE4pPCHfhbAAD2 HTTP/1.1\" 200 -\n",
      "127.0.0.1 - - [28/Jul/2023 14:29:18] \"POST /socket.io/?EIO=4&transport=polling&t=OcUP-mO&sid=_q1WbRyE4pPCHfhbAAD2 HTTP/1.1\" 200 -\n",
      "127.0.0.1 - - [28/Jul/2023 14:29:18] \"GET /socket.io/?EIO=4&transport=polling&t=OcUPug5&sid=T6ALzhZbjKo9xi83AAD3 HTTP/1.1\" 200 -\n",
      "127.0.0.1 - - [28/Jul/2023 14:29:18] \"POST /socket.io/?EIO=4&transport=polling&t=OcUP-mw&sid=T6ALzhZbjKo9xi83AAD3 HTTP/1.1\" 200 -\n",
      "127.0.0.1 - - [28/Jul/2023 14:29:43] \"GET /socket.io/?EIO=4&transport=polling&t=OcUP-mP&sid=_q1WbRyE4pPCHfhbAAD2 HTTP/1.1\" 200 -\n",
      "127.0.0.1 - - [28/Jul/2023 14:29:43] \"POST /socket.io/?EIO=4&transport=polling&t=OcUQ4tD&sid=_q1WbRyE4pPCHfhbAAD2 HTTP/1.1\" 200 -\n",
      "127.0.0.1 - - [28/Jul/2023 14:29:43] \"GET /socket.io/?EIO=4&transport=polling&t=OcUP-mx&sid=T6ALzhZbjKo9xi83AAD3 HTTP/1.1\" 200 -\n",
      "127.0.0.1 - - [28/Jul/2023 14:29:43] \"POST /socket.io/?EIO=4&transport=polling&t=OcUQ4tj&sid=T6ALzhZbjKo9xi83AAD3 HTTP/1.1\" 200 -\n",
      "127.0.0.1 - - [28/Jul/2023 14:30:08] \"GET /socket.io/?EIO=4&transport=polling&t=OcUQ4tE&sid=_q1WbRyE4pPCHfhbAAD2 HTTP/1.1\" 200 -\n",
      "127.0.0.1 - - [28/Jul/2023 14:30:08] \"POST /socket.io/?EIO=4&transport=polling&t=OcUQAz-&sid=_q1WbRyE4pPCHfhbAAD2 HTTP/1.1\" 200 -\n",
      "127.0.0.1 - - [28/Jul/2023 14:30:08] \"GET /socket.io/?EIO=4&transport=polling&t=OcUQ4tk&sid=T6ALzhZbjKo9xi83AAD3 HTTP/1.1\" 200 -\n",
      "127.0.0.1 - - [28/Jul/2023 14:30:08] \"POST /socket.io/?EIO=4&transport=polling&t=OcUQA-Y&sid=T6ALzhZbjKo9xi83AAD3 HTTP/1.1\" 200 -\n",
      "127.0.0.1 - - [28/Jul/2023 14:30:33] \"GET /socket.io/?EIO=4&transport=polling&t=OcUQAz_&sid=_q1WbRyE4pPCHfhbAAD2 HTTP/1.1\" 200 -\n",
      "127.0.0.1 - - [28/Jul/2023 14:30:33] \"POST /socket.io/?EIO=4&transport=polling&t=OcUQH4o&sid=_q1WbRyE4pPCHfhbAAD2 HTTP/1.1\" 200 -\n",
      "127.0.0.1 - - [28/Jul/2023 14:30:33] \"GET /socket.io/?EIO=4&transport=polling&t=OcUQA-Z&sid=T6ALzhZbjKo9xi83AAD3 HTTP/1.1\" 200 -\n",
      "127.0.0.1 - - [28/Jul/2023 14:30:33] \"POST /socket.io/?EIO=4&transport=polling&t=OcUQH5O&sid=T6ALzhZbjKo9xi83AAD3 HTTP/1.1\" 200 -\n",
      "127.0.0.1 - - [28/Jul/2023 14:30:58] \"GET /socket.io/?EIO=4&transport=polling&t=OcUQH4p&sid=_q1WbRyE4pPCHfhbAAD2 HTTP/1.1\" 200 -\n",
      "127.0.0.1 - - [28/Jul/2023 14:30:58] \"POST /socket.io/?EIO=4&transport=polling&t=OcUQNBe&sid=_q1WbRyE4pPCHfhbAAD2 HTTP/1.1\" 200 -\n",
      "127.0.0.1 - - [28/Jul/2023 14:30:58] \"GET /socket.io/?EIO=4&transport=polling&t=OcUQH5P&sid=T6ALzhZbjKo9xi83AAD3 HTTP/1.1\" 200 -\n",
      "127.0.0.1 - - [28/Jul/2023 14:30:58] \"POST /socket.io/?EIO=4&transport=polling&t=OcUQNCE&sid=T6ALzhZbjKo9xi83AAD3 HTTP/1.1\" 200 -\n",
      "127.0.0.1 - - [28/Jul/2023 14:31:23] \"GET /socket.io/?EIO=4&transport=polling&t=OcUQNBf&sid=_q1WbRyE4pPCHfhbAAD2 HTTP/1.1\" 200 -\n",
      "127.0.0.1 - - [28/Jul/2023 14:31:23] \"POST /socket.io/?EIO=4&transport=polling&t=OcUQTIT&sid=_q1WbRyE4pPCHfhbAAD2 HTTP/1.1\" 200 -\n",
      "127.0.0.1 - - [28/Jul/2023 14:31:23] \"GET /socket.io/?EIO=4&transport=polling&t=OcUQNCF&sid=T6ALzhZbjKo9xi83AAD3 HTTP/1.1\" 200 -\n",
      "127.0.0.1 - - [28/Jul/2023 14:31:23] \"POST /socket.io/?EIO=4&transport=polling&t=OcUQTJ4&sid=T6ALzhZbjKo9xi83AAD3 HTTP/1.1\" 200 -\n",
      "127.0.0.1 - - [28/Jul/2023 14:31:48] \"GET /socket.io/?EIO=4&transport=polling&t=OcUQTIU&sid=_q1WbRyE4pPCHfhbAAD2 HTTP/1.1\" 200 -\n",
      "127.0.0.1 - - [28/Jul/2023 14:31:48] \"POST /socket.io/?EIO=4&transport=polling&t=OcUQZPJ&sid=_q1WbRyE4pPCHfhbAAD2 HTTP/1.1\" 200 -\n",
      "127.0.0.1 - - [28/Jul/2023 14:31:48] \"GET /socket.io/?EIO=4&transport=polling&t=OcUQTJ5&sid=T6ALzhZbjKo9xi83AAD3 HTTP/1.1\" 200 -\n",
      "127.0.0.1 - - [28/Jul/2023 14:31:48] \"POST /socket.io/?EIO=4&transport=polling&t=OcUQZPt&sid=T6ALzhZbjKo9xi83AAD3 HTTP/1.1\" 200 -\n",
      "127.0.0.1 - - [28/Jul/2023 14:32:13] \"GET /socket.io/?EIO=4&transport=polling&t=OcUQZPK&sid=_q1WbRyE4pPCHfhbAAD2 HTTP/1.1\" 200 -\n",
      "127.0.0.1 - - [28/Jul/2023 14:32:13] \"POST /socket.io/?EIO=4&transport=polling&t=OcUQfW8&sid=_q1WbRyE4pPCHfhbAAD2 HTTP/1.1\" 200 -\n",
      "127.0.0.1 - - [28/Jul/2023 14:32:13] \"GET /socket.io/?EIO=4&transport=polling&t=OcUQZPu&sid=T6ALzhZbjKo9xi83AAD3 HTTP/1.1\" 200 -\n",
      "127.0.0.1 - - [28/Jul/2023 14:32:13] \"POST /socket.io/?EIO=4&transport=polling&t=OcUQfWj&sid=T6ALzhZbjKo9xi83AAD3 HTTP/1.1\" 200 -\n",
      "127.0.0.1 - - [28/Jul/2023 14:32:38] \"GET /socket.io/?EIO=4&transport=polling&t=OcUQfW9&sid=_q1WbRyE4pPCHfhbAAD2 HTTP/1.1\" 200 -\n",
      "127.0.0.1 - - [28/Jul/2023 14:32:38] \"POST /socket.io/?EIO=4&transport=polling&t=OcUQlc-&sid=_q1WbRyE4pPCHfhbAAD2 HTTP/1.1\" 200 -\n",
      "127.0.0.1 - - [28/Jul/2023 14:32:38] \"GET /socket.io/?EIO=4&transport=polling&t=OcUQfWk&sid=T6ALzhZbjKo9xi83AAD3 HTTP/1.1\" 200 -\n",
      "127.0.0.1 - - [28/Jul/2023 14:32:38] \"POST /socket.io/?EIO=4&transport=polling&t=OcUQldV&sid=T6ALzhZbjKo9xi83AAD3 HTTP/1.1\" 200 -\n",
      "127.0.0.1 - - [28/Jul/2023 14:33:03] \"GET /socket.io/?EIO=4&transport=polling&t=OcUQlc_&sid=_q1WbRyE4pPCHfhbAAD2 HTTP/1.1\" 200 -\n",
      "127.0.0.1 - - [28/Jul/2023 14:33:03] \"POST /socket.io/?EIO=4&transport=polling&t=OcUQrjk&sid=_q1WbRyE4pPCHfhbAAD2 HTTP/1.1\" 200 -\n",
      "127.0.0.1 - - [28/Jul/2023 14:33:03] \"GET /socket.io/?EIO=4&transport=polling&t=OcUQldW&sid=T6ALzhZbjKo9xi83AAD3 HTTP/1.1\" 200 -\n",
      "127.0.0.1 - - [28/Jul/2023 14:33:03] \"POST /socket.io/?EIO=4&transport=polling&t=OcUQrkF&sid=T6ALzhZbjKo9xi83AAD3 HTTP/1.1\" 200 -\n",
      "127.0.0.1 - - [28/Jul/2023 14:33:28] \"GET /socket.io/?EIO=4&transport=polling&t=OcUQrjl&sid=_q1WbRyE4pPCHfhbAAD2 HTTP/1.1\" 200 -\n",
      "127.0.0.1 - - [28/Jul/2023 14:33:28] \"POST /socket.io/?EIO=4&transport=polling&t=OcUQxqW&sid=_q1WbRyE4pPCHfhbAAD2 HTTP/1.1\" 200 -\n",
      "127.0.0.1 - - [28/Jul/2023 14:33:28] \"GET /socket.io/?EIO=4&transport=polling&t=OcUQrkG&sid=T6ALzhZbjKo9xi83AAD3 HTTP/1.1\" 200 -\n",
      "127.0.0.1 - - [28/Jul/2023 14:33:28] \"POST /socket.io/?EIO=4&transport=polling&t=OcUQxr2&sid=T6ALzhZbjKo9xi83AAD3 HTTP/1.1\" 200 -\n",
      "127.0.0.1 - - [28/Jul/2023 14:33:53] \"GET /socket.io/?EIO=4&transport=polling&t=OcUQxqX&sid=_q1WbRyE4pPCHfhbAAD2 HTTP/1.1\" 200 -\n",
      "127.0.0.1 - - [28/Jul/2023 14:33:53] \"POST /socket.io/?EIO=4&transport=polling&t=OcUR1xG&sid=_q1WbRyE4pPCHfhbAAD2 HTTP/1.1\" 200 -\n",
      "127.0.0.1 - - [28/Jul/2023 14:33:53] \"GET /socket.io/?EIO=4&transport=polling&t=OcUQxr3&sid=T6ALzhZbjKo9xi83AAD3 HTTP/1.1\" 200 -\n",
      "127.0.0.1 - - [28/Jul/2023 14:33:53] \"POST /socket.io/?EIO=4&transport=polling&t=OcUR1xu&sid=T6ALzhZbjKo9xi83AAD3 HTTP/1.1\" 200 -\n",
      "127.0.0.1 - - [28/Jul/2023 14:34:18] \"GET /socket.io/?EIO=4&transport=polling&t=OcUR1xH&sid=_q1WbRyE4pPCHfhbAAD2 HTTP/1.1\" 200 -\n",
      "127.0.0.1 - - [28/Jul/2023 14:34:18] \"POST /socket.io/?EIO=4&transport=polling&t=OcUR826&sid=_q1WbRyE4pPCHfhbAAD2 HTTP/1.1\" 200 -\n",
      "127.0.0.1 - - [28/Jul/2023 14:34:18] \"GET /socket.io/?EIO=4&transport=polling&t=OcUR1xv&sid=T6ALzhZbjKo9xi83AAD3 HTTP/1.1\" 200 -\n",
      "127.0.0.1 - - [28/Jul/2023 14:34:18] \"POST /socket.io/?EIO=4&transport=polling&t=OcUR82i&sid=T6ALzhZbjKo9xi83AAD3 HTTP/1.1\" 200 -\n",
      "127.0.0.1 - - [28/Jul/2023 14:34:43] \"GET /socket.io/?EIO=4&transport=polling&t=OcUR827&sid=_q1WbRyE4pPCHfhbAAD2 HTTP/1.1\" 200 -\n",
      "127.0.0.1 - - [28/Jul/2023 14:34:43] \"POST /socket.io/?EIO=4&transport=polling&t=OcURE8y&sid=_q1WbRyE4pPCHfhbAAD2 HTTP/1.1\" 200 -\n",
      "127.0.0.1 - - [28/Jul/2023 14:34:43] \"GET /socket.io/?EIO=4&transport=polling&t=OcUR82j&sid=T6ALzhZbjKo9xi83AAD3 HTTP/1.1\" 200 -\n",
      "127.0.0.1 - - [28/Jul/2023 14:34:43] \"POST /socket.io/?EIO=4&transport=polling&t=OcURE9Y&sid=T6ALzhZbjKo9xi83AAD3 HTTP/1.1\" 200 -\n",
      "127.0.0.1 - - [28/Jul/2023 14:35:08] \"GET /socket.io/?EIO=4&transport=polling&t=OcURE8z&sid=_q1WbRyE4pPCHfhbAAD2 HTTP/1.1\" 200 -\n",
      "127.0.0.1 - - [28/Jul/2023 14:35:08] \"POST /socket.io/?EIO=4&transport=polling&t=OcURKFn&sid=_q1WbRyE4pPCHfhbAAD2 HTTP/1.1\" 200 -\n",
      "127.0.0.1 - - [28/Jul/2023 14:35:08] \"GET /socket.io/?EIO=4&transport=polling&t=OcURE9Z&sid=T6ALzhZbjKo9xi83AAD3 HTTP/1.1\" 200 -\n",
      "127.0.0.1 - - [28/Jul/2023 14:35:08] \"POST /socket.io/?EIO=4&transport=polling&t=OcURKGO&sid=T6ALzhZbjKo9xi83AAD3 HTTP/1.1\" 200 -\n",
      "127.0.0.1 - - [28/Jul/2023 14:35:33] \"GET /socket.io/?EIO=4&transport=polling&t=OcURKFo&sid=_q1WbRyE4pPCHfhbAAD2 HTTP/1.1\" 200 -\n",
      "127.0.0.1 - - [28/Jul/2023 14:35:33] \"POST /socket.io/?EIO=4&transport=polling&t=OcURQMe&sid=_q1WbRyE4pPCHfhbAAD2 HTTP/1.1\" 200 -\n",
      "127.0.0.1 - - [28/Jul/2023 14:35:33] \"GET /socket.io/?EIO=4&transport=polling&t=OcURKGP&sid=T6ALzhZbjKo9xi83AAD3 HTTP/1.1\" 200 -\n",
      "127.0.0.1 - - [28/Jul/2023 14:35:33] \"POST /socket.io/?EIO=4&transport=polling&t=OcURQNE&sid=T6ALzhZbjKo9xi83AAD3 HTTP/1.1\" 200 -\n",
      "127.0.0.1 - - [28/Jul/2023 14:35:58] \"GET /socket.io/?EIO=4&transport=polling&t=OcURQMf&sid=_q1WbRyE4pPCHfhbAAD2 HTTP/1.1\" 200 -\n",
      "127.0.0.1 - - [28/Jul/2023 14:35:58] \"POST /socket.io/?EIO=4&transport=polling&t=OcURWTR&sid=_q1WbRyE4pPCHfhbAAD2 HTTP/1.1\" 200 -\n",
      "127.0.0.1 - - [28/Jul/2023 14:35:58] \"GET /socket.io/?EIO=4&transport=polling&t=OcURQNF&sid=T6ALzhZbjKo9xi83AAD3 HTTP/1.1\" 200 -\n",
      "127.0.0.1 - - [28/Jul/2023 14:35:58] \"POST /socket.io/?EIO=4&transport=polling&t=OcURWU3&sid=T6ALzhZbjKo9xi83AAD3 HTTP/1.1\" 200 -\n",
      "127.0.0.1 - - [28/Jul/2023 14:36:23] \"GET /socket.io/?EIO=4&transport=polling&t=OcURWTS&sid=_q1WbRyE4pPCHfhbAAD2 HTTP/1.1\" 200 -\n",
      "127.0.0.1 - - [28/Jul/2023 14:36:23] \"POST /socket.io/?EIO=4&transport=polling&t=OcURcaG&sid=_q1WbRyE4pPCHfhbAAD2 HTTP/1.1\" 200 -\n",
      "127.0.0.1 - - [28/Jul/2023 14:36:23] \"GET /socket.io/?EIO=4&transport=polling&t=OcURWU5&sid=T6ALzhZbjKo9xi83AAD3 HTTP/1.1\" 200 -\n",
      "127.0.0.1 - - [28/Jul/2023 14:36:23] \"POST /socket.io/?EIO=4&transport=polling&t=OcURcaw&sid=T6ALzhZbjKo9xi83AAD3 HTTP/1.1\" 200 -\n",
      "127.0.0.1 - - [28/Jul/2023 14:36:48] \"GET /socket.io/?EIO=4&transport=polling&t=OcURcaH&sid=_q1WbRyE4pPCHfhbAAD2 HTTP/1.1\" 200 -\n",
      "127.0.0.1 - - [28/Jul/2023 14:36:48] \"POST /socket.io/?EIO=4&transport=polling&t=OcURih2&sid=_q1WbRyE4pPCHfhbAAD2 HTTP/1.1\" 200 -\n",
      "127.0.0.1 - - [28/Jul/2023 14:36:48] \"GET /socket.io/?EIO=4&transport=polling&t=OcURcax&sid=T6ALzhZbjKo9xi83AAD3 HTTP/1.1\" 200 -\n",
      "127.0.0.1 - - [28/Jul/2023 14:36:48] \"POST /socket.io/?EIO=4&transport=polling&t=OcURihl&sid=T6ALzhZbjKo9xi83AAD3 HTTP/1.1\" 200 -\n",
      "127.0.0.1 - - [28/Jul/2023 14:37:13] \"GET /socket.io/?EIO=4&transport=polling&t=OcURih3&sid=_q1WbRyE4pPCHfhbAAD2 HTTP/1.1\" 200 -\n",
      "127.0.0.1 - - [28/Jul/2023 14:37:13] \"POST /socket.io/?EIO=4&transport=polling&t=OcURonp&sid=_q1WbRyE4pPCHfhbAAD2 HTTP/1.1\" 200 -\n",
      "127.0.0.1 - - [28/Jul/2023 14:37:13] \"GET /socket.io/?EIO=4&transport=polling&t=OcURihm&sid=T6ALzhZbjKo9xi83AAD3 HTTP/1.1\" 200 -\n",
      "127.0.0.1 - - [28/Jul/2023 14:37:13] \"POST /socket.io/?EIO=4&transport=polling&t=OcURoob&sid=T6ALzhZbjKo9xi83AAD3 HTTP/1.1\" 200 -\n",
      "127.0.0.1 - - [28/Jul/2023 14:37:38] \"GET /socket.io/?EIO=4&transport=polling&t=OcURonq&sid=_q1WbRyE4pPCHfhbAAD2 HTTP/1.1\" 200 -\n",
      "127.0.0.1 - - [28/Jul/2023 14:37:38] \"POST /socket.io/?EIO=4&transport=polling&t=OcURuud&sid=_q1WbRyE4pPCHfhbAAD2 HTTP/1.1\" 200 -\n",
      "127.0.0.1 - - [28/Jul/2023 14:37:38] \"GET /socket.io/?EIO=4&transport=polling&t=OcURooc&sid=T6ALzhZbjKo9xi83AAD3 HTTP/1.1\" 200 -\n",
      "127.0.0.1 - - [28/Jul/2023 14:37:38] \"POST /socket.io/?EIO=4&transport=polling&t=OcURuvS&sid=T6ALzhZbjKo9xi83AAD3 HTTP/1.1\" 200 -\n",
      "127.0.0.1 - - [28/Jul/2023 14:38:03] \"GET /socket.io/?EIO=4&transport=polling&t=OcURuue&sid=_q1WbRyE4pPCHfhbAAD2 HTTP/1.1\" 200 -\n",
      "127.0.0.1 - - [28/Jul/2023 14:38:03] \"POST /socket.io/?EIO=4&transport=polling&t=OcUR-_T&sid=_q1WbRyE4pPCHfhbAAD2 HTTP/1.1\" 200 -\n",
      "127.0.0.1 - - [28/Jul/2023 14:38:03] \"GET /socket.io/?EIO=4&transport=polling&t=OcURuvT&sid=T6ALzhZbjKo9xi83AAD3 HTTP/1.1\" 200 -\n",
      "127.0.0.1 - - [28/Jul/2023 14:38:03] \"POST /socket.io/?EIO=4&transport=polling&t=OcUR_0J&sid=T6ALzhZbjKo9xi83AAD3 HTTP/1.1\" 200 -\n",
      "127.0.0.1 - - [28/Jul/2023 14:38:28] \"GET /socket.io/?EIO=4&transport=polling&t=OcUR-_U&sid=_q1WbRyE4pPCHfhbAAD2 HTTP/1.1\" 200 -\n",
      "127.0.0.1 - - [28/Jul/2023 14:38:28] \"POST /socket.io/?EIO=4&transport=polling&t=OcUS56E&sid=_q1WbRyE4pPCHfhbAAD2 HTTP/1.1\" 200 -\n",
      "127.0.0.1 - - [28/Jul/2023 14:38:28] \"GET /socket.io/?EIO=4&transport=polling&t=OcUR_0K&sid=T6ALzhZbjKo9xi83AAD3 HTTP/1.1\" 200 -\n",
      "127.0.0.1 - - [28/Jul/2023 14:38:28] \"POST /socket.io/?EIO=4&transport=polling&t=OcUS575&sid=T6ALzhZbjKo9xi83AAD3 HTTP/1.1\" 200 -\n",
      "127.0.0.1 - - [28/Jul/2023 14:38:53] \"GET /socket.io/?EIO=4&transport=polling&t=OcUS56F&sid=_q1WbRyE4pPCHfhbAAD2 HTTP/1.1\" 200 -\n",
      "127.0.0.1 - - [28/Jul/2023 14:38:53] \"POST /socket.io/?EIO=4&transport=polling&t=OcUSBD0&sid=_q1WbRyE4pPCHfhbAAD2 HTTP/1.1\" 200 -\n",
      "127.0.0.1 - - [28/Jul/2023 14:38:53] \"GET /socket.io/?EIO=4&transport=polling&t=OcUS576&sid=T6ALzhZbjKo9xi83AAD3 HTTP/1.1\" 200 -\n",
      "127.0.0.1 - - [28/Jul/2023 14:38:53] \"POST /socket.io/?EIO=4&transport=polling&t=OcUSBDs&sid=T6ALzhZbjKo9xi83AAD3 HTTP/1.1\" 200 -\n",
      "127.0.0.1 - - [28/Jul/2023 14:39:18] \"GET /socket.io/?EIO=4&transport=polling&t=OcUSBD1&sid=_q1WbRyE4pPCHfhbAAD2 HTTP/1.1\" 200 -\n",
      "127.0.0.1 - - [28/Jul/2023 14:39:18] \"POST /socket.io/?EIO=4&transport=polling&t=OcUSHJs&sid=_q1WbRyE4pPCHfhbAAD2 HTTP/1.1\" 200 -\n",
      "127.0.0.1 - - [28/Jul/2023 14:39:18] \"GET /socket.io/?EIO=4&transport=polling&t=OcUSBDt&sid=T6ALzhZbjKo9xi83AAD3 HTTP/1.1\" 200 -\n",
      "127.0.0.1 - - [28/Jul/2023 14:39:18] \"POST /socket.io/?EIO=4&transport=polling&t=OcUSHKi&sid=T6ALzhZbjKo9xi83AAD3 HTTP/1.1\" 200 -\n",
      "127.0.0.1 - - [28/Jul/2023 14:39:43] \"GET /socket.io/?EIO=4&transport=polling&t=OcUSHJt&sid=_q1WbRyE4pPCHfhbAAD2 HTTP/1.1\" 200 -\n",
      "127.0.0.1 - - [28/Jul/2023 14:39:43] \"POST /socket.io/?EIO=4&transport=polling&t=OcUSNQj&sid=_q1WbRyE4pPCHfhbAAD2 HTTP/1.1\" 200 -\n",
      "127.0.0.1 - - [28/Jul/2023 14:39:43] \"GET /socket.io/?EIO=4&transport=polling&t=OcUSHKj&sid=T6ALzhZbjKo9xi83AAD3 HTTP/1.1\" 200 -\n",
      "127.0.0.1 - - [28/Jul/2023 14:39:43] \"POST /socket.io/?EIO=4&transport=polling&t=OcUSNRV&sid=T6ALzhZbjKo9xi83AAD3 HTTP/1.1\" 200 -\n",
      "127.0.0.1 - - [28/Jul/2023 14:40:08] \"GET /socket.io/?EIO=4&transport=polling&t=OcUSNQk&sid=_q1WbRyE4pPCHfhbAAD2 HTTP/1.1\" 200 -\n",
      "127.0.0.1 - - [28/Jul/2023 14:40:08] \"POST /socket.io/?EIO=4&transport=polling&t=OcUSTXZ&sid=_q1WbRyE4pPCHfhbAAD2 HTTP/1.1\" 200 -\n",
      "127.0.0.1 - - [28/Jul/2023 14:40:08] \"GET /socket.io/?EIO=4&transport=polling&t=OcUSNRW&sid=T6ALzhZbjKo9xi83AAD3 HTTP/1.1\" 200 -\n",
      "127.0.0.1 - - [28/Jul/2023 14:40:08] \"POST /socket.io/?EIO=4&transport=polling&t=OcUSTYN&sid=T6ALzhZbjKo9xi83AAD3 HTTP/1.1\" 200 -\n",
      "127.0.0.1 - - [28/Jul/2023 14:40:33] \"GET /socket.io/?EIO=4&transport=polling&t=OcUSTXa&sid=_q1WbRyE4pPCHfhbAAD2 HTTP/1.1\" 200 -\n",
      "127.0.0.1 - - [28/Jul/2023 14:40:33] \"POST /socket.io/?EIO=4&transport=polling&t=OcUSZeL&sid=_q1WbRyE4pPCHfhbAAD2 HTTP/1.1\" 200 -\n",
      "127.0.0.1 - - [28/Jul/2023 14:40:33] \"GET /socket.io/?EIO=4&transport=polling&t=OcUSTYO&sid=T6ALzhZbjKo9xi83AAD3 HTTP/1.1\" 200 -\n",
      "127.0.0.1 - - [28/Jul/2023 14:40:33] \"POST /socket.io/?EIO=4&transport=polling&t=OcUSZfD&sid=T6ALzhZbjKo9xi83AAD3 HTTP/1.1\" 200 -\n",
      "127.0.0.1 - - [28/Jul/2023 14:40:58] \"GET /socket.io/?EIO=4&transport=polling&t=OcUSZeM&sid=_q1WbRyE4pPCHfhbAAD2 HTTP/1.1\" 200 -\n",
      "127.0.0.1 - - [28/Jul/2023 14:40:58] \"POST /socket.io/?EIO=4&transport=polling&t=OcUSflB&sid=_q1WbRyE4pPCHfhbAAD2 HTTP/1.1\" 200 -\n",
      "127.0.0.1 - - [28/Jul/2023 14:40:58] \"GET /socket.io/?EIO=4&transport=polling&t=OcUSZfE&sid=T6ALzhZbjKo9xi83AAD3 HTTP/1.1\" 200 -\n",
      "127.0.0.1 - - [28/Jul/2023 14:40:58] \"POST /socket.io/?EIO=4&transport=polling&t=OcUSfl-&sid=T6ALzhZbjKo9xi83AAD3 HTTP/1.1\" 200 -\n",
      "127.0.0.1 - - [28/Jul/2023 14:41:23] \"GET /socket.io/?EIO=4&transport=polling&t=OcUSflC&sid=_q1WbRyE4pPCHfhbAAD2 HTTP/1.1\" 200 -\n",
      "127.0.0.1 - - [28/Jul/2023 14:41:23] \"POST /socket.io/?EIO=4&transport=polling&t=OcUSlry&sid=_q1WbRyE4pPCHfhbAAD2 HTTP/1.1\" 200 -\n",
      "127.0.0.1 - - [28/Jul/2023 14:41:23] \"GET /socket.io/?EIO=4&transport=polling&t=OcUSfl_&sid=T6ALzhZbjKo9xi83AAD3 HTTP/1.1\" 200 -\n",
      "127.0.0.1 - - [28/Jul/2023 14:41:23] \"POST /socket.io/?EIO=4&transport=polling&t=OcUSlsm&sid=T6ALzhZbjKo9xi83AAD3 HTTP/1.1\" 200 -\n",
      "127.0.0.1 - - [28/Jul/2023 14:41:48] \"GET /socket.io/?EIO=4&transport=polling&t=OcUSlrz&sid=_q1WbRyE4pPCHfhbAAD2 HTTP/1.1\" 200 -\n",
      "127.0.0.1 - - [28/Jul/2023 14:41:48] \"POST /socket.io/?EIO=4&transport=polling&t=OcUSryk&sid=_q1WbRyE4pPCHfhbAAD2 HTTP/1.1\" 200 -\n",
      "127.0.0.1 - - [28/Jul/2023 14:41:48] \"GET /socket.io/?EIO=4&transport=polling&t=OcUSlsn&sid=T6ALzhZbjKo9xi83AAD3 HTTP/1.1\" 200 -\n",
      "127.0.0.1 - - [28/Jul/2023 14:41:48] \"POST /socket.io/?EIO=4&transport=polling&t=OcUSrzb&sid=T6ALzhZbjKo9xi83AAD3 HTTP/1.1\" 200 -\n",
      "127.0.0.1 - - [28/Jul/2023 14:42:13] \"GET /socket.io/?EIO=4&transport=polling&t=OcUSryl&sid=_q1WbRyE4pPCHfhbAAD2 HTTP/1.1\" 200 -\n",
      "127.0.0.1 - - [28/Jul/2023 14:42:13] \"POST /socket.io/?EIO=4&transport=polling&t=OcUSy3X&sid=_q1WbRyE4pPCHfhbAAD2 HTTP/1.1\" 200 -\n",
      "127.0.0.1 - - [28/Jul/2023 14:42:13] \"GET /socket.io/?EIO=4&transport=polling&t=OcUSrzd&sid=T6ALzhZbjKo9xi83AAD3 HTTP/1.1\" 200 -\n",
      "127.0.0.1 - - [28/Jul/2023 14:42:13] \"POST /socket.io/?EIO=4&transport=polling&t=OcUSy4R&sid=T6ALzhZbjKo9xi83AAD3 HTTP/1.1\" 200 -\n",
      "127.0.0.1 - - [28/Jul/2023 14:42:38] \"GET /socket.io/?EIO=4&transport=polling&t=OcUSy3Y&sid=_q1WbRyE4pPCHfhbAAD2 HTTP/1.1\" 200 -\n",
      "127.0.0.1 - - [28/Jul/2023 14:42:38] \"POST /socket.io/?EIO=4&transport=polling&t=OcUT2AN&sid=_q1WbRyE4pPCHfhbAAD2 HTTP/1.1\" 200 -\n",
      "127.0.0.1 - - [28/Jul/2023 14:42:38] \"GET /socket.io/?EIO=4&transport=polling&t=OcUSy4S&sid=T6ALzhZbjKo9xi83AAD3 HTTP/1.1\" 200 -\n",
      "127.0.0.1 - - [28/Jul/2023 14:42:38] \"POST /socket.io/?EIO=4&transport=polling&t=OcUT2BC&sid=T6ALzhZbjKo9xi83AAD3 HTTP/1.1\" 200 -\n",
      "127.0.0.1 - - [28/Jul/2023 14:43:03] \"GET /socket.io/?EIO=4&transport=polling&t=OcUT2AO&sid=_q1WbRyE4pPCHfhbAAD2 HTTP/1.1\" 200 -\n",
      "127.0.0.1 - - [28/Jul/2023 14:43:03] \"POST /socket.io/?EIO=4&transport=polling&t=OcUT8HF&sid=_q1WbRyE4pPCHfhbAAD2 HTTP/1.1\" 200 -\n",
      "127.0.0.1 - - [28/Jul/2023 14:43:03] \"GET /socket.io/?EIO=4&transport=polling&t=OcUT2BD&sid=T6ALzhZbjKo9xi83AAD3 HTTP/1.1\" 200 -\n",
      "127.0.0.1 - - [28/Jul/2023 14:43:03] \"POST /socket.io/?EIO=4&transport=polling&t=OcUT8Hz&sid=T6ALzhZbjKo9xi83AAD3 HTTP/1.1\" 200 -\n"
     ]
    }
   ],
   "source": [
    "socketio.run(app, host='0.0.0.0', port=5001, allow_unsafe_werkzeug=True)"
   ]
  },
  {
   "cell_type": "code",
   "execution_count": null,
   "id": "b710870d-1716-49bb-affe-9b9cce0f0778",
   "metadata": {},
   "outputs": [],
   "source": []
  },
  {
   "cell_type": "code",
   "execution_count": null,
   "id": "77346155-810b-4cc6-a331-399e04a12458",
   "metadata": {},
   "outputs": [],
   "source": []
  },
  {
   "cell_type": "code",
   "execution_count": null,
   "id": "b401a6bc-d0b7-40f5-a6e5-2b6ab0218766",
   "metadata": {},
   "outputs": [],
   "source": []
  },
  {
   "cell_type": "code",
   "execution_count": null,
   "id": "95a456c0-08da-4ce9-af19-5c7c35b93a0d",
   "metadata": {},
   "outputs": [],
   "source": []
  }
 ],
 "metadata": {
  "kernelspec": {
   "display_name": "PermutationSetVenv",
   "language": "python",
   "name": "permutationsetvenv"
  },
  "language_info": {
   "codemirror_mode": {
    "name": "ipython",
    "version": 3
   },
   "file_extension": ".py",
   "mimetype": "text/x-python",
   "name": "python",
   "nbconvert_exporter": "python",
   "pygments_lexer": "ipython3",
   "version": "3.11.4"
  }
 },
 "nbformat": 4,
 "nbformat_minor": 5
}
